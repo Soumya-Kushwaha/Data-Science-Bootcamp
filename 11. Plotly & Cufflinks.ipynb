{
 "cells": [
  {
   "cell_type": "markdown",
   "id": "447f2ada",
   "metadata": {},
   "source": [
    "# PLOTLY & CUFFLINKS"
   ]
  },
  {
   "cell_type": "markdown",
   "id": "a67bca71",
   "metadata": {},
   "source": [
    "● Plotly is an interactive visualization library.<br>\n",
    "● Cufflinks connects plotly with pandas."
   ]
  },
  {
   "cell_type": "code",
   "execution_count": 1,
   "id": "9e7ec902",
   "metadata": {},
   "outputs": [],
   "source": [
    "import numpy as np\n",
    "import pandas as pd\n",
    "%matplotlib inline\n",
    "import chart_studio.plotly as py "
   ]
  },
  {
   "cell_type": "code",
   "execution_count": 2,
   "id": "b53f94de",
   "metadata": {},
   "outputs": [],
   "source": [
    "from plotly import __version__"
   ]
  },
  {
   "cell_type": "code",
   "execution_count": 3,
   "id": "b957a690",
   "metadata": {},
   "outputs": [
    {
     "name": "stdout",
     "output_type": "stream",
     "text": [
      "5.6.0\n"
     ]
    }
   ],
   "source": [
    "print(__version__)"
   ]
  },
  {
   "cell_type": "code",
   "execution_count": 4,
   "id": "7830f96d",
   "metadata": {},
   "outputs": [],
   "source": [
    "import cufflinks as cf"
   ]
  },
  {
   "cell_type": "code",
   "execution_count": 5,
   "id": "a3f5138c",
   "metadata": {},
   "outputs": [],
   "source": [
    "from plotly.offline import download_plotlyjs, init_notebook_mode, plot, iplot"
   ]
  },
  {
   "cell_type": "code",
   "execution_count": 6,
   "id": "42384a5b",
   "metadata": {},
   "outputs": [
    {
     "data": {
      "text/html": [
       "        <script type=\"text/javascript\">\n",
       "        window.PlotlyConfig = {MathJaxConfig: 'local'};\n",
       "        if (window.MathJax) {MathJax.Hub.Config({SVG: {font: \"STIX-Web\"}});}\n",
       "        if (typeof require !== 'undefined') {\n",
       "        require.undef(\"plotly\");\n",
       "        requirejs.config({\n",
       "            paths: {\n",
       "                'plotly': ['https://cdn.plot.ly/plotly-2.9.0.min']\n",
       "            }\n",
       "        });\n",
       "        require(['plotly'], function(Plotly) {\n",
       "            window._Plotly = Plotly;\n",
       "        });\n",
       "        }\n",
       "        </script>\n",
       "        "
      ]
     },
     "metadata": {},
     "output_type": "display_data"
    }
   ],
   "source": [
    "init_notebook_mode(connected=True)"
   ]
  },
  {
   "cell_type": "code",
   "execution_count": 7,
   "id": "b49c7502",
   "metadata": {},
   "outputs": [
    {
     "data": {
      "text/html": [
       "        <script type=\"text/javascript\">\n",
       "        window.PlotlyConfig = {MathJaxConfig: 'local'};\n",
       "        if (window.MathJax) {MathJax.Hub.Config({SVG: {font: \"STIX-Web\"}});}\n",
       "        if (typeof require !== 'undefined') {\n",
       "        require.undef(\"plotly\");\n",
       "        requirejs.config({\n",
       "            paths: {\n",
       "                'plotly': ['https://cdn.plot.ly/plotly-2.9.0.min']\n",
       "            }\n",
       "        });\n",
       "        require(['plotly'], function(Plotly) {\n",
       "            window._Plotly = Plotly;\n",
       "        });\n",
       "        }\n",
       "        </script>\n",
       "        "
      ]
     },
     "metadata": {},
     "output_type": "display_data"
    }
   ],
   "source": [
    "cf.go_offline()"
   ]
  },
  {
   "cell_type": "code",
   "execution_count": 8,
   "id": "87247742",
   "metadata": {},
   "outputs": [],
   "source": [
    " # DATA\n",
    "\n",
    "df1 = pd.DataFrame(np.random.randn(100,4), columns='A B C D'.split())"
   ]
  },
  {
   "cell_type": "code",
   "execution_count": 9,
   "id": "4649de8d",
   "metadata": {},
   "outputs": [
    {
     "data": {
      "text/html": [
       "<div>\n",
       "<style scoped>\n",
       "    .dataframe tbody tr th:only-of-type {\n",
       "        vertical-align: middle;\n",
       "    }\n",
       "\n",
       "    .dataframe tbody tr th {\n",
       "        vertical-align: top;\n",
       "    }\n",
       "\n",
       "    .dataframe thead th {\n",
       "        text-align: right;\n",
       "    }\n",
       "</style>\n",
       "<table border=\"1\" class=\"dataframe\">\n",
       "  <thead>\n",
       "    <tr style=\"text-align: right;\">\n",
       "      <th></th>\n",
       "      <th>A</th>\n",
       "      <th>B</th>\n",
       "      <th>C</th>\n",
       "      <th>D</th>\n",
       "    </tr>\n",
       "  </thead>\n",
       "  <tbody>\n",
       "    <tr>\n",
       "      <th>0</th>\n",
       "      <td>-0.382879</td>\n",
       "      <td>0.343360</td>\n",
       "      <td>0.250609</td>\n",
       "      <td>0.592133</td>\n",
       "    </tr>\n",
       "    <tr>\n",
       "      <th>1</th>\n",
       "      <td>-0.847090</td>\n",
       "      <td>-0.540024</td>\n",
       "      <td>0.521033</td>\n",
       "      <td>-1.142757</td>\n",
       "    </tr>\n",
       "    <tr>\n",
       "      <th>2</th>\n",
       "      <td>0.010195</td>\n",
       "      <td>0.396259</td>\n",
       "      <td>1.239213</td>\n",
       "      <td>-0.634012</td>\n",
       "    </tr>\n",
       "    <tr>\n",
       "      <th>3</th>\n",
       "      <td>0.730185</td>\n",
       "      <td>-1.712841</td>\n",
       "      <td>-0.446688</td>\n",
       "      <td>-0.716213</td>\n",
       "    </tr>\n",
       "    <tr>\n",
       "      <th>4</th>\n",
       "      <td>2.020918</td>\n",
       "      <td>-0.075091</td>\n",
       "      <td>-0.382239</td>\n",
       "      <td>0.097398</td>\n",
       "    </tr>\n",
       "  </tbody>\n",
       "</table>\n",
       "</div>"
      ],
      "text/plain": [
       "          A         B         C         D\n",
       "0 -0.382879  0.343360  0.250609  0.592133\n",
       "1 -0.847090 -0.540024  0.521033 -1.142757\n",
       "2  0.010195  0.396259  1.239213 -0.634012\n",
       "3  0.730185 -1.712841 -0.446688 -0.716213\n",
       "4  2.020918 -0.075091 -0.382239  0.097398"
      ]
     },
     "execution_count": 9,
     "metadata": {},
     "output_type": "execute_result"
    }
   ],
   "source": [
    "df1.head()"
   ]
  },
  {
   "cell_type": "code",
   "execution_count": 10,
   "id": "c09309dd",
   "metadata": {},
   "outputs": [],
   "source": [
    "df2 = pd.DataFrame({'Category':['A','B','C'], 'Values':[32,43,50]})"
   ]
  },
  {
   "cell_type": "code",
   "execution_count": 11,
   "id": "35e19536",
   "metadata": {},
   "outputs": [
    {
     "data": {
      "text/html": [
       "<div>\n",
       "<style scoped>\n",
       "    .dataframe tbody tr th:only-of-type {\n",
       "        vertical-align: middle;\n",
       "    }\n",
       "\n",
       "    .dataframe tbody tr th {\n",
       "        vertical-align: top;\n",
       "    }\n",
       "\n",
       "    .dataframe thead th {\n",
       "        text-align: right;\n",
       "    }\n",
       "</style>\n",
       "<table border=\"1\" class=\"dataframe\">\n",
       "  <thead>\n",
       "    <tr style=\"text-align: right;\">\n",
       "      <th></th>\n",
       "      <th>Category</th>\n",
       "      <th>Values</th>\n",
       "    </tr>\n",
       "  </thead>\n",
       "  <tbody>\n",
       "    <tr>\n",
       "      <th>0</th>\n",
       "      <td>A</td>\n",
       "      <td>32</td>\n",
       "    </tr>\n",
       "    <tr>\n",
       "      <th>1</th>\n",
       "      <td>B</td>\n",
       "      <td>43</td>\n",
       "    </tr>\n",
       "    <tr>\n",
       "      <th>2</th>\n",
       "      <td>C</td>\n",
       "      <td>50</td>\n",
       "    </tr>\n",
       "  </tbody>\n",
       "</table>\n",
       "</div>"
      ],
      "text/plain": [
       "  Category  Values\n",
       "0        A      32\n",
       "1        B      43\n",
       "2        C      50"
      ]
     },
     "execution_count": 11,
     "metadata": {},
     "output_type": "execute_result"
    }
   ],
   "source": [
    "df2.head()"
   ]
  },
  {
   "cell_type": "code",
   "execution_count": 12,
   "id": "88e744b3",
   "metadata": {},
   "outputs": [
    {
     "data": {
      "text/plain": [
       "<AxesSubplot:>"
      ]
     },
     "execution_count": 12,
     "metadata": {},
     "output_type": "execute_result"
    },
    {
     "data": {
      "image/png": "[encoded data removed]",
      "text/plain": [
       "<Figure size 432x288 with 1 Axes>"
      ]
     },
     "metadata": {
      "needs_background": "light"
     },
     "output_type": "display_data"
    }
   ],
   "source": [
    "df1.plot()"
   ]
  },
  {
   "cell_type": "code",
   "execution_count": 13,
   "id": "319d0d11",
   "metadata": {},
   "outputs": [
    {
     "data": {
      "application/vnd.plotly.v1+json": {
       "config": {
        "linkText": "Export to plot.ly",
        "plotlyServerURL": "https://plot.ly",
        "showLink": true
       },
       "data": [
        {
         "line": {
          "color": "rgba(255, 153, 51, 1.0)",
          "dash": "solid",
          "shape": "linear",
          "width": 1.3
         },
         "mode": "lines",
         "name": "A",
         "text": "",
         "type": "scatter",
         "x": [
          0,
          1,
          2,
          3,
          4,
          5,
          6,
          7,
          8,
          9,
          10,
          11,
          12,
          13,
          14,
          15,
          16,
          17,
          18,
          19,
          20,
          21,
          22,
          23,
          24,
          25,
          26,
          27,
          28,
          29,
          30,
          31,
          32,
          33,
          34,
          35,
          36,
          37,
          38,
          39,
          40,
          41,
          42,
          43,
          44,
          45,
          46,
          47,
          48,
          49,
          50,
          51,
          52,
          53,
          54,
          55,
          56,
          57,
          58,
          59,
          60,
          61,
          62,
          63,
          64,
          65,
          66,
          67,
          68,
          69,
          70,
          71,
          72,
          73,
          74,
          75,
          76,
          77,
          78,
          79,
          80,
          81,
          82,
          83,
          84,
          85,
          86,
          87,
          88,
          89,
          90,
          91,
          92,
          93,
          94,
          95,
          96,
          97,
          98,
          99
         ],
         "y": [
          -0.3828792050443604,
          -0.8470899644257714,
          0.010194864370989333,
          0.7301852076151661,
          2.0209176306324363,
          -1.5003016962844402,
          1.3118946476906856,
          -0.19669756499513247,
          -0.9076690966885811,
          -0.3237404643459652,
          0.637713854283272,
          -0.03454556326127818,
          0.7796925569817367,
          -1.4423716042022108,
          -2.5845985787359163,
          0.6619539111661311,
          -0.687009387052393,
          -0.07904947689258264,
          0.05497583547432276,
          -0.1251154272973603,
          1.4799840842985588,
          0.4823254913863216,
          -2.280333653758334,
          -0.7687965123125058,
          -1.9305826565370234,
          1.2028531218309138,
          0.11759314103585028,
          0.8219103216225514,
          -1.0600425527288615,
          -0.7924098829680032,
          0.591057506448477,
          0.010539468688751144,
          0.587916797008021,
          0.5345565463711455,
          0.23953843637909966,
          -1.3486453781610805,
          1.4539031141605863,
          -0.7434505578041772,
          -0.06974790232731734,
          -1.3438280814154056,
          0.15028835356929468,
          -0.10287723292446797,
          0.5337958367766493,
          -1.7910145450870145,
          -0.3528093066466839,
          0.28483534146724776,
          -0.2376793634250966,
          -1.1439375104416412,
          -1.6773681066280623,
          1.8838782542672348,
          1.0028758404607157,
          1.019052841097029,
          0.30651768295595916,
          0.4025551526198797,
          -0.8905919688553369,
          -1.382874757587919,
          -0.6816436627196745,
          0.03878334506085071,
          -1.3612397104403606,
          0.3197604660731154,
          -2.538319364008003,
          -1.2091878447993685,
          -0.5249346013368914,
          0.6692146290182188,
          -0.11840123236465151,
          0.8525194553867952,
          -0.6035975956715631,
          0.4283480479109968,
          0.9101749092891146,
          -0.8864024726325933,
          0.7775503744458712,
          -0.3116906590586294,
          -0.0789741170722278,
          -0.46571660288813044,
          -0.7366408087817952,
          -0.34057771638209616,
          1.4270333479578556,
          -0.0685312876711088,
          -2.590989928710988,
          0.54533421224908,
          -0.9316184663461683,
          -0.3357877632399068,
          -1.1004430354999835,
          -1.5112832772747995,
          0.9233033997807208,
          0.9248042476413013,
          0.23712657682615962,
          -1.7926116956644673,
          0.8262882219580409,
          0.41308190167379377,
          0.20507635069705696,
          1.1372928682815537,
          0.19672852705318208,
          1.032022543036123,
          -0.8498915495743655,
          -0.38007228545542127,
          -1.9829304093355187,
          0.05455520904456543,
          0.45889417897813106,
          -0.14456383999886627
         ]
        },
        {
         "line": {
          "color": "rgba(55, 128, 191, 1.0)",
          "dash": "solid",
          "shape": "linear",
          "width": 1.3
         },
         "mode": "lines",
         "name": "B",
         "text": "",
         "type": "scatter",
         "x": [
          0,
          1,
          2,
          3,
          4,
          5,
          6,
          7,
          8,
          9,
          10,
          11,
          12,
          13,
          14,
          15,
          16,
          17,
          18,
          19,
          20,
          21,
          22,
          23,
          24,
          25,
          26,
          27,
          28,
          29,
          30,
          31,
          32,
          33,
          34,
          35,
          36,
          37,
          38,
          39,
          40,
          41,
          42,
          43,
          44,
          45,
          46,
          47,
          48,
          49,
          50,
          51,
          52,
          53,
          54,
          55,
          56,
          57,
          58,
          59,
          60,
          61,
          62,
          63,
          64,
          65,
          66,
          67,
          68,
          69,
          70,
          71,
          72,
          73,
          74,
          75,
          76,
          77,
          78,
          79,
          80,
          81,
          82,
          83,
          84,
          85,
          86,
          87,
          88,
          89,
          90,
          91,
          92,
          93,
          94,
          95,
          96,
          97,
          98,
          99
         ],
         "y": [
          0.34335976624785236,
          -0.5400241296111232,
          0.39625879311483636,
          -1.712841088113455,
          -0.07509142065935204,
          -0.73806711582396,
          0.3883007262086318,
          -0.5719092755359968,
          -0.4088347497306631,
          0.2421573678163824,
          -0.6529781799711727,
          0.38854787692263476,
          0.06453030726300012,
          -0.6988816243862073,
          1.3129702162264079,
          1.1771113015017993,
          -0.9700610592238458,
          1.1808244820001328,
          -1.478327479994,
          -0.46108336232059793,
          0.24491015346100684,
          -0.7318916215779915,
          -1.7148688047324678,
          0.5518859965500226,
          -0.9191779247410646,
          1.1985025549693435,
          2.5581128801469877,
          -0.7762150887891556,
          -1.549934782178811,
          0.05201663776978928,
          1.5232217714596588,
          -0.44708035980241534,
          -0.9086628778502828,
          -0.27525104215952567,
          -0.3577790202540434,
          0.4811753508335344,
          -0.5887451051233683,
          -1.294270125275922,
          0.8523861547501889,
          0.7381047196318503,
          1.0644322360476512,
          1.5967001236435843,
          0.82247172376917,
          -1.645808080381747,
          0.6857054299863742,
          -0.9009862391622963,
          -1.257234685603805,
          0.563120200391336,
          -0.9621725292323109,
          -0.5933983360655105,
          0.1284819007413659,
          -0.4240882124272642,
          1.1118812763090071,
          -1.9227848733315895,
          -0.419556595005051,
          1.5272854460120502,
          0.9102671180274021,
          0.6786808331841732,
          -0.42366626781453104,
          -1.1247464588926015,
          0.5004369031549727,
          -1.422643181814059,
          -0.06352335456872109,
          -0.6140831914140193,
          0.5603086977341717,
          1.474751693797127,
          1.6512484343980032,
          -1.0210150242509708,
          -0.7432289383819919,
          1.3875297294630236,
          -0.6514939869833749,
          1.4721881339131935,
          1.518432510112827,
          0.03638510312744503,
          0.7270871221481457,
          1.0793079148027827,
          0.4072592314941338,
          0.5823303662801511,
          0.2779238844720935,
          1.3057489297021347,
          0.07351712777696348,
          -0.8794259892692825,
          0.29982770281056553,
          -0.3416568949263266,
          3.458170678509682,
          0.058799135304265615,
          -0.3884328992504171,
          0.545514744824541,
          0.24141281219690586,
          -1.212419426084278,
          1.441259323038795,
          0.8503394918604567,
          -0.8204208120323783,
          0.21563670697344076,
          2.8069650295546076,
          1.5238759774181017,
          -0.6621926922073339,
          -1.060870331126299,
          -1.2805044081418444,
          -1.2349226572849306
         ]
        },
        {
         "line": {
          "color": "rgba(50, 171, 96, 1.0)",
          "dash": "solid",
          "shape": "linear",
          "width": 1.3
         },
         "mode": "lines",
         "name": "C",
         "text": "",
         "type": "scatter",
         "x": [
          0,
          1,
          2,
          3,
          4,
          5,
          6,
          7,
          8,
          9,
          10,
          11,
          12,
          13,
          14,
          15,
          16,
          17,
          18,
          19,
          20,
          21,
          22,
          23,
          24,
          25,
          26,
          27,
          28,
          29,
          30,
          31,
          32,
          33,
          34,
          35,
          36,
          37,
          38,
          39,
          40,
          41,
          42,
          43,
          44,
          45,
          46,
          47,
          48,
          49,
          50,
          51,
          52,
          53,
          54,
          55,
          56,
          57,
          58,
          59,
          60,
          61,
          62,
          63,
          64,
          65,
          66,
          67,
          68,
          69,
          70,
          71,
          72,
          73,
          74,
          75,
          76,
          77,
          78,
          79,
          80,
          81,
          82,
          83,
          84,
          85,
          86,
          87,
          88,
          89,
          90,
          91,
          92,
          93,
          94,
          95,
          96,
          97,
          98,
          99
         ],
         "y": [
          0.2506092085793093,
          0.5210325936403227,
          1.239213358464694,
          -0.4466878782346689,
          -0.3822390633795185,
          -0.004193168373743429,
          0.31083507175692804,
          0.47014493079577385,
          -1.1556536917409108,
          -0.6757610308021511,
          -1.143836028015197,
          -0.8668866986037089,
          -3.1988150838934066,
          -0.7431034080655172,
          -0.40686358736988215,
          0.38817300614880124,
          -0.7249621219996307,
          1.1003757846228477,
          -0.3827825798596824,
          -1.9502233337660755,
          0.3165057808413265,
          0.6627391571225795,
          -0.3263229824933346,
          0.8285627583424173,
          0.9685477248448462,
          -2.9680823913015058,
          -1.4376379312345362,
          -1.7063194353908377,
          -0.27670004716137775,
          -0.5163377183768089,
          1.2437956186192953,
          0.35229549406432276,
          0.33258042113939507,
          -1.6057560516905556,
          0.44173661633579253,
          0.8191267704488735,
          0.05218990664378416,
          -0.18335279289604633,
          1.5162023789172292,
          -0.8833178708702997,
          1.3261569152294563,
          -0.11635473156903449,
          0.420635864279957,
          -0.9470924738177742,
          -0.43618797334177206,
          -0.42661623137309473,
          1.5416103231728577,
          -1.5596148002231116,
          0.01757030082496477,
          0.10140069671869259,
          1.5045891294248528,
          0.6902338347722542,
          1.4937463151241444,
          0.9002910845015439,
          0.5743890881715865,
          0.7562389480227537,
          -0.2001853168757039,
          -0.7157111539797419,
          -0.38765952959938493,
          -0.8572467787815908,
          0.2908470341192966,
          -0.9142824119313538,
          -0.3968746158328103,
          1.8688718784021316,
          -0.05217732449967453,
          1.4354670816758779,
          -1.0625152709489207,
          -0.5106587853056833,
          0.772057631583369,
          1.8018327650399475,
          -0.7958019648209217,
          2.006600168904022,
          -0.13292889152021703,
          0.32943355662723445,
          0.4108609828394416,
          2.0215940500491767,
          1.2016286063300015,
          1.3157545372633783,
          2.1135059883489045,
          2.19008158661078,
          -0.8143129683811934,
          0.23797298364722996,
          -1.6230732883970846,
          0.3084496100404266,
          0.4066710547761042,
          -0.4301381816226118,
          -1.491282679742187,
          -0.7552313272641786,
          -0.02249282109852578,
          0.020985550927711878,
          1.376036037255204,
          0.11425721932139542,
          -1.7920792205457143,
          -0.3136617620588843,
          0.9080291145166957,
          0.9552507049194106,
          -1.2999897780275405,
          -0.4293727950637242,
          0.21110400572437438,
          -0.23669025245583175
         ]
        },
        {
         "line": {
          "color": "rgba(128, 0, 128, 1.0)",
          "dash": "solid",
          "shape": "linear",
          "width": 1.3
         },
         "mode": "lines",
         "name": "D",
         "text": "",
         "type": "scatter",
         "x": [
          0,
          1,
          2,
          3,
          4,
          5,
          6,
          7,
          8,
          9,
          10,
          11,
          12,
          13,
          14,
          15,
          16,
          17,
          18,
          19,
          20,
          21,
          22,
          23,
          24,
          25,
          26,
          27,
          28,
          29,
          30,
          31,
          32,
          33,
          34,
          35,
          36,
          37,
          38,
          39,
          40,
          41,
          42,
          43,
          44,
          45,
          46,
          47,
          48,
          49,
          50,
          51,
          52,
          53,
          54,
          55,
          56,
          57,
          58,
          59,
          60,
          61,
          62,
          63,
          64,
          65,
          66,
          67,
          68,
          69,
          70,
          71,
          72,
          73,
          74,
          75,
          76,
          77,
          78,
          79,
          80,
          81,
          82,
          83,
          84,
          85,
          86,
          87,
          88,
          89,
          90,
          91,
          92,
          93,
          94,
          95,
          96,
          97,
          98,
          99
         ],
         "y": [
          0.592132628370577,
          -1.1427568771274301,
          -0.6340122630191883,
          -0.7162128894182691,
          0.09739810390787935,
          0.09159611881467758,
          -0.9668463002828019,
          -0.6208334020410122,
          0.12874503109489555,
          -0.3596561372712881,
          0.39013837317684175,
          0.9707203746231453,
          -1.849471788872194,
          -1.670949123446992,
          1.3990752041954768,
          -0.433939139689318,
          -0.44752017505281094,
          -2.134491404043168,
          -0.8356207928281586,
          1.2669953059648416,
          -0.26364190278517186,
          -0.03972649984227558,
          0.4107706478872919,
          0.8034938604696944,
          0.1797430430969131,
          -0.6029878381334249,
          0.5453303115260123,
          -0.22849871488659848,
          0.19840671579042543,
          -0.20075469668443507,
          -0.23837820844984284,
          0.7077555147181938,
          0.10728535871855505,
          -0.5961065955304026,
          0.6295775324655841,
          -2.1430311045813575,
          0.6461484336873898,
          0.1217479112963839,
          1.6345095310518332,
          -0.9607835683541878,
          -1.0677335273474948,
          1.2161328243610878,
          -0.06674068289256456,
          0.8395283207223901,
          -1.0741861262618164,
          -0.34730099283237337,
          0.5659354167689368,
          0.9123036110964656,
          -0.4871189389482929,
          1.5582944789663065,
          -2.104414717884187,
          -1.9082807636805286,
          0.20519240993648347,
          0.5830341861711636,
          0.06267896143655838,
          -2.202683825879842,
          -1.0614936236398618,
          -1.013092636573165,
          -0.7470592116179434,
          -1.0199280229765049,
          0.9875061756283474,
          -2.1080306341987796,
          0.8070667330078221,
          0.9094431465761287,
          -1.7629120134717562,
          -0.15994707522962706,
          0.41276947219161814,
          0.8381114480287192,
          -1.3365096723779204,
          -1.6329883056871755,
          0.10627979251486216,
          0.02004657791238379,
          -1.3229626726102046,
          1.2801780728052166,
          0.8345055826164722,
          0.9721200944205621,
          0.37734462188478013,
          -0.3223044195608128,
          0.7967565028396203,
          -0.6224089678483244,
          0.5828942342989621,
          0.03016169618375698,
          -1.696574544826665,
          0.09590877733994138,
          -0.5127741879834149,
          0.4383379018298321,
          1.0826621642886225,
          1.0592007327193345,
          -0.5232893508862395,
          1.2627601225631901,
          0.6589175272897498,
          1.022280331965757,
          -1.8153529724872977,
          -1.0861166191335576,
          0.017399232226795285,
          -1.9794890106589242,
          -0.2894486848694927,
          0.4794857286596619,
          0.13405219599547738,
          -0.9641648355507442
         ]
        }
       ],
       "layout": {
        "legend": {
         "bgcolor": "#F5F6F9",
         "font": {
          "color": "#4D5663"
         }
        },
        "paper_bgcolor": "#F5F6F9",
        "plot_bgcolor": "#F5F6F9",
        "template": {
         "data": {
          "bar": [
           {
            "error_x": {
             "color": "#2a3f5f"
            },
            "error_y": {
             "color": "#2a3f5f"
            },
            "marker": {
             "line": {
              "color": "#E5ECF6",
              "width": 0.5
             },
             "pattern": {
              "fillmode": "overlay",
              "size": 10,
              "solidity": 0.2
             }
            },
            "type": "bar"
           }
          ],
          "barpolar": [
           {
            "marker": {
             "line": {
              "color": "#E5ECF6",
              "width": 0.5
             },
             "pattern": {
              "fillmode": "overlay",
              "size": 10,
              "solidity": 0.2
             }
            },
            "type": "barpolar"
           }
          ],
          "carpet": [
           {
            "aaxis": {
             "endlinecolor": "#2a3f5f",
             "gridcolor": "white",
             "linecolor": "white",
             "minorgridcolor": "white",
             "startlinecolor": "#2a3f5f"
            },
            "baxis": {
             "endlinecolor": "#2a3f5f",
             "gridcolor": "white",
             "linecolor": "white",
             "minorgridcolor": "white",
             "startlinecolor": "#2a3f5f"
            },
            "type": "carpet"
           }
          ],
          "choropleth": [
           {
            "colorbar": {
             "outlinewidth": 0,
             "ticks": ""
            },
            "type": "choropleth"
           }
          ],
          "contour": [
           {
            "colorbar": {
             "outlinewidth": 0,
             "ticks": ""
            },
            "colorscale": [
             [
              0,
              "#0d0887"
             ],
             [
              0.1111111111111111,
              "#46039f"
             ],
             [
              0.2222222222222222,
              "#7201a8"
             ],
             [
              0.3333333333333333,
              "#9c179e"
             ],
             [
              0.4444444444444444,
              "#bd3786"
             ],
             [
              0.5555555555555556,
              "#d8576b"
             ],
             [
              0.6666666666666666,
              "#ed7953"
             ],
             [
              0.7777777777777778,
              "#fb9f3a"
             ],
             [
              0.8888888888888888,
              "#fdca26"
             ],
             [
              1,
              "#f0f921"
             ]
            ],
            "type": "contour"
           }
          ],
          "contourcarpet": [
           {
            "colorbar": {
             "outlinewidth": 0,
             "ticks": ""
            },
            "type": "contourcarpet"
           }
          ],
          "heatmap": [
           {
            "colorbar": {
             "outlinewidth": 0,
             "ticks": ""
            },
            "colorscale": [
             [
              0,
              "#0d0887"
             ],
             [
              0.1111111111111111,
              "#46039f"
             ],
             [
              0.2222222222222222,
              "#7201a8"
             ],
             [
              0.3333333333333333,
              "#9c179e"
             ],
             [
              0.4444444444444444,
              "#bd3786"
             ],
             [
              0.5555555555555556,
              "#d8576b"
             ],
             [
              0.6666666666666666,
              "#ed7953"
             ],
             [
              0.7777777777777778,
              "#fb9f3a"
             ],
             [
              0.8888888888888888,
              "#fdca26"
             ],
             [
              1,
              "#f0f921"
             ]
            ],
            "type": "heatmap"
           }
          ],
          "heatmapgl": [
           {
            "colorbar": {
             "outlinewidth": 0,
             "ticks": ""
            },
            "colorscale": [
             [
              0,
              "#0d0887"
             ],
             [
              0.1111111111111111,
              "#46039f"
             ],
             [
              0.2222222222222222,
              "#7201a8"
             ],
             [
              0.3333333333333333,
              "#9c179e"
             ],
             [
              0.4444444444444444,
              "#bd3786"
             ],
             [
              0.5555555555555556,
              "#d8576b"
             ],
             [
              0.6666666666666666,
              "#ed7953"
             ],
             [
              0.7777777777777778,
              "#fb9f3a"
             ],
             [
              0.8888888888888888,
              "#fdca26"
             ],
             [
              1,
              "#f0f921"
             ]
            ],
            "type": "heatmapgl"
           }
          ],
          "histogram": [
           {
            "marker": {
             "pattern": {
              "fillmode": "overlay",
              "size": 10,
              "solidity": 0.2
             }
            },
            "type": "histogram"
           }
          ],
          "histogram2d": [
           {
            "colorbar": {
             "outlinewidth": 0,
             "ticks": ""
            },
            "colorscale": [
             [
              0,
              "#0d0887"
             ],
             [
              0.1111111111111111,
              "#46039f"
             ],
             [
              0.2222222222222222,
              "#7201a8"
             ],
             [
              0.3333333333333333,
              "#9c179e"
             ],
             [
              0.4444444444444444,
              "#bd3786"
             ],
             [
              0.5555555555555556,
              "#d8576b"
             ],
             [
              0.6666666666666666,
              "#ed7953"
             ],
             [
              0.7777777777777778,
              "#fb9f3a"
             ],
             [
              0.8888888888888888,
              "#fdca26"
             ],
             [
              1,
              "#f0f921"
             ]
            ],
            "type": "histogram2d"
           }
          ],
          "histogram2dcontour": [
           {
            "colorbar": {
             "outlinewidth": 0,
             "ticks": ""
            },
            "colorscale": [
             [
              0,
              "#0d0887"
             ],
             [
              0.1111111111111111,
              "#46039f"
             ],
             [
              0.2222222222222222,
              "#7201a8"
             ],
             [
              0.3333333333333333,
              "#9c179e"
             ],
             [
              0.4444444444444444,
              "#bd3786"
             ],
             [
              0.5555555555555556,
              "#d8576b"
             ],
             [
              0.6666666666666666,
              "#ed7953"
             ],
             [
              0.7777777777777778,
              "#fb9f3a"
             ],
             [
              0.8888888888888888,
              "#fdca26"
             ],
             [
              1,
              "#f0f921"
             ]
            ],
            "type": "histogram2dcontour"
           }
          ],
          "mesh3d": [
           {
            "colorbar": {
             "outlinewidth": 0,
             "ticks": ""
            },
            "type": "mesh3d"
           }
          ],
          "parcoords": [
           {
            "line": {
             "colorbar": {
              "outlinewidth": 0,
              "ticks": ""
             }
            },
            "type": "parcoords"
           }
          ],
          "pie": [
           {
            "automargin": true,
            "type": "pie"
           }
          ],
          "scatter": [
           {
            "marker": {
             "colorbar": {
              "outlinewidth": 0,
              "ticks": ""
             }
            },
            "type": "scatter"
           }
          ],
          "scatter3d": [
           {
            "line": {
             "colorbar": {
              "outlinewidth": 0,
              "ticks": ""
             }
            },
            "marker": {
             "colorbar": {
              "outlinewidth": 0,
              "ticks": ""
             }
            },
            "type": "scatter3d"
           }
          ],
          "scattercarpet": [
           {
            "marker": {
             "colorbar": {
              "outlinewidth": 0,
              "ticks": ""
             }
            },
            "type": "scattercarpet"
           }
          ],
          "scattergeo": [
           {
            "marker": {
             "colorbar": {
              "outlinewidth": 0,
              "ticks": ""
             }
            },
            "type": "scattergeo"
           }
          ],
          "scattergl": [
           {
            "marker": {
             "colorbar": {
              "outlinewidth": 0,
              "ticks": ""
             }
            },
            "type": "scattergl"
           }
          ],
          "scattermapbox": [
           {
            "marker": {
             "colorbar": {
              "outlinewidth": 0,
              "ticks": ""
             }
            },
            "type": "scattermapbox"
           }
          ],
          "scatterpolar": [
           {
            "marker": {
             "colorbar": {
              "outlinewidth": 0,
              "ticks": ""
             }
            },
            "type": "scatterpolar"
           }
          ],
          "scatterpolargl": [
           {
            "marker": {
             "colorbar": {
              "outlinewidth": 0,
              "ticks": ""
             }
            },
            "type": "scatterpolargl"
           }
          ],
          "scatterternary": [
           {
            "marker": {
             "colorbar": {
              "outlinewidth": 0,
              "ticks": ""
             }
            },
            "type": "scatterternary"
           }
          ],
          "surface": [
           {
            "colorbar": {
             "outlinewidth": 0,
             "ticks": ""
            },
            "colorscale": [
             [
              0,
              "#0d0887"
             ],
             [
              0.1111111111111111,
              "#46039f"
             ],
             [
              0.2222222222222222,
              "#7201a8"
             ],
             [
              0.3333333333333333,
              "#9c179e"
             ],
             [
              0.4444444444444444,
              "#bd3786"
             ],
             [
              0.5555555555555556,
              "#d8576b"
             ],
             [
              0.6666666666666666,
              "#ed7953"
             ],
             [
              0.7777777777777778,
              "#fb9f3a"
             ],
             [
              0.8888888888888888,
              "#fdca26"
             ],
             [
              1,
              "#f0f921"
             ]
            ],
            "type": "surface"
           }
          ],
          "table": [
           {
            "cells": {
             "fill": {
              "color": "#EBF0F8"
             },
             "line": {
              "color": "white"
             }
            },
            "header": {
             "fill": {
              "color": "#C8D4E3"
             },
             "line": {
              "color": "white"
             }
            },
            "type": "table"
           }
          ]
         },
         "layout": {
          "annotationdefaults": {
           "arrowcolor": "#2a3f5f",
           "arrowhead": 0,
           "arrowwidth": 1
          },
          "autotypenumbers": "strict",
          "coloraxis": {
           "colorbar": {
            "outlinewidth": 0,
            "ticks": ""
           }
          },
          "colorscale": {
           "diverging": [
            [
             0,
             "#8e0152"
            ],
            [
             0.1,
             "#c51b7d"
            ],
            [
             0.2,
             "#de77ae"
            ],
            [
             0.3,
             "#f1b6da"
            ],
            [
             0.4,
             "#fde0ef"
            ],
            [
             0.5,
             "#f7f7f7"
            ],
            [
             0.6,
             "#e6f5d0"
            ],
            [
             0.7,
             "#b8e186"
            ],
            [
             0.8,
             "#7fbc41"
            ],
            [
             0.9,
             "#4d9221"
            ],
            [
             1,
             "#276419"
            ]
           ],
           "sequential": [
            [
             0,
             "#0d0887"
            ],
            [
             0.1111111111111111,
             "#46039f"
            ],
            [
             0.2222222222222222,
             "#7201a8"
            ],
            [
             0.3333333333333333,
             "#9c179e"
            ],
            [
             0.4444444444444444,
             "#bd3786"
            ],
            [
             0.5555555555555556,
             "#d8576b"
            ],
            [
             0.6666666666666666,
             "#ed7953"
            ],
            [
             0.7777777777777778,
             "#fb9f3a"
            ],
            [
             0.8888888888888888,
             "#fdca26"
            ],
            [
             1,
             "#f0f921"
            ]
           ],
           "sequentialminus": [
            [
             0,
             "#0d0887"
            ],
            [
             0.1111111111111111,
             "#46039f"
            ],
            [
             0.2222222222222222,
             "#7201a8"
            ],
            [
             0.3333333333333333,
             "#9c179e"
            ],
            [
             0.4444444444444444,
             "#bd3786"
            ],
            [
             0.5555555555555556,
             "#d8576b"
            ],
            [
             0.6666666666666666,
             "#ed7953"
            ],
            [
             0.7777777777777778,
             "#fb9f3a"
            ],
            [
             0.8888888888888888,
             "#fdca26"
            ],
            [
             1,
             "#f0f921"
            ]
           ]
          },
          "colorway": [
           "#636efa",
           "#EF553B",
           "#00cc96",
           "#ab63fa",
           "#FFA15A",
           "#19d3f3",
           "#FF6692",
           "#B6E880",
           "#FF97FF",
           "#FECB52"
          ],
          "font": {
           "color": "#2a3f5f"
          },
          "geo": {
           "bgcolor": "white",
           "lakecolor": "white",
           "landcolor": "#E5ECF6",
           "showlakes": true,
           "showland": true,
           "subunitcolor": "white"
          },
          "hoverlabel": {
           "align": "left"
          },
          "hovermode": "closest",
          "mapbox": {
           "style": "light"
          },
          "paper_bgcolor": "white",
          "plot_bgcolor": "#E5ECF6",
          "polar": {
           "angularaxis": {
            "gridcolor": "white",
            "linecolor": "white",
            "ticks": ""
           },
           "bgcolor": "#E5ECF6",
           "radialaxis": {
            "gridcolor": "white",
            "linecolor": "white",
            "ticks": ""
           }
          },
          "scene": {
           "xaxis": {
            "backgroundcolor": "#E5ECF6",
            "gridcolor": "white",
            "gridwidth": 2,
            "linecolor": "white",
            "showbackground": true,
            "ticks": "",
            "zerolinecolor": "white"
           },
           "yaxis": {
            "backgroundcolor": "#E5ECF6",
            "gridcolor": "white",
            "gridwidth": 2,
            "linecolor": "white",
            "showbackground": true,
            "ticks": "",
            "zerolinecolor": "white"
           },
           "zaxis": {
            "backgroundcolor": "#E5ECF6",
            "gridcolor": "white",
            "gridwidth": 2,
            "linecolor": "white",
            "showbackground": true,
            "ticks": "",
            "zerolinecolor": "white"
           }
          },
          "shapedefaults": {
           "line": {
            "color": "#2a3f5f"
           }
          },
          "ternary": {
           "aaxis": {
            "gridcolor": "white",
            "linecolor": "white",
            "ticks": ""
           },
           "baxis": {
            "gridcolor": "white",
            "linecolor": "white",
            "ticks": ""
           },
           "bgcolor": "#E5ECF6",
           "caxis": {
            "gridcolor": "white",
            "linecolor": "white",
            "ticks": ""
           }
          },
          "title": {
           "x": 0.05
          },
          "xaxis": {
           "automargin": true,
           "gridcolor": "white",
           "linecolor": "white",
           "ticks": "",
           "title": {
            "standoff": 15
           },
           "zerolinecolor": "white",
           "zerolinewidth": 2
          },
          "yaxis": {
           "automargin": true,
           "gridcolor": "white",
           "linecolor": "white",
           "ticks": "",
           "title": {
            "standoff": 15
           },
           "zerolinecolor": "white",
           "zerolinewidth": 2
          }
         }
        },
        "title": {
         "font": {
          "color": "#4D5663"
         }
        },
        "xaxis": {
         "gridcolor": "#E1E5ED",
         "showgrid": true,
         "tickfont": {
          "color": "#4D5663"
         },
         "title": {
          "font": {
           "color": "#4D5663"
          },
          "text": ""
         },
         "zerolinecolor": "#E1E5ED"
        },
        "yaxis": {
         "gridcolor": "#E1E5ED",
         "showgrid": true,
         "tickfont": {
          "color": "#4D5663"
         },
         "title": {
          "font": {
           "color": "#4D5663"
          },
          "text": ""
         },
         "zerolinecolor": "#E1E5ED"
        }
       }
      },
      "text/html": [
       "<div>                            <div id=\"3b3f70ae-dac0-40e4-8fad-9c2775f60cac\" class=\"plotly-graph-div\" style=\"height:525px; width:100%;\"></div>            <script type=\"text/javascript\">                require([\"plotly\"], function(Plotly) {                    window.PLOTLYENV=window.PLOTLYENV || {};\n",
       "                    window.PLOTLYENV.BASE_URL='https://plot.ly';                                    if (document.getElementById(\"3b3f70ae-dac0-40e4-8fad-9c2775f60cac\")) {                    Plotly.newPlot(                        \"3b3f70ae-dac0-40e4-8fad-9c2775f60cac\",                        [{\"line\":{\"color\":\"rgba(255, 153, 51, 1.0)\",\"dash\":\"solid\",\"shape\":\"linear\",\"width\":1.3},\"mode\":\"lines\",\"name\":\"A\",\"text\":\"\",\"x\":[0,1,2,3,4,5,6,7,8,9,10,11,12,13,14,15,16,17,18,19,20,21,22,23,24,25,26,27,28,29,30,31,32,33,34,35,36,37,38,39,40,41,42,43,44,45,46,47,48,49,50,51,52,53,54,55,56,57,58,59,60,61,62,63,64,65,66,67,68,69,70,71,72,73,74,75,76,77,78,79,80,81,82,83,84,85,86,87,88,89,90,91,92,93,94,95,96,97,98,99],\"y\":[-0.3828792050443604,-0.8470899644257714,0.010194864370989333,0.7301852076151661,2.0209176306324363,-1.5003016962844402,1.3118946476906856,-0.19669756499513247,-0.9076690966885811,-0.3237404643459652,0.637713854283272,-0.03454556326127818,0.7796925569817367,-1.4423716042022108,-2.5845985787359163,0.6619539111661311,-0.687009387052393,-0.07904947689258264,0.05497583547432276,-0.1251154272973603,1.4799840842985588,0.4823254913863216,-2.280333653758334,-0.7687965123125058,-1.9305826565370234,1.2028531218309138,0.11759314103585028,0.8219103216225514,-1.0600425527288615,-0.7924098829680032,0.591057506448477,0.010539468688751144,0.587916797008021,0.5345565463711455,0.23953843637909966,-1.3486453781610805,1.4539031141605863,-0.7434505578041772,-0.06974790232731734,-1.3438280814154056,0.15028835356929468,-0.10287723292446797,0.5337958367766493,-1.7910145450870145,-0.3528093066466839,0.28483534146724776,-0.2376793634250966,-1.1439375104416412,-1.6773681066280623,1.8838782542672348,1.0028758404607157,1.019052841097029,0.30651768295595916,0.4025551526198797,-0.8905919688553369,-1.382874757587919,-0.6816436627196745,0.03878334506085071,-1.3612397104403606,0.3197604660731154,-2.538319364008003,-1.2091878447993685,-0.5249346013368914,0.6692146290182188,-0.11840123236465151,0.8525194553867952,-0.6035975956715631,0.4283480479109968,0.9101749092891146,-0.8864024726325933,0.7775503744458712,-0.3116906590586294,-0.0789741170722278,-0.46571660288813044,-0.7366408087817952,-0.34057771638209616,1.4270333479578556,-0.0685312876711088,-2.590989928710988,0.54533421224908,-0.9316184663461683,-0.3357877632399068,-1.1004430354999835,-1.5112832772747995,0.9233033997807208,0.9248042476413013,0.23712657682615962,-1.7926116956644673,0.8262882219580409,0.41308190167379377,0.20507635069705696,1.1372928682815537,0.19672852705318208,1.032022543036123,-0.8498915495743655,-0.38007228545542127,-1.9829304093355187,0.05455520904456543,0.45889417897813106,-0.14456383999886627],\"type\":\"scatter\"},{\"line\":{\"color\":\"rgba(55, 128, 191, 1.0)\",\"dash\":\"solid\",\"shape\":\"linear\",\"width\":1.3},\"mode\":\"lines\",\"name\":\"B\",\"text\":\"\",\"x\":[0,1,2,3,4,5,6,7,8,9,10,11,12,13,14,15,16,17,18,19,20,21,22,23,24,25,26,27,28,29,30,31,32,33,34,35,36,37,38,39,40,41,42,43,44,45,46,47,48,49,50,51,52,53,54,55,56,57,58,59,60,61,62,63,64,65,66,67,68,69,70,71,72,73,74,75,76,77,78,79,80,81,82,83,84,85,86,87,88,89,90,91,92,93,94,95,96,97,98,99],\"y\":[0.34335976624785236,-0.5400241296111232,0.39625879311483636,-1.712841088113455,-0.07509142065935204,-0.73806711582396,0.3883007262086318,-0.5719092755359968,-0.4088347497306631,0.2421573678163824,-0.6529781799711727,0.38854787692263476,0.06453030726300012,-0.6988816243862073,1.3129702162264079,1.1771113015017993,-0.9700610592238458,1.1808244820001328,-1.478327479994,-0.46108336232059793,0.24491015346100684,-0.7318916215779915,-1.7148688047324678,0.5518859965500226,-0.9191779247410646,1.1985025549693435,2.5581128801469877,-0.7762150887891556,-1.549934782178811,0.05201663776978928,1.5232217714596588,-0.44708035980241534,-0.9086628778502828,-0.27525104215952567,-0.3577790202540434,0.4811753508335344,-0.5887451051233683,-1.294270125275922,0.8523861547501889,0.7381047196318503,1.0644322360476512,1.5967001236435843,0.82247172376917,-1.645808080381747,0.6857054299863742,-0.9009862391622963,-1.257234685603805,0.563120200391336,-0.9621725292323109,-0.5933983360655105,0.1284819007413659,-0.4240882124272642,1.1118812763090071,-1.9227848733315895,-0.419556595005051,1.5272854460120502,0.9102671180274021,0.6786808331841732,-0.42366626781453104,-1.1247464588926015,0.5004369031549727,-1.422643181814059,-0.06352335456872109,-0.6140831914140193,0.5603086977341717,1.474751693797127,1.6512484343980032,-1.0210150242509708,-0.7432289383819919,1.3875297294630236,-0.6514939869833749,1.4721881339131935,1.518432510112827,0.03638510312744503,0.7270871221481457,1.0793079148027827,0.4072592314941338,0.5823303662801511,0.2779238844720935,1.3057489297021347,0.07351712777696348,-0.8794259892692825,0.29982770281056553,-0.3416568949263266,3.458170678509682,0.058799135304265615,-0.3884328992504171,0.545514744824541,0.24141281219690586,-1.212419426084278,1.441259323038795,0.8503394918604567,-0.8204208120323783,0.21563670697344076,2.8069650295546076,1.5238759774181017,-0.6621926922073339,-1.060870331126299,-1.2805044081418444,-1.2349226572849306],\"type\":\"scatter\"},{\"line\":{\"color\":\"rgba(50, 171, 96, 1.0)\",\"dash\":\"solid\",\"shape\":\"linear\",\"width\":1.3},\"mode\":\"lines\",\"name\":\"C\",\"text\":\"\",\"x\":[0,1,2,3,4,5,6,7,8,9,10,11,12,13,14,15,16,17,18,19,20,21,22,23,24,25,26,27,28,29,30,31,32,33,34,35,36,37,38,39,40,41,42,43,44,45,46,47,48,49,50,51,52,53,54,55,56,57,58,59,60,61,62,63,64,65,66,67,68,69,70,71,72,73,74,75,76,77,78,79,80,81,82,83,84,85,86,87,88,89,90,91,92,93,94,95,96,97,98,99],\"y\":[0.2506092085793093,0.5210325936403227,1.239213358464694,-0.4466878782346689,-0.3822390633795185,-0.004193168373743429,0.31083507175692804,0.47014493079577385,-1.1556536917409108,-0.6757610308021511,-1.143836028015197,-0.8668866986037089,-3.1988150838934066,-0.7431034080655172,-0.40686358736988215,0.38817300614880124,-0.7249621219996307,1.1003757846228477,-0.3827825798596824,-1.9502233337660755,0.3165057808413265,0.6627391571225795,-0.3263229824933346,0.8285627583424173,0.9685477248448462,-2.9680823913015058,-1.4376379312345362,-1.7063194353908377,-0.27670004716137775,-0.5163377183768089,1.2437956186192953,0.35229549406432276,0.33258042113939507,-1.6057560516905556,0.44173661633579253,0.8191267704488735,0.05218990664378416,-0.18335279289604633,1.5162023789172292,-0.8833178708702997,1.3261569152294563,-0.11635473156903449,0.420635864279957,-0.9470924738177742,-0.43618797334177206,-0.42661623137309473,1.5416103231728577,-1.5596148002231116,0.01757030082496477,0.10140069671869259,1.5045891294248528,0.6902338347722542,1.4937463151241444,0.9002910845015439,0.5743890881715865,0.7562389480227537,-0.2001853168757039,-0.7157111539797419,-0.38765952959938493,-0.8572467787815908,0.2908470341192966,-0.9142824119313538,-0.3968746158328103,1.8688718784021316,-0.05217732449967453,1.4354670816758779,-1.0625152709489207,-0.5106587853056833,0.772057631583369,1.8018327650399475,-0.7958019648209217,2.006600168904022,-0.13292889152021703,0.32943355662723445,0.4108609828394416,2.0215940500491767,1.2016286063300015,1.3157545372633783,2.1135059883489045,2.19008158661078,-0.8143129683811934,0.23797298364722996,-1.6230732883970846,0.3084496100404266,0.4066710547761042,-0.4301381816226118,-1.491282679742187,-0.7552313272641786,-0.02249282109852578,0.020985550927711878,1.376036037255204,0.11425721932139542,-1.7920792205457143,-0.3136617620588843,0.9080291145166957,0.9552507049194106,-1.2999897780275405,-0.4293727950637242,0.21110400572437438,-0.23669025245583175],\"type\":\"scatter\"},{\"line\":{\"color\":\"rgba(128, 0, 128, 1.0)\",\"dash\":\"solid\",\"shape\":\"linear\",\"width\":1.3},\"mode\":\"lines\",\"name\":\"D\",\"text\":\"\",\"x\":[0,1,2,3,4,5,6,7,8,9,10,11,12,13,14,15,16,17,18,19,20,21,22,23,24,25,26,27,28,29,30,31,32,33,34,35,36,37,38,39,40,41,42,43,44,45,46,47,48,49,50,51,52,53,54,55,56,57,58,59,60,61,62,63,64,65,66,67,68,69,70,71,72,73,74,75,76,77,78,79,80,81,82,83,84,85,86,87,88,89,90,91,92,93,94,95,96,97,98,99],\"y\":[0.592132628370577,-1.1427568771274301,-0.6340122630191883,-0.7162128894182691,0.09739810390787935,0.09159611881467758,-0.9668463002828019,-0.6208334020410122,0.12874503109489555,-0.3596561372712881,0.39013837317684175,0.9707203746231453,-1.849471788872194,-1.670949123446992,1.3990752041954768,-0.433939139689318,-0.44752017505281094,-2.134491404043168,-0.8356207928281586,1.2669953059648416,-0.26364190278517186,-0.03972649984227558,0.4107706478872919,0.8034938604696944,0.1797430430969131,-0.6029878381334249,0.5453303115260123,-0.22849871488659848,0.19840671579042543,-0.20075469668443507,-0.23837820844984284,0.7077555147181938,0.10728535871855505,-0.5961065955304026,0.6295775324655841,-2.1430311045813575,0.6461484336873898,0.1217479112963839,1.6345095310518332,-0.9607835683541878,-1.0677335273474948,1.2161328243610878,-0.06674068289256456,0.8395283207223901,-1.0741861262618164,-0.34730099283237337,0.5659354167689368,0.9123036110964656,-0.4871189389482929,1.5582944789663065,-2.104414717884187,-1.9082807636805286,0.20519240993648347,0.5830341861711636,0.06267896143655838,-2.202683825879842,-1.0614936236398618,-1.013092636573165,-0.7470592116179434,-1.0199280229765049,0.9875061756283474,-2.1080306341987796,0.8070667330078221,0.9094431465761287,-1.7629120134717562,-0.15994707522962706,0.41276947219161814,0.8381114480287192,-1.3365096723779204,-1.6329883056871755,0.10627979251486216,0.02004657791238379,-1.3229626726102046,1.2801780728052166,0.8345055826164722,0.9721200944205621,0.37734462188478013,-0.3223044195608128,0.7967565028396203,-0.6224089678483244,0.5828942342989621,0.03016169618375698,-1.696574544826665,0.09590877733994138,-0.5127741879834149,0.4383379018298321,1.0826621642886225,1.0592007327193345,-0.5232893508862395,1.2627601225631901,0.6589175272897498,1.022280331965757,-1.8153529724872977,-1.0861166191335576,0.017399232226795285,-1.9794890106589242,-0.2894486848694927,0.4794857286596619,0.13405219599547738,-0.9641648355507442],\"type\":\"scatter\"}],                        {\"legend\":{\"bgcolor\":\"#F5F6F9\",\"font\":{\"color\":\"#4D5663\"}},\"paper_bgcolor\":\"#F5F6F9\",\"plot_bgcolor\":\"#F5F6F9\",\"template\":{\"data\":{\"barpolar\":[{\"marker\":{\"line\":{\"color\":\"#E5ECF6\",\"width\":0.5},\"pattern\":{\"fillmode\":\"overlay\",\"size\":10,\"solidity\":0.2}},\"type\":\"barpolar\"}],\"bar\":[{\"error_x\":{\"color\":\"#2a3f5f\"},\"error_y\":{\"color\":\"#2a3f5f\"},\"marker\":{\"line\":{\"color\":\"#E5ECF6\",\"width\":0.5},\"pattern\":{\"fillmode\":\"overlay\",\"size\":10,\"solidity\":0.2}},\"type\":\"bar\"}],\"carpet\":[{\"aaxis\":{\"endlinecolor\":\"#2a3f5f\",\"gridcolor\":\"white\",\"linecolor\":\"white\",\"minorgridcolor\":\"white\",\"startlinecolor\":\"#2a3f5f\"},\"baxis\":{\"endlinecolor\":\"#2a3f5f\",\"gridcolor\":\"white\",\"linecolor\":\"white\",\"minorgridcolor\":\"white\",\"startlinecolor\":\"#2a3f5f\"},\"type\":\"carpet\"}],\"choropleth\":[{\"colorbar\":{\"outlinewidth\":0,\"ticks\":\"\"},\"type\":\"choropleth\"}],\"contourcarpet\":[{\"colorbar\":{\"outlinewidth\":0,\"ticks\":\"\"},\"type\":\"contourcarpet\"}],\"contour\":[{\"colorbar\":{\"outlinewidth\":0,\"ticks\":\"\"},\"colorscale\":[[0.0,\"#0d0887\"],[0.1111111111111111,\"#46039f\"],[0.2222222222222222,\"#7201a8\"],[0.3333333333333333,\"#9c179e\"],[0.4444444444444444,\"#bd3786\"],[0.5555555555555556,\"#d8576b\"],[0.6666666666666666,\"#ed7953\"],[0.7777777777777778,\"#fb9f3a\"],[0.8888888888888888,\"#fdca26\"],[1.0,\"#f0f921\"]],\"type\":\"contour\"}],\"heatmapgl\":[{\"colorbar\":{\"outlinewidth\":0,\"ticks\":\"\"},\"colorscale\":[[0.0,\"#0d0887\"],[0.1111111111111111,\"#46039f\"],[0.2222222222222222,\"#7201a8\"],[0.3333333333333333,\"#9c179e\"],[0.4444444444444444,\"#bd3786\"],[0.5555555555555556,\"#d8576b\"],[0.6666666666666666,\"#ed7953\"],[0.7777777777777778,\"#fb9f3a\"],[0.8888888888888888,\"#fdca26\"],[1.0,\"#f0f921\"]],\"type\":\"heatmapgl\"}],\"heatmap\":[{\"colorbar\":{\"outlinewidth\":0,\"ticks\":\"\"},\"colorscale\":[[0.0,\"#0d0887\"],[0.1111111111111111,\"#46039f\"],[0.2222222222222222,\"#7201a8\"],[0.3333333333333333,\"#9c179e\"],[0.4444444444444444,\"#bd3786\"],[0.5555555555555556,\"#d8576b\"],[0.6666666666666666,\"#ed7953\"],[0.7777777777777778,\"#fb9f3a\"],[0.8888888888888888,\"#fdca26\"],[1.0,\"#f0f921\"]],\"type\":\"heatmap\"}],\"histogram2dcontour\":[{\"colorbar\":{\"outlinewidth\":0,\"ticks\":\"\"},\"colorscale\":[[0.0,\"#0d0887\"],[0.1111111111111111,\"#46039f\"],[0.2222222222222222,\"#7201a8\"],[0.3333333333333333,\"#9c179e\"],[0.4444444444444444,\"#bd3786\"],[0.5555555555555556,\"#d8576b\"],[0.6666666666666666,\"#ed7953\"],[0.7777777777777778,\"#fb9f3a\"],[0.8888888888888888,\"#fdca26\"],[1.0,\"#f0f921\"]],\"type\":\"histogram2dcontour\"}],\"histogram2d\":[{\"colorbar\":{\"outlinewidth\":0,\"ticks\":\"\"},\"colorscale\":[[0.0,\"#0d0887\"],[0.1111111111111111,\"#46039f\"],[0.2222222222222222,\"#7201a8\"],[0.3333333333333333,\"#9c179e\"],[0.4444444444444444,\"#bd3786\"],[0.5555555555555556,\"#d8576b\"],[0.6666666666666666,\"#ed7953\"],[0.7777777777777778,\"#fb9f3a\"],[0.8888888888888888,\"#fdca26\"],[1.0,\"#f0f921\"]],\"type\":\"histogram2d\"}],\"histogram\":[{\"marker\":{\"pattern\":{\"fillmode\":\"overlay\",\"size\":10,\"solidity\":0.2}},\"type\":\"histogram\"}],\"mesh3d\":[{\"colorbar\":{\"outlinewidth\":0,\"ticks\":\"\"},\"type\":\"mesh3d\"}],\"parcoords\":[{\"line\":{\"colorbar\":{\"outlinewidth\":0,\"ticks\":\"\"}},\"type\":\"parcoords\"}],\"pie\":[{\"automargin\":true,\"type\":\"pie\"}],\"scatter3d\":[{\"line\":{\"colorbar\":{\"outlinewidth\":0,\"ticks\":\"\"}},\"marker\":{\"colorbar\":{\"outlinewidth\":0,\"ticks\":\"\"}},\"type\":\"scatter3d\"}],\"scattercarpet\":[{\"marker\":{\"colorbar\":{\"outlinewidth\":0,\"ticks\":\"\"}},\"type\":\"scattercarpet\"}],\"scattergeo\":[{\"marker\":{\"colorbar\":{\"outlinewidth\":0,\"ticks\":\"\"}},\"type\":\"scattergeo\"}],\"scattergl\":[{\"marker\":{\"colorbar\":{\"outlinewidth\":0,\"ticks\":\"\"}},\"type\":\"scattergl\"}],\"scattermapbox\":[{\"marker\":{\"colorbar\":{\"outlinewidth\":0,\"ticks\":\"\"}},\"type\":\"scattermapbox\"}],\"scatterpolargl\":[{\"marker\":{\"colorbar\":{\"outlinewidth\":0,\"ticks\":\"\"}},\"type\":\"scatterpolargl\"}],\"scatterpolar\":[{\"marker\":{\"colorbar\":{\"outlinewidth\":0,\"ticks\":\"\"}},\"type\":\"scatterpolar\"}],\"scatter\":[{\"marker\":{\"colorbar\":{\"outlinewidth\":0,\"ticks\":\"\"}},\"type\":\"scatter\"}],\"scatterternary\":[{\"marker\":{\"colorbar\":{\"outlinewidth\":0,\"ticks\":\"\"}},\"type\":\"scatterternary\"}],\"surface\":[{\"colorbar\":{\"outlinewidth\":0,\"ticks\":\"\"},\"colorscale\":[[0.0,\"#0d0887\"],[0.1111111111111111,\"#46039f\"],[0.2222222222222222,\"#7201a8\"],[0.3333333333333333,\"#9c179e\"],[0.4444444444444444,\"#bd3786\"],[0.5555555555555556,\"#d8576b\"],[0.6666666666666666,\"#ed7953\"],[0.7777777777777778,\"#fb9f3a\"],[0.8888888888888888,\"#fdca26\"],[1.0,\"#f0f921\"]],\"type\":\"surface\"}],\"table\":[{\"cells\":{\"fill\":{\"color\":\"#EBF0F8\"},\"line\":{\"color\":\"white\"}},\"header\":{\"fill\":{\"color\":\"#C8D4E3\"},\"line\":{\"color\":\"white\"}},\"type\":\"table\"}]},\"layout\":{\"annotationdefaults\":{\"arrowcolor\":\"#2a3f5f\",\"arrowhead\":0,\"arrowwidth\":1},\"autotypenumbers\":\"strict\",\"coloraxis\":{\"colorbar\":{\"outlinewidth\":0,\"ticks\":\"\"}},\"colorscale\":{\"diverging\":[[0,\"#8e0152\"],[0.1,\"#c51b7d\"],[0.2,\"#de77ae\"],[0.3,\"#f1b6da\"],[0.4,\"#fde0ef\"],[0.5,\"#f7f7f7\"],[0.6,\"#e6f5d0\"],[0.7,\"#b8e186\"],[0.8,\"#7fbc41\"],[0.9,\"#4d9221\"],[1,\"#276419\"]],\"sequential\":[[0.0,\"#0d0887\"],[0.1111111111111111,\"#46039f\"],[0.2222222222222222,\"#7201a8\"],[0.3333333333333333,\"#9c179e\"],[0.4444444444444444,\"#bd3786\"],[0.5555555555555556,\"#d8576b\"],[0.6666666666666666,\"#ed7953\"],[0.7777777777777778,\"#fb9f3a\"],[0.8888888888888888,\"#fdca26\"],[1.0,\"#f0f921\"]],\"sequentialminus\":[[0.0,\"#0d0887\"],[0.1111111111111111,\"#46039f\"],[0.2222222222222222,\"#7201a8\"],[0.3333333333333333,\"#9c179e\"],[0.4444444444444444,\"#bd3786\"],[0.5555555555555556,\"#d8576b\"],[0.6666666666666666,\"#ed7953\"],[0.7777777777777778,\"#fb9f3a\"],[0.8888888888888888,\"#fdca26\"],[1.0,\"#f0f921\"]]},\"colorway\":[\"#636efa\",\"#EF553B\",\"#00cc96\",\"#ab63fa\",\"#FFA15A\",\"#19d3f3\",\"#FF6692\",\"#B6E880\",\"#FF97FF\",\"#FECB52\"],\"font\":{\"color\":\"#2a3f5f\"},\"geo\":{\"bgcolor\":\"white\",\"lakecolor\":\"white\",\"landcolor\":\"#E5ECF6\",\"showlakes\":true,\"showland\":true,\"subunitcolor\":\"white\"},\"hoverlabel\":{\"align\":\"left\"},\"hovermode\":\"closest\",\"mapbox\":{\"style\":\"light\"},\"paper_bgcolor\":\"white\",\"plot_bgcolor\":\"#E5ECF6\",\"polar\":{\"angularaxis\":{\"gridcolor\":\"white\",\"linecolor\":\"white\",\"ticks\":\"\"},\"bgcolor\":\"#E5ECF6\",\"radialaxis\":{\"gridcolor\":\"white\",\"linecolor\":\"white\",\"ticks\":\"\"}},\"scene\":{\"xaxis\":{\"backgroundcolor\":\"#E5ECF6\",\"gridcolor\":\"white\",\"gridwidth\":2,\"linecolor\":\"white\",\"showbackground\":true,\"ticks\":\"\",\"zerolinecolor\":\"white\"},\"yaxis\":{\"backgroundcolor\":\"#E5ECF6\",\"gridcolor\":\"white\",\"gridwidth\":2,\"linecolor\":\"white\",\"showbackground\":true,\"ticks\":\"\",\"zerolinecolor\":\"white\"},\"zaxis\":{\"backgroundcolor\":\"#E5ECF6\",\"gridcolor\":\"white\",\"gridwidth\":2,\"linecolor\":\"white\",\"showbackground\":true,\"ticks\":\"\",\"zerolinecolor\":\"white\"}},\"shapedefaults\":{\"line\":{\"color\":\"#2a3f5f\"}},\"ternary\":{\"aaxis\":{\"gridcolor\":\"white\",\"linecolor\":\"white\",\"ticks\":\"\"},\"baxis\":{\"gridcolor\":\"white\",\"linecolor\":\"white\",\"ticks\":\"\"},\"bgcolor\":\"#E5ECF6\",\"caxis\":{\"gridcolor\":\"white\",\"linecolor\":\"white\",\"ticks\":\"\"}},\"title\":{\"x\":0.05},\"xaxis\":{\"automargin\":true,\"gridcolor\":\"white\",\"linecolor\":\"white\",\"ticks\":\"\",\"title\":{\"standoff\":15},\"zerolinecolor\":\"white\",\"zerolinewidth\":2},\"yaxis\":{\"automargin\":true,\"gridcolor\":\"white\",\"linecolor\":\"white\",\"ticks\":\"\",\"title\":{\"standoff\":15},\"zerolinecolor\":\"white\",\"zerolinewidth\":2}}},\"title\":{\"font\":{\"color\":\"#4D5663\"}},\"xaxis\":{\"gridcolor\":\"#E1E5ED\",\"showgrid\":true,\"tickfont\":{\"color\":\"#4D5663\"},\"title\":{\"font\":{\"color\":\"#4D5663\"},\"text\":\"\"},\"zerolinecolor\":\"#E1E5ED\"},\"yaxis\":{\"gridcolor\":\"#E1E5ED\",\"showgrid\":true,\"tickfont\":{\"color\":\"#4D5663\"},\"title\":{\"font\":{\"color\":\"#4D5663\"},\"text\":\"\"},\"zerolinecolor\":\"#E1E5ED\"}},                        {\"showLink\": true, \"linkText\": \"Export to plot.ly\", \"plotlyServerURL\": \"https://plot.ly\", \"responsive\": true}                    ).then(function(){\n",
       "                            \n",
       "var gd = document.getElementById('3b3f70ae-dac0-40e4-8fad-9c2775f60cac');\n",
       "var x = new MutationObserver(function (mutations, observer) {{\n",
       "        var display = window.getComputedStyle(gd).display;\n",
       "        if (!display || display === 'none') {{\n",
       "            console.log([gd, 'removed!']);\n",
       "            Plotly.purge(gd);\n",
       "            observer.disconnect();\n",
       "        }}\n",
       "}});\n",
       "\n",
       "// Listen for the removal of the full notebook cells\n",
       "var notebookContainer = gd.closest('#notebook-container');\n",
       "if (notebookContainer) {{\n",
       "    x.observe(notebookContainer, {childList: true});\n",
       "}}\n",
       "\n",
       "// Listen for the clearing of the current output cell\n",
       "var outputEl = gd.closest('.output');\n",
       "if (outputEl) {{\n",
       "    x.observe(outputEl, {childList: true});\n",
       "}}\n",
       "\n",
       "                        })                };                });            </script>        </div>"
      ]
     },
     "metadata": {},
     "output_type": "display_data"
    }
   ],
   "source": [
    "df1.iplot()\n",
    "\n",
    "# MAGIC !!!"
   ]
  },
  {
   "cell_type": "code",
   "execution_count": 14,
   "id": "22796684",
   "metadata": {},
   "outputs": [
    {
     "data": {
      "text/plain": [
       "<AxesSubplot:>"
      ]
     },
     "execution_count": 14,
     "metadata": {},
     "output_type": "execute_result"
    },
    {
     "data": {
      "image/png": "[encoded data removed]",
      "text/plain": [
       "<Figure size 432x288 with 1 Axes>"
      ]
     },
     "metadata": {
      "needs_background": "light"
     },
     "output_type": "display_data"
    }
   ],
   "source": [
    "df2.plot()"
   ]
  },
  {
   "cell_type": "code",
   "execution_count": 15,
   "id": "a41bef42",
   "metadata": {},
   "outputs": [
    {
     "data": {
      "application/vnd.plotly.v1+json": {
       "config": {
        "linkText": "Export to plot.ly",
        "plotlyServerURL": "https://plot.ly",
        "showLink": true
       },
       "data": [
        {
         "line": {
          "color": "rgba(255, 153, 51, 1.0)",
          "dash": "solid",
          "shape": "linear",
          "width": 1.3
         },
         "mode": "lines",
         "name": "Category",
         "text": "",
         "type": "scatter",
         "x": [
          0,
          1,
          2
         ],
         "y": [
          "A",
          "B",
          "C"
         ]
        },
        {
         "line": {
          "color": "rgba(55, 128, 191, 1.0)",
          "dash": "solid",
          "shape": "linear",
          "width": 1.3
         },
         "mode": "lines",
         "name": "Values",
         "text": "",
         "type": "scatter",
         "x": [
          0,
          1,
          2
         ],
         "y": [
          32,
          43,
          50
         ]
        }
       ],
       "layout": {
        "legend": {
         "bgcolor": "#F5F6F9",
         "font": {
          "color": "#4D5663"
         }
        },
        "paper_bgcolor": "#F5F6F9",
        "plot_bgcolor": "#F5F6F9",
        "template": {
         "data": {
          "bar": [
           {
            "error_x": {
             "color": "#2a3f5f"
            },
            "error_y": {
             "color": "#2a3f5f"
            },
            "marker": {
             "line": {
              "color": "#E5ECF6",
              "width": 0.5
             },
             "pattern": {
              "fillmode": "overlay",
              "size": 10,
              "solidity": 0.2
             }
            },
            "type": "bar"
           }
          ],
          "barpolar": [
           {
            "marker": {
             "line": {
              "color": "#E5ECF6",
              "width": 0.5
             },
             "pattern": {
              "fillmode": "overlay",
              "size": 10,
              "solidity": 0.2
             }
            },
            "type": "barpolar"
           }
          ],
          "carpet": [
           {
            "aaxis": {
             "endlinecolor": "#2a3f5f",
             "gridcolor": "white",
             "linecolor": "white",
             "minorgridcolor": "white",
             "startlinecolor": "#2a3f5f"
            },
            "baxis": {
             "endlinecolor": "#2a3f5f",
             "gridcolor": "white",
             "linecolor": "white",
             "minorgridcolor": "white",
             "startlinecolor": "#2a3f5f"
            },
            "type": "carpet"
           }
          ],
          "choropleth": [
           {
            "colorbar": {
             "outlinewidth": 0,
             "ticks": ""
            },
            "type": "choropleth"
           }
          ],
          "contour": [
           {
            "colorbar": {
             "outlinewidth": 0,
             "ticks": ""
            },
            "colorscale": [
             [
              0,
              "#0d0887"
             ],
             [
              0.1111111111111111,
              "#46039f"
             ],
             [
              0.2222222222222222,
              "#7201a8"
             ],
             [
              0.3333333333333333,
              "#9c179e"
             ],
             [
              0.4444444444444444,
              "#bd3786"
             ],
             [
              0.5555555555555556,
              "#d8576b"
             ],
             [
              0.6666666666666666,
              "#ed7953"
             ],
             [
              0.7777777777777778,
              "#fb9f3a"
             ],
             [
              0.8888888888888888,
              "#fdca26"
             ],
             [
              1,
              "#f0f921"
             ]
            ],
            "type": "contour"
           }
          ],
          "contourcarpet": [
           {
            "colorbar": {
             "outlinewidth": 0,
             "ticks": ""
            },
            "type": "contourcarpet"
           }
          ],
          "heatmap": [
           {
            "colorbar": {
             "outlinewidth": 0,
             "ticks": ""
            },
            "colorscale": [
             [
              0,
              "#0d0887"
             ],
             [
              0.1111111111111111,
              "#46039f"
             ],
             [
              0.2222222222222222,
              "#7201a8"
             ],
             [
              0.3333333333333333,
              "#9c179e"
             ],
             [
              0.4444444444444444,
              "#bd3786"
             ],
             [
              0.5555555555555556,
              "#d8576b"
             ],
             [
              0.6666666666666666,
              "#ed7953"
             ],
             [
              0.7777777777777778,
              "#fb9f3a"
             ],
             [
              0.8888888888888888,
              "#fdca26"
             ],
             [
              1,
              "#f0f921"
             ]
            ],
            "type": "heatmap"
           }
          ],
          "heatmapgl": [
           {
            "colorbar": {
             "outlinewidth": 0,
             "ticks": ""
            },
            "colorscale": [
             [
              0,
              "#0d0887"
             ],
             [
              0.1111111111111111,
              "#46039f"
             ],
             [
              0.2222222222222222,
              "#7201a8"
             ],
             [
              0.3333333333333333,
              "#9c179e"
             ],
             [
              0.4444444444444444,
              "#bd3786"
             ],
             [
              0.5555555555555556,
              "#d8576b"
             ],
             [
              0.6666666666666666,
              "#ed7953"
             ],
             [
              0.7777777777777778,
              "#fb9f3a"
             ],
             [
              0.8888888888888888,
              "#fdca26"
             ],
             [
              1,
              "#f0f921"
             ]
            ],
            "type": "heatmapgl"
           }
          ],
          "histogram": [
           {
            "marker": {
             "pattern": {
              "fillmode": "overlay",
              "size": 10,
              "solidity": 0.2
             }
            },
            "type": "histogram"
           }
          ],
          "histogram2d": [
           {
            "colorbar": {
             "outlinewidth": 0,
             "ticks": ""
            },
            "colorscale": [
             [
              0,
              "#0d0887"
             ],
             [
              0.1111111111111111,
              "#46039f"
             ],
             [
              0.2222222222222222,
              "#7201a8"
             ],
             [
              0.3333333333333333,
              "#9c179e"
             ],
             [
              0.4444444444444444,
              "#bd3786"
             ],
             [
              0.5555555555555556,
              "#d8576b"
             ],
             [
              0.6666666666666666,
              "#ed7953"
             ],
             [
              0.7777777777777778,
              "#fb9f3a"
             ],
             [
              0.8888888888888888,
              "#fdca26"
             ],
             [
              1,
              "#f0f921"
             ]
            ],
            "type": "histogram2d"
           }
          ],
          "histogram2dcontour": [
           {
            "colorbar": {
             "outlinewidth": 0,
             "ticks": ""
            },
            "colorscale": [
             [
              0,
              "#0d0887"
             ],
             [
              0.1111111111111111,
              "#46039f"
             ],
             [
              0.2222222222222222,
              "#7201a8"
             ],
             [
              0.3333333333333333,
              "#9c179e"
             ],
             [
              0.4444444444444444,
              "#bd3786"
             ],
             [
              0.5555555555555556,
              "#d8576b"
             ],
             [
              0.6666666666666666,
              "#ed7953"
             ],
             [
              0.7777777777777778,
              "#fb9f3a"
             ],
             [
              0.8888888888888888,
              "#fdca26"
             ],
             [
              1,
              "#f0f921"
             ]
            ],
            "type": "histogram2dcontour"
           }
          ],
          "mesh3d": [
           {
            "colorbar": {
             "outlinewidth": 0,
             "ticks": ""
            },
            "type": "mesh3d"
           }
          ],
          "parcoords": [
           {
            "line": {
             "colorbar": {
              "outlinewidth": 0,
              "ticks": ""
             }
            },
            "type": "parcoords"
           }
          ],
          "pie": [
           {
            "automargin": true,
            "type": "pie"
           }
          ],
          "scatter": [
           {
            "marker": {
             "colorbar": {
              "outlinewidth": 0,
              "ticks": ""
             }
            },
            "type": "scatter"
           }
          ],
          "scatter3d": [
           {
            "line": {
             "colorbar": {
              "outlinewidth": 0,
              "ticks": ""
             }
            },
            "marker": {
             "colorbar": {
              "outlinewidth": 0,
              "ticks": ""
             }
            },
            "type": "scatter3d"
           }
          ],
          "scattercarpet": [
           {
            "marker": {
             "colorbar": {
              "outlinewidth": 0,
              "ticks": ""
             }
            },
            "type": "scattercarpet"
           }
          ],
          "scattergeo": [
           {
            "marker": {
             "colorbar": {
              "outlinewidth": 0,
              "ticks": ""
             }
            },
            "type": "scattergeo"
           }
          ],
          "scattergl": [
           {
            "marker": {
             "colorbar": {
              "outlinewidth": 0,
              "ticks": ""
             }
            },
            "type": "scattergl"
           }
          ],
          "scattermapbox": [
           {
            "marker": {
             "colorbar": {
              "outlinewidth": 0,
              "ticks": ""
             }
            },
            "type": "scattermapbox"
           }
          ],
          "scatterpolar": [
           {
            "marker": {
             "colorbar": {
              "outlinewidth": 0,
              "ticks": ""
             }
            },
            "type": "scatterpolar"
           }
          ],
          "scatterpolargl": [
           {
            "marker": {
             "colorbar": {
              "outlinewidth": 0,
              "ticks": ""
             }
            },
            "type": "scatterpolargl"
           }
          ],
          "scatterternary": [
           {
            "marker": {
             "colorbar": {
              "outlinewidth": 0,
              "ticks": ""
             }
            },
            "type": "scatterternary"
           }
          ],
          "surface": [
           {
            "colorbar": {
             "outlinewidth": 0,
             "ticks": ""
            },
            "colorscale": [
             [
              0,
              "#0d0887"
             ],
             [
              0.1111111111111111,
              "#46039f"
             ],
             [
              0.2222222222222222,
              "#7201a8"
             ],
             [
              0.3333333333333333,
              "#9c179e"
             ],
             [
              0.4444444444444444,
              "#bd3786"
             ],
             [
              0.5555555555555556,
              "#d8576b"
             ],
             [
              0.6666666666666666,
              "#ed7953"
             ],
             [
              0.7777777777777778,
              "#fb9f3a"
             ],
             [
              0.8888888888888888,
              "#fdca26"
             ],
             [
              1,
              "#f0f921"
             ]
            ],
            "type": "surface"
           }
          ],
          "table": [
           {
            "cells": {
             "fill": {
              "color": "#EBF0F8"
             },
             "line": {
              "color": "white"
             }
            },
            "header": {
             "fill": {
              "color": "#C8D4E3"
             },
             "line": {
              "color": "white"
             }
            },
            "type": "table"
           }
          ]
         },
         "layout": {
          "annotationdefaults": {
           "arrowcolor": "#2a3f5f",
           "arrowhead": 0,
           "arrowwidth": 1
          },
          "autotypenumbers": "strict",
          "coloraxis": {
           "colorbar": {
            "outlinewidth": 0,
            "ticks": ""
           }
          },
          "colorscale": {
           "diverging": [
            [
             0,
             "#8e0152"
            ],
            [
             0.1,
             "#c51b7d"
            ],
            [
             0.2,
             "#de77ae"
            ],
            [
             0.3,
             "#f1b6da"
            ],
            [
             0.4,
             "#fde0ef"
            ],
            [
             0.5,
             "#f7f7f7"
            ],
            [
             0.6,
             "#e6f5d0"
            ],
            [
             0.7,
             "#b8e186"
            ],
            [
             0.8,
             "#7fbc41"
            ],
            [
             0.9,
             "#4d9221"
            ],
            [
             1,
             "#276419"
            ]
           ],
           "sequential": [
            [
             0,
             "#0d0887"
            ],
            [
             0.1111111111111111,
             "#46039f"
            ],
            [
             0.2222222222222222,
             "#7201a8"
            ],
            [
             0.3333333333333333,
             "#9c179e"
            ],
            [
             0.4444444444444444,
             "#bd3786"
            ],
            [
             0.5555555555555556,
             "#d8576b"
            ],
            [
             0.6666666666666666,
             "#ed7953"
            ],
            [
             0.7777777777777778,
             "#fb9f3a"
            ],
            [
             0.8888888888888888,
             "#fdca26"
            ],
            [
             1,
             "#f0f921"
            ]
           ],
           "sequentialminus": [
            [
             0,
             "#0d0887"
            ],
            [
             0.1111111111111111,
             "#46039f"
            ],
            [
             0.2222222222222222,
             "#7201a8"
            ],
            [
             0.3333333333333333,
             "#9c179e"
            ],
            [
             0.4444444444444444,
             "#bd3786"
            ],
            [
             0.5555555555555556,
             "#d8576b"
            ],
            [
             0.6666666666666666,
             "#ed7953"
            ],
            [
             0.7777777777777778,
             "#fb9f3a"
            ],
            [
             0.8888888888888888,
             "#fdca26"
            ],
            [
             1,
             "#f0f921"
            ]
           ]
          },
          "colorway": [
           "#636efa",
           "#EF553B",
           "#00cc96",
           "#ab63fa",
           "#FFA15A",
           "#19d3f3",
           "#FF6692",
           "#B6E880",
           "#FF97FF",
           "#FECB52"
          ],
          "font": {
           "color": "#2a3f5f"
          },
          "geo": {
           "bgcolor": "white",
           "lakecolor": "white",
           "landcolor": "#E5ECF6",
           "showlakes": true,
           "showland": true,
           "subunitcolor": "white"
          },
          "hoverlabel": {
           "align": "left"
          },
          "hovermode": "closest",
          "mapbox": {
           "style": "light"
          },
          "paper_bgcolor": "white",
          "plot_bgcolor": "#E5ECF6",
          "polar": {
           "angularaxis": {
            "gridcolor": "white",
            "linecolor": "white",
            "ticks": ""
           },
           "bgcolor": "#E5ECF6",
           "radialaxis": {
            "gridcolor": "white",
            "linecolor": "white",
            "ticks": ""
           }
          },
          "scene": {
           "xaxis": {
            "backgroundcolor": "#E5ECF6",
            "gridcolor": "white",
            "gridwidth": 2,
            "linecolor": "white",
            "showbackground": true,
            "ticks": "",
            "zerolinecolor": "white"
           },
           "yaxis": {
            "backgroundcolor": "#E5ECF6",
            "gridcolor": "white",
            "gridwidth": 2,
            "linecolor": "white",
            "showbackground": true,
            "ticks": "",
            "zerolinecolor": "white"
           },
           "zaxis": {
            "backgroundcolor": "#E5ECF6",
            "gridcolor": "white",
            "gridwidth": 2,
            "linecolor": "white",
            "showbackground": true,
            "ticks": "",
            "zerolinecolor": "white"
           }
          },
          "shapedefaults": {
           "line": {
            "color": "#2a3f5f"
           }
          },
          "ternary": {
           "aaxis": {
            "gridcolor": "white",
            "linecolor": "white",
            "ticks": ""
           },
           "baxis": {
            "gridcolor": "white",
            "linecolor": "white",
            "ticks": ""
           },
           "bgcolor": "#E5ECF6",
           "caxis": {
            "gridcolor": "white",
            "linecolor": "white",
            "ticks": ""
           }
          },
          "title": {
           "x": 0.05
          },
          "xaxis": {
           "automargin": true,
           "gridcolor": "white",
           "linecolor": "white",
           "ticks": "",
           "title": {
            "standoff": 15
           },
           "zerolinecolor": "white",
           "zerolinewidth": 2
          },
          "yaxis": {
           "automargin": true,
           "gridcolor": "white",
           "linecolor": "white",
           "ticks": "",
           "title": {
            "standoff": 15
           },
           "zerolinecolor": "white",
           "zerolinewidth": 2
          }
         }
        },
        "title": {
         "font": {
          "color": "#4D5663"
         }
        },
        "xaxis": {
         "gridcolor": "#E1E5ED",
         "showgrid": true,
         "tickfont": {
          "color": "#4D5663"
         },
         "title": {
          "font": {
           "color": "#4D5663"
          },
          "text": ""
         },
         "zerolinecolor": "#E1E5ED"
        },
        "yaxis": {
         "gridcolor": "#E1E5ED",
         "showgrid": true,
         "tickfont": {
          "color": "#4D5663"
         },
         "title": {
          "font": {
           "color": "#4D5663"
          },
          "text": ""
         },
         "zerolinecolor": "#E1E5ED"
        }
       }
      },
      "text/html": [
       "<div>                            <div id=\"0aa6a115-8394-4d9c-8f3f-8f69181a28e0\" class=\"plotly-graph-div\" style=\"height:525px; width:100%;\"></div>            <script type=\"text/javascript\">                require([\"plotly\"], function(Plotly) {                    window.PLOTLYENV=window.PLOTLYENV || {};\n",
       "                    window.PLOTLYENV.BASE_URL='https://plot.ly';                                    if (document.getElementById(\"0aa6a115-8394-4d9c-8f3f-8f69181a28e0\")) {                    Plotly.newPlot(                        \"0aa6a115-8394-4d9c-8f3f-8f69181a28e0\",                        [{\"line\":{\"color\":\"rgba(255, 153, 51, 1.0)\",\"dash\":\"solid\",\"shape\":\"linear\",\"width\":1.3},\"mode\":\"lines\",\"name\":\"Category\",\"text\":\"\",\"x\":[0,1,2],\"y\":[\"A\",\"B\",\"C\"],\"type\":\"scatter\"},{\"line\":{\"color\":\"rgba(55, 128, 191, 1.0)\",\"dash\":\"solid\",\"shape\":\"linear\",\"width\":1.3},\"mode\":\"lines\",\"name\":\"Values\",\"text\":\"\",\"x\":[0,1,2],\"y\":[32,43,50],\"type\":\"scatter\"}],                        {\"legend\":{\"bgcolor\":\"#F5F6F9\",\"font\":{\"color\":\"#4D5663\"}},\"paper_bgcolor\":\"#F5F6F9\",\"plot_bgcolor\":\"#F5F6F9\",\"template\":{\"data\":{\"barpolar\":[{\"marker\":{\"line\":{\"color\":\"#E5ECF6\",\"width\":0.5},\"pattern\":{\"fillmode\":\"overlay\",\"size\":10,\"solidity\":0.2}},\"type\":\"barpolar\"}],\"bar\":[{\"error_x\":{\"color\":\"#2a3f5f\"},\"error_y\":{\"color\":\"#2a3f5f\"},\"marker\":{\"line\":{\"color\":\"#E5ECF6\",\"width\":0.5},\"pattern\":{\"fillmode\":\"overlay\",\"size\":10,\"solidity\":0.2}},\"type\":\"bar\"}],\"carpet\":[{\"aaxis\":{\"endlinecolor\":\"#2a3f5f\",\"gridcolor\":\"white\",\"linecolor\":\"white\",\"minorgridcolor\":\"white\",\"startlinecolor\":\"#2a3f5f\"},\"baxis\":{\"endlinecolor\":\"#2a3f5f\",\"gridcolor\":\"white\",\"linecolor\":\"white\",\"minorgridcolor\":\"white\",\"startlinecolor\":\"#2a3f5f\"},\"type\":\"carpet\"}],\"choropleth\":[{\"colorbar\":{\"outlinewidth\":0,\"ticks\":\"\"},\"type\":\"choropleth\"}],\"contourcarpet\":[{\"colorbar\":{\"outlinewidth\":0,\"ticks\":\"\"},\"type\":\"contourcarpet\"}],\"contour\":[{\"colorbar\":{\"outlinewidth\":0,\"ticks\":\"\"},\"colorscale\":[[0.0,\"#0d0887\"],[0.1111111111111111,\"#46039f\"],[0.2222222222222222,\"#7201a8\"],[0.3333333333333333,\"#9c179e\"],[0.4444444444444444,\"#bd3786\"],[0.5555555555555556,\"#d8576b\"],[0.6666666666666666,\"#ed7953\"],[0.7777777777777778,\"#fb9f3a\"],[0.8888888888888888,\"#fdca26\"],[1.0,\"#f0f921\"]],\"type\":\"contour\"}],\"heatmapgl\":[{\"colorbar\":{\"outlinewidth\":0,\"ticks\":\"\"},\"colorscale\":[[0.0,\"#0d0887\"],[0.1111111111111111,\"#46039f\"],[0.2222222222222222,\"#7201a8\"],[0.3333333333333333,\"#9c179e\"],[0.4444444444444444,\"#bd3786\"],[0.5555555555555556,\"#d8576b\"],[0.6666666666666666,\"#ed7953\"],[0.7777777777777778,\"#fb9f3a\"],[0.8888888888888888,\"#fdca26\"],[1.0,\"#f0f921\"]],\"type\":\"heatmapgl\"}],\"heatmap\":[{\"colorbar\":{\"outlinewidth\":0,\"ticks\":\"\"},\"colorscale\":[[0.0,\"#0d0887\"],[0.1111111111111111,\"#46039f\"],[0.2222222222222222,\"#7201a8\"],[0.3333333333333333,\"#9c179e\"],[0.4444444444444444,\"#bd3786\"],[0.5555555555555556,\"#d8576b\"],[0.6666666666666666,\"#ed7953\"],[0.7777777777777778,\"#fb9f3a\"],[0.8888888888888888,\"#fdca26\"],[1.0,\"#f0f921\"]],\"type\":\"heatmap\"}],\"histogram2dcontour\":[{\"colorbar\":{\"outlinewidth\":0,\"ticks\":\"\"},\"colorscale\":[[0.0,\"#0d0887\"],[0.1111111111111111,\"#46039f\"],[0.2222222222222222,\"#7201a8\"],[0.3333333333333333,\"#9c179e\"],[0.4444444444444444,\"#bd3786\"],[0.5555555555555556,\"#d8576b\"],[0.6666666666666666,\"#ed7953\"],[0.7777777777777778,\"#fb9f3a\"],[0.8888888888888888,\"#fdca26\"],[1.0,\"#f0f921\"]],\"type\":\"histogram2dcontour\"}],\"histogram2d\":[{\"colorbar\":{\"outlinewidth\":0,\"ticks\":\"\"},\"colorscale\":[[0.0,\"#0d0887\"],[0.1111111111111111,\"#46039f\"],[0.2222222222222222,\"#7201a8\"],[0.3333333333333333,\"#9c179e\"],[0.4444444444444444,\"#bd3786\"],[0.5555555555555556,\"#d8576b\"],[0.6666666666666666,\"#ed7953\"],[0.7777777777777778,\"#fb9f3a\"],[0.8888888888888888,\"#fdca26\"],[1.0,\"#f0f921\"]],\"type\":\"histogram2d\"}],\"histogram\":[{\"marker\":{\"pattern\":{\"fillmode\":\"overlay\",\"size\":10,\"solidity\":0.2}},\"type\":\"histogram\"}],\"mesh3d\":[{\"colorbar\":{\"outlinewidth\":0,\"ticks\":\"\"},\"type\":\"mesh3d\"}],\"parcoords\":[{\"line\":{\"colorbar\":{\"outlinewidth\":0,\"ticks\":\"\"}},\"type\":\"parcoords\"}],\"pie\":[{\"automargin\":true,\"type\":\"pie\"}],\"scatter3d\":[{\"line\":{\"colorbar\":{\"outlinewidth\":0,\"ticks\":\"\"}},\"marker\":{\"colorbar\":{\"outlinewidth\":0,\"ticks\":\"\"}},\"type\":\"scatter3d\"}],\"scattercarpet\":[{\"marker\":{\"colorbar\":{\"outlinewidth\":0,\"ticks\":\"\"}},\"type\":\"scattercarpet\"}],\"scattergeo\":[{\"marker\":{\"colorbar\":{\"outlinewidth\":0,\"ticks\":\"\"}},\"type\":\"scattergeo\"}],\"scattergl\":[{\"marker\":{\"colorbar\":{\"outlinewidth\":0,\"ticks\":\"\"}},\"type\":\"scattergl\"}],\"scattermapbox\":[{\"marker\":{\"colorbar\":{\"outlinewidth\":0,\"ticks\":\"\"}},\"type\":\"scattermapbox\"}],\"scatterpolargl\":[{\"marker\":{\"colorbar\":{\"outlinewidth\":0,\"ticks\":\"\"}},\"type\":\"scatterpolargl\"}],\"scatterpolar\":[{\"marker\":{\"colorbar\":{\"outlinewidth\":0,\"ticks\":\"\"}},\"type\":\"scatterpolar\"}],\"scatter\":[{\"marker\":{\"colorbar\":{\"outlinewidth\":0,\"ticks\":\"\"}},\"type\":\"scatter\"}],\"scatterternary\":[{\"marker\":{\"colorbar\":{\"outlinewidth\":0,\"ticks\":\"\"}},\"type\":\"scatterternary\"}],\"surface\":[{\"colorbar\":{\"outlinewidth\":0,\"ticks\":\"\"},\"colorscale\":[[0.0,\"#0d0887\"],[0.1111111111111111,\"#46039f\"],[0.2222222222222222,\"#7201a8\"],[0.3333333333333333,\"#9c179e\"],[0.4444444444444444,\"#bd3786\"],[0.5555555555555556,\"#d8576b\"],[0.6666666666666666,\"#ed7953\"],[0.7777777777777778,\"#fb9f3a\"],[0.8888888888888888,\"#fdca26\"],[1.0,\"#f0f921\"]],\"type\":\"surface\"}],\"table\":[{\"cells\":{\"fill\":{\"color\":\"#EBF0F8\"},\"line\":{\"color\":\"white\"}},\"header\":{\"fill\":{\"color\":\"#C8D4E3\"},\"line\":{\"color\":\"white\"}},\"type\":\"table\"}]},\"layout\":{\"annotationdefaults\":{\"arrowcolor\":\"#2a3f5f\",\"arrowhead\":0,\"arrowwidth\":1},\"autotypenumbers\":\"strict\",\"coloraxis\":{\"colorbar\":{\"outlinewidth\":0,\"ticks\":\"\"}},\"colorscale\":{\"diverging\":[[0,\"#8e0152\"],[0.1,\"#c51b7d\"],[0.2,\"#de77ae\"],[0.3,\"#f1b6da\"],[0.4,\"#fde0ef\"],[0.5,\"#f7f7f7\"],[0.6,\"#e6f5d0\"],[0.7,\"#b8e186\"],[0.8,\"#7fbc41\"],[0.9,\"#4d9221\"],[1,\"#276419\"]],\"sequential\":[[0.0,\"#0d0887\"],[0.1111111111111111,\"#46039f\"],[0.2222222222222222,\"#7201a8\"],[0.3333333333333333,\"#9c179e\"],[0.4444444444444444,\"#bd3786\"],[0.5555555555555556,\"#d8576b\"],[0.6666666666666666,\"#ed7953\"],[0.7777777777777778,\"#fb9f3a\"],[0.8888888888888888,\"#fdca26\"],[1.0,\"#f0f921\"]],\"sequentialminus\":[[0.0,\"#0d0887\"],[0.1111111111111111,\"#46039f\"],[0.2222222222222222,\"#7201a8\"],[0.3333333333333333,\"#9c179e\"],[0.4444444444444444,\"#bd3786\"],[0.5555555555555556,\"#d8576b\"],[0.6666666666666666,\"#ed7953\"],[0.7777777777777778,\"#fb9f3a\"],[0.8888888888888888,\"#fdca26\"],[1.0,\"#f0f921\"]]},\"colorway\":[\"#636efa\",\"#EF553B\",\"#00cc96\",\"#ab63fa\",\"#FFA15A\",\"#19d3f3\",\"#FF6692\",\"#B6E880\",\"#FF97FF\",\"#FECB52\"],\"font\":{\"color\":\"#2a3f5f\"},\"geo\":{\"bgcolor\":\"white\",\"lakecolor\":\"white\",\"landcolor\":\"#E5ECF6\",\"showlakes\":true,\"showland\":true,\"subunitcolor\":\"white\"},\"hoverlabel\":{\"align\":\"left\"},\"hovermode\":\"closest\",\"mapbox\":{\"style\":\"light\"},\"paper_bgcolor\":\"white\",\"plot_bgcolor\":\"#E5ECF6\",\"polar\":{\"angularaxis\":{\"gridcolor\":\"white\",\"linecolor\":\"white\",\"ticks\":\"\"},\"bgcolor\":\"#E5ECF6\",\"radialaxis\":{\"gridcolor\":\"white\",\"linecolor\":\"white\",\"ticks\":\"\"}},\"scene\":{\"xaxis\":{\"backgroundcolor\":\"#E5ECF6\",\"gridcolor\":\"white\",\"gridwidth\":2,\"linecolor\":\"white\",\"showbackground\":true,\"ticks\":\"\",\"zerolinecolor\":\"white\"},\"yaxis\":{\"backgroundcolor\":\"#E5ECF6\",\"gridcolor\":\"white\",\"gridwidth\":2,\"linecolor\":\"white\",\"showbackground\":true,\"ticks\":\"\",\"zerolinecolor\":\"white\"},\"zaxis\":{\"backgroundcolor\":\"#E5ECF6\",\"gridcolor\":\"white\",\"gridwidth\":2,\"linecolor\":\"white\",\"showbackground\":true,\"ticks\":\"\",\"zerolinecolor\":\"white\"}},\"shapedefaults\":{\"line\":{\"color\":\"#2a3f5f\"}},\"ternary\":{\"aaxis\":{\"gridcolor\":\"white\",\"linecolor\":\"white\",\"ticks\":\"\"},\"baxis\":{\"gridcolor\":\"white\",\"linecolor\":\"white\",\"ticks\":\"\"},\"bgcolor\":\"#E5ECF6\",\"caxis\":{\"gridcolor\":\"white\",\"linecolor\":\"white\",\"ticks\":\"\"}},\"title\":{\"x\":0.05},\"xaxis\":{\"automargin\":true,\"gridcolor\":\"white\",\"linecolor\":\"white\",\"ticks\":\"\",\"title\":{\"standoff\":15},\"zerolinecolor\":\"white\",\"zerolinewidth\":2},\"yaxis\":{\"automargin\":true,\"gridcolor\":\"white\",\"linecolor\":\"white\",\"ticks\":\"\",\"title\":{\"standoff\":15},\"zerolinecolor\":\"white\",\"zerolinewidth\":2}}},\"title\":{\"font\":{\"color\":\"#4D5663\"}},\"xaxis\":{\"gridcolor\":\"#E1E5ED\",\"showgrid\":true,\"tickfont\":{\"color\":\"#4D5663\"},\"title\":{\"font\":{\"color\":\"#4D5663\"},\"text\":\"\"},\"zerolinecolor\":\"#E1E5ED\"},\"yaxis\":{\"gridcolor\":\"#E1E5ED\",\"showgrid\":true,\"tickfont\":{\"color\":\"#4D5663\"},\"title\":{\"font\":{\"color\":\"#4D5663\"},\"text\":\"\"},\"zerolinecolor\":\"#E1E5ED\"}},                        {\"showLink\": true, \"linkText\": \"Export to plot.ly\", \"plotlyServerURL\": \"https://plot.ly\", \"responsive\": true}                    ).then(function(){\n",
       "                            \n",
       "var gd = document.getElementById('0aa6a115-8394-4d9c-8f3f-8f69181a28e0');\n",
       "var x = new MutationObserver(function (mutations, observer) {{\n",
       "        var display = window.getComputedStyle(gd).display;\n",
       "        if (!display || display === 'none') {{\n",
       "            console.log([gd, 'removed!']);\n",
       "            Plotly.purge(gd);\n",
       "            observer.disconnect();\n",
       "        }}\n",
       "}});\n",
       "\n",
       "// Listen for the removal of the full notebook cells\n",
       "var notebookContainer = gd.closest('#notebook-container');\n",
       "if (notebookContainer) {{\n",
       "    x.observe(notebookContainer, {childList: true});\n",
       "}}\n",
       "\n",
       "// Listen for the clearing of the current output cell\n",
       "var outputEl = gd.closest('.output');\n",
       "if (outputEl) {{\n",
       "    x.observe(outputEl, {childList: true});\n",
       "}}\n",
       "\n",
       "                        })                };                });            </script>        </div>"
      ]
     },
     "metadata": {},
     "output_type": "display_data"
    }
   ],
   "source": [
    "df2.iplot()"
   ]
  },
  {
   "cell_type": "markdown",
   "id": "3b13e2a3",
   "metadata": {},
   "source": [
    "## SCATTER IPLOT"
   ]
  },
  {
   "cell_type": "code",
   "execution_count": 16,
   "id": "342ec19b",
   "metadata": {},
   "outputs": [
    {
     "data": {
      "application/vnd.plotly.v1+json": {
       "config": {
        "linkText": "Export to plot.ly",
        "plotlyServerURL": "https://plot.ly",
        "showLink": true
       },
       "data": [
        {
         "line": {
          "color": "rgba(255, 153, 51, 1.0)",
          "dash": "solid",
          "shape": "linear",
          "width": 1.3
         },
         "marker": {
          "size": 12,
          "symbol": "circle"
         },
         "mode": "markers",
         "name": "B",
         "text": "",
         "type": "scatter",
         "x": [
          -0.3828792050443604,
          -0.8470899644257714,
          0.010194864370989333,
          0.7301852076151661,
          2.0209176306324363,
          -1.5003016962844402,
          1.3118946476906856,
          -0.19669756499513247,
          -0.9076690966885811,
          -0.3237404643459652,
          0.637713854283272,
          -0.03454556326127818,
          0.7796925569817367,
          -1.4423716042022108,
          -2.5845985787359163,
          0.6619539111661311,
          -0.687009387052393,
          -0.07904947689258264,
          0.05497583547432276,
          -0.1251154272973603,
          1.4799840842985588,
          0.4823254913863216,
          -2.280333653758334,
          -0.7687965123125058,
          -1.9305826565370234,
          1.2028531218309138,
          0.11759314103585028,
          0.8219103216225514,
          -1.0600425527288615,
          -0.7924098829680032,
          0.591057506448477,
          0.010539468688751144,
          0.587916797008021,
          0.5345565463711455,
          0.23953843637909966,
          -1.3486453781610805,
          1.4539031141605863,
          -0.7434505578041772,
          -0.06974790232731734,
          -1.3438280814154056,
          0.15028835356929468,
          -0.10287723292446797,
          0.5337958367766493,
          -1.7910145450870145,
          -0.3528093066466839,
          0.28483534146724776,
          -0.2376793634250966,
          -1.1439375104416412,
          -1.6773681066280623,
          1.8838782542672348,
          1.0028758404607157,
          1.019052841097029,
          0.30651768295595916,
          0.4025551526198797,
          -0.8905919688553369,
          -1.382874757587919,
          -0.6816436627196745,
          0.03878334506085071,
          -1.3612397104403606,
          0.3197604660731154,
          -2.538319364008003,
          -1.2091878447993685,
          -0.5249346013368914,
          0.6692146290182188,
          -0.11840123236465151,
          0.8525194553867952,
          -0.6035975956715631,
          0.4283480479109968,
          0.9101749092891146,
          -0.8864024726325933,
          0.7775503744458712,
          -0.3116906590586294,
          -0.0789741170722278,
          -0.46571660288813044,
          -0.7366408087817952,
          -0.34057771638209616,
          1.4270333479578556,
          -0.0685312876711088,
          -2.590989928710988,
          0.54533421224908,
          -0.9316184663461683,
          -0.3357877632399068,
          -1.1004430354999835,
          -1.5112832772747995,
          0.9233033997807208,
          0.9248042476413013,
          0.23712657682615962,
          -1.7926116956644673,
          0.8262882219580409,
          0.41308190167379377,
          0.20507635069705696,
          1.1372928682815537,
          0.19672852705318208,
          1.032022543036123,
          -0.8498915495743655,
          -0.38007228545542127,
          -1.9829304093355187,
          0.05455520904456543,
          0.45889417897813106,
          -0.14456383999886627
         ],
         "y": [
          0.34335976624785236,
          -0.5400241296111232,
          0.39625879311483636,
          -1.712841088113455,
          -0.07509142065935204,
          -0.73806711582396,
          0.3883007262086318,
          -0.5719092755359968,
          -0.4088347497306631,
          0.2421573678163824,
          -0.6529781799711727,
          0.38854787692263476,
          0.06453030726300012,
          -0.6988816243862073,
          1.3129702162264079,
          1.1771113015017993,
          -0.9700610592238458,
          1.1808244820001328,
          -1.478327479994,
          -0.46108336232059793,
          0.24491015346100684,
          -0.7318916215779915,
          -1.7148688047324678,
          0.5518859965500226,
          -0.9191779247410646,
          1.1985025549693435,
          2.5581128801469877,
          -0.7762150887891556,
          -1.549934782178811,
          0.05201663776978928,
          1.5232217714596588,
          -0.44708035980241534,
          -0.9086628778502828,
          -0.27525104215952567,
          -0.3577790202540434,
          0.4811753508335344,
          -0.5887451051233683,
          -1.294270125275922,
          0.8523861547501889,
          0.7381047196318503,
          1.0644322360476512,
          1.5967001236435843,
          0.82247172376917,
          -1.645808080381747,
          0.6857054299863742,
          -0.9009862391622963,
          -1.257234685603805,
          0.563120200391336,
          -0.9621725292323109,
          -0.5933983360655105,
          0.1284819007413659,
          -0.4240882124272642,
          1.1118812763090071,
          -1.9227848733315895,
          -0.419556595005051,
          1.5272854460120502,
          0.9102671180274021,
          0.6786808331841732,
          -0.42366626781453104,
          -1.1247464588926015,
          0.5004369031549727,
          -1.422643181814059,
          -0.06352335456872109,
          -0.6140831914140193,
          0.5603086977341717,
          1.474751693797127,
          1.6512484343980032,
          -1.0210150242509708,
          -0.7432289383819919,
          1.3875297294630236,
          -0.6514939869833749,
          1.4721881339131935,
          1.518432510112827,
          0.03638510312744503,
          0.7270871221481457,
          1.0793079148027827,
          0.4072592314941338,
          0.5823303662801511,
          0.2779238844720935,
          1.3057489297021347,
          0.07351712777696348,
          -0.8794259892692825,
          0.29982770281056553,
          -0.3416568949263266,
          3.458170678509682,
          0.058799135304265615,
          -0.3884328992504171,
          0.545514744824541,
          0.24141281219690586,
          -1.212419426084278,
          1.441259323038795,
          0.8503394918604567,
          -0.8204208120323783,
          0.21563670697344076,
          2.8069650295546076,
          1.5238759774181017,
          -0.6621926922073339,
          -1.060870331126299,
          -1.2805044081418444,
          -1.2349226572849306
         ]
        }
       ],
       "layout": {
        "legend": {
         "bgcolor": "#F5F6F9",
         "font": {
          "color": "#4D5663"
         }
        },
        "paper_bgcolor": "#F5F6F9",
        "plot_bgcolor": "#F5F6F9",
        "template": {
         "data": {
          "bar": [
           {
            "error_x": {
             "color": "#2a3f5f"
            },
            "error_y": {
             "color": "#2a3f5f"
            },
            "marker": {
             "line": {
              "color": "#E5ECF6",
              "width": 0.5
             },
             "pattern": {
              "fillmode": "overlay",
              "size": 10,
              "solidity": 0.2
             }
            },
            "type": "bar"
           }
          ],
          "barpolar": [
           {
            "marker": {
             "line": {
              "color": "#E5ECF6",
              "width": 0.5
             },
             "pattern": {
              "fillmode": "overlay",
              "size": 10,
              "solidity": 0.2
             }
            },
            "type": "barpolar"
           }
          ],
          "carpet": [
           {
            "aaxis": {
             "endlinecolor": "#2a3f5f",
             "gridcolor": "white",
             "linecolor": "white",
             "minorgridcolor": "white",
             "startlinecolor": "#2a3f5f"
            },
            "baxis": {
             "endlinecolor": "#2a3f5f",
             "gridcolor": "white",
             "linecolor": "white",
             "minorgridcolor": "white",
             "startlinecolor": "#2a3f5f"
            },
            "type": "carpet"
           }
          ],
          "choropleth": [
           {
            "colorbar": {
             "outlinewidth": 0,
             "ticks": ""
            },
            "type": "choropleth"
           }
          ],
          "contour": [
           {
            "colorbar": {
             "outlinewidth": 0,
             "ticks": ""
            },
            "colorscale": [
             [
              0,
              "#0d0887"
             ],
             [
              0.1111111111111111,
              "#46039f"
             ],
             [
              0.2222222222222222,
              "#7201a8"
             ],
             [
              0.3333333333333333,
              "#9c179e"
             ],
             [
              0.4444444444444444,
              "#bd3786"
             ],
             [
              0.5555555555555556,
              "#d8576b"
             ],
             [
              0.6666666666666666,
              "#ed7953"
             ],
             [
              0.7777777777777778,
              "#fb9f3a"
             ],
             [
              0.8888888888888888,
              "#fdca26"
             ],
             [
              1,
              "#f0f921"
             ]
            ],
            "type": "contour"
           }
          ],
          "contourcarpet": [
           {
            "colorbar": {
             "outlinewidth": 0,
             "ticks": ""
            },
            "type": "contourcarpet"
           }
          ],
          "heatmap": [
           {
            "colorbar": {
             "outlinewidth": 0,
             "ticks": ""
            },
            "colorscale": [
             [
              0,
              "#0d0887"
             ],
             [
              0.1111111111111111,
              "#46039f"
             ],
             [
              0.2222222222222222,
              "#7201a8"
             ],
             [
              0.3333333333333333,
              "#9c179e"
             ],
             [
              0.4444444444444444,
              "#bd3786"
             ],
             [
              0.5555555555555556,
              "#d8576b"
             ],
             [
              0.6666666666666666,
              "#ed7953"
             ],
             [
              0.7777777777777778,
              "#fb9f3a"
             ],
             [
              0.8888888888888888,
              "#fdca26"
             ],
             [
              1,
              "#f0f921"
             ]
            ],
            "type": "heatmap"
           }
          ],
          "heatmapgl": [
           {
            "colorbar": {
             "outlinewidth": 0,
             "ticks": ""
            },
            "colorscale": [
             [
              0,
              "#0d0887"
             ],
             [
              0.1111111111111111,
              "#46039f"
             ],
             [
              0.2222222222222222,
              "#7201a8"
             ],
             [
              0.3333333333333333,
              "#9c179e"
             ],
             [
              0.4444444444444444,
              "#bd3786"
             ],
             [
              0.5555555555555556,
              "#d8576b"
             ],
             [
              0.6666666666666666,
              "#ed7953"
             ],
             [
              0.7777777777777778,
              "#fb9f3a"
             ],
             [
              0.8888888888888888,
              "#fdca26"
             ],
             [
              1,
              "#f0f921"
             ]
            ],
            "type": "heatmapgl"
           }
          ],
          "histogram": [
           {
            "marker": {
             "pattern": {
              "fillmode": "overlay",
              "size": 10,
              "solidity": 0.2
             }
            },
            "type": "histogram"
           }
          ],
          "histogram2d": [
           {
            "colorbar": {
             "outlinewidth": 0,
             "ticks": ""
            },
            "colorscale": [
             [
              0,
              "#0d0887"
             ],
             [
              0.1111111111111111,
              "#46039f"
             ],
             [
              0.2222222222222222,
              "#7201a8"
             ],
             [
              0.3333333333333333,
              "#9c179e"
             ],
             [
              0.4444444444444444,
              "#bd3786"
             ],
             [
              0.5555555555555556,
              "#d8576b"
             ],
             [
              0.6666666666666666,
              "#ed7953"
             ],
             [
              0.7777777777777778,
              "#fb9f3a"
             ],
             [
              0.8888888888888888,
              "#fdca26"
             ],
             [
              1,
              "#f0f921"
             ]
            ],
            "type": "histogram2d"
           }
          ],
          "histogram2dcontour": [
           {
            "colorbar": {
             "outlinewidth": 0,
             "ticks": ""
            },
            "colorscale": [
             [
              0,
              "#0d0887"
             ],
             [
              0.1111111111111111,
              "#46039f"
             ],
             [
              0.2222222222222222,
              "#7201a8"
             ],
             [
              0.3333333333333333,
              "#9c179e"
             ],
             [
              0.4444444444444444,
              "#bd3786"
             ],
             [
              0.5555555555555556,
              "#d8576b"
             ],
             [
              0.6666666666666666,
              "#ed7953"
             ],
             [
              0.7777777777777778,
              "#fb9f3a"
             ],
             [
              0.8888888888888888,
              "#fdca26"
             ],
             [
              1,
              "#f0f921"
             ]
            ],
            "type": "histogram2dcontour"
           }
          ],
          "mesh3d": [
           {
            "colorbar": {
             "outlinewidth": 0,
             "ticks": ""
            },
            "type": "mesh3d"
           }
          ],
          "parcoords": [
           {
            "line": {
             "colorbar": {
              "outlinewidth": 0,
              "ticks": ""
             }
            },
            "type": "parcoords"
           }
          ],
          "pie": [
           {
            "automargin": true,
            "type": "pie"
           }
          ],
          "scatter": [
           {
            "marker": {
             "colorbar": {
              "outlinewidth": 0,
              "ticks": ""
             }
            },
            "type": "scatter"
           }
          ],
          "scatter3d": [
           {
            "line": {
             "colorbar": {
              "outlinewidth": 0,
              "ticks": ""
             }
            },
            "marker": {
             "colorbar": {
              "outlinewidth": 0,
              "ticks": ""
             }
            },
            "type": "scatter3d"
           }
          ],
          "scattercarpet": [
           {
            "marker": {
             "colorbar": {
              "outlinewidth": 0,
              "ticks": ""
             }
            },
            "type": "scattercarpet"
           }
          ],
          "scattergeo": [
           {
            "marker": {
             "colorbar": {
              "outlinewidth": 0,
              "ticks": ""
             }
            },
            "type": "scattergeo"
           }
          ],
          "scattergl": [
           {
            "marker": {
             "colorbar": {
              "outlinewidth": 0,
              "ticks": ""
             }
            },
            "type": "scattergl"
           }
          ],
          "scattermapbox": [
           {
            "marker": {
             "colorbar": {
              "outlinewidth": 0,
              "ticks": ""
             }
            },
            "type": "scattermapbox"
           }
          ],
          "scatterpolar": [
           {
            "marker": {
             "colorbar": {
              "outlinewidth": 0,
              "ticks": ""
             }
            },
            "type": "scatterpolar"
           }
          ],
          "scatterpolargl": [
           {
            "marker": {
             "colorbar": {
              "outlinewidth": 0,
              "ticks": ""
             }
            },
            "type": "scatterpolargl"
           }
          ],
          "scatterternary": [
           {
            "marker": {
             "colorbar": {
              "outlinewidth": 0,
              "ticks": ""
             }
            },
            "type": "scatterternary"
           }
          ],
          "surface": [
           {
            "colorbar": {
             "outlinewidth": 0,
             "ticks": ""
            },
            "colorscale": [
             [
              0,
              "#0d0887"
             ],
             [
              0.1111111111111111,
              "#46039f"
             ],
             [
              0.2222222222222222,
              "#7201a8"
             ],
             [
              0.3333333333333333,
              "#9c179e"
             ],
             [
              0.4444444444444444,
              "#bd3786"
             ],
             [
              0.5555555555555556,
              "#d8576b"
             ],
             [
              0.6666666666666666,
              "#ed7953"
             ],
             [
              0.7777777777777778,
              "#fb9f3a"
             ],
             [
              0.8888888888888888,
              "#fdca26"
             ],
             [
              1,
              "#f0f921"
             ]
            ],
            "type": "surface"
           }
          ],
          "table": [
           {
            "cells": {
             "fill": {
              "color": "#EBF0F8"
             },
             "line": {
              "color": "white"
             }
            },
            "header": {
             "fill": {
              "color": "#C8D4E3"
             },
             "line": {
              "color": "white"
             }
            },
            "type": "table"
           }
          ]
         },
         "layout": {
          "annotationdefaults": {
           "arrowcolor": "#2a3f5f",
           "arrowhead": 0,
           "arrowwidth": 1
          },
          "autotypenumbers": "strict",
          "coloraxis": {
           "colorbar": {
            "outlinewidth": 0,
            "ticks": ""
           }
          },
          "colorscale": {
           "diverging": [
            [
             0,
             "#8e0152"
            ],
            [
             0.1,
             "#c51b7d"
            ],
            [
             0.2,
             "#de77ae"
            ],
            [
             0.3,
             "#f1b6da"
            ],
            [
             0.4,
             "#fde0ef"
            ],
            [
             0.5,
             "#f7f7f7"
            ],
            [
             0.6,
             "#e6f5d0"
            ],
            [
             0.7,
             "#b8e186"
            ],
            [
             0.8,
             "#7fbc41"
            ],
            [
             0.9,
             "#4d9221"
            ],
            [
             1,
             "#276419"
            ]
           ],
           "sequential": [
            [
             0,
             "#0d0887"
            ],
            [
             0.1111111111111111,
             "#46039f"
            ],
            [
             0.2222222222222222,
             "#7201a8"
            ],
            [
             0.3333333333333333,
             "#9c179e"
            ],
            [
             0.4444444444444444,
             "#bd3786"
            ],
            [
             0.5555555555555556,
             "#d8576b"
            ],
            [
             0.6666666666666666,
             "#ed7953"
            ],
            [
             0.7777777777777778,
             "#fb9f3a"
            ],
            [
             0.8888888888888888,
             "#fdca26"
            ],
            [
             1,
             "#f0f921"
            ]
           ],
           "sequentialminus": [
            [
             0,
             "#0d0887"
            ],
            [
             0.1111111111111111,
             "#46039f"
            ],
            [
             0.2222222222222222,
             "#7201a8"
            ],
            [
             0.3333333333333333,
             "#9c179e"
            ],
            [
             0.4444444444444444,
             "#bd3786"
            ],
            [
             0.5555555555555556,
             "#d8576b"
            ],
            [
             0.6666666666666666,
             "#ed7953"
            ],
            [
             0.7777777777777778,
             "#fb9f3a"
            ],
            [
             0.8888888888888888,
             "#fdca26"
            ],
            [
             1,
             "#f0f921"
            ]
           ]
          },
          "colorway": [
           "#636efa",
           "#EF553B",
           "#00cc96",
           "#ab63fa",
           "#FFA15A",
           "#19d3f3",
           "#FF6692",
           "#B6E880",
           "#FF97FF",
           "#FECB52"
          ],
          "font": {
           "color": "#2a3f5f"
          },
          "geo": {
           "bgcolor": "white",
           "lakecolor": "white",
           "landcolor": "#E5ECF6",
           "showlakes": true,
           "showland": true,
           "subunitcolor": "white"
          },
          "hoverlabel": {
           "align": "left"
          },
          "hovermode": "closest",
          "mapbox": {
           "style": "light"
          },
          "paper_bgcolor": "white",
          "plot_bgcolor": "#E5ECF6",
          "polar": {
           "angularaxis": {
            "gridcolor": "white",
            "linecolor": "white",
            "ticks": ""
           },
           "bgcolor": "#E5ECF6",
           "radialaxis": {
            "gridcolor": "white",
            "linecolor": "white",
            "ticks": ""
           }
          },
          "scene": {
           "xaxis": {
            "backgroundcolor": "#E5ECF6",
            "gridcolor": "white",
            "gridwidth": 2,
            "linecolor": "white",
            "showbackground": true,
            "ticks": "",
            "zerolinecolor": "white"
           },
           "yaxis": {
            "backgroundcolor": "#E5ECF6",
            "gridcolor": "white",
            "gridwidth": 2,
            "linecolor": "white",
            "showbackground": true,
            "ticks": "",
            "zerolinecolor": "white"
           },
           "zaxis": {
            "backgroundcolor": "#E5ECF6",
            "gridcolor": "white",
            "gridwidth": 2,
            "linecolor": "white",
            "showbackground": true,
            "ticks": "",
            "zerolinecolor": "white"
           }
          },
          "shapedefaults": {
           "line": {
            "color": "#2a3f5f"
           }
          },
          "ternary": {
           "aaxis": {
            "gridcolor": "white",
            "linecolor": "white",
            "ticks": ""
           },
           "baxis": {
            "gridcolor": "white",
            "linecolor": "white",
            "ticks": ""
           },
           "bgcolor": "#E5ECF6",
           "caxis": {
            "gridcolor": "white",
            "linecolor": "white",
            "ticks": ""
           }
          },
          "title": {
           "x": 0.05
          },
          "xaxis": {
           "automargin": true,
           "gridcolor": "white",
           "linecolor": "white",
           "ticks": "",
           "title": {
            "standoff": 15
           },
           "zerolinecolor": "white",
           "zerolinewidth": 2
          },
          "yaxis": {
           "automargin": true,
           "gridcolor": "white",
           "linecolor": "white",
           "ticks": "",
           "title": {
            "standoff": 15
           },
           "zerolinecolor": "white",
           "zerolinewidth": 2
          }
         }
        },
        "title": {
         "font": {
          "color": "#4D5663"
         }
        },
        "xaxis": {
         "gridcolor": "#E1E5ED",
         "showgrid": true,
         "tickfont": {
          "color": "#4D5663"
         },
         "title": {
          "font": {
           "color": "#4D5663"
          },
          "text": ""
         },
         "zerolinecolor": "#E1E5ED"
        },
        "yaxis": {
         "gridcolor": "#E1E5ED",
         "showgrid": true,
         "tickfont": {
          "color": "#4D5663"
         },
         "title": {
          "font": {
           "color": "#4D5663"
          },
          "text": ""
         },
         "zerolinecolor": "#E1E5ED"
        }
       }
      },
      "text/html": [
       "<div>                            <div id=\"3cb51c5a-a72e-4d3e-a4be-c3432f41095e\" class=\"plotly-graph-div\" style=\"height:525px; width:100%;\"></div>            <script type=\"text/javascript\">                require([\"plotly\"], function(Plotly) {                    window.PLOTLYENV=window.PLOTLYENV || {};\n",
       "                    window.PLOTLYENV.BASE_URL='https://plot.ly';                                    if (document.getElementById(\"3cb51c5a-a72e-4d3e-a4be-c3432f41095e\")) {                    Plotly.newPlot(                        \"3cb51c5a-a72e-4d3e-a4be-c3432f41095e\",                        [{\"line\":{\"color\":\"rgba(255, 153, 51, 1.0)\",\"dash\":\"solid\",\"shape\":\"linear\",\"width\":1.3},\"marker\":{\"size\":12,\"symbol\":\"circle\"},\"mode\":\"markers\",\"name\":\"B\",\"text\":\"\",\"x\":[-0.3828792050443604,-0.8470899644257714,0.010194864370989333,0.7301852076151661,2.0209176306324363,-1.5003016962844402,1.3118946476906856,-0.19669756499513247,-0.9076690966885811,-0.3237404643459652,0.637713854283272,-0.03454556326127818,0.7796925569817367,-1.4423716042022108,-2.5845985787359163,0.6619539111661311,-0.687009387052393,-0.07904947689258264,0.05497583547432276,-0.1251154272973603,1.4799840842985588,0.4823254913863216,-2.280333653758334,-0.7687965123125058,-1.9305826565370234,1.2028531218309138,0.11759314103585028,0.8219103216225514,-1.0600425527288615,-0.7924098829680032,0.591057506448477,0.010539468688751144,0.587916797008021,0.5345565463711455,0.23953843637909966,-1.3486453781610805,1.4539031141605863,-0.7434505578041772,-0.06974790232731734,-1.3438280814154056,0.15028835356929468,-0.10287723292446797,0.5337958367766493,-1.7910145450870145,-0.3528093066466839,0.28483534146724776,-0.2376793634250966,-1.1439375104416412,-1.6773681066280623,1.8838782542672348,1.0028758404607157,1.019052841097029,0.30651768295595916,0.4025551526198797,-0.8905919688553369,-1.382874757587919,-0.6816436627196745,0.03878334506085071,-1.3612397104403606,0.3197604660731154,-2.538319364008003,-1.2091878447993685,-0.5249346013368914,0.6692146290182188,-0.11840123236465151,0.8525194553867952,-0.6035975956715631,0.4283480479109968,0.9101749092891146,-0.8864024726325933,0.7775503744458712,-0.3116906590586294,-0.0789741170722278,-0.46571660288813044,-0.7366408087817952,-0.34057771638209616,1.4270333479578556,-0.0685312876711088,-2.590989928710988,0.54533421224908,-0.9316184663461683,-0.3357877632399068,-1.1004430354999835,-1.5112832772747995,0.9233033997807208,0.9248042476413013,0.23712657682615962,-1.7926116956644673,0.8262882219580409,0.41308190167379377,0.20507635069705696,1.1372928682815537,0.19672852705318208,1.032022543036123,-0.8498915495743655,-0.38007228545542127,-1.9829304093355187,0.05455520904456543,0.45889417897813106,-0.14456383999886627],\"y\":[0.34335976624785236,-0.5400241296111232,0.39625879311483636,-1.712841088113455,-0.07509142065935204,-0.73806711582396,0.3883007262086318,-0.5719092755359968,-0.4088347497306631,0.2421573678163824,-0.6529781799711727,0.38854787692263476,0.06453030726300012,-0.6988816243862073,1.3129702162264079,1.1771113015017993,-0.9700610592238458,1.1808244820001328,-1.478327479994,-0.46108336232059793,0.24491015346100684,-0.7318916215779915,-1.7148688047324678,0.5518859965500226,-0.9191779247410646,1.1985025549693435,2.5581128801469877,-0.7762150887891556,-1.549934782178811,0.05201663776978928,1.5232217714596588,-0.44708035980241534,-0.9086628778502828,-0.27525104215952567,-0.3577790202540434,0.4811753508335344,-0.5887451051233683,-1.294270125275922,0.8523861547501889,0.7381047196318503,1.0644322360476512,1.5967001236435843,0.82247172376917,-1.645808080381747,0.6857054299863742,-0.9009862391622963,-1.257234685603805,0.563120200391336,-0.9621725292323109,-0.5933983360655105,0.1284819007413659,-0.4240882124272642,1.1118812763090071,-1.9227848733315895,-0.419556595005051,1.5272854460120502,0.9102671180274021,0.6786808331841732,-0.42366626781453104,-1.1247464588926015,0.5004369031549727,-1.422643181814059,-0.06352335456872109,-0.6140831914140193,0.5603086977341717,1.474751693797127,1.6512484343980032,-1.0210150242509708,-0.7432289383819919,1.3875297294630236,-0.6514939869833749,1.4721881339131935,1.518432510112827,0.03638510312744503,0.7270871221481457,1.0793079148027827,0.4072592314941338,0.5823303662801511,0.2779238844720935,1.3057489297021347,0.07351712777696348,-0.8794259892692825,0.29982770281056553,-0.3416568949263266,3.458170678509682,0.058799135304265615,-0.3884328992504171,0.545514744824541,0.24141281219690586,-1.212419426084278,1.441259323038795,0.8503394918604567,-0.8204208120323783,0.21563670697344076,2.8069650295546076,1.5238759774181017,-0.6621926922073339,-1.060870331126299,-1.2805044081418444,-1.2349226572849306],\"type\":\"scatter\"}],                        {\"legend\":{\"bgcolor\":\"#F5F6F9\",\"font\":{\"color\":\"#4D5663\"}},\"paper_bgcolor\":\"#F5F6F9\",\"plot_bgcolor\":\"#F5F6F9\",\"template\":{\"data\":{\"barpolar\":[{\"marker\":{\"line\":{\"color\":\"#E5ECF6\",\"width\":0.5},\"pattern\":{\"fillmode\":\"overlay\",\"size\":10,\"solidity\":0.2}},\"type\":\"barpolar\"}],\"bar\":[{\"error_x\":{\"color\":\"#2a3f5f\"},\"error_y\":{\"color\":\"#2a3f5f\"},\"marker\":{\"line\":{\"color\":\"#E5ECF6\",\"width\":0.5},\"pattern\":{\"fillmode\":\"overlay\",\"size\":10,\"solidity\":0.2}},\"type\":\"bar\"}],\"carpet\":[{\"aaxis\":{\"endlinecolor\":\"#2a3f5f\",\"gridcolor\":\"white\",\"linecolor\":\"white\",\"minorgridcolor\":\"white\",\"startlinecolor\":\"#2a3f5f\"},\"baxis\":{\"endlinecolor\":\"#2a3f5f\",\"gridcolor\":\"white\",\"linecolor\":\"white\",\"minorgridcolor\":\"white\",\"startlinecolor\":\"#2a3f5f\"},\"type\":\"carpet\"}],\"choropleth\":[{\"colorbar\":{\"outlinewidth\":0,\"ticks\":\"\"},\"type\":\"choropleth\"}],\"contourcarpet\":[{\"colorbar\":{\"outlinewidth\":0,\"ticks\":\"\"},\"type\":\"contourcarpet\"}],\"contour\":[{\"colorbar\":{\"outlinewidth\":0,\"ticks\":\"\"},\"colorscale\":[[0.0,\"#0d0887\"],[0.1111111111111111,\"#46039f\"],[0.2222222222222222,\"#7201a8\"],[0.3333333333333333,\"#9c179e\"],[0.4444444444444444,\"#bd3786\"],[0.5555555555555556,\"#d8576b\"],[0.6666666666666666,\"#ed7953\"],[0.7777777777777778,\"#fb9f3a\"],[0.8888888888888888,\"#fdca26\"],[1.0,\"#f0f921\"]],\"type\":\"contour\"}],\"heatmapgl\":[{\"colorbar\":{\"outlinewidth\":0,\"ticks\":\"\"},\"colorscale\":[[0.0,\"#0d0887\"],[0.1111111111111111,\"#46039f\"],[0.2222222222222222,\"#7201a8\"],[0.3333333333333333,\"#9c179e\"],[0.4444444444444444,\"#bd3786\"],[0.5555555555555556,\"#d8576b\"],[0.6666666666666666,\"#ed7953\"],[0.7777777777777778,\"#fb9f3a\"],[0.8888888888888888,\"#fdca26\"],[1.0,\"#f0f921\"]],\"type\":\"heatmapgl\"}],\"heatmap\":[{\"colorbar\":{\"outlinewidth\":0,\"ticks\":\"\"},\"colorscale\":[[0.0,\"#0d0887\"],[0.1111111111111111,\"#46039f\"],[0.2222222222222222,\"#7201a8\"],[0.3333333333333333,\"#9c179e\"],[0.4444444444444444,\"#bd3786\"],[0.5555555555555556,\"#d8576b\"],[0.6666666666666666,\"#ed7953\"],[0.7777777777777778,\"#fb9f3a\"],[0.8888888888888888,\"#fdca26\"],[1.0,\"#f0f921\"]],\"type\":\"heatmap\"}],\"histogram2dcontour\":[{\"colorbar\":{\"outlinewidth\":0,\"ticks\":\"\"},\"colorscale\":[[0.0,\"#0d0887\"],[0.1111111111111111,\"#46039f\"],[0.2222222222222222,\"#7201a8\"],[0.3333333333333333,\"#9c179e\"],[0.4444444444444444,\"#bd3786\"],[0.5555555555555556,\"#d8576b\"],[0.6666666666666666,\"#ed7953\"],[0.7777777777777778,\"#fb9f3a\"],[0.8888888888888888,\"#fdca26\"],[1.0,\"#f0f921\"]],\"type\":\"histogram2dcontour\"}],\"histogram2d\":[{\"colorbar\":{\"outlinewidth\":0,\"ticks\":\"\"},\"colorscale\":[[0.0,\"#0d0887\"],[0.1111111111111111,\"#46039f\"],[0.2222222222222222,\"#7201a8\"],[0.3333333333333333,\"#9c179e\"],[0.4444444444444444,\"#bd3786\"],[0.5555555555555556,\"#d8576b\"],[0.6666666666666666,\"#ed7953\"],[0.7777777777777778,\"#fb9f3a\"],[0.8888888888888888,\"#fdca26\"],[1.0,\"#f0f921\"]],\"type\":\"histogram2d\"}],\"histogram\":[{\"marker\":{\"pattern\":{\"fillmode\":\"overlay\",\"size\":10,\"solidity\":0.2}},\"type\":\"histogram\"}],\"mesh3d\":[{\"colorbar\":{\"outlinewidth\":0,\"ticks\":\"\"},\"type\":\"mesh3d\"}],\"parcoords\":[{\"line\":{\"colorbar\":{\"outlinewidth\":0,\"ticks\":\"\"}},\"type\":\"parcoords\"}],\"pie\":[{\"automargin\":true,\"type\":\"pie\"}],\"scatter3d\":[{\"line\":{\"colorbar\":{\"outlinewidth\":0,\"ticks\":\"\"}},\"marker\":{\"colorbar\":{\"outlinewidth\":0,\"ticks\":\"\"}},\"type\":\"scatter3d\"}],\"scattercarpet\":[{\"marker\":{\"colorbar\":{\"outlinewidth\":0,\"ticks\":\"\"}},\"type\":\"scattercarpet\"}],\"scattergeo\":[{\"marker\":{\"colorbar\":{\"outlinewidth\":0,\"ticks\":\"\"}},\"type\":\"scattergeo\"}],\"scattergl\":[{\"marker\":{\"colorbar\":{\"outlinewidth\":0,\"ticks\":\"\"}},\"type\":\"scattergl\"}],\"scattermapbox\":[{\"marker\":{\"colorbar\":{\"outlinewidth\":0,\"ticks\":\"\"}},\"type\":\"scattermapbox\"}],\"scatterpolargl\":[{\"marker\":{\"colorbar\":{\"outlinewidth\":0,\"ticks\":\"\"}},\"type\":\"scatterpolargl\"}],\"scatterpolar\":[{\"marker\":{\"colorbar\":{\"outlinewidth\":0,\"ticks\":\"\"}},\"type\":\"scatterpolar\"}],\"scatter\":[{\"marker\":{\"colorbar\":{\"outlinewidth\":0,\"ticks\":\"\"}},\"type\":\"scatter\"}],\"scatterternary\":[{\"marker\":{\"colorbar\":{\"outlinewidth\":0,\"ticks\":\"\"}},\"type\":\"scatterternary\"}],\"surface\":[{\"colorbar\":{\"outlinewidth\":0,\"ticks\":\"\"},\"colorscale\":[[0.0,\"#0d0887\"],[0.1111111111111111,\"#46039f\"],[0.2222222222222222,\"#7201a8\"],[0.3333333333333333,\"#9c179e\"],[0.4444444444444444,\"#bd3786\"],[0.5555555555555556,\"#d8576b\"],[0.6666666666666666,\"#ed7953\"],[0.7777777777777778,\"#fb9f3a\"],[0.8888888888888888,\"#fdca26\"],[1.0,\"#f0f921\"]],\"type\":\"surface\"}],\"table\":[{\"cells\":{\"fill\":{\"color\":\"#EBF0F8\"},\"line\":{\"color\":\"white\"}},\"header\":{\"fill\":{\"color\":\"#C8D4E3\"},\"line\":{\"color\":\"white\"}},\"type\":\"table\"}]},\"layout\":{\"annotationdefaults\":{\"arrowcolor\":\"#2a3f5f\",\"arrowhead\":0,\"arrowwidth\":1},\"autotypenumbers\":\"strict\",\"coloraxis\":{\"colorbar\":{\"outlinewidth\":0,\"ticks\":\"\"}},\"colorscale\":{\"diverging\":[[0,\"#8e0152\"],[0.1,\"#c51b7d\"],[0.2,\"#de77ae\"],[0.3,\"#f1b6da\"],[0.4,\"#fde0ef\"],[0.5,\"#f7f7f7\"],[0.6,\"#e6f5d0\"],[0.7,\"#b8e186\"],[0.8,\"#7fbc41\"],[0.9,\"#4d9221\"],[1,\"#276419\"]],\"sequential\":[[0.0,\"#0d0887\"],[0.1111111111111111,\"#46039f\"],[0.2222222222222222,\"#7201a8\"],[0.3333333333333333,\"#9c179e\"],[0.4444444444444444,\"#bd3786\"],[0.5555555555555556,\"#d8576b\"],[0.6666666666666666,\"#ed7953\"],[0.7777777777777778,\"#fb9f3a\"],[0.8888888888888888,\"#fdca26\"],[1.0,\"#f0f921\"]],\"sequentialminus\":[[0.0,\"#0d0887\"],[0.1111111111111111,\"#46039f\"],[0.2222222222222222,\"#7201a8\"],[0.3333333333333333,\"#9c179e\"],[0.4444444444444444,\"#bd3786\"],[0.5555555555555556,\"#d8576b\"],[0.6666666666666666,\"#ed7953\"],[0.7777777777777778,\"#fb9f3a\"],[0.8888888888888888,\"#fdca26\"],[1.0,\"#f0f921\"]]},\"colorway\":[\"#636efa\",\"#EF553B\",\"#00cc96\",\"#ab63fa\",\"#FFA15A\",\"#19d3f3\",\"#FF6692\",\"#B6E880\",\"#FF97FF\",\"#FECB52\"],\"font\":{\"color\":\"#2a3f5f\"},\"geo\":{\"bgcolor\":\"white\",\"lakecolor\":\"white\",\"landcolor\":\"#E5ECF6\",\"showlakes\":true,\"showland\":true,\"subunitcolor\":\"white\"},\"hoverlabel\":{\"align\":\"left\"},\"hovermode\":\"closest\",\"mapbox\":{\"style\":\"light\"},\"paper_bgcolor\":\"white\",\"plot_bgcolor\":\"#E5ECF6\",\"polar\":{\"angularaxis\":{\"gridcolor\":\"white\",\"linecolor\":\"white\",\"ticks\":\"\"},\"bgcolor\":\"#E5ECF6\",\"radialaxis\":{\"gridcolor\":\"white\",\"linecolor\":\"white\",\"ticks\":\"\"}},\"scene\":{\"xaxis\":{\"backgroundcolor\":\"#E5ECF6\",\"gridcolor\":\"white\",\"gridwidth\":2,\"linecolor\":\"white\",\"showbackground\":true,\"ticks\":\"\",\"zerolinecolor\":\"white\"},\"yaxis\":{\"backgroundcolor\":\"#E5ECF6\",\"gridcolor\":\"white\",\"gridwidth\":2,\"linecolor\":\"white\",\"showbackground\":true,\"ticks\":\"\",\"zerolinecolor\":\"white\"},\"zaxis\":{\"backgroundcolor\":\"#E5ECF6\",\"gridcolor\":\"white\",\"gridwidth\":2,\"linecolor\":\"white\",\"showbackground\":true,\"ticks\":\"\",\"zerolinecolor\":\"white\"}},\"shapedefaults\":{\"line\":{\"color\":\"#2a3f5f\"}},\"ternary\":{\"aaxis\":{\"gridcolor\":\"white\",\"linecolor\":\"white\",\"ticks\":\"\"},\"baxis\":{\"gridcolor\":\"white\",\"linecolor\":\"white\",\"ticks\":\"\"},\"bgcolor\":\"#E5ECF6\",\"caxis\":{\"gridcolor\":\"white\",\"linecolor\":\"white\",\"ticks\":\"\"}},\"title\":{\"x\":0.05},\"xaxis\":{\"automargin\":true,\"gridcolor\":\"white\",\"linecolor\":\"white\",\"ticks\":\"\",\"title\":{\"standoff\":15},\"zerolinecolor\":\"white\",\"zerolinewidth\":2},\"yaxis\":{\"automargin\":true,\"gridcolor\":\"white\",\"linecolor\":\"white\",\"ticks\":\"\",\"title\":{\"standoff\":15},\"zerolinecolor\":\"white\",\"zerolinewidth\":2}}},\"title\":{\"font\":{\"color\":\"#4D5663\"}},\"xaxis\":{\"gridcolor\":\"#E1E5ED\",\"showgrid\":true,\"tickfont\":{\"color\":\"#4D5663\"},\"title\":{\"font\":{\"color\":\"#4D5663\"},\"text\":\"\"},\"zerolinecolor\":\"#E1E5ED\"},\"yaxis\":{\"gridcolor\":\"#E1E5ED\",\"showgrid\":true,\"tickfont\":{\"color\":\"#4D5663\"},\"title\":{\"font\":{\"color\":\"#4D5663\"},\"text\":\"\"},\"zerolinecolor\":\"#E1E5ED\"}},                        {\"showLink\": true, \"linkText\": \"Export to plot.ly\", \"plotlyServerURL\": \"https://plot.ly\", \"responsive\": true}                    ).then(function(){\n",
       "                            \n",
       "var gd = document.getElementById('3cb51c5a-a72e-4d3e-a4be-c3432f41095e');\n",
       "var x = new MutationObserver(function (mutations, observer) {{\n",
       "        var display = window.getComputedStyle(gd).display;\n",
       "        if (!display || display === 'none') {{\n",
       "            console.log([gd, 'removed!']);\n",
       "            Plotly.purge(gd);\n",
       "            observer.disconnect();\n",
       "        }}\n",
       "}});\n",
       "\n",
       "// Listen for the removal of the full notebook cells\n",
       "var notebookContainer = gd.closest('#notebook-container');\n",
       "if (notebookContainer) {{\n",
       "    x.observe(notebookContainer, {childList: true});\n",
       "}}\n",
       "\n",
       "// Listen for the clearing of the current output cell\n",
       "var outputEl = gd.closest('.output');\n",
       "if (outputEl) {{\n",
       "    x.observe(outputEl, {childList: true});\n",
       "}}\n",
       "\n",
       "                        })                };                });            </script>        </div>"
      ]
     },
     "metadata": {},
     "output_type": "display_data"
    }
   ],
   "source": [
    "df1.iplot(kind='scatter', x='A', y='B', mode='markers')"
   ]
  },
  {
   "cell_type": "markdown",
   "id": "a6c42e8b",
   "metadata": {},
   "source": [
    "## BAR IPLOT"
   ]
  },
  {
   "cell_type": "code",
   "execution_count": 17,
   "id": "159ba27e",
   "metadata": {},
   "outputs": [
    {
     "data": {
      "application/vnd.plotly.v1+json": {
       "config": {
        "linkText": "Export to plot.ly",
        "plotlyServerURL": "https://plot.ly",
        "showLink": true
       },
       "data": [
        {
         "marker": {
          "color": "rgba(255, 153, 51, 0.6)",
          "line": {
           "color": "rgba(255, 153, 51, 1.0)",
           "width": 1
          }
         },
         "name": "Values",
         "orientation": "v",
         "text": "",
         "type": "bar",
         "x": [
          "A",
          "B",
          "C"
         ],
         "y": [
          32,
          43,
          50
         ]
        }
       ],
       "layout": {
        "legend": {
         "bgcolor": "#F5F6F9",
         "font": {
          "color": "#4D5663"
         }
        },
        "paper_bgcolor": "#F5F6F9",
        "plot_bgcolor": "#F5F6F9",
        "template": {
         "data": {
          "bar": [
           {
            "error_x": {
             "color": "#2a3f5f"
            },
            "error_y": {
             "color": "#2a3f5f"
            },
            "marker": {
             "line": {
              "color": "#E5ECF6",
              "width": 0.5
             },
             "pattern": {
              "fillmode": "overlay",
              "size": 10,
              "solidity": 0.2
             }
            },
            "type": "bar"
           }
          ],
          "barpolar": [
           {
            "marker": {
             "line": {
              "color": "#E5ECF6",
              "width": 0.5
             },
             "pattern": {
              "fillmode": "overlay",
              "size": 10,
              "solidity": 0.2
             }
            },
            "type": "barpolar"
           }
          ],
          "carpet": [
           {
            "aaxis": {
             "endlinecolor": "#2a3f5f",
             "gridcolor": "white",
             "linecolor": "white",
             "minorgridcolor": "white",
             "startlinecolor": "#2a3f5f"
            },
            "baxis": {
             "endlinecolor": "#2a3f5f",
             "gridcolor": "white",
             "linecolor": "white",
             "minorgridcolor": "white",
             "startlinecolor": "#2a3f5f"
            },
            "type": "carpet"
           }
          ],
          "choropleth": [
           {
            "colorbar": {
             "outlinewidth": 0,
             "ticks": ""
            },
            "type": "choropleth"
           }
          ],
          "contour": [
           {
            "colorbar": {
             "outlinewidth": 0,
             "ticks": ""
            },
            "colorscale": [
             [
              0,
              "#0d0887"
             ],
             [
              0.1111111111111111,
              "#46039f"
             ],
             [
              0.2222222222222222,
              "#7201a8"
             ],
             [
              0.3333333333333333,
              "#9c179e"
             ],
             [
              0.4444444444444444,
              "#bd3786"
             ],
             [
              0.5555555555555556,
              "#d8576b"
             ],
             [
              0.6666666666666666,
              "#ed7953"
             ],
             [
              0.7777777777777778,
              "#fb9f3a"
             ],
             [
              0.8888888888888888,
              "#fdca26"
             ],
             [
              1,
              "#f0f921"
             ]
            ],
            "type": "contour"
           }
          ],
          "contourcarpet": [
           {
            "colorbar": {
             "outlinewidth": 0,
             "ticks": ""
            },
            "type": "contourcarpet"
           }
          ],
          "heatmap": [
           {
            "colorbar": {
             "outlinewidth": 0,
             "ticks": ""
            },
            "colorscale": [
             [
              0,
              "#0d0887"
             ],
             [
              0.1111111111111111,
              "#46039f"
             ],
             [
              0.2222222222222222,
              "#7201a8"
             ],
             [
              0.3333333333333333,
              "#9c179e"
             ],
             [
              0.4444444444444444,
              "#bd3786"
             ],
             [
              0.5555555555555556,
              "#d8576b"
             ],
             [
              0.6666666666666666,
              "#ed7953"
             ],
             [
              0.7777777777777778,
              "#fb9f3a"
             ],
             [
              0.8888888888888888,
              "#fdca26"
             ],
             [
              1,
              "#f0f921"
             ]
            ],
            "type": "heatmap"
           }
          ],
          "heatmapgl": [
           {
            "colorbar": {
             "outlinewidth": 0,
             "ticks": ""
            },
            "colorscale": [
             [
              0,
              "#0d0887"
             ],
             [
              0.1111111111111111,
              "#46039f"
             ],
             [
              0.2222222222222222,
              "#7201a8"
             ],
             [
              0.3333333333333333,
              "#9c179e"
             ],
             [
              0.4444444444444444,
              "#bd3786"
             ],
             [
              0.5555555555555556,
              "#d8576b"
             ],
             [
              0.6666666666666666,
              "#ed7953"
             ],
             [
              0.7777777777777778,
              "#fb9f3a"
             ],
             [
              0.8888888888888888,
              "#fdca26"
             ],
             [
              1,
              "#f0f921"
             ]
            ],
            "type": "heatmapgl"
           }
          ],
          "histogram": [
           {
            "marker": {
             "pattern": {
              "fillmode": "overlay",
              "size": 10,
              "solidity": 0.2
             }
            },
            "type": "histogram"
           }
          ],
          "histogram2d": [
           {
            "colorbar": {
             "outlinewidth": 0,
             "ticks": ""
            },
            "colorscale": [
             [
              0,
              "#0d0887"
             ],
             [
              0.1111111111111111,
              "#46039f"
             ],
             [
              0.2222222222222222,
              "#7201a8"
             ],
             [
              0.3333333333333333,
              "#9c179e"
             ],
             [
              0.4444444444444444,
              "#bd3786"
             ],
             [
              0.5555555555555556,
              "#d8576b"
             ],
             [
              0.6666666666666666,
              "#ed7953"
             ],
             [
              0.7777777777777778,
              "#fb9f3a"
             ],
             [
              0.8888888888888888,
              "#fdca26"
             ],
             [
              1,
              "#f0f921"
             ]
            ],
            "type": "histogram2d"
           }
          ],
          "histogram2dcontour": [
           {
            "colorbar": {
             "outlinewidth": 0,
             "ticks": ""
            },
            "colorscale": [
             [
              0,
              "#0d0887"
             ],
             [
              0.1111111111111111,
              "#46039f"
             ],
             [
              0.2222222222222222,
              "#7201a8"
             ],
             [
              0.3333333333333333,
              "#9c179e"
             ],
             [
              0.4444444444444444,
              "#bd3786"
             ],
             [
              0.5555555555555556,
              "#d8576b"
             ],
             [
              0.6666666666666666,
              "#ed7953"
             ],
             [
              0.7777777777777778,
              "#fb9f3a"
             ],
             [
              0.8888888888888888,
              "#fdca26"
             ],
             [
              1,
              "#f0f921"
             ]
            ],
            "type": "histogram2dcontour"
           }
          ],
          "mesh3d": [
           {
            "colorbar": {
             "outlinewidth": 0,
             "ticks": ""
            },
            "type": "mesh3d"
           }
          ],
          "parcoords": [
           {
            "line": {
             "colorbar": {
              "outlinewidth": 0,
              "ticks": ""
             }
            },
            "type": "parcoords"
           }
          ],
          "pie": [
           {
            "automargin": true,
            "type": "pie"
           }
          ],
          "scatter": [
           {
            "marker": {
             "colorbar": {
              "outlinewidth": 0,
              "ticks": ""
             }
            },
            "type": "scatter"
           }
          ],
          "scatter3d": [
           {
            "line": {
             "colorbar": {
              "outlinewidth": 0,
              "ticks": ""
             }
            },
            "marker": {
             "colorbar": {
              "outlinewidth": 0,
              "ticks": ""
             }
            },
            "type": "scatter3d"
           }
          ],
          "scattercarpet": [
           {
            "marker": {
             "colorbar": {
              "outlinewidth": 0,
              "ticks": ""
             }
            },
            "type": "scattercarpet"
           }
          ],
          "scattergeo": [
           {
            "marker": {
             "colorbar": {
              "outlinewidth": 0,
              "ticks": ""
             }
            },
            "type": "scattergeo"
           }
          ],
          "scattergl": [
           {
            "marker": {
             "colorbar": {
              "outlinewidth": 0,
              "ticks": ""
             }
            },
            "type": "scattergl"
           }
          ],
          "scattermapbox": [
           {
            "marker": {
             "colorbar": {
              "outlinewidth": 0,
              "ticks": ""
             }
            },
            "type": "scattermapbox"
           }
          ],
          "scatterpolar": [
           {
            "marker": {
             "colorbar": {
              "outlinewidth": 0,
              "ticks": ""
             }
            },
            "type": "scatterpolar"
           }
          ],
          "scatterpolargl": [
           {
            "marker": {
             "colorbar": {
              "outlinewidth": 0,
              "ticks": ""
             }
            },
            "type": "scatterpolargl"
           }
          ],
          "scatterternary": [
           {
            "marker": {
             "colorbar": {
              "outlinewidth": 0,
              "ticks": ""
             }
            },
            "type": "scatterternary"
           }
          ],
          "surface": [
           {
            "colorbar": {
             "outlinewidth": 0,
             "ticks": ""
            },
            "colorscale": [
             [
              0,
              "#0d0887"
             ],
             [
              0.1111111111111111,
              "#46039f"
             ],
             [
              0.2222222222222222,
              "#7201a8"
             ],
             [
              0.3333333333333333,
              "#9c179e"
             ],
             [
              0.4444444444444444,
              "#bd3786"
             ],
             [
              0.5555555555555556,
              "#d8576b"
             ],
             [
              0.6666666666666666,
              "#ed7953"
             ],
             [
              0.7777777777777778,
              "#fb9f3a"
             ],
             [
              0.8888888888888888,
              "#fdca26"
             ],
             [
              1,
              "#f0f921"
             ]
            ],
            "type": "surface"
           }
          ],
          "table": [
           {
            "cells": {
             "fill": {
              "color": "#EBF0F8"
             },
             "line": {
              "color": "white"
             }
            },
            "header": {
             "fill": {
              "color": "#C8D4E3"
             },
             "line": {
              "color": "white"
             }
            },
            "type": "table"
           }
          ]
         },
         "layout": {
          "annotationdefaults": {
           "arrowcolor": "#2a3f5f",
           "arrowhead": 0,
           "arrowwidth": 1
          },
          "autotypenumbers": "strict",
          "coloraxis": {
           "colorbar": {
            "outlinewidth": 0,
            "ticks": ""
           }
          },
          "colorscale": {
           "diverging": [
            [
             0,
             "#8e0152"
            ],
            [
             0.1,
             "#c51b7d"
            ],
            [
             0.2,
             "#de77ae"
            ],
            [
             0.3,
             "#f1b6da"
            ],
            [
             0.4,
             "#fde0ef"
            ],
            [
             0.5,
             "#f7f7f7"
            ],
            [
             0.6,
             "#e6f5d0"
            ],
            [
             0.7,
             "#b8e186"
            ],
            [
             0.8,
             "#7fbc41"
            ],
            [
             0.9,
             "#4d9221"
            ],
            [
             1,
             "#276419"
            ]
           ],
           "sequential": [
            [
             0,
             "#0d0887"
            ],
            [
             0.1111111111111111,
             "#46039f"
            ],
            [
             0.2222222222222222,
             "#7201a8"
            ],
            [
             0.3333333333333333,
             "#9c179e"
            ],
            [
             0.4444444444444444,
             "#bd3786"
            ],
            [
             0.5555555555555556,
             "#d8576b"
            ],
            [
             0.6666666666666666,
             "#ed7953"
            ],
            [
             0.7777777777777778,
             "#fb9f3a"
            ],
            [
             0.8888888888888888,
             "#fdca26"
            ],
            [
             1,
             "#f0f921"
            ]
           ],
           "sequentialminus": [
            [
             0,
             "#0d0887"
            ],
            [
             0.1111111111111111,
             "#46039f"
            ],
            [
             0.2222222222222222,
             "#7201a8"
            ],
            [
             0.3333333333333333,
             "#9c179e"
            ],
            [
             0.4444444444444444,
             "#bd3786"
            ],
            [
             0.5555555555555556,
             "#d8576b"
            ],
            [
             0.6666666666666666,
             "#ed7953"
            ],
            [
             0.7777777777777778,
             "#fb9f3a"
            ],
            [
             0.8888888888888888,
             "#fdca26"
            ],
            [
             1,
             "#f0f921"
            ]
           ]
          },
          "colorway": [
           "#636efa",
           "#EF553B",
           "#00cc96",
           "#ab63fa",
           "#FFA15A",
           "#19d3f3",
           "#FF6692",
           "#B6E880",
           "#FF97FF",
           "#FECB52"
          ],
          "font": {
           "color": "#2a3f5f"
          },
          "geo": {
           "bgcolor": "white",
           "lakecolor": "white",
           "landcolor": "#E5ECF6",
           "showlakes": true,
           "showland": true,
           "subunitcolor": "white"
          },
          "hoverlabel": {
           "align": "left"
          },
          "hovermode": "closest",
          "mapbox": {
           "style": "light"
          },
          "paper_bgcolor": "white",
          "plot_bgcolor": "#E5ECF6",
          "polar": {
           "angularaxis": {
            "gridcolor": "white",
            "linecolor": "white",
            "ticks": ""
           },
           "bgcolor": "#E5ECF6",
           "radialaxis": {
            "gridcolor": "white",
            "linecolor": "white",
            "ticks": ""
           }
          },
          "scene": {
           "xaxis": {
            "backgroundcolor": "#E5ECF6",
            "gridcolor": "white",
            "gridwidth": 2,
            "linecolor": "white",
            "showbackground": true,
            "ticks": "",
            "zerolinecolor": "white"
           },
           "yaxis": {
            "backgroundcolor": "#E5ECF6",
            "gridcolor": "white",
            "gridwidth": 2,
            "linecolor": "white",
            "showbackground": true,
            "ticks": "",
            "zerolinecolor": "white"
           },
           "zaxis": {
            "backgroundcolor": "#E5ECF6",
            "gridcolor": "white",
            "gridwidth": 2,
            "linecolor": "white",
            "showbackground": true,
            "ticks": "",
            "zerolinecolor": "white"
           }
          },
          "shapedefaults": {
           "line": {
            "color": "#2a3f5f"
           }
          },
          "ternary": {
           "aaxis": {
            "gridcolor": "white",
            "linecolor": "white",
            "ticks": ""
           },
           "baxis": {
            "gridcolor": "white",
            "linecolor": "white",
            "ticks": ""
           },
           "bgcolor": "#E5ECF6",
           "caxis": {
            "gridcolor": "white",
            "linecolor": "white",
            "ticks": ""
           }
          },
          "title": {
           "x": 0.05
          },
          "xaxis": {
           "automargin": true,
           "gridcolor": "white",
           "linecolor": "white",
           "ticks": "",
           "title": {
            "standoff": 15
           },
           "zerolinecolor": "white",
           "zerolinewidth": 2
          },
          "yaxis": {
           "automargin": true,
           "gridcolor": "white",
           "linecolor": "white",
           "ticks": "",
           "title": {
            "standoff": 15
           },
           "zerolinecolor": "white",
           "zerolinewidth": 2
          }
         }
        },
        "title": {
         "font": {
          "color": "#4D5663"
         }
        },
        "xaxis": {
         "gridcolor": "#E1E5ED",
         "showgrid": true,
         "tickfont": {
          "color": "#4D5663"
         },
         "title": {
          "font": {
           "color": "#4D5663"
          },
          "text": ""
         },
         "zerolinecolor": "#E1E5ED"
        },
        "yaxis": {
         "gridcolor": "#E1E5ED",
         "showgrid": true,
         "tickfont": {
          "color": "#4D5663"
         },
         "title": {
          "font": {
           "color": "#4D5663"
          },
          "text": ""
         },
         "zerolinecolor": "#E1E5ED"
        }
       }
      },
      "text/html": [
       "<div>                            <div id=\"1d616c74-fbff-49f4-89ec-5b5aad23f394\" class=\"plotly-graph-div\" style=\"height:525px; width:100%;\"></div>            <script type=\"text/javascript\">                require([\"plotly\"], function(Plotly) {                    window.PLOTLYENV=window.PLOTLYENV || {};\n",
       "                    window.PLOTLYENV.BASE_URL='https://plot.ly';                                    if (document.getElementById(\"1d616c74-fbff-49f4-89ec-5b5aad23f394\")) {                    Plotly.newPlot(                        \"1d616c74-fbff-49f4-89ec-5b5aad23f394\",                        [{\"marker\":{\"color\":\"rgba(255, 153, 51, 0.6)\",\"line\":{\"color\":\"rgba(255, 153, 51, 1.0)\",\"width\":1}},\"name\":\"Values\",\"orientation\":\"v\",\"text\":\"\",\"x\":[\"A\",\"B\",\"C\"],\"y\":[32,43,50],\"type\":\"bar\"}],                        {\"legend\":{\"bgcolor\":\"#F5F6F9\",\"font\":{\"color\":\"#4D5663\"}},\"paper_bgcolor\":\"#F5F6F9\",\"plot_bgcolor\":\"#F5F6F9\",\"template\":{\"data\":{\"barpolar\":[{\"marker\":{\"line\":{\"color\":\"#E5ECF6\",\"width\":0.5},\"pattern\":{\"fillmode\":\"overlay\",\"size\":10,\"solidity\":0.2}},\"type\":\"barpolar\"}],\"bar\":[{\"error_x\":{\"color\":\"#2a3f5f\"},\"error_y\":{\"color\":\"#2a3f5f\"},\"marker\":{\"line\":{\"color\":\"#E5ECF6\",\"width\":0.5},\"pattern\":{\"fillmode\":\"overlay\",\"size\":10,\"solidity\":0.2}},\"type\":\"bar\"}],\"carpet\":[{\"aaxis\":{\"endlinecolor\":\"#2a3f5f\",\"gridcolor\":\"white\",\"linecolor\":\"white\",\"minorgridcolor\":\"white\",\"startlinecolor\":\"#2a3f5f\"},\"baxis\":{\"endlinecolor\":\"#2a3f5f\",\"gridcolor\":\"white\",\"linecolor\":\"white\",\"minorgridcolor\":\"white\",\"startlinecolor\":\"#2a3f5f\"},\"type\":\"carpet\"}],\"choropleth\":[{\"colorbar\":{\"outlinewidth\":0,\"ticks\":\"\"},\"type\":\"choropleth\"}],\"contourcarpet\":[{\"colorbar\":{\"outlinewidth\":0,\"ticks\":\"\"},\"type\":\"contourcarpet\"}],\"contour\":[{\"colorbar\":{\"outlinewidth\":0,\"ticks\":\"\"},\"colorscale\":[[0.0,\"#0d0887\"],[0.1111111111111111,\"#46039f\"],[0.2222222222222222,\"#7201a8\"],[0.3333333333333333,\"#9c179e\"],[0.4444444444444444,\"#bd3786\"],[0.5555555555555556,\"#d8576b\"],[0.6666666666666666,\"#ed7953\"],[0.7777777777777778,\"#fb9f3a\"],[0.8888888888888888,\"#fdca26\"],[1.0,\"#f0f921\"]],\"type\":\"contour\"}],\"heatmapgl\":[{\"colorbar\":{\"outlinewidth\":0,\"ticks\":\"\"},\"colorscale\":[[0.0,\"#0d0887\"],[0.1111111111111111,\"#46039f\"],[0.2222222222222222,\"#7201a8\"],[0.3333333333333333,\"#9c179e\"],[0.4444444444444444,\"#bd3786\"],[0.5555555555555556,\"#d8576b\"],[0.6666666666666666,\"#ed7953\"],[0.7777777777777778,\"#fb9f3a\"],[0.8888888888888888,\"#fdca26\"],[1.0,\"#f0f921\"]],\"type\":\"heatmapgl\"}],\"heatmap\":[{\"colorbar\":{\"outlinewidth\":0,\"ticks\":\"\"},\"colorscale\":[[0.0,\"#0d0887\"],[0.1111111111111111,\"#46039f\"],[0.2222222222222222,\"#7201a8\"],[0.3333333333333333,\"#9c179e\"],[0.4444444444444444,\"#bd3786\"],[0.5555555555555556,\"#d8576b\"],[0.6666666666666666,\"#ed7953\"],[0.7777777777777778,\"#fb9f3a\"],[0.8888888888888888,\"#fdca26\"],[1.0,\"#f0f921\"]],\"type\":\"heatmap\"}],\"histogram2dcontour\":[{\"colorbar\":{\"outlinewidth\":0,\"ticks\":\"\"},\"colorscale\":[[0.0,\"#0d0887\"],[0.1111111111111111,\"#46039f\"],[0.2222222222222222,\"#7201a8\"],[0.3333333333333333,\"#9c179e\"],[0.4444444444444444,\"#bd3786\"],[0.5555555555555556,\"#d8576b\"],[0.6666666666666666,\"#ed7953\"],[0.7777777777777778,\"#fb9f3a\"],[0.8888888888888888,\"#fdca26\"],[1.0,\"#f0f921\"]],\"type\":\"histogram2dcontour\"}],\"histogram2d\":[{\"colorbar\":{\"outlinewidth\":0,\"ticks\":\"\"},\"colorscale\":[[0.0,\"#0d0887\"],[0.1111111111111111,\"#46039f\"],[0.2222222222222222,\"#7201a8\"],[0.3333333333333333,\"#9c179e\"],[0.4444444444444444,\"#bd3786\"],[0.5555555555555556,\"#d8576b\"],[0.6666666666666666,\"#ed7953\"],[0.7777777777777778,\"#fb9f3a\"],[0.8888888888888888,\"#fdca26\"],[1.0,\"#f0f921\"]],\"type\":\"histogram2d\"}],\"histogram\":[{\"marker\":{\"pattern\":{\"fillmode\":\"overlay\",\"size\":10,\"solidity\":0.2}},\"type\":\"histogram\"}],\"mesh3d\":[{\"colorbar\":{\"outlinewidth\":0,\"ticks\":\"\"},\"type\":\"mesh3d\"}],\"parcoords\":[{\"line\":{\"colorbar\":{\"outlinewidth\":0,\"ticks\":\"\"}},\"type\":\"parcoords\"}],\"pie\":[{\"automargin\":true,\"type\":\"pie\"}],\"scatter3d\":[{\"line\":{\"colorbar\":{\"outlinewidth\":0,\"ticks\":\"\"}},\"marker\":{\"colorbar\":{\"outlinewidth\":0,\"ticks\":\"\"}},\"type\":\"scatter3d\"}],\"scattercarpet\":[{\"marker\":{\"colorbar\":{\"outlinewidth\":0,\"ticks\":\"\"}},\"type\":\"scattercarpet\"}],\"scattergeo\":[{\"marker\":{\"colorbar\":{\"outlinewidth\":0,\"ticks\":\"\"}},\"type\":\"scattergeo\"}],\"scattergl\":[{\"marker\":{\"colorbar\":{\"outlinewidth\":0,\"ticks\":\"\"}},\"type\":\"scattergl\"}],\"scattermapbox\":[{\"marker\":{\"colorbar\":{\"outlinewidth\":0,\"ticks\":\"\"}},\"type\":\"scattermapbox\"}],\"scatterpolargl\":[{\"marker\":{\"colorbar\":{\"outlinewidth\":0,\"ticks\":\"\"}},\"type\":\"scatterpolargl\"}],\"scatterpolar\":[{\"marker\":{\"colorbar\":{\"outlinewidth\":0,\"ticks\":\"\"}},\"type\":\"scatterpolar\"}],\"scatter\":[{\"marker\":{\"colorbar\":{\"outlinewidth\":0,\"ticks\":\"\"}},\"type\":\"scatter\"}],\"scatterternary\":[{\"marker\":{\"colorbar\":{\"outlinewidth\":0,\"ticks\":\"\"}},\"type\":\"scatterternary\"}],\"surface\":[{\"colorbar\":{\"outlinewidth\":0,\"ticks\":\"\"},\"colorscale\":[[0.0,\"#0d0887\"],[0.1111111111111111,\"#46039f\"],[0.2222222222222222,\"#7201a8\"],[0.3333333333333333,\"#9c179e\"],[0.4444444444444444,\"#bd3786\"],[0.5555555555555556,\"#d8576b\"],[0.6666666666666666,\"#ed7953\"],[0.7777777777777778,\"#fb9f3a\"],[0.8888888888888888,\"#fdca26\"],[1.0,\"#f0f921\"]],\"type\":\"surface\"}],\"table\":[{\"cells\":{\"fill\":{\"color\":\"#EBF0F8\"},\"line\":{\"color\":\"white\"}},\"header\":{\"fill\":{\"color\":\"#C8D4E3\"},\"line\":{\"color\":\"white\"}},\"type\":\"table\"}]},\"layout\":{\"annotationdefaults\":{\"arrowcolor\":\"#2a3f5f\",\"arrowhead\":0,\"arrowwidth\":1},\"autotypenumbers\":\"strict\",\"coloraxis\":{\"colorbar\":{\"outlinewidth\":0,\"ticks\":\"\"}},\"colorscale\":{\"diverging\":[[0,\"#8e0152\"],[0.1,\"#c51b7d\"],[0.2,\"#de77ae\"],[0.3,\"#f1b6da\"],[0.4,\"#fde0ef\"],[0.5,\"#f7f7f7\"],[0.6,\"#e6f5d0\"],[0.7,\"#b8e186\"],[0.8,\"#7fbc41\"],[0.9,\"#4d9221\"],[1,\"#276419\"]],\"sequential\":[[0.0,\"#0d0887\"],[0.1111111111111111,\"#46039f\"],[0.2222222222222222,\"#7201a8\"],[0.3333333333333333,\"#9c179e\"],[0.4444444444444444,\"#bd3786\"],[0.5555555555555556,\"#d8576b\"],[0.6666666666666666,\"#ed7953\"],[0.7777777777777778,\"#fb9f3a\"],[0.8888888888888888,\"#fdca26\"],[1.0,\"#f0f921\"]],\"sequentialminus\":[[0.0,\"#0d0887\"],[0.1111111111111111,\"#46039f\"],[0.2222222222222222,\"#7201a8\"],[0.3333333333333333,\"#9c179e\"],[0.4444444444444444,\"#bd3786\"],[0.5555555555555556,\"#d8576b\"],[0.6666666666666666,\"#ed7953\"],[0.7777777777777778,\"#fb9f3a\"],[0.8888888888888888,\"#fdca26\"],[1.0,\"#f0f921\"]]},\"colorway\":[\"#636efa\",\"#EF553B\",\"#00cc96\",\"#ab63fa\",\"#FFA15A\",\"#19d3f3\",\"#FF6692\",\"#B6E880\",\"#FF97FF\",\"#FECB52\"],\"font\":{\"color\":\"#2a3f5f\"},\"geo\":{\"bgcolor\":\"white\",\"lakecolor\":\"white\",\"landcolor\":\"#E5ECF6\",\"showlakes\":true,\"showland\":true,\"subunitcolor\":\"white\"},\"hoverlabel\":{\"align\":\"left\"},\"hovermode\":\"closest\",\"mapbox\":{\"style\":\"light\"},\"paper_bgcolor\":\"white\",\"plot_bgcolor\":\"#E5ECF6\",\"polar\":{\"angularaxis\":{\"gridcolor\":\"white\",\"linecolor\":\"white\",\"ticks\":\"\"},\"bgcolor\":\"#E5ECF6\",\"radialaxis\":{\"gridcolor\":\"white\",\"linecolor\":\"white\",\"ticks\":\"\"}},\"scene\":{\"xaxis\":{\"backgroundcolor\":\"#E5ECF6\",\"gridcolor\":\"white\",\"gridwidth\":2,\"linecolor\":\"white\",\"showbackground\":true,\"ticks\":\"\",\"zerolinecolor\":\"white\"},\"yaxis\":{\"backgroundcolor\":\"#E5ECF6\",\"gridcolor\":\"white\",\"gridwidth\":2,\"linecolor\":\"white\",\"showbackground\":true,\"ticks\":\"\",\"zerolinecolor\":\"white\"},\"zaxis\":{\"backgroundcolor\":\"#E5ECF6\",\"gridcolor\":\"white\",\"gridwidth\":2,\"linecolor\":\"white\",\"showbackground\":true,\"ticks\":\"\",\"zerolinecolor\":\"white\"}},\"shapedefaults\":{\"line\":{\"color\":\"#2a3f5f\"}},\"ternary\":{\"aaxis\":{\"gridcolor\":\"white\",\"linecolor\":\"white\",\"ticks\":\"\"},\"baxis\":{\"gridcolor\":\"white\",\"linecolor\":\"white\",\"ticks\":\"\"},\"bgcolor\":\"#E5ECF6\",\"caxis\":{\"gridcolor\":\"white\",\"linecolor\":\"white\",\"ticks\":\"\"}},\"title\":{\"x\":0.05},\"xaxis\":{\"automargin\":true,\"gridcolor\":\"white\",\"linecolor\":\"white\",\"ticks\":\"\",\"title\":{\"standoff\":15},\"zerolinecolor\":\"white\",\"zerolinewidth\":2},\"yaxis\":{\"automargin\":true,\"gridcolor\":\"white\",\"linecolor\":\"white\",\"ticks\":\"\",\"title\":{\"standoff\":15},\"zerolinecolor\":\"white\",\"zerolinewidth\":2}}},\"title\":{\"font\":{\"color\":\"#4D5663\"}},\"xaxis\":{\"gridcolor\":\"#E1E5ED\",\"showgrid\":true,\"tickfont\":{\"color\":\"#4D5663\"},\"title\":{\"font\":{\"color\":\"#4D5663\"},\"text\":\"\"},\"zerolinecolor\":\"#E1E5ED\"},\"yaxis\":{\"gridcolor\":\"#E1E5ED\",\"showgrid\":true,\"tickfont\":{\"color\":\"#4D5663\"},\"title\":{\"font\":{\"color\":\"#4D5663\"},\"text\":\"\"},\"zerolinecolor\":\"#E1E5ED\"}},                        {\"showLink\": true, \"linkText\": \"Export to plot.ly\", \"plotlyServerURL\": \"https://plot.ly\", \"responsive\": true}                    ).then(function(){\n",
       "                            \n",
       "var gd = document.getElementById('1d616c74-fbff-49f4-89ec-5b5aad23f394');\n",
       "var x = new MutationObserver(function (mutations, observer) {{\n",
       "        var display = window.getComputedStyle(gd).display;\n",
       "        if (!display || display === 'none') {{\n",
       "            console.log([gd, 'removed!']);\n",
       "            Plotly.purge(gd);\n",
       "            observer.disconnect();\n",
       "        }}\n",
       "}});\n",
       "\n",
       "// Listen for the removal of the full notebook cells\n",
       "var notebookContainer = gd.closest('#notebook-container');\n",
       "if (notebookContainer) {{\n",
       "    x.observe(notebookContainer, {childList: true});\n",
       "}}\n",
       "\n",
       "// Listen for the clearing of the current output cell\n",
       "var outputEl = gd.closest('.output');\n",
       "if (outputEl) {{\n",
       "    x.observe(outputEl, {childList: true});\n",
       "}}\n",
       "\n",
       "                        })                };                });            </script>        </div>"
      ]
     },
     "metadata": {},
     "output_type": "display_data"
    }
   ],
   "source": [
    "df2.iplot(kind='bar', x='Category', y='Values')"
   ]
  },
  {
   "cell_type": "code",
   "execution_count": 18,
   "id": "d7c8d0b8",
   "metadata": {},
   "outputs": [
    {
     "data": {
      "text/html": [
       "<div>\n",
       "<style scoped>\n",
       "    .dataframe tbody tr th:only-of-type {\n",
       "        vertical-align: middle;\n",
       "    }\n",
       "\n",
       "    .dataframe tbody tr th {\n",
       "        vertical-align: top;\n",
       "    }\n",
       "\n",
       "    .dataframe thead th {\n",
       "        text-align: right;\n",
       "    }\n",
       "</style>\n",
       "<table border=\"1\" class=\"dataframe\">\n",
       "  <thead>\n",
       "    <tr style=\"text-align: right;\">\n",
       "      <th></th>\n",
       "      <th>A</th>\n",
       "      <th>B</th>\n",
       "      <th>C</th>\n",
       "      <th>D</th>\n",
       "    </tr>\n",
       "  </thead>\n",
       "  <tbody>\n",
       "    <tr>\n",
       "      <th>0</th>\n",
       "      <td>-0.382879</td>\n",
       "      <td>0.343360</td>\n",
       "      <td>0.250609</td>\n",
       "      <td>0.592133</td>\n",
       "    </tr>\n",
       "    <tr>\n",
       "      <th>1</th>\n",
       "      <td>-0.847090</td>\n",
       "      <td>-0.540024</td>\n",
       "      <td>0.521033</td>\n",
       "      <td>-1.142757</td>\n",
       "    </tr>\n",
       "    <tr>\n",
       "      <th>2</th>\n",
       "      <td>0.010195</td>\n",
       "      <td>0.396259</td>\n",
       "      <td>1.239213</td>\n",
       "      <td>-0.634012</td>\n",
       "    </tr>\n",
       "    <tr>\n",
       "      <th>3</th>\n",
       "      <td>0.730185</td>\n",
       "      <td>-1.712841</td>\n",
       "      <td>-0.446688</td>\n",
       "      <td>-0.716213</td>\n",
       "    </tr>\n",
       "    <tr>\n",
       "      <th>4</th>\n",
       "      <td>2.020918</td>\n",
       "      <td>-0.075091</td>\n",
       "      <td>-0.382239</td>\n",
       "      <td>0.097398</td>\n",
       "    </tr>\n",
       "    <tr>\n",
       "      <th>...</th>\n",
       "      <td>...</td>\n",
       "      <td>...</td>\n",
       "      <td>...</td>\n",
       "      <td>...</td>\n",
       "    </tr>\n",
       "    <tr>\n",
       "      <th>95</th>\n",
       "      <td>-0.380072</td>\n",
       "      <td>1.523876</td>\n",
       "      <td>0.955251</td>\n",
       "      <td>-1.979489</td>\n",
       "    </tr>\n",
       "    <tr>\n",
       "      <th>96</th>\n",
       "      <td>-1.982930</td>\n",
       "      <td>-0.662193</td>\n",
       "      <td>-1.299990</td>\n",
       "      <td>-0.289449</td>\n",
       "    </tr>\n",
       "    <tr>\n",
       "      <th>97</th>\n",
       "      <td>0.054555</td>\n",
       "      <td>-1.060870</td>\n",
       "      <td>-0.429373</td>\n",
       "      <td>0.479486</td>\n",
       "    </tr>\n",
       "    <tr>\n",
       "      <th>98</th>\n",
       "      <td>0.458894</td>\n",
       "      <td>-1.280504</td>\n",
       "      <td>0.211104</td>\n",
       "      <td>0.134052</td>\n",
       "    </tr>\n",
       "    <tr>\n",
       "      <th>99</th>\n",
       "      <td>-0.144564</td>\n",
       "      <td>-1.234923</td>\n",
       "      <td>-0.236690</td>\n",
       "      <td>-0.964165</td>\n",
       "    </tr>\n",
       "  </tbody>\n",
       "</table>\n",
       "<p>100 rows × 4 columns</p>\n",
       "</div>"
      ],
      "text/plain": [
       "           A         B         C         D\n",
       "0  -0.382879  0.343360  0.250609  0.592133\n",
       "1  -0.847090 -0.540024  0.521033 -1.142757\n",
       "2   0.010195  0.396259  1.239213 -0.634012\n",
       "3   0.730185 -1.712841 -0.446688 -0.716213\n",
       "4   2.020918 -0.075091 -0.382239  0.097398\n",
       "..       ...       ...       ...       ...\n",
       "95 -0.380072  1.523876  0.955251 -1.979489\n",
       "96 -1.982930 -0.662193 -1.299990 -0.289449\n",
       "97  0.054555 -1.060870 -0.429373  0.479486\n",
       "98  0.458894 -1.280504  0.211104  0.134052\n",
       "99 -0.144564 -1.234923 -0.236690 -0.964165\n",
       "\n",
       "[100 rows x 4 columns]"
      ]
     },
     "execution_count": 18,
     "metadata": {},
     "output_type": "execute_result"
    }
   ],
   "source": [
    "df1"
   ]
  },
  {
   "cell_type": "code",
   "execution_count": 19,
   "id": "9d040913",
   "metadata": {},
   "outputs": [
    {
     "data": {
      "application/vnd.plotly.v1+json": {
       "config": {
        "linkText": "Export to plot.ly",
        "plotlyServerURL": "https://plot.ly",
        "showLink": true
       },
       "data": [
        {
         "marker": {
          "color": "rgba(255, 153, 51, 0.6)",
          "line": {
           "color": "rgba(255, 153, 51, 1.0)",
           "width": 1
          }
         },
         "name": "A",
         "orientation": "v",
         "text": "",
         "type": "bar",
         "x": [
          0,
          1,
          2,
          3,
          4,
          5,
          6,
          7,
          8,
          9,
          10,
          11,
          12,
          13,
          14,
          15,
          16,
          17,
          18,
          19,
          20,
          21,
          22,
          23,
          24,
          25,
          26,
          27,
          28,
          29,
          30,
          31,
          32,
          33,
          34,
          35,
          36,
          37,
          38,
          39,
          40,
          41,
          42,
          43,
          44,
          45,
          46,
          47,
          48,
          49,
          50,
          51,
          52,
          53,
          54,
          55,
          56,
          57,
          58,
          59,
          60,
          61,
          62,
          63,
          64,
          65,
          66,
          67,
          68,
          69,
          70,
          71,
          72,
          73,
          74,
          75,
          76,
          77,
          78,
          79,
          80,
          81,
          82,
          83,
          84,
          85,
          86,
          87,
          88,
          89,
          90,
          91,
          92,
          93,
          94,
          95,
          96,
          97,
          98,
          99
         ],
         "y": [
          -0.3828792050443604,
          -0.8470899644257714,
          0.010194864370989333,
          0.7301852076151661,
          2.0209176306324363,
          -1.5003016962844402,
          1.3118946476906856,
          -0.19669756499513247,
          -0.9076690966885811,
          -0.3237404643459652,
          0.637713854283272,
          -0.03454556326127818,
          0.7796925569817367,
          -1.4423716042022108,
          -2.5845985787359163,
          0.6619539111661311,
          -0.687009387052393,
          -0.07904947689258264,
          0.05497583547432276,
          -0.1251154272973603,
          1.4799840842985588,
          0.4823254913863216,
          -2.280333653758334,
          -0.7687965123125058,
          -1.9305826565370234,
          1.2028531218309138,
          0.11759314103585028,
          0.8219103216225514,
          -1.0600425527288615,
          -0.7924098829680032,
          0.591057506448477,
          0.010539468688751144,
          0.587916797008021,
          0.5345565463711455,
          0.23953843637909966,
          -1.3486453781610805,
          1.4539031141605863,
          -0.7434505578041772,
          -0.06974790232731734,
          -1.3438280814154056,
          0.15028835356929468,
          -0.10287723292446797,
          0.5337958367766493,
          -1.7910145450870145,
          -0.3528093066466839,
          0.28483534146724776,
          -0.2376793634250966,
          -1.1439375104416412,
          -1.6773681066280623,
          1.8838782542672348,
          1.0028758404607157,
          1.019052841097029,
          0.30651768295595916,
          0.4025551526198797,
          -0.8905919688553369,
          -1.382874757587919,
          -0.6816436627196745,
          0.03878334506085071,
          -1.3612397104403606,
          0.3197604660731154,
          -2.538319364008003,
          -1.2091878447993685,
          -0.5249346013368914,
          0.6692146290182188,
          -0.11840123236465151,
          0.8525194553867952,
          -0.6035975956715631,
          0.4283480479109968,
          0.9101749092891146,
          -0.8864024726325933,
          0.7775503744458712,
          -0.3116906590586294,
          -0.0789741170722278,
          -0.46571660288813044,
          -0.7366408087817952,
          -0.34057771638209616,
          1.4270333479578556,
          -0.0685312876711088,
          -2.590989928710988,
          0.54533421224908,
          -0.9316184663461683,
          -0.3357877632399068,
          -1.1004430354999835,
          -1.5112832772747995,
          0.9233033997807208,
          0.9248042476413013,
          0.23712657682615962,
          -1.7926116956644673,
          0.8262882219580409,
          0.41308190167379377,
          0.20507635069705696,
          1.1372928682815537,
          0.19672852705318208,
          1.032022543036123,
          -0.8498915495743655,
          -0.38007228545542127,
          -1.9829304093355187,
          0.05455520904456543,
          0.45889417897813106,
          -0.14456383999886627
         ]
        },
        {
         "marker": {
          "color": "rgba(55, 128, 191, 0.6)",
          "line": {
           "color": "rgba(55, 128, 191, 1.0)",
           "width": 1
          }
         },
         "name": "B",
         "orientation": "v",
         "text": "",
         "type": "bar",
         "x": [
          0,
          1,
          2,
          3,
          4,
          5,
          6,
          7,
          8,
          9,
          10,
          11,
          12,
          13,
          14,
          15,
          16,
          17,
          18,
          19,
          20,
          21,
          22,
          23,
          24,
          25,
          26,
          27,
          28,
          29,
          30,
          31,
          32,
          33,
          34,
          35,
          36,
          37,
          38,
          39,
          40,
          41,
          42,
          43,
          44,
          45,
          46,
          47,
          48,
          49,
          50,
          51,
          52,
          53,
          54,
          55,
          56,
          57,
          58,
          59,
          60,
          61,
          62,
          63,
          64,
          65,
          66,
          67,
          68,
          69,
          70,
          71,
          72,
          73,
          74,
          75,
          76,
          77,
          78,
          79,
          80,
          81,
          82,
          83,
          84,
          85,
          86,
          87,
          88,
          89,
          90,
          91,
          92,
          93,
          94,
          95,
          96,
          97,
          98,
          99
         ],
         "y": [
          0.34335976624785236,
          -0.5400241296111232,
          0.39625879311483636,
          -1.712841088113455,
          -0.07509142065935204,
          -0.73806711582396,
          0.3883007262086318,
          -0.5719092755359968,
          -0.4088347497306631,
          0.2421573678163824,
          -0.6529781799711727,
          0.38854787692263476,
          0.06453030726300012,
          -0.6988816243862073,
          1.3129702162264079,
          1.1771113015017993,
          -0.9700610592238458,
          1.1808244820001328,
          -1.478327479994,
          -0.46108336232059793,
          0.24491015346100684,
          -0.7318916215779915,
          -1.7148688047324678,
          0.5518859965500226,
          -0.9191779247410646,
          1.1985025549693435,
          2.5581128801469877,
          -0.7762150887891556,
          -1.549934782178811,
          0.05201663776978928,
          1.5232217714596588,
          -0.44708035980241534,
          -0.9086628778502828,
          -0.27525104215952567,
          -0.3577790202540434,
          0.4811753508335344,
          -0.5887451051233683,
          -1.294270125275922,
          0.8523861547501889,
          0.7381047196318503,
          1.0644322360476512,
          1.5967001236435843,
          0.82247172376917,
          -1.645808080381747,
          0.6857054299863742,
          -0.9009862391622963,
          -1.257234685603805,
          0.563120200391336,
          -0.9621725292323109,
          -0.5933983360655105,
          0.1284819007413659,
          -0.4240882124272642,
          1.1118812763090071,
          -1.9227848733315895,
          -0.419556595005051,
          1.5272854460120502,
          0.9102671180274021,
          0.6786808331841732,
          -0.42366626781453104,
          -1.1247464588926015,
          0.5004369031549727,
          -1.422643181814059,
          -0.06352335456872109,
          -0.6140831914140193,
          0.5603086977341717,
          1.474751693797127,
          1.6512484343980032,
          -1.0210150242509708,
          -0.7432289383819919,
          1.3875297294630236,
          -0.6514939869833749,
          1.4721881339131935,
          1.518432510112827,
          0.03638510312744503,
          0.7270871221481457,
          1.0793079148027827,
          0.4072592314941338,
          0.5823303662801511,
          0.2779238844720935,
          1.3057489297021347,
          0.07351712777696348,
          -0.8794259892692825,
          0.29982770281056553,
          -0.3416568949263266,
          3.458170678509682,
          0.058799135304265615,
          -0.3884328992504171,
          0.545514744824541,
          0.24141281219690586,
          -1.212419426084278,
          1.441259323038795,
          0.8503394918604567,
          -0.8204208120323783,
          0.21563670697344076,
          2.8069650295546076,
          1.5238759774181017,
          -0.6621926922073339,
          -1.060870331126299,
          -1.2805044081418444,
          -1.2349226572849306
         ]
        },
        {
         "marker": {
          "color": "rgba(50, 171, 96, 0.6)",
          "line": {
           "color": "rgba(50, 171, 96, 1.0)",
           "width": 1
          }
         },
         "name": "C",
         "orientation": "v",
         "text": "",
         "type": "bar",
         "x": [
          0,
          1,
          2,
          3,
          4,
          5,
          6,
          7,
          8,
          9,
          10,
          11,
          12,
          13,
          14,
          15,
          16,
          17,
          18,
          19,
          20,
          21,
          22,
          23,
          24,
          25,
          26,
          27,
          28,
          29,
          30,
          31,
          32,
          33,
          34,
          35,
          36,
          37,
          38,
          39,
          40,
          41,
          42,
          43,
          44,
          45,
          46,
          47,
          48,
          49,
          50,
          51,
          52,
          53,
          54,
          55,
          56,
          57,
          58,
          59,
          60,
          61,
          62,
          63,
          64,
          65,
          66,
          67,
          68,
          69,
          70,
          71,
          72,
          73,
          74,
          75,
          76,
          77,
          78,
          79,
          80,
          81,
          82,
          83,
          84,
          85,
          86,
          87,
          88,
          89,
          90,
          91,
          92,
          93,
          94,
          95,
          96,
          97,
          98,
          99
         ],
         "y": [
          0.2506092085793093,
          0.5210325936403227,
          1.239213358464694,
          -0.4466878782346689,
          -0.3822390633795185,
          -0.004193168373743429,
          0.31083507175692804,
          0.47014493079577385,
          -1.1556536917409108,
          -0.6757610308021511,
          -1.143836028015197,
          -0.8668866986037089,
          -3.1988150838934066,
          -0.7431034080655172,
          -0.40686358736988215,
          0.38817300614880124,
          -0.7249621219996307,
          1.1003757846228477,
          -0.3827825798596824,
          -1.9502233337660755,
          0.3165057808413265,
          0.6627391571225795,
          -0.3263229824933346,
          0.8285627583424173,
          0.9685477248448462,
          -2.9680823913015058,
          -1.4376379312345362,
          -1.7063194353908377,
          -0.27670004716137775,
          -0.5163377183768089,
          1.2437956186192953,
          0.35229549406432276,
          0.33258042113939507,
          -1.6057560516905556,
          0.44173661633579253,
          0.8191267704488735,
          0.05218990664378416,
          -0.18335279289604633,
          1.5162023789172292,
          -0.8833178708702997,
          1.3261569152294563,
          -0.11635473156903449,
          0.420635864279957,
          -0.9470924738177742,
          -0.43618797334177206,
          -0.42661623137309473,
          1.5416103231728577,
          -1.5596148002231116,
          0.01757030082496477,
          0.10140069671869259,
          1.5045891294248528,
          0.6902338347722542,
          1.4937463151241444,
          0.9002910845015439,
          0.5743890881715865,
          0.7562389480227537,
          -0.2001853168757039,
          -0.7157111539797419,
          -0.38765952959938493,
          -0.8572467787815908,
          0.2908470341192966,
          -0.9142824119313538,
          -0.3968746158328103,
          1.8688718784021316,
          -0.05217732449967453,
          1.4354670816758779,
          -1.0625152709489207,
          -0.5106587853056833,
          0.772057631583369,
          1.8018327650399475,
          -0.7958019648209217,
          2.006600168904022,
          -0.13292889152021703,
          0.32943355662723445,
          0.4108609828394416,
          2.0215940500491767,
          1.2016286063300015,
          1.3157545372633783,
          2.1135059883489045,
          2.19008158661078,
          -0.8143129683811934,
          0.23797298364722996,
          -1.6230732883970846,
          0.3084496100404266,
          0.4066710547761042,
          -0.4301381816226118,
          -1.491282679742187,
          -0.7552313272641786,
          -0.02249282109852578,
          0.020985550927711878,
          1.376036037255204,
          0.11425721932139542,
          -1.7920792205457143,
          -0.3136617620588843,
          0.9080291145166957,
          0.9552507049194106,
          -1.2999897780275405,
          -0.4293727950637242,
          0.21110400572437438,
          -0.23669025245583175
         ]
        },
        {
         "marker": {
          "color": "rgba(128, 0, 128, 0.6)",
          "line": {
           "color": "rgba(128, 0, 128, 1.0)",
           "width": 1
          }
         },
         "name": "D",
         "orientation": "v",
         "text": "",
         "type": "bar",
         "x": [
          0,
          1,
          2,
          3,
          4,
          5,
          6,
          7,
          8,
          9,
          10,
          11,
          12,
          13,
          14,
          15,
          16,
          17,
          18,
          19,
          20,
          21,
          22,
          23,
          24,
          25,
          26,
          27,
          28,
          29,
          30,
          31,
          32,
          33,
          34,
          35,
          36,
          37,
          38,
          39,
          40,
          41,
          42,
          43,
          44,
          45,
          46,
          47,
          48,
          49,
          50,
          51,
          52,
          53,
          54,
          55,
          56,
          57,
          58,
          59,
          60,
          61,
          62,
          63,
          64,
          65,
          66,
          67,
          68,
          69,
          70,
          71,
          72,
          73,
          74,
          75,
          76,
          77,
          78,
          79,
          80,
          81,
          82,
          83,
          84,
          85,
          86,
          87,
          88,
          89,
          90,
          91,
          92,
          93,
          94,
          95,
          96,
          97,
          98,
          99
         ],
         "y": [
          0.592132628370577,
          -1.1427568771274301,
          -0.6340122630191883,
          -0.7162128894182691,
          0.09739810390787935,
          0.09159611881467758,
          -0.9668463002828019,
          -0.6208334020410122,
          0.12874503109489555,
          -0.3596561372712881,
          0.39013837317684175,
          0.9707203746231453,
          -1.849471788872194,
          -1.670949123446992,
          1.3990752041954768,
          -0.433939139689318,
          -0.44752017505281094,
          -2.134491404043168,
          -0.8356207928281586,
          1.2669953059648416,
          -0.26364190278517186,
          -0.03972649984227558,
          0.4107706478872919,
          0.8034938604696944,
          0.1797430430969131,
          -0.6029878381334249,
          0.5453303115260123,
          -0.22849871488659848,
          0.19840671579042543,
          -0.20075469668443507,
          -0.23837820844984284,
          0.7077555147181938,
          0.10728535871855505,
          -0.5961065955304026,
          0.6295775324655841,
          -2.1430311045813575,
          0.6461484336873898,
          0.1217479112963839,
          1.6345095310518332,
          -0.9607835683541878,
          -1.0677335273474948,
          1.2161328243610878,
          -0.06674068289256456,
          0.8395283207223901,
          -1.0741861262618164,
          -0.34730099283237337,
          0.5659354167689368,
          0.9123036110964656,
          -0.4871189389482929,
          1.5582944789663065,
          -2.104414717884187,
          -1.9082807636805286,
          0.20519240993648347,
          0.5830341861711636,
          0.06267896143655838,
          -2.202683825879842,
          -1.0614936236398618,
          -1.013092636573165,
          -0.7470592116179434,
          -1.0199280229765049,
          0.9875061756283474,
          -2.1080306341987796,
          0.8070667330078221,
          0.9094431465761287,
          -1.7629120134717562,
          -0.15994707522962706,
          0.41276947219161814,
          0.8381114480287192,
          -1.3365096723779204,
          -1.6329883056871755,
          0.10627979251486216,
          0.02004657791238379,
          -1.3229626726102046,
          1.2801780728052166,
          0.8345055826164722,
          0.9721200944205621,
          0.37734462188478013,
          -0.3223044195608128,
          0.7967565028396203,
          -0.6224089678483244,
          0.5828942342989621,
          0.03016169618375698,
          -1.696574544826665,
          0.09590877733994138,
          -0.5127741879834149,
          0.4383379018298321,
          1.0826621642886225,
          1.0592007327193345,
          -0.5232893508862395,
          1.2627601225631901,
          0.6589175272897498,
          1.022280331965757,
          -1.8153529724872977,
          -1.0861166191335576,
          0.017399232226795285,
          -1.9794890106589242,
          -0.2894486848694927,
          0.4794857286596619,
          0.13405219599547738,
          -0.9641648355507442
         ]
        }
       ],
       "layout": {
        "legend": {
         "bgcolor": "#F5F6F9",
         "font": {
          "color": "#4D5663"
         }
        },
        "paper_bgcolor": "#F5F6F9",
        "plot_bgcolor": "#F5F6F9",
        "template": {
         "data": {
          "bar": [
           {
            "error_x": {
             "color": "#2a3f5f"
            },
            "error_y": {
             "color": "#2a3f5f"
            },
            "marker": {
             "line": {
              "color": "#E5ECF6",
              "width": 0.5
             },
             "pattern": {
              "fillmode": "overlay",
              "size": 10,
              "solidity": 0.2
             }
            },
            "type": "bar"
           }
          ],
          "barpolar": [
           {
            "marker": {
             "line": {
              "color": "#E5ECF6",
              "width": 0.5
             },
             "pattern": {
              "fillmode": "overlay",
              "size": 10,
              "solidity": 0.2
             }
            },
            "type": "barpolar"
           }
          ],
          "carpet": [
           {
            "aaxis": {
             "endlinecolor": "#2a3f5f",
             "gridcolor": "white",
             "linecolor": "white",
             "minorgridcolor": "white",
             "startlinecolor": "#2a3f5f"
            },
            "baxis": {
             "endlinecolor": "#2a3f5f",
             "gridcolor": "white",
             "linecolor": "white",
             "minorgridcolor": "white",
             "startlinecolor": "#2a3f5f"
            },
            "type": "carpet"
           }
          ],
          "choropleth": [
           {
            "colorbar": {
             "outlinewidth": 0,
             "ticks": ""
            },
            "type": "choropleth"
           }
          ],
          "contour": [
           {
            "colorbar": {
             "outlinewidth": 0,
             "ticks": ""
            },
            "colorscale": [
             [
              0,
              "#0d0887"
             ],
             [
              0.1111111111111111,
              "#46039f"
             ],
             [
              0.2222222222222222,
              "#7201a8"
             ],
             [
              0.3333333333333333,
              "#9c179e"
             ],
             [
              0.4444444444444444,
              "#bd3786"
             ],
             [
              0.5555555555555556,
              "#d8576b"
             ],
             [
              0.6666666666666666,
              "#ed7953"
             ],
             [
              0.7777777777777778,
              "#fb9f3a"
             ],
             [
              0.8888888888888888,
              "#fdca26"
             ],
             [
              1,
              "#f0f921"
             ]
            ],
            "type": "contour"
           }
          ],
          "contourcarpet": [
           {
            "colorbar": {
             "outlinewidth": 0,
             "ticks": ""
            },
            "type": "contourcarpet"
           }
          ],
          "heatmap": [
           {
            "colorbar": {
             "outlinewidth": 0,
             "ticks": ""
            },
            "colorscale": [
             [
              0,
              "#0d0887"
             ],
             [
              0.1111111111111111,
              "#46039f"
             ],
             [
              0.2222222222222222,
              "#7201a8"
             ],
             [
              0.3333333333333333,
              "#9c179e"
             ],
             [
              0.4444444444444444,
              "#bd3786"
             ],
             [
              0.5555555555555556,
              "#d8576b"
             ],
             [
              0.6666666666666666,
              "#ed7953"
             ],
             [
              0.7777777777777778,
              "#fb9f3a"
             ],
             [
              0.8888888888888888,
              "#fdca26"
             ],
             [
              1,
              "#f0f921"
             ]
            ],
            "type": "heatmap"
           }
          ],
          "heatmapgl": [
           {
            "colorbar": {
             "outlinewidth": 0,
             "ticks": ""
            },
            "colorscale": [
             [
              0,
              "#0d0887"
             ],
             [
              0.1111111111111111,
              "#46039f"
             ],
             [
              0.2222222222222222,
              "#7201a8"
             ],
             [
              0.3333333333333333,
              "#9c179e"
             ],
             [
              0.4444444444444444,
              "#bd3786"
             ],
             [
              0.5555555555555556,
              "#d8576b"
             ],
             [
              0.6666666666666666,
              "#ed7953"
             ],
             [
              0.7777777777777778,
              "#fb9f3a"
             ],
             [
              0.8888888888888888,
              "#fdca26"
             ],
             [
              1,
              "#f0f921"
             ]
            ],
            "type": "heatmapgl"
           }
          ],
          "histogram": [
           {
            "marker": {
             "pattern": {
              "fillmode": "overlay",
              "size": 10,
              "solidity": 0.2
             }
            },
            "type": "histogram"
           }
          ],
          "histogram2d": [
           {
            "colorbar": {
             "outlinewidth": 0,
             "ticks": ""
            },
            "colorscale": [
             [
              0,
              "#0d0887"
             ],
             [
              0.1111111111111111,
              "#46039f"
             ],
             [
              0.2222222222222222,
              "#7201a8"
             ],
             [
              0.3333333333333333,
              "#9c179e"
             ],
             [
              0.4444444444444444,
              "#bd3786"
             ],
             [
              0.5555555555555556,
              "#d8576b"
             ],
             [
              0.6666666666666666,
              "#ed7953"
             ],
             [
              0.7777777777777778,
              "#fb9f3a"
             ],
             [
              0.8888888888888888,
              "#fdca26"
             ],
             [
              1,
              "#f0f921"
             ]
            ],
            "type": "histogram2d"
           }
          ],
          "histogram2dcontour": [
           {
            "colorbar": {
             "outlinewidth": 0,
             "ticks": ""
            },
            "colorscale": [
             [
              0,
              "#0d0887"
             ],
             [
              0.1111111111111111,
              "#46039f"
             ],
             [
              0.2222222222222222,
              "#7201a8"
             ],
             [
              0.3333333333333333,
              "#9c179e"
             ],
             [
              0.4444444444444444,
              "#bd3786"
             ],
             [
              0.5555555555555556,
              "#d8576b"
             ],
             [
              0.6666666666666666,
              "#ed7953"
             ],
             [
              0.7777777777777778,
              "#fb9f3a"
             ],
             [
              0.8888888888888888,
              "#fdca26"
             ],
             [
              1,
              "#f0f921"
             ]
            ],
            "type": "histogram2dcontour"
           }
          ],
          "mesh3d": [
           {
            "colorbar": {
             "outlinewidth": 0,
             "ticks": ""
            },
            "type": "mesh3d"
           }
          ],
          "parcoords": [
           {
            "line": {
             "colorbar": {
              "outlinewidth": 0,
              "ticks": ""
             }
            },
            "type": "parcoords"
           }
          ],
          "pie": [
           {
            "automargin": true,
            "type": "pie"
           }
          ],
          "scatter": [
           {
            "marker": {
             "colorbar": {
              "outlinewidth": 0,
              "ticks": ""
             }
            },
            "type": "scatter"
           }
          ],
          "scatter3d": [
           {
            "line": {
             "colorbar": {
              "outlinewidth": 0,
              "ticks": ""
             }
            },
            "marker": {
             "colorbar": {
              "outlinewidth": 0,
              "ticks": ""
             }
            },
            "type": "scatter3d"
           }
          ],
          "scattercarpet": [
           {
            "marker": {
             "colorbar": {
              "outlinewidth": 0,
              "ticks": ""
             }
            },
            "type": "scattercarpet"
           }
          ],
          "scattergeo": [
           {
            "marker": {
             "colorbar": {
              "outlinewidth": 0,
              "ticks": ""
             }
            },
            "type": "scattergeo"
           }
          ],
          "scattergl": [
           {
            "marker": {
             "colorbar": {
              "outlinewidth": 0,
              "ticks": ""
             }
            },
            "type": "scattergl"
           }
          ],
          "scattermapbox": [
           {
            "marker": {
             "colorbar": {
              "outlinewidth": 0,
              "ticks": ""
             }
            },
            "type": "scattermapbox"
           }
          ],
          "scatterpolar": [
           {
            "marker": {
             "colorbar": {
              "outlinewidth": 0,
              "ticks": ""
             }
            },
            "type": "scatterpolar"
           }
          ],
          "scatterpolargl": [
           {
            "marker": {
             "colorbar": {
              "outlinewidth": 0,
              "ticks": ""
             }
            },
            "type": "scatterpolargl"
           }
          ],
          "scatterternary": [
           {
            "marker": {
             "colorbar": {
              "outlinewidth": 0,
              "ticks": ""
             }
            },
            "type": "scatterternary"
           }
          ],
          "surface": [
           {
            "colorbar": {
             "outlinewidth": 0,
             "ticks": ""
            },
            "colorscale": [
             [
              0,
              "#0d0887"
             ],
             [
              0.1111111111111111,
              "#46039f"
             ],
             [
              0.2222222222222222,
              "#7201a8"
             ],
             [
              0.3333333333333333,
              "#9c179e"
             ],
             [
              0.4444444444444444,
              "#bd3786"
             ],
             [
              0.5555555555555556,
              "#d8576b"
             ],
             [
              0.6666666666666666,
              "#ed7953"
             ],
             [
              0.7777777777777778,
              "#fb9f3a"
             ],
             [
              0.8888888888888888,
              "#fdca26"
             ],
             [
              1,
              "#f0f921"
             ]
            ],
            "type": "surface"
           }
          ],
          "table": [
           {
            "cells": {
             "fill": {
              "color": "#EBF0F8"
             },
             "line": {
              "color": "white"
             }
            },
            "header": {
             "fill": {
              "color": "#C8D4E3"
             },
             "line": {
              "color": "white"
             }
            },
            "type": "table"
           }
          ]
         },
         "layout": {
          "annotationdefaults": {
           "arrowcolor": "#2a3f5f",
           "arrowhead": 0,
           "arrowwidth": 1
          },
          "autotypenumbers": "strict",
          "coloraxis": {
           "colorbar": {
            "outlinewidth": 0,
            "ticks": ""
           }
          },
          "colorscale": {
           "diverging": [
            [
             0,
             "#8e0152"
            ],
            [
             0.1,
             "#c51b7d"
            ],
            [
             0.2,
             "#de77ae"
            ],
            [
             0.3,
             "#f1b6da"
            ],
            [
             0.4,
             "#fde0ef"
            ],
            [
             0.5,
             "#f7f7f7"
            ],
            [
             0.6,
             "#e6f5d0"
            ],
            [
             0.7,
             "#b8e186"
            ],
            [
             0.8,
             "#7fbc41"
            ],
            [
             0.9,
             "#4d9221"
            ],
            [
             1,
             "#276419"
            ]
           ],
           "sequential": [
            [
             0,
             "#0d0887"
            ],
            [
             0.1111111111111111,
             "#46039f"
            ],
            [
             0.2222222222222222,
             "#7201a8"
            ],
            [
             0.3333333333333333,
             "#9c179e"
            ],
            [
             0.4444444444444444,
             "#bd3786"
            ],
            [
             0.5555555555555556,
             "#d8576b"
            ],
            [
             0.6666666666666666,
             "#ed7953"
            ],
            [
             0.7777777777777778,
             "#fb9f3a"
            ],
            [
             0.8888888888888888,
             "#fdca26"
            ],
            [
             1,
             "#f0f921"
            ]
           ],
           "sequentialminus": [
            [
             0,
             "#0d0887"
            ],
            [
             0.1111111111111111,
             "#46039f"
            ],
            [
             0.2222222222222222,
             "#7201a8"
            ],
            [
             0.3333333333333333,
             "#9c179e"
            ],
            [
             0.4444444444444444,
             "#bd3786"
            ],
            [
             0.5555555555555556,
             "#d8576b"
            ],
            [
             0.6666666666666666,
             "#ed7953"
            ],
            [
             0.7777777777777778,
             "#fb9f3a"
            ],
            [
             0.8888888888888888,
             "#fdca26"
            ],
            [
             1,
             "#f0f921"
            ]
           ]
          },
          "colorway": [
           "#636efa",
           "#EF553B",
           "#00cc96",
           "#ab63fa",
           "#FFA15A",
           "#19d3f3",
           "#FF6692",
           "#B6E880",
           "#FF97FF",
           "#FECB52"
          ],
          "font": {
           "color": "#2a3f5f"
          },
          "geo": {
           "bgcolor": "white",
           "lakecolor": "white",
           "landcolor": "#E5ECF6",
           "showlakes": true,
           "showland": true,
           "subunitcolor": "white"
          },
          "hoverlabel": {
           "align": "left"
          },
          "hovermode": "closest",
          "mapbox": {
           "style": "light"
          },
          "paper_bgcolor": "white",
          "plot_bgcolor": "#E5ECF6",
          "polar": {
           "angularaxis": {
            "gridcolor": "white",
            "linecolor": "white",
            "ticks": ""
           },
           "bgcolor": "#E5ECF6",
           "radialaxis": {
            "gridcolor": "white",
            "linecolor": "white",
            "ticks": ""
           }
          },
          "scene": {
           "xaxis": {
            "backgroundcolor": "#E5ECF6",
            "gridcolor": "white",
            "gridwidth": 2,
            "linecolor": "white",
            "showbackground": true,
            "ticks": "",
            "zerolinecolor": "white"
           },
           "yaxis": {
            "backgroundcolor": "#E5ECF6",
            "gridcolor": "white",
            "gridwidth": 2,
            "linecolor": "white",
            "showbackground": true,
            "ticks": "",
            "zerolinecolor": "white"
           },
           "zaxis": {
            "backgroundcolor": "#E5ECF6",
            "gridcolor": "white",
            "gridwidth": 2,
            "linecolor": "white",
            "showbackground": true,
            "ticks": "",
            "zerolinecolor": "white"
           }
          },
          "shapedefaults": {
           "line": {
            "color": "#2a3f5f"
           }
          },
          "ternary": {
           "aaxis": {
            "gridcolor": "white",
            "linecolor": "white",
            "ticks": ""
           },
           "baxis": {
            "gridcolor": "white",
            "linecolor": "white",
            "ticks": ""
           },
           "bgcolor": "#E5ECF6",
           "caxis": {
            "gridcolor": "white",
            "linecolor": "white",
            "ticks": ""
           }
          },
          "title": {
           "x": 0.05
          },
          "xaxis": {
           "automargin": true,
           "gridcolor": "white",
           "linecolor": "white",
           "ticks": "",
           "title": {
            "standoff": 15
           },
           "zerolinecolor": "white",
           "zerolinewidth": 2
          },
          "yaxis": {
           "automargin": true,
           "gridcolor": "white",
           "linecolor": "white",
           "ticks": "",
           "title": {
            "standoff": 15
           },
           "zerolinecolor": "white",
           "zerolinewidth": 2
          }
         }
        },
        "title": {
         "font": {
          "color": "#4D5663"
         }
        },
        "xaxis": {
         "gridcolor": "#E1E5ED",
         "showgrid": true,
         "tickfont": {
          "color": "#4D5663"
         },
         "title": {
          "font": {
           "color": "#4D5663"
          },
          "text": ""
         },
         "zerolinecolor": "#E1E5ED"
        },
        "yaxis": {
         "gridcolor": "#E1E5ED",
         "showgrid": true,
         "tickfont": {
          "color": "#4D5663"
         },
         "title": {
          "font": {
           "color": "#4D5663"
          },
          "text": ""
         },
         "zerolinecolor": "#E1E5ED"
        }
       }
      },
      "text/html": [
       "<div>                            <div id=\"52c374c3-f0c5-48da-8fe9-c7e505e50524\" class=\"plotly-graph-div\" style=\"height:525px; width:100%;\"></div>            <script type=\"text/javascript\">                require([\"plotly\"], function(Plotly) {                    window.PLOTLYENV=window.PLOTLYENV || {};\n",
       "                    window.PLOTLYENV.BASE_URL='https://plot.ly';                                    if (document.getElementById(\"52c374c3-f0c5-48da-8fe9-c7e505e50524\")) {                    Plotly.newPlot(                        \"52c374c3-f0c5-48da-8fe9-c7e505e50524\",                        [{\"marker\":{\"color\":\"rgba(255, 153, 51, 0.6)\",\"line\":{\"color\":\"rgba(255, 153, 51, 1.0)\",\"width\":1}},\"name\":\"A\",\"orientation\":\"v\",\"text\":\"\",\"x\":[0,1,2,3,4,5,6,7,8,9,10,11,12,13,14,15,16,17,18,19,20,21,22,23,24,25,26,27,28,29,30,31,32,33,34,35,36,37,38,39,40,41,42,43,44,45,46,47,48,49,50,51,52,53,54,55,56,57,58,59,60,61,62,63,64,65,66,67,68,69,70,71,72,73,74,75,76,77,78,79,80,81,82,83,84,85,86,87,88,89,90,91,92,93,94,95,96,97,98,99],\"y\":[-0.3828792050443604,-0.8470899644257714,0.010194864370989333,0.7301852076151661,2.0209176306324363,-1.5003016962844402,1.3118946476906856,-0.19669756499513247,-0.9076690966885811,-0.3237404643459652,0.637713854283272,-0.03454556326127818,0.7796925569817367,-1.4423716042022108,-2.5845985787359163,0.6619539111661311,-0.687009387052393,-0.07904947689258264,0.05497583547432276,-0.1251154272973603,1.4799840842985588,0.4823254913863216,-2.280333653758334,-0.7687965123125058,-1.9305826565370234,1.2028531218309138,0.11759314103585028,0.8219103216225514,-1.0600425527288615,-0.7924098829680032,0.591057506448477,0.010539468688751144,0.587916797008021,0.5345565463711455,0.23953843637909966,-1.3486453781610805,1.4539031141605863,-0.7434505578041772,-0.06974790232731734,-1.3438280814154056,0.15028835356929468,-0.10287723292446797,0.5337958367766493,-1.7910145450870145,-0.3528093066466839,0.28483534146724776,-0.2376793634250966,-1.1439375104416412,-1.6773681066280623,1.8838782542672348,1.0028758404607157,1.019052841097029,0.30651768295595916,0.4025551526198797,-0.8905919688553369,-1.382874757587919,-0.6816436627196745,0.03878334506085071,-1.3612397104403606,0.3197604660731154,-2.538319364008003,-1.2091878447993685,-0.5249346013368914,0.6692146290182188,-0.11840123236465151,0.8525194553867952,-0.6035975956715631,0.4283480479109968,0.9101749092891146,-0.8864024726325933,0.7775503744458712,-0.3116906590586294,-0.0789741170722278,-0.46571660288813044,-0.7366408087817952,-0.34057771638209616,1.4270333479578556,-0.0685312876711088,-2.590989928710988,0.54533421224908,-0.9316184663461683,-0.3357877632399068,-1.1004430354999835,-1.5112832772747995,0.9233033997807208,0.9248042476413013,0.23712657682615962,-1.7926116956644673,0.8262882219580409,0.41308190167379377,0.20507635069705696,1.1372928682815537,0.19672852705318208,1.032022543036123,-0.8498915495743655,-0.38007228545542127,-1.9829304093355187,0.05455520904456543,0.45889417897813106,-0.14456383999886627],\"type\":\"bar\"},{\"marker\":{\"color\":\"rgba(55, 128, 191, 0.6)\",\"line\":{\"color\":\"rgba(55, 128, 191, 1.0)\",\"width\":1}},\"name\":\"B\",\"orientation\":\"v\",\"text\":\"\",\"x\":[0,1,2,3,4,5,6,7,8,9,10,11,12,13,14,15,16,17,18,19,20,21,22,23,24,25,26,27,28,29,30,31,32,33,34,35,36,37,38,39,40,41,42,43,44,45,46,47,48,49,50,51,52,53,54,55,56,57,58,59,60,61,62,63,64,65,66,67,68,69,70,71,72,73,74,75,76,77,78,79,80,81,82,83,84,85,86,87,88,89,90,91,92,93,94,95,96,97,98,99],\"y\":[0.34335976624785236,-0.5400241296111232,0.39625879311483636,-1.712841088113455,-0.07509142065935204,-0.73806711582396,0.3883007262086318,-0.5719092755359968,-0.4088347497306631,0.2421573678163824,-0.6529781799711727,0.38854787692263476,0.06453030726300012,-0.6988816243862073,1.3129702162264079,1.1771113015017993,-0.9700610592238458,1.1808244820001328,-1.478327479994,-0.46108336232059793,0.24491015346100684,-0.7318916215779915,-1.7148688047324678,0.5518859965500226,-0.9191779247410646,1.1985025549693435,2.5581128801469877,-0.7762150887891556,-1.549934782178811,0.05201663776978928,1.5232217714596588,-0.44708035980241534,-0.9086628778502828,-0.27525104215952567,-0.3577790202540434,0.4811753508335344,-0.5887451051233683,-1.294270125275922,0.8523861547501889,0.7381047196318503,1.0644322360476512,1.5967001236435843,0.82247172376917,-1.645808080381747,0.6857054299863742,-0.9009862391622963,-1.257234685603805,0.563120200391336,-0.9621725292323109,-0.5933983360655105,0.1284819007413659,-0.4240882124272642,1.1118812763090071,-1.9227848733315895,-0.419556595005051,1.5272854460120502,0.9102671180274021,0.6786808331841732,-0.42366626781453104,-1.1247464588926015,0.5004369031549727,-1.422643181814059,-0.06352335456872109,-0.6140831914140193,0.5603086977341717,1.474751693797127,1.6512484343980032,-1.0210150242509708,-0.7432289383819919,1.3875297294630236,-0.6514939869833749,1.4721881339131935,1.518432510112827,0.03638510312744503,0.7270871221481457,1.0793079148027827,0.4072592314941338,0.5823303662801511,0.2779238844720935,1.3057489297021347,0.07351712777696348,-0.8794259892692825,0.29982770281056553,-0.3416568949263266,3.458170678509682,0.058799135304265615,-0.3884328992504171,0.545514744824541,0.24141281219690586,-1.212419426084278,1.441259323038795,0.8503394918604567,-0.8204208120323783,0.21563670697344076,2.8069650295546076,1.5238759774181017,-0.6621926922073339,-1.060870331126299,-1.2805044081418444,-1.2349226572849306],\"type\":\"bar\"},{\"marker\":{\"color\":\"rgba(50, 171, 96, 0.6)\",\"line\":{\"color\":\"rgba(50, 171, 96, 1.0)\",\"width\":1}},\"name\":\"C\",\"orientation\":\"v\",\"text\":\"\",\"x\":[0,1,2,3,4,5,6,7,8,9,10,11,12,13,14,15,16,17,18,19,20,21,22,23,24,25,26,27,28,29,30,31,32,33,34,35,36,37,38,39,40,41,42,43,44,45,46,47,48,49,50,51,52,53,54,55,56,57,58,59,60,61,62,63,64,65,66,67,68,69,70,71,72,73,74,75,76,77,78,79,80,81,82,83,84,85,86,87,88,89,90,91,92,93,94,95,96,97,98,99],\"y\":[0.2506092085793093,0.5210325936403227,1.239213358464694,-0.4466878782346689,-0.3822390633795185,-0.004193168373743429,0.31083507175692804,0.47014493079577385,-1.1556536917409108,-0.6757610308021511,-1.143836028015197,-0.8668866986037089,-3.1988150838934066,-0.7431034080655172,-0.40686358736988215,0.38817300614880124,-0.7249621219996307,1.1003757846228477,-0.3827825798596824,-1.9502233337660755,0.3165057808413265,0.6627391571225795,-0.3263229824933346,0.8285627583424173,0.9685477248448462,-2.9680823913015058,-1.4376379312345362,-1.7063194353908377,-0.27670004716137775,-0.5163377183768089,1.2437956186192953,0.35229549406432276,0.33258042113939507,-1.6057560516905556,0.44173661633579253,0.8191267704488735,0.05218990664378416,-0.18335279289604633,1.5162023789172292,-0.8833178708702997,1.3261569152294563,-0.11635473156903449,0.420635864279957,-0.9470924738177742,-0.43618797334177206,-0.42661623137309473,1.5416103231728577,-1.5596148002231116,0.01757030082496477,0.10140069671869259,1.5045891294248528,0.6902338347722542,1.4937463151241444,0.9002910845015439,0.5743890881715865,0.7562389480227537,-0.2001853168757039,-0.7157111539797419,-0.38765952959938493,-0.8572467787815908,0.2908470341192966,-0.9142824119313538,-0.3968746158328103,1.8688718784021316,-0.05217732449967453,1.4354670816758779,-1.0625152709489207,-0.5106587853056833,0.772057631583369,1.8018327650399475,-0.7958019648209217,2.006600168904022,-0.13292889152021703,0.32943355662723445,0.4108609828394416,2.0215940500491767,1.2016286063300015,1.3157545372633783,2.1135059883489045,2.19008158661078,-0.8143129683811934,0.23797298364722996,-1.6230732883970846,0.3084496100404266,0.4066710547761042,-0.4301381816226118,-1.491282679742187,-0.7552313272641786,-0.02249282109852578,0.020985550927711878,1.376036037255204,0.11425721932139542,-1.7920792205457143,-0.3136617620588843,0.9080291145166957,0.9552507049194106,-1.2999897780275405,-0.4293727950637242,0.21110400572437438,-0.23669025245583175],\"type\":\"bar\"},{\"marker\":{\"color\":\"rgba(128, 0, 128, 0.6)\",\"line\":{\"color\":\"rgba(128, 0, 128, 1.0)\",\"width\":1}},\"name\":\"D\",\"orientation\":\"v\",\"text\":\"\",\"x\":[0,1,2,3,4,5,6,7,8,9,10,11,12,13,14,15,16,17,18,19,20,21,22,23,24,25,26,27,28,29,30,31,32,33,34,35,36,37,38,39,40,41,42,43,44,45,46,47,48,49,50,51,52,53,54,55,56,57,58,59,60,61,62,63,64,65,66,67,68,69,70,71,72,73,74,75,76,77,78,79,80,81,82,83,84,85,86,87,88,89,90,91,92,93,94,95,96,97,98,99],\"y\":[0.592132628370577,-1.1427568771274301,-0.6340122630191883,-0.7162128894182691,0.09739810390787935,0.09159611881467758,-0.9668463002828019,-0.6208334020410122,0.12874503109489555,-0.3596561372712881,0.39013837317684175,0.9707203746231453,-1.849471788872194,-1.670949123446992,1.3990752041954768,-0.433939139689318,-0.44752017505281094,-2.134491404043168,-0.8356207928281586,1.2669953059648416,-0.26364190278517186,-0.03972649984227558,0.4107706478872919,0.8034938604696944,0.1797430430969131,-0.6029878381334249,0.5453303115260123,-0.22849871488659848,0.19840671579042543,-0.20075469668443507,-0.23837820844984284,0.7077555147181938,0.10728535871855505,-0.5961065955304026,0.6295775324655841,-2.1430311045813575,0.6461484336873898,0.1217479112963839,1.6345095310518332,-0.9607835683541878,-1.0677335273474948,1.2161328243610878,-0.06674068289256456,0.8395283207223901,-1.0741861262618164,-0.34730099283237337,0.5659354167689368,0.9123036110964656,-0.4871189389482929,1.5582944789663065,-2.104414717884187,-1.9082807636805286,0.20519240993648347,0.5830341861711636,0.06267896143655838,-2.202683825879842,-1.0614936236398618,-1.013092636573165,-0.7470592116179434,-1.0199280229765049,0.9875061756283474,-2.1080306341987796,0.8070667330078221,0.9094431465761287,-1.7629120134717562,-0.15994707522962706,0.41276947219161814,0.8381114480287192,-1.3365096723779204,-1.6329883056871755,0.10627979251486216,0.02004657791238379,-1.3229626726102046,1.2801780728052166,0.8345055826164722,0.9721200944205621,0.37734462188478013,-0.3223044195608128,0.7967565028396203,-0.6224089678483244,0.5828942342989621,0.03016169618375698,-1.696574544826665,0.09590877733994138,-0.5127741879834149,0.4383379018298321,1.0826621642886225,1.0592007327193345,-0.5232893508862395,1.2627601225631901,0.6589175272897498,1.022280331965757,-1.8153529724872977,-1.0861166191335576,0.017399232226795285,-1.9794890106589242,-0.2894486848694927,0.4794857286596619,0.13405219599547738,-0.9641648355507442],\"type\":\"bar\"}],                        {\"legend\":{\"bgcolor\":\"#F5F6F9\",\"font\":{\"color\":\"#4D5663\"}},\"paper_bgcolor\":\"#F5F6F9\",\"plot_bgcolor\":\"#F5F6F9\",\"template\":{\"data\":{\"barpolar\":[{\"marker\":{\"line\":{\"color\":\"#E5ECF6\",\"width\":0.5},\"pattern\":{\"fillmode\":\"overlay\",\"size\":10,\"solidity\":0.2}},\"type\":\"barpolar\"}],\"bar\":[{\"error_x\":{\"color\":\"#2a3f5f\"},\"error_y\":{\"color\":\"#2a3f5f\"},\"marker\":{\"line\":{\"color\":\"#E5ECF6\",\"width\":0.5},\"pattern\":{\"fillmode\":\"overlay\",\"size\":10,\"solidity\":0.2}},\"type\":\"bar\"}],\"carpet\":[{\"aaxis\":{\"endlinecolor\":\"#2a3f5f\",\"gridcolor\":\"white\",\"linecolor\":\"white\",\"minorgridcolor\":\"white\",\"startlinecolor\":\"#2a3f5f\"},\"baxis\":{\"endlinecolor\":\"#2a3f5f\",\"gridcolor\":\"white\",\"linecolor\":\"white\",\"minorgridcolor\":\"white\",\"startlinecolor\":\"#2a3f5f\"},\"type\":\"carpet\"}],\"choropleth\":[{\"colorbar\":{\"outlinewidth\":0,\"ticks\":\"\"},\"type\":\"choropleth\"}],\"contourcarpet\":[{\"colorbar\":{\"outlinewidth\":0,\"ticks\":\"\"},\"type\":\"contourcarpet\"}],\"contour\":[{\"colorbar\":{\"outlinewidth\":0,\"ticks\":\"\"},\"colorscale\":[[0.0,\"#0d0887\"],[0.1111111111111111,\"#46039f\"],[0.2222222222222222,\"#7201a8\"],[0.3333333333333333,\"#9c179e\"],[0.4444444444444444,\"#bd3786\"],[0.5555555555555556,\"#d8576b\"],[0.6666666666666666,\"#ed7953\"],[0.7777777777777778,\"#fb9f3a\"],[0.8888888888888888,\"#fdca26\"],[1.0,\"#f0f921\"]],\"type\":\"contour\"}],\"heatmapgl\":[{\"colorbar\":{\"outlinewidth\":0,\"ticks\":\"\"},\"colorscale\":[[0.0,\"#0d0887\"],[0.1111111111111111,\"#46039f\"],[0.2222222222222222,\"#7201a8\"],[0.3333333333333333,\"#9c179e\"],[0.4444444444444444,\"#bd3786\"],[0.5555555555555556,\"#d8576b\"],[0.6666666666666666,\"#ed7953\"],[0.7777777777777778,\"#fb9f3a\"],[0.8888888888888888,\"#fdca26\"],[1.0,\"#f0f921\"]],\"type\":\"heatmapgl\"}],\"heatmap\":[{\"colorbar\":{\"outlinewidth\":0,\"ticks\":\"\"},\"colorscale\":[[0.0,\"#0d0887\"],[0.1111111111111111,\"#46039f\"],[0.2222222222222222,\"#7201a8\"],[0.3333333333333333,\"#9c179e\"],[0.4444444444444444,\"#bd3786\"],[0.5555555555555556,\"#d8576b\"],[0.6666666666666666,\"#ed7953\"],[0.7777777777777778,\"#fb9f3a\"],[0.8888888888888888,\"#fdca26\"],[1.0,\"#f0f921\"]],\"type\":\"heatmap\"}],\"histogram2dcontour\":[{\"colorbar\":{\"outlinewidth\":0,\"ticks\":\"\"},\"colorscale\":[[0.0,\"#0d0887\"],[0.1111111111111111,\"#46039f\"],[0.2222222222222222,\"#7201a8\"],[0.3333333333333333,\"#9c179e\"],[0.4444444444444444,\"#bd3786\"],[0.5555555555555556,\"#d8576b\"],[0.6666666666666666,\"#ed7953\"],[0.7777777777777778,\"#fb9f3a\"],[0.8888888888888888,\"#fdca26\"],[1.0,\"#f0f921\"]],\"type\":\"histogram2dcontour\"}],\"histogram2d\":[{\"colorbar\":{\"outlinewidth\":0,\"ticks\":\"\"},\"colorscale\":[[0.0,\"#0d0887\"],[0.1111111111111111,\"#46039f\"],[0.2222222222222222,\"#7201a8\"],[0.3333333333333333,\"#9c179e\"],[0.4444444444444444,\"#bd3786\"],[0.5555555555555556,\"#d8576b\"],[0.6666666666666666,\"#ed7953\"],[0.7777777777777778,\"#fb9f3a\"],[0.8888888888888888,\"#fdca26\"],[1.0,\"#f0f921\"]],\"type\":\"histogram2d\"}],\"histogram\":[{\"marker\":{\"pattern\":{\"fillmode\":\"overlay\",\"size\":10,\"solidity\":0.2}},\"type\":\"histogram\"}],\"mesh3d\":[{\"colorbar\":{\"outlinewidth\":0,\"ticks\":\"\"},\"type\":\"mesh3d\"}],\"parcoords\":[{\"line\":{\"colorbar\":{\"outlinewidth\":0,\"ticks\":\"\"}},\"type\":\"parcoords\"}],\"pie\":[{\"automargin\":true,\"type\":\"pie\"}],\"scatter3d\":[{\"line\":{\"colorbar\":{\"outlinewidth\":0,\"ticks\":\"\"}},\"marker\":{\"colorbar\":{\"outlinewidth\":0,\"ticks\":\"\"}},\"type\":\"scatter3d\"}],\"scattercarpet\":[{\"marker\":{\"colorbar\":{\"outlinewidth\":0,\"ticks\":\"\"}},\"type\":\"scattercarpet\"}],\"scattergeo\":[{\"marker\":{\"colorbar\":{\"outlinewidth\":0,\"ticks\":\"\"}},\"type\":\"scattergeo\"}],\"scattergl\":[{\"marker\":{\"colorbar\":{\"outlinewidth\":0,\"ticks\":\"\"}},\"type\":\"scattergl\"}],\"scattermapbox\":[{\"marker\":{\"colorbar\":{\"outlinewidth\":0,\"ticks\":\"\"}},\"type\":\"scattermapbox\"}],\"scatterpolargl\":[{\"marker\":{\"colorbar\":{\"outlinewidth\":0,\"ticks\":\"\"}},\"type\":\"scatterpolargl\"}],\"scatterpolar\":[{\"marker\":{\"colorbar\":{\"outlinewidth\":0,\"ticks\":\"\"}},\"type\":\"scatterpolar\"}],\"scatter\":[{\"marker\":{\"colorbar\":{\"outlinewidth\":0,\"ticks\":\"\"}},\"type\":\"scatter\"}],\"scatterternary\":[{\"marker\":{\"colorbar\":{\"outlinewidth\":0,\"ticks\":\"\"}},\"type\":\"scatterternary\"}],\"surface\":[{\"colorbar\":{\"outlinewidth\":0,\"ticks\":\"\"},\"colorscale\":[[0.0,\"#0d0887\"],[0.1111111111111111,\"#46039f\"],[0.2222222222222222,\"#7201a8\"],[0.3333333333333333,\"#9c179e\"],[0.4444444444444444,\"#bd3786\"],[0.5555555555555556,\"#d8576b\"],[0.6666666666666666,\"#ed7953\"],[0.7777777777777778,\"#fb9f3a\"],[0.8888888888888888,\"#fdca26\"],[1.0,\"#f0f921\"]],\"type\":\"surface\"}],\"table\":[{\"cells\":{\"fill\":{\"color\":\"#EBF0F8\"},\"line\":{\"color\":\"white\"}},\"header\":{\"fill\":{\"color\":\"#C8D4E3\"},\"line\":{\"color\":\"white\"}},\"type\":\"table\"}]},\"layout\":{\"annotationdefaults\":{\"arrowcolor\":\"#2a3f5f\",\"arrowhead\":0,\"arrowwidth\":1},\"autotypenumbers\":\"strict\",\"coloraxis\":{\"colorbar\":{\"outlinewidth\":0,\"ticks\":\"\"}},\"colorscale\":{\"diverging\":[[0,\"#8e0152\"],[0.1,\"#c51b7d\"],[0.2,\"#de77ae\"],[0.3,\"#f1b6da\"],[0.4,\"#fde0ef\"],[0.5,\"#f7f7f7\"],[0.6,\"#e6f5d0\"],[0.7,\"#b8e186\"],[0.8,\"#7fbc41\"],[0.9,\"#4d9221\"],[1,\"#276419\"]],\"sequential\":[[0.0,\"#0d0887\"],[0.1111111111111111,\"#46039f\"],[0.2222222222222222,\"#7201a8\"],[0.3333333333333333,\"#9c179e\"],[0.4444444444444444,\"#bd3786\"],[0.5555555555555556,\"#d8576b\"],[0.6666666666666666,\"#ed7953\"],[0.7777777777777778,\"#fb9f3a\"],[0.8888888888888888,\"#fdca26\"],[1.0,\"#f0f921\"]],\"sequentialminus\":[[0.0,\"#0d0887\"],[0.1111111111111111,\"#46039f\"],[0.2222222222222222,\"#7201a8\"],[0.3333333333333333,\"#9c179e\"],[0.4444444444444444,\"#bd3786\"],[0.5555555555555556,\"#d8576b\"],[0.6666666666666666,\"#ed7953\"],[0.7777777777777778,\"#fb9f3a\"],[0.8888888888888888,\"#fdca26\"],[1.0,\"#f0f921\"]]},\"colorway\":[\"#636efa\",\"#EF553B\",\"#00cc96\",\"#ab63fa\",\"#FFA15A\",\"#19d3f3\",\"#FF6692\",\"#B6E880\",\"#FF97FF\",\"#FECB52\"],\"font\":{\"color\":\"#2a3f5f\"},\"geo\":{\"bgcolor\":\"white\",\"lakecolor\":\"white\",\"landcolor\":\"#E5ECF6\",\"showlakes\":true,\"showland\":true,\"subunitcolor\":\"white\"},\"hoverlabel\":{\"align\":\"left\"},\"hovermode\":\"closest\",\"mapbox\":{\"style\":\"light\"},\"paper_bgcolor\":\"white\",\"plot_bgcolor\":\"#E5ECF6\",\"polar\":{\"angularaxis\":{\"gridcolor\":\"white\",\"linecolor\":\"white\",\"ticks\":\"\"},\"bgcolor\":\"#E5ECF6\",\"radialaxis\":{\"gridcolor\":\"white\",\"linecolor\":\"white\",\"ticks\":\"\"}},\"scene\":{\"xaxis\":{\"backgroundcolor\":\"#E5ECF6\",\"gridcolor\":\"white\",\"gridwidth\":2,\"linecolor\":\"white\",\"showbackground\":true,\"ticks\":\"\",\"zerolinecolor\":\"white\"},\"yaxis\":{\"backgroundcolor\":\"#E5ECF6\",\"gridcolor\":\"white\",\"gridwidth\":2,\"linecolor\":\"white\",\"showbackground\":true,\"ticks\":\"\",\"zerolinecolor\":\"white\"},\"zaxis\":{\"backgroundcolor\":\"#E5ECF6\",\"gridcolor\":\"white\",\"gridwidth\":2,\"linecolor\":\"white\",\"showbackground\":true,\"ticks\":\"\",\"zerolinecolor\":\"white\"}},\"shapedefaults\":{\"line\":{\"color\":\"#2a3f5f\"}},\"ternary\":{\"aaxis\":{\"gridcolor\":\"white\",\"linecolor\":\"white\",\"ticks\":\"\"},\"baxis\":{\"gridcolor\":\"white\",\"linecolor\":\"white\",\"ticks\":\"\"},\"bgcolor\":\"#E5ECF6\",\"caxis\":{\"gridcolor\":\"white\",\"linecolor\":\"white\",\"ticks\":\"\"}},\"title\":{\"x\":0.05},\"xaxis\":{\"automargin\":true,\"gridcolor\":\"white\",\"linecolor\":\"white\",\"ticks\":\"\",\"title\":{\"standoff\":15},\"zerolinecolor\":\"white\",\"zerolinewidth\":2},\"yaxis\":{\"automargin\":true,\"gridcolor\":\"white\",\"linecolor\":\"white\",\"ticks\":\"\",\"title\":{\"standoff\":15},\"zerolinecolor\":\"white\",\"zerolinewidth\":2}}},\"title\":{\"font\":{\"color\":\"#4D5663\"}},\"xaxis\":{\"gridcolor\":\"#E1E5ED\",\"showgrid\":true,\"tickfont\":{\"color\":\"#4D5663\"},\"title\":{\"font\":{\"color\":\"#4D5663\"},\"text\":\"\"},\"zerolinecolor\":\"#E1E5ED\"},\"yaxis\":{\"gridcolor\":\"#E1E5ED\",\"showgrid\":true,\"tickfont\":{\"color\":\"#4D5663\"},\"title\":{\"font\":{\"color\":\"#4D5663\"},\"text\":\"\"},\"zerolinecolor\":\"#E1E5ED\"}},                        {\"showLink\": true, \"linkText\": \"Export to plot.ly\", \"plotlyServerURL\": \"https://plot.ly\", \"responsive\": true}                    ).then(function(){\n",
       "                            \n",
       "var gd = document.getElementById('52c374c3-f0c5-48da-8fe9-c7e505e50524');\n",
       "var x = new MutationObserver(function (mutations, observer) {{\n",
       "        var display = window.getComputedStyle(gd).display;\n",
       "        if (!display || display === 'none') {{\n",
       "            console.log([gd, 'removed!']);\n",
       "            Plotly.purge(gd);\n",
       "            observer.disconnect();\n",
       "        }}\n",
       "}});\n",
       "\n",
       "// Listen for the removal of the full notebook cells\n",
       "var notebookContainer = gd.closest('#notebook-container');\n",
       "if (notebookContainer) {{\n",
       "    x.observe(notebookContainer, {childList: true});\n",
       "}}\n",
       "\n",
       "// Listen for the clearing of the current output cell\n",
       "var outputEl = gd.closest('.output');\n",
       "if (outputEl) {{\n",
       "    x.observe(outputEl, {childList: true});\n",
       "}}\n",
       "\n",
       "                        })                };                });            </script>        </div>"
      ]
     },
     "metadata": {},
     "output_type": "display_data"
    }
   ],
   "source": [
    "df1.iplot(kind='bar')"
   ]
  },
  {
   "cell_type": "code",
   "execution_count": 20,
   "id": "27126ece",
   "metadata": {},
   "outputs": [
    {
     "data": {
      "application/vnd.plotly.v1+json": {
       "config": {
        "linkText": "Export to plot.ly",
        "plotlyServerURL": "https://plot.ly",
        "showLink": true
       },
       "data": [
        {
         "marker": {
          "color": "rgba(255, 153, 51, 0.6)",
          "line": {
           "color": "rgba(255, 153, 51, 1.0)",
           "width": 1
          }
         },
         "name": "None",
         "orientation": "v",
         "text": "",
         "type": "bar",
         "x": [
          "A",
          "B",
          "C",
          "D"
         ],
         "y": [
          100,
          100,
          100,
          100
         ]
        }
       ],
       "layout": {
        "legend": {
         "bgcolor": "#F5F6F9",
         "font": {
          "color": "#4D5663"
         }
        },
        "paper_bgcolor": "#F5F6F9",
        "plot_bgcolor": "#F5F6F9",
        "template": {
         "data": {
          "bar": [
           {
            "error_x": {
             "color": "#2a3f5f"
            },
            "error_y": {
             "color": "#2a3f5f"
            },
            "marker": {
             "line": {
              "color": "#E5ECF6",
              "width": 0.5
             },
             "pattern": {
              "fillmode": "overlay",
              "size": 10,
              "solidity": 0.2
             }
            },
            "type": "bar"
           }
          ],
          "barpolar": [
           {
            "marker": {
             "line": {
              "color": "#E5ECF6",
              "width": 0.5
             },
             "pattern": {
              "fillmode": "overlay",
              "size": 10,
              "solidity": 0.2
             }
            },
            "type": "barpolar"
           }
          ],
          "carpet": [
           {
            "aaxis": {
             "endlinecolor": "#2a3f5f",
             "gridcolor": "white",
             "linecolor": "white",
             "minorgridcolor": "white",
             "startlinecolor": "#2a3f5f"
            },
            "baxis": {
             "endlinecolor": "#2a3f5f",
             "gridcolor": "white",
             "linecolor": "white",
             "minorgridcolor": "white",
             "startlinecolor": "#2a3f5f"
            },
            "type": "carpet"
           }
          ],
          "choropleth": [
           {
            "colorbar": {
             "outlinewidth": 0,
             "ticks": ""
            },
            "type": "choropleth"
           }
          ],
          "contour": [
           {
            "colorbar": {
             "outlinewidth": 0,
             "ticks": ""
            },
            "colorscale": [
             [
              0,
              "#0d0887"
             ],
             [
              0.1111111111111111,
              "#46039f"
             ],
             [
              0.2222222222222222,
              "#7201a8"
             ],
             [
              0.3333333333333333,
              "#9c179e"
             ],
             [
              0.4444444444444444,
              "#bd3786"
             ],
             [
              0.5555555555555556,
              "#d8576b"
             ],
             [
              0.6666666666666666,
              "#ed7953"
             ],
             [
              0.7777777777777778,
              "#fb9f3a"
             ],
             [
              0.8888888888888888,
              "#fdca26"
             ],
             [
              1,
              "#f0f921"
             ]
            ],
            "type": "contour"
           }
          ],
          "contourcarpet": [
           {
            "colorbar": {
             "outlinewidth": 0,
             "ticks": ""
            },
            "type": "contourcarpet"
           }
          ],
          "heatmap": [
           {
            "colorbar": {
             "outlinewidth": 0,
             "ticks": ""
            },
            "colorscale": [
             [
              0,
              "#0d0887"
             ],
             [
              0.1111111111111111,
              "#46039f"
             ],
             [
              0.2222222222222222,
              "#7201a8"
             ],
             [
              0.3333333333333333,
              "#9c179e"
             ],
             [
              0.4444444444444444,
              "#bd3786"
             ],
             [
              0.5555555555555556,
              "#d8576b"
             ],
             [
              0.6666666666666666,
              "#ed7953"
             ],
             [
              0.7777777777777778,
              "#fb9f3a"
             ],
             [
              0.8888888888888888,
              "#fdca26"
             ],
             [
              1,
              "#f0f921"
             ]
            ],
            "type": "heatmap"
           }
          ],
          "heatmapgl": [
           {
            "colorbar": {
             "outlinewidth": 0,
             "ticks": ""
            },
            "colorscale": [
             [
              0,
              "#0d0887"
             ],
             [
              0.1111111111111111,
              "#46039f"
             ],
             [
              0.2222222222222222,
              "#7201a8"
             ],
             [
              0.3333333333333333,
              "#9c179e"
             ],
             [
              0.4444444444444444,
              "#bd3786"
             ],
             [
              0.5555555555555556,
              "#d8576b"
             ],
             [
              0.6666666666666666,
              "#ed7953"
             ],
             [
              0.7777777777777778,
              "#fb9f3a"
             ],
             [
              0.8888888888888888,
              "#fdca26"
             ],
             [
              1,
              "#f0f921"
             ]
            ],
            "type": "heatmapgl"
           }
          ],
          "histogram": [
           {
            "marker": {
             "pattern": {
              "fillmode": "overlay",
              "size": 10,
              "solidity": 0.2
             }
            },
            "type": "histogram"
           }
          ],
          "histogram2d": [
           {
            "colorbar": {
             "outlinewidth": 0,
             "ticks": ""
            },
            "colorscale": [
             [
              0,
              "#0d0887"
             ],
             [
              0.1111111111111111,
              "#46039f"
             ],
             [
              0.2222222222222222,
              "#7201a8"
             ],
             [
              0.3333333333333333,
              "#9c179e"
             ],
             [
              0.4444444444444444,
              "#bd3786"
             ],
             [
              0.5555555555555556,
              "#d8576b"
             ],
             [
              0.6666666666666666,
              "#ed7953"
             ],
             [
              0.7777777777777778,
              "#fb9f3a"
             ],
             [
              0.8888888888888888,
              "#fdca26"
             ],
             [
              1,
              "#f0f921"
             ]
            ],
            "type": "histogram2d"
           }
          ],
          "histogram2dcontour": [
           {
            "colorbar": {
             "outlinewidth": 0,
             "ticks": ""
            },
            "colorscale": [
             [
              0,
              "#0d0887"
             ],
             [
              0.1111111111111111,
              "#46039f"
             ],
             [
              0.2222222222222222,
              "#7201a8"
             ],
             [
              0.3333333333333333,
              "#9c179e"
             ],
             [
              0.4444444444444444,
              "#bd3786"
             ],
             [
              0.5555555555555556,
              "#d8576b"
             ],
             [
              0.6666666666666666,
              "#ed7953"
             ],
             [
              0.7777777777777778,
              "#fb9f3a"
             ],
             [
              0.8888888888888888,
              "#fdca26"
             ],
             [
              1,
              "#f0f921"
             ]
            ],
            "type": "histogram2dcontour"
           }
          ],
          "mesh3d": [
           {
            "colorbar": {
             "outlinewidth": 0,
             "ticks": ""
            },
            "type": "mesh3d"
           }
          ],
          "parcoords": [
           {
            "line": {
             "colorbar": {
              "outlinewidth": 0,
              "ticks": ""
             }
            },
            "type": "parcoords"
           }
          ],
          "pie": [
           {
            "automargin": true,
            "type": "pie"
           }
          ],
          "scatter": [
           {
            "marker": {
             "colorbar": {
              "outlinewidth": 0,
              "ticks": ""
             }
            },
            "type": "scatter"
           }
          ],
          "scatter3d": [
           {
            "line": {
             "colorbar": {
              "outlinewidth": 0,
              "ticks": ""
             }
            },
            "marker": {
             "colorbar": {
              "outlinewidth": 0,
              "ticks": ""
             }
            },
            "type": "scatter3d"
           }
          ],
          "scattercarpet": [
           {
            "marker": {
             "colorbar": {
              "outlinewidth": 0,
              "ticks": ""
             }
            },
            "type": "scattercarpet"
           }
          ],
          "scattergeo": [
           {
            "marker": {
             "colorbar": {
              "outlinewidth": 0,
              "ticks": ""
             }
            },
            "type": "scattergeo"
           }
          ],
          "scattergl": [
           {
            "marker": {
             "colorbar": {
              "outlinewidth": 0,
              "ticks": ""
             }
            },
            "type": "scattergl"
           }
          ],
          "scattermapbox": [
           {
            "marker": {
             "colorbar": {
              "outlinewidth": 0,
              "ticks": ""
             }
            },
            "type": "scattermapbox"
           }
          ],
          "scatterpolar": [
           {
            "marker": {
             "colorbar": {
              "outlinewidth": 0,
              "ticks": ""
             }
            },
            "type": "scatterpolar"
           }
          ],
          "scatterpolargl": [
           {
            "marker": {
             "colorbar": {
              "outlinewidth": 0,
              "ticks": ""
             }
            },
            "type": "scatterpolargl"
           }
          ],
          "scatterternary": [
           {
            "marker": {
             "colorbar": {
              "outlinewidth": 0,
              "ticks": ""
             }
            },
            "type": "scatterternary"
           }
          ],
          "surface": [
           {
            "colorbar": {
             "outlinewidth": 0,
             "ticks": ""
            },
            "colorscale": [
             [
              0,
              "#0d0887"
             ],
             [
              0.1111111111111111,
              "#46039f"
             ],
             [
              0.2222222222222222,
              "#7201a8"
             ],
             [
              0.3333333333333333,
              "#9c179e"
             ],
             [
              0.4444444444444444,
              "#bd3786"
             ],
             [
              0.5555555555555556,
              "#d8576b"
             ],
             [
              0.6666666666666666,
              "#ed7953"
             ],
             [
              0.7777777777777778,
              "#fb9f3a"
             ],
             [
              0.8888888888888888,
              "#fdca26"
             ],
             [
              1,
              "#f0f921"
             ]
            ],
            "type": "surface"
           }
          ],
          "table": [
           {
            "cells": {
             "fill": {
              "color": "#EBF0F8"
             },
             "line": {
              "color": "white"
             }
            },
            "header": {
             "fill": {
              "color": "#C8D4E3"
             },
             "line": {
              "color": "white"
             }
            },
            "type": "table"
           }
          ]
         },
         "layout": {
          "annotationdefaults": {
           "arrowcolor": "#2a3f5f",
           "arrowhead": 0,
           "arrowwidth": 1
          },
          "autotypenumbers": "strict",
          "coloraxis": {
           "colorbar": {
            "outlinewidth": 0,
            "ticks": ""
           }
          },
          "colorscale": {
           "diverging": [
            [
             0,
             "#8e0152"
            ],
            [
             0.1,
             "#c51b7d"
            ],
            [
             0.2,
             "#de77ae"
            ],
            [
             0.3,
             "#f1b6da"
            ],
            [
             0.4,
             "#fde0ef"
            ],
            [
             0.5,
             "#f7f7f7"
            ],
            [
             0.6,
             "#e6f5d0"
            ],
            [
             0.7,
             "#b8e186"
            ],
            [
             0.8,
             "#7fbc41"
            ],
            [
             0.9,
             "#4d9221"
            ],
            [
             1,
             "#276419"
            ]
           ],
           "sequential": [
            [
             0,
             "#0d0887"
            ],
            [
             0.1111111111111111,
             "#46039f"
            ],
            [
             0.2222222222222222,
             "#7201a8"
            ],
            [
             0.3333333333333333,
             "#9c179e"
            ],
            [
             0.4444444444444444,
             "#bd3786"
            ],
            [
             0.5555555555555556,
             "#d8576b"
            ],
            [
             0.6666666666666666,
             "#ed7953"
            ],
            [
             0.7777777777777778,
             "#fb9f3a"
            ],
            [
             0.8888888888888888,
             "#fdca26"
            ],
            [
             1,
             "#f0f921"
            ]
           ],
           "sequentialminus": [
            [
             0,
             "#0d0887"
            ],
            [
             0.1111111111111111,
             "#46039f"
            ],
            [
             0.2222222222222222,
             "#7201a8"
            ],
            [
             0.3333333333333333,
             "#9c179e"
            ],
            [
             0.4444444444444444,
             "#bd3786"
            ],
            [
             0.5555555555555556,
             "#d8576b"
            ],
            [
             0.6666666666666666,
             "#ed7953"
            ],
            [
             0.7777777777777778,
             "#fb9f3a"
            ],
            [
             0.8888888888888888,
             "#fdca26"
            ],
            [
             1,
             "#f0f921"
            ]
           ]
          },
          "colorway": [
           "#636efa",
           "#EF553B",
           "#00cc96",
           "#ab63fa",
           "#FFA15A",
           "#19d3f3",
           "#FF6692",
           "#B6E880",
           "#FF97FF",
           "#FECB52"
          ],
          "font": {
           "color": "#2a3f5f"
          },
          "geo": {
           "bgcolor": "white",
           "lakecolor": "white",
           "landcolor": "#E5ECF6",
           "showlakes": true,
           "showland": true,
           "subunitcolor": "white"
          },
          "hoverlabel": {
           "align": "left"
          },
          "hovermode": "closest",
          "mapbox": {
           "style": "light"
          },
          "paper_bgcolor": "white",
          "plot_bgcolor": "#E5ECF6",
          "polar": {
           "angularaxis": {
            "gridcolor": "white",
            "linecolor": "white",
            "ticks": ""
           },
           "bgcolor": "#E5ECF6",
           "radialaxis": {
            "gridcolor": "white",
            "linecolor": "white",
            "ticks": ""
           }
          },
          "scene": {
           "xaxis": {
            "backgroundcolor": "#E5ECF6",
            "gridcolor": "white",
            "gridwidth": 2,
            "linecolor": "white",
            "showbackground": true,
            "ticks": "",
            "zerolinecolor": "white"
           },
           "yaxis": {
            "backgroundcolor": "#E5ECF6",
            "gridcolor": "white",
            "gridwidth": 2,
            "linecolor": "white",
            "showbackground": true,
            "ticks": "",
            "zerolinecolor": "white"
           },
           "zaxis": {
            "backgroundcolor": "#E5ECF6",
            "gridcolor": "white",
            "gridwidth": 2,
            "linecolor": "white",
            "showbackground": true,
            "ticks": "",
            "zerolinecolor": "white"
           }
          },
          "shapedefaults": {
           "line": {
            "color": "#2a3f5f"
           }
          },
          "ternary": {
           "aaxis": {
            "gridcolor": "white",
            "linecolor": "white",
            "ticks": ""
           },
           "baxis": {
            "gridcolor": "white",
            "linecolor": "white",
            "ticks": ""
           },
           "bgcolor": "#E5ECF6",
           "caxis": {
            "gridcolor": "white",
            "linecolor": "white",
            "ticks": ""
           }
          },
          "title": {
           "x": 0.05
          },
          "xaxis": {
           "automargin": true,
           "gridcolor": "white",
           "linecolor": "white",
           "ticks": "",
           "title": {
            "standoff": 15
           },
           "zerolinecolor": "white",
           "zerolinewidth": 2
          },
          "yaxis": {
           "automargin": true,
           "gridcolor": "white",
           "linecolor": "white",
           "ticks": "",
           "title": {
            "standoff": 15
           },
           "zerolinecolor": "white",
           "zerolinewidth": 2
          }
         }
        },
        "title": {
         "font": {
          "color": "#4D5663"
         }
        },
        "xaxis": {
         "gridcolor": "#E1E5ED",
         "showgrid": true,
         "tickfont": {
          "color": "#4D5663"
         },
         "title": {
          "font": {
           "color": "#4D5663"
          },
          "text": ""
         },
         "zerolinecolor": "#E1E5ED"
        },
        "yaxis": {
         "gridcolor": "#E1E5ED",
         "showgrid": true,
         "tickfont": {
          "color": "#4D5663"
         },
         "title": {
          "font": {
           "color": "#4D5663"
          },
          "text": ""
         },
         "zerolinecolor": "#E1E5ED"
        }
       }
      },
      "text/html": [
       "<div>                            <div id=\"35b72353-1a48-4ca9-8518-e65a2013283d\" class=\"plotly-graph-div\" style=\"height:525px; width:100%;\"></div>            <script type=\"text/javascript\">                require([\"plotly\"], function(Plotly) {                    window.PLOTLYENV=window.PLOTLYENV || {};\n",
       "                    window.PLOTLYENV.BASE_URL='https://plot.ly';                                    if (document.getElementById(\"35b72353-1a48-4ca9-8518-e65a2013283d\")) {                    Plotly.newPlot(                        \"35b72353-1a48-4ca9-8518-e65a2013283d\",                        [{\"marker\":{\"color\":\"rgba(255, 153, 51, 0.6)\",\"line\":{\"color\":\"rgba(255, 153, 51, 1.0)\",\"width\":1}},\"name\":\"None\",\"orientation\":\"v\",\"text\":\"\",\"x\":[\"A\",\"B\",\"C\",\"D\"],\"y\":[100,100,100,100],\"type\":\"bar\"}],                        {\"legend\":{\"bgcolor\":\"#F5F6F9\",\"font\":{\"color\":\"#4D5663\"}},\"paper_bgcolor\":\"#F5F6F9\",\"plot_bgcolor\":\"#F5F6F9\",\"template\":{\"data\":{\"barpolar\":[{\"marker\":{\"line\":{\"color\":\"#E5ECF6\",\"width\":0.5},\"pattern\":{\"fillmode\":\"overlay\",\"size\":10,\"solidity\":0.2}},\"type\":\"barpolar\"}],\"bar\":[{\"error_x\":{\"color\":\"#2a3f5f\"},\"error_y\":{\"color\":\"#2a3f5f\"},\"marker\":{\"line\":{\"color\":\"#E5ECF6\",\"width\":0.5},\"pattern\":{\"fillmode\":\"overlay\",\"size\":10,\"solidity\":0.2}},\"type\":\"bar\"}],\"carpet\":[{\"aaxis\":{\"endlinecolor\":\"#2a3f5f\",\"gridcolor\":\"white\",\"linecolor\":\"white\",\"minorgridcolor\":\"white\",\"startlinecolor\":\"#2a3f5f\"},\"baxis\":{\"endlinecolor\":\"#2a3f5f\",\"gridcolor\":\"white\",\"linecolor\":\"white\",\"minorgridcolor\":\"white\",\"startlinecolor\":\"#2a3f5f\"},\"type\":\"carpet\"}],\"choropleth\":[{\"colorbar\":{\"outlinewidth\":0,\"ticks\":\"\"},\"type\":\"choropleth\"}],\"contourcarpet\":[{\"colorbar\":{\"outlinewidth\":0,\"ticks\":\"\"},\"type\":\"contourcarpet\"}],\"contour\":[{\"colorbar\":{\"outlinewidth\":0,\"ticks\":\"\"},\"colorscale\":[[0.0,\"#0d0887\"],[0.1111111111111111,\"#46039f\"],[0.2222222222222222,\"#7201a8\"],[0.3333333333333333,\"#9c179e\"],[0.4444444444444444,\"#bd3786\"],[0.5555555555555556,\"#d8576b\"],[0.6666666666666666,\"#ed7953\"],[0.7777777777777778,\"#fb9f3a\"],[0.8888888888888888,\"#fdca26\"],[1.0,\"#f0f921\"]],\"type\":\"contour\"}],\"heatmapgl\":[{\"colorbar\":{\"outlinewidth\":0,\"ticks\":\"\"},\"colorscale\":[[0.0,\"#0d0887\"],[0.1111111111111111,\"#46039f\"],[0.2222222222222222,\"#7201a8\"],[0.3333333333333333,\"#9c179e\"],[0.4444444444444444,\"#bd3786\"],[0.5555555555555556,\"#d8576b\"],[0.6666666666666666,\"#ed7953\"],[0.7777777777777778,\"#fb9f3a\"],[0.8888888888888888,\"#fdca26\"],[1.0,\"#f0f921\"]],\"type\":\"heatmapgl\"}],\"heatmap\":[{\"colorbar\":{\"outlinewidth\":0,\"ticks\":\"\"},\"colorscale\":[[0.0,\"#0d0887\"],[0.1111111111111111,\"#46039f\"],[0.2222222222222222,\"#7201a8\"],[0.3333333333333333,\"#9c179e\"],[0.4444444444444444,\"#bd3786\"],[0.5555555555555556,\"#d8576b\"],[0.6666666666666666,\"#ed7953\"],[0.7777777777777778,\"#fb9f3a\"],[0.8888888888888888,\"#fdca26\"],[1.0,\"#f0f921\"]],\"type\":\"heatmap\"}],\"histogram2dcontour\":[{\"colorbar\":{\"outlinewidth\":0,\"ticks\":\"\"},\"colorscale\":[[0.0,\"#0d0887\"],[0.1111111111111111,\"#46039f\"],[0.2222222222222222,\"#7201a8\"],[0.3333333333333333,\"#9c179e\"],[0.4444444444444444,\"#bd3786\"],[0.5555555555555556,\"#d8576b\"],[0.6666666666666666,\"#ed7953\"],[0.7777777777777778,\"#fb9f3a\"],[0.8888888888888888,\"#fdca26\"],[1.0,\"#f0f921\"]],\"type\":\"histogram2dcontour\"}],\"histogram2d\":[{\"colorbar\":{\"outlinewidth\":0,\"ticks\":\"\"},\"colorscale\":[[0.0,\"#0d0887\"],[0.1111111111111111,\"#46039f\"],[0.2222222222222222,\"#7201a8\"],[0.3333333333333333,\"#9c179e\"],[0.4444444444444444,\"#bd3786\"],[0.5555555555555556,\"#d8576b\"],[0.6666666666666666,\"#ed7953\"],[0.7777777777777778,\"#fb9f3a\"],[0.8888888888888888,\"#fdca26\"],[1.0,\"#f0f921\"]],\"type\":\"histogram2d\"}],\"histogram\":[{\"marker\":{\"pattern\":{\"fillmode\":\"overlay\",\"size\":10,\"solidity\":0.2}},\"type\":\"histogram\"}],\"mesh3d\":[{\"colorbar\":{\"outlinewidth\":0,\"ticks\":\"\"},\"type\":\"mesh3d\"}],\"parcoords\":[{\"line\":{\"colorbar\":{\"outlinewidth\":0,\"ticks\":\"\"}},\"type\":\"parcoords\"}],\"pie\":[{\"automargin\":true,\"type\":\"pie\"}],\"scatter3d\":[{\"line\":{\"colorbar\":{\"outlinewidth\":0,\"ticks\":\"\"}},\"marker\":{\"colorbar\":{\"outlinewidth\":0,\"ticks\":\"\"}},\"type\":\"scatter3d\"}],\"scattercarpet\":[{\"marker\":{\"colorbar\":{\"outlinewidth\":0,\"ticks\":\"\"}},\"type\":\"scattercarpet\"}],\"scattergeo\":[{\"marker\":{\"colorbar\":{\"outlinewidth\":0,\"ticks\":\"\"}},\"type\":\"scattergeo\"}],\"scattergl\":[{\"marker\":{\"colorbar\":{\"outlinewidth\":0,\"ticks\":\"\"}},\"type\":\"scattergl\"}],\"scattermapbox\":[{\"marker\":{\"colorbar\":{\"outlinewidth\":0,\"ticks\":\"\"}},\"type\":\"scattermapbox\"}],\"scatterpolargl\":[{\"marker\":{\"colorbar\":{\"outlinewidth\":0,\"ticks\":\"\"}},\"type\":\"scatterpolargl\"}],\"scatterpolar\":[{\"marker\":{\"colorbar\":{\"outlinewidth\":0,\"ticks\":\"\"}},\"type\":\"scatterpolar\"}],\"scatter\":[{\"marker\":{\"colorbar\":{\"outlinewidth\":0,\"ticks\":\"\"}},\"type\":\"scatter\"}],\"scatterternary\":[{\"marker\":{\"colorbar\":{\"outlinewidth\":0,\"ticks\":\"\"}},\"type\":\"scatterternary\"}],\"surface\":[{\"colorbar\":{\"outlinewidth\":0,\"ticks\":\"\"},\"colorscale\":[[0.0,\"#0d0887\"],[0.1111111111111111,\"#46039f\"],[0.2222222222222222,\"#7201a8\"],[0.3333333333333333,\"#9c179e\"],[0.4444444444444444,\"#bd3786\"],[0.5555555555555556,\"#d8576b\"],[0.6666666666666666,\"#ed7953\"],[0.7777777777777778,\"#fb9f3a\"],[0.8888888888888888,\"#fdca26\"],[1.0,\"#f0f921\"]],\"type\":\"surface\"}],\"table\":[{\"cells\":{\"fill\":{\"color\":\"#EBF0F8\"},\"line\":{\"color\":\"white\"}},\"header\":{\"fill\":{\"color\":\"#C8D4E3\"},\"line\":{\"color\":\"white\"}},\"type\":\"table\"}]},\"layout\":{\"annotationdefaults\":{\"arrowcolor\":\"#2a3f5f\",\"arrowhead\":0,\"arrowwidth\":1},\"autotypenumbers\":\"strict\",\"coloraxis\":{\"colorbar\":{\"outlinewidth\":0,\"ticks\":\"\"}},\"colorscale\":{\"diverging\":[[0,\"#8e0152\"],[0.1,\"#c51b7d\"],[0.2,\"#de77ae\"],[0.3,\"#f1b6da\"],[0.4,\"#fde0ef\"],[0.5,\"#f7f7f7\"],[0.6,\"#e6f5d0\"],[0.7,\"#b8e186\"],[0.8,\"#7fbc41\"],[0.9,\"#4d9221\"],[1,\"#276419\"]],\"sequential\":[[0.0,\"#0d0887\"],[0.1111111111111111,\"#46039f\"],[0.2222222222222222,\"#7201a8\"],[0.3333333333333333,\"#9c179e\"],[0.4444444444444444,\"#bd3786\"],[0.5555555555555556,\"#d8576b\"],[0.6666666666666666,\"#ed7953\"],[0.7777777777777778,\"#fb9f3a\"],[0.8888888888888888,\"#fdca26\"],[1.0,\"#f0f921\"]],\"sequentialminus\":[[0.0,\"#0d0887\"],[0.1111111111111111,\"#46039f\"],[0.2222222222222222,\"#7201a8\"],[0.3333333333333333,\"#9c179e\"],[0.4444444444444444,\"#bd3786\"],[0.5555555555555556,\"#d8576b\"],[0.6666666666666666,\"#ed7953\"],[0.7777777777777778,\"#fb9f3a\"],[0.8888888888888888,\"#fdca26\"],[1.0,\"#f0f921\"]]},\"colorway\":[\"#636efa\",\"#EF553B\",\"#00cc96\",\"#ab63fa\",\"#FFA15A\",\"#19d3f3\",\"#FF6692\",\"#B6E880\",\"#FF97FF\",\"#FECB52\"],\"font\":{\"color\":\"#2a3f5f\"},\"geo\":{\"bgcolor\":\"white\",\"lakecolor\":\"white\",\"landcolor\":\"#E5ECF6\",\"showlakes\":true,\"showland\":true,\"subunitcolor\":\"white\"},\"hoverlabel\":{\"align\":\"left\"},\"hovermode\":\"closest\",\"mapbox\":{\"style\":\"light\"},\"paper_bgcolor\":\"white\",\"plot_bgcolor\":\"#E5ECF6\",\"polar\":{\"angularaxis\":{\"gridcolor\":\"white\",\"linecolor\":\"white\",\"ticks\":\"\"},\"bgcolor\":\"#E5ECF6\",\"radialaxis\":{\"gridcolor\":\"white\",\"linecolor\":\"white\",\"ticks\":\"\"}},\"scene\":{\"xaxis\":{\"backgroundcolor\":\"#E5ECF6\",\"gridcolor\":\"white\",\"gridwidth\":2,\"linecolor\":\"white\",\"showbackground\":true,\"ticks\":\"\",\"zerolinecolor\":\"white\"},\"yaxis\":{\"backgroundcolor\":\"#E5ECF6\",\"gridcolor\":\"white\",\"gridwidth\":2,\"linecolor\":\"white\",\"showbackground\":true,\"ticks\":\"\",\"zerolinecolor\":\"white\"},\"zaxis\":{\"backgroundcolor\":\"#E5ECF6\",\"gridcolor\":\"white\",\"gridwidth\":2,\"linecolor\":\"white\",\"showbackground\":true,\"ticks\":\"\",\"zerolinecolor\":\"white\"}},\"shapedefaults\":{\"line\":{\"color\":\"#2a3f5f\"}},\"ternary\":{\"aaxis\":{\"gridcolor\":\"white\",\"linecolor\":\"white\",\"ticks\":\"\"},\"baxis\":{\"gridcolor\":\"white\",\"linecolor\":\"white\",\"ticks\":\"\"},\"bgcolor\":\"#E5ECF6\",\"caxis\":{\"gridcolor\":\"white\",\"linecolor\":\"white\",\"ticks\":\"\"}},\"title\":{\"x\":0.05},\"xaxis\":{\"automargin\":true,\"gridcolor\":\"white\",\"linecolor\":\"white\",\"ticks\":\"\",\"title\":{\"standoff\":15},\"zerolinecolor\":\"white\",\"zerolinewidth\":2},\"yaxis\":{\"automargin\":true,\"gridcolor\":\"white\",\"linecolor\":\"white\",\"ticks\":\"\",\"title\":{\"standoff\":15},\"zerolinecolor\":\"white\",\"zerolinewidth\":2}}},\"title\":{\"font\":{\"color\":\"#4D5663\"}},\"xaxis\":{\"gridcolor\":\"#E1E5ED\",\"showgrid\":true,\"tickfont\":{\"color\":\"#4D5663\"},\"title\":{\"font\":{\"color\":\"#4D5663\"},\"text\":\"\"},\"zerolinecolor\":\"#E1E5ED\"},\"yaxis\":{\"gridcolor\":\"#E1E5ED\",\"showgrid\":true,\"tickfont\":{\"color\":\"#4D5663\"},\"title\":{\"font\":{\"color\":\"#4D5663\"},\"text\":\"\"},\"zerolinecolor\":\"#E1E5ED\"}},                        {\"showLink\": true, \"linkText\": \"Export to plot.ly\", \"plotlyServerURL\": \"https://plot.ly\", \"responsive\": true}                    ).then(function(){\n",
       "                            \n",
       "var gd = document.getElementById('35b72353-1a48-4ca9-8518-e65a2013283d');\n",
       "var x = new MutationObserver(function (mutations, observer) {{\n",
       "        var display = window.getComputedStyle(gd).display;\n",
       "        if (!display || display === 'none') {{\n",
       "            console.log([gd, 'removed!']);\n",
       "            Plotly.purge(gd);\n",
       "            observer.disconnect();\n",
       "        }}\n",
       "}});\n",
       "\n",
       "// Listen for the removal of the full notebook cells\n",
       "var notebookContainer = gd.closest('#notebook-container');\n",
       "if (notebookContainer) {{\n",
       "    x.observe(notebookContainer, {childList: true});\n",
       "}}\n",
       "\n",
       "// Listen for the clearing of the current output cell\n",
       "var outputEl = gd.closest('.output');\n",
       "if (outputEl) {{\n",
       "    x.observe(outputEl, {childList: true});\n",
       "}}\n",
       "\n",
       "                        })                };                });            </script>        </div>"
      ]
     },
     "metadata": {},
     "output_type": "display_data"
    }
   ],
   "source": [
    "df1.count().iplot(kind='bar')"
   ]
  },
  {
   "cell_type": "code",
   "execution_count": 21,
   "id": "7d9239e9",
   "metadata": {},
   "outputs": [
    {
     "data": {
      "application/vnd.plotly.v1+json": {
       "config": {
        "linkText": "Export to plot.ly",
        "plotlyServerURL": "https://plot.ly",
        "showLink": true
       },
       "data": [
        {
         "marker": {
          "color": "rgba(255, 153, 51, 0.6)",
          "line": {
           "color": "rgba(255, 153, 51, 1.0)",
           "width": 1
          }
         },
         "name": "None",
         "orientation": "v",
         "text": "",
         "type": "bar",
         "x": [
          "A",
          "B",
          "C",
          "D"
         ],
         "y": [
          -16.882709272740946,
          7.336408426346348,
          2.7327530058960576,
          -16.25066738415222
         ]
        }
       ],
       "layout": {
        "legend": {
         "bgcolor": "#F5F6F9",
         "font": {
          "color": "#4D5663"
         }
        },
        "paper_bgcolor": "#F5F6F9",
        "plot_bgcolor": "#F5F6F9",
        "template": {
         "data": {
          "bar": [
           {
            "error_x": {
             "color": "#2a3f5f"
            },
            "error_y": {
             "color": "#2a3f5f"
            },
            "marker": {
             "line": {
              "color": "#E5ECF6",
              "width": 0.5
             },
             "pattern": {
              "fillmode": "overlay",
              "size": 10,
              "solidity": 0.2
             }
            },
            "type": "bar"
           }
          ],
          "barpolar": [
           {
            "marker": {
             "line": {
              "color": "#E5ECF6",
              "width": 0.5
             },
             "pattern": {
              "fillmode": "overlay",
              "size": 10,
              "solidity": 0.2
             }
            },
            "type": "barpolar"
           }
          ],
          "carpet": [
           {
            "aaxis": {
             "endlinecolor": "#2a3f5f",
             "gridcolor": "white",
             "linecolor": "white",
             "minorgridcolor": "white",
             "startlinecolor": "#2a3f5f"
            },
            "baxis": {
             "endlinecolor": "#2a3f5f",
             "gridcolor": "white",
             "linecolor": "white",
             "minorgridcolor": "white",
             "startlinecolor": "#2a3f5f"
            },
            "type": "carpet"
           }
          ],
          "choropleth": [
           {
            "colorbar": {
             "outlinewidth": 0,
             "ticks": ""
            },
            "type": "choropleth"
           }
          ],
          "contour": [
           {
            "colorbar": {
             "outlinewidth": 0,
             "ticks": ""
            },
            "colorscale": [
             [
              0,
              "#0d0887"
             ],
             [
              0.1111111111111111,
              "#46039f"
             ],
             [
              0.2222222222222222,
              "#7201a8"
             ],
             [
              0.3333333333333333,
              "#9c179e"
             ],
             [
              0.4444444444444444,
              "#bd3786"
             ],
             [
              0.5555555555555556,
              "#d8576b"
             ],
             [
              0.6666666666666666,
              "#ed7953"
             ],
             [
              0.7777777777777778,
              "#fb9f3a"
             ],
             [
              0.8888888888888888,
              "#fdca26"
             ],
             [
              1,
              "#f0f921"
             ]
            ],
            "type": "contour"
           }
          ],
          "contourcarpet": [
           {
            "colorbar": {
             "outlinewidth": 0,
             "ticks": ""
            },
            "type": "contourcarpet"
           }
          ],
          "heatmap": [
           {
            "colorbar": {
             "outlinewidth": 0,
             "ticks": ""
            },
            "colorscale": [
             [
              0,
              "#0d0887"
             ],
             [
              0.1111111111111111,
              "#46039f"
             ],
             [
              0.2222222222222222,
              "#7201a8"
             ],
             [
              0.3333333333333333,
              "#9c179e"
             ],
             [
              0.4444444444444444,
              "#bd3786"
             ],
             [
              0.5555555555555556,
              "#d8576b"
             ],
             [
              0.6666666666666666,
              "#ed7953"
             ],
             [
              0.7777777777777778,
              "#fb9f3a"
             ],
             [
              0.8888888888888888,
              "#fdca26"
             ],
             [
              1,
              "#f0f921"
             ]
            ],
            "type": "heatmap"
           }
          ],
          "heatmapgl": [
           {
            "colorbar": {
             "outlinewidth": 0,
             "ticks": ""
            },
            "colorscale": [
             [
              0,
              "#0d0887"
             ],
             [
              0.1111111111111111,
              "#46039f"
             ],
             [
              0.2222222222222222,
              "#7201a8"
             ],
             [
              0.3333333333333333,
              "#9c179e"
             ],
             [
              0.4444444444444444,
              "#bd3786"
             ],
             [
              0.5555555555555556,
              "#d8576b"
             ],
             [
              0.6666666666666666,
              "#ed7953"
             ],
             [
              0.7777777777777778,
              "#fb9f3a"
             ],
             [
              0.8888888888888888,
              "#fdca26"
             ],
             [
              1,
              "#f0f921"
             ]
            ],
            "type": "heatmapgl"
           }
          ],
          "histogram": [
           {
            "marker": {
             "pattern": {
              "fillmode": "overlay",
              "size": 10,
              "solidity": 0.2
             }
            },
            "type": "histogram"
           }
          ],
          "histogram2d": [
           {
            "colorbar": {
             "outlinewidth": 0,
             "ticks": ""
            },
            "colorscale": [
             [
              0,
              "#0d0887"
             ],
             [
              0.1111111111111111,
              "#46039f"
             ],
             [
              0.2222222222222222,
              "#7201a8"
             ],
             [
              0.3333333333333333,
              "#9c179e"
             ],
             [
              0.4444444444444444,
              "#bd3786"
             ],
             [
              0.5555555555555556,
              "#d8576b"
             ],
             [
              0.6666666666666666,
              "#ed7953"
             ],
             [
              0.7777777777777778,
              "#fb9f3a"
             ],
             [
              0.8888888888888888,
              "#fdca26"
             ],
             [
              1,
              "#f0f921"
             ]
            ],
            "type": "histogram2d"
           }
          ],
          "histogram2dcontour": [
           {
            "colorbar": {
             "outlinewidth": 0,
             "ticks": ""
            },
            "colorscale": [
             [
              0,
              "#0d0887"
             ],
             [
              0.1111111111111111,
              "#46039f"
             ],
             [
              0.2222222222222222,
              "#7201a8"
             ],
             [
              0.3333333333333333,
              "#9c179e"
             ],
             [
              0.4444444444444444,
              "#bd3786"
             ],
             [
              0.5555555555555556,
              "#d8576b"
             ],
             [
              0.6666666666666666,
              "#ed7953"
             ],
             [
              0.7777777777777778,
              "#fb9f3a"
             ],
             [
              0.8888888888888888,
              "#fdca26"
             ],
             [
              1,
              "#f0f921"
             ]
            ],
            "type": "histogram2dcontour"
           }
          ],
          "mesh3d": [
           {
            "colorbar": {
             "outlinewidth": 0,
             "ticks": ""
            },
            "type": "mesh3d"
           }
          ],
          "parcoords": [
           {
            "line": {
             "colorbar": {
              "outlinewidth": 0,
              "ticks": ""
             }
            },
            "type": "parcoords"
           }
          ],
          "pie": [
           {
            "automargin": true,
            "type": "pie"
           }
          ],
          "scatter": [
           {
            "marker": {
             "colorbar": {
              "outlinewidth": 0,
              "ticks": ""
             }
            },
            "type": "scatter"
           }
          ],
          "scatter3d": [
           {
            "line": {
             "colorbar": {
              "outlinewidth": 0,
              "ticks": ""
             }
            },
            "marker": {
             "colorbar": {
              "outlinewidth": 0,
              "ticks": ""
             }
            },
            "type": "scatter3d"
           }
          ],
          "scattercarpet": [
           {
            "marker": {
             "colorbar": {
              "outlinewidth": 0,
              "ticks": ""
             }
            },
            "type": "scattercarpet"
           }
          ],
          "scattergeo": [
           {
            "marker": {
             "colorbar": {
              "outlinewidth": 0,
              "ticks": ""
             }
            },
            "type": "scattergeo"
           }
          ],
          "scattergl": [
           {
            "marker": {
             "colorbar": {
              "outlinewidth": 0,
              "ticks": ""
             }
            },
            "type": "scattergl"
           }
          ],
          "scattermapbox": [
           {
            "marker": {
             "colorbar": {
              "outlinewidth": 0,
              "ticks": ""
             }
            },
            "type": "scattermapbox"
           }
          ],
          "scatterpolar": [
           {
            "marker": {
             "colorbar": {
              "outlinewidth": 0,
              "ticks": ""
             }
            },
            "type": "scatterpolar"
           }
          ],
          "scatterpolargl": [
           {
            "marker": {
             "colorbar": {
              "outlinewidth": 0,
              "ticks": ""
             }
            },
            "type": "scatterpolargl"
           }
          ],
          "scatterternary": [
           {
            "marker": {
             "colorbar": {
              "outlinewidth": 0,
              "ticks": ""
             }
            },
            "type": "scatterternary"
           }
          ],
          "surface": [
           {
            "colorbar": {
             "outlinewidth": 0,
             "ticks": ""
            },
            "colorscale": [
             [
              0,
              "#0d0887"
             ],
             [
              0.1111111111111111,
              "#46039f"
             ],
             [
              0.2222222222222222,
              "#7201a8"
             ],
             [
              0.3333333333333333,
              "#9c179e"
             ],
             [
              0.4444444444444444,
              "#bd3786"
             ],
             [
              0.5555555555555556,
              "#d8576b"
             ],
             [
              0.6666666666666666,
              "#ed7953"
             ],
             [
              0.7777777777777778,
              "#fb9f3a"
             ],
             [
              0.8888888888888888,
              "#fdca26"
             ],
             [
              1,
              "#f0f921"
             ]
            ],
            "type": "surface"
           }
          ],
          "table": [
           {
            "cells": {
             "fill": {
              "color": "#EBF0F8"
             },
             "line": {
              "color": "white"
             }
            },
            "header": {
             "fill": {
              "color": "#C8D4E3"
             },
             "line": {
              "color": "white"
             }
            },
            "type": "table"
           }
          ]
         },
         "layout": {
          "annotationdefaults": {
           "arrowcolor": "#2a3f5f",
           "arrowhead": 0,
           "arrowwidth": 1
          },
          "autotypenumbers": "strict",
          "coloraxis": {
           "colorbar": {
            "outlinewidth": 0,
            "ticks": ""
           }
          },
          "colorscale": {
           "diverging": [
            [
             0,
             "#8e0152"
            ],
            [
             0.1,
             "#c51b7d"
            ],
            [
             0.2,
             "#de77ae"
            ],
            [
             0.3,
             "#f1b6da"
            ],
            [
             0.4,
             "#fde0ef"
            ],
            [
             0.5,
             "#f7f7f7"
            ],
            [
             0.6,
             "#e6f5d0"
            ],
            [
             0.7,
             "#b8e186"
            ],
            [
             0.8,
             "#7fbc41"
            ],
            [
             0.9,
             "#4d9221"
            ],
            [
             1,
             "#276419"
            ]
           ],
           "sequential": [
            [
             0,
             "#0d0887"
            ],
            [
             0.1111111111111111,
             "#46039f"
            ],
            [
             0.2222222222222222,
             "#7201a8"
            ],
            [
             0.3333333333333333,
             "#9c179e"
            ],
            [
             0.4444444444444444,
             "#bd3786"
            ],
            [
             0.5555555555555556,
             "#d8576b"
            ],
            [
             0.6666666666666666,
             "#ed7953"
            ],
            [
             0.7777777777777778,
             "#fb9f3a"
            ],
            [
             0.8888888888888888,
             "#fdca26"
            ],
            [
             1,
             "#f0f921"
            ]
           ],
           "sequentialminus": [
            [
             0,
             "#0d0887"
            ],
            [
             0.1111111111111111,
             "#46039f"
            ],
            [
             0.2222222222222222,
             "#7201a8"
            ],
            [
             0.3333333333333333,
             "#9c179e"
            ],
            [
             0.4444444444444444,
             "#bd3786"
            ],
            [
             0.5555555555555556,
             "#d8576b"
            ],
            [
             0.6666666666666666,
             "#ed7953"
            ],
            [
             0.7777777777777778,
             "#fb9f3a"
            ],
            [
             0.8888888888888888,
             "#fdca26"
            ],
            [
             1,
             "#f0f921"
            ]
           ]
          },
          "colorway": [
           "#636efa",
           "#EF553B",
           "#00cc96",
           "#ab63fa",
           "#FFA15A",
           "#19d3f3",
           "#FF6692",
           "#B6E880",
           "#FF97FF",
           "#FECB52"
          ],
          "font": {
           "color": "#2a3f5f"
          },
          "geo": {
           "bgcolor": "white",
           "lakecolor": "white",
           "landcolor": "#E5ECF6",
           "showlakes": true,
           "showland": true,
           "subunitcolor": "white"
          },
          "hoverlabel": {
           "align": "left"
          },
          "hovermode": "closest",
          "mapbox": {
           "style": "light"
          },
          "paper_bgcolor": "white",
          "plot_bgcolor": "#E5ECF6",
          "polar": {
           "angularaxis": {
            "gridcolor": "white",
            "linecolor": "white",
            "ticks": ""
           },
           "bgcolor": "#E5ECF6",
           "radialaxis": {
            "gridcolor": "white",
            "linecolor": "white",
            "ticks": ""
           }
          },
          "scene": {
           "xaxis": {
            "backgroundcolor": "#E5ECF6",
            "gridcolor": "white",
            "gridwidth": 2,
            "linecolor": "white",
            "showbackground": true,
            "ticks": "",
            "zerolinecolor": "white"
           },
           "yaxis": {
            "backgroundcolor": "#E5ECF6",
            "gridcolor": "white",
            "gridwidth": 2,
            "linecolor": "white",
            "showbackground": true,
            "ticks": "",
            "zerolinecolor": "white"
           },
           "zaxis": {
            "backgroundcolor": "#E5ECF6",
            "gridcolor": "white",
            "gridwidth": 2,
            "linecolor": "white",
            "showbackground": true,
            "ticks": "",
            "zerolinecolor": "white"
           }
          },
          "shapedefaults": {
           "line": {
            "color": "#2a3f5f"
           }
          },
          "ternary": {
           "aaxis": {
            "gridcolor": "white",
            "linecolor": "white",
            "ticks": ""
           },
           "baxis": {
            "gridcolor": "white",
            "linecolor": "white",
            "ticks": ""
           },
           "bgcolor": "#E5ECF6",
           "caxis": {
            "gridcolor": "white",
            "linecolor": "white",
            "ticks": ""
           }
          },
          "title": {
           "x": 0.05
          },
          "xaxis": {
           "automargin": true,
           "gridcolor": "white",
           "linecolor": "white",
           "ticks": "",
           "title": {
            "standoff": 15
           },
           "zerolinecolor": "white",
           "zerolinewidth": 2
          },
          "yaxis": {
           "automargin": true,
           "gridcolor": "white",
           "linecolor": "white",
           "ticks": "",
           "title": {
            "standoff": 15
           },
           "zerolinecolor": "white",
           "zerolinewidth": 2
          }
         }
        },
        "title": {
         "font": {
          "color": "#4D5663"
         }
        },
        "xaxis": {
         "gridcolor": "#E1E5ED",
         "showgrid": true,
         "tickfont": {
          "color": "#4D5663"
         },
         "title": {
          "font": {
           "color": "#4D5663"
          },
          "text": ""
         },
         "zerolinecolor": "#E1E5ED"
        },
        "yaxis": {
         "gridcolor": "#E1E5ED",
         "showgrid": true,
         "tickfont": {
          "color": "#4D5663"
         },
         "title": {
          "font": {
           "color": "#4D5663"
          },
          "text": ""
         },
         "zerolinecolor": "#E1E5ED"
        }
       }
      },
      "text/html": [
       "<div>                            <div id=\"2f090d02-4578-4bb1-8c46-4bfdb04f300f\" class=\"plotly-graph-div\" style=\"height:525px; width:100%;\"></div>            <script type=\"text/javascript\">                require([\"plotly\"], function(Plotly) {                    window.PLOTLYENV=window.PLOTLYENV || {};\n",
       "                    window.PLOTLYENV.BASE_URL='https://plot.ly';                                    if (document.getElementById(\"2f090d02-4578-4bb1-8c46-4bfdb04f300f\")) {                    Plotly.newPlot(                        \"2f090d02-4578-4bb1-8c46-4bfdb04f300f\",                        [{\"marker\":{\"color\":\"rgba(255, 153, 51, 0.6)\",\"line\":{\"color\":\"rgba(255, 153, 51, 1.0)\",\"width\":1}},\"name\":\"None\",\"orientation\":\"v\",\"text\":\"\",\"x\":[\"A\",\"B\",\"C\",\"D\"],\"y\":[-16.882709272740946,7.336408426346348,2.7327530058960576,-16.25066738415222],\"type\":\"bar\"}],                        {\"legend\":{\"bgcolor\":\"#F5F6F9\",\"font\":{\"color\":\"#4D5663\"}},\"paper_bgcolor\":\"#F5F6F9\",\"plot_bgcolor\":\"#F5F6F9\",\"template\":{\"data\":{\"barpolar\":[{\"marker\":{\"line\":{\"color\":\"#E5ECF6\",\"width\":0.5},\"pattern\":{\"fillmode\":\"overlay\",\"size\":10,\"solidity\":0.2}},\"type\":\"barpolar\"}],\"bar\":[{\"error_x\":{\"color\":\"#2a3f5f\"},\"error_y\":{\"color\":\"#2a3f5f\"},\"marker\":{\"line\":{\"color\":\"#E5ECF6\",\"width\":0.5},\"pattern\":{\"fillmode\":\"overlay\",\"size\":10,\"solidity\":0.2}},\"type\":\"bar\"}],\"carpet\":[{\"aaxis\":{\"endlinecolor\":\"#2a3f5f\",\"gridcolor\":\"white\",\"linecolor\":\"white\",\"minorgridcolor\":\"white\",\"startlinecolor\":\"#2a3f5f\"},\"baxis\":{\"endlinecolor\":\"#2a3f5f\",\"gridcolor\":\"white\",\"linecolor\":\"white\",\"minorgridcolor\":\"white\",\"startlinecolor\":\"#2a3f5f\"},\"type\":\"carpet\"}],\"choropleth\":[{\"colorbar\":{\"outlinewidth\":0,\"ticks\":\"\"},\"type\":\"choropleth\"}],\"contourcarpet\":[{\"colorbar\":{\"outlinewidth\":0,\"ticks\":\"\"},\"type\":\"contourcarpet\"}],\"contour\":[{\"colorbar\":{\"outlinewidth\":0,\"ticks\":\"\"},\"colorscale\":[[0.0,\"#0d0887\"],[0.1111111111111111,\"#46039f\"],[0.2222222222222222,\"#7201a8\"],[0.3333333333333333,\"#9c179e\"],[0.4444444444444444,\"#bd3786\"],[0.5555555555555556,\"#d8576b\"],[0.6666666666666666,\"#ed7953\"],[0.7777777777777778,\"#fb9f3a\"],[0.8888888888888888,\"#fdca26\"],[1.0,\"#f0f921\"]],\"type\":\"contour\"}],\"heatmapgl\":[{\"colorbar\":{\"outlinewidth\":0,\"ticks\":\"\"},\"colorscale\":[[0.0,\"#0d0887\"],[0.1111111111111111,\"#46039f\"],[0.2222222222222222,\"#7201a8\"],[0.3333333333333333,\"#9c179e\"],[0.4444444444444444,\"#bd3786\"],[0.5555555555555556,\"#d8576b\"],[0.6666666666666666,\"#ed7953\"],[0.7777777777777778,\"#fb9f3a\"],[0.8888888888888888,\"#fdca26\"],[1.0,\"#f0f921\"]],\"type\":\"heatmapgl\"}],\"heatmap\":[{\"colorbar\":{\"outlinewidth\":0,\"ticks\":\"\"},\"colorscale\":[[0.0,\"#0d0887\"],[0.1111111111111111,\"#46039f\"],[0.2222222222222222,\"#7201a8\"],[0.3333333333333333,\"#9c179e\"],[0.4444444444444444,\"#bd3786\"],[0.5555555555555556,\"#d8576b\"],[0.6666666666666666,\"#ed7953\"],[0.7777777777777778,\"#fb9f3a\"],[0.8888888888888888,\"#fdca26\"],[1.0,\"#f0f921\"]],\"type\":\"heatmap\"}],\"histogram2dcontour\":[{\"colorbar\":{\"outlinewidth\":0,\"ticks\":\"\"},\"colorscale\":[[0.0,\"#0d0887\"],[0.1111111111111111,\"#46039f\"],[0.2222222222222222,\"#7201a8\"],[0.3333333333333333,\"#9c179e\"],[0.4444444444444444,\"#bd3786\"],[0.5555555555555556,\"#d8576b\"],[0.6666666666666666,\"#ed7953\"],[0.7777777777777778,\"#fb9f3a\"],[0.8888888888888888,\"#fdca26\"],[1.0,\"#f0f921\"]],\"type\":\"histogram2dcontour\"}],\"histogram2d\":[{\"colorbar\":{\"outlinewidth\":0,\"ticks\":\"\"},\"colorscale\":[[0.0,\"#0d0887\"],[0.1111111111111111,\"#46039f\"],[0.2222222222222222,\"#7201a8\"],[0.3333333333333333,\"#9c179e\"],[0.4444444444444444,\"#bd3786\"],[0.5555555555555556,\"#d8576b\"],[0.6666666666666666,\"#ed7953\"],[0.7777777777777778,\"#fb9f3a\"],[0.8888888888888888,\"#fdca26\"],[1.0,\"#f0f921\"]],\"type\":\"histogram2d\"}],\"histogram\":[{\"marker\":{\"pattern\":{\"fillmode\":\"overlay\",\"size\":10,\"solidity\":0.2}},\"type\":\"histogram\"}],\"mesh3d\":[{\"colorbar\":{\"outlinewidth\":0,\"ticks\":\"\"},\"type\":\"mesh3d\"}],\"parcoords\":[{\"line\":{\"colorbar\":{\"outlinewidth\":0,\"ticks\":\"\"}},\"type\":\"parcoords\"}],\"pie\":[{\"automargin\":true,\"type\":\"pie\"}],\"scatter3d\":[{\"line\":{\"colorbar\":{\"outlinewidth\":0,\"ticks\":\"\"}},\"marker\":{\"colorbar\":{\"outlinewidth\":0,\"ticks\":\"\"}},\"type\":\"scatter3d\"}],\"scattercarpet\":[{\"marker\":{\"colorbar\":{\"outlinewidth\":0,\"ticks\":\"\"}},\"type\":\"scattercarpet\"}],\"scattergeo\":[{\"marker\":{\"colorbar\":{\"outlinewidth\":0,\"ticks\":\"\"}},\"type\":\"scattergeo\"}],\"scattergl\":[{\"marker\":{\"colorbar\":{\"outlinewidth\":0,\"ticks\":\"\"}},\"type\":\"scattergl\"}],\"scattermapbox\":[{\"marker\":{\"colorbar\":{\"outlinewidth\":0,\"ticks\":\"\"}},\"type\":\"scattermapbox\"}],\"scatterpolargl\":[{\"marker\":{\"colorbar\":{\"outlinewidth\":0,\"ticks\":\"\"}},\"type\":\"scatterpolargl\"}],\"scatterpolar\":[{\"marker\":{\"colorbar\":{\"outlinewidth\":0,\"ticks\":\"\"}},\"type\":\"scatterpolar\"}],\"scatter\":[{\"marker\":{\"colorbar\":{\"outlinewidth\":0,\"ticks\":\"\"}},\"type\":\"scatter\"}],\"scatterternary\":[{\"marker\":{\"colorbar\":{\"outlinewidth\":0,\"ticks\":\"\"}},\"type\":\"scatterternary\"}],\"surface\":[{\"colorbar\":{\"outlinewidth\":0,\"ticks\":\"\"},\"colorscale\":[[0.0,\"#0d0887\"],[0.1111111111111111,\"#46039f\"],[0.2222222222222222,\"#7201a8\"],[0.3333333333333333,\"#9c179e\"],[0.4444444444444444,\"#bd3786\"],[0.5555555555555556,\"#d8576b\"],[0.6666666666666666,\"#ed7953\"],[0.7777777777777778,\"#fb9f3a\"],[0.8888888888888888,\"#fdca26\"],[1.0,\"#f0f921\"]],\"type\":\"surface\"}],\"table\":[{\"cells\":{\"fill\":{\"color\":\"#EBF0F8\"},\"line\":{\"color\":\"white\"}},\"header\":{\"fill\":{\"color\":\"#C8D4E3\"},\"line\":{\"color\":\"white\"}},\"type\":\"table\"}]},\"layout\":{\"annotationdefaults\":{\"arrowcolor\":\"#2a3f5f\",\"arrowhead\":0,\"arrowwidth\":1},\"autotypenumbers\":\"strict\",\"coloraxis\":{\"colorbar\":{\"outlinewidth\":0,\"ticks\":\"\"}},\"colorscale\":{\"diverging\":[[0,\"#8e0152\"],[0.1,\"#c51b7d\"],[0.2,\"#de77ae\"],[0.3,\"#f1b6da\"],[0.4,\"#fde0ef\"],[0.5,\"#f7f7f7\"],[0.6,\"#e6f5d0\"],[0.7,\"#b8e186\"],[0.8,\"#7fbc41\"],[0.9,\"#4d9221\"],[1,\"#276419\"]],\"sequential\":[[0.0,\"#0d0887\"],[0.1111111111111111,\"#46039f\"],[0.2222222222222222,\"#7201a8\"],[0.3333333333333333,\"#9c179e\"],[0.4444444444444444,\"#bd3786\"],[0.5555555555555556,\"#d8576b\"],[0.6666666666666666,\"#ed7953\"],[0.7777777777777778,\"#fb9f3a\"],[0.8888888888888888,\"#fdca26\"],[1.0,\"#f0f921\"]],\"sequentialminus\":[[0.0,\"#0d0887\"],[0.1111111111111111,\"#46039f\"],[0.2222222222222222,\"#7201a8\"],[0.3333333333333333,\"#9c179e\"],[0.4444444444444444,\"#bd3786\"],[0.5555555555555556,\"#d8576b\"],[0.6666666666666666,\"#ed7953\"],[0.7777777777777778,\"#fb9f3a\"],[0.8888888888888888,\"#fdca26\"],[1.0,\"#f0f921\"]]},\"colorway\":[\"#636efa\",\"#EF553B\",\"#00cc96\",\"#ab63fa\",\"#FFA15A\",\"#19d3f3\",\"#FF6692\",\"#B6E880\",\"#FF97FF\",\"#FECB52\"],\"font\":{\"color\":\"#2a3f5f\"},\"geo\":{\"bgcolor\":\"white\",\"lakecolor\":\"white\",\"landcolor\":\"#E5ECF6\",\"showlakes\":true,\"showland\":true,\"subunitcolor\":\"white\"},\"hoverlabel\":{\"align\":\"left\"},\"hovermode\":\"closest\",\"mapbox\":{\"style\":\"light\"},\"paper_bgcolor\":\"white\",\"plot_bgcolor\":\"#E5ECF6\",\"polar\":{\"angularaxis\":{\"gridcolor\":\"white\",\"linecolor\":\"white\",\"ticks\":\"\"},\"bgcolor\":\"#E5ECF6\",\"radialaxis\":{\"gridcolor\":\"white\",\"linecolor\":\"white\",\"ticks\":\"\"}},\"scene\":{\"xaxis\":{\"backgroundcolor\":\"#E5ECF6\",\"gridcolor\":\"white\",\"gridwidth\":2,\"linecolor\":\"white\",\"showbackground\":true,\"ticks\":\"\",\"zerolinecolor\":\"white\"},\"yaxis\":{\"backgroundcolor\":\"#E5ECF6\",\"gridcolor\":\"white\",\"gridwidth\":2,\"linecolor\":\"white\",\"showbackground\":true,\"ticks\":\"\",\"zerolinecolor\":\"white\"},\"zaxis\":{\"backgroundcolor\":\"#E5ECF6\",\"gridcolor\":\"white\",\"gridwidth\":2,\"linecolor\":\"white\",\"showbackground\":true,\"ticks\":\"\",\"zerolinecolor\":\"white\"}},\"shapedefaults\":{\"line\":{\"color\":\"#2a3f5f\"}},\"ternary\":{\"aaxis\":{\"gridcolor\":\"white\",\"linecolor\":\"white\",\"ticks\":\"\"},\"baxis\":{\"gridcolor\":\"white\",\"linecolor\":\"white\",\"ticks\":\"\"},\"bgcolor\":\"#E5ECF6\",\"caxis\":{\"gridcolor\":\"white\",\"linecolor\":\"white\",\"ticks\":\"\"}},\"title\":{\"x\":0.05},\"xaxis\":{\"automargin\":true,\"gridcolor\":\"white\",\"linecolor\":\"white\",\"ticks\":\"\",\"title\":{\"standoff\":15},\"zerolinecolor\":\"white\",\"zerolinewidth\":2},\"yaxis\":{\"automargin\":true,\"gridcolor\":\"white\",\"linecolor\":\"white\",\"ticks\":\"\",\"title\":{\"standoff\":15},\"zerolinecolor\":\"white\",\"zerolinewidth\":2}}},\"title\":{\"font\":{\"color\":\"#4D5663\"}},\"xaxis\":{\"gridcolor\":\"#E1E5ED\",\"showgrid\":true,\"tickfont\":{\"color\":\"#4D5663\"},\"title\":{\"font\":{\"color\":\"#4D5663\"},\"text\":\"\"},\"zerolinecolor\":\"#E1E5ED\"},\"yaxis\":{\"gridcolor\":\"#E1E5ED\",\"showgrid\":true,\"tickfont\":{\"color\":\"#4D5663\"},\"title\":{\"font\":{\"color\":\"#4D5663\"},\"text\":\"\"},\"zerolinecolor\":\"#E1E5ED\"}},                        {\"showLink\": true, \"linkText\": \"Export to plot.ly\", \"plotlyServerURL\": \"https://plot.ly\", \"responsive\": true}                    ).then(function(){\n",
       "                            \n",
       "var gd = document.getElementById('2f090d02-4578-4bb1-8c46-4bfdb04f300f');\n",
       "var x = new MutationObserver(function (mutations, observer) {{\n",
       "        var display = window.getComputedStyle(gd).display;\n",
       "        if (!display || display === 'none') {{\n",
       "            console.log([gd, 'removed!']);\n",
       "            Plotly.purge(gd);\n",
       "            observer.disconnect();\n",
       "        }}\n",
       "}});\n",
       "\n",
       "// Listen for the removal of the full notebook cells\n",
       "var notebookContainer = gd.closest('#notebook-container');\n",
       "if (notebookContainer) {{\n",
       "    x.observe(notebookContainer, {childList: true});\n",
       "}}\n",
       "\n",
       "// Listen for the clearing of the current output cell\n",
       "var outputEl = gd.closest('.output');\n",
       "if (outputEl) {{\n",
       "    x.observe(outputEl, {childList: true});\n",
       "}}\n",
       "\n",
       "                        })                };                });            </script>        </div>"
      ]
     },
     "metadata": {},
     "output_type": "display_data"
    }
   ],
   "source": [
    "df1.sum().iplot(kind='bar')"
   ]
  },
  {
   "cell_type": "markdown",
   "id": "6ecde793",
   "metadata": {},
   "source": [
    "## BOX IPLOT"
   ]
  },
  {
   "cell_type": "code",
   "execution_count": 22,
   "id": "84e85731",
   "metadata": {},
   "outputs": [
    {
     "data": {
      "application/vnd.plotly.v1+json": {
       "config": {
        "linkText": "Export to plot.ly",
        "plotlyServerURL": "https://plot.ly",
        "showLink": true
       },
       "data": [
        {
         "boxpoints": false,
         "line": {
          "width": 1.3
         },
         "marker": {
          "color": "rgba(255, 153, 51, 1.0)"
         },
         "name": "A",
         "orientation": "v",
         "type": "box",
         "y": [
          -0.3828792050443604,
          -0.8470899644257714,
          0.010194864370989333,
          0.7301852076151661,
          2.0209176306324363,
          -1.5003016962844402,
          1.3118946476906856,
          -0.19669756499513247,
          -0.9076690966885811,
          -0.3237404643459652,
          0.637713854283272,
          -0.03454556326127818,
          0.7796925569817367,
          -1.4423716042022108,
          -2.5845985787359163,
          0.6619539111661311,
          -0.687009387052393,
          -0.07904947689258264,
          0.05497583547432276,
          -0.1251154272973603,
          1.4799840842985588,
          0.4823254913863216,
          -2.280333653758334,
          -0.7687965123125058,
          -1.9305826565370234,
          1.2028531218309138,
          0.11759314103585028,
          0.8219103216225514,
          -1.0600425527288615,
          -0.7924098829680032,
          0.591057506448477,
          0.010539468688751144,
          0.587916797008021,
          0.5345565463711455,
          0.23953843637909966,
          -1.3486453781610805,
          1.4539031141605863,
          -0.7434505578041772,
          -0.06974790232731734,
          -1.3438280814154056,
          0.15028835356929468,
          -0.10287723292446797,
          0.5337958367766493,
          -1.7910145450870145,
          -0.3528093066466839,
          0.28483534146724776,
          -0.2376793634250966,
          -1.1439375104416412,
          -1.6773681066280623,
          1.8838782542672348,
          1.0028758404607157,
          1.019052841097029,
          0.30651768295595916,
          0.4025551526198797,
          -0.8905919688553369,
          -1.382874757587919,
          -0.6816436627196745,
          0.03878334506085071,
          -1.3612397104403606,
          0.3197604660731154,
          -2.538319364008003,
          -1.2091878447993685,
          -0.5249346013368914,
          0.6692146290182188,
          -0.11840123236465151,
          0.8525194553867952,
          -0.6035975956715631,
          0.4283480479109968,
          0.9101749092891146,
          -0.8864024726325933,
          0.7775503744458712,
          -0.3116906590586294,
          -0.0789741170722278,
          -0.46571660288813044,
          -0.7366408087817952,
          -0.34057771638209616,
          1.4270333479578556,
          -0.0685312876711088,
          -2.590989928710988,
          0.54533421224908,
          -0.9316184663461683,
          -0.3357877632399068,
          -1.1004430354999835,
          -1.5112832772747995,
          0.9233033997807208,
          0.9248042476413013,
          0.23712657682615962,
          -1.7926116956644673,
          0.8262882219580409,
          0.41308190167379377,
          0.20507635069705696,
          1.1372928682815537,
          0.19672852705318208,
          1.032022543036123,
          -0.8498915495743655,
          -0.38007228545542127,
          -1.9829304093355187,
          0.05455520904456543,
          0.45889417897813106,
          -0.14456383999886627
         ]
        },
        {
         "boxpoints": false,
         "line": {
          "width": 1.3
         },
         "marker": {
          "color": "rgba(55, 128, 191, 1.0)"
         },
         "name": "B",
         "orientation": "v",
         "type": "box",
         "y": [
          0.34335976624785236,
          -0.5400241296111232,
          0.39625879311483636,
          -1.712841088113455,
          -0.07509142065935204,
          -0.73806711582396,
          0.3883007262086318,
          -0.5719092755359968,
          -0.4088347497306631,
          0.2421573678163824,
          -0.6529781799711727,
          0.38854787692263476,
          0.06453030726300012,
          -0.6988816243862073,
          1.3129702162264079,
          1.1771113015017993,
          -0.9700610592238458,
          1.1808244820001328,
          -1.478327479994,
          -0.46108336232059793,
          0.24491015346100684,
          -0.7318916215779915,
          -1.7148688047324678,
          0.5518859965500226,
          -0.9191779247410646,
          1.1985025549693435,
          2.5581128801469877,
          -0.7762150887891556,
          -1.549934782178811,
          0.05201663776978928,
          1.5232217714596588,
          -0.44708035980241534,
          -0.9086628778502828,
          -0.27525104215952567,
          -0.3577790202540434,
          0.4811753508335344,
          -0.5887451051233683,
          -1.294270125275922,
          0.8523861547501889,
          0.7381047196318503,
          1.0644322360476512,
          1.5967001236435843,
          0.82247172376917,
          -1.645808080381747,
          0.6857054299863742,
          -0.9009862391622963,
          -1.257234685603805,
          0.563120200391336,
          -0.9621725292323109,
          -0.5933983360655105,
          0.1284819007413659,
          -0.4240882124272642,
          1.1118812763090071,
          -1.9227848733315895,
          -0.419556595005051,
          1.5272854460120502,
          0.9102671180274021,
          0.6786808331841732,
          -0.42366626781453104,
          -1.1247464588926015,
          0.5004369031549727,
          -1.422643181814059,
          -0.06352335456872109,
          -0.6140831914140193,
          0.5603086977341717,
          1.474751693797127,
          1.6512484343980032,
          -1.0210150242509708,
          -0.7432289383819919,
          1.3875297294630236,
          -0.6514939869833749,
          1.4721881339131935,
          1.518432510112827,
          0.03638510312744503,
          0.7270871221481457,
          1.0793079148027827,
          0.4072592314941338,
          0.5823303662801511,
          0.2779238844720935,
          1.3057489297021347,
          0.07351712777696348,
          -0.8794259892692825,
          0.29982770281056553,
          -0.3416568949263266,
          3.458170678509682,
          0.058799135304265615,
          -0.3884328992504171,
          0.545514744824541,
          0.24141281219690586,
          -1.212419426084278,
          1.441259323038795,
          0.8503394918604567,
          -0.8204208120323783,
          0.21563670697344076,
          2.8069650295546076,
          1.5238759774181017,
          -0.6621926922073339,
          -1.060870331126299,
          -1.2805044081418444,
          -1.2349226572849306
         ]
        },
        {
         "boxpoints": false,
         "line": {
          "width": 1.3
         },
         "marker": {
          "color": "rgba(50, 171, 96, 1.0)"
         },
         "name": "C",
         "orientation": "v",
         "type": "box",
         "y": [
          0.2506092085793093,
          0.5210325936403227,
          1.239213358464694,
          -0.4466878782346689,
          -0.3822390633795185,
          -0.004193168373743429,
          0.31083507175692804,
          0.47014493079577385,
          -1.1556536917409108,
          -0.6757610308021511,
          -1.143836028015197,
          -0.8668866986037089,
          -3.1988150838934066,
          -0.7431034080655172,
          -0.40686358736988215,
          0.38817300614880124,
          -0.7249621219996307,
          1.1003757846228477,
          -0.3827825798596824,
          -1.9502233337660755,
          0.3165057808413265,
          0.6627391571225795,
          -0.3263229824933346,
          0.8285627583424173,
          0.9685477248448462,
          -2.9680823913015058,
          -1.4376379312345362,
          -1.7063194353908377,
          -0.27670004716137775,
          -0.5163377183768089,
          1.2437956186192953,
          0.35229549406432276,
          0.33258042113939507,
          -1.6057560516905556,
          0.44173661633579253,
          0.8191267704488735,
          0.05218990664378416,
          -0.18335279289604633,
          1.5162023789172292,
          -0.8833178708702997,
          1.3261569152294563,
          -0.11635473156903449,
          0.420635864279957,
          -0.9470924738177742,
          -0.43618797334177206,
          -0.42661623137309473,
          1.5416103231728577,
          -1.5596148002231116,
          0.01757030082496477,
          0.10140069671869259,
          1.5045891294248528,
          0.6902338347722542,
          1.4937463151241444,
          0.9002910845015439,
          0.5743890881715865,
          0.7562389480227537,
          -0.2001853168757039,
          -0.7157111539797419,
          -0.38765952959938493,
          -0.8572467787815908,
          0.2908470341192966,
          -0.9142824119313538,
          -0.3968746158328103,
          1.8688718784021316,
          -0.05217732449967453,
          1.4354670816758779,
          -1.0625152709489207,
          -0.5106587853056833,
          0.772057631583369,
          1.8018327650399475,
          -0.7958019648209217,
          2.006600168904022,
          -0.13292889152021703,
          0.32943355662723445,
          0.4108609828394416,
          2.0215940500491767,
          1.2016286063300015,
          1.3157545372633783,
          2.1135059883489045,
          2.19008158661078,
          -0.8143129683811934,
          0.23797298364722996,
          -1.6230732883970846,
          0.3084496100404266,
          0.4066710547761042,
          -0.4301381816226118,
          -1.491282679742187,
          -0.7552313272641786,
          -0.02249282109852578,
          0.020985550927711878,
          1.376036037255204,
          0.11425721932139542,
          -1.7920792205457143,
          -0.3136617620588843,
          0.9080291145166957,
          0.9552507049194106,
          -1.2999897780275405,
          -0.4293727950637242,
          0.21110400572437438,
          -0.23669025245583175
         ]
        },
        {
         "boxpoints": false,
         "line": {
          "width": 1.3
         },
         "marker": {
          "color": "rgba(128, 0, 128, 1.0)"
         },
         "name": "D",
         "orientation": "v",
         "type": "box",
         "y": [
          0.592132628370577,
          -1.1427568771274301,
          -0.6340122630191883,
          -0.7162128894182691,
          0.09739810390787935,
          0.09159611881467758,
          -0.9668463002828019,
          -0.6208334020410122,
          0.12874503109489555,
          -0.3596561372712881,
          0.39013837317684175,
          0.9707203746231453,
          -1.849471788872194,
          -1.670949123446992,
          1.3990752041954768,
          -0.433939139689318,
          -0.44752017505281094,
          -2.134491404043168,
          -0.8356207928281586,
          1.2669953059648416,
          -0.26364190278517186,
          -0.03972649984227558,
          0.4107706478872919,
          0.8034938604696944,
          0.1797430430969131,
          -0.6029878381334249,
          0.5453303115260123,
          -0.22849871488659848,
          0.19840671579042543,
          -0.20075469668443507,
          -0.23837820844984284,
          0.7077555147181938,
          0.10728535871855505,
          -0.5961065955304026,
          0.6295775324655841,
          -2.1430311045813575,
          0.6461484336873898,
          0.1217479112963839,
          1.6345095310518332,
          -0.9607835683541878,
          -1.0677335273474948,
          1.2161328243610878,
          -0.06674068289256456,
          0.8395283207223901,
          -1.0741861262618164,
          -0.34730099283237337,
          0.5659354167689368,
          0.9123036110964656,
          -0.4871189389482929,
          1.5582944789663065,
          -2.104414717884187,
          -1.9082807636805286,
          0.20519240993648347,
          0.5830341861711636,
          0.06267896143655838,
          -2.202683825879842,
          -1.0614936236398618,
          -1.013092636573165,
          -0.7470592116179434,
          -1.0199280229765049,
          0.9875061756283474,
          -2.1080306341987796,
          0.8070667330078221,
          0.9094431465761287,
          -1.7629120134717562,
          -0.15994707522962706,
          0.41276947219161814,
          0.8381114480287192,
          -1.3365096723779204,
          -1.6329883056871755,
          0.10627979251486216,
          0.02004657791238379,
          -1.3229626726102046,
          1.2801780728052166,
          0.8345055826164722,
          0.9721200944205621,
          0.37734462188478013,
          -0.3223044195608128,
          0.7967565028396203,
          -0.6224089678483244,
          0.5828942342989621,
          0.03016169618375698,
          -1.696574544826665,
          0.09590877733994138,
          -0.5127741879834149,
          0.4383379018298321,
          1.0826621642886225,
          1.0592007327193345,
          -0.5232893508862395,
          1.2627601225631901,
          0.6589175272897498,
          1.022280331965757,
          -1.8153529724872977,
          -1.0861166191335576,
          0.017399232226795285,
          -1.9794890106589242,
          -0.2894486848694927,
          0.4794857286596619,
          0.13405219599547738,
          -0.9641648355507442
         ]
        }
       ],
       "layout": {
        "legend": {
         "bgcolor": "#F5F6F9",
         "font": {
          "color": "#4D5663"
         }
        },
        "paper_bgcolor": "#F5F6F9",
        "plot_bgcolor": "#F5F6F9",
        "template": {
         "data": {
          "bar": [
           {
            "error_x": {
             "color": "#2a3f5f"
            },
            "error_y": {
             "color": "#2a3f5f"
            },
            "marker": {
             "line": {
              "color": "#E5ECF6",
              "width": 0.5
             },
             "pattern": {
              "fillmode": "overlay",
              "size": 10,
              "solidity": 0.2
             }
            },
            "type": "bar"
           }
          ],
          "barpolar": [
           {
            "marker": {
             "line": {
              "color": "#E5ECF6",
              "width": 0.5
             },
             "pattern": {
              "fillmode": "overlay",
              "size": 10,
              "solidity": 0.2
             }
            },
            "type": "barpolar"
           }
          ],
          "carpet": [
           {
            "aaxis": {
             "endlinecolor": "#2a3f5f",
             "gridcolor": "white",
             "linecolor": "white",
             "minorgridcolor": "white",
             "startlinecolor": "#2a3f5f"
            },
            "baxis": {
             "endlinecolor": "#2a3f5f",
             "gridcolor": "white",
             "linecolor": "white",
             "minorgridcolor": "white",
             "startlinecolor": "#2a3f5f"
            },
            "type": "carpet"
           }
          ],
          "choropleth": [
           {
            "colorbar": {
             "outlinewidth": 0,
             "ticks": ""
            },
            "type": "choropleth"
           }
          ],
          "contour": [
           {
            "colorbar": {
             "outlinewidth": 0,
             "ticks": ""
            },
            "colorscale": [
             [
              0,
              "#0d0887"
             ],
             [
              0.1111111111111111,
              "#46039f"
             ],
             [
              0.2222222222222222,
              "#7201a8"
             ],
             [
              0.3333333333333333,
              "#9c179e"
             ],
             [
              0.4444444444444444,
              "#bd3786"
             ],
             [
              0.5555555555555556,
              "#d8576b"
             ],
             [
              0.6666666666666666,
              "#ed7953"
             ],
             [
              0.7777777777777778,
              "#fb9f3a"
             ],
             [
              0.8888888888888888,
              "#fdca26"
             ],
             [
              1,
              "#f0f921"
             ]
            ],
            "type": "contour"
           }
          ],
          "contourcarpet": [
           {
            "colorbar": {
             "outlinewidth": 0,
             "ticks": ""
            },
            "type": "contourcarpet"
           }
          ],
          "heatmap": [
           {
            "colorbar": {
             "outlinewidth": 0,
             "ticks": ""
            },
            "colorscale": [
             [
              0,
              "#0d0887"
             ],
             [
              0.1111111111111111,
              "#46039f"
             ],
             [
              0.2222222222222222,
              "#7201a8"
             ],
             [
              0.3333333333333333,
              "#9c179e"
             ],
             [
              0.4444444444444444,
              "#bd3786"
             ],
             [
              0.5555555555555556,
              "#d8576b"
             ],
             [
              0.6666666666666666,
              "#ed7953"
             ],
             [
              0.7777777777777778,
              "#fb9f3a"
             ],
             [
              0.8888888888888888,
              "#fdca26"
             ],
             [
              1,
              "#f0f921"
             ]
            ],
            "type": "heatmap"
           }
          ],
          "heatmapgl": [
           {
            "colorbar": {
             "outlinewidth": 0,
             "ticks": ""
            },
            "colorscale": [
             [
              0,
              "#0d0887"
             ],
             [
              0.1111111111111111,
              "#46039f"
             ],
             [
              0.2222222222222222,
              "#7201a8"
             ],
             [
              0.3333333333333333,
              "#9c179e"
             ],
             [
              0.4444444444444444,
              "#bd3786"
             ],
             [
              0.5555555555555556,
              "#d8576b"
             ],
             [
              0.6666666666666666,
              "#ed7953"
             ],
             [
              0.7777777777777778,
              "#fb9f3a"
             ],
             [
              0.8888888888888888,
              "#fdca26"
             ],
             [
              1,
              "#f0f921"
             ]
            ],
            "type": "heatmapgl"
           }
          ],
          "histogram": [
           {
            "marker": {
             "pattern": {
              "fillmode": "overlay",
              "size": 10,
              "solidity": 0.2
             }
            },
            "type": "histogram"
           }
          ],
          "histogram2d": [
           {
            "colorbar": {
             "outlinewidth": 0,
             "ticks": ""
            },
            "colorscale": [
             [
              0,
              "#0d0887"
             ],
             [
              0.1111111111111111,
              "#46039f"
             ],
             [
              0.2222222222222222,
              "#7201a8"
             ],
             [
              0.3333333333333333,
              "#9c179e"
             ],
             [
              0.4444444444444444,
              "#bd3786"
             ],
             [
              0.5555555555555556,
              "#d8576b"
             ],
             [
              0.6666666666666666,
              "#ed7953"
             ],
             [
              0.7777777777777778,
              "#fb9f3a"
             ],
             [
              0.8888888888888888,
              "#fdca26"
             ],
             [
              1,
              "#f0f921"
             ]
            ],
            "type": "histogram2d"
           }
          ],
          "histogram2dcontour": [
           {
            "colorbar": {
             "outlinewidth": 0,
             "ticks": ""
            },
            "colorscale": [
             [
              0,
              "#0d0887"
             ],
             [
              0.1111111111111111,
              "#46039f"
             ],
             [
              0.2222222222222222,
              "#7201a8"
             ],
             [
              0.3333333333333333,
              "#9c179e"
             ],
             [
              0.4444444444444444,
              "#bd3786"
             ],
             [
              0.5555555555555556,
              "#d8576b"
             ],
             [
              0.6666666666666666,
              "#ed7953"
             ],
             [
              0.7777777777777778,
              "#fb9f3a"
             ],
             [
              0.8888888888888888,
              "#fdca26"
             ],
             [
              1,
              "#f0f921"
             ]
            ],
            "type": "histogram2dcontour"
           }
          ],
          "mesh3d": [
           {
            "colorbar": {
             "outlinewidth": 0,
             "ticks": ""
            },
            "type": "mesh3d"
           }
          ],
          "parcoords": [
           {
            "line": {
             "colorbar": {
              "outlinewidth": 0,
              "ticks": ""
             }
            },
            "type": "parcoords"
           }
          ],
          "pie": [
           {
            "automargin": true,
            "type": "pie"
           }
          ],
          "scatter": [
           {
            "marker": {
             "colorbar": {
              "outlinewidth": 0,
              "ticks": ""
             }
            },
            "type": "scatter"
           }
          ],
          "scatter3d": [
           {
            "line": {
             "colorbar": {
              "outlinewidth": 0,
              "ticks": ""
             }
            },
            "marker": {
             "colorbar": {
              "outlinewidth": 0,
              "ticks": ""
             }
            },
            "type": "scatter3d"
           }
          ],
          "scattercarpet": [
           {
            "marker": {
             "colorbar": {
              "outlinewidth": 0,
              "ticks": ""
             }
            },
            "type": "scattercarpet"
           }
          ],
          "scattergeo": [
           {
            "marker": {
             "colorbar": {
              "outlinewidth": 0,
              "ticks": ""
             }
            },
            "type": "scattergeo"
           }
          ],
          "scattergl": [
           {
            "marker": {
             "colorbar": {
              "outlinewidth": 0,
              "ticks": ""
             }
            },
            "type": "scattergl"
           }
          ],
          "scattermapbox": [
           {
            "marker": {
             "colorbar": {
              "outlinewidth": 0,
              "ticks": ""
             }
            },
            "type": "scattermapbox"
           }
          ],
          "scatterpolar": [
           {
            "marker": {
             "colorbar": {
              "outlinewidth": 0,
              "ticks": ""
             }
            },
            "type": "scatterpolar"
           }
          ],
          "scatterpolargl": [
           {
            "marker": {
             "colorbar": {
              "outlinewidth": 0,
              "ticks": ""
             }
            },
            "type": "scatterpolargl"
           }
          ],
          "scatterternary": [
           {
            "marker": {
             "colorbar": {
              "outlinewidth": 0,
              "ticks": ""
             }
            },
            "type": "scatterternary"
           }
          ],
          "surface": [
           {
            "colorbar": {
             "outlinewidth": 0,
             "ticks": ""
            },
            "colorscale": [
             [
              0,
              "#0d0887"
             ],
             [
              0.1111111111111111,
              "#46039f"
             ],
             [
              0.2222222222222222,
              "#7201a8"
             ],
             [
              0.3333333333333333,
              "#9c179e"
             ],
             [
              0.4444444444444444,
              "#bd3786"
             ],
             [
              0.5555555555555556,
              "#d8576b"
             ],
             [
              0.6666666666666666,
              "#ed7953"
             ],
             [
              0.7777777777777778,
              "#fb9f3a"
             ],
             [
              0.8888888888888888,
              "#fdca26"
             ],
             [
              1,
              "#f0f921"
             ]
            ],
            "type": "surface"
           }
          ],
          "table": [
           {
            "cells": {
             "fill": {
              "color": "#EBF0F8"
             },
             "line": {
              "color": "white"
             }
            },
            "header": {
             "fill": {
              "color": "#C8D4E3"
             },
             "line": {
              "color": "white"
             }
            },
            "type": "table"
           }
          ]
         },
         "layout": {
          "annotationdefaults": {
           "arrowcolor": "#2a3f5f",
           "arrowhead": 0,
           "arrowwidth": 1
          },
          "autotypenumbers": "strict",
          "coloraxis": {
           "colorbar": {
            "outlinewidth": 0,
            "ticks": ""
           }
          },
          "colorscale": {
           "diverging": [
            [
             0,
             "#8e0152"
            ],
            [
             0.1,
             "#c51b7d"
            ],
            [
             0.2,
             "#de77ae"
            ],
            [
             0.3,
             "#f1b6da"
            ],
            [
             0.4,
             "#fde0ef"
            ],
            [
             0.5,
             "#f7f7f7"
            ],
            [
             0.6,
             "#e6f5d0"
            ],
            [
             0.7,
             "#b8e186"
            ],
            [
             0.8,
             "#7fbc41"
            ],
            [
             0.9,
             "#4d9221"
            ],
            [
             1,
             "#276419"
            ]
           ],
           "sequential": [
            [
             0,
             "#0d0887"
            ],
            [
             0.1111111111111111,
             "#46039f"
            ],
            [
             0.2222222222222222,
             "#7201a8"
            ],
            [
             0.3333333333333333,
             "#9c179e"
            ],
            [
             0.4444444444444444,
             "#bd3786"
            ],
            [
             0.5555555555555556,
             "#d8576b"
            ],
            [
             0.6666666666666666,
             "#ed7953"
            ],
            [
             0.7777777777777778,
             "#fb9f3a"
            ],
            [
             0.8888888888888888,
             "#fdca26"
            ],
            [
             1,
             "#f0f921"
            ]
           ],
           "sequentialminus": [
            [
             0,
             "#0d0887"
            ],
            [
             0.1111111111111111,
             "#46039f"
            ],
            [
             0.2222222222222222,
             "#7201a8"
            ],
            [
             0.3333333333333333,
             "#9c179e"
            ],
            [
             0.4444444444444444,
             "#bd3786"
            ],
            [
             0.5555555555555556,
             "#d8576b"
            ],
            [
             0.6666666666666666,
             "#ed7953"
            ],
            [
             0.7777777777777778,
             "#fb9f3a"
            ],
            [
             0.8888888888888888,
             "#fdca26"
            ],
            [
             1,
             "#f0f921"
            ]
           ]
          },
          "colorway": [
           "#636efa",
           "#EF553B",
           "#00cc96",
           "#ab63fa",
           "#FFA15A",
           "#19d3f3",
           "#FF6692",
           "#B6E880",
           "#FF97FF",
           "#FECB52"
          ],
          "font": {
           "color": "#2a3f5f"
          },
          "geo": {
           "bgcolor": "white",
           "lakecolor": "white",
           "landcolor": "#E5ECF6",
           "showlakes": true,
           "showland": true,
           "subunitcolor": "white"
          },
          "hoverlabel": {
           "align": "left"
          },
          "hovermode": "closest",
          "mapbox": {
           "style": "light"
          },
          "paper_bgcolor": "white",
          "plot_bgcolor": "#E5ECF6",
          "polar": {
           "angularaxis": {
            "gridcolor": "white",
            "linecolor": "white",
            "ticks": ""
           },
           "bgcolor": "#E5ECF6",
           "radialaxis": {
            "gridcolor": "white",
            "linecolor": "white",
            "ticks": ""
           }
          },
          "scene": {
           "xaxis": {
            "backgroundcolor": "#E5ECF6",
            "gridcolor": "white",
            "gridwidth": 2,
            "linecolor": "white",
            "showbackground": true,
            "ticks": "",
            "zerolinecolor": "white"
           },
           "yaxis": {
            "backgroundcolor": "#E5ECF6",
            "gridcolor": "white",
            "gridwidth": 2,
            "linecolor": "white",
            "showbackground": true,
            "ticks": "",
            "zerolinecolor": "white"
           },
           "zaxis": {
            "backgroundcolor": "#E5ECF6",
            "gridcolor": "white",
            "gridwidth": 2,
            "linecolor": "white",
            "showbackground": true,
            "ticks": "",
            "zerolinecolor": "white"
           }
          },
          "shapedefaults": {
           "line": {
            "color": "#2a3f5f"
           }
          },
          "ternary": {
           "aaxis": {
            "gridcolor": "white",
            "linecolor": "white",
            "ticks": ""
           },
           "baxis": {
            "gridcolor": "white",
            "linecolor": "white",
            "ticks": ""
           },
           "bgcolor": "#E5ECF6",
           "caxis": {
            "gridcolor": "white",
            "linecolor": "white",
            "ticks": ""
           }
          },
          "title": {
           "x": 0.05
          },
          "xaxis": {
           "automargin": true,
           "gridcolor": "white",
           "linecolor": "white",
           "ticks": "",
           "title": {
            "standoff": 15
           },
           "zerolinecolor": "white",
           "zerolinewidth": 2
          },
          "yaxis": {
           "automargin": true,
           "gridcolor": "white",
           "linecolor": "white",
           "ticks": "",
           "title": {
            "standoff": 15
           },
           "zerolinecolor": "white",
           "zerolinewidth": 2
          }
         }
        },
        "title": {
         "font": {
          "color": "#4D5663"
         }
        },
        "xaxis": {
         "gridcolor": "#E1E5ED",
         "showgrid": true,
         "tickfont": {
          "color": "#4D5663"
         },
         "title": {
          "font": {
           "color": "#4D5663"
          },
          "text": ""
         },
         "zerolinecolor": "#E1E5ED"
        },
        "yaxis": {
         "gridcolor": "#E1E5ED",
         "showgrid": true,
         "tickfont": {
          "color": "#4D5663"
         },
         "title": {
          "font": {
           "color": "#4D5663"
          },
          "text": ""
         },
         "zerolinecolor": "#E1E5ED"
        }
       }
      },
      "text/html": [
       "<div>                            <div id=\"5ef7b305-7965-4f21-905f-78360f31f2e6\" class=\"plotly-graph-div\" style=\"height:525px; width:100%;\"></div>            <script type=\"text/javascript\">                require([\"plotly\"], function(Plotly) {                    window.PLOTLYENV=window.PLOTLYENV || {};\n",
       "                    window.PLOTLYENV.BASE_URL='https://plot.ly';                                    if (document.getElementById(\"5ef7b305-7965-4f21-905f-78360f31f2e6\")) {                    Plotly.newPlot(                        \"5ef7b305-7965-4f21-905f-78360f31f2e6\",                        [{\"boxpoints\":false,\"line\":{\"width\":1.3},\"marker\":{\"color\":\"rgba(255, 153, 51, 1.0)\"},\"name\":\"A\",\"orientation\":\"v\",\"y\":[-0.3828792050443604,-0.8470899644257714,0.010194864370989333,0.7301852076151661,2.0209176306324363,-1.5003016962844402,1.3118946476906856,-0.19669756499513247,-0.9076690966885811,-0.3237404643459652,0.637713854283272,-0.03454556326127818,0.7796925569817367,-1.4423716042022108,-2.5845985787359163,0.6619539111661311,-0.687009387052393,-0.07904947689258264,0.05497583547432276,-0.1251154272973603,1.4799840842985588,0.4823254913863216,-2.280333653758334,-0.7687965123125058,-1.9305826565370234,1.2028531218309138,0.11759314103585028,0.8219103216225514,-1.0600425527288615,-0.7924098829680032,0.591057506448477,0.010539468688751144,0.587916797008021,0.5345565463711455,0.23953843637909966,-1.3486453781610805,1.4539031141605863,-0.7434505578041772,-0.06974790232731734,-1.3438280814154056,0.15028835356929468,-0.10287723292446797,0.5337958367766493,-1.7910145450870145,-0.3528093066466839,0.28483534146724776,-0.2376793634250966,-1.1439375104416412,-1.6773681066280623,1.8838782542672348,1.0028758404607157,1.019052841097029,0.30651768295595916,0.4025551526198797,-0.8905919688553369,-1.382874757587919,-0.6816436627196745,0.03878334506085071,-1.3612397104403606,0.3197604660731154,-2.538319364008003,-1.2091878447993685,-0.5249346013368914,0.6692146290182188,-0.11840123236465151,0.8525194553867952,-0.6035975956715631,0.4283480479109968,0.9101749092891146,-0.8864024726325933,0.7775503744458712,-0.3116906590586294,-0.0789741170722278,-0.46571660288813044,-0.7366408087817952,-0.34057771638209616,1.4270333479578556,-0.0685312876711088,-2.590989928710988,0.54533421224908,-0.9316184663461683,-0.3357877632399068,-1.1004430354999835,-1.5112832772747995,0.9233033997807208,0.9248042476413013,0.23712657682615962,-1.7926116956644673,0.8262882219580409,0.41308190167379377,0.20507635069705696,1.1372928682815537,0.19672852705318208,1.032022543036123,-0.8498915495743655,-0.38007228545542127,-1.9829304093355187,0.05455520904456543,0.45889417897813106,-0.14456383999886627],\"type\":\"box\"},{\"boxpoints\":false,\"line\":{\"width\":1.3},\"marker\":{\"color\":\"rgba(55, 128, 191, 1.0)\"},\"name\":\"B\",\"orientation\":\"v\",\"y\":[0.34335976624785236,-0.5400241296111232,0.39625879311483636,-1.712841088113455,-0.07509142065935204,-0.73806711582396,0.3883007262086318,-0.5719092755359968,-0.4088347497306631,0.2421573678163824,-0.6529781799711727,0.38854787692263476,0.06453030726300012,-0.6988816243862073,1.3129702162264079,1.1771113015017993,-0.9700610592238458,1.1808244820001328,-1.478327479994,-0.46108336232059793,0.24491015346100684,-0.7318916215779915,-1.7148688047324678,0.5518859965500226,-0.9191779247410646,1.1985025549693435,2.5581128801469877,-0.7762150887891556,-1.549934782178811,0.05201663776978928,1.5232217714596588,-0.44708035980241534,-0.9086628778502828,-0.27525104215952567,-0.3577790202540434,0.4811753508335344,-0.5887451051233683,-1.294270125275922,0.8523861547501889,0.7381047196318503,1.0644322360476512,1.5967001236435843,0.82247172376917,-1.645808080381747,0.6857054299863742,-0.9009862391622963,-1.257234685603805,0.563120200391336,-0.9621725292323109,-0.5933983360655105,0.1284819007413659,-0.4240882124272642,1.1118812763090071,-1.9227848733315895,-0.419556595005051,1.5272854460120502,0.9102671180274021,0.6786808331841732,-0.42366626781453104,-1.1247464588926015,0.5004369031549727,-1.422643181814059,-0.06352335456872109,-0.6140831914140193,0.5603086977341717,1.474751693797127,1.6512484343980032,-1.0210150242509708,-0.7432289383819919,1.3875297294630236,-0.6514939869833749,1.4721881339131935,1.518432510112827,0.03638510312744503,0.7270871221481457,1.0793079148027827,0.4072592314941338,0.5823303662801511,0.2779238844720935,1.3057489297021347,0.07351712777696348,-0.8794259892692825,0.29982770281056553,-0.3416568949263266,3.458170678509682,0.058799135304265615,-0.3884328992504171,0.545514744824541,0.24141281219690586,-1.212419426084278,1.441259323038795,0.8503394918604567,-0.8204208120323783,0.21563670697344076,2.8069650295546076,1.5238759774181017,-0.6621926922073339,-1.060870331126299,-1.2805044081418444,-1.2349226572849306],\"type\":\"box\"},{\"boxpoints\":false,\"line\":{\"width\":1.3},\"marker\":{\"color\":\"rgba(50, 171, 96, 1.0)\"},\"name\":\"C\",\"orientation\":\"v\",\"y\":[0.2506092085793093,0.5210325936403227,1.239213358464694,-0.4466878782346689,-0.3822390633795185,-0.004193168373743429,0.31083507175692804,0.47014493079577385,-1.1556536917409108,-0.6757610308021511,-1.143836028015197,-0.8668866986037089,-3.1988150838934066,-0.7431034080655172,-0.40686358736988215,0.38817300614880124,-0.7249621219996307,1.1003757846228477,-0.3827825798596824,-1.9502233337660755,0.3165057808413265,0.6627391571225795,-0.3263229824933346,0.8285627583424173,0.9685477248448462,-2.9680823913015058,-1.4376379312345362,-1.7063194353908377,-0.27670004716137775,-0.5163377183768089,1.2437956186192953,0.35229549406432276,0.33258042113939507,-1.6057560516905556,0.44173661633579253,0.8191267704488735,0.05218990664378416,-0.18335279289604633,1.5162023789172292,-0.8833178708702997,1.3261569152294563,-0.11635473156903449,0.420635864279957,-0.9470924738177742,-0.43618797334177206,-0.42661623137309473,1.5416103231728577,-1.5596148002231116,0.01757030082496477,0.10140069671869259,1.5045891294248528,0.6902338347722542,1.4937463151241444,0.9002910845015439,0.5743890881715865,0.7562389480227537,-0.2001853168757039,-0.7157111539797419,-0.38765952959938493,-0.8572467787815908,0.2908470341192966,-0.9142824119313538,-0.3968746158328103,1.8688718784021316,-0.05217732449967453,1.4354670816758779,-1.0625152709489207,-0.5106587853056833,0.772057631583369,1.8018327650399475,-0.7958019648209217,2.006600168904022,-0.13292889152021703,0.32943355662723445,0.4108609828394416,2.0215940500491767,1.2016286063300015,1.3157545372633783,2.1135059883489045,2.19008158661078,-0.8143129683811934,0.23797298364722996,-1.6230732883970846,0.3084496100404266,0.4066710547761042,-0.4301381816226118,-1.491282679742187,-0.7552313272641786,-0.02249282109852578,0.020985550927711878,1.376036037255204,0.11425721932139542,-1.7920792205457143,-0.3136617620588843,0.9080291145166957,0.9552507049194106,-1.2999897780275405,-0.4293727950637242,0.21110400572437438,-0.23669025245583175],\"type\":\"box\"},{\"boxpoints\":false,\"line\":{\"width\":1.3},\"marker\":{\"color\":\"rgba(128, 0, 128, 1.0)\"},\"name\":\"D\",\"orientation\":\"v\",\"y\":[0.592132628370577,-1.1427568771274301,-0.6340122630191883,-0.7162128894182691,0.09739810390787935,0.09159611881467758,-0.9668463002828019,-0.6208334020410122,0.12874503109489555,-0.3596561372712881,0.39013837317684175,0.9707203746231453,-1.849471788872194,-1.670949123446992,1.3990752041954768,-0.433939139689318,-0.44752017505281094,-2.134491404043168,-0.8356207928281586,1.2669953059648416,-0.26364190278517186,-0.03972649984227558,0.4107706478872919,0.8034938604696944,0.1797430430969131,-0.6029878381334249,0.5453303115260123,-0.22849871488659848,0.19840671579042543,-0.20075469668443507,-0.23837820844984284,0.7077555147181938,0.10728535871855505,-0.5961065955304026,0.6295775324655841,-2.1430311045813575,0.6461484336873898,0.1217479112963839,1.6345095310518332,-0.9607835683541878,-1.0677335273474948,1.2161328243610878,-0.06674068289256456,0.8395283207223901,-1.0741861262618164,-0.34730099283237337,0.5659354167689368,0.9123036110964656,-0.4871189389482929,1.5582944789663065,-2.104414717884187,-1.9082807636805286,0.20519240993648347,0.5830341861711636,0.06267896143655838,-2.202683825879842,-1.0614936236398618,-1.013092636573165,-0.7470592116179434,-1.0199280229765049,0.9875061756283474,-2.1080306341987796,0.8070667330078221,0.9094431465761287,-1.7629120134717562,-0.15994707522962706,0.41276947219161814,0.8381114480287192,-1.3365096723779204,-1.6329883056871755,0.10627979251486216,0.02004657791238379,-1.3229626726102046,1.2801780728052166,0.8345055826164722,0.9721200944205621,0.37734462188478013,-0.3223044195608128,0.7967565028396203,-0.6224089678483244,0.5828942342989621,0.03016169618375698,-1.696574544826665,0.09590877733994138,-0.5127741879834149,0.4383379018298321,1.0826621642886225,1.0592007327193345,-0.5232893508862395,1.2627601225631901,0.6589175272897498,1.022280331965757,-1.8153529724872977,-1.0861166191335576,0.017399232226795285,-1.9794890106589242,-0.2894486848694927,0.4794857286596619,0.13405219599547738,-0.9641648355507442],\"type\":\"box\"}],                        {\"legend\":{\"bgcolor\":\"#F5F6F9\",\"font\":{\"color\":\"#4D5663\"}},\"paper_bgcolor\":\"#F5F6F9\",\"plot_bgcolor\":\"#F5F6F9\",\"template\":{\"data\":{\"barpolar\":[{\"marker\":{\"line\":{\"color\":\"#E5ECF6\",\"width\":0.5},\"pattern\":{\"fillmode\":\"overlay\",\"size\":10,\"solidity\":0.2}},\"type\":\"barpolar\"}],\"bar\":[{\"error_x\":{\"color\":\"#2a3f5f\"},\"error_y\":{\"color\":\"#2a3f5f\"},\"marker\":{\"line\":{\"color\":\"#E5ECF6\",\"width\":0.5},\"pattern\":{\"fillmode\":\"overlay\",\"size\":10,\"solidity\":0.2}},\"type\":\"bar\"}],\"carpet\":[{\"aaxis\":{\"endlinecolor\":\"#2a3f5f\",\"gridcolor\":\"white\",\"linecolor\":\"white\",\"minorgridcolor\":\"white\",\"startlinecolor\":\"#2a3f5f\"},\"baxis\":{\"endlinecolor\":\"#2a3f5f\",\"gridcolor\":\"white\",\"linecolor\":\"white\",\"minorgridcolor\":\"white\",\"startlinecolor\":\"#2a3f5f\"},\"type\":\"carpet\"}],\"choropleth\":[{\"colorbar\":{\"outlinewidth\":0,\"ticks\":\"\"},\"type\":\"choropleth\"}],\"contourcarpet\":[{\"colorbar\":{\"outlinewidth\":0,\"ticks\":\"\"},\"type\":\"contourcarpet\"}],\"contour\":[{\"colorbar\":{\"outlinewidth\":0,\"ticks\":\"\"},\"colorscale\":[[0.0,\"#0d0887\"],[0.1111111111111111,\"#46039f\"],[0.2222222222222222,\"#7201a8\"],[0.3333333333333333,\"#9c179e\"],[0.4444444444444444,\"#bd3786\"],[0.5555555555555556,\"#d8576b\"],[0.6666666666666666,\"#ed7953\"],[0.7777777777777778,\"#fb9f3a\"],[0.8888888888888888,\"#fdca26\"],[1.0,\"#f0f921\"]],\"type\":\"contour\"}],\"heatmapgl\":[{\"colorbar\":{\"outlinewidth\":0,\"ticks\":\"\"},\"colorscale\":[[0.0,\"#0d0887\"],[0.1111111111111111,\"#46039f\"],[0.2222222222222222,\"#7201a8\"],[0.3333333333333333,\"#9c179e\"],[0.4444444444444444,\"#bd3786\"],[0.5555555555555556,\"#d8576b\"],[0.6666666666666666,\"#ed7953\"],[0.7777777777777778,\"#fb9f3a\"],[0.8888888888888888,\"#fdca26\"],[1.0,\"#f0f921\"]],\"type\":\"heatmapgl\"}],\"heatmap\":[{\"colorbar\":{\"outlinewidth\":0,\"ticks\":\"\"},\"colorscale\":[[0.0,\"#0d0887\"],[0.1111111111111111,\"#46039f\"],[0.2222222222222222,\"#7201a8\"],[0.3333333333333333,\"#9c179e\"],[0.4444444444444444,\"#bd3786\"],[0.5555555555555556,\"#d8576b\"],[0.6666666666666666,\"#ed7953\"],[0.7777777777777778,\"#fb9f3a\"],[0.8888888888888888,\"#fdca26\"],[1.0,\"#f0f921\"]],\"type\":\"heatmap\"}],\"histogram2dcontour\":[{\"colorbar\":{\"outlinewidth\":0,\"ticks\":\"\"},\"colorscale\":[[0.0,\"#0d0887\"],[0.1111111111111111,\"#46039f\"],[0.2222222222222222,\"#7201a8\"],[0.3333333333333333,\"#9c179e\"],[0.4444444444444444,\"#bd3786\"],[0.5555555555555556,\"#d8576b\"],[0.6666666666666666,\"#ed7953\"],[0.7777777777777778,\"#fb9f3a\"],[0.8888888888888888,\"#fdca26\"],[1.0,\"#f0f921\"]],\"type\":\"histogram2dcontour\"}],\"histogram2d\":[{\"colorbar\":{\"outlinewidth\":0,\"ticks\":\"\"},\"colorscale\":[[0.0,\"#0d0887\"],[0.1111111111111111,\"#46039f\"],[0.2222222222222222,\"#7201a8\"],[0.3333333333333333,\"#9c179e\"],[0.4444444444444444,\"#bd3786\"],[0.5555555555555556,\"#d8576b\"],[0.6666666666666666,\"#ed7953\"],[0.7777777777777778,\"#fb9f3a\"],[0.8888888888888888,\"#fdca26\"],[1.0,\"#f0f921\"]],\"type\":\"histogram2d\"}],\"histogram\":[{\"marker\":{\"pattern\":{\"fillmode\":\"overlay\",\"size\":10,\"solidity\":0.2}},\"type\":\"histogram\"}],\"mesh3d\":[{\"colorbar\":{\"outlinewidth\":0,\"ticks\":\"\"},\"type\":\"mesh3d\"}],\"parcoords\":[{\"line\":{\"colorbar\":{\"outlinewidth\":0,\"ticks\":\"\"}},\"type\":\"parcoords\"}],\"pie\":[{\"automargin\":true,\"type\":\"pie\"}],\"scatter3d\":[{\"line\":{\"colorbar\":{\"outlinewidth\":0,\"ticks\":\"\"}},\"marker\":{\"colorbar\":{\"outlinewidth\":0,\"ticks\":\"\"}},\"type\":\"scatter3d\"}],\"scattercarpet\":[{\"marker\":{\"colorbar\":{\"outlinewidth\":0,\"ticks\":\"\"}},\"type\":\"scattercarpet\"}],\"scattergeo\":[{\"marker\":{\"colorbar\":{\"outlinewidth\":0,\"ticks\":\"\"}},\"type\":\"scattergeo\"}],\"scattergl\":[{\"marker\":{\"colorbar\":{\"outlinewidth\":0,\"ticks\":\"\"}},\"type\":\"scattergl\"}],\"scattermapbox\":[{\"marker\":{\"colorbar\":{\"outlinewidth\":0,\"ticks\":\"\"}},\"type\":\"scattermapbox\"}],\"scatterpolargl\":[{\"marker\":{\"colorbar\":{\"outlinewidth\":0,\"ticks\":\"\"}},\"type\":\"scatterpolargl\"}],\"scatterpolar\":[{\"marker\":{\"colorbar\":{\"outlinewidth\":0,\"ticks\":\"\"}},\"type\":\"scatterpolar\"}],\"scatter\":[{\"marker\":{\"colorbar\":{\"outlinewidth\":0,\"ticks\":\"\"}},\"type\":\"scatter\"}],\"scatterternary\":[{\"marker\":{\"colorbar\":{\"outlinewidth\":0,\"ticks\":\"\"}},\"type\":\"scatterternary\"}],\"surface\":[{\"colorbar\":{\"outlinewidth\":0,\"ticks\":\"\"},\"colorscale\":[[0.0,\"#0d0887\"],[0.1111111111111111,\"#46039f\"],[0.2222222222222222,\"#7201a8\"],[0.3333333333333333,\"#9c179e\"],[0.4444444444444444,\"#bd3786\"],[0.5555555555555556,\"#d8576b\"],[0.6666666666666666,\"#ed7953\"],[0.7777777777777778,\"#fb9f3a\"],[0.8888888888888888,\"#fdca26\"],[1.0,\"#f0f921\"]],\"type\":\"surface\"}],\"table\":[{\"cells\":{\"fill\":{\"color\":\"#EBF0F8\"},\"line\":{\"color\":\"white\"}},\"header\":{\"fill\":{\"color\":\"#C8D4E3\"},\"line\":{\"color\":\"white\"}},\"type\":\"table\"}]},\"layout\":{\"annotationdefaults\":{\"arrowcolor\":\"#2a3f5f\",\"arrowhead\":0,\"arrowwidth\":1},\"autotypenumbers\":\"strict\",\"coloraxis\":{\"colorbar\":{\"outlinewidth\":0,\"ticks\":\"\"}},\"colorscale\":{\"diverging\":[[0,\"#8e0152\"],[0.1,\"#c51b7d\"],[0.2,\"#de77ae\"],[0.3,\"#f1b6da\"],[0.4,\"#fde0ef\"],[0.5,\"#f7f7f7\"],[0.6,\"#e6f5d0\"],[0.7,\"#b8e186\"],[0.8,\"#7fbc41\"],[0.9,\"#4d9221\"],[1,\"#276419\"]],\"sequential\":[[0.0,\"#0d0887\"],[0.1111111111111111,\"#46039f\"],[0.2222222222222222,\"#7201a8\"],[0.3333333333333333,\"#9c179e\"],[0.4444444444444444,\"#bd3786\"],[0.5555555555555556,\"#d8576b\"],[0.6666666666666666,\"#ed7953\"],[0.7777777777777778,\"#fb9f3a\"],[0.8888888888888888,\"#fdca26\"],[1.0,\"#f0f921\"]],\"sequentialminus\":[[0.0,\"#0d0887\"],[0.1111111111111111,\"#46039f\"],[0.2222222222222222,\"#7201a8\"],[0.3333333333333333,\"#9c179e\"],[0.4444444444444444,\"#bd3786\"],[0.5555555555555556,\"#d8576b\"],[0.6666666666666666,\"#ed7953\"],[0.7777777777777778,\"#fb9f3a\"],[0.8888888888888888,\"#fdca26\"],[1.0,\"#f0f921\"]]},\"colorway\":[\"#636efa\",\"#EF553B\",\"#00cc96\",\"#ab63fa\",\"#FFA15A\",\"#19d3f3\",\"#FF6692\",\"#B6E880\",\"#FF97FF\",\"#FECB52\"],\"font\":{\"color\":\"#2a3f5f\"},\"geo\":{\"bgcolor\":\"white\",\"lakecolor\":\"white\",\"landcolor\":\"#E5ECF6\",\"showlakes\":true,\"showland\":true,\"subunitcolor\":\"white\"},\"hoverlabel\":{\"align\":\"left\"},\"hovermode\":\"closest\",\"mapbox\":{\"style\":\"light\"},\"paper_bgcolor\":\"white\",\"plot_bgcolor\":\"#E5ECF6\",\"polar\":{\"angularaxis\":{\"gridcolor\":\"white\",\"linecolor\":\"white\",\"ticks\":\"\"},\"bgcolor\":\"#E5ECF6\",\"radialaxis\":{\"gridcolor\":\"white\",\"linecolor\":\"white\",\"ticks\":\"\"}},\"scene\":{\"xaxis\":{\"backgroundcolor\":\"#E5ECF6\",\"gridcolor\":\"white\",\"gridwidth\":2,\"linecolor\":\"white\",\"showbackground\":true,\"ticks\":\"\",\"zerolinecolor\":\"white\"},\"yaxis\":{\"backgroundcolor\":\"#E5ECF6\",\"gridcolor\":\"white\",\"gridwidth\":2,\"linecolor\":\"white\",\"showbackground\":true,\"ticks\":\"\",\"zerolinecolor\":\"white\"},\"zaxis\":{\"backgroundcolor\":\"#E5ECF6\",\"gridcolor\":\"white\",\"gridwidth\":2,\"linecolor\":\"white\",\"showbackground\":true,\"ticks\":\"\",\"zerolinecolor\":\"white\"}},\"shapedefaults\":{\"line\":{\"color\":\"#2a3f5f\"}},\"ternary\":{\"aaxis\":{\"gridcolor\":\"white\",\"linecolor\":\"white\",\"ticks\":\"\"},\"baxis\":{\"gridcolor\":\"white\",\"linecolor\":\"white\",\"ticks\":\"\"},\"bgcolor\":\"#E5ECF6\",\"caxis\":{\"gridcolor\":\"white\",\"linecolor\":\"white\",\"ticks\":\"\"}},\"title\":{\"x\":0.05},\"xaxis\":{\"automargin\":true,\"gridcolor\":\"white\",\"linecolor\":\"white\",\"ticks\":\"\",\"title\":{\"standoff\":15},\"zerolinecolor\":\"white\",\"zerolinewidth\":2},\"yaxis\":{\"automargin\":true,\"gridcolor\":\"white\",\"linecolor\":\"white\",\"ticks\":\"\",\"title\":{\"standoff\":15},\"zerolinecolor\":\"white\",\"zerolinewidth\":2}}},\"title\":{\"font\":{\"color\":\"#4D5663\"}},\"xaxis\":{\"gridcolor\":\"#E1E5ED\",\"showgrid\":true,\"tickfont\":{\"color\":\"#4D5663\"},\"title\":{\"font\":{\"color\":\"#4D5663\"},\"text\":\"\"},\"zerolinecolor\":\"#E1E5ED\"},\"yaxis\":{\"gridcolor\":\"#E1E5ED\",\"showgrid\":true,\"tickfont\":{\"color\":\"#4D5663\"},\"title\":{\"font\":{\"color\":\"#4D5663\"},\"text\":\"\"},\"zerolinecolor\":\"#E1E5ED\"}},                        {\"showLink\": true, \"linkText\": \"Export to plot.ly\", \"plotlyServerURL\": \"https://plot.ly\", \"responsive\": true}                    ).then(function(){\n",
       "                            \n",
       "var gd = document.getElementById('5ef7b305-7965-4f21-905f-78360f31f2e6');\n",
       "var x = new MutationObserver(function (mutations, observer) {{\n",
       "        var display = window.getComputedStyle(gd).display;\n",
       "        if (!display || display === 'none') {{\n",
       "            console.log([gd, 'removed!']);\n",
       "            Plotly.purge(gd);\n",
       "            observer.disconnect();\n",
       "        }}\n",
       "}});\n",
       "\n",
       "// Listen for the removal of the full notebook cells\n",
       "var notebookContainer = gd.closest('#notebook-container');\n",
       "if (notebookContainer) {{\n",
       "    x.observe(notebookContainer, {childList: true});\n",
       "}}\n",
       "\n",
       "// Listen for the clearing of the current output cell\n",
       "var outputEl = gd.closest('.output');\n",
       "if (outputEl) {{\n",
       "    x.observe(outputEl, {childList: true});\n",
       "}}\n",
       "\n",
       "                        })                };                });            </script>        </div>"
      ]
     },
     "metadata": {},
     "output_type": "display_data"
    }
   ],
   "source": [
    "df1.iplot(kind='box')"
   ]
  },
  {
   "cell_type": "code",
   "execution_count": 23,
   "id": "d444a5d9",
   "metadata": {},
   "outputs": [],
   "source": [
    "df3 = pd.DataFrame({'x':[1,2,3,4,5], 'y':[10,20,30,20,10], 'z':[500,400,300,200,100]})"
   ]
  },
  {
   "cell_type": "code",
   "execution_count": 24,
   "id": "d84d9eb0",
   "metadata": {},
   "outputs": [
    {
     "data": {
      "text/html": [
       "<div>\n",
       "<style scoped>\n",
       "    .dataframe tbody tr th:only-of-type {\n",
       "        vertical-align: middle;\n",
       "    }\n",
       "\n",
       "    .dataframe tbody tr th {\n",
       "        vertical-align: top;\n",
       "    }\n",
       "\n",
       "    .dataframe thead th {\n",
       "        text-align: right;\n",
       "    }\n",
       "</style>\n",
       "<table border=\"1\" class=\"dataframe\">\n",
       "  <thead>\n",
       "    <tr style=\"text-align: right;\">\n",
       "      <th></th>\n",
       "      <th>x</th>\n",
       "      <th>y</th>\n",
       "      <th>z</th>\n",
       "    </tr>\n",
       "  </thead>\n",
       "  <tbody>\n",
       "    <tr>\n",
       "      <th>0</th>\n",
       "      <td>1</td>\n",
       "      <td>10</td>\n",
       "      <td>500</td>\n",
       "    </tr>\n",
       "    <tr>\n",
       "      <th>1</th>\n",
       "      <td>2</td>\n",
       "      <td>20</td>\n",
       "      <td>400</td>\n",
       "    </tr>\n",
       "    <tr>\n",
       "      <th>2</th>\n",
       "      <td>3</td>\n",
       "      <td>30</td>\n",
       "      <td>300</td>\n",
       "    </tr>\n",
       "    <tr>\n",
       "      <th>3</th>\n",
       "      <td>4</td>\n",
       "      <td>20</td>\n",
       "      <td>200</td>\n",
       "    </tr>\n",
       "    <tr>\n",
       "      <th>4</th>\n",
       "      <td>5</td>\n",
       "      <td>10</td>\n",
       "      <td>100</td>\n",
       "    </tr>\n",
       "  </tbody>\n",
       "</table>\n",
       "</div>"
      ],
      "text/plain": [
       "   x   y    z\n",
       "0  1  10  500\n",
       "1  2  20  400\n",
       "2  3  30  300\n",
       "3  4  20  200\n",
       "4  5  10  100"
      ]
     },
     "execution_count": 24,
     "metadata": {},
     "output_type": "execute_result"
    }
   ],
   "source": [
    "df3"
   ]
  },
  {
   "cell_type": "markdown",
   "id": "a1c8e4b1",
   "metadata": {},
   "source": [
    "## SURFACE IPLOT"
   ]
  },
  {
   "cell_type": "code",
   "execution_count": 25,
   "id": "4e57895f",
   "metadata": {},
   "outputs": [
    {
     "data": {
      "application/vnd.plotly.v1+json": {
       "config": {
        "linkText": "Export to plot.ly",
        "plotlyServerURL": "https://plot.ly",
        "showLink": true
       },
       "data": [
        {
         "colorscale": [
          [
           0,
           "rgb(255, 153, 51)"
          ],
          [
           0.1111111111111111,
           "rgb(55, 128, 191)"
          ],
          [
           0.2222222222222222,
           "rgb(50, 171, 96)"
          ],
          [
           0.3333333333333333,
           "rgb(128, 0, 128)"
          ],
          [
           0.4444444444444444,
           "rgb(219, 64, 82)"
          ],
          [
           0.5555555555555556,
           "rgb(0, 128, 128)"
          ],
          [
           0.6666666666666666,
           "rgb(255, 255, 51)"
          ],
          [
           0.7777777777777778,
           "rgb(128, 128, 0)"
          ],
          [
           0.8888888888888888,
           "rgb(251, 128, 114)"
          ],
          [
           1,
           "rgb(128, 177, 211)"
          ]
         ],
         "type": "surface",
         "x": [
          0,
          1,
          2,
          3,
          4
         ],
         "y": [
          "x",
          "y",
          "z"
         ],
         "z": [
          [
           1,
           2,
           3,
           4,
           5
          ],
          [
           10,
           20,
           30,
           20,
           10
          ],
          [
           500,
           400,
           300,
           200,
           100
          ]
         ]
        }
       ],
       "layout": {
        "legend": {
         "bgcolor": "#F5F6F9",
         "font": {
          "color": "#4D5663"
         }
        },
        "paper_bgcolor": "#F5F6F9",
        "plot_bgcolor": "#F5F6F9",
        "template": {
         "data": {
          "bar": [
           {
            "error_x": {
             "color": "#2a3f5f"
            },
            "error_y": {
             "color": "#2a3f5f"
            },
            "marker": {
             "line": {
              "color": "#E5ECF6",
              "width": 0.5
             },
             "pattern": {
              "fillmode": "overlay",
              "size": 10,
              "solidity": 0.2
             }
            },
            "type": "bar"
           }
          ],
          "barpolar": [
           {
            "marker": {
             "line": {
              "color": "#E5ECF6",
              "width": 0.5
             },
             "pattern": {
              "fillmode": "overlay",
              "size": 10,
              "solidity": 0.2
             }
            },
            "type": "barpolar"
           }
          ],
          "carpet": [
           {
            "aaxis": {
             "endlinecolor": "#2a3f5f",
             "gridcolor": "white",
             "linecolor": "white",
             "minorgridcolor": "white",
             "startlinecolor": "#2a3f5f"
            },
            "baxis": {
             "endlinecolor": "#2a3f5f",
             "gridcolor": "white",
             "linecolor": "white",
             "minorgridcolor": "white",
             "startlinecolor": "#2a3f5f"
            },
            "type": "carpet"
           }
          ],
          "choropleth": [
           {
            "colorbar": {
             "outlinewidth": 0,
             "ticks": ""
            },
            "type": "choropleth"
           }
          ],
          "contour": [
           {
            "colorbar": {
             "outlinewidth": 0,
             "ticks": ""
            },
            "colorscale": [
             [
              0,
              "#0d0887"
             ],
             [
              0.1111111111111111,
              "#46039f"
             ],
             [
              0.2222222222222222,
              "#7201a8"
             ],
             [
              0.3333333333333333,
              "#9c179e"
             ],
             [
              0.4444444444444444,
              "#bd3786"
             ],
             [
              0.5555555555555556,
              "#d8576b"
             ],
             [
              0.6666666666666666,
              "#ed7953"
             ],
             [
              0.7777777777777778,
              "#fb9f3a"
             ],
             [
              0.8888888888888888,
              "#fdca26"
             ],
             [
              1,
              "#f0f921"
             ]
            ],
            "type": "contour"
           }
          ],
          "contourcarpet": [
           {
            "colorbar": {
             "outlinewidth": 0,
             "ticks": ""
            },
            "type": "contourcarpet"
           }
          ],
          "heatmap": [
           {
            "colorbar": {
             "outlinewidth": 0,
             "ticks": ""
            },
            "colorscale": [
             [
              0,
              "#0d0887"
             ],
             [
              0.1111111111111111,
              "#46039f"
             ],
             [
              0.2222222222222222,
              "#7201a8"
             ],
             [
              0.3333333333333333,
              "#9c179e"
             ],
             [
              0.4444444444444444,
              "#bd3786"
             ],
             [
              0.5555555555555556,
              "#d8576b"
             ],
             [
              0.6666666666666666,
              "#ed7953"
             ],
             [
              0.7777777777777778,
              "#fb9f3a"
             ],
             [
              0.8888888888888888,
              "#fdca26"
             ],
             [
              1,
              "#f0f921"
             ]
            ],
            "type": "heatmap"
           }
          ],
          "heatmapgl": [
           {
            "colorbar": {
             "outlinewidth": 0,
             "ticks": ""
            },
            "colorscale": [
             [
              0,
              "#0d0887"
             ],
             [
              0.1111111111111111,
              "#46039f"
             ],
             [
              0.2222222222222222,
              "#7201a8"
             ],
             [
              0.3333333333333333,
              "#9c179e"
             ],
             [
              0.4444444444444444,
              "#bd3786"
             ],
             [
              0.5555555555555556,
              "#d8576b"
             ],
             [
              0.6666666666666666,
              "#ed7953"
             ],
             [
              0.7777777777777778,
              "#fb9f3a"
             ],
             [
              0.8888888888888888,
              "#fdca26"
             ],
             [
              1,
              "#f0f921"
             ]
            ],
            "type": "heatmapgl"
           }
          ],
          "histogram": [
           {
            "marker": {
             "pattern": {
              "fillmode": "overlay",
              "size": 10,
              "solidity": 0.2
             }
            },
            "type": "histogram"
           }
          ],
          "histogram2d": [
           {
            "colorbar": {
             "outlinewidth": 0,
             "ticks": ""
            },
            "colorscale": [
             [
              0,
              "#0d0887"
             ],
             [
              0.1111111111111111,
              "#46039f"
             ],
             [
              0.2222222222222222,
              "#7201a8"
             ],
             [
              0.3333333333333333,
              "#9c179e"
             ],
             [
              0.4444444444444444,
              "#bd3786"
             ],
             [
              0.5555555555555556,
              "#d8576b"
             ],
             [
              0.6666666666666666,
              "#ed7953"
             ],
             [
              0.7777777777777778,
              "#fb9f3a"
             ],
             [
              0.8888888888888888,
              "#fdca26"
             ],
             [
              1,
              "#f0f921"
             ]
            ],
            "type": "histogram2d"
           }
          ],
          "histogram2dcontour": [
           {
            "colorbar": {
             "outlinewidth": 0,
             "ticks": ""
            },
            "colorscale": [
             [
              0,
              "#0d0887"
             ],
             [
              0.1111111111111111,
              "#46039f"
             ],
             [
              0.2222222222222222,
              "#7201a8"
             ],
             [
              0.3333333333333333,
              "#9c179e"
             ],
             [
              0.4444444444444444,
              "#bd3786"
             ],
             [
              0.5555555555555556,
              "#d8576b"
             ],
             [
              0.6666666666666666,
              "#ed7953"
             ],
             [
              0.7777777777777778,
              "#fb9f3a"
             ],
             [
              0.8888888888888888,
              "#fdca26"
             ],
             [
              1,
              "#f0f921"
             ]
            ],
            "type": "histogram2dcontour"
           }
          ],
          "mesh3d": [
           {
            "colorbar": {
             "outlinewidth": 0,
             "ticks": ""
            },
            "type": "mesh3d"
           }
          ],
          "parcoords": [
           {
            "line": {
             "colorbar": {
              "outlinewidth": 0,
              "ticks": ""
             }
            },
            "type": "parcoords"
           }
          ],
          "pie": [
           {
            "automargin": true,
            "type": "pie"
           }
          ],
          "scatter": [
           {
            "marker": {
             "colorbar": {
              "outlinewidth": 0,
              "ticks": ""
             }
            },
            "type": "scatter"
           }
          ],
          "scatter3d": [
           {
            "line": {
             "colorbar": {
              "outlinewidth": 0,
              "ticks": ""
             }
            },
            "marker": {
             "colorbar": {
              "outlinewidth": 0,
              "ticks": ""
             }
            },
            "type": "scatter3d"
           }
          ],
          "scattercarpet": [
           {
            "marker": {
             "colorbar": {
              "outlinewidth": 0,
              "ticks": ""
             }
            },
            "type": "scattercarpet"
           }
          ],
          "scattergeo": [
           {
            "marker": {
             "colorbar": {
              "outlinewidth": 0,
              "ticks": ""
             }
            },
            "type": "scattergeo"
           }
          ],
          "scattergl": [
           {
            "marker": {
             "colorbar": {
              "outlinewidth": 0,
              "ticks": ""
             }
            },
            "type": "scattergl"
           }
          ],
          "scattermapbox": [
           {
            "marker": {
             "colorbar": {
              "outlinewidth": 0,
              "ticks": ""
             }
            },
            "type": "scattermapbox"
           }
          ],
          "scatterpolar": [
           {
            "marker": {
             "colorbar": {
              "outlinewidth": 0,
              "ticks": ""
             }
            },
            "type": "scatterpolar"
           }
          ],
          "scatterpolargl": [
           {
            "marker": {
             "colorbar": {
              "outlinewidth": 0,
              "ticks": ""
             }
            },
            "type": "scatterpolargl"
           }
          ],
          "scatterternary": [
           {
            "marker": {
             "colorbar": {
              "outlinewidth": 0,
              "ticks": ""
             }
            },
            "type": "scatterternary"
           }
          ],
          "surface": [
           {
            "colorbar": {
             "outlinewidth": 0,
             "ticks": ""
            },
            "colorscale": [
             [
              0,
              "#0d0887"
             ],
             [
              0.1111111111111111,
              "#46039f"
             ],
             [
              0.2222222222222222,
              "#7201a8"
             ],
             [
              0.3333333333333333,
              "#9c179e"
             ],
             [
              0.4444444444444444,
              "#bd3786"
             ],
             [
              0.5555555555555556,
              "#d8576b"
             ],
             [
              0.6666666666666666,
              "#ed7953"
             ],
             [
              0.7777777777777778,
              "#fb9f3a"
             ],
             [
              0.8888888888888888,
              "#fdca26"
             ],
             [
              1,
              "#f0f921"
             ]
            ],
            "type": "surface"
           }
          ],
          "table": [
           {
            "cells": {
             "fill": {
              "color": "#EBF0F8"
             },
             "line": {
              "color": "white"
             }
            },
            "header": {
             "fill": {
              "color": "#C8D4E3"
             },
             "line": {
              "color": "white"
             }
            },
            "type": "table"
           }
          ]
         },
         "layout": {
          "annotationdefaults": {
           "arrowcolor": "#2a3f5f",
           "arrowhead": 0,
           "arrowwidth": 1
          },
          "autotypenumbers": "strict",
          "coloraxis": {
           "colorbar": {
            "outlinewidth": 0,
            "ticks": ""
           }
          },
          "colorscale": {
           "diverging": [
            [
             0,
             "#8e0152"
            ],
            [
             0.1,
             "#c51b7d"
            ],
            [
             0.2,
             "#de77ae"
            ],
            [
             0.3,
             "#f1b6da"
            ],
            [
             0.4,
             "#fde0ef"
            ],
            [
             0.5,
             "#f7f7f7"
            ],
            [
             0.6,
             "#e6f5d0"
            ],
            [
             0.7,
             "#b8e186"
            ],
            [
             0.8,
             "#7fbc41"
            ],
            [
             0.9,
             "#4d9221"
            ],
            [
             1,
             "#276419"
            ]
           ],
           "sequential": [
            [
             0,
             "#0d0887"
            ],
            [
             0.1111111111111111,
             "#46039f"
            ],
            [
             0.2222222222222222,
             "#7201a8"
            ],
            [
             0.3333333333333333,
             "#9c179e"
            ],
            [
             0.4444444444444444,
             "#bd3786"
            ],
            [
             0.5555555555555556,
             "#d8576b"
            ],
            [
             0.6666666666666666,
             "#ed7953"
            ],
            [
             0.7777777777777778,
             "#fb9f3a"
            ],
            [
             0.8888888888888888,
             "#fdca26"
            ],
            [
             1,
             "#f0f921"
            ]
           ],
           "sequentialminus": [
            [
             0,
             "#0d0887"
            ],
            [
             0.1111111111111111,
             "#46039f"
            ],
            [
             0.2222222222222222,
             "#7201a8"
            ],
            [
             0.3333333333333333,
             "#9c179e"
            ],
            [
             0.4444444444444444,
             "#bd3786"
            ],
            [
             0.5555555555555556,
             "#d8576b"
            ],
            [
             0.6666666666666666,
             "#ed7953"
            ],
            [
             0.7777777777777778,
             "#fb9f3a"
            ],
            [
             0.8888888888888888,
             "#fdca26"
            ],
            [
             1,
             "#f0f921"
            ]
           ]
          },
          "colorway": [
           "#636efa",
           "#EF553B",
           "#00cc96",
           "#ab63fa",
           "#FFA15A",
           "#19d3f3",
           "#FF6692",
           "#B6E880",
           "#FF97FF",
           "#FECB52"
          ],
          "font": {
           "color": "#2a3f5f"
          },
          "geo": {
           "bgcolor": "white",
           "lakecolor": "white",
           "landcolor": "#E5ECF6",
           "showlakes": true,
           "showland": true,
           "subunitcolor": "white"
          },
          "hoverlabel": {
           "align": "left"
          },
          "hovermode": "closest",
          "mapbox": {
           "style": "light"
          },
          "paper_bgcolor": "white",
          "plot_bgcolor": "#E5ECF6",
          "polar": {
           "angularaxis": {
            "gridcolor": "white",
            "linecolor": "white",
            "ticks": ""
           },
           "bgcolor": "#E5ECF6",
           "radialaxis": {
            "gridcolor": "white",
            "linecolor": "white",
            "ticks": ""
           }
          },
          "scene": {
           "xaxis": {
            "backgroundcolor": "#E5ECF6",
            "gridcolor": "white",
            "gridwidth": 2,
            "linecolor": "white",
            "showbackground": true,
            "ticks": "",
            "zerolinecolor": "white"
           },
           "yaxis": {
            "backgroundcolor": "#E5ECF6",
            "gridcolor": "white",
            "gridwidth": 2,
            "linecolor": "white",
            "showbackground": true,
            "ticks": "",
            "zerolinecolor": "white"
           },
           "zaxis": {
            "backgroundcolor": "#E5ECF6",
            "gridcolor": "white",
            "gridwidth": 2,
            "linecolor": "white",
            "showbackground": true,
            "ticks": "",
            "zerolinecolor": "white"
           }
          },
          "shapedefaults": {
           "line": {
            "color": "#2a3f5f"
           }
          },
          "ternary": {
           "aaxis": {
            "gridcolor": "white",
            "linecolor": "white",
            "ticks": ""
           },
           "baxis": {
            "gridcolor": "white",
            "linecolor": "white",
            "ticks": ""
           },
           "bgcolor": "#E5ECF6",
           "caxis": {
            "gridcolor": "white",
            "linecolor": "white",
            "ticks": ""
           }
          },
          "title": {
           "x": 0.05
          },
          "xaxis": {
           "automargin": true,
           "gridcolor": "white",
           "linecolor": "white",
           "ticks": "",
           "title": {
            "standoff": 15
           },
           "zerolinecolor": "white",
           "zerolinewidth": 2
          },
          "yaxis": {
           "automargin": true,
           "gridcolor": "white",
           "linecolor": "white",
           "ticks": "",
           "title": {
            "standoff": 15
           },
           "zerolinecolor": "white",
           "zerolinewidth": 2
          }
         }
        },
        "title": {
         "font": {
          "color": "#4D5663"
         }
        },
        "xaxis": {
         "gridcolor": "#E1E5ED",
         "showgrid": true,
         "tickfont": {
          "color": "#4D5663"
         },
         "title": {
          "font": {
           "color": "#4D5663"
          },
          "text": ""
         },
         "zerolinecolor": "#E1E5ED"
        },
        "yaxis": {
         "gridcolor": "#E1E5ED",
         "showgrid": true,
         "tickfont": {
          "color": "#4D5663"
         },
         "title": {
          "font": {
           "color": "#4D5663"
          },
          "text": ""
         },
         "zerolinecolor": "#E1E5ED"
        }
       }
      },
      "text/html": [
       "<div>                            <div id=\"df4ca124-3b90-4d32-a753-e7263aa3550f\" class=\"plotly-graph-div\" style=\"height:525px; width:100%;\"></div>            <script type=\"text/javascript\">                require([\"plotly\"], function(Plotly) {                    window.PLOTLYENV=window.PLOTLYENV || {};\n",
       "                    window.PLOTLYENV.BASE_URL='https://plot.ly';                                    if (document.getElementById(\"df4ca124-3b90-4d32-a753-e7263aa3550f\")) {                    Plotly.newPlot(                        \"df4ca124-3b90-4d32-a753-e7263aa3550f\",                        [{\"colorscale\":[[0.0,\"rgb(255, 153, 51)\"],[0.1111111111111111,\"rgb(55, 128, 191)\"],[0.2222222222222222,\"rgb(50, 171, 96)\"],[0.3333333333333333,\"rgb(128, 0, 128)\"],[0.4444444444444444,\"rgb(219, 64, 82)\"],[0.5555555555555556,\"rgb(0, 128, 128)\"],[0.6666666666666666,\"rgb(255, 255, 51)\"],[0.7777777777777778,\"rgb(128, 128, 0)\"],[0.8888888888888888,\"rgb(251, 128, 114)\"],[1.0,\"rgb(128, 177, 211)\"]],\"x\":[0,1,2,3,4],\"y\":[\"x\",\"y\",\"z\"],\"z\":[[1,2,3,4,5],[10,20,30,20,10],[500,400,300,200,100]],\"type\":\"surface\"}],                        {\"legend\":{\"bgcolor\":\"#F5F6F9\",\"font\":{\"color\":\"#4D5663\"}},\"paper_bgcolor\":\"#F5F6F9\",\"plot_bgcolor\":\"#F5F6F9\",\"template\":{\"data\":{\"barpolar\":[{\"marker\":{\"line\":{\"color\":\"#E5ECF6\",\"width\":0.5},\"pattern\":{\"fillmode\":\"overlay\",\"size\":10,\"solidity\":0.2}},\"type\":\"barpolar\"}],\"bar\":[{\"error_x\":{\"color\":\"#2a3f5f\"},\"error_y\":{\"color\":\"#2a3f5f\"},\"marker\":{\"line\":{\"color\":\"#E5ECF6\",\"width\":0.5},\"pattern\":{\"fillmode\":\"overlay\",\"size\":10,\"solidity\":0.2}},\"type\":\"bar\"}],\"carpet\":[{\"aaxis\":{\"endlinecolor\":\"#2a3f5f\",\"gridcolor\":\"white\",\"linecolor\":\"white\",\"minorgridcolor\":\"white\",\"startlinecolor\":\"#2a3f5f\"},\"baxis\":{\"endlinecolor\":\"#2a3f5f\",\"gridcolor\":\"white\",\"linecolor\":\"white\",\"minorgridcolor\":\"white\",\"startlinecolor\":\"#2a3f5f\"},\"type\":\"carpet\"}],\"choropleth\":[{\"colorbar\":{\"outlinewidth\":0,\"ticks\":\"\"},\"type\":\"choropleth\"}],\"contourcarpet\":[{\"colorbar\":{\"outlinewidth\":0,\"ticks\":\"\"},\"type\":\"contourcarpet\"}],\"contour\":[{\"colorbar\":{\"outlinewidth\":0,\"ticks\":\"\"},\"colorscale\":[[0.0,\"#0d0887\"],[0.1111111111111111,\"#46039f\"],[0.2222222222222222,\"#7201a8\"],[0.3333333333333333,\"#9c179e\"],[0.4444444444444444,\"#bd3786\"],[0.5555555555555556,\"#d8576b\"],[0.6666666666666666,\"#ed7953\"],[0.7777777777777778,\"#fb9f3a\"],[0.8888888888888888,\"#fdca26\"],[1.0,\"#f0f921\"]],\"type\":\"contour\"}],\"heatmapgl\":[{\"colorbar\":{\"outlinewidth\":0,\"ticks\":\"\"},\"colorscale\":[[0.0,\"#0d0887\"],[0.1111111111111111,\"#46039f\"],[0.2222222222222222,\"#7201a8\"],[0.3333333333333333,\"#9c179e\"],[0.4444444444444444,\"#bd3786\"],[0.5555555555555556,\"#d8576b\"],[0.6666666666666666,\"#ed7953\"],[0.7777777777777778,\"#fb9f3a\"],[0.8888888888888888,\"#fdca26\"],[1.0,\"#f0f921\"]],\"type\":\"heatmapgl\"}],\"heatmap\":[{\"colorbar\":{\"outlinewidth\":0,\"ticks\":\"\"},\"colorscale\":[[0.0,\"#0d0887\"],[0.1111111111111111,\"#46039f\"],[0.2222222222222222,\"#7201a8\"],[0.3333333333333333,\"#9c179e\"],[0.4444444444444444,\"#bd3786\"],[0.5555555555555556,\"#d8576b\"],[0.6666666666666666,\"#ed7953\"],[0.7777777777777778,\"#fb9f3a\"],[0.8888888888888888,\"#fdca26\"],[1.0,\"#f0f921\"]],\"type\":\"heatmap\"}],\"histogram2dcontour\":[{\"colorbar\":{\"outlinewidth\":0,\"ticks\":\"\"},\"colorscale\":[[0.0,\"#0d0887\"],[0.1111111111111111,\"#46039f\"],[0.2222222222222222,\"#7201a8\"],[0.3333333333333333,\"#9c179e\"],[0.4444444444444444,\"#bd3786\"],[0.5555555555555556,\"#d8576b\"],[0.6666666666666666,\"#ed7953\"],[0.7777777777777778,\"#fb9f3a\"],[0.8888888888888888,\"#fdca26\"],[1.0,\"#f0f921\"]],\"type\":\"histogram2dcontour\"}],\"histogram2d\":[{\"colorbar\":{\"outlinewidth\":0,\"ticks\":\"\"},\"colorscale\":[[0.0,\"#0d0887\"],[0.1111111111111111,\"#46039f\"],[0.2222222222222222,\"#7201a8\"],[0.3333333333333333,\"#9c179e\"],[0.4444444444444444,\"#bd3786\"],[0.5555555555555556,\"#d8576b\"],[0.6666666666666666,\"#ed7953\"],[0.7777777777777778,\"#fb9f3a\"],[0.8888888888888888,\"#fdca26\"],[1.0,\"#f0f921\"]],\"type\":\"histogram2d\"}],\"histogram\":[{\"marker\":{\"pattern\":{\"fillmode\":\"overlay\",\"size\":10,\"solidity\":0.2}},\"type\":\"histogram\"}],\"mesh3d\":[{\"colorbar\":{\"outlinewidth\":0,\"ticks\":\"\"},\"type\":\"mesh3d\"}],\"parcoords\":[{\"line\":{\"colorbar\":{\"outlinewidth\":0,\"ticks\":\"\"}},\"type\":\"parcoords\"}],\"pie\":[{\"automargin\":true,\"type\":\"pie\"}],\"scatter3d\":[{\"line\":{\"colorbar\":{\"outlinewidth\":0,\"ticks\":\"\"}},\"marker\":{\"colorbar\":{\"outlinewidth\":0,\"ticks\":\"\"}},\"type\":\"scatter3d\"}],\"scattercarpet\":[{\"marker\":{\"colorbar\":{\"outlinewidth\":0,\"ticks\":\"\"}},\"type\":\"scattercarpet\"}],\"scattergeo\":[{\"marker\":{\"colorbar\":{\"outlinewidth\":0,\"ticks\":\"\"}},\"type\":\"scattergeo\"}],\"scattergl\":[{\"marker\":{\"colorbar\":{\"outlinewidth\":0,\"ticks\":\"\"}},\"type\":\"scattergl\"}],\"scattermapbox\":[{\"marker\":{\"colorbar\":{\"outlinewidth\":0,\"ticks\":\"\"}},\"type\":\"scattermapbox\"}],\"scatterpolargl\":[{\"marker\":{\"colorbar\":{\"outlinewidth\":0,\"ticks\":\"\"}},\"type\":\"scatterpolargl\"}],\"scatterpolar\":[{\"marker\":{\"colorbar\":{\"outlinewidth\":0,\"ticks\":\"\"}},\"type\":\"scatterpolar\"}],\"scatter\":[{\"marker\":{\"colorbar\":{\"outlinewidth\":0,\"ticks\":\"\"}},\"type\":\"scatter\"}],\"scatterternary\":[{\"marker\":{\"colorbar\":{\"outlinewidth\":0,\"ticks\":\"\"}},\"type\":\"scatterternary\"}],\"surface\":[{\"colorbar\":{\"outlinewidth\":0,\"ticks\":\"\"},\"colorscale\":[[0.0,\"#0d0887\"],[0.1111111111111111,\"#46039f\"],[0.2222222222222222,\"#7201a8\"],[0.3333333333333333,\"#9c179e\"],[0.4444444444444444,\"#bd3786\"],[0.5555555555555556,\"#d8576b\"],[0.6666666666666666,\"#ed7953\"],[0.7777777777777778,\"#fb9f3a\"],[0.8888888888888888,\"#fdca26\"],[1.0,\"#f0f921\"]],\"type\":\"surface\"}],\"table\":[{\"cells\":{\"fill\":{\"color\":\"#EBF0F8\"},\"line\":{\"color\":\"white\"}},\"header\":{\"fill\":{\"color\":\"#C8D4E3\"},\"line\":{\"color\":\"white\"}},\"type\":\"table\"}]},\"layout\":{\"annotationdefaults\":{\"arrowcolor\":\"#2a3f5f\",\"arrowhead\":0,\"arrowwidth\":1},\"autotypenumbers\":\"strict\",\"coloraxis\":{\"colorbar\":{\"outlinewidth\":0,\"ticks\":\"\"}},\"colorscale\":{\"diverging\":[[0,\"#8e0152\"],[0.1,\"#c51b7d\"],[0.2,\"#de77ae\"],[0.3,\"#f1b6da\"],[0.4,\"#fde0ef\"],[0.5,\"#f7f7f7\"],[0.6,\"#e6f5d0\"],[0.7,\"#b8e186\"],[0.8,\"#7fbc41\"],[0.9,\"#4d9221\"],[1,\"#276419\"]],\"sequential\":[[0.0,\"#0d0887\"],[0.1111111111111111,\"#46039f\"],[0.2222222222222222,\"#7201a8\"],[0.3333333333333333,\"#9c179e\"],[0.4444444444444444,\"#bd3786\"],[0.5555555555555556,\"#d8576b\"],[0.6666666666666666,\"#ed7953\"],[0.7777777777777778,\"#fb9f3a\"],[0.8888888888888888,\"#fdca26\"],[1.0,\"#f0f921\"]],\"sequentialminus\":[[0.0,\"#0d0887\"],[0.1111111111111111,\"#46039f\"],[0.2222222222222222,\"#7201a8\"],[0.3333333333333333,\"#9c179e\"],[0.4444444444444444,\"#bd3786\"],[0.5555555555555556,\"#d8576b\"],[0.6666666666666666,\"#ed7953\"],[0.7777777777777778,\"#fb9f3a\"],[0.8888888888888888,\"#fdca26\"],[1.0,\"#f0f921\"]]},\"colorway\":[\"#636efa\",\"#EF553B\",\"#00cc96\",\"#ab63fa\",\"#FFA15A\",\"#19d3f3\",\"#FF6692\",\"#B6E880\",\"#FF97FF\",\"#FECB52\"],\"font\":{\"color\":\"#2a3f5f\"},\"geo\":{\"bgcolor\":\"white\",\"lakecolor\":\"white\",\"landcolor\":\"#E5ECF6\",\"showlakes\":true,\"showland\":true,\"subunitcolor\":\"white\"},\"hoverlabel\":{\"align\":\"left\"},\"hovermode\":\"closest\",\"mapbox\":{\"style\":\"light\"},\"paper_bgcolor\":\"white\",\"plot_bgcolor\":\"#E5ECF6\",\"polar\":{\"angularaxis\":{\"gridcolor\":\"white\",\"linecolor\":\"white\",\"ticks\":\"\"},\"bgcolor\":\"#E5ECF6\",\"radialaxis\":{\"gridcolor\":\"white\",\"linecolor\":\"white\",\"ticks\":\"\"}},\"scene\":{\"xaxis\":{\"backgroundcolor\":\"#E5ECF6\",\"gridcolor\":\"white\",\"gridwidth\":2,\"linecolor\":\"white\",\"showbackground\":true,\"ticks\":\"\",\"zerolinecolor\":\"white\"},\"yaxis\":{\"backgroundcolor\":\"#E5ECF6\",\"gridcolor\":\"white\",\"gridwidth\":2,\"linecolor\":\"white\",\"showbackground\":true,\"ticks\":\"\",\"zerolinecolor\":\"white\"},\"zaxis\":{\"backgroundcolor\":\"#E5ECF6\",\"gridcolor\":\"white\",\"gridwidth\":2,\"linecolor\":\"white\",\"showbackground\":true,\"ticks\":\"\",\"zerolinecolor\":\"white\"}},\"shapedefaults\":{\"line\":{\"color\":\"#2a3f5f\"}},\"ternary\":{\"aaxis\":{\"gridcolor\":\"white\",\"linecolor\":\"white\",\"ticks\":\"\"},\"baxis\":{\"gridcolor\":\"white\",\"linecolor\":\"white\",\"ticks\":\"\"},\"bgcolor\":\"#E5ECF6\",\"caxis\":{\"gridcolor\":\"white\",\"linecolor\":\"white\",\"ticks\":\"\"}},\"title\":{\"x\":0.05},\"xaxis\":{\"automargin\":true,\"gridcolor\":\"white\",\"linecolor\":\"white\",\"ticks\":\"\",\"title\":{\"standoff\":15},\"zerolinecolor\":\"white\",\"zerolinewidth\":2},\"yaxis\":{\"automargin\":true,\"gridcolor\":\"white\",\"linecolor\":\"white\",\"ticks\":\"\",\"title\":{\"standoff\":15},\"zerolinecolor\":\"white\",\"zerolinewidth\":2}}},\"title\":{\"font\":{\"color\":\"#4D5663\"}},\"xaxis\":{\"gridcolor\":\"#E1E5ED\",\"showgrid\":true,\"tickfont\":{\"color\":\"#4D5663\"},\"title\":{\"font\":{\"color\":\"#4D5663\"},\"text\":\"\"},\"zerolinecolor\":\"#E1E5ED\"},\"yaxis\":{\"gridcolor\":\"#E1E5ED\",\"showgrid\":true,\"tickfont\":{\"color\":\"#4D5663\"},\"title\":{\"font\":{\"color\":\"#4D5663\"},\"text\":\"\"},\"zerolinecolor\":\"#E1E5ED\"}},                        {\"showLink\": true, \"linkText\": \"Export to plot.ly\", \"plotlyServerURL\": \"https://plot.ly\", \"responsive\": true}                    ).then(function(){\n",
       "                            \n",
       "var gd = document.getElementById('df4ca124-3b90-4d32-a753-e7263aa3550f');\n",
       "var x = new MutationObserver(function (mutations, observer) {{\n",
       "        var display = window.getComputedStyle(gd).display;\n",
       "        if (!display || display === 'none') {{\n",
       "            console.log([gd, 'removed!']);\n",
       "            Plotly.purge(gd);\n",
       "            observer.disconnect();\n",
       "        }}\n",
       "}});\n",
       "\n",
       "// Listen for the removal of the full notebook cells\n",
       "var notebookContainer = gd.closest('#notebook-container');\n",
       "if (notebookContainer) {{\n",
       "    x.observe(notebookContainer, {childList: true});\n",
       "}}\n",
       "\n",
       "// Listen for the clearing of the current output cell\n",
       "var outputEl = gd.closest('.output');\n",
       "if (outputEl) {{\n",
       "    x.observe(outputEl, {childList: true});\n",
       "}}\n",
       "\n",
       "                        })                };                });            </script>        </div>"
      ]
     },
     "metadata": {},
     "output_type": "display_data"
    }
   ],
   "source": [
    "df3.iplot(kind='surface')"
   ]
  },
  {
   "cell_type": "code",
   "execution_count": 26,
   "id": "46e4e368",
   "metadata": {},
   "outputs": [
    {
     "data": {
      "application/vnd.plotly.v1+json": {
       "config": {
        "linkText": "Export to plot.ly",
        "plotlyServerURL": "https://plot.ly",
        "showLink": true
       },
       "data": [
        {
         "colorscale": [
          [
           0,
           "rgb(165,0,38)"
          ],
          [
           0.1,
           "rgb(215,48,39)"
          ],
          [
           0.2,
           "rgb(244,109,67)"
          ],
          [
           0.3,
           "rgb(253,174,97)"
          ],
          [
           0.4,
           "rgb(254,224,144)"
          ],
          [
           0.5,
           "rgb(255,255,191)"
          ],
          [
           0.6,
           "rgb(224,243,248)"
          ],
          [
           0.7,
           "rgb(171,217,233)"
          ],
          [
           0.8,
           "rgb(116,173,209)"
          ],
          [
           0.9,
           "rgb(69,117,180)"
          ],
          [
           1,
           "rgb(49,54,149)"
          ]
         ],
         "type": "surface",
         "x": [
          0,
          1,
          2,
          3,
          4
         ],
         "y": [
          "x",
          "y",
          "z"
         ],
         "z": [
          [
           1,
           2,
           3,
           4,
           5
          ],
          [
           10,
           20,
           30,
           20,
           10
          ],
          [
           500,
           400,
           300,
           200,
           100
          ]
         ]
        }
       ],
       "layout": {
        "legend": {
         "bgcolor": "#F5F6F9",
         "font": {
          "color": "#4D5663"
         }
        },
        "paper_bgcolor": "#F5F6F9",
        "plot_bgcolor": "#F5F6F9",
        "template": {
         "data": {
          "bar": [
           {
            "error_x": {
             "color": "#2a3f5f"
            },
            "error_y": {
             "color": "#2a3f5f"
            },
            "marker": {
             "line": {
              "color": "#E5ECF6",
              "width": 0.5
             },
             "pattern": {
              "fillmode": "overlay",
              "size": 10,
              "solidity": 0.2
             }
            },
            "type": "bar"
           }
          ],
          "barpolar": [
           {
            "marker": {
             "line": {
              "color": "#E5ECF6",
              "width": 0.5
             },
             "pattern": {
              "fillmode": "overlay",
              "size": 10,
              "solidity": 0.2
             }
            },
            "type": "barpolar"
           }
          ],
          "carpet": [
           {
            "aaxis": {
             "endlinecolor": "#2a3f5f",
             "gridcolor": "white",
             "linecolor": "white",
             "minorgridcolor": "white",
             "startlinecolor": "#2a3f5f"
            },
            "baxis": {
             "endlinecolor": "#2a3f5f",
             "gridcolor": "white",
             "linecolor": "white",
             "minorgridcolor": "white",
             "startlinecolor": "#2a3f5f"
            },
            "type": "carpet"
           }
          ],
          "choropleth": [
           {
            "colorbar": {
             "outlinewidth": 0,
             "ticks": ""
            },
            "type": "choropleth"
           }
          ],
          "contour": [
           {
            "colorbar": {
             "outlinewidth": 0,
             "ticks": ""
            },
            "colorscale": [
             [
              0,
              "#0d0887"
             ],
             [
              0.1111111111111111,
              "#46039f"
             ],
             [
              0.2222222222222222,
              "#7201a8"
             ],
             [
              0.3333333333333333,
              "#9c179e"
             ],
             [
              0.4444444444444444,
              "#bd3786"
             ],
             [
              0.5555555555555556,
              "#d8576b"
             ],
             [
              0.6666666666666666,
              "#ed7953"
             ],
             [
              0.7777777777777778,
              "#fb9f3a"
             ],
             [
              0.8888888888888888,
              "#fdca26"
             ],
             [
              1,
              "#f0f921"
             ]
            ],
            "type": "contour"
           }
          ],
          "contourcarpet": [
           {
            "colorbar": {
             "outlinewidth": 0,
             "ticks": ""
            },
            "type": "contourcarpet"
           }
          ],
          "heatmap": [
           {
            "colorbar": {
             "outlinewidth": 0,
             "ticks": ""
            },
            "colorscale": [
             [
              0,
              "#0d0887"
             ],
             [
              0.1111111111111111,
              "#46039f"
             ],
             [
              0.2222222222222222,
              "#7201a8"
             ],
             [
              0.3333333333333333,
              "#9c179e"
             ],
             [
              0.4444444444444444,
              "#bd3786"
             ],
             [
              0.5555555555555556,
              "#d8576b"
             ],
             [
              0.6666666666666666,
              "#ed7953"
             ],
             [
              0.7777777777777778,
              "#fb9f3a"
             ],
             [
              0.8888888888888888,
              "#fdca26"
             ],
             [
              1,
              "#f0f921"
             ]
            ],
            "type": "heatmap"
           }
          ],
          "heatmapgl": [
           {
            "colorbar": {
             "outlinewidth": 0,
             "ticks": ""
            },
            "colorscale": [
             [
              0,
              "#0d0887"
             ],
             [
              0.1111111111111111,
              "#46039f"
             ],
             [
              0.2222222222222222,
              "#7201a8"
             ],
             [
              0.3333333333333333,
              "#9c179e"
             ],
             [
              0.4444444444444444,
              "#bd3786"
             ],
             [
              0.5555555555555556,
              "#d8576b"
             ],
             [
              0.6666666666666666,
              "#ed7953"
             ],
             [
              0.7777777777777778,
              "#fb9f3a"
             ],
             [
              0.8888888888888888,
              "#fdca26"
             ],
             [
              1,
              "#f0f921"
             ]
            ],
            "type": "heatmapgl"
           }
          ],
          "histogram": [
           {
            "marker": {
             "pattern": {
              "fillmode": "overlay",
              "size": 10,
              "solidity": 0.2
             }
            },
            "type": "histogram"
           }
          ],
          "histogram2d": [
           {
            "colorbar": {
             "outlinewidth": 0,
             "ticks": ""
            },
            "colorscale": [
             [
              0,
              "#0d0887"
             ],
             [
              0.1111111111111111,
              "#46039f"
             ],
             [
              0.2222222222222222,
              "#7201a8"
             ],
             [
              0.3333333333333333,
              "#9c179e"
             ],
             [
              0.4444444444444444,
              "#bd3786"
             ],
             [
              0.5555555555555556,
              "#d8576b"
             ],
             [
              0.6666666666666666,
              "#ed7953"
             ],
             [
              0.7777777777777778,
              "#fb9f3a"
             ],
             [
              0.8888888888888888,
              "#fdca26"
             ],
             [
              1,
              "#f0f921"
             ]
            ],
            "type": "histogram2d"
           }
          ],
          "histogram2dcontour": [
           {
            "colorbar": {
             "outlinewidth": 0,
             "ticks": ""
            },
            "colorscale": [
             [
              0,
              "#0d0887"
             ],
             [
              0.1111111111111111,
              "#46039f"
             ],
             [
              0.2222222222222222,
              "#7201a8"
             ],
             [
              0.3333333333333333,
              "#9c179e"
             ],
             [
              0.4444444444444444,
              "#bd3786"
             ],
             [
              0.5555555555555556,
              "#d8576b"
             ],
             [
              0.6666666666666666,
              "#ed7953"
             ],
             [
              0.7777777777777778,
              "#fb9f3a"
             ],
             [
              0.8888888888888888,
              "#fdca26"
             ],
             [
              1,
              "#f0f921"
             ]
            ],
            "type": "histogram2dcontour"
           }
          ],
          "mesh3d": [
           {
            "colorbar": {
             "outlinewidth": 0,
             "ticks": ""
            },
            "type": "mesh3d"
           }
          ],
          "parcoords": [
           {
            "line": {
             "colorbar": {
              "outlinewidth": 0,
              "ticks": ""
             }
            },
            "type": "parcoords"
           }
          ],
          "pie": [
           {
            "automargin": true,
            "type": "pie"
           }
          ],
          "scatter": [
           {
            "marker": {
             "colorbar": {
              "outlinewidth": 0,
              "ticks": ""
             }
            },
            "type": "scatter"
           }
          ],
          "scatter3d": [
           {
            "line": {
             "colorbar": {
              "outlinewidth": 0,
              "ticks": ""
             }
            },
            "marker": {
             "colorbar": {
              "outlinewidth": 0,
              "ticks": ""
             }
            },
            "type": "scatter3d"
           }
          ],
          "scattercarpet": [
           {
            "marker": {
             "colorbar": {
              "outlinewidth": 0,
              "ticks": ""
             }
            },
            "type": "scattercarpet"
           }
          ],
          "scattergeo": [
           {
            "marker": {
             "colorbar": {
              "outlinewidth": 0,
              "ticks": ""
             }
            },
            "type": "scattergeo"
           }
          ],
          "scattergl": [
           {
            "marker": {
             "colorbar": {
              "outlinewidth": 0,
              "ticks": ""
             }
            },
            "type": "scattergl"
           }
          ],
          "scattermapbox": [
           {
            "marker": {
             "colorbar": {
              "outlinewidth": 0,
              "ticks": ""
             }
            },
            "type": "scattermapbox"
           }
          ],
          "scatterpolar": [
           {
            "marker": {
             "colorbar": {
              "outlinewidth": 0,
              "ticks": ""
             }
            },
            "type": "scatterpolar"
           }
          ],
          "scatterpolargl": [
           {
            "marker": {
             "colorbar": {
              "outlinewidth": 0,
              "ticks": ""
             }
            },
            "type": "scatterpolargl"
           }
          ],
          "scatterternary": [
           {
            "marker": {
             "colorbar": {
              "outlinewidth": 0,
              "ticks": ""
             }
            },
            "type": "scatterternary"
           }
          ],
          "surface": [
           {
            "colorbar": {
             "outlinewidth": 0,
             "ticks": ""
            },
            "colorscale": [
             [
              0,
              "#0d0887"
             ],
             [
              0.1111111111111111,
              "#46039f"
             ],
             [
              0.2222222222222222,
              "#7201a8"
             ],
             [
              0.3333333333333333,
              "#9c179e"
             ],
             [
              0.4444444444444444,
              "#bd3786"
             ],
             [
              0.5555555555555556,
              "#d8576b"
             ],
             [
              0.6666666666666666,
              "#ed7953"
             ],
             [
              0.7777777777777778,
              "#fb9f3a"
             ],
             [
              0.8888888888888888,
              "#fdca26"
             ],
             [
              1,
              "#f0f921"
             ]
            ],
            "type": "surface"
           }
          ],
          "table": [
           {
            "cells": {
             "fill": {
              "color": "#EBF0F8"
             },
             "line": {
              "color": "white"
             }
            },
            "header": {
             "fill": {
              "color": "#C8D4E3"
             },
             "line": {
              "color": "white"
             }
            },
            "type": "table"
           }
          ]
         },
         "layout": {
          "annotationdefaults": {
           "arrowcolor": "#2a3f5f",
           "arrowhead": 0,
           "arrowwidth": 1
          },
          "autotypenumbers": "strict",
          "coloraxis": {
           "colorbar": {
            "outlinewidth": 0,
            "ticks": ""
           }
          },
          "colorscale": {
           "diverging": [
            [
             0,
             "#8e0152"
            ],
            [
             0.1,
             "#c51b7d"
            ],
            [
             0.2,
             "#de77ae"
            ],
            [
             0.3,
             "#f1b6da"
            ],
            [
             0.4,
             "#fde0ef"
            ],
            [
             0.5,
             "#f7f7f7"
            ],
            [
             0.6,
             "#e6f5d0"
            ],
            [
             0.7,
             "#b8e186"
            ],
            [
             0.8,
             "#7fbc41"
            ],
            [
             0.9,
             "#4d9221"
            ],
            [
             1,
             "#276419"
            ]
           ],
           "sequential": [
            [
             0,
             "#0d0887"
            ],
            [
             0.1111111111111111,
             "#46039f"
            ],
            [
             0.2222222222222222,
             "#7201a8"
            ],
            [
             0.3333333333333333,
             "#9c179e"
            ],
            [
             0.4444444444444444,
             "#bd3786"
            ],
            [
             0.5555555555555556,
             "#d8576b"
            ],
            [
             0.6666666666666666,
             "#ed7953"
            ],
            [
             0.7777777777777778,
             "#fb9f3a"
            ],
            [
             0.8888888888888888,
             "#fdca26"
            ],
            [
             1,
             "#f0f921"
            ]
           ],
           "sequentialminus": [
            [
             0,
             "#0d0887"
            ],
            [
             0.1111111111111111,
             "#46039f"
            ],
            [
             0.2222222222222222,
             "#7201a8"
            ],
            [
             0.3333333333333333,
             "#9c179e"
            ],
            [
             0.4444444444444444,
             "#bd3786"
            ],
            [
             0.5555555555555556,
             "#d8576b"
            ],
            [
             0.6666666666666666,
             "#ed7953"
            ],
            [
             0.7777777777777778,
             "#fb9f3a"
            ],
            [
             0.8888888888888888,
             "#fdca26"
            ],
            [
             1,
             "#f0f921"
            ]
           ]
          },
          "colorway": [
           "#636efa",
           "#EF553B",
           "#00cc96",
           "#ab63fa",
           "#FFA15A",
           "#19d3f3",
           "#FF6692",
           "#B6E880",
           "#FF97FF",
           "#FECB52"
          ],
          "font": {
           "color": "#2a3f5f"
          },
          "geo": {
           "bgcolor": "white",
           "lakecolor": "white",
           "landcolor": "#E5ECF6",
           "showlakes": true,
           "showland": true,
           "subunitcolor": "white"
          },
          "hoverlabel": {
           "align": "left"
          },
          "hovermode": "closest",
          "mapbox": {
           "style": "light"
          },
          "paper_bgcolor": "white",
          "plot_bgcolor": "#E5ECF6",
          "polar": {
           "angularaxis": {
            "gridcolor": "white",
            "linecolor": "white",
            "ticks": ""
           },
           "bgcolor": "#E5ECF6",
           "radialaxis": {
            "gridcolor": "white",
            "linecolor": "white",
            "ticks": ""
           }
          },
          "scene": {
           "xaxis": {
            "backgroundcolor": "#E5ECF6",
            "gridcolor": "white",
            "gridwidth": 2,
            "linecolor": "white",
            "showbackground": true,
            "ticks": "",
            "zerolinecolor": "white"
           },
           "yaxis": {
            "backgroundcolor": "#E5ECF6",
            "gridcolor": "white",
            "gridwidth": 2,
            "linecolor": "white",
            "showbackground": true,
            "ticks": "",
            "zerolinecolor": "white"
           },
           "zaxis": {
            "backgroundcolor": "#E5ECF6",
            "gridcolor": "white",
            "gridwidth": 2,
            "linecolor": "white",
            "showbackground": true,
            "ticks": "",
            "zerolinecolor": "white"
           }
          },
          "shapedefaults": {
           "line": {
            "color": "#2a3f5f"
           }
          },
          "ternary": {
           "aaxis": {
            "gridcolor": "white",
            "linecolor": "white",
            "ticks": ""
           },
           "baxis": {
            "gridcolor": "white",
            "linecolor": "white",
            "ticks": ""
           },
           "bgcolor": "#E5ECF6",
           "caxis": {
            "gridcolor": "white",
            "linecolor": "white",
            "ticks": ""
           }
          },
          "title": {
           "x": 0.05
          },
          "xaxis": {
           "automargin": true,
           "gridcolor": "white",
           "linecolor": "white",
           "ticks": "",
           "title": {
            "standoff": 15
           },
           "zerolinecolor": "white",
           "zerolinewidth": 2
          },
          "yaxis": {
           "automargin": true,
           "gridcolor": "white",
           "linecolor": "white",
           "ticks": "",
           "title": {
            "standoff": 15
           },
           "zerolinecolor": "white",
           "zerolinewidth": 2
          }
         }
        },
        "title": {
         "font": {
          "color": "#4D5663"
         }
        },
        "xaxis": {
         "gridcolor": "#E1E5ED",
         "showgrid": true,
         "tickfont": {
          "color": "#4D5663"
         },
         "title": {
          "font": {
           "color": "#4D5663"
          },
          "text": ""
         },
         "zerolinecolor": "#E1E5ED"
        },
        "yaxis": {
         "gridcolor": "#E1E5ED",
         "showgrid": true,
         "tickfont": {
          "color": "#4D5663"
         },
         "title": {
          "font": {
           "color": "#4D5663"
          },
          "text": ""
         },
         "zerolinecolor": "#E1E5ED"
        }
       }
      },
      "text/html": [
       "<div>                            <div id=\"d6854921-fe4e-4dd3-95bc-1d5bbae2024b\" class=\"plotly-graph-div\" style=\"height:525px; width:100%;\"></div>            <script type=\"text/javascript\">                require([\"plotly\"], function(Plotly) {                    window.PLOTLYENV=window.PLOTLYENV || {};\n",
       "                    window.PLOTLYENV.BASE_URL='https://plot.ly';                                    if (document.getElementById(\"d6854921-fe4e-4dd3-95bc-1d5bbae2024b\")) {                    Plotly.newPlot(                        \"d6854921-fe4e-4dd3-95bc-1d5bbae2024b\",                        [{\"colorscale\":[[0.0,\"rgb(165,0,38)\"],[0.1,\"rgb(215,48,39)\"],[0.2,\"rgb(244,109,67)\"],[0.3,\"rgb(253,174,97)\"],[0.4,\"rgb(254,224,144)\"],[0.5,\"rgb(255,255,191)\"],[0.6,\"rgb(224,243,248)\"],[0.7,\"rgb(171,217,233)\"],[0.8,\"rgb(116,173,209)\"],[0.9,\"rgb(69,117,180)\"],[1.0,\"rgb(49,54,149)\"]],\"x\":[0,1,2,3,4],\"y\":[\"x\",\"y\",\"z\"],\"z\":[[1,2,3,4,5],[10,20,30,20,10],[500,400,300,200,100]],\"type\":\"surface\"}],                        {\"legend\":{\"bgcolor\":\"#F5F6F9\",\"font\":{\"color\":\"#4D5663\"}},\"paper_bgcolor\":\"#F5F6F9\",\"plot_bgcolor\":\"#F5F6F9\",\"template\":{\"data\":{\"barpolar\":[{\"marker\":{\"line\":{\"color\":\"#E5ECF6\",\"width\":0.5},\"pattern\":{\"fillmode\":\"overlay\",\"size\":10,\"solidity\":0.2}},\"type\":\"barpolar\"}],\"bar\":[{\"error_x\":{\"color\":\"#2a3f5f\"},\"error_y\":{\"color\":\"#2a3f5f\"},\"marker\":{\"line\":{\"color\":\"#E5ECF6\",\"width\":0.5},\"pattern\":{\"fillmode\":\"overlay\",\"size\":10,\"solidity\":0.2}},\"type\":\"bar\"}],\"carpet\":[{\"aaxis\":{\"endlinecolor\":\"#2a3f5f\",\"gridcolor\":\"white\",\"linecolor\":\"white\",\"minorgridcolor\":\"white\",\"startlinecolor\":\"#2a3f5f\"},\"baxis\":{\"endlinecolor\":\"#2a3f5f\",\"gridcolor\":\"white\",\"linecolor\":\"white\",\"minorgridcolor\":\"white\",\"startlinecolor\":\"#2a3f5f\"},\"type\":\"carpet\"}],\"choropleth\":[{\"colorbar\":{\"outlinewidth\":0,\"ticks\":\"\"},\"type\":\"choropleth\"}],\"contourcarpet\":[{\"colorbar\":{\"outlinewidth\":0,\"ticks\":\"\"},\"type\":\"contourcarpet\"}],\"contour\":[{\"colorbar\":{\"outlinewidth\":0,\"ticks\":\"\"},\"colorscale\":[[0.0,\"#0d0887\"],[0.1111111111111111,\"#46039f\"],[0.2222222222222222,\"#7201a8\"],[0.3333333333333333,\"#9c179e\"],[0.4444444444444444,\"#bd3786\"],[0.5555555555555556,\"#d8576b\"],[0.6666666666666666,\"#ed7953\"],[0.7777777777777778,\"#fb9f3a\"],[0.8888888888888888,\"#fdca26\"],[1.0,\"#f0f921\"]],\"type\":\"contour\"}],\"heatmapgl\":[{\"colorbar\":{\"outlinewidth\":0,\"ticks\":\"\"},\"colorscale\":[[0.0,\"#0d0887\"],[0.1111111111111111,\"#46039f\"],[0.2222222222222222,\"#7201a8\"],[0.3333333333333333,\"#9c179e\"],[0.4444444444444444,\"#bd3786\"],[0.5555555555555556,\"#d8576b\"],[0.6666666666666666,\"#ed7953\"],[0.7777777777777778,\"#fb9f3a\"],[0.8888888888888888,\"#fdca26\"],[1.0,\"#f0f921\"]],\"type\":\"heatmapgl\"}],\"heatmap\":[{\"colorbar\":{\"outlinewidth\":0,\"ticks\":\"\"},\"colorscale\":[[0.0,\"#0d0887\"],[0.1111111111111111,\"#46039f\"],[0.2222222222222222,\"#7201a8\"],[0.3333333333333333,\"#9c179e\"],[0.4444444444444444,\"#bd3786\"],[0.5555555555555556,\"#d8576b\"],[0.6666666666666666,\"#ed7953\"],[0.7777777777777778,\"#fb9f3a\"],[0.8888888888888888,\"#fdca26\"],[1.0,\"#f0f921\"]],\"type\":\"heatmap\"}],\"histogram2dcontour\":[{\"colorbar\":{\"outlinewidth\":0,\"ticks\":\"\"},\"colorscale\":[[0.0,\"#0d0887\"],[0.1111111111111111,\"#46039f\"],[0.2222222222222222,\"#7201a8\"],[0.3333333333333333,\"#9c179e\"],[0.4444444444444444,\"#bd3786\"],[0.5555555555555556,\"#d8576b\"],[0.6666666666666666,\"#ed7953\"],[0.7777777777777778,\"#fb9f3a\"],[0.8888888888888888,\"#fdca26\"],[1.0,\"#f0f921\"]],\"type\":\"histogram2dcontour\"}],\"histogram2d\":[{\"colorbar\":{\"outlinewidth\":0,\"ticks\":\"\"},\"colorscale\":[[0.0,\"#0d0887\"],[0.1111111111111111,\"#46039f\"],[0.2222222222222222,\"#7201a8\"],[0.3333333333333333,\"#9c179e\"],[0.4444444444444444,\"#bd3786\"],[0.5555555555555556,\"#d8576b\"],[0.6666666666666666,\"#ed7953\"],[0.7777777777777778,\"#fb9f3a\"],[0.8888888888888888,\"#fdca26\"],[1.0,\"#f0f921\"]],\"type\":\"histogram2d\"}],\"histogram\":[{\"marker\":{\"pattern\":{\"fillmode\":\"overlay\",\"size\":10,\"solidity\":0.2}},\"type\":\"histogram\"}],\"mesh3d\":[{\"colorbar\":{\"outlinewidth\":0,\"ticks\":\"\"},\"type\":\"mesh3d\"}],\"parcoords\":[{\"line\":{\"colorbar\":{\"outlinewidth\":0,\"ticks\":\"\"}},\"type\":\"parcoords\"}],\"pie\":[{\"automargin\":true,\"type\":\"pie\"}],\"scatter3d\":[{\"line\":{\"colorbar\":{\"outlinewidth\":0,\"ticks\":\"\"}},\"marker\":{\"colorbar\":{\"outlinewidth\":0,\"ticks\":\"\"}},\"type\":\"scatter3d\"}],\"scattercarpet\":[{\"marker\":{\"colorbar\":{\"outlinewidth\":0,\"ticks\":\"\"}},\"type\":\"scattercarpet\"}],\"scattergeo\":[{\"marker\":{\"colorbar\":{\"outlinewidth\":0,\"ticks\":\"\"}},\"type\":\"scattergeo\"}],\"scattergl\":[{\"marker\":{\"colorbar\":{\"outlinewidth\":0,\"ticks\":\"\"}},\"type\":\"scattergl\"}],\"scattermapbox\":[{\"marker\":{\"colorbar\":{\"outlinewidth\":0,\"ticks\":\"\"}},\"type\":\"scattermapbox\"}],\"scatterpolargl\":[{\"marker\":{\"colorbar\":{\"outlinewidth\":0,\"ticks\":\"\"}},\"type\":\"scatterpolargl\"}],\"scatterpolar\":[{\"marker\":{\"colorbar\":{\"outlinewidth\":0,\"ticks\":\"\"}},\"type\":\"scatterpolar\"}],\"scatter\":[{\"marker\":{\"colorbar\":{\"outlinewidth\":0,\"ticks\":\"\"}},\"type\":\"scatter\"}],\"scatterternary\":[{\"marker\":{\"colorbar\":{\"outlinewidth\":0,\"ticks\":\"\"}},\"type\":\"scatterternary\"}],\"surface\":[{\"colorbar\":{\"outlinewidth\":0,\"ticks\":\"\"},\"colorscale\":[[0.0,\"#0d0887\"],[0.1111111111111111,\"#46039f\"],[0.2222222222222222,\"#7201a8\"],[0.3333333333333333,\"#9c179e\"],[0.4444444444444444,\"#bd3786\"],[0.5555555555555556,\"#d8576b\"],[0.6666666666666666,\"#ed7953\"],[0.7777777777777778,\"#fb9f3a\"],[0.8888888888888888,\"#fdca26\"],[1.0,\"#f0f921\"]],\"type\":\"surface\"}],\"table\":[{\"cells\":{\"fill\":{\"color\":\"#EBF0F8\"},\"line\":{\"color\":\"white\"}},\"header\":{\"fill\":{\"color\":\"#C8D4E3\"},\"line\":{\"color\":\"white\"}},\"type\":\"table\"}]},\"layout\":{\"annotationdefaults\":{\"arrowcolor\":\"#2a3f5f\",\"arrowhead\":0,\"arrowwidth\":1},\"autotypenumbers\":\"strict\",\"coloraxis\":{\"colorbar\":{\"outlinewidth\":0,\"ticks\":\"\"}},\"colorscale\":{\"diverging\":[[0,\"#8e0152\"],[0.1,\"#c51b7d\"],[0.2,\"#de77ae\"],[0.3,\"#f1b6da\"],[0.4,\"#fde0ef\"],[0.5,\"#f7f7f7\"],[0.6,\"#e6f5d0\"],[0.7,\"#b8e186\"],[0.8,\"#7fbc41\"],[0.9,\"#4d9221\"],[1,\"#276419\"]],\"sequential\":[[0.0,\"#0d0887\"],[0.1111111111111111,\"#46039f\"],[0.2222222222222222,\"#7201a8\"],[0.3333333333333333,\"#9c179e\"],[0.4444444444444444,\"#bd3786\"],[0.5555555555555556,\"#d8576b\"],[0.6666666666666666,\"#ed7953\"],[0.7777777777777778,\"#fb9f3a\"],[0.8888888888888888,\"#fdca26\"],[1.0,\"#f0f921\"]],\"sequentialminus\":[[0.0,\"#0d0887\"],[0.1111111111111111,\"#46039f\"],[0.2222222222222222,\"#7201a8\"],[0.3333333333333333,\"#9c179e\"],[0.4444444444444444,\"#bd3786\"],[0.5555555555555556,\"#d8576b\"],[0.6666666666666666,\"#ed7953\"],[0.7777777777777778,\"#fb9f3a\"],[0.8888888888888888,\"#fdca26\"],[1.0,\"#f0f921\"]]},\"colorway\":[\"#636efa\",\"#EF553B\",\"#00cc96\",\"#ab63fa\",\"#FFA15A\",\"#19d3f3\",\"#FF6692\",\"#B6E880\",\"#FF97FF\",\"#FECB52\"],\"font\":{\"color\":\"#2a3f5f\"},\"geo\":{\"bgcolor\":\"white\",\"lakecolor\":\"white\",\"landcolor\":\"#E5ECF6\",\"showlakes\":true,\"showland\":true,\"subunitcolor\":\"white\"},\"hoverlabel\":{\"align\":\"left\"},\"hovermode\":\"closest\",\"mapbox\":{\"style\":\"light\"},\"paper_bgcolor\":\"white\",\"plot_bgcolor\":\"#E5ECF6\",\"polar\":{\"angularaxis\":{\"gridcolor\":\"white\",\"linecolor\":\"white\",\"ticks\":\"\"},\"bgcolor\":\"#E5ECF6\",\"radialaxis\":{\"gridcolor\":\"white\",\"linecolor\":\"white\",\"ticks\":\"\"}},\"scene\":{\"xaxis\":{\"backgroundcolor\":\"#E5ECF6\",\"gridcolor\":\"white\",\"gridwidth\":2,\"linecolor\":\"white\",\"showbackground\":true,\"ticks\":\"\",\"zerolinecolor\":\"white\"},\"yaxis\":{\"backgroundcolor\":\"#E5ECF6\",\"gridcolor\":\"white\",\"gridwidth\":2,\"linecolor\":\"white\",\"showbackground\":true,\"ticks\":\"\",\"zerolinecolor\":\"white\"},\"zaxis\":{\"backgroundcolor\":\"#E5ECF6\",\"gridcolor\":\"white\",\"gridwidth\":2,\"linecolor\":\"white\",\"showbackground\":true,\"ticks\":\"\",\"zerolinecolor\":\"white\"}},\"shapedefaults\":{\"line\":{\"color\":\"#2a3f5f\"}},\"ternary\":{\"aaxis\":{\"gridcolor\":\"white\",\"linecolor\":\"white\",\"ticks\":\"\"},\"baxis\":{\"gridcolor\":\"white\",\"linecolor\":\"white\",\"ticks\":\"\"},\"bgcolor\":\"#E5ECF6\",\"caxis\":{\"gridcolor\":\"white\",\"linecolor\":\"white\",\"ticks\":\"\"}},\"title\":{\"x\":0.05},\"xaxis\":{\"automargin\":true,\"gridcolor\":\"white\",\"linecolor\":\"white\",\"ticks\":\"\",\"title\":{\"standoff\":15},\"zerolinecolor\":\"white\",\"zerolinewidth\":2},\"yaxis\":{\"automargin\":true,\"gridcolor\":\"white\",\"linecolor\":\"white\",\"ticks\":\"\",\"title\":{\"standoff\":15},\"zerolinecolor\":\"white\",\"zerolinewidth\":2}}},\"title\":{\"font\":{\"color\":\"#4D5663\"}},\"xaxis\":{\"gridcolor\":\"#E1E5ED\",\"showgrid\":true,\"tickfont\":{\"color\":\"#4D5663\"},\"title\":{\"font\":{\"color\":\"#4D5663\"},\"text\":\"\"},\"zerolinecolor\":\"#E1E5ED\"},\"yaxis\":{\"gridcolor\":\"#E1E5ED\",\"showgrid\":true,\"tickfont\":{\"color\":\"#4D5663\"},\"title\":{\"font\":{\"color\":\"#4D5663\"},\"text\":\"\"},\"zerolinecolor\":\"#E1E5ED\"}},                        {\"showLink\": true, \"linkText\": \"Export to plot.ly\", \"plotlyServerURL\": \"https://plot.ly\", \"responsive\": true}                    ).then(function(){\n",
       "                            \n",
       "var gd = document.getElementById('d6854921-fe4e-4dd3-95bc-1d5bbae2024b');\n",
       "var x = new MutationObserver(function (mutations, observer) {{\n",
       "        var display = window.getComputedStyle(gd).display;\n",
       "        if (!display || display === 'none') {{\n",
       "            console.log([gd, 'removed!']);\n",
       "            Plotly.purge(gd);\n",
       "            observer.disconnect();\n",
       "        }}\n",
       "}});\n",
       "\n",
       "// Listen for the removal of the full notebook cells\n",
       "var notebookContainer = gd.closest('#notebook-container');\n",
       "if (notebookContainer) {{\n",
       "    x.observe(notebookContainer, {childList: true});\n",
       "}}\n",
       "\n",
       "// Listen for the clearing of the current output cell\n",
       "var outputEl = gd.closest('.output');\n",
       "if (outputEl) {{\n",
       "    x.observe(outputEl, {childList: true});\n",
       "}}\n",
       "\n",
       "                        })                };                });            </script>        </div>"
      ]
     },
     "metadata": {},
     "output_type": "display_data"
    }
   ],
   "source": [
    "df3.iplot(kind='surface', colorscale='rdylbu')"
   ]
  },
  {
   "cell_type": "markdown",
   "id": "5440192c",
   "metadata": {},
   "source": [
    "## HISTOGRAM IPLOT"
   ]
  },
  {
   "cell_type": "code",
   "execution_count": 27,
   "id": "dbb73ef4",
   "metadata": {},
   "outputs": [
    {
     "data": {
      "application/vnd.plotly.v1+json": {
       "config": {
        "linkText": "Export to plot.ly",
        "plotlyServerURL": "https://plot.ly",
        "showLink": true
       },
       "data": [
        {
         "histfunc": "count",
         "histnorm": "",
         "marker": {
          "color": "rgba(255, 153, 51, 1.0)",
          "line": {
           "color": "#4D5663",
           "width": 1.3
          }
         },
         "name": "A",
         "opacity": 0.8,
         "orientation": "v",
         "type": "histogram",
         "x": [
          -0.3828792050443604,
          -0.8470899644257714,
          0.010194864370989333,
          0.7301852076151661,
          2.0209176306324363,
          -1.5003016962844402,
          1.3118946476906856,
          -0.19669756499513247,
          -0.9076690966885811,
          -0.3237404643459652,
          0.637713854283272,
          -0.03454556326127818,
          0.7796925569817367,
          -1.4423716042022108,
          -2.5845985787359163,
          0.6619539111661311,
          -0.687009387052393,
          -0.07904947689258264,
          0.05497583547432276,
          -0.1251154272973603,
          1.4799840842985588,
          0.4823254913863216,
          -2.280333653758334,
          -0.7687965123125058,
          -1.9305826565370234,
          1.2028531218309138,
          0.11759314103585028,
          0.8219103216225514,
          -1.0600425527288615,
          -0.7924098829680032,
          0.591057506448477,
          0.010539468688751144,
          0.587916797008021,
          0.5345565463711455,
          0.23953843637909966,
          -1.3486453781610805,
          1.4539031141605863,
          -0.7434505578041772,
          -0.06974790232731734,
          -1.3438280814154056,
          0.15028835356929468,
          -0.10287723292446797,
          0.5337958367766493,
          -1.7910145450870145,
          -0.3528093066466839,
          0.28483534146724776,
          -0.2376793634250966,
          -1.1439375104416412,
          -1.6773681066280623,
          1.8838782542672348,
          1.0028758404607157,
          1.019052841097029,
          0.30651768295595916,
          0.4025551526198797,
          -0.8905919688553369,
          -1.382874757587919,
          -0.6816436627196745,
          0.03878334506085071,
          -1.3612397104403606,
          0.3197604660731154,
          -2.538319364008003,
          -1.2091878447993685,
          -0.5249346013368914,
          0.6692146290182188,
          -0.11840123236465151,
          0.8525194553867952,
          -0.6035975956715631,
          0.4283480479109968,
          0.9101749092891146,
          -0.8864024726325933,
          0.7775503744458712,
          -0.3116906590586294,
          -0.0789741170722278,
          -0.46571660288813044,
          -0.7366408087817952,
          -0.34057771638209616,
          1.4270333479578556,
          -0.0685312876711088,
          -2.590989928710988,
          0.54533421224908,
          -0.9316184663461683,
          -0.3357877632399068,
          -1.1004430354999835,
          -1.5112832772747995,
          0.9233033997807208,
          0.9248042476413013,
          0.23712657682615962,
          -1.7926116956644673,
          0.8262882219580409,
          0.41308190167379377,
          0.20507635069705696,
          1.1372928682815537,
          0.19672852705318208,
          1.032022543036123,
          -0.8498915495743655,
          -0.38007228545542127,
          -1.9829304093355187,
          0.05455520904456543,
          0.45889417897813106,
          -0.14456383999886627
         ]
        }
       ],
       "layout": {
        "barmode": "overlay",
        "legend": {
         "bgcolor": "#F5F6F9",
         "font": {
          "color": "#4D5663"
         }
        },
        "paper_bgcolor": "#F5F6F9",
        "plot_bgcolor": "#F5F6F9",
        "template": {
         "data": {
          "bar": [
           {
            "error_x": {
             "color": "#2a3f5f"
            },
            "error_y": {
             "color": "#2a3f5f"
            },
            "marker": {
             "line": {
              "color": "#E5ECF6",
              "width": 0.5
             },
             "pattern": {
              "fillmode": "overlay",
              "size": 10,
              "solidity": 0.2
             }
            },
            "type": "bar"
           }
          ],
          "barpolar": [
           {
            "marker": {
             "line": {
              "color": "#E5ECF6",
              "width": 0.5
             },
             "pattern": {
              "fillmode": "overlay",
              "size": 10,
              "solidity": 0.2
             }
            },
            "type": "barpolar"
           }
          ],
          "carpet": [
           {
            "aaxis": {
             "endlinecolor": "#2a3f5f",
             "gridcolor": "white",
             "linecolor": "white",
             "minorgridcolor": "white",
             "startlinecolor": "#2a3f5f"
            },
            "baxis": {
             "endlinecolor": "#2a3f5f",
             "gridcolor": "white",
             "linecolor": "white",
             "minorgridcolor": "white",
             "startlinecolor": "#2a3f5f"
            },
            "type": "carpet"
           }
          ],
          "choropleth": [
           {
            "colorbar": {
             "outlinewidth": 0,
             "ticks": ""
            },
            "type": "choropleth"
           }
          ],
          "contour": [
           {
            "colorbar": {
             "outlinewidth": 0,
             "ticks": ""
            },
            "colorscale": [
             [
              0,
              "#0d0887"
             ],
             [
              0.1111111111111111,
              "#46039f"
             ],
             [
              0.2222222222222222,
              "#7201a8"
             ],
             [
              0.3333333333333333,
              "#9c179e"
             ],
             [
              0.4444444444444444,
              "#bd3786"
             ],
             [
              0.5555555555555556,
              "#d8576b"
             ],
             [
              0.6666666666666666,
              "#ed7953"
             ],
             [
              0.7777777777777778,
              "#fb9f3a"
             ],
             [
              0.8888888888888888,
              "#fdca26"
             ],
             [
              1,
              "#f0f921"
             ]
            ],
            "type": "contour"
           }
          ],
          "contourcarpet": [
           {
            "colorbar": {
             "outlinewidth": 0,
             "ticks": ""
            },
            "type": "contourcarpet"
           }
          ],
          "heatmap": [
           {
            "colorbar": {
             "outlinewidth": 0,
             "ticks": ""
            },
            "colorscale": [
             [
              0,
              "#0d0887"
             ],
             [
              0.1111111111111111,
              "#46039f"
             ],
             [
              0.2222222222222222,
              "#7201a8"
             ],
             [
              0.3333333333333333,
              "#9c179e"
             ],
             [
              0.4444444444444444,
              "#bd3786"
             ],
             [
              0.5555555555555556,
              "#d8576b"
             ],
             [
              0.6666666666666666,
              "#ed7953"
             ],
             [
              0.7777777777777778,
              "#fb9f3a"
             ],
             [
              0.8888888888888888,
              "#fdca26"
             ],
             [
              1,
              "#f0f921"
             ]
            ],
            "type": "heatmap"
           }
          ],
          "heatmapgl": [
           {
            "colorbar": {
             "outlinewidth": 0,
             "ticks": ""
            },
            "colorscale": [
             [
              0,
              "#0d0887"
             ],
             [
              0.1111111111111111,
              "#46039f"
             ],
             [
              0.2222222222222222,
              "#7201a8"
             ],
             [
              0.3333333333333333,
              "#9c179e"
             ],
             [
              0.4444444444444444,
              "#bd3786"
             ],
             [
              0.5555555555555556,
              "#d8576b"
             ],
             [
              0.6666666666666666,
              "#ed7953"
             ],
             [
              0.7777777777777778,
              "#fb9f3a"
             ],
             [
              0.8888888888888888,
              "#fdca26"
             ],
             [
              1,
              "#f0f921"
             ]
            ],
            "type": "heatmapgl"
           }
          ],
          "histogram": [
           {
            "marker": {
             "pattern": {
              "fillmode": "overlay",
              "size": 10,
              "solidity": 0.2
             }
            },
            "type": "histogram"
           }
          ],
          "histogram2d": [
           {
            "colorbar": {
             "outlinewidth": 0,
             "ticks": ""
            },
            "colorscale": [
             [
              0,
              "#0d0887"
             ],
             [
              0.1111111111111111,
              "#46039f"
             ],
             [
              0.2222222222222222,
              "#7201a8"
             ],
             [
              0.3333333333333333,
              "#9c179e"
             ],
             [
              0.4444444444444444,
              "#bd3786"
             ],
             [
              0.5555555555555556,
              "#d8576b"
             ],
             [
              0.6666666666666666,
              "#ed7953"
             ],
             [
              0.7777777777777778,
              "#fb9f3a"
             ],
             [
              0.8888888888888888,
              "#fdca26"
             ],
             [
              1,
              "#f0f921"
             ]
            ],
            "type": "histogram2d"
           }
          ],
          "histogram2dcontour": [
           {
            "colorbar": {
             "outlinewidth": 0,
             "ticks": ""
            },
            "colorscale": [
             [
              0,
              "#0d0887"
             ],
             [
              0.1111111111111111,
              "#46039f"
             ],
             [
              0.2222222222222222,
              "#7201a8"
             ],
             [
              0.3333333333333333,
              "#9c179e"
             ],
             [
              0.4444444444444444,
              "#bd3786"
             ],
             [
              0.5555555555555556,
              "#d8576b"
             ],
             [
              0.6666666666666666,
              "#ed7953"
             ],
             [
              0.7777777777777778,
              "#fb9f3a"
             ],
             [
              0.8888888888888888,
              "#fdca26"
             ],
             [
              1,
              "#f0f921"
             ]
            ],
            "type": "histogram2dcontour"
           }
          ],
          "mesh3d": [
           {
            "colorbar": {
             "outlinewidth": 0,
             "ticks": ""
            },
            "type": "mesh3d"
           }
          ],
          "parcoords": [
           {
            "line": {
             "colorbar": {
              "outlinewidth": 0,
              "ticks": ""
             }
            },
            "type": "parcoords"
           }
          ],
          "pie": [
           {
            "automargin": true,
            "type": "pie"
           }
          ],
          "scatter": [
           {
            "marker": {
             "colorbar": {
              "outlinewidth": 0,
              "ticks": ""
             }
            },
            "type": "scatter"
           }
          ],
          "scatter3d": [
           {
            "line": {
             "colorbar": {
              "outlinewidth": 0,
              "ticks": ""
             }
            },
            "marker": {
             "colorbar": {
              "outlinewidth": 0,
              "ticks": ""
             }
            },
            "type": "scatter3d"
           }
          ],
          "scattercarpet": [
           {
            "marker": {
             "colorbar": {
              "outlinewidth": 0,
              "ticks": ""
             }
            },
            "type": "scattercarpet"
           }
          ],
          "scattergeo": [
           {
            "marker": {
             "colorbar": {
              "outlinewidth": 0,
              "ticks": ""
             }
            },
            "type": "scattergeo"
           }
          ],
          "scattergl": [
           {
            "marker": {
             "colorbar": {
              "outlinewidth": 0,
              "ticks": ""
             }
            },
            "type": "scattergl"
           }
          ],
          "scattermapbox": [
           {
            "marker": {
             "colorbar": {
              "outlinewidth": 0,
              "ticks": ""
             }
            },
            "type": "scattermapbox"
           }
          ],
          "scatterpolar": [
           {
            "marker": {
             "colorbar": {
              "outlinewidth": 0,
              "ticks": ""
             }
            },
            "type": "scatterpolar"
           }
          ],
          "scatterpolargl": [
           {
            "marker": {
             "colorbar": {
              "outlinewidth": 0,
              "ticks": ""
             }
            },
            "type": "scatterpolargl"
           }
          ],
          "scatterternary": [
           {
            "marker": {
             "colorbar": {
              "outlinewidth": 0,
              "ticks": ""
             }
            },
            "type": "scatterternary"
           }
          ],
          "surface": [
           {
            "colorbar": {
             "outlinewidth": 0,
             "ticks": ""
            },
            "colorscale": [
             [
              0,
              "#0d0887"
             ],
             [
              0.1111111111111111,
              "#46039f"
             ],
             [
              0.2222222222222222,
              "#7201a8"
             ],
             [
              0.3333333333333333,
              "#9c179e"
             ],
             [
              0.4444444444444444,
              "#bd3786"
             ],
             [
              0.5555555555555556,
              "#d8576b"
             ],
             [
              0.6666666666666666,
              "#ed7953"
             ],
             [
              0.7777777777777778,
              "#fb9f3a"
             ],
             [
              0.8888888888888888,
              "#fdca26"
             ],
             [
              1,
              "#f0f921"
             ]
            ],
            "type": "surface"
           }
          ],
          "table": [
           {
            "cells": {
             "fill": {
              "color": "#EBF0F8"
             },
             "line": {
              "color": "white"
             }
            },
            "header": {
             "fill": {
              "color": "#C8D4E3"
             },
             "line": {
              "color": "white"
             }
            },
            "type": "table"
           }
          ]
         },
         "layout": {
          "annotationdefaults": {
           "arrowcolor": "#2a3f5f",
           "arrowhead": 0,
           "arrowwidth": 1
          },
          "autotypenumbers": "strict",
          "coloraxis": {
           "colorbar": {
            "outlinewidth": 0,
            "ticks": ""
           }
          },
          "colorscale": {
           "diverging": [
            [
             0,
             "#8e0152"
            ],
            [
             0.1,
             "#c51b7d"
            ],
            [
             0.2,
             "#de77ae"
            ],
            [
             0.3,
             "#f1b6da"
            ],
            [
             0.4,
             "#fde0ef"
            ],
            [
             0.5,
             "#f7f7f7"
            ],
            [
             0.6,
             "#e6f5d0"
            ],
            [
             0.7,
             "#b8e186"
            ],
            [
             0.8,
             "#7fbc41"
            ],
            [
             0.9,
             "#4d9221"
            ],
            [
             1,
             "#276419"
            ]
           ],
           "sequential": [
            [
             0,
             "#0d0887"
            ],
            [
             0.1111111111111111,
             "#46039f"
            ],
            [
             0.2222222222222222,
             "#7201a8"
            ],
            [
             0.3333333333333333,
             "#9c179e"
            ],
            [
             0.4444444444444444,
             "#bd3786"
            ],
            [
             0.5555555555555556,
             "#d8576b"
            ],
            [
             0.6666666666666666,
             "#ed7953"
            ],
            [
             0.7777777777777778,
             "#fb9f3a"
            ],
            [
             0.8888888888888888,
             "#fdca26"
            ],
            [
             1,
             "#f0f921"
            ]
           ],
           "sequentialminus": [
            [
             0,
             "#0d0887"
            ],
            [
             0.1111111111111111,
             "#46039f"
            ],
            [
             0.2222222222222222,
             "#7201a8"
            ],
            [
             0.3333333333333333,
             "#9c179e"
            ],
            [
             0.4444444444444444,
             "#bd3786"
            ],
            [
             0.5555555555555556,
             "#d8576b"
            ],
            [
             0.6666666666666666,
             "#ed7953"
            ],
            [
             0.7777777777777778,
             "#fb9f3a"
            ],
            [
             0.8888888888888888,
             "#fdca26"
            ],
            [
             1,
             "#f0f921"
            ]
           ]
          },
          "colorway": [
           "#636efa",
           "#EF553B",
           "#00cc96",
           "#ab63fa",
           "#FFA15A",
           "#19d3f3",
           "#FF6692",
           "#B6E880",
           "#FF97FF",
           "#FECB52"
          ],
          "font": {
           "color": "#2a3f5f"
          },
          "geo": {
           "bgcolor": "white",
           "lakecolor": "white",
           "landcolor": "#E5ECF6",
           "showlakes": true,
           "showland": true,
           "subunitcolor": "white"
          },
          "hoverlabel": {
           "align": "left"
          },
          "hovermode": "closest",
          "mapbox": {
           "style": "light"
          },
          "paper_bgcolor": "white",
          "plot_bgcolor": "#E5ECF6",
          "polar": {
           "angularaxis": {
            "gridcolor": "white",
            "linecolor": "white",
            "ticks": ""
           },
           "bgcolor": "#E5ECF6",
           "radialaxis": {
            "gridcolor": "white",
            "linecolor": "white",
            "ticks": ""
           }
          },
          "scene": {
           "xaxis": {
            "backgroundcolor": "#E5ECF6",
            "gridcolor": "white",
            "gridwidth": 2,
            "linecolor": "white",
            "showbackground": true,
            "ticks": "",
            "zerolinecolor": "white"
           },
           "yaxis": {
            "backgroundcolor": "#E5ECF6",
            "gridcolor": "white",
            "gridwidth": 2,
            "linecolor": "white",
            "showbackground": true,
            "ticks": "",
            "zerolinecolor": "white"
           },
           "zaxis": {
            "backgroundcolor": "#E5ECF6",
            "gridcolor": "white",
            "gridwidth": 2,
            "linecolor": "white",
            "showbackground": true,
            "ticks": "",
            "zerolinecolor": "white"
           }
          },
          "shapedefaults": {
           "line": {
            "color": "#2a3f5f"
           }
          },
          "ternary": {
           "aaxis": {
            "gridcolor": "white",
            "linecolor": "white",
            "ticks": ""
           },
           "baxis": {
            "gridcolor": "white",
            "linecolor": "white",
            "ticks": ""
           },
           "bgcolor": "#E5ECF6",
           "caxis": {
            "gridcolor": "white",
            "linecolor": "white",
            "ticks": ""
           }
          },
          "title": {
           "x": 0.05
          },
          "xaxis": {
           "automargin": true,
           "gridcolor": "white",
           "linecolor": "white",
           "ticks": "",
           "title": {
            "standoff": 15
           },
           "zerolinecolor": "white",
           "zerolinewidth": 2
          },
          "yaxis": {
           "automargin": true,
           "gridcolor": "white",
           "linecolor": "white",
           "ticks": "",
           "title": {
            "standoff": 15
           },
           "zerolinecolor": "white",
           "zerolinewidth": 2
          }
         }
        },
        "title": {
         "font": {
          "color": "#4D5663"
         }
        },
        "xaxis": {
         "gridcolor": "#E1E5ED",
         "showgrid": true,
         "tickfont": {
          "color": "#4D5663"
         },
         "title": {
          "font": {
           "color": "#4D5663"
          },
          "text": ""
         },
         "zerolinecolor": "#E1E5ED"
        },
        "yaxis": {
         "gridcolor": "#E1E5ED",
         "showgrid": true,
         "tickfont": {
          "color": "#4D5663"
         },
         "title": {
          "font": {
           "color": "#4D5663"
          },
          "text": ""
         },
         "zerolinecolor": "#E1E5ED"
        }
       }
      },
      "text/html": [
       "<div>                            <div id=\"92cbee80-5126-4602-8077-9ba106af1f97\" class=\"plotly-graph-div\" style=\"height:525px; width:100%;\"></div>            <script type=\"text/javascript\">                require([\"plotly\"], function(Plotly) {                    window.PLOTLYENV=window.PLOTLYENV || {};\n",
       "                    window.PLOTLYENV.BASE_URL='https://plot.ly';                                    if (document.getElementById(\"92cbee80-5126-4602-8077-9ba106af1f97\")) {                    Plotly.newPlot(                        \"92cbee80-5126-4602-8077-9ba106af1f97\",                        [{\"histfunc\":\"count\",\"histnorm\":\"\",\"marker\":{\"color\":\"rgba(255, 153, 51, 1.0)\",\"line\":{\"color\":\"#4D5663\",\"width\":1.3}},\"name\":\"A\",\"opacity\":0.8,\"orientation\":\"v\",\"x\":[-0.3828792050443604,-0.8470899644257714,0.010194864370989333,0.7301852076151661,2.0209176306324363,-1.5003016962844402,1.3118946476906856,-0.19669756499513247,-0.9076690966885811,-0.3237404643459652,0.637713854283272,-0.03454556326127818,0.7796925569817367,-1.4423716042022108,-2.5845985787359163,0.6619539111661311,-0.687009387052393,-0.07904947689258264,0.05497583547432276,-0.1251154272973603,1.4799840842985588,0.4823254913863216,-2.280333653758334,-0.7687965123125058,-1.9305826565370234,1.2028531218309138,0.11759314103585028,0.8219103216225514,-1.0600425527288615,-0.7924098829680032,0.591057506448477,0.010539468688751144,0.587916797008021,0.5345565463711455,0.23953843637909966,-1.3486453781610805,1.4539031141605863,-0.7434505578041772,-0.06974790232731734,-1.3438280814154056,0.15028835356929468,-0.10287723292446797,0.5337958367766493,-1.7910145450870145,-0.3528093066466839,0.28483534146724776,-0.2376793634250966,-1.1439375104416412,-1.6773681066280623,1.8838782542672348,1.0028758404607157,1.019052841097029,0.30651768295595916,0.4025551526198797,-0.8905919688553369,-1.382874757587919,-0.6816436627196745,0.03878334506085071,-1.3612397104403606,0.3197604660731154,-2.538319364008003,-1.2091878447993685,-0.5249346013368914,0.6692146290182188,-0.11840123236465151,0.8525194553867952,-0.6035975956715631,0.4283480479109968,0.9101749092891146,-0.8864024726325933,0.7775503744458712,-0.3116906590586294,-0.0789741170722278,-0.46571660288813044,-0.7366408087817952,-0.34057771638209616,1.4270333479578556,-0.0685312876711088,-2.590989928710988,0.54533421224908,-0.9316184663461683,-0.3357877632399068,-1.1004430354999835,-1.5112832772747995,0.9233033997807208,0.9248042476413013,0.23712657682615962,-1.7926116956644673,0.8262882219580409,0.41308190167379377,0.20507635069705696,1.1372928682815537,0.19672852705318208,1.032022543036123,-0.8498915495743655,-0.38007228545542127,-1.9829304093355187,0.05455520904456543,0.45889417897813106,-0.14456383999886627],\"type\":\"histogram\"}],                        {\"barmode\":\"overlay\",\"legend\":{\"bgcolor\":\"#F5F6F9\",\"font\":{\"color\":\"#4D5663\"}},\"paper_bgcolor\":\"#F5F6F9\",\"plot_bgcolor\":\"#F5F6F9\",\"template\":{\"data\":{\"barpolar\":[{\"marker\":{\"line\":{\"color\":\"#E5ECF6\",\"width\":0.5},\"pattern\":{\"fillmode\":\"overlay\",\"size\":10,\"solidity\":0.2}},\"type\":\"barpolar\"}],\"bar\":[{\"error_x\":{\"color\":\"#2a3f5f\"},\"error_y\":{\"color\":\"#2a3f5f\"},\"marker\":{\"line\":{\"color\":\"#E5ECF6\",\"width\":0.5},\"pattern\":{\"fillmode\":\"overlay\",\"size\":10,\"solidity\":0.2}},\"type\":\"bar\"}],\"carpet\":[{\"aaxis\":{\"endlinecolor\":\"#2a3f5f\",\"gridcolor\":\"white\",\"linecolor\":\"white\",\"minorgridcolor\":\"white\",\"startlinecolor\":\"#2a3f5f\"},\"baxis\":{\"endlinecolor\":\"#2a3f5f\",\"gridcolor\":\"white\",\"linecolor\":\"white\",\"minorgridcolor\":\"white\",\"startlinecolor\":\"#2a3f5f\"},\"type\":\"carpet\"}],\"choropleth\":[{\"colorbar\":{\"outlinewidth\":0,\"ticks\":\"\"},\"type\":\"choropleth\"}],\"contourcarpet\":[{\"colorbar\":{\"outlinewidth\":0,\"ticks\":\"\"},\"type\":\"contourcarpet\"}],\"contour\":[{\"colorbar\":{\"outlinewidth\":0,\"ticks\":\"\"},\"colorscale\":[[0.0,\"#0d0887\"],[0.1111111111111111,\"#46039f\"],[0.2222222222222222,\"#7201a8\"],[0.3333333333333333,\"#9c179e\"],[0.4444444444444444,\"#bd3786\"],[0.5555555555555556,\"#d8576b\"],[0.6666666666666666,\"#ed7953\"],[0.7777777777777778,\"#fb9f3a\"],[0.8888888888888888,\"#fdca26\"],[1.0,\"#f0f921\"]],\"type\":\"contour\"}],\"heatmapgl\":[{\"colorbar\":{\"outlinewidth\":0,\"ticks\":\"\"},\"colorscale\":[[0.0,\"#0d0887\"],[0.1111111111111111,\"#46039f\"],[0.2222222222222222,\"#7201a8\"],[0.3333333333333333,\"#9c179e\"],[0.4444444444444444,\"#bd3786\"],[0.5555555555555556,\"#d8576b\"],[0.6666666666666666,\"#ed7953\"],[0.7777777777777778,\"#fb9f3a\"],[0.8888888888888888,\"#fdca26\"],[1.0,\"#f0f921\"]],\"type\":\"heatmapgl\"}],\"heatmap\":[{\"colorbar\":{\"outlinewidth\":0,\"ticks\":\"\"},\"colorscale\":[[0.0,\"#0d0887\"],[0.1111111111111111,\"#46039f\"],[0.2222222222222222,\"#7201a8\"],[0.3333333333333333,\"#9c179e\"],[0.4444444444444444,\"#bd3786\"],[0.5555555555555556,\"#d8576b\"],[0.6666666666666666,\"#ed7953\"],[0.7777777777777778,\"#fb9f3a\"],[0.8888888888888888,\"#fdca26\"],[1.0,\"#f0f921\"]],\"type\":\"heatmap\"}],\"histogram2dcontour\":[{\"colorbar\":{\"outlinewidth\":0,\"ticks\":\"\"},\"colorscale\":[[0.0,\"#0d0887\"],[0.1111111111111111,\"#46039f\"],[0.2222222222222222,\"#7201a8\"],[0.3333333333333333,\"#9c179e\"],[0.4444444444444444,\"#bd3786\"],[0.5555555555555556,\"#d8576b\"],[0.6666666666666666,\"#ed7953\"],[0.7777777777777778,\"#fb9f3a\"],[0.8888888888888888,\"#fdca26\"],[1.0,\"#f0f921\"]],\"type\":\"histogram2dcontour\"}],\"histogram2d\":[{\"colorbar\":{\"outlinewidth\":0,\"ticks\":\"\"},\"colorscale\":[[0.0,\"#0d0887\"],[0.1111111111111111,\"#46039f\"],[0.2222222222222222,\"#7201a8\"],[0.3333333333333333,\"#9c179e\"],[0.4444444444444444,\"#bd3786\"],[0.5555555555555556,\"#d8576b\"],[0.6666666666666666,\"#ed7953\"],[0.7777777777777778,\"#fb9f3a\"],[0.8888888888888888,\"#fdca26\"],[1.0,\"#f0f921\"]],\"type\":\"histogram2d\"}],\"histogram\":[{\"marker\":{\"pattern\":{\"fillmode\":\"overlay\",\"size\":10,\"solidity\":0.2}},\"type\":\"histogram\"}],\"mesh3d\":[{\"colorbar\":{\"outlinewidth\":0,\"ticks\":\"\"},\"type\":\"mesh3d\"}],\"parcoords\":[{\"line\":{\"colorbar\":{\"outlinewidth\":0,\"ticks\":\"\"}},\"type\":\"parcoords\"}],\"pie\":[{\"automargin\":true,\"type\":\"pie\"}],\"scatter3d\":[{\"line\":{\"colorbar\":{\"outlinewidth\":0,\"ticks\":\"\"}},\"marker\":{\"colorbar\":{\"outlinewidth\":0,\"ticks\":\"\"}},\"type\":\"scatter3d\"}],\"scattercarpet\":[{\"marker\":{\"colorbar\":{\"outlinewidth\":0,\"ticks\":\"\"}},\"type\":\"scattercarpet\"}],\"scattergeo\":[{\"marker\":{\"colorbar\":{\"outlinewidth\":0,\"ticks\":\"\"}},\"type\":\"scattergeo\"}],\"scattergl\":[{\"marker\":{\"colorbar\":{\"outlinewidth\":0,\"ticks\":\"\"}},\"type\":\"scattergl\"}],\"scattermapbox\":[{\"marker\":{\"colorbar\":{\"outlinewidth\":0,\"ticks\":\"\"}},\"type\":\"scattermapbox\"}],\"scatterpolargl\":[{\"marker\":{\"colorbar\":{\"outlinewidth\":0,\"ticks\":\"\"}},\"type\":\"scatterpolargl\"}],\"scatterpolar\":[{\"marker\":{\"colorbar\":{\"outlinewidth\":0,\"ticks\":\"\"}},\"type\":\"scatterpolar\"}],\"scatter\":[{\"marker\":{\"colorbar\":{\"outlinewidth\":0,\"ticks\":\"\"}},\"type\":\"scatter\"}],\"scatterternary\":[{\"marker\":{\"colorbar\":{\"outlinewidth\":0,\"ticks\":\"\"}},\"type\":\"scatterternary\"}],\"surface\":[{\"colorbar\":{\"outlinewidth\":0,\"ticks\":\"\"},\"colorscale\":[[0.0,\"#0d0887\"],[0.1111111111111111,\"#46039f\"],[0.2222222222222222,\"#7201a8\"],[0.3333333333333333,\"#9c179e\"],[0.4444444444444444,\"#bd3786\"],[0.5555555555555556,\"#d8576b\"],[0.6666666666666666,\"#ed7953\"],[0.7777777777777778,\"#fb9f3a\"],[0.8888888888888888,\"#fdca26\"],[1.0,\"#f0f921\"]],\"type\":\"surface\"}],\"table\":[{\"cells\":{\"fill\":{\"color\":\"#EBF0F8\"},\"line\":{\"color\":\"white\"}},\"header\":{\"fill\":{\"color\":\"#C8D4E3\"},\"line\":{\"color\":\"white\"}},\"type\":\"table\"}]},\"layout\":{\"annotationdefaults\":{\"arrowcolor\":\"#2a3f5f\",\"arrowhead\":0,\"arrowwidth\":1},\"autotypenumbers\":\"strict\",\"coloraxis\":{\"colorbar\":{\"outlinewidth\":0,\"ticks\":\"\"}},\"colorscale\":{\"diverging\":[[0,\"#8e0152\"],[0.1,\"#c51b7d\"],[0.2,\"#de77ae\"],[0.3,\"#f1b6da\"],[0.4,\"#fde0ef\"],[0.5,\"#f7f7f7\"],[0.6,\"#e6f5d0\"],[0.7,\"#b8e186\"],[0.8,\"#7fbc41\"],[0.9,\"#4d9221\"],[1,\"#276419\"]],\"sequential\":[[0.0,\"#0d0887\"],[0.1111111111111111,\"#46039f\"],[0.2222222222222222,\"#7201a8\"],[0.3333333333333333,\"#9c179e\"],[0.4444444444444444,\"#bd3786\"],[0.5555555555555556,\"#d8576b\"],[0.6666666666666666,\"#ed7953\"],[0.7777777777777778,\"#fb9f3a\"],[0.8888888888888888,\"#fdca26\"],[1.0,\"#f0f921\"]],\"sequentialminus\":[[0.0,\"#0d0887\"],[0.1111111111111111,\"#46039f\"],[0.2222222222222222,\"#7201a8\"],[0.3333333333333333,\"#9c179e\"],[0.4444444444444444,\"#bd3786\"],[0.5555555555555556,\"#d8576b\"],[0.6666666666666666,\"#ed7953\"],[0.7777777777777778,\"#fb9f3a\"],[0.8888888888888888,\"#fdca26\"],[1.0,\"#f0f921\"]]},\"colorway\":[\"#636efa\",\"#EF553B\",\"#00cc96\",\"#ab63fa\",\"#FFA15A\",\"#19d3f3\",\"#FF6692\",\"#B6E880\",\"#FF97FF\",\"#FECB52\"],\"font\":{\"color\":\"#2a3f5f\"},\"geo\":{\"bgcolor\":\"white\",\"lakecolor\":\"white\",\"landcolor\":\"#E5ECF6\",\"showlakes\":true,\"showland\":true,\"subunitcolor\":\"white\"},\"hoverlabel\":{\"align\":\"left\"},\"hovermode\":\"closest\",\"mapbox\":{\"style\":\"light\"},\"paper_bgcolor\":\"white\",\"plot_bgcolor\":\"#E5ECF6\",\"polar\":{\"angularaxis\":{\"gridcolor\":\"white\",\"linecolor\":\"white\",\"ticks\":\"\"},\"bgcolor\":\"#E5ECF6\",\"radialaxis\":{\"gridcolor\":\"white\",\"linecolor\":\"white\",\"ticks\":\"\"}},\"scene\":{\"xaxis\":{\"backgroundcolor\":\"#E5ECF6\",\"gridcolor\":\"white\",\"gridwidth\":2,\"linecolor\":\"white\",\"showbackground\":true,\"ticks\":\"\",\"zerolinecolor\":\"white\"},\"yaxis\":{\"backgroundcolor\":\"#E5ECF6\",\"gridcolor\":\"white\",\"gridwidth\":2,\"linecolor\":\"white\",\"showbackground\":true,\"ticks\":\"\",\"zerolinecolor\":\"white\"},\"zaxis\":{\"backgroundcolor\":\"#E5ECF6\",\"gridcolor\":\"white\",\"gridwidth\":2,\"linecolor\":\"white\",\"showbackground\":true,\"ticks\":\"\",\"zerolinecolor\":\"white\"}},\"shapedefaults\":{\"line\":{\"color\":\"#2a3f5f\"}},\"ternary\":{\"aaxis\":{\"gridcolor\":\"white\",\"linecolor\":\"white\",\"ticks\":\"\"},\"baxis\":{\"gridcolor\":\"white\",\"linecolor\":\"white\",\"ticks\":\"\"},\"bgcolor\":\"#E5ECF6\",\"caxis\":{\"gridcolor\":\"white\",\"linecolor\":\"white\",\"ticks\":\"\"}},\"title\":{\"x\":0.05},\"xaxis\":{\"automargin\":true,\"gridcolor\":\"white\",\"linecolor\":\"white\",\"ticks\":\"\",\"title\":{\"standoff\":15},\"zerolinecolor\":\"white\",\"zerolinewidth\":2},\"yaxis\":{\"automargin\":true,\"gridcolor\":\"white\",\"linecolor\":\"white\",\"ticks\":\"\",\"title\":{\"standoff\":15},\"zerolinecolor\":\"white\",\"zerolinewidth\":2}}},\"title\":{\"font\":{\"color\":\"#4D5663\"}},\"xaxis\":{\"gridcolor\":\"#E1E5ED\",\"showgrid\":true,\"tickfont\":{\"color\":\"#4D5663\"},\"title\":{\"font\":{\"color\":\"#4D5663\"},\"text\":\"\"},\"zerolinecolor\":\"#E1E5ED\"},\"yaxis\":{\"gridcolor\":\"#E1E5ED\",\"showgrid\":true,\"tickfont\":{\"color\":\"#4D5663\"},\"title\":{\"font\":{\"color\":\"#4D5663\"},\"text\":\"\"},\"zerolinecolor\":\"#E1E5ED\"}},                        {\"showLink\": true, \"linkText\": \"Export to plot.ly\", \"plotlyServerURL\": \"https://plot.ly\", \"responsive\": true}                    ).then(function(){\n",
       "                            \n",
       "var gd = document.getElementById('92cbee80-5126-4602-8077-9ba106af1f97');\n",
       "var x = new MutationObserver(function (mutations, observer) {{\n",
       "        var display = window.getComputedStyle(gd).display;\n",
       "        if (!display || display === 'none') {{\n",
       "            console.log([gd, 'removed!']);\n",
       "            Plotly.purge(gd);\n",
       "            observer.disconnect();\n",
       "        }}\n",
       "}});\n",
       "\n",
       "// Listen for the removal of the full notebook cells\n",
       "var notebookContainer = gd.closest('#notebook-container');\n",
       "if (notebookContainer) {{\n",
       "    x.observe(notebookContainer, {childList: true});\n",
       "}}\n",
       "\n",
       "// Listen for the clearing of the current output cell\n",
       "var outputEl = gd.closest('.output');\n",
       "if (outputEl) {{\n",
       "    x.observe(outputEl, {childList: true});\n",
       "}}\n",
       "\n",
       "                        })                };                });            </script>        </div>"
      ]
     },
     "metadata": {},
     "output_type": "display_data"
    }
   ],
   "source": [
    "df1['A'].iplot(kind='hist')"
   ]
  },
  {
   "cell_type": "code",
   "execution_count": 28,
   "id": "e32c66aa",
   "metadata": {},
   "outputs": [
    {
     "data": {
      "application/vnd.plotly.v1+json": {
       "config": {
        "linkText": "Export to plot.ly",
        "plotlyServerURL": "https://plot.ly",
        "showLink": true
       },
       "data": [
        {
         "histfunc": "count",
         "histnorm": "",
         "marker": {
          "color": "rgba(255, 153, 51, 1.0)",
          "line": {
           "color": "#4D5663",
           "width": 1.3
          }
         },
         "name": "A",
         "nbinsx": 50,
         "opacity": 0.8,
         "orientation": "v",
         "type": "histogram",
         "x": [
          -0.3828792050443604,
          -0.8470899644257714,
          0.010194864370989333,
          0.7301852076151661,
          2.0209176306324363,
          -1.5003016962844402,
          1.3118946476906856,
          -0.19669756499513247,
          -0.9076690966885811,
          -0.3237404643459652,
          0.637713854283272,
          -0.03454556326127818,
          0.7796925569817367,
          -1.4423716042022108,
          -2.5845985787359163,
          0.6619539111661311,
          -0.687009387052393,
          -0.07904947689258264,
          0.05497583547432276,
          -0.1251154272973603,
          1.4799840842985588,
          0.4823254913863216,
          -2.280333653758334,
          -0.7687965123125058,
          -1.9305826565370234,
          1.2028531218309138,
          0.11759314103585028,
          0.8219103216225514,
          -1.0600425527288615,
          -0.7924098829680032,
          0.591057506448477,
          0.010539468688751144,
          0.587916797008021,
          0.5345565463711455,
          0.23953843637909966,
          -1.3486453781610805,
          1.4539031141605863,
          -0.7434505578041772,
          -0.06974790232731734,
          -1.3438280814154056,
          0.15028835356929468,
          -0.10287723292446797,
          0.5337958367766493,
          -1.7910145450870145,
          -0.3528093066466839,
          0.28483534146724776,
          -0.2376793634250966,
          -1.1439375104416412,
          -1.6773681066280623,
          1.8838782542672348,
          1.0028758404607157,
          1.019052841097029,
          0.30651768295595916,
          0.4025551526198797,
          -0.8905919688553369,
          -1.382874757587919,
          -0.6816436627196745,
          0.03878334506085071,
          -1.3612397104403606,
          0.3197604660731154,
          -2.538319364008003,
          -1.2091878447993685,
          -0.5249346013368914,
          0.6692146290182188,
          -0.11840123236465151,
          0.8525194553867952,
          -0.6035975956715631,
          0.4283480479109968,
          0.9101749092891146,
          -0.8864024726325933,
          0.7775503744458712,
          -0.3116906590586294,
          -0.0789741170722278,
          -0.46571660288813044,
          -0.7366408087817952,
          -0.34057771638209616,
          1.4270333479578556,
          -0.0685312876711088,
          -2.590989928710988,
          0.54533421224908,
          -0.9316184663461683,
          -0.3357877632399068,
          -1.1004430354999835,
          -1.5112832772747995,
          0.9233033997807208,
          0.9248042476413013,
          0.23712657682615962,
          -1.7926116956644673,
          0.8262882219580409,
          0.41308190167379377,
          0.20507635069705696,
          1.1372928682815537,
          0.19672852705318208,
          1.032022543036123,
          -0.8498915495743655,
          -0.38007228545542127,
          -1.9829304093355187,
          0.05455520904456543,
          0.45889417897813106,
          -0.14456383999886627
         ]
        }
       ],
       "layout": {
        "barmode": "overlay",
        "legend": {
         "bgcolor": "#F5F6F9",
         "font": {
          "color": "#4D5663"
         }
        },
        "paper_bgcolor": "#F5F6F9",
        "plot_bgcolor": "#F5F6F9",
        "template": {
         "data": {
          "bar": [
           {
            "error_x": {
             "color": "#2a3f5f"
            },
            "error_y": {
             "color": "#2a3f5f"
            },
            "marker": {
             "line": {
              "color": "#E5ECF6",
              "width": 0.5
             },
             "pattern": {
              "fillmode": "overlay",
              "size": 10,
              "solidity": 0.2
             }
            },
            "type": "bar"
           }
          ],
          "barpolar": [
           {
            "marker": {
             "line": {
              "color": "#E5ECF6",
              "width": 0.5
             },
             "pattern": {
              "fillmode": "overlay",
              "size": 10,
              "solidity": 0.2
             }
            },
            "type": "barpolar"
           }
          ],
          "carpet": [
           {
            "aaxis": {
             "endlinecolor": "#2a3f5f",
             "gridcolor": "white",
             "linecolor": "white",
             "minorgridcolor": "white",
             "startlinecolor": "#2a3f5f"
            },
            "baxis": {
             "endlinecolor": "#2a3f5f",
             "gridcolor": "white",
             "linecolor": "white",
             "minorgridcolor": "white",
             "startlinecolor": "#2a3f5f"
            },
            "type": "carpet"
           }
          ],
          "choropleth": [
           {
            "colorbar": {
             "outlinewidth": 0,
             "ticks": ""
            },
            "type": "choropleth"
           }
          ],
          "contour": [
           {
            "colorbar": {
             "outlinewidth": 0,
             "ticks": ""
            },
            "colorscale": [
             [
              0,
              "#0d0887"
             ],
             [
              0.1111111111111111,
              "#46039f"
             ],
             [
              0.2222222222222222,
              "#7201a8"
             ],
             [
              0.3333333333333333,
              "#9c179e"
             ],
             [
              0.4444444444444444,
              "#bd3786"
             ],
             [
              0.5555555555555556,
              "#d8576b"
             ],
             [
              0.6666666666666666,
              "#ed7953"
             ],
             [
              0.7777777777777778,
              "#fb9f3a"
             ],
             [
              0.8888888888888888,
              "#fdca26"
             ],
             [
              1,
              "#f0f921"
             ]
            ],
            "type": "contour"
           }
          ],
          "contourcarpet": [
           {
            "colorbar": {
             "outlinewidth": 0,
             "ticks": ""
            },
            "type": "contourcarpet"
           }
          ],
          "heatmap": [
           {
            "colorbar": {
             "outlinewidth": 0,
             "ticks": ""
            },
            "colorscale": [
             [
              0,
              "#0d0887"
             ],
             [
              0.1111111111111111,
              "#46039f"
             ],
             [
              0.2222222222222222,
              "#7201a8"
             ],
             [
              0.3333333333333333,
              "#9c179e"
             ],
             [
              0.4444444444444444,
              "#bd3786"
             ],
             [
              0.5555555555555556,
              "#d8576b"
             ],
             [
              0.6666666666666666,
              "#ed7953"
             ],
             [
              0.7777777777777778,
              "#fb9f3a"
             ],
             [
              0.8888888888888888,
              "#fdca26"
             ],
             [
              1,
              "#f0f921"
             ]
            ],
            "type": "heatmap"
           }
          ],
          "heatmapgl": [
           {
            "colorbar": {
             "outlinewidth": 0,
             "ticks": ""
            },
            "colorscale": [
             [
              0,
              "#0d0887"
             ],
             [
              0.1111111111111111,
              "#46039f"
             ],
             [
              0.2222222222222222,
              "#7201a8"
             ],
             [
              0.3333333333333333,
              "#9c179e"
             ],
             [
              0.4444444444444444,
              "#bd3786"
             ],
             [
              0.5555555555555556,
              "#d8576b"
             ],
             [
              0.6666666666666666,
              "#ed7953"
             ],
             [
              0.7777777777777778,
              "#fb9f3a"
             ],
             [
              0.8888888888888888,
              "#fdca26"
             ],
             [
              1,
              "#f0f921"
             ]
            ],
            "type": "heatmapgl"
           }
          ],
          "histogram": [
           {
            "marker": {
             "pattern": {
              "fillmode": "overlay",
              "size": 10,
              "solidity": 0.2
             }
            },
            "type": "histogram"
           }
          ],
          "histogram2d": [
           {
            "colorbar": {
             "outlinewidth": 0,
             "ticks": ""
            },
            "colorscale": [
             [
              0,
              "#0d0887"
             ],
             [
              0.1111111111111111,
              "#46039f"
             ],
             [
              0.2222222222222222,
              "#7201a8"
             ],
             [
              0.3333333333333333,
              "#9c179e"
             ],
             [
              0.4444444444444444,
              "#bd3786"
             ],
             [
              0.5555555555555556,
              "#d8576b"
             ],
             [
              0.6666666666666666,
              "#ed7953"
             ],
             [
              0.7777777777777778,
              "#fb9f3a"
             ],
             [
              0.8888888888888888,
              "#fdca26"
             ],
             [
              1,
              "#f0f921"
             ]
            ],
            "type": "histogram2d"
           }
          ],
          "histogram2dcontour": [
           {
            "colorbar": {
             "outlinewidth": 0,
             "ticks": ""
            },
            "colorscale": [
             [
              0,
              "#0d0887"
             ],
             [
              0.1111111111111111,
              "#46039f"
             ],
             [
              0.2222222222222222,
              "#7201a8"
             ],
             [
              0.3333333333333333,
              "#9c179e"
             ],
             [
              0.4444444444444444,
              "#bd3786"
             ],
             [
              0.5555555555555556,
              "#d8576b"
             ],
             [
              0.6666666666666666,
              "#ed7953"
             ],
             [
              0.7777777777777778,
              "#fb9f3a"
             ],
             [
              0.8888888888888888,
              "#fdca26"
             ],
             [
              1,
              "#f0f921"
             ]
            ],
            "type": "histogram2dcontour"
           }
          ],
          "mesh3d": [
           {
            "colorbar": {
             "outlinewidth": 0,
             "ticks": ""
            },
            "type": "mesh3d"
           }
          ],
          "parcoords": [
           {
            "line": {
             "colorbar": {
              "outlinewidth": 0,
              "ticks": ""
             }
            },
            "type": "parcoords"
           }
          ],
          "pie": [
           {
            "automargin": true,
            "type": "pie"
           }
          ],
          "scatter": [
           {
            "marker": {
             "colorbar": {
              "outlinewidth": 0,
              "ticks": ""
             }
            },
            "type": "scatter"
           }
          ],
          "scatter3d": [
           {
            "line": {
             "colorbar": {
              "outlinewidth": 0,
              "ticks": ""
             }
            },
            "marker": {
             "colorbar": {
              "outlinewidth": 0,
              "ticks": ""
             }
            },
            "type": "scatter3d"
           }
          ],
          "scattercarpet": [
           {
            "marker": {
             "colorbar": {
              "outlinewidth": 0,
              "ticks": ""
             }
            },
            "type": "scattercarpet"
           }
          ],
          "scattergeo": [
           {
            "marker": {
             "colorbar": {
              "outlinewidth": 0,
              "ticks": ""
             }
            },
            "type": "scattergeo"
           }
          ],
          "scattergl": [
           {
            "marker": {
             "colorbar": {
              "outlinewidth": 0,
              "ticks": ""
             }
            },
            "type": "scattergl"
           }
          ],
          "scattermapbox": [
           {
            "marker": {
             "colorbar": {
              "outlinewidth": 0,
              "ticks": ""
             }
            },
            "type": "scattermapbox"
           }
          ],
          "scatterpolar": [
           {
            "marker": {
             "colorbar": {
              "outlinewidth": 0,
              "ticks": ""
             }
            },
            "type": "scatterpolar"
           }
          ],
          "scatterpolargl": [
           {
            "marker": {
             "colorbar": {
              "outlinewidth": 0,
              "ticks": ""
             }
            },
            "type": "scatterpolargl"
           }
          ],
          "scatterternary": [
           {
            "marker": {
             "colorbar": {
              "outlinewidth": 0,
              "ticks": ""
             }
            },
            "type": "scatterternary"
           }
          ],
          "surface": [
           {
            "colorbar": {
             "outlinewidth": 0,
             "ticks": ""
            },
            "colorscale": [
             [
              0,
              "#0d0887"
             ],
             [
              0.1111111111111111,
              "#46039f"
             ],
             [
              0.2222222222222222,
              "#7201a8"
             ],
             [
              0.3333333333333333,
              "#9c179e"
             ],
             [
              0.4444444444444444,
              "#bd3786"
             ],
             [
              0.5555555555555556,
              "#d8576b"
             ],
             [
              0.6666666666666666,
              "#ed7953"
             ],
             [
              0.7777777777777778,
              "#fb9f3a"
             ],
             [
              0.8888888888888888,
              "#fdca26"
             ],
             [
              1,
              "#f0f921"
             ]
            ],
            "type": "surface"
           }
          ],
          "table": [
           {
            "cells": {
             "fill": {
              "color": "#EBF0F8"
             },
             "line": {
              "color": "white"
             }
            },
            "header": {
             "fill": {
              "color": "#C8D4E3"
             },
             "line": {
              "color": "white"
             }
            },
            "type": "table"
           }
          ]
         },
         "layout": {
          "annotationdefaults": {
           "arrowcolor": "#2a3f5f",
           "arrowhead": 0,
           "arrowwidth": 1
          },
          "autotypenumbers": "strict",
          "coloraxis": {
           "colorbar": {
            "outlinewidth": 0,
            "ticks": ""
           }
          },
          "colorscale": {
           "diverging": [
            [
             0,
             "#8e0152"
            ],
            [
             0.1,
             "#c51b7d"
            ],
            [
             0.2,
             "#de77ae"
            ],
            [
             0.3,
             "#f1b6da"
            ],
            [
             0.4,
             "#fde0ef"
            ],
            [
             0.5,
             "#f7f7f7"
            ],
            [
             0.6,
             "#e6f5d0"
            ],
            [
             0.7,
             "#b8e186"
            ],
            [
             0.8,
             "#7fbc41"
            ],
            [
             0.9,
             "#4d9221"
            ],
            [
             1,
             "#276419"
            ]
           ],
           "sequential": [
            [
             0,
             "#0d0887"
            ],
            [
             0.1111111111111111,
             "#46039f"
            ],
            [
             0.2222222222222222,
             "#7201a8"
            ],
            [
             0.3333333333333333,
             "#9c179e"
            ],
            [
             0.4444444444444444,
             "#bd3786"
            ],
            [
             0.5555555555555556,
             "#d8576b"
            ],
            [
             0.6666666666666666,
             "#ed7953"
            ],
            [
             0.7777777777777778,
             "#fb9f3a"
            ],
            [
             0.8888888888888888,
             "#fdca26"
            ],
            [
             1,
             "#f0f921"
            ]
           ],
           "sequentialminus": [
            [
             0,
             "#0d0887"
            ],
            [
             0.1111111111111111,
             "#46039f"
            ],
            [
             0.2222222222222222,
             "#7201a8"
            ],
            [
             0.3333333333333333,
             "#9c179e"
            ],
            [
             0.4444444444444444,
             "#bd3786"
            ],
            [
             0.5555555555555556,
             "#d8576b"
            ],
            [
             0.6666666666666666,
             "#ed7953"
            ],
            [
             0.7777777777777778,
             "#fb9f3a"
            ],
            [
             0.8888888888888888,
             "#fdca26"
            ],
            [
             1,
             "#f0f921"
            ]
           ]
          },
          "colorway": [
           "#636efa",
           "#EF553B",
           "#00cc96",
           "#ab63fa",
           "#FFA15A",
           "#19d3f3",
           "#FF6692",
           "#B6E880",
           "#FF97FF",
           "#FECB52"
          ],
          "font": {
           "color": "#2a3f5f"
          },
          "geo": {
           "bgcolor": "white",
           "lakecolor": "white",
           "landcolor": "#E5ECF6",
           "showlakes": true,
           "showland": true,
           "subunitcolor": "white"
          },
          "hoverlabel": {
           "align": "left"
          },
          "hovermode": "closest",
          "mapbox": {
           "style": "light"
          },
          "paper_bgcolor": "white",
          "plot_bgcolor": "#E5ECF6",
          "polar": {
           "angularaxis": {
            "gridcolor": "white",
            "linecolor": "white",
            "ticks": ""
           },
           "bgcolor": "#E5ECF6",
           "radialaxis": {
            "gridcolor": "white",
            "linecolor": "white",
            "ticks": ""
           }
          },
          "scene": {
           "xaxis": {
            "backgroundcolor": "#E5ECF6",
            "gridcolor": "white",
            "gridwidth": 2,
            "linecolor": "white",
            "showbackground": true,
            "ticks": "",
            "zerolinecolor": "white"
           },
           "yaxis": {
            "backgroundcolor": "#E5ECF6",
            "gridcolor": "white",
            "gridwidth": 2,
            "linecolor": "white",
            "showbackground": true,
            "ticks": "",
            "zerolinecolor": "white"
           },
           "zaxis": {
            "backgroundcolor": "#E5ECF6",
            "gridcolor": "white",
            "gridwidth": 2,
            "linecolor": "white",
            "showbackground": true,
            "ticks": "",
            "zerolinecolor": "white"
           }
          },
          "shapedefaults": {
           "line": {
            "color": "#2a3f5f"
           }
          },
          "ternary": {
           "aaxis": {
            "gridcolor": "white",
            "linecolor": "white",
            "ticks": ""
           },
           "baxis": {
            "gridcolor": "white",
            "linecolor": "white",
            "ticks": ""
           },
           "bgcolor": "#E5ECF6",
           "caxis": {
            "gridcolor": "white",
            "linecolor": "white",
            "ticks": ""
           }
          },
          "title": {
           "x": 0.05
          },
          "xaxis": {
           "automargin": true,
           "gridcolor": "white",
           "linecolor": "white",
           "ticks": "",
           "title": {
            "standoff": 15
           },
           "zerolinecolor": "white",
           "zerolinewidth": 2
          },
          "yaxis": {
           "automargin": true,
           "gridcolor": "white",
           "linecolor": "white",
           "ticks": "",
           "title": {
            "standoff": 15
           },
           "zerolinecolor": "white",
           "zerolinewidth": 2
          }
         }
        },
        "title": {
         "font": {
          "color": "#4D5663"
         }
        },
        "xaxis": {
         "gridcolor": "#E1E5ED",
         "showgrid": true,
         "tickfont": {
          "color": "#4D5663"
         },
         "title": {
          "font": {
           "color": "#4D5663"
          },
          "text": ""
         },
         "zerolinecolor": "#E1E5ED"
        },
        "yaxis": {
         "gridcolor": "#E1E5ED",
         "showgrid": true,
         "tickfont": {
          "color": "#4D5663"
         },
         "title": {
          "font": {
           "color": "#4D5663"
          },
          "text": ""
         },
         "zerolinecolor": "#E1E5ED"
        }
       }
      },
      "text/html": [
       "<div>                            <div id=\"ae317bb2-cb0f-4f33-9a79-4f4e357dc24e\" class=\"plotly-graph-div\" style=\"height:525px; width:100%;\"></div>            <script type=\"text/javascript\">                require([\"plotly\"], function(Plotly) {                    window.PLOTLYENV=window.PLOTLYENV || {};\n",
       "                    window.PLOTLYENV.BASE_URL='https://plot.ly';                                    if (document.getElementById(\"ae317bb2-cb0f-4f33-9a79-4f4e357dc24e\")) {                    Plotly.newPlot(                        \"ae317bb2-cb0f-4f33-9a79-4f4e357dc24e\",                        [{\"histfunc\":\"count\",\"histnorm\":\"\",\"marker\":{\"color\":\"rgba(255, 153, 51, 1.0)\",\"line\":{\"color\":\"#4D5663\",\"width\":1.3}},\"name\":\"A\",\"nbinsx\":50,\"opacity\":0.8,\"orientation\":\"v\",\"x\":[-0.3828792050443604,-0.8470899644257714,0.010194864370989333,0.7301852076151661,2.0209176306324363,-1.5003016962844402,1.3118946476906856,-0.19669756499513247,-0.9076690966885811,-0.3237404643459652,0.637713854283272,-0.03454556326127818,0.7796925569817367,-1.4423716042022108,-2.5845985787359163,0.6619539111661311,-0.687009387052393,-0.07904947689258264,0.05497583547432276,-0.1251154272973603,1.4799840842985588,0.4823254913863216,-2.280333653758334,-0.7687965123125058,-1.9305826565370234,1.2028531218309138,0.11759314103585028,0.8219103216225514,-1.0600425527288615,-0.7924098829680032,0.591057506448477,0.010539468688751144,0.587916797008021,0.5345565463711455,0.23953843637909966,-1.3486453781610805,1.4539031141605863,-0.7434505578041772,-0.06974790232731734,-1.3438280814154056,0.15028835356929468,-0.10287723292446797,0.5337958367766493,-1.7910145450870145,-0.3528093066466839,0.28483534146724776,-0.2376793634250966,-1.1439375104416412,-1.6773681066280623,1.8838782542672348,1.0028758404607157,1.019052841097029,0.30651768295595916,0.4025551526198797,-0.8905919688553369,-1.382874757587919,-0.6816436627196745,0.03878334506085071,-1.3612397104403606,0.3197604660731154,-2.538319364008003,-1.2091878447993685,-0.5249346013368914,0.6692146290182188,-0.11840123236465151,0.8525194553867952,-0.6035975956715631,0.4283480479109968,0.9101749092891146,-0.8864024726325933,0.7775503744458712,-0.3116906590586294,-0.0789741170722278,-0.46571660288813044,-0.7366408087817952,-0.34057771638209616,1.4270333479578556,-0.0685312876711088,-2.590989928710988,0.54533421224908,-0.9316184663461683,-0.3357877632399068,-1.1004430354999835,-1.5112832772747995,0.9233033997807208,0.9248042476413013,0.23712657682615962,-1.7926116956644673,0.8262882219580409,0.41308190167379377,0.20507635069705696,1.1372928682815537,0.19672852705318208,1.032022543036123,-0.8498915495743655,-0.38007228545542127,-1.9829304093355187,0.05455520904456543,0.45889417897813106,-0.14456383999886627],\"type\":\"histogram\"}],                        {\"barmode\":\"overlay\",\"legend\":{\"bgcolor\":\"#F5F6F9\",\"font\":{\"color\":\"#4D5663\"}},\"paper_bgcolor\":\"#F5F6F9\",\"plot_bgcolor\":\"#F5F6F9\",\"template\":{\"data\":{\"barpolar\":[{\"marker\":{\"line\":{\"color\":\"#E5ECF6\",\"width\":0.5},\"pattern\":{\"fillmode\":\"overlay\",\"size\":10,\"solidity\":0.2}},\"type\":\"barpolar\"}],\"bar\":[{\"error_x\":{\"color\":\"#2a3f5f\"},\"error_y\":{\"color\":\"#2a3f5f\"},\"marker\":{\"line\":{\"color\":\"#E5ECF6\",\"width\":0.5},\"pattern\":{\"fillmode\":\"overlay\",\"size\":10,\"solidity\":0.2}},\"type\":\"bar\"}],\"carpet\":[{\"aaxis\":{\"endlinecolor\":\"#2a3f5f\",\"gridcolor\":\"white\",\"linecolor\":\"white\",\"minorgridcolor\":\"white\",\"startlinecolor\":\"#2a3f5f\"},\"baxis\":{\"endlinecolor\":\"#2a3f5f\",\"gridcolor\":\"white\",\"linecolor\":\"white\",\"minorgridcolor\":\"white\",\"startlinecolor\":\"#2a3f5f\"},\"type\":\"carpet\"}],\"choropleth\":[{\"colorbar\":{\"outlinewidth\":0,\"ticks\":\"\"},\"type\":\"choropleth\"}],\"contourcarpet\":[{\"colorbar\":{\"outlinewidth\":0,\"ticks\":\"\"},\"type\":\"contourcarpet\"}],\"contour\":[{\"colorbar\":{\"outlinewidth\":0,\"ticks\":\"\"},\"colorscale\":[[0.0,\"#0d0887\"],[0.1111111111111111,\"#46039f\"],[0.2222222222222222,\"#7201a8\"],[0.3333333333333333,\"#9c179e\"],[0.4444444444444444,\"#bd3786\"],[0.5555555555555556,\"#d8576b\"],[0.6666666666666666,\"#ed7953\"],[0.7777777777777778,\"#fb9f3a\"],[0.8888888888888888,\"#fdca26\"],[1.0,\"#f0f921\"]],\"type\":\"contour\"}],\"heatmapgl\":[{\"colorbar\":{\"outlinewidth\":0,\"ticks\":\"\"},\"colorscale\":[[0.0,\"#0d0887\"],[0.1111111111111111,\"#46039f\"],[0.2222222222222222,\"#7201a8\"],[0.3333333333333333,\"#9c179e\"],[0.4444444444444444,\"#bd3786\"],[0.5555555555555556,\"#d8576b\"],[0.6666666666666666,\"#ed7953\"],[0.7777777777777778,\"#fb9f3a\"],[0.8888888888888888,\"#fdca26\"],[1.0,\"#f0f921\"]],\"type\":\"heatmapgl\"}],\"heatmap\":[{\"colorbar\":{\"outlinewidth\":0,\"ticks\":\"\"},\"colorscale\":[[0.0,\"#0d0887\"],[0.1111111111111111,\"#46039f\"],[0.2222222222222222,\"#7201a8\"],[0.3333333333333333,\"#9c179e\"],[0.4444444444444444,\"#bd3786\"],[0.5555555555555556,\"#d8576b\"],[0.6666666666666666,\"#ed7953\"],[0.7777777777777778,\"#fb9f3a\"],[0.8888888888888888,\"#fdca26\"],[1.0,\"#f0f921\"]],\"type\":\"heatmap\"}],\"histogram2dcontour\":[{\"colorbar\":{\"outlinewidth\":0,\"ticks\":\"\"},\"colorscale\":[[0.0,\"#0d0887\"],[0.1111111111111111,\"#46039f\"],[0.2222222222222222,\"#7201a8\"],[0.3333333333333333,\"#9c179e\"],[0.4444444444444444,\"#bd3786\"],[0.5555555555555556,\"#d8576b\"],[0.6666666666666666,\"#ed7953\"],[0.7777777777777778,\"#fb9f3a\"],[0.8888888888888888,\"#fdca26\"],[1.0,\"#f0f921\"]],\"type\":\"histogram2dcontour\"}],\"histogram2d\":[{\"colorbar\":{\"outlinewidth\":0,\"ticks\":\"\"},\"colorscale\":[[0.0,\"#0d0887\"],[0.1111111111111111,\"#46039f\"],[0.2222222222222222,\"#7201a8\"],[0.3333333333333333,\"#9c179e\"],[0.4444444444444444,\"#bd3786\"],[0.5555555555555556,\"#d8576b\"],[0.6666666666666666,\"#ed7953\"],[0.7777777777777778,\"#fb9f3a\"],[0.8888888888888888,\"#fdca26\"],[1.0,\"#f0f921\"]],\"type\":\"histogram2d\"}],\"histogram\":[{\"marker\":{\"pattern\":{\"fillmode\":\"overlay\",\"size\":10,\"solidity\":0.2}},\"type\":\"histogram\"}],\"mesh3d\":[{\"colorbar\":{\"outlinewidth\":0,\"ticks\":\"\"},\"type\":\"mesh3d\"}],\"parcoords\":[{\"line\":{\"colorbar\":{\"outlinewidth\":0,\"ticks\":\"\"}},\"type\":\"parcoords\"}],\"pie\":[{\"automargin\":true,\"type\":\"pie\"}],\"scatter3d\":[{\"line\":{\"colorbar\":{\"outlinewidth\":0,\"ticks\":\"\"}},\"marker\":{\"colorbar\":{\"outlinewidth\":0,\"ticks\":\"\"}},\"type\":\"scatter3d\"}],\"scattercarpet\":[{\"marker\":{\"colorbar\":{\"outlinewidth\":0,\"ticks\":\"\"}},\"type\":\"scattercarpet\"}],\"scattergeo\":[{\"marker\":{\"colorbar\":{\"outlinewidth\":0,\"ticks\":\"\"}},\"type\":\"scattergeo\"}],\"scattergl\":[{\"marker\":{\"colorbar\":{\"outlinewidth\":0,\"ticks\":\"\"}},\"type\":\"scattergl\"}],\"scattermapbox\":[{\"marker\":{\"colorbar\":{\"outlinewidth\":0,\"ticks\":\"\"}},\"type\":\"scattermapbox\"}],\"scatterpolargl\":[{\"marker\":{\"colorbar\":{\"outlinewidth\":0,\"ticks\":\"\"}},\"type\":\"scatterpolargl\"}],\"scatterpolar\":[{\"marker\":{\"colorbar\":{\"outlinewidth\":0,\"ticks\":\"\"}},\"type\":\"scatterpolar\"}],\"scatter\":[{\"marker\":{\"colorbar\":{\"outlinewidth\":0,\"ticks\":\"\"}},\"type\":\"scatter\"}],\"scatterternary\":[{\"marker\":{\"colorbar\":{\"outlinewidth\":0,\"ticks\":\"\"}},\"type\":\"scatterternary\"}],\"surface\":[{\"colorbar\":{\"outlinewidth\":0,\"ticks\":\"\"},\"colorscale\":[[0.0,\"#0d0887\"],[0.1111111111111111,\"#46039f\"],[0.2222222222222222,\"#7201a8\"],[0.3333333333333333,\"#9c179e\"],[0.4444444444444444,\"#bd3786\"],[0.5555555555555556,\"#d8576b\"],[0.6666666666666666,\"#ed7953\"],[0.7777777777777778,\"#fb9f3a\"],[0.8888888888888888,\"#fdca26\"],[1.0,\"#f0f921\"]],\"type\":\"surface\"}],\"table\":[{\"cells\":{\"fill\":{\"color\":\"#EBF0F8\"},\"line\":{\"color\":\"white\"}},\"header\":{\"fill\":{\"color\":\"#C8D4E3\"},\"line\":{\"color\":\"white\"}},\"type\":\"table\"}]},\"layout\":{\"annotationdefaults\":{\"arrowcolor\":\"#2a3f5f\",\"arrowhead\":0,\"arrowwidth\":1},\"autotypenumbers\":\"strict\",\"coloraxis\":{\"colorbar\":{\"outlinewidth\":0,\"ticks\":\"\"}},\"colorscale\":{\"diverging\":[[0,\"#8e0152\"],[0.1,\"#c51b7d\"],[0.2,\"#de77ae\"],[0.3,\"#f1b6da\"],[0.4,\"#fde0ef\"],[0.5,\"#f7f7f7\"],[0.6,\"#e6f5d0\"],[0.7,\"#b8e186\"],[0.8,\"#7fbc41\"],[0.9,\"#4d9221\"],[1,\"#276419\"]],\"sequential\":[[0.0,\"#0d0887\"],[0.1111111111111111,\"#46039f\"],[0.2222222222222222,\"#7201a8\"],[0.3333333333333333,\"#9c179e\"],[0.4444444444444444,\"#bd3786\"],[0.5555555555555556,\"#d8576b\"],[0.6666666666666666,\"#ed7953\"],[0.7777777777777778,\"#fb9f3a\"],[0.8888888888888888,\"#fdca26\"],[1.0,\"#f0f921\"]],\"sequentialminus\":[[0.0,\"#0d0887\"],[0.1111111111111111,\"#46039f\"],[0.2222222222222222,\"#7201a8\"],[0.3333333333333333,\"#9c179e\"],[0.4444444444444444,\"#bd3786\"],[0.5555555555555556,\"#d8576b\"],[0.6666666666666666,\"#ed7953\"],[0.7777777777777778,\"#fb9f3a\"],[0.8888888888888888,\"#fdca26\"],[1.0,\"#f0f921\"]]},\"colorway\":[\"#636efa\",\"#EF553B\",\"#00cc96\",\"#ab63fa\",\"#FFA15A\",\"#19d3f3\",\"#FF6692\",\"#B6E880\",\"#FF97FF\",\"#FECB52\"],\"font\":{\"color\":\"#2a3f5f\"},\"geo\":{\"bgcolor\":\"white\",\"lakecolor\":\"white\",\"landcolor\":\"#E5ECF6\",\"showlakes\":true,\"showland\":true,\"subunitcolor\":\"white\"},\"hoverlabel\":{\"align\":\"left\"},\"hovermode\":\"closest\",\"mapbox\":{\"style\":\"light\"},\"paper_bgcolor\":\"white\",\"plot_bgcolor\":\"#E5ECF6\",\"polar\":{\"angularaxis\":{\"gridcolor\":\"white\",\"linecolor\":\"white\",\"ticks\":\"\"},\"bgcolor\":\"#E5ECF6\",\"radialaxis\":{\"gridcolor\":\"white\",\"linecolor\":\"white\",\"ticks\":\"\"}},\"scene\":{\"xaxis\":{\"backgroundcolor\":\"#E5ECF6\",\"gridcolor\":\"white\",\"gridwidth\":2,\"linecolor\":\"white\",\"showbackground\":true,\"ticks\":\"\",\"zerolinecolor\":\"white\"},\"yaxis\":{\"backgroundcolor\":\"#E5ECF6\",\"gridcolor\":\"white\",\"gridwidth\":2,\"linecolor\":\"white\",\"showbackground\":true,\"ticks\":\"\",\"zerolinecolor\":\"white\"},\"zaxis\":{\"backgroundcolor\":\"#E5ECF6\",\"gridcolor\":\"white\",\"gridwidth\":2,\"linecolor\":\"white\",\"showbackground\":true,\"ticks\":\"\",\"zerolinecolor\":\"white\"}},\"shapedefaults\":{\"line\":{\"color\":\"#2a3f5f\"}},\"ternary\":{\"aaxis\":{\"gridcolor\":\"white\",\"linecolor\":\"white\",\"ticks\":\"\"},\"baxis\":{\"gridcolor\":\"white\",\"linecolor\":\"white\",\"ticks\":\"\"},\"bgcolor\":\"#E5ECF6\",\"caxis\":{\"gridcolor\":\"white\",\"linecolor\":\"white\",\"ticks\":\"\"}},\"title\":{\"x\":0.05},\"xaxis\":{\"automargin\":true,\"gridcolor\":\"white\",\"linecolor\":\"white\",\"ticks\":\"\",\"title\":{\"standoff\":15},\"zerolinecolor\":\"white\",\"zerolinewidth\":2},\"yaxis\":{\"automargin\":true,\"gridcolor\":\"white\",\"linecolor\":\"white\",\"ticks\":\"\",\"title\":{\"standoff\":15},\"zerolinecolor\":\"white\",\"zerolinewidth\":2}}},\"title\":{\"font\":{\"color\":\"#4D5663\"}},\"xaxis\":{\"gridcolor\":\"#E1E5ED\",\"showgrid\":true,\"tickfont\":{\"color\":\"#4D5663\"},\"title\":{\"font\":{\"color\":\"#4D5663\"},\"text\":\"\"},\"zerolinecolor\":\"#E1E5ED\"},\"yaxis\":{\"gridcolor\":\"#E1E5ED\",\"showgrid\":true,\"tickfont\":{\"color\":\"#4D5663\"},\"title\":{\"font\":{\"color\":\"#4D5663\"},\"text\":\"\"},\"zerolinecolor\":\"#E1E5ED\"}},                        {\"showLink\": true, \"linkText\": \"Export to plot.ly\", \"plotlyServerURL\": \"https://plot.ly\", \"responsive\": true}                    ).then(function(){\n",
       "                            \n",
       "var gd = document.getElementById('ae317bb2-cb0f-4f33-9a79-4f4e357dc24e');\n",
       "var x = new MutationObserver(function (mutations, observer) {{\n",
       "        var display = window.getComputedStyle(gd).display;\n",
       "        if (!display || display === 'none') {{\n",
       "            console.log([gd, 'removed!']);\n",
       "            Plotly.purge(gd);\n",
       "            observer.disconnect();\n",
       "        }}\n",
       "}});\n",
       "\n",
       "// Listen for the removal of the full notebook cells\n",
       "var notebookContainer = gd.closest('#notebook-container');\n",
       "if (notebookContainer) {{\n",
       "    x.observe(notebookContainer, {childList: true});\n",
       "}}\n",
       "\n",
       "// Listen for the clearing of the current output cell\n",
       "var outputEl = gd.closest('.output');\n",
       "if (outputEl) {{\n",
       "    x.observe(outputEl, {childList: true});\n",
       "}}\n",
       "\n",
       "                        })                };                });            </script>        </div>"
      ]
     },
     "metadata": {},
     "output_type": "display_data"
    }
   ],
   "source": [
    "df1['A'].iplot(kind='hist', bins=50)"
   ]
  },
  {
   "cell_type": "code",
   "execution_count": 29,
   "id": "7e1ab290",
   "metadata": {},
   "outputs": [
    {
     "data": {
      "application/vnd.plotly.v1+json": {
       "config": {
        "linkText": "Export to plot.ly",
        "plotlyServerURL": "https://plot.ly",
        "showLink": true
       },
       "data": [
        {
         "histfunc": "count",
         "histnorm": "",
         "marker": {
          "color": "rgba(255, 153, 51, 1.0)",
          "line": {
           "color": "#4D5663",
           "width": 1.3
          }
         },
         "name": "A",
         "opacity": 0.8,
         "orientation": "v",
         "type": "histogram",
         "x": [
          -0.3828792050443604,
          -0.8470899644257714,
          0.010194864370989333,
          0.7301852076151661,
          2.0209176306324363,
          -1.5003016962844402,
          1.3118946476906856,
          -0.19669756499513247,
          -0.9076690966885811,
          -0.3237404643459652,
          0.637713854283272,
          -0.03454556326127818,
          0.7796925569817367,
          -1.4423716042022108,
          -2.5845985787359163,
          0.6619539111661311,
          -0.687009387052393,
          -0.07904947689258264,
          0.05497583547432276,
          -0.1251154272973603,
          1.4799840842985588,
          0.4823254913863216,
          -2.280333653758334,
          -0.7687965123125058,
          -1.9305826565370234,
          1.2028531218309138,
          0.11759314103585028,
          0.8219103216225514,
          -1.0600425527288615,
          -0.7924098829680032,
          0.591057506448477,
          0.010539468688751144,
          0.587916797008021,
          0.5345565463711455,
          0.23953843637909966,
          -1.3486453781610805,
          1.4539031141605863,
          -0.7434505578041772,
          -0.06974790232731734,
          -1.3438280814154056,
          0.15028835356929468,
          -0.10287723292446797,
          0.5337958367766493,
          -1.7910145450870145,
          -0.3528093066466839,
          0.28483534146724776,
          -0.2376793634250966,
          -1.1439375104416412,
          -1.6773681066280623,
          1.8838782542672348,
          1.0028758404607157,
          1.019052841097029,
          0.30651768295595916,
          0.4025551526198797,
          -0.8905919688553369,
          -1.382874757587919,
          -0.6816436627196745,
          0.03878334506085071,
          -1.3612397104403606,
          0.3197604660731154,
          -2.538319364008003,
          -1.2091878447993685,
          -0.5249346013368914,
          0.6692146290182188,
          -0.11840123236465151,
          0.8525194553867952,
          -0.6035975956715631,
          0.4283480479109968,
          0.9101749092891146,
          -0.8864024726325933,
          0.7775503744458712,
          -0.3116906590586294,
          -0.0789741170722278,
          -0.46571660288813044,
          -0.7366408087817952,
          -0.34057771638209616,
          1.4270333479578556,
          -0.0685312876711088,
          -2.590989928710988,
          0.54533421224908,
          -0.9316184663461683,
          -0.3357877632399068,
          -1.1004430354999835,
          -1.5112832772747995,
          0.9233033997807208,
          0.9248042476413013,
          0.23712657682615962,
          -1.7926116956644673,
          0.8262882219580409,
          0.41308190167379377,
          0.20507635069705696,
          1.1372928682815537,
          0.19672852705318208,
          1.032022543036123,
          -0.8498915495743655,
          -0.38007228545542127,
          -1.9829304093355187,
          0.05455520904456543,
          0.45889417897813106,
          -0.14456383999886627
         ]
        },
        {
         "histfunc": "count",
         "histnorm": "",
         "marker": {
          "color": "rgba(55, 128, 191, 1.0)",
          "line": {
           "color": "#4D5663",
           "width": 1.3
          }
         },
         "name": "B",
         "opacity": 0.8,
         "orientation": "v",
         "type": "histogram",
         "x": [
          0.34335976624785236,
          -0.5400241296111232,
          0.39625879311483636,
          -1.712841088113455,
          -0.07509142065935204,
          -0.73806711582396,
          0.3883007262086318,
          -0.5719092755359968,
          -0.4088347497306631,
          0.2421573678163824,
          -0.6529781799711727,
          0.38854787692263476,
          0.06453030726300012,
          -0.6988816243862073,
          1.3129702162264079,
          1.1771113015017993,
          -0.9700610592238458,
          1.1808244820001328,
          -1.478327479994,
          -0.46108336232059793,
          0.24491015346100684,
          -0.7318916215779915,
          -1.7148688047324678,
          0.5518859965500226,
          -0.9191779247410646,
          1.1985025549693435,
          2.5581128801469877,
          -0.7762150887891556,
          -1.549934782178811,
          0.05201663776978928,
          1.5232217714596588,
          -0.44708035980241534,
          -0.9086628778502828,
          -0.27525104215952567,
          -0.3577790202540434,
          0.4811753508335344,
          -0.5887451051233683,
          -1.294270125275922,
          0.8523861547501889,
          0.7381047196318503,
          1.0644322360476512,
          1.5967001236435843,
          0.82247172376917,
          -1.645808080381747,
          0.6857054299863742,
          -0.9009862391622963,
          -1.257234685603805,
          0.563120200391336,
          -0.9621725292323109,
          -0.5933983360655105,
          0.1284819007413659,
          -0.4240882124272642,
          1.1118812763090071,
          -1.9227848733315895,
          -0.419556595005051,
          1.5272854460120502,
          0.9102671180274021,
          0.6786808331841732,
          -0.42366626781453104,
          -1.1247464588926015,
          0.5004369031549727,
          -1.422643181814059,
          -0.06352335456872109,
          -0.6140831914140193,
          0.5603086977341717,
          1.474751693797127,
          1.6512484343980032,
          -1.0210150242509708,
          -0.7432289383819919,
          1.3875297294630236,
          -0.6514939869833749,
          1.4721881339131935,
          1.518432510112827,
          0.03638510312744503,
          0.7270871221481457,
          1.0793079148027827,
          0.4072592314941338,
          0.5823303662801511,
          0.2779238844720935,
          1.3057489297021347,
          0.07351712777696348,
          -0.8794259892692825,
          0.29982770281056553,
          -0.3416568949263266,
          3.458170678509682,
          0.058799135304265615,
          -0.3884328992504171,
          0.545514744824541,
          0.24141281219690586,
          -1.212419426084278,
          1.441259323038795,
          0.8503394918604567,
          -0.8204208120323783,
          0.21563670697344076,
          2.8069650295546076,
          1.5238759774181017,
          -0.6621926922073339,
          -1.060870331126299,
          -1.2805044081418444,
          -1.2349226572849306
         ]
        },
        {
         "histfunc": "count",
         "histnorm": "",
         "marker": {
          "color": "rgba(50, 171, 96, 1.0)",
          "line": {
           "color": "#4D5663",
           "width": 1.3
          }
         },
         "name": "C",
         "opacity": 0.8,
         "orientation": "v",
         "type": "histogram",
         "x": [
          0.2506092085793093,
          0.5210325936403227,
          1.239213358464694,
          -0.4466878782346689,
          -0.3822390633795185,
          -0.004193168373743429,
          0.31083507175692804,
          0.47014493079577385,
          -1.1556536917409108,
          -0.6757610308021511,
          -1.143836028015197,
          -0.8668866986037089,
          -3.1988150838934066,
          -0.7431034080655172,
          -0.40686358736988215,
          0.38817300614880124,
          -0.7249621219996307,
          1.1003757846228477,
          -0.3827825798596824,
          -1.9502233337660755,
          0.3165057808413265,
          0.6627391571225795,
          -0.3263229824933346,
          0.8285627583424173,
          0.9685477248448462,
          -2.9680823913015058,
          -1.4376379312345362,
          -1.7063194353908377,
          -0.27670004716137775,
          -0.5163377183768089,
          1.2437956186192953,
          0.35229549406432276,
          0.33258042113939507,
          -1.6057560516905556,
          0.44173661633579253,
          0.8191267704488735,
          0.05218990664378416,
          -0.18335279289604633,
          1.5162023789172292,
          -0.8833178708702997,
          1.3261569152294563,
          -0.11635473156903449,
          0.420635864279957,
          -0.9470924738177742,
          -0.43618797334177206,
          -0.42661623137309473,
          1.5416103231728577,
          -1.5596148002231116,
          0.01757030082496477,
          0.10140069671869259,
          1.5045891294248528,
          0.6902338347722542,
          1.4937463151241444,
          0.9002910845015439,
          0.5743890881715865,
          0.7562389480227537,
          -0.2001853168757039,
          -0.7157111539797419,
          -0.38765952959938493,
          -0.8572467787815908,
          0.2908470341192966,
          -0.9142824119313538,
          -0.3968746158328103,
          1.8688718784021316,
          -0.05217732449967453,
          1.4354670816758779,
          -1.0625152709489207,
          -0.5106587853056833,
          0.772057631583369,
          1.8018327650399475,
          -0.7958019648209217,
          2.006600168904022,
          -0.13292889152021703,
          0.32943355662723445,
          0.4108609828394416,
          2.0215940500491767,
          1.2016286063300015,
          1.3157545372633783,
          2.1135059883489045,
          2.19008158661078,
          -0.8143129683811934,
          0.23797298364722996,
          -1.6230732883970846,
          0.3084496100404266,
          0.4066710547761042,
          -0.4301381816226118,
          -1.491282679742187,
          -0.7552313272641786,
          -0.02249282109852578,
          0.020985550927711878,
          1.376036037255204,
          0.11425721932139542,
          -1.7920792205457143,
          -0.3136617620588843,
          0.9080291145166957,
          0.9552507049194106,
          -1.2999897780275405,
          -0.4293727950637242,
          0.21110400572437438,
          -0.23669025245583175
         ]
        },
        {
         "histfunc": "count",
         "histnorm": "",
         "marker": {
          "color": "rgba(128, 0, 128, 1.0)",
          "line": {
           "color": "#4D5663",
           "width": 1.3
          }
         },
         "name": "D",
         "opacity": 0.8,
         "orientation": "v",
         "type": "histogram",
         "x": [
          0.592132628370577,
          -1.1427568771274301,
          -0.6340122630191883,
          -0.7162128894182691,
          0.09739810390787935,
          0.09159611881467758,
          -0.9668463002828019,
          -0.6208334020410122,
          0.12874503109489555,
          -0.3596561372712881,
          0.39013837317684175,
          0.9707203746231453,
          -1.849471788872194,
          -1.670949123446992,
          1.3990752041954768,
          -0.433939139689318,
          -0.44752017505281094,
          -2.134491404043168,
          -0.8356207928281586,
          1.2669953059648416,
          -0.26364190278517186,
          -0.03972649984227558,
          0.4107706478872919,
          0.8034938604696944,
          0.1797430430969131,
          -0.6029878381334249,
          0.5453303115260123,
          -0.22849871488659848,
          0.19840671579042543,
          -0.20075469668443507,
          -0.23837820844984284,
          0.7077555147181938,
          0.10728535871855505,
          -0.5961065955304026,
          0.6295775324655841,
          -2.1430311045813575,
          0.6461484336873898,
          0.1217479112963839,
          1.6345095310518332,
          -0.9607835683541878,
          -1.0677335273474948,
          1.2161328243610878,
          -0.06674068289256456,
          0.8395283207223901,
          -1.0741861262618164,
          -0.34730099283237337,
          0.5659354167689368,
          0.9123036110964656,
          -0.4871189389482929,
          1.5582944789663065,
          -2.104414717884187,
          -1.9082807636805286,
          0.20519240993648347,
          0.5830341861711636,
          0.06267896143655838,
          -2.202683825879842,
          -1.0614936236398618,
          -1.013092636573165,
          -0.7470592116179434,
          -1.0199280229765049,
          0.9875061756283474,
          -2.1080306341987796,
          0.8070667330078221,
          0.9094431465761287,
          -1.7629120134717562,
          -0.15994707522962706,
          0.41276947219161814,
          0.8381114480287192,
          -1.3365096723779204,
          -1.6329883056871755,
          0.10627979251486216,
          0.02004657791238379,
          -1.3229626726102046,
          1.2801780728052166,
          0.8345055826164722,
          0.9721200944205621,
          0.37734462188478013,
          -0.3223044195608128,
          0.7967565028396203,
          -0.6224089678483244,
          0.5828942342989621,
          0.03016169618375698,
          -1.696574544826665,
          0.09590877733994138,
          -0.5127741879834149,
          0.4383379018298321,
          1.0826621642886225,
          1.0592007327193345,
          -0.5232893508862395,
          1.2627601225631901,
          0.6589175272897498,
          1.022280331965757,
          -1.8153529724872977,
          -1.0861166191335576,
          0.017399232226795285,
          -1.9794890106589242,
          -0.2894486848694927,
          0.4794857286596619,
          0.13405219599547738,
          -0.9641648355507442
         ]
        }
       ],
       "layout": {
        "barmode": "overlay",
        "legend": {
         "bgcolor": "#F5F6F9",
         "font": {
          "color": "#4D5663"
         }
        },
        "paper_bgcolor": "#F5F6F9",
        "plot_bgcolor": "#F5F6F9",
        "template": {
         "data": {
          "bar": [
           {
            "error_x": {
             "color": "#2a3f5f"
            },
            "error_y": {
             "color": "#2a3f5f"
            },
            "marker": {
             "line": {
              "color": "#E5ECF6",
              "width": 0.5
             },
             "pattern": {
              "fillmode": "overlay",
              "size": 10,
              "solidity": 0.2
             }
            },
            "type": "bar"
           }
          ],
          "barpolar": [
           {
            "marker": {
             "line": {
              "color": "#E5ECF6",
              "width": 0.5
             },
             "pattern": {
              "fillmode": "overlay",
              "size": 10,
              "solidity": 0.2
             }
            },
            "type": "barpolar"
           }
          ],
          "carpet": [
           {
            "aaxis": {
             "endlinecolor": "#2a3f5f",
             "gridcolor": "white",
             "linecolor": "white",
             "minorgridcolor": "white",
             "startlinecolor": "#2a3f5f"
            },
            "baxis": {
             "endlinecolor": "#2a3f5f",
             "gridcolor": "white",
             "linecolor": "white",
             "minorgridcolor": "white",
             "startlinecolor": "#2a3f5f"
            },
            "type": "carpet"
           }
          ],
          "choropleth": [
           {
            "colorbar": {
             "outlinewidth": 0,
             "ticks": ""
            },
            "type": "choropleth"
           }
          ],
          "contour": [
           {
            "colorbar": {
             "outlinewidth": 0,
             "ticks": ""
            },
            "colorscale": [
             [
              0,
              "#0d0887"
             ],
             [
              0.1111111111111111,
              "#46039f"
             ],
             [
              0.2222222222222222,
              "#7201a8"
             ],
             [
              0.3333333333333333,
              "#9c179e"
             ],
             [
              0.4444444444444444,
              "#bd3786"
             ],
             [
              0.5555555555555556,
              "#d8576b"
             ],
             [
              0.6666666666666666,
              "#ed7953"
             ],
             [
              0.7777777777777778,
              "#fb9f3a"
             ],
             [
              0.8888888888888888,
              "#fdca26"
             ],
             [
              1,
              "#f0f921"
             ]
            ],
            "type": "contour"
           }
          ],
          "contourcarpet": [
           {
            "colorbar": {
             "outlinewidth": 0,
             "ticks": ""
            },
            "type": "contourcarpet"
           }
          ],
          "heatmap": [
           {
            "colorbar": {
             "outlinewidth": 0,
             "ticks": ""
            },
            "colorscale": [
             [
              0,
              "#0d0887"
             ],
             [
              0.1111111111111111,
              "#46039f"
             ],
             [
              0.2222222222222222,
              "#7201a8"
             ],
             [
              0.3333333333333333,
              "#9c179e"
             ],
             [
              0.4444444444444444,
              "#bd3786"
             ],
             [
              0.5555555555555556,
              "#d8576b"
             ],
             [
              0.6666666666666666,
              "#ed7953"
             ],
             [
              0.7777777777777778,
              "#fb9f3a"
             ],
             [
              0.8888888888888888,
              "#fdca26"
             ],
             [
              1,
              "#f0f921"
             ]
            ],
            "type": "heatmap"
           }
          ],
          "heatmapgl": [
           {
            "colorbar": {
             "outlinewidth": 0,
             "ticks": ""
            },
            "colorscale": [
             [
              0,
              "#0d0887"
             ],
             [
              0.1111111111111111,
              "#46039f"
             ],
             [
              0.2222222222222222,
              "#7201a8"
             ],
             [
              0.3333333333333333,
              "#9c179e"
             ],
             [
              0.4444444444444444,
              "#bd3786"
             ],
             [
              0.5555555555555556,
              "#d8576b"
             ],
             [
              0.6666666666666666,
              "#ed7953"
             ],
             [
              0.7777777777777778,
              "#fb9f3a"
             ],
             [
              0.8888888888888888,
              "#fdca26"
             ],
             [
              1,
              "#f0f921"
             ]
            ],
            "type": "heatmapgl"
           }
          ],
          "histogram": [
           {
            "marker": {
             "pattern": {
              "fillmode": "overlay",
              "size": 10,
              "solidity": 0.2
             }
            },
            "type": "histogram"
           }
          ],
          "histogram2d": [
           {
            "colorbar": {
             "outlinewidth": 0,
             "ticks": ""
            },
            "colorscale": [
             [
              0,
              "#0d0887"
             ],
             [
              0.1111111111111111,
              "#46039f"
             ],
             [
              0.2222222222222222,
              "#7201a8"
             ],
             [
              0.3333333333333333,
              "#9c179e"
             ],
             [
              0.4444444444444444,
              "#bd3786"
             ],
             [
              0.5555555555555556,
              "#d8576b"
             ],
             [
              0.6666666666666666,
              "#ed7953"
             ],
             [
              0.7777777777777778,
              "#fb9f3a"
             ],
             [
              0.8888888888888888,
              "#fdca26"
             ],
             [
              1,
              "#f0f921"
             ]
            ],
            "type": "histogram2d"
           }
          ],
          "histogram2dcontour": [
           {
            "colorbar": {
             "outlinewidth": 0,
             "ticks": ""
            },
            "colorscale": [
             [
              0,
              "#0d0887"
             ],
             [
              0.1111111111111111,
              "#46039f"
             ],
             [
              0.2222222222222222,
              "#7201a8"
             ],
             [
              0.3333333333333333,
              "#9c179e"
             ],
             [
              0.4444444444444444,
              "#bd3786"
             ],
             [
              0.5555555555555556,
              "#d8576b"
             ],
             [
              0.6666666666666666,
              "#ed7953"
             ],
             [
              0.7777777777777778,
              "#fb9f3a"
             ],
             [
              0.8888888888888888,
              "#fdca26"
             ],
             [
              1,
              "#f0f921"
             ]
            ],
            "type": "histogram2dcontour"
           }
          ],
          "mesh3d": [
           {
            "colorbar": {
             "outlinewidth": 0,
             "ticks": ""
            },
            "type": "mesh3d"
           }
          ],
          "parcoords": [
           {
            "line": {
             "colorbar": {
              "outlinewidth": 0,
              "ticks": ""
             }
            },
            "type": "parcoords"
           }
          ],
          "pie": [
           {
            "automargin": true,
            "type": "pie"
           }
          ],
          "scatter": [
           {
            "marker": {
             "colorbar": {
              "outlinewidth": 0,
              "ticks": ""
             }
            },
            "type": "scatter"
           }
          ],
          "scatter3d": [
           {
            "line": {
             "colorbar": {
              "outlinewidth": 0,
              "ticks": ""
             }
            },
            "marker": {
             "colorbar": {
              "outlinewidth": 0,
              "ticks": ""
             }
            },
            "type": "scatter3d"
           }
          ],
          "scattercarpet": [
           {
            "marker": {
             "colorbar": {
              "outlinewidth": 0,
              "ticks": ""
             }
            },
            "type": "scattercarpet"
           }
          ],
          "scattergeo": [
           {
            "marker": {
             "colorbar": {
              "outlinewidth": 0,
              "ticks": ""
             }
            },
            "type": "scattergeo"
           }
          ],
          "scattergl": [
           {
            "marker": {
             "colorbar": {
              "outlinewidth": 0,
              "ticks": ""
             }
            },
            "type": "scattergl"
           }
          ],
          "scattermapbox": [
           {
            "marker": {
             "colorbar": {
              "outlinewidth": 0,
              "ticks": ""
             }
            },
            "type": "scattermapbox"
           }
          ],
          "scatterpolar": [
           {
            "marker": {
             "colorbar": {
              "outlinewidth": 0,
              "ticks": ""
             }
            },
            "type": "scatterpolar"
           }
          ],
          "scatterpolargl": [
           {
            "marker": {
             "colorbar": {
              "outlinewidth": 0,
              "ticks": ""
             }
            },
            "type": "scatterpolargl"
           }
          ],
          "scatterternary": [
           {
            "marker": {
             "colorbar": {
              "outlinewidth": 0,
              "ticks": ""
             }
            },
            "type": "scatterternary"
           }
          ],
          "surface": [
           {
            "colorbar": {
             "outlinewidth": 0,
             "ticks": ""
            },
            "colorscale": [
             [
              0,
              "#0d0887"
             ],
             [
              0.1111111111111111,
              "#46039f"
             ],
             [
              0.2222222222222222,
              "#7201a8"
             ],
             [
              0.3333333333333333,
              "#9c179e"
             ],
             [
              0.4444444444444444,
              "#bd3786"
             ],
             [
              0.5555555555555556,
              "#d8576b"
             ],
             [
              0.6666666666666666,
              "#ed7953"
             ],
             [
              0.7777777777777778,
              "#fb9f3a"
             ],
             [
              0.8888888888888888,
              "#fdca26"
             ],
             [
              1,
              "#f0f921"
             ]
            ],
            "type": "surface"
           }
          ],
          "table": [
           {
            "cells": {
             "fill": {
              "color": "#EBF0F8"
             },
             "line": {
              "color": "white"
             }
            },
            "header": {
             "fill": {
              "color": "#C8D4E3"
             },
             "line": {
              "color": "white"
             }
            },
            "type": "table"
           }
          ]
         },
         "layout": {
          "annotationdefaults": {
           "arrowcolor": "#2a3f5f",
           "arrowhead": 0,
           "arrowwidth": 1
          },
          "autotypenumbers": "strict",
          "coloraxis": {
           "colorbar": {
            "outlinewidth": 0,
            "ticks": ""
           }
          },
          "colorscale": {
           "diverging": [
            [
             0,
             "#8e0152"
            ],
            [
             0.1,
             "#c51b7d"
            ],
            [
             0.2,
             "#de77ae"
            ],
            [
             0.3,
             "#f1b6da"
            ],
            [
             0.4,
             "#fde0ef"
            ],
            [
             0.5,
             "#f7f7f7"
            ],
            [
             0.6,
             "#e6f5d0"
            ],
            [
             0.7,
             "#b8e186"
            ],
            [
             0.8,
             "#7fbc41"
            ],
            [
             0.9,
             "#4d9221"
            ],
            [
             1,
             "#276419"
            ]
           ],
           "sequential": [
            [
             0,
             "#0d0887"
            ],
            [
             0.1111111111111111,
             "#46039f"
            ],
            [
             0.2222222222222222,
             "#7201a8"
            ],
            [
             0.3333333333333333,
             "#9c179e"
            ],
            [
             0.4444444444444444,
             "#bd3786"
            ],
            [
             0.5555555555555556,
             "#d8576b"
            ],
            [
             0.6666666666666666,
             "#ed7953"
            ],
            [
             0.7777777777777778,
             "#fb9f3a"
            ],
            [
             0.8888888888888888,
             "#fdca26"
            ],
            [
             1,
             "#f0f921"
            ]
           ],
           "sequentialminus": [
            [
             0,
             "#0d0887"
            ],
            [
             0.1111111111111111,
             "#46039f"
            ],
            [
             0.2222222222222222,
             "#7201a8"
            ],
            [
             0.3333333333333333,
             "#9c179e"
            ],
            [
             0.4444444444444444,
             "#bd3786"
            ],
            [
             0.5555555555555556,
             "#d8576b"
            ],
            [
             0.6666666666666666,
             "#ed7953"
            ],
            [
             0.7777777777777778,
             "#fb9f3a"
            ],
            [
             0.8888888888888888,
             "#fdca26"
            ],
            [
             1,
             "#f0f921"
            ]
           ]
          },
          "colorway": [
           "#636efa",
           "#EF553B",
           "#00cc96",
           "#ab63fa",
           "#FFA15A",
           "#19d3f3",
           "#FF6692",
           "#B6E880",
           "#FF97FF",
           "#FECB52"
          ],
          "font": {
           "color": "#2a3f5f"
          },
          "geo": {
           "bgcolor": "white",
           "lakecolor": "white",
           "landcolor": "#E5ECF6",
           "showlakes": true,
           "showland": true,
           "subunitcolor": "white"
          },
          "hoverlabel": {
           "align": "left"
          },
          "hovermode": "closest",
          "mapbox": {
           "style": "light"
          },
          "paper_bgcolor": "white",
          "plot_bgcolor": "#E5ECF6",
          "polar": {
           "angularaxis": {
            "gridcolor": "white",
            "linecolor": "white",
            "ticks": ""
           },
           "bgcolor": "#E5ECF6",
           "radialaxis": {
            "gridcolor": "white",
            "linecolor": "white",
            "ticks": ""
           }
          },
          "scene": {
           "xaxis": {
            "backgroundcolor": "#E5ECF6",
            "gridcolor": "white",
            "gridwidth": 2,
            "linecolor": "white",
            "showbackground": true,
            "ticks": "",
            "zerolinecolor": "white"
           },
           "yaxis": {
            "backgroundcolor": "#E5ECF6",
            "gridcolor": "white",
            "gridwidth": 2,
            "linecolor": "white",
            "showbackground": true,
            "ticks": "",
            "zerolinecolor": "white"
           },
           "zaxis": {
            "backgroundcolor": "#E5ECF6",
            "gridcolor": "white",
            "gridwidth": 2,
            "linecolor": "white",
            "showbackground": true,
            "ticks": "",
            "zerolinecolor": "white"
           }
          },
          "shapedefaults": {
           "line": {
            "color": "#2a3f5f"
           }
          },
          "ternary": {
           "aaxis": {
            "gridcolor": "white",
            "linecolor": "white",
            "ticks": ""
           },
           "baxis": {
            "gridcolor": "white",
            "linecolor": "white",
            "ticks": ""
           },
           "bgcolor": "#E5ECF6",
           "caxis": {
            "gridcolor": "white",
            "linecolor": "white",
            "ticks": ""
           }
          },
          "title": {
           "x": 0.05
          },
          "xaxis": {
           "automargin": true,
           "gridcolor": "white",
           "linecolor": "white",
           "ticks": "",
           "title": {
            "standoff": 15
           },
           "zerolinecolor": "white",
           "zerolinewidth": 2
          },
          "yaxis": {
           "automargin": true,
           "gridcolor": "white",
           "linecolor": "white",
           "ticks": "",
           "title": {
            "standoff": 15
           },
           "zerolinecolor": "white",
           "zerolinewidth": 2
          }
         }
        },
        "title": {
         "font": {
          "color": "#4D5663"
         }
        },
        "xaxis": {
         "gridcolor": "#E1E5ED",
         "showgrid": true,
         "tickfont": {
          "color": "#4D5663"
         },
         "title": {
          "font": {
           "color": "#4D5663"
          },
          "text": ""
         },
         "zerolinecolor": "#E1E5ED"
        },
        "yaxis": {
         "gridcolor": "#E1E5ED",
         "showgrid": true,
         "tickfont": {
          "color": "#4D5663"
         },
         "title": {
          "font": {
           "color": "#4D5663"
          },
          "text": ""
         },
         "zerolinecolor": "#E1E5ED"
        }
       }
      },
      "text/html": [
       "<div>                            <div id=\"8947dd5c-12ad-46dc-aebc-ad68923e78cd\" class=\"plotly-graph-div\" style=\"height:525px; width:100%;\"></div>            <script type=\"text/javascript\">                require([\"plotly\"], function(Plotly) {                    window.PLOTLYENV=window.PLOTLYENV || {};\n",
       "                    window.PLOTLYENV.BASE_URL='https://plot.ly';                                    if (document.getElementById(\"8947dd5c-12ad-46dc-aebc-ad68923e78cd\")) {                    Plotly.newPlot(                        \"8947dd5c-12ad-46dc-aebc-ad68923e78cd\",                        [{\"histfunc\":\"count\",\"histnorm\":\"\",\"marker\":{\"color\":\"rgba(255, 153, 51, 1.0)\",\"line\":{\"color\":\"#4D5663\",\"width\":1.3}},\"name\":\"A\",\"opacity\":0.8,\"orientation\":\"v\",\"x\":[-0.3828792050443604,-0.8470899644257714,0.010194864370989333,0.7301852076151661,2.0209176306324363,-1.5003016962844402,1.3118946476906856,-0.19669756499513247,-0.9076690966885811,-0.3237404643459652,0.637713854283272,-0.03454556326127818,0.7796925569817367,-1.4423716042022108,-2.5845985787359163,0.6619539111661311,-0.687009387052393,-0.07904947689258264,0.05497583547432276,-0.1251154272973603,1.4799840842985588,0.4823254913863216,-2.280333653758334,-0.7687965123125058,-1.9305826565370234,1.2028531218309138,0.11759314103585028,0.8219103216225514,-1.0600425527288615,-0.7924098829680032,0.591057506448477,0.010539468688751144,0.587916797008021,0.5345565463711455,0.23953843637909966,-1.3486453781610805,1.4539031141605863,-0.7434505578041772,-0.06974790232731734,-1.3438280814154056,0.15028835356929468,-0.10287723292446797,0.5337958367766493,-1.7910145450870145,-0.3528093066466839,0.28483534146724776,-0.2376793634250966,-1.1439375104416412,-1.6773681066280623,1.8838782542672348,1.0028758404607157,1.019052841097029,0.30651768295595916,0.4025551526198797,-0.8905919688553369,-1.382874757587919,-0.6816436627196745,0.03878334506085071,-1.3612397104403606,0.3197604660731154,-2.538319364008003,-1.2091878447993685,-0.5249346013368914,0.6692146290182188,-0.11840123236465151,0.8525194553867952,-0.6035975956715631,0.4283480479109968,0.9101749092891146,-0.8864024726325933,0.7775503744458712,-0.3116906590586294,-0.0789741170722278,-0.46571660288813044,-0.7366408087817952,-0.34057771638209616,1.4270333479578556,-0.0685312876711088,-2.590989928710988,0.54533421224908,-0.9316184663461683,-0.3357877632399068,-1.1004430354999835,-1.5112832772747995,0.9233033997807208,0.9248042476413013,0.23712657682615962,-1.7926116956644673,0.8262882219580409,0.41308190167379377,0.20507635069705696,1.1372928682815537,0.19672852705318208,1.032022543036123,-0.8498915495743655,-0.38007228545542127,-1.9829304093355187,0.05455520904456543,0.45889417897813106,-0.14456383999886627],\"type\":\"histogram\"},{\"histfunc\":\"count\",\"histnorm\":\"\",\"marker\":{\"color\":\"rgba(55, 128, 191, 1.0)\",\"line\":{\"color\":\"#4D5663\",\"width\":1.3}},\"name\":\"B\",\"opacity\":0.8,\"orientation\":\"v\",\"x\":[0.34335976624785236,-0.5400241296111232,0.39625879311483636,-1.712841088113455,-0.07509142065935204,-0.73806711582396,0.3883007262086318,-0.5719092755359968,-0.4088347497306631,0.2421573678163824,-0.6529781799711727,0.38854787692263476,0.06453030726300012,-0.6988816243862073,1.3129702162264079,1.1771113015017993,-0.9700610592238458,1.1808244820001328,-1.478327479994,-0.46108336232059793,0.24491015346100684,-0.7318916215779915,-1.7148688047324678,0.5518859965500226,-0.9191779247410646,1.1985025549693435,2.5581128801469877,-0.7762150887891556,-1.549934782178811,0.05201663776978928,1.5232217714596588,-0.44708035980241534,-0.9086628778502828,-0.27525104215952567,-0.3577790202540434,0.4811753508335344,-0.5887451051233683,-1.294270125275922,0.8523861547501889,0.7381047196318503,1.0644322360476512,1.5967001236435843,0.82247172376917,-1.645808080381747,0.6857054299863742,-0.9009862391622963,-1.257234685603805,0.563120200391336,-0.9621725292323109,-0.5933983360655105,0.1284819007413659,-0.4240882124272642,1.1118812763090071,-1.9227848733315895,-0.419556595005051,1.5272854460120502,0.9102671180274021,0.6786808331841732,-0.42366626781453104,-1.1247464588926015,0.5004369031549727,-1.422643181814059,-0.06352335456872109,-0.6140831914140193,0.5603086977341717,1.474751693797127,1.6512484343980032,-1.0210150242509708,-0.7432289383819919,1.3875297294630236,-0.6514939869833749,1.4721881339131935,1.518432510112827,0.03638510312744503,0.7270871221481457,1.0793079148027827,0.4072592314941338,0.5823303662801511,0.2779238844720935,1.3057489297021347,0.07351712777696348,-0.8794259892692825,0.29982770281056553,-0.3416568949263266,3.458170678509682,0.058799135304265615,-0.3884328992504171,0.545514744824541,0.24141281219690586,-1.212419426084278,1.441259323038795,0.8503394918604567,-0.8204208120323783,0.21563670697344076,2.8069650295546076,1.5238759774181017,-0.6621926922073339,-1.060870331126299,-1.2805044081418444,-1.2349226572849306],\"type\":\"histogram\"},{\"histfunc\":\"count\",\"histnorm\":\"\",\"marker\":{\"color\":\"rgba(50, 171, 96, 1.0)\",\"line\":{\"color\":\"#4D5663\",\"width\":1.3}},\"name\":\"C\",\"opacity\":0.8,\"orientation\":\"v\",\"x\":[0.2506092085793093,0.5210325936403227,1.239213358464694,-0.4466878782346689,-0.3822390633795185,-0.004193168373743429,0.31083507175692804,0.47014493079577385,-1.1556536917409108,-0.6757610308021511,-1.143836028015197,-0.8668866986037089,-3.1988150838934066,-0.7431034080655172,-0.40686358736988215,0.38817300614880124,-0.7249621219996307,1.1003757846228477,-0.3827825798596824,-1.9502233337660755,0.3165057808413265,0.6627391571225795,-0.3263229824933346,0.8285627583424173,0.9685477248448462,-2.9680823913015058,-1.4376379312345362,-1.7063194353908377,-0.27670004716137775,-0.5163377183768089,1.2437956186192953,0.35229549406432276,0.33258042113939507,-1.6057560516905556,0.44173661633579253,0.8191267704488735,0.05218990664378416,-0.18335279289604633,1.5162023789172292,-0.8833178708702997,1.3261569152294563,-0.11635473156903449,0.420635864279957,-0.9470924738177742,-0.43618797334177206,-0.42661623137309473,1.5416103231728577,-1.5596148002231116,0.01757030082496477,0.10140069671869259,1.5045891294248528,0.6902338347722542,1.4937463151241444,0.9002910845015439,0.5743890881715865,0.7562389480227537,-0.2001853168757039,-0.7157111539797419,-0.38765952959938493,-0.8572467787815908,0.2908470341192966,-0.9142824119313538,-0.3968746158328103,1.8688718784021316,-0.05217732449967453,1.4354670816758779,-1.0625152709489207,-0.5106587853056833,0.772057631583369,1.8018327650399475,-0.7958019648209217,2.006600168904022,-0.13292889152021703,0.32943355662723445,0.4108609828394416,2.0215940500491767,1.2016286063300015,1.3157545372633783,2.1135059883489045,2.19008158661078,-0.8143129683811934,0.23797298364722996,-1.6230732883970846,0.3084496100404266,0.4066710547761042,-0.4301381816226118,-1.491282679742187,-0.7552313272641786,-0.02249282109852578,0.020985550927711878,1.376036037255204,0.11425721932139542,-1.7920792205457143,-0.3136617620588843,0.9080291145166957,0.9552507049194106,-1.2999897780275405,-0.4293727950637242,0.21110400572437438,-0.23669025245583175],\"type\":\"histogram\"},{\"histfunc\":\"count\",\"histnorm\":\"\",\"marker\":{\"color\":\"rgba(128, 0, 128, 1.0)\",\"line\":{\"color\":\"#4D5663\",\"width\":1.3}},\"name\":\"D\",\"opacity\":0.8,\"orientation\":\"v\",\"x\":[0.592132628370577,-1.1427568771274301,-0.6340122630191883,-0.7162128894182691,0.09739810390787935,0.09159611881467758,-0.9668463002828019,-0.6208334020410122,0.12874503109489555,-0.3596561372712881,0.39013837317684175,0.9707203746231453,-1.849471788872194,-1.670949123446992,1.3990752041954768,-0.433939139689318,-0.44752017505281094,-2.134491404043168,-0.8356207928281586,1.2669953059648416,-0.26364190278517186,-0.03972649984227558,0.4107706478872919,0.8034938604696944,0.1797430430969131,-0.6029878381334249,0.5453303115260123,-0.22849871488659848,0.19840671579042543,-0.20075469668443507,-0.23837820844984284,0.7077555147181938,0.10728535871855505,-0.5961065955304026,0.6295775324655841,-2.1430311045813575,0.6461484336873898,0.1217479112963839,1.6345095310518332,-0.9607835683541878,-1.0677335273474948,1.2161328243610878,-0.06674068289256456,0.8395283207223901,-1.0741861262618164,-0.34730099283237337,0.5659354167689368,0.9123036110964656,-0.4871189389482929,1.5582944789663065,-2.104414717884187,-1.9082807636805286,0.20519240993648347,0.5830341861711636,0.06267896143655838,-2.202683825879842,-1.0614936236398618,-1.013092636573165,-0.7470592116179434,-1.0199280229765049,0.9875061756283474,-2.1080306341987796,0.8070667330078221,0.9094431465761287,-1.7629120134717562,-0.15994707522962706,0.41276947219161814,0.8381114480287192,-1.3365096723779204,-1.6329883056871755,0.10627979251486216,0.02004657791238379,-1.3229626726102046,1.2801780728052166,0.8345055826164722,0.9721200944205621,0.37734462188478013,-0.3223044195608128,0.7967565028396203,-0.6224089678483244,0.5828942342989621,0.03016169618375698,-1.696574544826665,0.09590877733994138,-0.5127741879834149,0.4383379018298321,1.0826621642886225,1.0592007327193345,-0.5232893508862395,1.2627601225631901,0.6589175272897498,1.022280331965757,-1.8153529724872977,-1.0861166191335576,0.017399232226795285,-1.9794890106589242,-0.2894486848694927,0.4794857286596619,0.13405219599547738,-0.9641648355507442],\"type\":\"histogram\"}],                        {\"barmode\":\"overlay\",\"legend\":{\"bgcolor\":\"#F5F6F9\",\"font\":{\"color\":\"#4D5663\"}},\"paper_bgcolor\":\"#F5F6F9\",\"plot_bgcolor\":\"#F5F6F9\",\"template\":{\"data\":{\"barpolar\":[{\"marker\":{\"line\":{\"color\":\"#E5ECF6\",\"width\":0.5},\"pattern\":{\"fillmode\":\"overlay\",\"size\":10,\"solidity\":0.2}},\"type\":\"barpolar\"}],\"bar\":[{\"error_x\":{\"color\":\"#2a3f5f\"},\"error_y\":{\"color\":\"#2a3f5f\"},\"marker\":{\"line\":{\"color\":\"#E5ECF6\",\"width\":0.5},\"pattern\":{\"fillmode\":\"overlay\",\"size\":10,\"solidity\":0.2}},\"type\":\"bar\"}],\"carpet\":[{\"aaxis\":{\"endlinecolor\":\"#2a3f5f\",\"gridcolor\":\"white\",\"linecolor\":\"white\",\"minorgridcolor\":\"white\",\"startlinecolor\":\"#2a3f5f\"},\"baxis\":{\"endlinecolor\":\"#2a3f5f\",\"gridcolor\":\"white\",\"linecolor\":\"white\",\"minorgridcolor\":\"white\",\"startlinecolor\":\"#2a3f5f\"},\"type\":\"carpet\"}],\"choropleth\":[{\"colorbar\":{\"outlinewidth\":0,\"ticks\":\"\"},\"type\":\"choropleth\"}],\"contourcarpet\":[{\"colorbar\":{\"outlinewidth\":0,\"ticks\":\"\"},\"type\":\"contourcarpet\"}],\"contour\":[{\"colorbar\":{\"outlinewidth\":0,\"ticks\":\"\"},\"colorscale\":[[0.0,\"#0d0887\"],[0.1111111111111111,\"#46039f\"],[0.2222222222222222,\"#7201a8\"],[0.3333333333333333,\"#9c179e\"],[0.4444444444444444,\"#bd3786\"],[0.5555555555555556,\"#d8576b\"],[0.6666666666666666,\"#ed7953\"],[0.7777777777777778,\"#fb9f3a\"],[0.8888888888888888,\"#fdca26\"],[1.0,\"#f0f921\"]],\"type\":\"contour\"}],\"heatmapgl\":[{\"colorbar\":{\"outlinewidth\":0,\"ticks\":\"\"},\"colorscale\":[[0.0,\"#0d0887\"],[0.1111111111111111,\"#46039f\"],[0.2222222222222222,\"#7201a8\"],[0.3333333333333333,\"#9c179e\"],[0.4444444444444444,\"#bd3786\"],[0.5555555555555556,\"#d8576b\"],[0.6666666666666666,\"#ed7953\"],[0.7777777777777778,\"#fb9f3a\"],[0.8888888888888888,\"#fdca26\"],[1.0,\"#f0f921\"]],\"type\":\"heatmapgl\"}],\"heatmap\":[{\"colorbar\":{\"outlinewidth\":0,\"ticks\":\"\"},\"colorscale\":[[0.0,\"#0d0887\"],[0.1111111111111111,\"#46039f\"],[0.2222222222222222,\"#7201a8\"],[0.3333333333333333,\"#9c179e\"],[0.4444444444444444,\"#bd3786\"],[0.5555555555555556,\"#d8576b\"],[0.6666666666666666,\"#ed7953\"],[0.7777777777777778,\"#fb9f3a\"],[0.8888888888888888,\"#fdca26\"],[1.0,\"#f0f921\"]],\"type\":\"heatmap\"}],\"histogram2dcontour\":[{\"colorbar\":{\"outlinewidth\":0,\"ticks\":\"\"},\"colorscale\":[[0.0,\"#0d0887\"],[0.1111111111111111,\"#46039f\"],[0.2222222222222222,\"#7201a8\"],[0.3333333333333333,\"#9c179e\"],[0.4444444444444444,\"#bd3786\"],[0.5555555555555556,\"#d8576b\"],[0.6666666666666666,\"#ed7953\"],[0.7777777777777778,\"#fb9f3a\"],[0.8888888888888888,\"#fdca26\"],[1.0,\"#f0f921\"]],\"type\":\"histogram2dcontour\"}],\"histogram2d\":[{\"colorbar\":{\"outlinewidth\":0,\"ticks\":\"\"},\"colorscale\":[[0.0,\"#0d0887\"],[0.1111111111111111,\"#46039f\"],[0.2222222222222222,\"#7201a8\"],[0.3333333333333333,\"#9c179e\"],[0.4444444444444444,\"#bd3786\"],[0.5555555555555556,\"#d8576b\"],[0.6666666666666666,\"#ed7953\"],[0.7777777777777778,\"#fb9f3a\"],[0.8888888888888888,\"#fdca26\"],[1.0,\"#f0f921\"]],\"type\":\"histogram2d\"}],\"histogram\":[{\"marker\":{\"pattern\":{\"fillmode\":\"overlay\",\"size\":10,\"solidity\":0.2}},\"type\":\"histogram\"}],\"mesh3d\":[{\"colorbar\":{\"outlinewidth\":0,\"ticks\":\"\"},\"type\":\"mesh3d\"}],\"parcoords\":[{\"line\":{\"colorbar\":{\"outlinewidth\":0,\"ticks\":\"\"}},\"type\":\"parcoords\"}],\"pie\":[{\"automargin\":true,\"type\":\"pie\"}],\"scatter3d\":[{\"line\":{\"colorbar\":{\"outlinewidth\":0,\"ticks\":\"\"}},\"marker\":{\"colorbar\":{\"outlinewidth\":0,\"ticks\":\"\"}},\"type\":\"scatter3d\"}],\"scattercarpet\":[{\"marker\":{\"colorbar\":{\"outlinewidth\":0,\"ticks\":\"\"}},\"type\":\"scattercarpet\"}],\"scattergeo\":[{\"marker\":{\"colorbar\":{\"outlinewidth\":0,\"ticks\":\"\"}},\"type\":\"scattergeo\"}],\"scattergl\":[{\"marker\":{\"colorbar\":{\"outlinewidth\":0,\"ticks\":\"\"}},\"type\":\"scattergl\"}],\"scattermapbox\":[{\"marker\":{\"colorbar\":{\"outlinewidth\":0,\"ticks\":\"\"}},\"type\":\"scattermapbox\"}],\"scatterpolargl\":[{\"marker\":{\"colorbar\":{\"outlinewidth\":0,\"ticks\":\"\"}},\"type\":\"scatterpolargl\"}],\"scatterpolar\":[{\"marker\":{\"colorbar\":{\"outlinewidth\":0,\"ticks\":\"\"}},\"type\":\"scatterpolar\"}],\"scatter\":[{\"marker\":{\"colorbar\":{\"outlinewidth\":0,\"ticks\":\"\"}},\"type\":\"scatter\"}],\"scatterternary\":[{\"marker\":{\"colorbar\":{\"outlinewidth\":0,\"ticks\":\"\"}},\"type\":\"scatterternary\"}],\"surface\":[{\"colorbar\":{\"outlinewidth\":0,\"ticks\":\"\"},\"colorscale\":[[0.0,\"#0d0887\"],[0.1111111111111111,\"#46039f\"],[0.2222222222222222,\"#7201a8\"],[0.3333333333333333,\"#9c179e\"],[0.4444444444444444,\"#bd3786\"],[0.5555555555555556,\"#d8576b\"],[0.6666666666666666,\"#ed7953\"],[0.7777777777777778,\"#fb9f3a\"],[0.8888888888888888,\"#fdca26\"],[1.0,\"#f0f921\"]],\"type\":\"surface\"}],\"table\":[{\"cells\":{\"fill\":{\"color\":\"#EBF0F8\"},\"line\":{\"color\":\"white\"}},\"header\":{\"fill\":{\"color\":\"#C8D4E3\"},\"line\":{\"color\":\"white\"}},\"type\":\"table\"}]},\"layout\":{\"annotationdefaults\":{\"arrowcolor\":\"#2a3f5f\",\"arrowhead\":0,\"arrowwidth\":1},\"autotypenumbers\":\"strict\",\"coloraxis\":{\"colorbar\":{\"outlinewidth\":0,\"ticks\":\"\"}},\"colorscale\":{\"diverging\":[[0,\"#8e0152\"],[0.1,\"#c51b7d\"],[0.2,\"#de77ae\"],[0.3,\"#f1b6da\"],[0.4,\"#fde0ef\"],[0.5,\"#f7f7f7\"],[0.6,\"#e6f5d0\"],[0.7,\"#b8e186\"],[0.8,\"#7fbc41\"],[0.9,\"#4d9221\"],[1,\"#276419\"]],\"sequential\":[[0.0,\"#0d0887\"],[0.1111111111111111,\"#46039f\"],[0.2222222222222222,\"#7201a8\"],[0.3333333333333333,\"#9c179e\"],[0.4444444444444444,\"#bd3786\"],[0.5555555555555556,\"#d8576b\"],[0.6666666666666666,\"#ed7953\"],[0.7777777777777778,\"#fb9f3a\"],[0.8888888888888888,\"#fdca26\"],[1.0,\"#f0f921\"]],\"sequentialminus\":[[0.0,\"#0d0887\"],[0.1111111111111111,\"#46039f\"],[0.2222222222222222,\"#7201a8\"],[0.3333333333333333,\"#9c179e\"],[0.4444444444444444,\"#bd3786\"],[0.5555555555555556,\"#d8576b\"],[0.6666666666666666,\"#ed7953\"],[0.7777777777777778,\"#fb9f3a\"],[0.8888888888888888,\"#fdca26\"],[1.0,\"#f0f921\"]]},\"colorway\":[\"#636efa\",\"#EF553B\",\"#00cc96\",\"#ab63fa\",\"#FFA15A\",\"#19d3f3\",\"#FF6692\",\"#B6E880\",\"#FF97FF\",\"#FECB52\"],\"font\":{\"color\":\"#2a3f5f\"},\"geo\":{\"bgcolor\":\"white\",\"lakecolor\":\"white\",\"landcolor\":\"#E5ECF6\",\"showlakes\":true,\"showland\":true,\"subunitcolor\":\"white\"},\"hoverlabel\":{\"align\":\"left\"},\"hovermode\":\"closest\",\"mapbox\":{\"style\":\"light\"},\"paper_bgcolor\":\"white\",\"plot_bgcolor\":\"#E5ECF6\",\"polar\":{\"angularaxis\":{\"gridcolor\":\"white\",\"linecolor\":\"white\",\"ticks\":\"\"},\"bgcolor\":\"#E5ECF6\",\"radialaxis\":{\"gridcolor\":\"white\",\"linecolor\":\"white\",\"ticks\":\"\"}},\"scene\":{\"xaxis\":{\"backgroundcolor\":\"#E5ECF6\",\"gridcolor\":\"white\",\"gridwidth\":2,\"linecolor\":\"white\",\"showbackground\":true,\"ticks\":\"\",\"zerolinecolor\":\"white\"},\"yaxis\":{\"backgroundcolor\":\"#E5ECF6\",\"gridcolor\":\"white\",\"gridwidth\":2,\"linecolor\":\"white\",\"showbackground\":true,\"ticks\":\"\",\"zerolinecolor\":\"white\"},\"zaxis\":{\"backgroundcolor\":\"#E5ECF6\",\"gridcolor\":\"white\",\"gridwidth\":2,\"linecolor\":\"white\",\"showbackground\":true,\"ticks\":\"\",\"zerolinecolor\":\"white\"}},\"shapedefaults\":{\"line\":{\"color\":\"#2a3f5f\"}},\"ternary\":{\"aaxis\":{\"gridcolor\":\"white\",\"linecolor\":\"white\",\"ticks\":\"\"},\"baxis\":{\"gridcolor\":\"white\",\"linecolor\":\"white\",\"ticks\":\"\"},\"bgcolor\":\"#E5ECF6\",\"caxis\":{\"gridcolor\":\"white\",\"linecolor\":\"white\",\"ticks\":\"\"}},\"title\":{\"x\":0.05},\"xaxis\":{\"automargin\":true,\"gridcolor\":\"white\",\"linecolor\":\"white\",\"ticks\":\"\",\"title\":{\"standoff\":15},\"zerolinecolor\":\"white\",\"zerolinewidth\":2},\"yaxis\":{\"automargin\":true,\"gridcolor\":\"white\",\"linecolor\":\"white\",\"ticks\":\"\",\"title\":{\"standoff\":15},\"zerolinecolor\":\"white\",\"zerolinewidth\":2}}},\"title\":{\"font\":{\"color\":\"#4D5663\"}},\"xaxis\":{\"gridcolor\":\"#E1E5ED\",\"showgrid\":true,\"tickfont\":{\"color\":\"#4D5663\"},\"title\":{\"font\":{\"color\":\"#4D5663\"},\"text\":\"\"},\"zerolinecolor\":\"#E1E5ED\"},\"yaxis\":{\"gridcolor\":\"#E1E5ED\",\"showgrid\":true,\"tickfont\":{\"color\":\"#4D5663\"},\"title\":{\"font\":{\"color\":\"#4D5663\"},\"text\":\"\"},\"zerolinecolor\":\"#E1E5ED\"}},                        {\"showLink\": true, \"linkText\": \"Export to plot.ly\", \"plotlyServerURL\": \"https://plot.ly\", \"responsive\": true}                    ).then(function(){\n",
       "                            \n",
       "var gd = document.getElementById('8947dd5c-12ad-46dc-aebc-ad68923e78cd');\n",
       "var x = new MutationObserver(function (mutations, observer) {{\n",
       "        var display = window.getComputedStyle(gd).display;\n",
       "        if (!display || display === 'none') {{\n",
       "            console.log([gd, 'removed!']);\n",
       "            Plotly.purge(gd);\n",
       "            observer.disconnect();\n",
       "        }}\n",
       "}});\n",
       "\n",
       "// Listen for the removal of the full notebook cells\n",
       "var notebookContainer = gd.closest('#notebook-container');\n",
       "if (notebookContainer) {{\n",
       "    x.observe(notebookContainer, {childList: true});\n",
       "}}\n",
       "\n",
       "// Listen for the clearing of the current output cell\n",
       "var outputEl = gd.closest('.output');\n",
       "if (outputEl) {{\n",
       "    x.observe(outputEl, {childList: true});\n",
       "}}\n",
       "\n",
       "                        })                };                });            </script>        </div>"
      ]
     },
     "metadata": {},
     "output_type": "display_data"
    }
   ],
   "source": [
    "df1.iplot(kind='hist')"
   ]
  },
  {
   "cell_type": "markdown",
   "id": "727a051a",
   "metadata": {},
   "source": [
    "## SPREAD IPLOT"
   ]
  },
  {
   "cell_type": "code",
   "execution_count": 30,
   "id": "8c76e180",
   "metadata": {},
   "outputs": [
    {
     "name": "stderr",
     "output_type": "stream",
     "text": [
      "C:\\Users\\kushw\\anaconda3\\lib\\site-packages\\cufflinks\\plotlytools.py:849: FutureWarning:\n",
      "\n",
      "The pandas.np module is deprecated and will be removed from pandas in a future version. Import numpy directly instead.\n",
      "\n",
      "C:\\Users\\kushw\\anaconda3\\lib\\site-packages\\cufflinks\\plotlytools.py:850: FutureWarning:\n",
      "\n",
      "The pandas.np module is deprecated and will be removed from pandas in a future version. Import numpy directly instead.\n",
      "\n"
     ]
    },
    {
     "data": {
      "application/vnd.plotly.v1+json": {
       "config": {
        "linkText": "Export to plot.ly",
        "plotlyServerURL": "https://plot.ly",
        "showLink": true
       },
       "data": [
        {
         "line": {
          "color": "rgba(255, 153, 51, 1.0)",
          "dash": "solid",
          "shape": "linear",
          "width": 1.3
         },
         "mode": "lines",
         "name": "A",
         "text": "",
         "type": "scatter",
         "x": [
          0,
          1,
          2,
          3,
          4,
          5,
          6,
          7,
          8,
          9,
          10,
          11,
          12,
          13,
          14,
          15,
          16,
          17,
          18,
          19,
          20,
          21,
          22,
          23,
          24,
          25,
          26,
          27,
          28,
          29,
          30,
          31,
          32,
          33,
          34,
          35,
          36,
          37,
          38,
          39,
          40,
          41,
          42,
          43,
          44,
          45,
          46,
          47,
          48,
          49,
          50,
          51,
          52,
          53,
          54,
          55,
          56,
          57,
          58,
          59,
          60,
          61,
          62,
          63,
          64,
          65,
          66,
          67,
          68,
          69,
          70,
          71,
          72,
          73,
          74,
          75,
          76,
          77,
          78,
          79,
          80,
          81,
          82,
          83,
          84,
          85,
          86,
          87,
          88,
          89,
          90,
          91,
          92,
          93,
          94,
          95,
          96,
          97,
          98,
          99
         ],
         "y": [
          -0.3828792050443604,
          -0.8470899644257714,
          0.010194864370989333,
          0.7301852076151661,
          2.0209176306324363,
          -1.5003016962844402,
          1.3118946476906856,
          -0.19669756499513247,
          -0.9076690966885811,
          -0.3237404643459652,
          0.637713854283272,
          -0.03454556326127818,
          0.7796925569817367,
          -1.4423716042022108,
          -2.5845985787359163,
          0.6619539111661311,
          -0.687009387052393,
          -0.07904947689258264,
          0.05497583547432276,
          -0.1251154272973603,
          1.4799840842985588,
          0.4823254913863216,
          -2.280333653758334,
          -0.7687965123125058,
          -1.9305826565370234,
          1.2028531218309138,
          0.11759314103585028,
          0.8219103216225514,
          -1.0600425527288615,
          -0.7924098829680032,
          0.591057506448477,
          0.010539468688751144,
          0.587916797008021,
          0.5345565463711455,
          0.23953843637909966,
          -1.3486453781610805,
          1.4539031141605863,
          -0.7434505578041772,
          -0.06974790232731734,
          -1.3438280814154056,
          0.15028835356929468,
          -0.10287723292446797,
          0.5337958367766493,
          -1.7910145450870145,
          -0.3528093066466839,
          0.28483534146724776,
          -0.2376793634250966,
          -1.1439375104416412,
          -1.6773681066280623,
          1.8838782542672348,
          1.0028758404607157,
          1.019052841097029,
          0.30651768295595916,
          0.4025551526198797,
          -0.8905919688553369,
          -1.382874757587919,
          -0.6816436627196745,
          0.03878334506085071,
          -1.3612397104403606,
          0.3197604660731154,
          -2.538319364008003,
          -1.2091878447993685,
          -0.5249346013368914,
          0.6692146290182188,
          -0.11840123236465151,
          0.8525194553867952,
          -0.6035975956715631,
          0.4283480479109968,
          0.9101749092891146,
          -0.8864024726325933,
          0.7775503744458712,
          -0.3116906590586294,
          -0.0789741170722278,
          -0.46571660288813044,
          -0.7366408087817952,
          -0.34057771638209616,
          1.4270333479578556,
          -0.0685312876711088,
          -2.590989928710988,
          0.54533421224908,
          -0.9316184663461683,
          -0.3357877632399068,
          -1.1004430354999835,
          -1.5112832772747995,
          0.9233033997807208,
          0.9248042476413013,
          0.23712657682615962,
          -1.7926116956644673,
          0.8262882219580409,
          0.41308190167379377,
          0.20507635069705696,
          1.1372928682815537,
          0.19672852705318208,
          1.032022543036123,
          -0.8498915495743655,
          -0.38007228545542127,
          -1.9829304093355187,
          0.05455520904456543,
          0.45889417897813106,
          -0.14456383999886627
         ]
        },
        {
         "line": {
          "color": "rgba(55, 128, 191, 1.0)",
          "dash": "solid",
          "shape": "linear",
          "width": 1.3
         },
         "mode": "lines",
         "name": "B",
         "text": "",
         "type": "scatter",
         "x": [
          0,
          1,
          2,
          3,
          4,
          5,
          6,
          7,
          8,
          9,
          10,
          11,
          12,
          13,
          14,
          15,
          16,
          17,
          18,
          19,
          20,
          21,
          22,
          23,
          24,
          25,
          26,
          27,
          28,
          29,
          30,
          31,
          32,
          33,
          34,
          35,
          36,
          37,
          38,
          39,
          40,
          41,
          42,
          43,
          44,
          45,
          46,
          47,
          48,
          49,
          50,
          51,
          52,
          53,
          54,
          55,
          56,
          57,
          58,
          59,
          60,
          61,
          62,
          63,
          64,
          65,
          66,
          67,
          68,
          69,
          70,
          71,
          72,
          73,
          74,
          75,
          76,
          77,
          78,
          79,
          80,
          81,
          82,
          83,
          84,
          85,
          86,
          87,
          88,
          89,
          90,
          91,
          92,
          93,
          94,
          95,
          96,
          97,
          98,
          99
         ],
         "y": [
          0.34335976624785236,
          -0.5400241296111232,
          0.39625879311483636,
          -1.712841088113455,
          -0.07509142065935204,
          -0.73806711582396,
          0.3883007262086318,
          -0.5719092755359968,
          -0.4088347497306631,
          0.2421573678163824,
          -0.6529781799711727,
          0.38854787692263476,
          0.06453030726300012,
          -0.6988816243862073,
          1.3129702162264079,
          1.1771113015017993,
          -0.9700610592238458,
          1.1808244820001328,
          -1.478327479994,
          -0.46108336232059793,
          0.24491015346100684,
          -0.7318916215779915,
          -1.7148688047324678,
          0.5518859965500226,
          -0.9191779247410646,
          1.1985025549693435,
          2.5581128801469877,
          -0.7762150887891556,
          -1.549934782178811,
          0.05201663776978928,
          1.5232217714596588,
          -0.44708035980241534,
          -0.9086628778502828,
          -0.27525104215952567,
          -0.3577790202540434,
          0.4811753508335344,
          -0.5887451051233683,
          -1.294270125275922,
          0.8523861547501889,
          0.7381047196318503,
          1.0644322360476512,
          1.5967001236435843,
          0.82247172376917,
          -1.645808080381747,
          0.6857054299863742,
          -0.9009862391622963,
          -1.257234685603805,
          0.563120200391336,
          -0.9621725292323109,
          -0.5933983360655105,
          0.1284819007413659,
          -0.4240882124272642,
          1.1118812763090071,
          -1.9227848733315895,
          -0.419556595005051,
          1.5272854460120502,
          0.9102671180274021,
          0.6786808331841732,
          -0.42366626781453104,
          -1.1247464588926015,
          0.5004369031549727,
          -1.422643181814059,
          -0.06352335456872109,
          -0.6140831914140193,
          0.5603086977341717,
          1.474751693797127,
          1.6512484343980032,
          -1.0210150242509708,
          -0.7432289383819919,
          1.3875297294630236,
          -0.6514939869833749,
          1.4721881339131935,
          1.518432510112827,
          0.03638510312744503,
          0.7270871221481457,
          1.0793079148027827,
          0.4072592314941338,
          0.5823303662801511,
          0.2779238844720935,
          1.3057489297021347,
          0.07351712777696348,
          -0.8794259892692825,
          0.29982770281056553,
          -0.3416568949263266,
          3.458170678509682,
          0.058799135304265615,
          -0.3884328992504171,
          0.545514744824541,
          0.24141281219690586,
          -1.212419426084278,
          1.441259323038795,
          0.8503394918604567,
          -0.8204208120323783,
          0.21563670697344076,
          2.8069650295546076,
          1.5238759774181017,
          -0.6621926922073339,
          -1.060870331126299,
          -1.2805044081418444,
          -1.2349226572849306
         ]
        },
        {
         "connectgaps": false,
         "fill": "tozeroy",
         "line": {
          "color": "green",
          "dash": "solid",
          "shape": "linear",
          "width": 0.5
         },
         "mode": "lines",
         "name": "Spread",
         "showlegend": false,
         "type": "scatter",
         "x": [
          0,
          1,
          2,
          3,
          4,
          5,
          6,
          7,
          8,
          9,
          10,
          11,
          12,
          13,
          14,
          15,
          16,
          17,
          18,
          19,
          20,
          21,
          22,
          23,
          24,
          25,
          26,
          27,
          28,
          29,
          30,
          31,
          32,
          33,
          34,
          35,
          36,
          37,
          38,
          39,
          40,
          41,
          42,
          43,
          44,
          45,
          46,
          47,
          48,
          49,
          50,
          51,
          52,
          53,
          54,
          55,
          56,
          57,
          58,
          59,
          60,
          61,
          62,
          63,
          64,
          65,
          66,
          67,
          68,
          69,
          70,
          71,
          72,
          73,
          74,
          75,
          76,
          77,
          78,
          79,
          80,
          81,
          82,
          83,
          84,
          85,
          86,
          87,
          88,
          89,
          90,
          91,
          92,
          93,
          94,
          95,
          96,
          97,
          98,
          99
         ],
         "xaxis": "x2",
         "y": [
          "",
          "",
          "",
          2.4430262957286213,
          2.096009051291788,
          "",
          0.9235939214820539,
          0.37521171054086433,
          "",
          "",
          1.2906920342544446,
          "",
          0.7151622497187365,
          "",
          "",
          "",
          0.2830516721714528,
          "",
          1.5333033154683229,
          0.33596793502323763,
          1.235073930837552,
          1.2142171129643131,
          "",
          "",
          "",
          0.004350566861570204,
          "",
          1.5981254104117069,
          0.4898922294499495,
          "",
          "",
          0.4576198284911665,
          1.4965796748583038,
          0.8098075885306711,
          0.5973174566331431,
          "",
          2.0426482192839543,
          0.5508195674717447,
          "",
          "",
          "",
          "",
          "",
          "",
          "",
          1.185821580629544,
          1.0195553221787084,
          "",
          "",
          2.477276590332745,
          0.8743939397193498,
          1.4431410535242932,
          "",
          2.325340025951469,
          "",
          "",
          "",
          "",
          "",
          1.444506924965717,
          "",
          0.21345533701469055,
          "",
          1.2832978204322383,
          "",
          "",
          "",
          1.4493630721619675,
          1.6534038476711066,
          "",
          1.429044361429246,
          "",
          "",
          "",
          "",
          "",
          1.0197741164637217,
          "",
          "",
          "",
          "",
          0.5436382260293757,
          "",
          "",
          "",
          0.8660051123370357,
          0.6255594760765767,
          "",
          0.5848754097611351,
          1.6255013277580717,
          "",
          0.2869533764210971,
          1.0171493390855604,
          0.8163858360626822,
          "",
          "",
          "",
          1.1154255401708644,
          1.7393985871199755,
          1.0903588172860643
         ],
         "yaxis": "y2"
        },
        {
         "connectgaps": false,
         "fill": "tozeroy",
         "line": {
          "color": "red",
          "dash": "solid",
          "shape": "linear",
          "width": 0.5
         },
         "mode": "lines",
         "name": "Spread",
         "showlegend": false,
         "type": "scatter",
         "x": [
          0,
          1,
          2,
          3,
          4,
          5,
          6,
          7,
          8,
          9,
          10,
          11,
          12,
          13,
          14,
          15,
          16,
          17,
          18,
          19,
          20,
          21,
          22,
          23,
          24,
          25,
          26,
          27,
          28,
          29,
          30,
          31,
          32,
          33,
          34,
          35,
          36,
          37,
          38,
          39,
          40,
          41,
          42,
          43,
          44,
          45,
          46,
          47,
          48,
          49,
          50,
          51,
          52,
          53,
          54,
          55,
          56,
          57,
          58,
          59,
          60,
          61,
          62,
          63,
          64,
          65,
          66,
          67,
          68,
          69,
          70,
          71,
          72,
          73,
          74,
          75,
          76,
          77,
          78,
          79,
          80,
          81,
          82,
          83,
          84,
          85,
          86,
          87,
          88,
          89,
          90,
          91,
          92,
          93,
          94,
          95,
          96,
          97,
          98,
          99
         ],
         "xaxis": "x2",
         "y": [
          -0.7262389712922128,
          -0.3070658348146482,
          -0.38606392874384704,
          "",
          "",
          -0.7622345804604802,
          "",
          "",
          -0.498834346957918,
          -0.5658978321623476,
          "",
          -0.4230934401839129,
          "",
          -0.7434899798160035,
          -3.897568794962324,
          -0.5151573903356682,
          "",
          -1.2598739588927155,
          "",
          "",
          "",
          "",
          -0.565464849025866,
          -1.3206825088625282,
          -1.0114047317959587,
          "",
          -2.4405197391111373,
          "",
          "",
          -0.8444265207377925,
          -0.9321642650111818,
          "",
          "",
          "",
          "",
          -1.829820728994615,
          "",
          "",
          -0.9221340570775062,
          -2.0819328010472558,
          -0.9141438824783565,
          -1.6995773565680523,
          -0.28867588699252067,
          -0.14520646470526755,
          -1.038514736633058,
          "",
          "",
          -1.7070577108329772,
          -0.7151955773957515,
          "",
          "",
          "",
          -0.805363593353048,
          "",
          -0.4710353738502859,
          -2.910160203599969,
          -1.5919107807470767,
          -0.6398974881233225,
          -0.9375734426258295,
          "",
          -3.0387562671629755,
          "",
          -0.4614112467681703,
          "",
          -0.6787099300988232,
          -0.6222322384103318,
          -2.254846030069566,
          "",
          "",
          -2.273932202095617,
          "",
          -1.783878792971823,
          -1.5974066271850549,
          -0.5021017060155755,
          -1.463727930929941,
          -1.4198856311848789,
          "",
          -0.6508616539512599,
          -2.868913813183082,
          -0.7604147174530548,
          -1.0051355941231317,
          "",
          -1.400270738310549,
          -1.169626382348473,
          -2.5348672787289614,
          "",
          "",
          -2.3381264404890083,
          "",
          "",
          -1.236182972341738,
          "",
          "",
          "",
          -3.656856579128973,
          -1.903948262873523,
          -1.3207377171281847,
          "",
          "",
          ""
         ],
         "yaxis": "y2"
        }
       ],
       "layout": {
        "hovermode": "x",
        "legend": {
         "bgcolor": "#F5F6F9",
         "font": {
          "color": "#4D5663"
         }
        },
        "paper_bgcolor": "#F5F6F9",
        "plot_bgcolor": "#F5F6F9",
        "template": {
         "data": {
          "bar": [
           {
            "error_x": {
             "color": "#2a3f5f"
            },
            "error_y": {
             "color": "#2a3f5f"
            },
            "marker": {
             "line": {
              "color": "#E5ECF6",
              "width": 0.5
             },
             "pattern": {
              "fillmode": "overlay",
              "size": 10,
              "solidity": 0.2
             }
            },
            "type": "bar"
           }
          ],
          "barpolar": [
           {
            "marker": {
             "line": {
              "color": "#E5ECF6",
              "width": 0.5
             },
             "pattern": {
              "fillmode": "overlay",
              "size": 10,
              "solidity": 0.2
             }
            },
            "type": "barpolar"
           }
          ],
          "carpet": [
           {
            "aaxis": {
             "endlinecolor": "#2a3f5f",
             "gridcolor": "white",
             "linecolor": "white",
             "minorgridcolor": "white",
             "startlinecolor": "#2a3f5f"
            },
            "baxis": {
             "endlinecolor": "#2a3f5f",
             "gridcolor": "white",
             "linecolor": "white",
             "minorgridcolor": "white",
             "startlinecolor": "#2a3f5f"
            },
            "type": "carpet"
           }
          ],
          "choropleth": [
           {
            "colorbar": {
             "outlinewidth": 0,
             "ticks": ""
            },
            "type": "choropleth"
           }
          ],
          "contour": [
           {
            "colorbar": {
             "outlinewidth": 0,
             "ticks": ""
            },
            "colorscale": [
             [
              0,
              "#0d0887"
             ],
             [
              0.1111111111111111,
              "#46039f"
             ],
             [
              0.2222222222222222,
              "#7201a8"
             ],
             [
              0.3333333333333333,
              "#9c179e"
             ],
             [
              0.4444444444444444,
              "#bd3786"
             ],
             [
              0.5555555555555556,
              "#d8576b"
             ],
             [
              0.6666666666666666,
              "#ed7953"
             ],
             [
              0.7777777777777778,
              "#fb9f3a"
             ],
             [
              0.8888888888888888,
              "#fdca26"
             ],
             [
              1,
              "#f0f921"
             ]
            ],
            "type": "contour"
           }
          ],
          "contourcarpet": [
           {
            "colorbar": {
             "outlinewidth": 0,
             "ticks": ""
            },
            "type": "contourcarpet"
           }
          ],
          "heatmap": [
           {
            "colorbar": {
             "outlinewidth": 0,
             "ticks": ""
            },
            "colorscale": [
             [
              0,
              "#0d0887"
             ],
             [
              0.1111111111111111,
              "#46039f"
             ],
             [
              0.2222222222222222,
              "#7201a8"
             ],
             [
              0.3333333333333333,
              "#9c179e"
             ],
             [
              0.4444444444444444,
              "#bd3786"
             ],
             [
              0.5555555555555556,
              "#d8576b"
             ],
             [
              0.6666666666666666,
              "#ed7953"
             ],
             [
              0.7777777777777778,
              "#fb9f3a"
             ],
             [
              0.8888888888888888,
              "#fdca26"
             ],
             [
              1,
              "#f0f921"
             ]
            ],
            "type": "heatmap"
           }
          ],
          "heatmapgl": [
           {
            "colorbar": {
             "outlinewidth": 0,
             "ticks": ""
            },
            "colorscale": [
             [
              0,
              "#0d0887"
             ],
             [
              0.1111111111111111,
              "#46039f"
             ],
             [
              0.2222222222222222,
              "#7201a8"
             ],
             [
              0.3333333333333333,
              "#9c179e"
             ],
             [
              0.4444444444444444,
              "#bd3786"
             ],
             [
              0.5555555555555556,
              "#d8576b"
             ],
             [
              0.6666666666666666,
              "#ed7953"
             ],
             [
              0.7777777777777778,
              "#fb9f3a"
             ],
             [
              0.8888888888888888,
              "#fdca26"
             ],
             [
              1,
              "#f0f921"
             ]
            ],
            "type": "heatmapgl"
           }
          ],
          "histogram": [
           {
            "marker": {
             "pattern": {
              "fillmode": "overlay",
              "size": 10,
              "solidity": 0.2
             }
            },
            "type": "histogram"
           }
          ],
          "histogram2d": [
           {
            "colorbar": {
             "outlinewidth": 0,
             "ticks": ""
            },
            "colorscale": [
             [
              0,
              "#0d0887"
             ],
             [
              0.1111111111111111,
              "#46039f"
             ],
             [
              0.2222222222222222,
              "#7201a8"
             ],
             [
              0.3333333333333333,
              "#9c179e"
             ],
             [
              0.4444444444444444,
              "#bd3786"
             ],
             [
              0.5555555555555556,
              "#d8576b"
             ],
             [
              0.6666666666666666,
              "#ed7953"
             ],
             [
              0.7777777777777778,
              "#fb9f3a"
             ],
             [
              0.8888888888888888,
              "#fdca26"
             ],
             [
              1,
              "#f0f921"
             ]
            ],
            "type": "histogram2d"
           }
          ],
          "histogram2dcontour": [
           {
            "colorbar": {
             "outlinewidth": 0,
             "ticks": ""
            },
            "colorscale": [
             [
              0,
              "#0d0887"
             ],
             [
              0.1111111111111111,
              "#46039f"
             ],
             [
              0.2222222222222222,
              "#7201a8"
             ],
             [
              0.3333333333333333,
              "#9c179e"
             ],
             [
              0.4444444444444444,
              "#bd3786"
             ],
             [
              0.5555555555555556,
              "#d8576b"
             ],
             [
              0.6666666666666666,
              "#ed7953"
             ],
             [
              0.7777777777777778,
              "#fb9f3a"
             ],
             [
              0.8888888888888888,
              "#fdca26"
             ],
             [
              1,
              "#f0f921"
             ]
            ],
            "type": "histogram2dcontour"
           }
          ],
          "mesh3d": [
           {
            "colorbar": {
             "outlinewidth": 0,
             "ticks": ""
            },
            "type": "mesh3d"
           }
          ],
          "parcoords": [
           {
            "line": {
             "colorbar": {
              "outlinewidth": 0,
              "ticks": ""
             }
            },
            "type": "parcoords"
           }
          ],
          "pie": [
           {
            "automargin": true,
            "type": "pie"
           }
          ],
          "scatter": [
           {
            "marker": {
             "colorbar": {
              "outlinewidth": 0,
              "ticks": ""
             }
            },
            "type": "scatter"
           }
          ],
          "scatter3d": [
           {
            "line": {
             "colorbar": {
              "outlinewidth": 0,
              "ticks": ""
             }
            },
            "marker": {
             "colorbar": {
              "outlinewidth": 0,
              "ticks": ""
             }
            },
            "type": "scatter3d"
           }
          ],
          "scattercarpet": [
           {
            "marker": {
             "colorbar": {
              "outlinewidth": 0,
              "ticks": ""
             }
            },
            "type": "scattercarpet"
           }
          ],
          "scattergeo": [
           {
            "marker": {
             "colorbar": {
              "outlinewidth": 0,
              "ticks": ""
             }
            },
            "type": "scattergeo"
           }
          ],
          "scattergl": [
           {
            "marker": {
             "colorbar": {
              "outlinewidth": 0,
              "ticks": ""
             }
            },
            "type": "scattergl"
           }
          ],
          "scattermapbox": [
           {
            "marker": {
             "colorbar": {
              "outlinewidth": 0,
              "ticks": ""
             }
            },
            "type": "scattermapbox"
           }
          ],
          "scatterpolar": [
           {
            "marker": {
             "colorbar": {
              "outlinewidth": 0,
              "ticks": ""
             }
            },
            "type": "scatterpolar"
           }
          ],
          "scatterpolargl": [
           {
            "marker": {
             "colorbar": {
              "outlinewidth": 0,
              "ticks": ""
             }
            },
            "type": "scatterpolargl"
           }
          ],
          "scatterternary": [
           {
            "marker": {
             "colorbar": {
              "outlinewidth": 0,
              "ticks": ""
             }
            },
            "type": "scatterternary"
           }
          ],
          "surface": [
           {
            "colorbar": {
             "outlinewidth": 0,
             "ticks": ""
            },
            "colorscale": [
             [
              0,
              "#0d0887"
             ],
             [
              0.1111111111111111,
              "#46039f"
             ],
             [
              0.2222222222222222,
              "#7201a8"
             ],
             [
              0.3333333333333333,
              "#9c179e"
             ],
             [
              0.4444444444444444,
              "#bd3786"
             ],
             [
              0.5555555555555556,
              "#d8576b"
             ],
             [
              0.6666666666666666,
              "#ed7953"
             ],
             [
              0.7777777777777778,
              "#fb9f3a"
             ],
             [
              0.8888888888888888,
              "#fdca26"
             ],
             [
              1,
              "#f0f921"
             ]
            ],
            "type": "surface"
           }
          ],
          "table": [
           {
            "cells": {
             "fill": {
              "color": "#EBF0F8"
             },
             "line": {
              "color": "white"
             }
            },
            "header": {
             "fill": {
              "color": "#C8D4E3"
             },
             "line": {
              "color": "white"
             }
            },
            "type": "table"
           }
          ]
         },
         "layout": {
          "annotationdefaults": {
           "arrowcolor": "#2a3f5f",
           "arrowhead": 0,
           "arrowwidth": 1
          },
          "autotypenumbers": "strict",
          "coloraxis": {
           "colorbar": {
            "outlinewidth": 0,
            "ticks": ""
           }
          },
          "colorscale": {
           "diverging": [
            [
             0,
             "#8e0152"
            ],
            [
             0.1,
             "#c51b7d"
            ],
            [
             0.2,
             "#de77ae"
            ],
            [
             0.3,
             "#f1b6da"
            ],
            [
             0.4,
             "#fde0ef"
            ],
            [
             0.5,
             "#f7f7f7"
            ],
            [
             0.6,
             "#e6f5d0"
            ],
            [
             0.7,
             "#b8e186"
            ],
            [
             0.8,
             "#7fbc41"
            ],
            [
             0.9,
             "#4d9221"
            ],
            [
             1,
             "#276419"
            ]
           ],
           "sequential": [
            [
             0,
             "#0d0887"
            ],
            [
             0.1111111111111111,
             "#46039f"
            ],
            [
             0.2222222222222222,
             "#7201a8"
            ],
            [
             0.3333333333333333,
             "#9c179e"
            ],
            [
             0.4444444444444444,
             "#bd3786"
            ],
            [
             0.5555555555555556,
             "#d8576b"
            ],
            [
             0.6666666666666666,
             "#ed7953"
            ],
            [
             0.7777777777777778,
             "#fb9f3a"
            ],
            [
             0.8888888888888888,
             "#fdca26"
            ],
            [
             1,
             "#f0f921"
            ]
           ],
           "sequentialminus": [
            [
             0,
             "#0d0887"
            ],
            [
             0.1111111111111111,
             "#46039f"
            ],
            [
             0.2222222222222222,
             "#7201a8"
            ],
            [
             0.3333333333333333,
             "#9c179e"
            ],
            [
             0.4444444444444444,
             "#bd3786"
            ],
            [
             0.5555555555555556,
             "#d8576b"
            ],
            [
             0.6666666666666666,
             "#ed7953"
            ],
            [
             0.7777777777777778,
             "#fb9f3a"
            ],
            [
             0.8888888888888888,
             "#fdca26"
            ],
            [
             1,
             "#f0f921"
            ]
           ]
          },
          "colorway": [
           "#636efa",
           "#EF553B",
           "#00cc96",
           "#ab63fa",
           "#FFA15A",
           "#19d3f3",
           "#FF6692",
           "#B6E880",
           "#FF97FF",
           "#FECB52"
          ],
          "font": {
           "color": "#2a3f5f"
          },
          "geo": {
           "bgcolor": "white",
           "lakecolor": "white",
           "landcolor": "#E5ECF6",
           "showlakes": true,
           "showland": true,
           "subunitcolor": "white"
          },
          "hoverlabel": {
           "align": "left"
          },
          "hovermode": "closest",
          "mapbox": {
           "style": "light"
          },
          "paper_bgcolor": "white",
          "plot_bgcolor": "#E5ECF6",
          "polar": {
           "angularaxis": {
            "gridcolor": "white",
            "linecolor": "white",
            "ticks": ""
           },
           "bgcolor": "#E5ECF6",
           "radialaxis": {
            "gridcolor": "white",
            "linecolor": "white",
            "ticks": ""
           }
          },
          "scene": {
           "xaxis": {
            "backgroundcolor": "#E5ECF6",
            "gridcolor": "white",
            "gridwidth": 2,
            "linecolor": "white",
            "showbackground": true,
            "ticks": "",
            "zerolinecolor": "white"
           },
           "yaxis": {
            "backgroundcolor": "#E5ECF6",
            "gridcolor": "white",
            "gridwidth": 2,
            "linecolor": "white",
            "showbackground": true,
            "ticks": "",
            "zerolinecolor": "white"
           },
           "zaxis": {
            "backgroundcolor": "#E5ECF6",
            "gridcolor": "white",
            "gridwidth": 2,
            "linecolor": "white",
            "showbackground": true,
            "ticks": "",
            "zerolinecolor": "white"
           }
          },
          "shapedefaults": {
           "line": {
            "color": "#2a3f5f"
           }
          },
          "ternary": {
           "aaxis": {
            "gridcolor": "white",
            "linecolor": "white",
            "ticks": ""
           },
           "baxis": {
            "gridcolor": "white",
            "linecolor": "white",
            "ticks": ""
           },
           "bgcolor": "#E5ECF6",
           "caxis": {
            "gridcolor": "white",
            "linecolor": "white",
            "ticks": ""
           }
          },
          "title": {
           "x": 0.05
          },
          "xaxis": {
           "automargin": true,
           "gridcolor": "white",
           "linecolor": "white",
           "ticks": "",
           "title": {
            "standoff": 15
           },
           "zerolinecolor": "white",
           "zerolinewidth": 2
          },
          "yaxis": {
           "automargin": true,
           "gridcolor": "white",
           "linecolor": "white",
           "ticks": "",
           "title": {
            "standoff": 15
           },
           "zerolinecolor": "white",
           "zerolinewidth": 2
          }
         }
        },
        "title": {
         "font": {
          "color": "#4D5663"
         }
        },
        "xaxis": {
         "gridcolor": "#E1E5ED",
         "showgrid": true,
         "tickfont": {
          "color": "#4D5663"
         },
         "title": {
          "font": {
           "color": "#4D5663"
          },
          "text": ""
         },
         "zerolinecolor": "#E1E5ED"
        },
        "xaxis2": {
         "anchor": "y2",
         "gridcolor": "#E1E5ED",
         "showgrid": true,
         "showticklabels": false,
         "tickfont": {
          "color": "#4D5663"
         },
         "title": {
          "font": {
           "color": "#4D5663"
          },
          "text": ""
         },
         "zerolinecolor": "#E1E5ED"
        },
        "yaxis": {
         "domain": [
          0.3,
          1
         ],
         "gridcolor": "#E1E5ED",
         "showgrid": true,
         "tickfont": {
          "color": "#4D5663"
         },
         "title": {
          "font": {
           "color": "#4D5663"
          },
          "text": ""
         },
         "zerolinecolor": "#E1E5ED"
        },
        "yaxis2": {
         "domain": [
          0,
          0.25
         ],
         "gridcolor": "#E1E5ED",
         "showgrid": true,
         "tickfont": {
          "color": "#4D5663"
         },
         "title": {
          "font": {
           "color": "#4D5663"
          },
          "text": "Spread"
         },
         "zerolinecolor": "#E1E5ED"
        }
       }
      },
      "text/html": [
       "<div>                            <div id=\"1725ee4a-fdba-45df-ae8e-1ce25b97abc7\" class=\"plotly-graph-div\" style=\"height:525px; width:100%;\"></div>            <script type=\"text/javascript\">                require([\"plotly\"], function(Plotly) {                    window.PLOTLYENV=window.PLOTLYENV || {};\n",
       "                    window.PLOTLYENV.BASE_URL='https://plot.ly';                                    if (document.getElementById(\"1725ee4a-fdba-45df-ae8e-1ce25b97abc7\")) {                    Plotly.newPlot(                        \"1725ee4a-fdba-45df-ae8e-1ce25b97abc7\",                        [{\"line\":{\"color\":\"rgba(255, 153, 51, 1.0)\",\"dash\":\"solid\",\"shape\":\"linear\",\"width\":1.3},\"mode\":\"lines\",\"name\":\"A\",\"text\":\"\",\"x\":[0,1,2,3,4,5,6,7,8,9,10,11,12,13,14,15,16,17,18,19,20,21,22,23,24,25,26,27,28,29,30,31,32,33,34,35,36,37,38,39,40,41,42,43,44,45,46,47,48,49,50,51,52,53,54,55,56,57,58,59,60,61,62,63,64,65,66,67,68,69,70,71,72,73,74,75,76,77,78,79,80,81,82,83,84,85,86,87,88,89,90,91,92,93,94,95,96,97,98,99],\"y\":[-0.3828792050443604,-0.8470899644257714,0.010194864370989333,0.7301852076151661,2.0209176306324363,-1.5003016962844402,1.3118946476906856,-0.19669756499513247,-0.9076690966885811,-0.3237404643459652,0.637713854283272,-0.03454556326127818,0.7796925569817367,-1.4423716042022108,-2.5845985787359163,0.6619539111661311,-0.687009387052393,-0.07904947689258264,0.05497583547432276,-0.1251154272973603,1.4799840842985588,0.4823254913863216,-2.280333653758334,-0.7687965123125058,-1.9305826565370234,1.2028531218309138,0.11759314103585028,0.8219103216225514,-1.0600425527288615,-0.7924098829680032,0.591057506448477,0.010539468688751144,0.587916797008021,0.5345565463711455,0.23953843637909966,-1.3486453781610805,1.4539031141605863,-0.7434505578041772,-0.06974790232731734,-1.3438280814154056,0.15028835356929468,-0.10287723292446797,0.5337958367766493,-1.7910145450870145,-0.3528093066466839,0.28483534146724776,-0.2376793634250966,-1.1439375104416412,-1.6773681066280623,1.8838782542672348,1.0028758404607157,1.019052841097029,0.30651768295595916,0.4025551526198797,-0.8905919688553369,-1.382874757587919,-0.6816436627196745,0.03878334506085071,-1.3612397104403606,0.3197604660731154,-2.538319364008003,-1.2091878447993685,-0.5249346013368914,0.6692146290182188,-0.11840123236465151,0.8525194553867952,-0.6035975956715631,0.4283480479109968,0.9101749092891146,-0.8864024726325933,0.7775503744458712,-0.3116906590586294,-0.0789741170722278,-0.46571660288813044,-0.7366408087817952,-0.34057771638209616,1.4270333479578556,-0.0685312876711088,-2.590989928710988,0.54533421224908,-0.9316184663461683,-0.3357877632399068,-1.1004430354999835,-1.5112832772747995,0.9233033997807208,0.9248042476413013,0.23712657682615962,-1.7926116956644673,0.8262882219580409,0.41308190167379377,0.20507635069705696,1.1372928682815537,0.19672852705318208,1.032022543036123,-0.8498915495743655,-0.38007228545542127,-1.9829304093355187,0.05455520904456543,0.45889417897813106,-0.14456383999886627],\"type\":\"scatter\"},{\"line\":{\"color\":\"rgba(55, 128, 191, 1.0)\",\"dash\":\"solid\",\"shape\":\"linear\",\"width\":1.3},\"mode\":\"lines\",\"name\":\"B\",\"text\":\"\",\"x\":[0,1,2,3,4,5,6,7,8,9,10,11,12,13,14,15,16,17,18,19,20,21,22,23,24,25,26,27,28,29,30,31,32,33,34,35,36,37,38,39,40,41,42,43,44,45,46,47,48,49,50,51,52,53,54,55,56,57,58,59,60,61,62,63,64,65,66,67,68,69,70,71,72,73,74,75,76,77,78,79,80,81,82,83,84,85,86,87,88,89,90,91,92,93,94,95,96,97,98,99],\"y\":[0.34335976624785236,-0.5400241296111232,0.39625879311483636,-1.712841088113455,-0.07509142065935204,-0.73806711582396,0.3883007262086318,-0.5719092755359968,-0.4088347497306631,0.2421573678163824,-0.6529781799711727,0.38854787692263476,0.06453030726300012,-0.6988816243862073,1.3129702162264079,1.1771113015017993,-0.9700610592238458,1.1808244820001328,-1.478327479994,-0.46108336232059793,0.24491015346100684,-0.7318916215779915,-1.7148688047324678,0.5518859965500226,-0.9191779247410646,1.1985025549693435,2.5581128801469877,-0.7762150887891556,-1.549934782178811,0.05201663776978928,1.5232217714596588,-0.44708035980241534,-0.9086628778502828,-0.27525104215952567,-0.3577790202540434,0.4811753508335344,-0.5887451051233683,-1.294270125275922,0.8523861547501889,0.7381047196318503,1.0644322360476512,1.5967001236435843,0.82247172376917,-1.645808080381747,0.6857054299863742,-0.9009862391622963,-1.257234685603805,0.563120200391336,-0.9621725292323109,-0.5933983360655105,0.1284819007413659,-0.4240882124272642,1.1118812763090071,-1.9227848733315895,-0.419556595005051,1.5272854460120502,0.9102671180274021,0.6786808331841732,-0.42366626781453104,-1.1247464588926015,0.5004369031549727,-1.422643181814059,-0.06352335456872109,-0.6140831914140193,0.5603086977341717,1.474751693797127,1.6512484343980032,-1.0210150242509708,-0.7432289383819919,1.3875297294630236,-0.6514939869833749,1.4721881339131935,1.518432510112827,0.03638510312744503,0.7270871221481457,1.0793079148027827,0.4072592314941338,0.5823303662801511,0.2779238844720935,1.3057489297021347,0.07351712777696348,-0.8794259892692825,0.29982770281056553,-0.3416568949263266,3.458170678509682,0.058799135304265615,-0.3884328992504171,0.545514744824541,0.24141281219690586,-1.212419426084278,1.441259323038795,0.8503394918604567,-0.8204208120323783,0.21563670697344076,2.8069650295546076,1.5238759774181017,-0.6621926922073339,-1.060870331126299,-1.2805044081418444,-1.2349226572849306],\"type\":\"scatter\"},{\"connectgaps\":false,\"fill\":\"tozeroy\",\"line\":{\"color\":\"green\",\"dash\":\"solid\",\"shape\":\"linear\",\"width\":0.5},\"mode\":\"lines\",\"name\":\"Spread\",\"showlegend\":false,\"x\":[0,1,2,3,4,5,6,7,8,9,10,11,12,13,14,15,16,17,18,19,20,21,22,23,24,25,26,27,28,29,30,31,32,33,34,35,36,37,38,39,40,41,42,43,44,45,46,47,48,49,50,51,52,53,54,55,56,57,58,59,60,61,62,63,64,65,66,67,68,69,70,71,72,73,74,75,76,77,78,79,80,81,82,83,84,85,86,87,88,89,90,91,92,93,94,95,96,97,98,99],\"xaxis\":\"x2\",\"y\":[\"\",\"\",\"\",2.4430262957286213,2.096009051291788,\"\",0.9235939214820539,0.37521171054086433,\"\",\"\",1.2906920342544446,\"\",0.7151622497187365,\"\",\"\",\"\",0.2830516721714528,\"\",1.5333033154683229,0.33596793502323763,1.235073930837552,1.2142171129643131,\"\",\"\",\"\",0.004350566861570204,\"\",1.5981254104117069,0.4898922294499495,\"\",\"\",0.4576198284911665,1.4965796748583038,0.8098075885306711,0.5973174566331431,\"\",2.0426482192839543,0.5508195674717447,\"\",\"\",\"\",\"\",\"\",\"\",\"\",1.185821580629544,1.0195553221787084,\"\",\"\",2.477276590332745,0.8743939397193498,1.4431410535242932,\"\",2.325340025951469,\"\",\"\",\"\",\"\",\"\",1.444506924965717,\"\",0.21345533701469055,\"\",1.2832978204322383,\"\",\"\",\"\",1.4493630721619675,1.6534038476711066,\"\",1.429044361429246,\"\",\"\",\"\",\"\",\"\",1.0197741164637217,\"\",\"\",\"\",\"\",0.5436382260293757,\"\",\"\",\"\",0.8660051123370357,0.6255594760765767,\"\",0.5848754097611351,1.6255013277580717,\"\",0.2869533764210971,1.0171493390855604,0.8163858360626822,\"\",\"\",\"\",1.1154255401708644,1.7393985871199755,1.0903588172860643],\"yaxis\":\"y2\",\"type\":\"scatter\"},{\"connectgaps\":false,\"fill\":\"tozeroy\",\"line\":{\"color\":\"red\",\"dash\":\"solid\",\"shape\":\"linear\",\"width\":0.5},\"mode\":\"lines\",\"name\":\"Spread\",\"showlegend\":false,\"x\":[0,1,2,3,4,5,6,7,8,9,10,11,12,13,14,15,16,17,18,19,20,21,22,23,24,25,26,27,28,29,30,31,32,33,34,35,36,37,38,39,40,41,42,43,44,45,46,47,48,49,50,51,52,53,54,55,56,57,58,59,60,61,62,63,64,65,66,67,68,69,70,71,72,73,74,75,76,77,78,79,80,81,82,83,84,85,86,87,88,89,90,91,92,93,94,95,96,97,98,99],\"xaxis\":\"x2\",\"y\":[-0.7262389712922128,-0.3070658348146482,-0.38606392874384704,\"\",\"\",-0.7622345804604802,\"\",\"\",-0.498834346957918,-0.5658978321623476,\"\",-0.4230934401839129,\"\",-0.7434899798160035,-3.897568794962324,-0.5151573903356682,\"\",-1.2598739588927155,\"\",\"\",\"\",\"\",-0.565464849025866,-1.3206825088625282,-1.0114047317959587,\"\",-2.4405197391111373,\"\",\"\",-0.8444265207377925,-0.9321642650111818,\"\",\"\",\"\",\"\",-1.829820728994615,\"\",\"\",-0.9221340570775062,-2.0819328010472558,-0.9141438824783565,-1.6995773565680523,-0.28867588699252067,-0.14520646470526755,-1.038514736633058,\"\",\"\",-1.7070577108329772,-0.7151955773957515,\"\",\"\",\"\",-0.805363593353048,\"\",-0.4710353738502859,-2.910160203599969,-1.5919107807470767,-0.6398974881233225,-0.9375734426258295,\"\",-3.0387562671629755,\"\",-0.4614112467681703,\"\",-0.6787099300988232,-0.6222322384103318,-2.254846030069566,\"\",\"\",-2.273932202095617,\"\",-1.783878792971823,-1.5974066271850549,-0.5021017060155755,-1.463727930929941,-1.4198856311848789,\"\",-0.6508616539512599,-2.868913813183082,-0.7604147174530548,-1.0051355941231317,\"\",-1.400270738310549,-1.169626382348473,-2.5348672787289614,\"\",\"\",-2.3381264404890083,\"\",\"\",-1.236182972341738,\"\",\"\",\"\",-3.656856579128973,-1.903948262873523,-1.3207377171281847,\"\",\"\",\"\"],\"yaxis\":\"y2\",\"type\":\"scatter\"}],                        {\"hovermode\":\"x\",\"legend\":{\"bgcolor\":\"#F5F6F9\",\"font\":{\"color\":\"#4D5663\"}},\"paper_bgcolor\":\"#F5F6F9\",\"plot_bgcolor\":\"#F5F6F9\",\"template\":{\"data\":{\"barpolar\":[{\"marker\":{\"line\":{\"color\":\"#E5ECF6\",\"width\":0.5},\"pattern\":{\"fillmode\":\"overlay\",\"size\":10,\"solidity\":0.2}},\"type\":\"barpolar\"}],\"bar\":[{\"error_x\":{\"color\":\"#2a3f5f\"},\"error_y\":{\"color\":\"#2a3f5f\"},\"marker\":{\"line\":{\"color\":\"#E5ECF6\",\"width\":0.5},\"pattern\":{\"fillmode\":\"overlay\",\"size\":10,\"solidity\":0.2}},\"type\":\"bar\"}],\"carpet\":[{\"aaxis\":{\"endlinecolor\":\"#2a3f5f\",\"gridcolor\":\"white\",\"linecolor\":\"white\",\"minorgridcolor\":\"white\",\"startlinecolor\":\"#2a3f5f\"},\"baxis\":{\"endlinecolor\":\"#2a3f5f\",\"gridcolor\":\"white\",\"linecolor\":\"white\",\"minorgridcolor\":\"white\",\"startlinecolor\":\"#2a3f5f\"},\"type\":\"carpet\"}],\"choropleth\":[{\"colorbar\":{\"outlinewidth\":0,\"ticks\":\"\"},\"type\":\"choropleth\"}],\"contourcarpet\":[{\"colorbar\":{\"outlinewidth\":0,\"ticks\":\"\"},\"type\":\"contourcarpet\"}],\"contour\":[{\"colorbar\":{\"outlinewidth\":0,\"ticks\":\"\"},\"colorscale\":[[0.0,\"#0d0887\"],[0.1111111111111111,\"#46039f\"],[0.2222222222222222,\"#7201a8\"],[0.3333333333333333,\"#9c179e\"],[0.4444444444444444,\"#bd3786\"],[0.5555555555555556,\"#d8576b\"],[0.6666666666666666,\"#ed7953\"],[0.7777777777777778,\"#fb9f3a\"],[0.8888888888888888,\"#fdca26\"],[1.0,\"#f0f921\"]],\"type\":\"contour\"}],\"heatmapgl\":[{\"colorbar\":{\"outlinewidth\":0,\"ticks\":\"\"},\"colorscale\":[[0.0,\"#0d0887\"],[0.1111111111111111,\"#46039f\"],[0.2222222222222222,\"#7201a8\"],[0.3333333333333333,\"#9c179e\"],[0.4444444444444444,\"#bd3786\"],[0.5555555555555556,\"#d8576b\"],[0.6666666666666666,\"#ed7953\"],[0.7777777777777778,\"#fb9f3a\"],[0.8888888888888888,\"#fdca26\"],[1.0,\"#f0f921\"]],\"type\":\"heatmapgl\"}],\"heatmap\":[{\"colorbar\":{\"outlinewidth\":0,\"ticks\":\"\"},\"colorscale\":[[0.0,\"#0d0887\"],[0.1111111111111111,\"#46039f\"],[0.2222222222222222,\"#7201a8\"],[0.3333333333333333,\"#9c179e\"],[0.4444444444444444,\"#bd3786\"],[0.5555555555555556,\"#d8576b\"],[0.6666666666666666,\"#ed7953\"],[0.7777777777777778,\"#fb9f3a\"],[0.8888888888888888,\"#fdca26\"],[1.0,\"#f0f921\"]],\"type\":\"heatmap\"}],\"histogram2dcontour\":[{\"colorbar\":{\"outlinewidth\":0,\"ticks\":\"\"},\"colorscale\":[[0.0,\"#0d0887\"],[0.1111111111111111,\"#46039f\"],[0.2222222222222222,\"#7201a8\"],[0.3333333333333333,\"#9c179e\"],[0.4444444444444444,\"#bd3786\"],[0.5555555555555556,\"#d8576b\"],[0.6666666666666666,\"#ed7953\"],[0.7777777777777778,\"#fb9f3a\"],[0.8888888888888888,\"#fdca26\"],[1.0,\"#f0f921\"]],\"type\":\"histogram2dcontour\"}],\"histogram2d\":[{\"colorbar\":{\"outlinewidth\":0,\"ticks\":\"\"},\"colorscale\":[[0.0,\"#0d0887\"],[0.1111111111111111,\"#46039f\"],[0.2222222222222222,\"#7201a8\"],[0.3333333333333333,\"#9c179e\"],[0.4444444444444444,\"#bd3786\"],[0.5555555555555556,\"#d8576b\"],[0.6666666666666666,\"#ed7953\"],[0.7777777777777778,\"#fb9f3a\"],[0.8888888888888888,\"#fdca26\"],[1.0,\"#f0f921\"]],\"type\":\"histogram2d\"}],\"histogram\":[{\"marker\":{\"pattern\":{\"fillmode\":\"overlay\",\"size\":10,\"solidity\":0.2}},\"type\":\"histogram\"}],\"mesh3d\":[{\"colorbar\":{\"outlinewidth\":0,\"ticks\":\"\"},\"type\":\"mesh3d\"}],\"parcoords\":[{\"line\":{\"colorbar\":{\"outlinewidth\":0,\"ticks\":\"\"}},\"type\":\"parcoords\"}],\"pie\":[{\"automargin\":true,\"type\":\"pie\"}],\"scatter3d\":[{\"line\":{\"colorbar\":{\"outlinewidth\":0,\"ticks\":\"\"}},\"marker\":{\"colorbar\":{\"outlinewidth\":0,\"ticks\":\"\"}},\"type\":\"scatter3d\"}],\"scattercarpet\":[{\"marker\":{\"colorbar\":{\"outlinewidth\":0,\"ticks\":\"\"}},\"type\":\"scattercarpet\"}],\"scattergeo\":[{\"marker\":{\"colorbar\":{\"outlinewidth\":0,\"ticks\":\"\"}},\"type\":\"scattergeo\"}],\"scattergl\":[{\"marker\":{\"colorbar\":{\"outlinewidth\":0,\"ticks\":\"\"}},\"type\":\"scattergl\"}],\"scattermapbox\":[{\"marker\":{\"colorbar\":{\"outlinewidth\":0,\"ticks\":\"\"}},\"type\":\"scattermapbox\"}],\"scatterpolargl\":[{\"marker\":{\"colorbar\":{\"outlinewidth\":0,\"ticks\":\"\"}},\"type\":\"scatterpolargl\"}],\"scatterpolar\":[{\"marker\":{\"colorbar\":{\"outlinewidth\":0,\"ticks\":\"\"}},\"type\":\"scatterpolar\"}],\"scatter\":[{\"marker\":{\"colorbar\":{\"outlinewidth\":0,\"ticks\":\"\"}},\"type\":\"scatter\"}],\"scatterternary\":[{\"marker\":{\"colorbar\":{\"outlinewidth\":0,\"ticks\":\"\"}},\"type\":\"scatterternary\"}],\"surface\":[{\"colorbar\":{\"outlinewidth\":0,\"ticks\":\"\"},\"colorscale\":[[0.0,\"#0d0887\"],[0.1111111111111111,\"#46039f\"],[0.2222222222222222,\"#7201a8\"],[0.3333333333333333,\"#9c179e\"],[0.4444444444444444,\"#bd3786\"],[0.5555555555555556,\"#d8576b\"],[0.6666666666666666,\"#ed7953\"],[0.7777777777777778,\"#fb9f3a\"],[0.8888888888888888,\"#fdca26\"],[1.0,\"#f0f921\"]],\"type\":\"surface\"}],\"table\":[{\"cells\":{\"fill\":{\"color\":\"#EBF0F8\"},\"line\":{\"color\":\"white\"}},\"header\":{\"fill\":{\"color\":\"#C8D4E3\"},\"line\":{\"color\":\"white\"}},\"type\":\"table\"}]},\"layout\":{\"annotationdefaults\":{\"arrowcolor\":\"#2a3f5f\",\"arrowhead\":0,\"arrowwidth\":1},\"autotypenumbers\":\"strict\",\"coloraxis\":{\"colorbar\":{\"outlinewidth\":0,\"ticks\":\"\"}},\"colorscale\":{\"diverging\":[[0,\"#8e0152\"],[0.1,\"#c51b7d\"],[0.2,\"#de77ae\"],[0.3,\"#f1b6da\"],[0.4,\"#fde0ef\"],[0.5,\"#f7f7f7\"],[0.6,\"#e6f5d0\"],[0.7,\"#b8e186\"],[0.8,\"#7fbc41\"],[0.9,\"#4d9221\"],[1,\"#276419\"]],\"sequential\":[[0.0,\"#0d0887\"],[0.1111111111111111,\"#46039f\"],[0.2222222222222222,\"#7201a8\"],[0.3333333333333333,\"#9c179e\"],[0.4444444444444444,\"#bd3786\"],[0.5555555555555556,\"#d8576b\"],[0.6666666666666666,\"#ed7953\"],[0.7777777777777778,\"#fb9f3a\"],[0.8888888888888888,\"#fdca26\"],[1.0,\"#f0f921\"]],\"sequentialminus\":[[0.0,\"#0d0887\"],[0.1111111111111111,\"#46039f\"],[0.2222222222222222,\"#7201a8\"],[0.3333333333333333,\"#9c179e\"],[0.4444444444444444,\"#bd3786\"],[0.5555555555555556,\"#d8576b\"],[0.6666666666666666,\"#ed7953\"],[0.7777777777777778,\"#fb9f3a\"],[0.8888888888888888,\"#fdca26\"],[1.0,\"#f0f921\"]]},\"colorway\":[\"#636efa\",\"#EF553B\",\"#00cc96\",\"#ab63fa\",\"#FFA15A\",\"#19d3f3\",\"#FF6692\",\"#B6E880\",\"#FF97FF\",\"#FECB52\"],\"font\":{\"color\":\"#2a3f5f\"},\"geo\":{\"bgcolor\":\"white\",\"lakecolor\":\"white\",\"landcolor\":\"#E5ECF6\",\"showlakes\":true,\"showland\":true,\"subunitcolor\":\"white\"},\"hoverlabel\":{\"align\":\"left\"},\"hovermode\":\"closest\",\"mapbox\":{\"style\":\"light\"},\"paper_bgcolor\":\"white\",\"plot_bgcolor\":\"#E5ECF6\",\"polar\":{\"angularaxis\":{\"gridcolor\":\"white\",\"linecolor\":\"white\",\"ticks\":\"\"},\"bgcolor\":\"#E5ECF6\",\"radialaxis\":{\"gridcolor\":\"white\",\"linecolor\":\"white\",\"ticks\":\"\"}},\"scene\":{\"xaxis\":{\"backgroundcolor\":\"#E5ECF6\",\"gridcolor\":\"white\",\"gridwidth\":2,\"linecolor\":\"white\",\"showbackground\":true,\"ticks\":\"\",\"zerolinecolor\":\"white\"},\"yaxis\":{\"backgroundcolor\":\"#E5ECF6\",\"gridcolor\":\"white\",\"gridwidth\":2,\"linecolor\":\"white\",\"showbackground\":true,\"ticks\":\"\",\"zerolinecolor\":\"white\"},\"zaxis\":{\"backgroundcolor\":\"#E5ECF6\",\"gridcolor\":\"white\",\"gridwidth\":2,\"linecolor\":\"white\",\"showbackground\":true,\"ticks\":\"\",\"zerolinecolor\":\"white\"}},\"shapedefaults\":{\"line\":{\"color\":\"#2a3f5f\"}},\"ternary\":{\"aaxis\":{\"gridcolor\":\"white\",\"linecolor\":\"white\",\"ticks\":\"\"},\"baxis\":{\"gridcolor\":\"white\",\"linecolor\":\"white\",\"ticks\":\"\"},\"bgcolor\":\"#E5ECF6\",\"caxis\":{\"gridcolor\":\"white\",\"linecolor\":\"white\",\"ticks\":\"\"}},\"title\":{\"x\":0.05},\"xaxis\":{\"automargin\":true,\"gridcolor\":\"white\",\"linecolor\":\"white\",\"ticks\":\"\",\"title\":{\"standoff\":15},\"zerolinecolor\":\"white\",\"zerolinewidth\":2},\"yaxis\":{\"automargin\":true,\"gridcolor\":\"white\",\"linecolor\":\"white\",\"ticks\":\"\",\"title\":{\"standoff\":15},\"zerolinecolor\":\"white\",\"zerolinewidth\":2}}},\"title\":{\"font\":{\"color\":\"#4D5663\"}},\"xaxis\":{\"gridcolor\":\"#E1E5ED\",\"showgrid\":true,\"tickfont\":{\"color\":\"#4D5663\"},\"title\":{\"font\":{\"color\":\"#4D5663\"},\"text\":\"\"},\"zerolinecolor\":\"#E1E5ED\"},\"yaxis\":{\"domain\":[0.3,1],\"gridcolor\":\"#E1E5ED\",\"showgrid\":true,\"tickfont\":{\"color\":\"#4D5663\"},\"title\":{\"font\":{\"color\":\"#4D5663\"},\"text\":\"\"},\"zerolinecolor\":\"#E1E5ED\"},\"yaxis2\":{\"domain\":[0,0.25],\"gridcolor\":\"#E1E5ED\",\"showgrid\":true,\"tickfont\":{\"color\":\"#4D5663\"},\"title\":{\"font\":{\"color\":\"#4D5663\"},\"text\":\"Spread\"},\"zerolinecolor\":\"#E1E5ED\"},\"xaxis2\":{\"anchor\":\"y2\",\"gridcolor\":\"#E1E5ED\",\"showgrid\":true,\"showticklabels\":false,\"tickfont\":{\"color\":\"#4D5663\"},\"title\":{\"font\":{\"color\":\"#4D5663\"},\"text\":\"\"},\"zerolinecolor\":\"#E1E5ED\"}},                        {\"showLink\": true, \"linkText\": \"Export to plot.ly\", \"plotlyServerURL\": \"https://plot.ly\", \"responsive\": true}                    ).then(function(){\n",
       "                            \n",
       "var gd = document.getElementById('1725ee4a-fdba-45df-ae8e-1ce25b97abc7');\n",
       "var x = new MutationObserver(function (mutations, observer) {{\n",
       "        var display = window.getComputedStyle(gd).display;\n",
       "        if (!display || display === 'none') {{\n",
       "            console.log([gd, 'removed!']);\n",
       "            Plotly.purge(gd);\n",
       "            observer.disconnect();\n",
       "        }}\n",
       "}});\n",
       "\n",
       "// Listen for the removal of the full notebook cells\n",
       "var notebookContainer = gd.closest('#notebook-container');\n",
       "if (notebookContainer) {{\n",
       "    x.observe(notebookContainer, {childList: true});\n",
       "}}\n",
       "\n",
       "// Listen for the clearing of the current output cell\n",
       "var outputEl = gd.closest('.output');\n",
       "if (outputEl) {{\n",
       "    x.observe(outputEl, {childList: true});\n",
       "}}\n",
       "\n",
       "                        })                };                });            </script>        </div>"
      ]
     },
     "metadata": {},
     "output_type": "display_data"
    }
   ],
   "source": [
    "df1[['A','B']].iplot(kind='spread')"
   ]
  },
  {
   "cell_type": "markdown",
   "id": "2797d44c",
   "metadata": {},
   "source": [
    "## BUBBLE IPLOT"
   ]
  },
  {
   "cell_type": "code",
   "execution_count": 31,
   "id": "a60ff548",
   "metadata": {
    "scrolled": true
   },
   "outputs": [
    {
     "data": {
      "application/vnd.plotly.v1+json": {
       "config": {
        "linkText": "Export to plot.ly",
        "plotlyServerURL": "https://plot.ly",
        "showLink": true
       },
       "data": [
        {
         "marker": {
          "color": [
           "rgb(255, 153, 51)",
           "rgb(55, 128, 191)",
           "rgb(50, 171, 96)",
           "rgb(128, 0, 128)",
           "rgb(219, 64, 82)",
           "rgb(0, 128, 128)",
           "rgb(255, 255, 51)",
           "rgb(128, 128, 0)",
           "rgb(251, 128, 114)",
           "rgb(128, 177, 211)"
          ],
          "line": {
           "width": 1.3
          },
          "size": [
           76,
           81,
           94,
           63,
           64,
           71,
           77,
           80,
           49,
           58,
           50,
           55,
           12,
           57,
           63,
           78,
           57,
           91,
           64,
           35,
           77,
           83,
           65,
           86,
           89,
           16,
           44,
           39,
           66,
           61,
           94,
           77,
           77,
           41,
           79,
           86,
           72,
           67,
           99,
           54,
           95,
           69,
           79,
           53,
           63,
           63,
           99,
           42,
           71,
           73,
           99,
           84,
           99,
           88,
           82,
           85,
           67,
           58,
           64,
           55,
           76,
           54,
           63,
           106,
           70,
           97,
           51,
           61,
           85,
           104,
           56,
           108,
           68,
           77,
           78,
           108,
           93,
           95,
           110,
           112,
           56,
           75,
           41,
           77,
           78,
           63,
           43,
           57,
           70,
           71,
           96,
           73,
           38,
           65,
           88,
           89,
           47,
           63,
           75,
           66
          ],
          "symbol": "circle"
         },
         "mode": "markers",
         "text": "",
         "type": "scatter",
         "x": [
          -0.3828792050443604,
          -0.8470899644257714,
          0.010194864370989333,
          0.7301852076151661,
          2.0209176306324363,
          -1.5003016962844402,
          1.3118946476906856,
          -0.19669756499513247,
          -0.9076690966885811,
          -0.3237404643459652,
          0.637713854283272,
          -0.03454556326127818,
          0.7796925569817367,
          -1.4423716042022108,
          -2.5845985787359163,
          0.6619539111661311,
          -0.687009387052393,
          -0.07904947689258264,
          0.05497583547432276,
          -0.1251154272973603,
          1.4799840842985588,
          0.4823254913863216,
          -2.280333653758334,
          -0.7687965123125058,
          -1.9305826565370234,
          1.2028531218309138,
          0.11759314103585028,
          0.8219103216225514,
          -1.0600425527288615,
          -0.7924098829680032,
          0.591057506448477,
          0.010539468688751144,
          0.587916797008021,
          0.5345565463711455,
          0.23953843637909966,
          -1.3486453781610805,
          1.4539031141605863,
          -0.7434505578041772,
          -0.06974790232731734,
          -1.3438280814154056,
          0.15028835356929468,
          -0.10287723292446797,
          0.5337958367766493,
          -1.7910145450870145,
          -0.3528093066466839,
          0.28483534146724776,
          -0.2376793634250966,
          -1.1439375104416412,
          -1.6773681066280623,
          1.8838782542672348,
          1.0028758404607157,
          1.019052841097029,
          0.30651768295595916,
          0.4025551526198797,
          -0.8905919688553369,
          -1.382874757587919,
          -0.6816436627196745,
          0.03878334506085071,
          -1.3612397104403606,
          0.3197604660731154,
          -2.538319364008003,
          -1.2091878447993685,
          -0.5249346013368914,
          0.6692146290182188,
          -0.11840123236465151,
          0.8525194553867952,
          -0.6035975956715631,
          0.4283480479109968,
          0.9101749092891146,
          -0.8864024726325933,
          0.7775503744458712,
          -0.3116906590586294,
          -0.0789741170722278,
          -0.46571660288813044,
          -0.7366408087817952,
          -0.34057771638209616,
          1.4270333479578556,
          -0.0685312876711088,
          -2.590989928710988,
          0.54533421224908,
          -0.9316184663461683,
          -0.3357877632399068,
          -1.1004430354999835,
          -1.5112832772747995,
          0.9233033997807208,
          0.9248042476413013,
          0.23712657682615962,
          -1.7926116956644673,
          0.8262882219580409,
          0.41308190167379377,
          0.20507635069705696,
          1.1372928682815537,
          0.19672852705318208,
          1.032022543036123,
          -0.8498915495743655,
          -0.38007228545542127,
          -1.9829304093355187,
          0.05455520904456543,
          0.45889417897813106,
          -0.14456383999886627
         ],
         "y": [
          0.34335976624785236,
          -0.5400241296111232,
          0.39625879311483636,
          -1.712841088113455,
          -0.07509142065935204,
          -0.73806711582396,
          0.3883007262086318,
          -0.5719092755359968,
          -0.4088347497306631,
          0.2421573678163824,
          -0.6529781799711727,
          0.38854787692263476,
          0.06453030726300012,
          -0.6988816243862073,
          1.3129702162264079,
          1.1771113015017993,
          -0.9700610592238458,
          1.1808244820001328,
          -1.478327479994,
          -0.46108336232059793,
          0.24491015346100684,
          -0.7318916215779915,
          -1.7148688047324678,
          0.5518859965500226,
          -0.9191779247410646,
          1.1985025549693435,
          2.5581128801469877,
          -0.7762150887891556,
          -1.549934782178811,
          0.05201663776978928,
          1.5232217714596588,
          -0.44708035980241534,
          -0.9086628778502828,
          -0.27525104215952567,
          -0.3577790202540434,
          0.4811753508335344,
          -0.5887451051233683,
          -1.294270125275922,
          0.8523861547501889,
          0.7381047196318503,
          1.0644322360476512,
          1.5967001236435843,
          0.82247172376917,
          -1.645808080381747,
          0.6857054299863742,
          -0.9009862391622963,
          -1.257234685603805,
          0.563120200391336,
          -0.9621725292323109,
          -0.5933983360655105,
          0.1284819007413659,
          -0.4240882124272642,
          1.1118812763090071,
          -1.9227848733315895,
          -0.419556595005051,
          1.5272854460120502,
          0.9102671180274021,
          0.6786808331841732,
          -0.42366626781453104,
          -1.1247464588926015,
          0.5004369031549727,
          -1.422643181814059,
          -0.06352335456872109,
          -0.6140831914140193,
          0.5603086977341717,
          1.474751693797127,
          1.6512484343980032,
          -1.0210150242509708,
          -0.7432289383819919,
          1.3875297294630236,
          -0.6514939869833749,
          1.4721881339131935,
          1.518432510112827,
          0.03638510312744503,
          0.7270871221481457,
          1.0793079148027827,
          0.4072592314941338,
          0.5823303662801511,
          0.2779238844720935,
          1.3057489297021347,
          0.07351712777696348,
          -0.8794259892692825,
          0.29982770281056553,
          -0.3416568949263266,
          3.458170678509682,
          0.058799135304265615,
          -0.3884328992504171,
          0.545514744824541,
          0.24141281219690586,
          -1.212419426084278,
          1.441259323038795,
          0.8503394918604567,
          -0.8204208120323783,
          0.21563670697344076,
          2.8069650295546076,
          1.5238759774181017,
          -0.6621926922073339,
          -1.060870331126299,
          -1.2805044081418444,
          -1.2349226572849306
         ]
        }
       ],
       "layout": {
        "legend": {
         "bgcolor": "#F5F6F9",
         "font": {
          "color": "#4D5663"
         }
        },
        "paper_bgcolor": "#F5F6F9",
        "plot_bgcolor": "#F5F6F9",
        "template": {
         "data": {
          "bar": [
           {
            "error_x": {
             "color": "#2a3f5f"
            },
            "error_y": {
             "color": "#2a3f5f"
            },
            "marker": {
             "line": {
              "color": "#E5ECF6",
              "width": 0.5
             },
             "pattern": {
              "fillmode": "overlay",
              "size": 10,
              "solidity": 0.2
             }
            },
            "type": "bar"
           }
          ],
          "barpolar": [
           {
            "marker": {
             "line": {
              "color": "#E5ECF6",
              "width": 0.5
             },
             "pattern": {
              "fillmode": "overlay",
              "size": 10,
              "solidity": 0.2
             }
            },
            "type": "barpolar"
           }
          ],
          "carpet": [
           {
            "aaxis": {
             "endlinecolor": "#2a3f5f",
             "gridcolor": "white",
             "linecolor": "white",
             "minorgridcolor": "white",
             "startlinecolor": "#2a3f5f"
            },
            "baxis": {
             "endlinecolor": "#2a3f5f",
             "gridcolor": "white",
             "linecolor": "white",
             "minorgridcolor": "white",
             "startlinecolor": "#2a3f5f"
            },
            "type": "carpet"
           }
          ],
          "choropleth": [
           {
            "colorbar": {
             "outlinewidth": 0,
             "ticks": ""
            },
            "type": "choropleth"
           }
          ],
          "contour": [
           {
            "colorbar": {
             "outlinewidth": 0,
             "ticks": ""
            },
            "colorscale": [
             [
              0,
              "#0d0887"
             ],
             [
              0.1111111111111111,
              "#46039f"
             ],
             [
              0.2222222222222222,
              "#7201a8"
             ],
             [
              0.3333333333333333,
              "#9c179e"
             ],
             [
              0.4444444444444444,
              "#bd3786"
             ],
             [
              0.5555555555555556,
              "#d8576b"
             ],
             [
              0.6666666666666666,
              "#ed7953"
             ],
             [
              0.7777777777777778,
              "#fb9f3a"
             ],
             [
              0.8888888888888888,
              "#fdca26"
             ],
             [
              1,
              "#f0f921"
             ]
            ],
            "type": "contour"
           }
          ],
          "contourcarpet": [
           {
            "colorbar": {
             "outlinewidth": 0,
             "ticks": ""
            },
            "type": "contourcarpet"
           }
          ],
          "heatmap": [
           {
            "colorbar": {
             "outlinewidth": 0,
             "ticks": ""
            },
            "colorscale": [
             [
              0,
              "#0d0887"
             ],
             [
              0.1111111111111111,
              "#46039f"
             ],
             [
              0.2222222222222222,
              "#7201a8"
             ],
             [
              0.3333333333333333,
              "#9c179e"
             ],
             [
              0.4444444444444444,
              "#bd3786"
             ],
             [
              0.5555555555555556,
              "#d8576b"
             ],
             [
              0.6666666666666666,
              "#ed7953"
             ],
             [
              0.7777777777777778,
              "#fb9f3a"
             ],
             [
              0.8888888888888888,
              "#fdca26"
             ],
             [
              1,
              "#f0f921"
             ]
            ],
            "type": "heatmap"
           }
          ],
          "heatmapgl": [
           {
            "colorbar": {
             "outlinewidth": 0,
             "ticks": ""
            },
            "colorscale": [
             [
              0,
              "#0d0887"
             ],
             [
              0.1111111111111111,
              "#46039f"
             ],
             [
              0.2222222222222222,
              "#7201a8"
             ],
             [
              0.3333333333333333,
              "#9c179e"
             ],
             [
              0.4444444444444444,
              "#bd3786"
             ],
             [
              0.5555555555555556,
              "#d8576b"
             ],
             [
              0.6666666666666666,
              "#ed7953"
             ],
             [
              0.7777777777777778,
              "#fb9f3a"
             ],
             [
              0.8888888888888888,
              "#fdca26"
             ],
             [
              1,
              "#f0f921"
             ]
            ],
            "type": "heatmapgl"
           }
          ],
          "histogram": [
           {
            "marker": {
             "pattern": {
              "fillmode": "overlay",
              "size": 10,
              "solidity": 0.2
             }
            },
            "type": "histogram"
           }
          ],
          "histogram2d": [
           {
            "colorbar": {
             "outlinewidth": 0,
             "ticks": ""
            },
            "colorscale": [
             [
              0,
              "#0d0887"
             ],
             [
              0.1111111111111111,
              "#46039f"
             ],
             [
              0.2222222222222222,
              "#7201a8"
             ],
             [
              0.3333333333333333,
              "#9c179e"
             ],
             [
              0.4444444444444444,
              "#bd3786"
             ],
             [
              0.5555555555555556,
              "#d8576b"
             ],
             [
              0.6666666666666666,
              "#ed7953"
             ],
             [
              0.7777777777777778,
              "#fb9f3a"
             ],
             [
              0.8888888888888888,
              "#fdca26"
             ],
             [
              1,
              "#f0f921"
             ]
            ],
            "type": "histogram2d"
           }
          ],
          "histogram2dcontour": [
           {
            "colorbar": {
             "outlinewidth": 0,
             "ticks": ""
            },
            "colorscale": [
             [
              0,
              "#0d0887"
             ],
             [
              0.1111111111111111,
              "#46039f"
             ],
             [
              0.2222222222222222,
              "#7201a8"
             ],
             [
              0.3333333333333333,
              "#9c179e"
             ],
             [
              0.4444444444444444,
              "#bd3786"
             ],
             [
              0.5555555555555556,
              "#d8576b"
             ],
             [
              0.6666666666666666,
              "#ed7953"
             ],
             [
              0.7777777777777778,
              "#fb9f3a"
             ],
             [
              0.8888888888888888,
              "#fdca26"
             ],
             [
              1,
              "#f0f921"
             ]
            ],
            "type": "histogram2dcontour"
           }
          ],
          "mesh3d": [
           {
            "colorbar": {
             "outlinewidth": 0,
             "ticks": ""
            },
            "type": "mesh3d"
           }
          ],
          "parcoords": [
           {
            "line": {
             "colorbar": {
              "outlinewidth": 0,
              "ticks": ""
             }
            },
            "type": "parcoords"
           }
          ],
          "pie": [
           {
            "automargin": true,
            "type": "pie"
           }
          ],
          "scatter": [
           {
            "marker": {
             "colorbar": {
              "outlinewidth": 0,
              "ticks": ""
             }
            },
            "type": "scatter"
           }
          ],
          "scatter3d": [
           {
            "line": {
             "colorbar": {
              "outlinewidth": 0,
              "ticks": ""
             }
            },
            "marker": {
             "colorbar": {
              "outlinewidth": 0,
              "ticks": ""
             }
            },
            "type": "scatter3d"
           }
          ],
          "scattercarpet": [
           {
            "marker": {
             "colorbar": {
              "outlinewidth": 0,
              "ticks": ""
             }
            },
            "type": "scattercarpet"
           }
          ],
          "scattergeo": [
           {
            "marker": {
             "colorbar": {
              "outlinewidth": 0,
              "ticks": ""
             }
            },
            "type": "scattergeo"
           }
          ],
          "scattergl": [
           {
            "marker": {
             "colorbar": {
              "outlinewidth": 0,
              "ticks": ""
             }
            },
            "type": "scattergl"
           }
          ],
          "scattermapbox": [
           {
            "marker": {
             "colorbar": {
              "outlinewidth": 0,
              "ticks": ""
             }
            },
            "type": "scattermapbox"
           }
          ],
          "scatterpolar": [
           {
            "marker": {
             "colorbar": {
              "outlinewidth": 0,
              "ticks": ""
             }
            },
            "type": "scatterpolar"
           }
          ],
          "scatterpolargl": [
           {
            "marker": {
             "colorbar": {
              "outlinewidth": 0,
              "ticks": ""
             }
            },
            "type": "scatterpolargl"
           }
          ],
          "scatterternary": [
           {
            "marker": {
             "colorbar": {
              "outlinewidth": 0,
              "ticks": ""
             }
            },
            "type": "scatterternary"
           }
          ],
          "surface": [
           {
            "colorbar": {
             "outlinewidth": 0,
             "ticks": ""
            },
            "colorscale": [
             [
              0,
              "#0d0887"
             ],
             [
              0.1111111111111111,
              "#46039f"
             ],
             [
              0.2222222222222222,
              "#7201a8"
             ],
             [
              0.3333333333333333,
              "#9c179e"
             ],
             [
              0.4444444444444444,
              "#bd3786"
             ],
             [
              0.5555555555555556,
              "#d8576b"
             ],
             [
              0.6666666666666666,
              "#ed7953"
             ],
             [
              0.7777777777777778,
              "#fb9f3a"
             ],
             [
              0.8888888888888888,
              "#fdca26"
             ],
             [
              1,
              "#f0f921"
             ]
            ],
            "type": "surface"
           }
          ],
          "table": [
           {
            "cells": {
             "fill": {
              "color": "#EBF0F8"
             },
             "line": {
              "color": "white"
             }
            },
            "header": {
             "fill": {
              "color": "#C8D4E3"
             },
             "line": {
              "color": "white"
             }
            },
            "type": "table"
           }
          ]
         },
         "layout": {
          "annotationdefaults": {
           "arrowcolor": "#2a3f5f",
           "arrowhead": 0,
           "arrowwidth": 1
          },
          "autotypenumbers": "strict",
          "coloraxis": {
           "colorbar": {
            "outlinewidth": 0,
            "ticks": ""
           }
          },
          "colorscale": {
           "diverging": [
            [
             0,
             "#8e0152"
            ],
            [
             0.1,
             "#c51b7d"
            ],
            [
             0.2,
             "#de77ae"
            ],
            [
             0.3,
             "#f1b6da"
            ],
            [
             0.4,
             "#fde0ef"
            ],
            [
             0.5,
             "#f7f7f7"
            ],
            [
             0.6,
             "#e6f5d0"
            ],
            [
             0.7,
             "#b8e186"
            ],
            [
             0.8,
             "#7fbc41"
            ],
            [
             0.9,
             "#4d9221"
            ],
            [
             1,
             "#276419"
            ]
           ],
           "sequential": [
            [
             0,
             "#0d0887"
            ],
            [
             0.1111111111111111,
             "#46039f"
            ],
            [
             0.2222222222222222,
             "#7201a8"
            ],
            [
             0.3333333333333333,
             "#9c179e"
            ],
            [
             0.4444444444444444,
             "#bd3786"
            ],
            [
             0.5555555555555556,
             "#d8576b"
            ],
            [
             0.6666666666666666,
             "#ed7953"
            ],
            [
             0.7777777777777778,
             "#fb9f3a"
            ],
            [
             0.8888888888888888,
             "#fdca26"
            ],
            [
             1,
             "#f0f921"
            ]
           ],
           "sequentialminus": [
            [
             0,
             "#0d0887"
            ],
            [
             0.1111111111111111,
             "#46039f"
            ],
            [
             0.2222222222222222,
             "#7201a8"
            ],
            [
             0.3333333333333333,
             "#9c179e"
            ],
            [
             0.4444444444444444,
             "#bd3786"
            ],
            [
             0.5555555555555556,
             "#d8576b"
            ],
            [
             0.6666666666666666,
             "#ed7953"
            ],
            [
             0.7777777777777778,
             "#fb9f3a"
            ],
            [
             0.8888888888888888,
             "#fdca26"
            ],
            [
             1,
             "#f0f921"
            ]
           ]
          },
          "colorway": [
           "#636efa",
           "#EF553B",
           "#00cc96",
           "#ab63fa",
           "#FFA15A",
           "#19d3f3",
           "#FF6692",
           "#B6E880",
           "#FF97FF",
           "#FECB52"
          ],
          "font": {
           "color": "#2a3f5f"
          },
          "geo": {
           "bgcolor": "white",
           "lakecolor": "white",
           "landcolor": "#E5ECF6",
           "showlakes": true,
           "showland": true,
           "subunitcolor": "white"
          },
          "hoverlabel": {
           "align": "left"
          },
          "hovermode": "closest",
          "mapbox": {
           "style": "light"
          },
          "paper_bgcolor": "white",
          "plot_bgcolor": "#E5ECF6",
          "polar": {
           "angularaxis": {
            "gridcolor": "white",
            "linecolor": "white",
            "ticks": ""
           },
           "bgcolor": "#E5ECF6",
           "radialaxis": {
            "gridcolor": "white",
            "linecolor": "white",
            "ticks": ""
           }
          },
          "scene": {
           "xaxis": {
            "backgroundcolor": "#E5ECF6",
            "gridcolor": "white",
            "gridwidth": 2,
            "linecolor": "white",
            "showbackground": true,
            "ticks": "",
            "zerolinecolor": "white"
           },
           "yaxis": {
            "backgroundcolor": "#E5ECF6",
            "gridcolor": "white",
            "gridwidth": 2,
            "linecolor": "white",
            "showbackground": true,
            "ticks": "",
            "zerolinecolor": "white"
           },
           "zaxis": {
            "backgroundcolor": "#E5ECF6",
            "gridcolor": "white",
            "gridwidth": 2,
            "linecolor": "white",
            "showbackground": true,
            "ticks": "",
            "zerolinecolor": "white"
           }
          },
          "shapedefaults": {
           "line": {
            "color": "#2a3f5f"
           }
          },
          "ternary": {
           "aaxis": {
            "gridcolor": "white",
            "linecolor": "white",
            "ticks": ""
           },
           "baxis": {
            "gridcolor": "white",
            "linecolor": "white",
            "ticks": ""
           },
           "bgcolor": "#E5ECF6",
           "caxis": {
            "gridcolor": "white",
            "linecolor": "white",
            "ticks": ""
           }
          },
          "title": {
           "x": 0.05
          },
          "xaxis": {
           "automargin": true,
           "gridcolor": "white",
           "linecolor": "white",
           "ticks": "",
           "title": {
            "standoff": 15
           },
           "zerolinecolor": "white",
           "zerolinewidth": 2
          },
          "yaxis": {
           "automargin": true,
           "gridcolor": "white",
           "linecolor": "white",
           "ticks": "",
           "title": {
            "standoff": 15
           },
           "zerolinecolor": "white",
           "zerolinewidth": 2
          }
         }
        },
        "title": {
         "font": {
          "color": "#4D5663"
         }
        },
        "xaxis": {
         "gridcolor": "#E1E5ED",
         "showgrid": true,
         "tickfont": {
          "color": "#4D5663"
         },
         "title": {
          "font": {
           "color": "#4D5663"
          },
          "text": ""
         },
         "zerolinecolor": "#E1E5ED"
        },
        "yaxis": {
         "gridcolor": "#E1E5ED",
         "showgrid": true,
         "tickfont": {
          "color": "#4D5663"
         },
         "title": {
          "font": {
           "color": "#4D5663"
          },
          "text": ""
         },
         "zerolinecolor": "#E1E5ED"
        }
       }
      },
      "text/html": [
       "<div>                            <div id=\"3e161279-effe-4f58-bbd3-97f21c12e8cf\" class=\"plotly-graph-div\" style=\"height:525px; width:100%;\"></div>            <script type=\"text/javascript\">                require([\"plotly\"], function(Plotly) {                    window.PLOTLYENV=window.PLOTLYENV || {};\n",
       "                    window.PLOTLYENV.BASE_URL='https://plot.ly';                                    if (document.getElementById(\"3e161279-effe-4f58-bbd3-97f21c12e8cf\")) {                    Plotly.newPlot(                        \"3e161279-effe-4f58-bbd3-97f21c12e8cf\",                        [{\"marker\":{\"color\":[\"rgb(255, 153, 51)\",\"rgb(55, 128, 191)\",\"rgb(50, 171, 96)\",\"rgb(128, 0, 128)\",\"rgb(219, 64, 82)\",\"rgb(0, 128, 128)\",\"rgb(255, 255, 51)\",\"rgb(128, 128, 0)\",\"rgb(251, 128, 114)\",\"rgb(128, 177, 211)\"],\"line\":{\"width\":1.3},\"size\":[76,81,94,63,64,71,77,80,49,58,50,55,12,57,63,78,57,91,64,35,77,83,65,86,89,16,44,39,66,61,94,77,77,41,79,86,72,67,99,54,95,69,79,53,63,63,99,42,71,73,99,84,99,88,82,85,67,58,64,55,76,54,63,106,70,97,51,61,85,104,56,108,68,77,78,108,93,95,110,112,56,75,41,77,78,63,43,57,70,71,96,73,38,65,88,89,47,63,75,66],\"symbol\":\"circle\"},\"mode\":\"markers\",\"text\":\"\",\"x\":[-0.3828792050443604,-0.8470899644257714,0.010194864370989333,0.7301852076151661,2.0209176306324363,-1.5003016962844402,1.3118946476906856,-0.19669756499513247,-0.9076690966885811,-0.3237404643459652,0.637713854283272,-0.03454556326127818,0.7796925569817367,-1.4423716042022108,-2.5845985787359163,0.6619539111661311,-0.687009387052393,-0.07904947689258264,0.05497583547432276,-0.1251154272973603,1.4799840842985588,0.4823254913863216,-2.280333653758334,-0.7687965123125058,-1.9305826565370234,1.2028531218309138,0.11759314103585028,0.8219103216225514,-1.0600425527288615,-0.7924098829680032,0.591057506448477,0.010539468688751144,0.587916797008021,0.5345565463711455,0.23953843637909966,-1.3486453781610805,1.4539031141605863,-0.7434505578041772,-0.06974790232731734,-1.3438280814154056,0.15028835356929468,-0.10287723292446797,0.5337958367766493,-1.7910145450870145,-0.3528093066466839,0.28483534146724776,-0.2376793634250966,-1.1439375104416412,-1.6773681066280623,1.8838782542672348,1.0028758404607157,1.019052841097029,0.30651768295595916,0.4025551526198797,-0.8905919688553369,-1.382874757587919,-0.6816436627196745,0.03878334506085071,-1.3612397104403606,0.3197604660731154,-2.538319364008003,-1.2091878447993685,-0.5249346013368914,0.6692146290182188,-0.11840123236465151,0.8525194553867952,-0.6035975956715631,0.4283480479109968,0.9101749092891146,-0.8864024726325933,0.7775503744458712,-0.3116906590586294,-0.0789741170722278,-0.46571660288813044,-0.7366408087817952,-0.34057771638209616,1.4270333479578556,-0.0685312876711088,-2.590989928710988,0.54533421224908,-0.9316184663461683,-0.3357877632399068,-1.1004430354999835,-1.5112832772747995,0.9233033997807208,0.9248042476413013,0.23712657682615962,-1.7926116956644673,0.8262882219580409,0.41308190167379377,0.20507635069705696,1.1372928682815537,0.19672852705318208,1.032022543036123,-0.8498915495743655,-0.38007228545542127,-1.9829304093355187,0.05455520904456543,0.45889417897813106,-0.14456383999886627],\"y\":[0.34335976624785236,-0.5400241296111232,0.39625879311483636,-1.712841088113455,-0.07509142065935204,-0.73806711582396,0.3883007262086318,-0.5719092755359968,-0.4088347497306631,0.2421573678163824,-0.6529781799711727,0.38854787692263476,0.06453030726300012,-0.6988816243862073,1.3129702162264079,1.1771113015017993,-0.9700610592238458,1.1808244820001328,-1.478327479994,-0.46108336232059793,0.24491015346100684,-0.7318916215779915,-1.7148688047324678,0.5518859965500226,-0.9191779247410646,1.1985025549693435,2.5581128801469877,-0.7762150887891556,-1.549934782178811,0.05201663776978928,1.5232217714596588,-0.44708035980241534,-0.9086628778502828,-0.27525104215952567,-0.3577790202540434,0.4811753508335344,-0.5887451051233683,-1.294270125275922,0.8523861547501889,0.7381047196318503,1.0644322360476512,1.5967001236435843,0.82247172376917,-1.645808080381747,0.6857054299863742,-0.9009862391622963,-1.257234685603805,0.563120200391336,-0.9621725292323109,-0.5933983360655105,0.1284819007413659,-0.4240882124272642,1.1118812763090071,-1.9227848733315895,-0.419556595005051,1.5272854460120502,0.9102671180274021,0.6786808331841732,-0.42366626781453104,-1.1247464588926015,0.5004369031549727,-1.422643181814059,-0.06352335456872109,-0.6140831914140193,0.5603086977341717,1.474751693797127,1.6512484343980032,-1.0210150242509708,-0.7432289383819919,1.3875297294630236,-0.6514939869833749,1.4721881339131935,1.518432510112827,0.03638510312744503,0.7270871221481457,1.0793079148027827,0.4072592314941338,0.5823303662801511,0.2779238844720935,1.3057489297021347,0.07351712777696348,-0.8794259892692825,0.29982770281056553,-0.3416568949263266,3.458170678509682,0.058799135304265615,-0.3884328992504171,0.545514744824541,0.24141281219690586,-1.212419426084278,1.441259323038795,0.8503394918604567,-0.8204208120323783,0.21563670697344076,2.8069650295546076,1.5238759774181017,-0.6621926922073339,-1.060870331126299,-1.2805044081418444,-1.2349226572849306],\"type\":\"scatter\"}],                        {\"legend\":{\"bgcolor\":\"#F5F6F9\",\"font\":{\"color\":\"#4D5663\"}},\"paper_bgcolor\":\"#F5F6F9\",\"plot_bgcolor\":\"#F5F6F9\",\"template\":{\"data\":{\"barpolar\":[{\"marker\":{\"line\":{\"color\":\"#E5ECF6\",\"width\":0.5},\"pattern\":{\"fillmode\":\"overlay\",\"size\":10,\"solidity\":0.2}},\"type\":\"barpolar\"}],\"bar\":[{\"error_x\":{\"color\":\"#2a3f5f\"},\"error_y\":{\"color\":\"#2a3f5f\"},\"marker\":{\"line\":{\"color\":\"#E5ECF6\",\"width\":0.5},\"pattern\":{\"fillmode\":\"overlay\",\"size\":10,\"solidity\":0.2}},\"type\":\"bar\"}],\"carpet\":[{\"aaxis\":{\"endlinecolor\":\"#2a3f5f\",\"gridcolor\":\"white\",\"linecolor\":\"white\",\"minorgridcolor\":\"white\",\"startlinecolor\":\"#2a3f5f\"},\"baxis\":{\"endlinecolor\":\"#2a3f5f\",\"gridcolor\":\"white\",\"linecolor\":\"white\",\"minorgridcolor\":\"white\",\"startlinecolor\":\"#2a3f5f\"},\"type\":\"carpet\"}],\"choropleth\":[{\"colorbar\":{\"outlinewidth\":0,\"ticks\":\"\"},\"type\":\"choropleth\"}],\"contourcarpet\":[{\"colorbar\":{\"outlinewidth\":0,\"ticks\":\"\"},\"type\":\"contourcarpet\"}],\"contour\":[{\"colorbar\":{\"outlinewidth\":0,\"ticks\":\"\"},\"colorscale\":[[0.0,\"#0d0887\"],[0.1111111111111111,\"#46039f\"],[0.2222222222222222,\"#7201a8\"],[0.3333333333333333,\"#9c179e\"],[0.4444444444444444,\"#bd3786\"],[0.5555555555555556,\"#d8576b\"],[0.6666666666666666,\"#ed7953\"],[0.7777777777777778,\"#fb9f3a\"],[0.8888888888888888,\"#fdca26\"],[1.0,\"#f0f921\"]],\"type\":\"contour\"}],\"heatmapgl\":[{\"colorbar\":{\"outlinewidth\":0,\"ticks\":\"\"},\"colorscale\":[[0.0,\"#0d0887\"],[0.1111111111111111,\"#46039f\"],[0.2222222222222222,\"#7201a8\"],[0.3333333333333333,\"#9c179e\"],[0.4444444444444444,\"#bd3786\"],[0.5555555555555556,\"#d8576b\"],[0.6666666666666666,\"#ed7953\"],[0.7777777777777778,\"#fb9f3a\"],[0.8888888888888888,\"#fdca26\"],[1.0,\"#f0f921\"]],\"type\":\"heatmapgl\"}],\"heatmap\":[{\"colorbar\":{\"outlinewidth\":0,\"ticks\":\"\"},\"colorscale\":[[0.0,\"#0d0887\"],[0.1111111111111111,\"#46039f\"],[0.2222222222222222,\"#7201a8\"],[0.3333333333333333,\"#9c179e\"],[0.4444444444444444,\"#bd3786\"],[0.5555555555555556,\"#d8576b\"],[0.6666666666666666,\"#ed7953\"],[0.7777777777777778,\"#fb9f3a\"],[0.8888888888888888,\"#fdca26\"],[1.0,\"#f0f921\"]],\"type\":\"heatmap\"}],\"histogram2dcontour\":[{\"colorbar\":{\"outlinewidth\":0,\"ticks\":\"\"},\"colorscale\":[[0.0,\"#0d0887\"],[0.1111111111111111,\"#46039f\"],[0.2222222222222222,\"#7201a8\"],[0.3333333333333333,\"#9c179e\"],[0.4444444444444444,\"#bd3786\"],[0.5555555555555556,\"#d8576b\"],[0.6666666666666666,\"#ed7953\"],[0.7777777777777778,\"#fb9f3a\"],[0.8888888888888888,\"#fdca26\"],[1.0,\"#f0f921\"]],\"type\":\"histogram2dcontour\"}],\"histogram2d\":[{\"colorbar\":{\"outlinewidth\":0,\"ticks\":\"\"},\"colorscale\":[[0.0,\"#0d0887\"],[0.1111111111111111,\"#46039f\"],[0.2222222222222222,\"#7201a8\"],[0.3333333333333333,\"#9c179e\"],[0.4444444444444444,\"#bd3786\"],[0.5555555555555556,\"#d8576b\"],[0.6666666666666666,\"#ed7953\"],[0.7777777777777778,\"#fb9f3a\"],[0.8888888888888888,\"#fdca26\"],[1.0,\"#f0f921\"]],\"type\":\"histogram2d\"}],\"histogram\":[{\"marker\":{\"pattern\":{\"fillmode\":\"overlay\",\"size\":10,\"solidity\":0.2}},\"type\":\"histogram\"}],\"mesh3d\":[{\"colorbar\":{\"outlinewidth\":0,\"ticks\":\"\"},\"type\":\"mesh3d\"}],\"parcoords\":[{\"line\":{\"colorbar\":{\"outlinewidth\":0,\"ticks\":\"\"}},\"type\":\"parcoords\"}],\"pie\":[{\"automargin\":true,\"type\":\"pie\"}],\"scatter3d\":[{\"line\":{\"colorbar\":{\"outlinewidth\":0,\"ticks\":\"\"}},\"marker\":{\"colorbar\":{\"outlinewidth\":0,\"ticks\":\"\"}},\"type\":\"scatter3d\"}],\"scattercarpet\":[{\"marker\":{\"colorbar\":{\"outlinewidth\":0,\"ticks\":\"\"}},\"type\":\"scattercarpet\"}],\"scattergeo\":[{\"marker\":{\"colorbar\":{\"outlinewidth\":0,\"ticks\":\"\"}},\"type\":\"scattergeo\"}],\"scattergl\":[{\"marker\":{\"colorbar\":{\"outlinewidth\":0,\"ticks\":\"\"}},\"type\":\"scattergl\"}],\"scattermapbox\":[{\"marker\":{\"colorbar\":{\"outlinewidth\":0,\"ticks\":\"\"}},\"type\":\"scattermapbox\"}],\"scatterpolargl\":[{\"marker\":{\"colorbar\":{\"outlinewidth\":0,\"ticks\":\"\"}},\"type\":\"scatterpolargl\"}],\"scatterpolar\":[{\"marker\":{\"colorbar\":{\"outlinewidth\":0,\"ticks\":\"\"}},\"type\":\"scatterpolar\"}],\"scatter\":[{\"marker\":{\"colorbar\":{\"outlinewidth\":0,\"ticks\":\"\"}},\"type\":\"scatter\"}],\"scatterternary\":[{\"marker\":{\"colorbar\":{\"outlinewidth\":0,\"ticks\":\"\"}},\"type\":\"scatterternary\"}],\"surface\":[{\"colorbar\":{\"outlinewidth\":0,\"ticks\":\"\"},\"colorscale\":[[0.0,\"#0d0887\"],[0.1111111111111111,\"#46039f\"],[0.2222222222222222,\"#7201a8\"],[0.3333333333333333,\"#9c179e\"],[0.4444444444444444,\"#bd3786\"],[0.5555555555555556,\"#d8576b\"],[0.6666666666666666,\"#ed7953\"],[0.7777777777777778,\"#fb9f3a\"],[0.8888888888888888,\"#fdca26\"],[1.0,\"#f0f921\"]],\"type\":\"surface\"}],\"table\":[{\"cells\":{\"fill\":{\"color\":\"#EBF0F8\"},\"line\":{\"color\":\"white\"}},\"header\":{\"fill\":{\"color\":\"#C8D4E3\"},\"line\":{\"color\":\"white\"}},\"type\":\"table\"}]},\"layout\":{\"annotationdefaults\":{\"arrowcolor\":\"#2a3f5f\",\"arrowhead\":0,\"arrowwidth\":1},\"autotypenumbers\":\"strict\",\"coloraxis\":{\"colorbar\":{\"outlinewidth\":0,\"ticks\":\"\"}},\"colorscale\":{\"diverging\":[[0,\"#8e0152\"],[0.1,\"#c51b7d\"],[0.2,\"#de77ae\"],[0.3,\"#f1b6da\"],[0.4,\"#fde0ef\"],[0.5,\"#f7f7f7\"],[0.6,\"#e6f5d0\"],[0.7,\"#b8e186\"],[0.8,\"#7fbc41\"],[0.9,\"#4d9221\"],[1,\"#276419\"]],\"sequential\":[[0.0,\"#0d0887\"],[0.1111111111111111,\"#46039f\"],[0.2222222222222222,\"#7201a8\"],[0.3333333333333333,\"#9c179e\"],[0.4444444444444444,\"#bd3786\"],[0.5555555555555556,\"#d8576b\"],[0.6666666666666666,\"#ed7953\"],[0.7777777777777778,\"#fb9f3a\"],[0.8888888888888888,\"#fdca26\"],[1.0,\"#f0f921\"]],\"sequentialminus\":[[0.0,\"#0d0887\"],[0.1111111111111111,\"#46039f\"],[0.2222222222222222,\"#7201a8\"],[0.3333333333333333,\"#9c179e\"],[0.4444444444444444,\"#bd3786\"],[0.5555555555555556,\"#d8576b\"],[0.6666666666666666,\"#ed7953\"],[0.7777777777777778,\"#fb9f3a\"],[0.8888888888888888,\"#fdca26\"],[1.0,\"#f0f921\"]]},\"colorway\":[\"#636efa\",\"#EF553B\",\"#00cc96\",\"#ab63fa\",\"#FFA15A\",\"#19d3f3\",\"#FF6692\",\"#B6E880\",\"#FF97FF\",\"#FECB52\"],\"font\":{\"color\":\"#2a3f5f\"},\"geo\":{\"bgcolor\":\"white\",\"lakecolor\":\"white\",\"landcolor\":\"#E5ECF6\",\"showlakes\":true,\"showland\":true,\"subunitcolor\":\"white\"},\"hoverlabel\":{\"align\":\"left\"},\"hovermode\":\"closest\",\"mapbox\":{\"style\":\"light\"},\"paper_bgcolor\":\"white\",\"plot_bgcolor\":\"#E5ECF6\",\"polar\":{\"angularaxis\":{\"gridcolor\":\"white\",\"linecolor\":\"white\",\"ticks\":\"\"},\"bgcolor\":\"#E5ECF6\",\"radialaxis\":{\"gridcolor\":\"white\",\"linecolor\":\"white\",\"ticks\":\"\"}},\"scene\":{\"xaxis\":{\"backgroundcolor\":\"#E5ECF6\",\"gridcolor\":\"white\",\"gridwidth\":2,\"linecolor\":\"white\",\"showbackground\":true,\"ticks\":\"\",\"zerolinecolor\":\"white\"},\"yaxis\":{\"backgroundcolor\":\"#E5ECF6\",\"gridcolor\":\"white\",\"gridwidth\":2,\"linecolor\":\"white\",\"showbackground\":true,\"ticks\":\"\",\"zerolinecolor\":\"white\"},\"zaxis\":{\"backgroundcolor\":\"#E5ECF6\",\"gridcolor\":\"white\",\"gridwidth\":2,\"linecolor\":\"white\",\"showbackground\":true,\"ticks\":\"\",\"zerolinecolor\":\"white\"}},\"shapedefaults\":{\"line\":{\"color\":\"#2a3f5f\"}},\"ternary\":{\"aaxis\":{\"gridcolor\":\"white\",\"linecolor\":\"white\",\"ticks\":\"\"},\"baxis\":{\"gridcolor\":\"white\",\"linecolor\":\"white\",\"ticks\":\"\"},\"bgcolor\":\"#E5ECF6\",\"caxis\":{\"gridcolor\":\"white\",\"linecolor\":\"white\",\"ticks\":\"\"}},\"title\":{\"x\":0.05},\"xaxis\":{\"automargin\":true,\"gridcolor\":\"white\",\"linecolor\":\"white\",\"ticks\":\"\",\"title\":{\"standoff\":15},\"zerolinecolor\":\"white\",\"zerolinewidth\":2},\"yaxis\":{\"automargin\":true,\"gridcolor\":\"white\",\"linecolor\":\"white\",\"ticks\":\"\",\"title\":{\"standoff\":15},\"zerolinecolor\":\"white\",\"zerolinewidth\":2}}},\"title\":{\"font\":{\"color\":\"#4D5663\"}},\"xaxis\":{\"gridcolor\":\"#E1E5ED\",\"showgrid\":true,\"tickfont\":{\"color\":\"#4D5663\"},\"title\":{\"font\":{\"color\":\"#4D5663\"},\"text\":\"\"},\"zerolinecolor\":\"#E1E5ED\"},\"yaxis\":{\"gridcolor\":\"#E1E5ED\",\"showgrid\":true,\"tickfont\":{\"color\":\"#4D5663\"},\"title\":{\"font\":{\"color\":\"#4D5663\"},\"text\":\"\"},\"zerolinecolor\":\"#E1E5ED\"}},                        {\"showLink\": true, \"linkText\": \"Export to plot.ly\", \"plotlyServerURL\": \"https://plot.ly\", \"responsive\": true}                    ).then(function(){\n",
       "                            \n",
       "var gd = document.getElementById('3e161279-effe-4f58-bbd3-97f21c12e8cf');\n",
       "var x = new MutationObserver(function (mutations, observer) {{\n",
       "        var display = window.getComputedStyle(gd).display;\n",
       "        if (!display || display === 'none') {{\n",
       "            console.log([gd, 'removed!']);\n",
       "            Plotly.purge(gd);\n",
       "            observer.disconnect();\n",
       "        }}\n",
       "}});\n",
       "\n",
       "// Listen for the removal of the full notebook cells\n",
       "var notebookContainer = gd.closest('#notebook-container');\n",
       "if (notebookContainer) {{\n",
       "    x.observe(notebookContainer, {childList: true});\n",
       "}}\n",
       "\n",
       "// Listen for the clearing of the current output cell\n",
       "var outputEl = gd.closest('.output');\n",
       "if (outputEl) {{\n",
       "    x.observe(outputEl, {childList: true});\n",
       "}}\n",
       "\n",
       "                        })                };                });            </script>        </div>"
      ]
     },
     "metadata": {},
     "output_type": "display_data"
    }
   ],
   "source": [
    "df1.iplot(kind='bubble', x='A', y='B', size='C')"
   ]
  },
  {
   "cell_type": "markdown",
   "id": "880417f5",
   "metadata": {},
   "source": [
    "## SCATTER MATRIX IPLOT"
   ]
  },
  {
   "cell_type": "code",
   "execution_count": 32,
   "id": "e76b1cfb",
   "metadata": {},
   "outputs": [
    {
     "data": {
      "application/vnd.plotly.v1+json": {
       "config": {
        "linkText": "Export to plot.ly",
        "plotlyServerURL": "https://plot.ly",
        "showLink": true
       },
       "data": [
        {
         "histfunc": "count",
         "histnorm": "",
         "marker": {
          "color": "rgba(255, 153, 51, 1.0)",
          "line": {
           "color": "#4D5663",
           "width": 1.3
          }
         },
         "name": "A",
         "nbinsx": 10,
         "opacity": 0.8,
         "orientation": "v",
         "type": "histogram",
         "x": [
          -0.3828792050443604,
          -0.8470899644257714,
          0.010194864370989333,
          0.7301852076151661,
          2.0209176306324363,
          -1.5003016962844402,
          1.3118946476906856,
          -0.19669756499513247,
          -0.9076690966885811,
          -0.3237404643459652,
          0.637713854283272,
          -0.03454556326127818,
          0.7796925569817367,
          -1.4423716042022108,
          -2.5845985787359163,
          0.6619539111661311,
          -0.687009387052393,
          -0.07904947689258264,
          0.05497583547432276,
          -0.1251154272973603,
          1.4799840842985588,
          0.4823254913863216,
          -2.280333653758334,
          -0.7687965123125058,
          -1.9305826565370234,
          1.2028531218309138,
          0.11759314103585028,
          0.8219103216225514,
          -1.0600425527288615,
          -0.7924098829680032,
          0.591057506448477,
          0.010539468688751144,
          0.587916797008021,
          0.5345565463711455,
          0.23953843637909966,
          -1.3486453781610805,
          1.4539031141605863,
          -0.7434505578041772,
          -0.06974790232731734,
          -1.3438280814154056,
          0.15028835356929468,
          -0.10287723292446797,
          0.5337958367766493,
          -1.7910145450870145,
          -0.3528093066466839,
          0.28483534146724776,
          -0.2376793634250966,
          -1.1439375104416412,
          -1.6773681066280623,
          1.8838782542672348,
          1.0028758404607157,
          1.019052841097029,
          0.30651768295595916,
          0.4025551526198797,
          -0.8905919688553369,
          -1.382874757587919,
          -0.6816436627196745,
          0.03878334506085071,
          -1.3612397104403606,
          0.3197604660731154,
          -2.538319364008003,
          -1.2091878447993685,
          -0.5249346013368914,
          0.6692146290182188,
          -0.11840123236465151,
          0.8525194553867952,
          -0.6035975956715631,
          0.4283480479109968,
          0.9101749092891146,
          -0.8864024726325933,
          0.7775503744458712,
          -0.3116906590586294,
          -0.0789741170722278,
          -0.46571660288813044,
          -0.7366408087817952,
          -0.34057771638209616,
          1.4270333479578556,
          -0.0685312876711088,
          -2.590989928710988,
          0.54533421224908,
          -0.9316184663461683,
          -0.3357877632399068,
          -1.1004430354999835,
          -1.5112832772747995,
          0.9233033997807208,
          0.9248042476413013,
          0.23712657682615962,
          -1.7926116956644673,
          0.8262882219580409,
          0.41308190167379377,
          0.20507635069705696,
          1.1372928682815537,
          0.19672852705318208,
          1.032022543036123,
          -0.8498915495743655,
          -0.38007228545542127,
          -1.9829304093355187,
          0.05455520904456543,
          0.45889417897813106,
          -0.14456383999886627
         ],
         "xaxis": "x",
         "yaxis": "y"
        },
        {
         "line": {
          "color": "rgba(128, 128, 128, 1.0)",
          "dash": "solid",
          "shape": "linear",
          "width": 1.3
         },
         "marker": {
          "size": 2,
          "symbol": "circle"
         },
         "mode": "markers",
         "name": "A",
         "text": "",
         "type": "scatter",
         "x": [
          0.34335976624785236,
          -0.5400241296111232,
          0.39625879311483636,
          -1.712841088113455,
          -0.07509142065935204,
          -0.73806711582396,
          0.3883007262086318,
          -0.5719092755359968,
          -0.4088347497306631,
          0.2421573678163824,
          -0.6529781799711727,
          0.38854787692263476,
          0.06453030726300012,
          -0.6988816243862073,
          1.3129702162264079,
          1.1771113015017993,
          -0.9700610592238458,
          1.1808244820001328,
          -1.478327479994,
          -0.46108336232059793,
          0.24491015346100684,
          -0.7318916215779915,
          -1.7148688047324678,
          0.5518859965500226,
          -0.9191779247410646,
          1.1985025549693435,
          2.5581128801469877,
          -0.7762150887891556,
          -1.549934782178811,
          0.05201663776978928,
          1.5232217714596588,
          -0.44708035980241534,
          -0.9086628778502828,
          -0.27525104215952567,
          -0.3577790202540434,
          0.4811753508335344,
          -0.5887451051233683,
          -1.294270125275922,
          0.8523861547501889,
          0.7381047196318503,
          1.0644322360476512,
          1.5967001236435843,
          0.82247172376917,
          -1.645808080381747,
          0.6857054299863742,
          -0.9009862391622963,
          -1.257234685603805,
          0.563120200391336,
          -0.9621725292323109,
          -0.5933983360655105,
          0.1284819007413659,
          -0.4240882124272642,
          1.1118812763090071,
          -1.9227848733315895,
          -0.419556595005051,
          1.5272854460120502,
          0.9102671180274021,
          0.6786808331841732,
          -0.42366626781453104,
          -1.1247464588926015,
          0.5004369031549727,
          -1.422643181814059,
          -0.06352335456872109,
          -0.6140831914140193,
          0.5603086977341717,
          1.474751693797127,
          1.6512484343980032,
          -1.0210150242509708,
          -0.7432289383819919,
          1.3875297294630236,
          -0.6514939869833749,
          1.4721881339131935,
          1.518432510112827,
          0.03638510312744503,
          0.7270871221481457,
          1.0793079148027827,
          0.4072592314941338,
          0.5823303662801511,
          0.2779238844720935,
          1.3057489297021347,
          0.07351712777696348,
          -0.8794259892692825,
          0.29982770281056553,
          -0.3416568949263266,
          3.458170678509682,
          0.058799135304265615,
          -0.3884328992504171,
          0.545514744824541,
          0.24141281219690586,
          -1.212419426084278,
          1.441259323038795,
          0.8503394918604567,
          -0.8204208120323783,
          0.21563670697344076,
          2.8069650295546076,
          1.5238759774181017,
          -0.6621926922073339,
          -1.060870331126299,
          -1.2805044081418444,
          -1.2349226572849306
         ],
         "xaxis": "x2",
         "y": [
          -0.3828792050443604,
          -0.8470899644257714,
          0.010194864370989333,
          0.7301852076151661,
          2.0209176306324363,
          -1.5003016962844402,
          1.3118946476906856,
          -0.19669756499513247,
          -0.9076690966885811,
          -0.3237404643459652,
          0.637713854283272,
          -0.03454556326127818,
          0.7796925569817367,
          -1.4423716042022108,
          -2.5845985787359163,
          0.6619539111661311,
          -0.687009387052393,
          -0.07904947689258264,
          0.05497583547432276,
          -0.1251154272973603,
          1.4799840842985588,
          0.4823254913863216,
          -2.280333653758334,
          -0.7687965123125058,
          -1.9305826565370234,
          1.2028531218309138,
          0.11759314103585028,
          0.8219103216225514,
          -1.0600425527288615,
          -0.7924098829680032,
          0.591057506448477,
          0.010539468688751144,
          0.587916797008021,
          0.5345565463711455,
          0.23953843637909966,
          -1.3486453781610805,
          1.4539031141605863,
          -0.7434505578041772,
          -0.06974790232731734,
          -1.3438280814154056,
          0.15028835356929468,
          -0.10287723292446797,
          0.5337958367766493,
          -1.7910145450870145,
          -0.3528093066466839,
          0.28483534146724776,
          -0.2376793634250966,
          -1.1439375104416412,
          -1.6773681066280623,
          1.8838782542672348,
          1.0028758404607157,
          1.019052841097029,
          0.30651768295595916,
          0.4025551526198797,
          -0.8905919688553369,
          -1.382874757587919,
          -0.6816436627196745,
          0.03878334506085071,
          -1.3612397104403606,
          0.3197604660731154,
          -2.538319364008003,
          -1.2091878447993685,
          -0.5249346013368914,
          0.6692146290182188,
          -0.11840123236465151,
          0.8525194553867952,
          -0.6035975956715631,
          0.4283480479109968,
          0.9101749092891146,
          -0.8864024726325933,
          0.7775503744458712,
          -0.3116906590586294,
          -0.0789741170722278,
          -0.46571660288813044,
          -0.7366408087817952,
          -0.34057771638209616,
          1.4270333479578556,
          -0.0685312876711088,
          -2.590989928710988,
          0.54533421224908,
          -0.9316184663461683,
          -0.3357877632399068,
          -1.1004430354999835,
          -1.5112832772747995,
          0.9233033997807208,
          0.9248042476413013,
          0.23712657682615962,
          -1.7926116956644673,
          0.8262882219580409,
          0.41308190167379377,
          0.20507635069705696,
          1.1372928682815537,
          0.19672852705318208,
          1.032022543036123,
          -0.8498915495743655,
          -0.38007228545542127,
          -1.9829304093355187,
          0.05455520904456543,
          0.45889417897813106,
          -0.14456383999886627
         ],
         "yaxis": "y2"
        },
        {
         "line": {
          "color": "rgba(128, 128, 128, 1.0)",
          "dash": "solid",
          "shape": "linear",
          "width": 1.3
         },
         "marker": {
          "size": 2,
          "symbol": "circle"
         },
         "mode": "markers",
         "name": "A",
         "text": "",
         "type": "scatter",
         "x": [
          0.2506092085793093,
          0.5210325936403227,
          1.239213358464694,
          -0.4466878782346689,
          -0.3822390633795185,
          -0.004193168373743429,
          0.31083507175692804,
          0.47014493079577385,
          -1.1556536917409108,
          -0.6757610308021511,
          -1.143836028015197,
          -0.8668866986037089,
          -3.1988150838934066,
          -0.7431034080655172,
          -0.40686358736988215,
          0.38817300614880124,
          -0.7249621219996307,
          1.1003757846228477,
          -0.3827825798596824,
          -1.9502233337660755,
          0.3165057808413265,
          0.6627391571225795,
          -0.3263229824933346,
          0.8285627583424173,
          0.9685477248448462,
          -2.9680823913015058,
          -1.4376379312345362,
          -1.7063194353908377,
          -0.27670004716137775,
          -0.5163377183768089,
          1.2437956186192953,
          0.35229549406432276,
          0.33258042113939507,
          -1.6057560516905556,
          0.44173661633579253,
          0.8191267704488735,
          0.05218990664378416,
          -0.18335279289604633,
          1.5162023789172292,
          -0.8833178708702997,
          1.3261569152294563,
          -0.11635473156903449,
          0.420635864279957,
          -0.9470924738177742,
          -0.43618797334177206,
          -0.42661623137309473,
          1.5416103231728577,
          -1.5596148002231116,
          0.01757030082496477,
          0.10140069671869259,
          1.5045891294248528,
          0.6902338347722542,
          1.4937463151241444,
          0.9002910845015439,
          0.5743890881715865,
          0.7562389480227537,
          -0.2001853168757039,
          -0.7157111539797419,
          -0.38765952959938493,
          -0.8572467787815908,
          0.2908470341192966,
          -0.9142824119313538,
          -0.3968746158328103,
          1.8688718784021316,
          -0.05217732449967453,
          1.4354670816758779,
          -1.0625152709489207,
          -0.5106587853056833,
          0.772057631583369,
          1.8018327650399475,
          -0.7958019648209217,
          2.006600168904022,
          -0.13292889152021703,
          0.32943355662723445,
          0.4108609828394416,
          2.0215940500491767,
          1.2016286063300015,
          1.3157545372633783,
          2.1135059883489045,
          2.19008158661078,
          -0.8143129683811934,
          0.23797298364722996,
          -1.6230732883970846,
          0.3084496100404266,
          0.4066710547761042,
          -0.4301381816226118,
          -1.491282679742187,
          -0.7552313272641786,
          -0.02249282109852578,
          0.020985550927711878,
          1.376036037255204,
          0.11425721932139542,
          -1.7920792205457143,
          -0.3136617620588843,
          0.9080291145166957,
          0.9552507049194106,
          -1.2999897780275405,
          -0.4293727950637242,
          0.21110400572437438,
          -0.23669025245583175
         ],
         "xaxis": "x3",
         "y": [
          -0.3828792050443604,
          -0.8470899644257714,
          0.010194864370989333,
          0.7301852076151661,
          2.0209176306324363,
          -1.5003016962844402,
          1.3118946476906856,
          -0.19669756499513247,
          -0.9076690966885811,
          -0.3237404643459652,
          0.637713854283272,
          -0.03454556326127818,
          0.7796925569817367,
          -1.4423716042022108,
          -2.5845985787359163,
          0.6619539111661311,
          -0.687009387052393,
          -0.07904947689258264,
          0.05497583547432276,
          -0.1251154272973603,
          1.4799840842985588,
          0.4823254913863216,
          -2.280333653758334,
          -0.7687965123125058,
          -1.9305826565370234,
          1.2028531218309138,
          0.11759314103585028,
          0.8219103216225514,
          -1.0600425527288615,
          -0.7924098829680032,
          0.591057506448477,
          0.010539468688751144,
          0.587916797008021,
          0.5345565463711455,
          0.23953843637909966,
          -1.3486453781610805,
          1.4539031141605863,
          -0.7434505578041772,
          -0.06974790232731734,
          -1.3438280814154056,
          0.15028835356929468,
          -0.10287723292446797,
          0.5337958367766493,
          -1.7910145450870145,
          -0.3528093066466839,
          0.28483534146724776,
          -0.2376793634250966,
          -1.1439375104416412,
          -1.6773681066280623,
          1.8838782542672348,
          1.0028758404607157,
          1.019052841097029,
          0.30651768295595916,
          0.4025551526198797,
          -0.8905919688553369,
          -1.382874757587919,
          -0.6816436627196745,
          0.03878334506085071,
          -1.3612397104403606,
          0.3197604660731154,
          -2.538319364008003,
          -1.2091878447993685,
          -0.5249346013368914,
          0.6692146290182188,
          -0.11840123236465151,
          0.8525194553867952,
          -0.6035975956715631,
          0.4283480479109968,
          0.9101749092891146,
          -0.8864024726325933,
          0.7775503744458712,
          -0.3116906590586294,
          -0.0789741170722278,
          -0.46571660288813044,
          -0.7366408087817952,
          -0.34057771638209616,
          1.4270333479578556,
          -0.0685312876711088,
          -2.590989928710988,
          0.54533421224908,
          -0.9316184663461683,
          -0.3357877632399068,
          -1.1004430354999835,
          -1.5112832772747995,
          0.9233033997807208,
          0.9248042476413013,
          0.23712657682615962,
          -1.7926116956644673,
          0.8262882219580409,
          0.41308190167379377,
          0.20507635069705696,
          1.1372928682815537,
          0.19672852705318208,
          1.032022543036123,
          -0.8498915495743655,
          -0.38007228545542127,
          -1.9829304093355187,
          0.05455520904456543,
          0.45889417897813106,
          -0.14456383999886627
         ],
         "yaxis": "y3"
        },
        {
         "line": {
          "color": "rgba(128, 128, 128, 1.0)",
          "dash": "solid",
          "shape": "linear",
          "width": 1.3
         },
         "marker": {
          "size": 2,
          "symbol": "circle"
         },
         "mode": "markers",
         "name": "A",
         "text": "",
         "type": "scatter",
         "x": [
          0.592132628370577,
          -1.1427568771274301,
          -0.6340122630191883,
          -0.7162128894182691,
          0.09739810390787935,
          0.09159611881467758,
          -0.9668463002828019,
          -0.6208334020410122,
          0.12874503109489555,
          -0.3596561372712881,
          0.39013837317684175,
          0.9707203746231453,
          -1.849471788872194,
          -1.670949123446992,
          1.3990752041954768,
          -0.433939139689318,
          -0.44752017505281094,
          -2.134491404043168,
          -0.8356207928281586,
          1.2669953059648416,
          -0.26364190278517186,
          -0.03972649984227558,
          0.4107706478872919,
          0.8034938604696944,
          0.1797430430969131,
          -0.6029878381334249,
          0.5453303115260123,
          -0.22849871488659848,
          0.19840671579042543,
          -0.20075469668443507,
          -0.23837820844984284,
          0.7077555147181938,
          0.10728535871855505,
          -0.5961065955304026,
          0.6295775324655841,
          -2.1430311045813575,
          0.6461484336873898,
          0.1217479112963839,
          1.6345095310518332,
          -0.9607835683541878,
          -1.0677335273474948,
          1.2161328243610878,
          -0.06674068289256456,
          0.8395283207223901,
          -1.0741861262618164,
          -0.34730099283237337,
          0.5659354167689368,
          0.9123036110964656,
          -0.4871189389482929,
          1.5582944789663065,
          -2.104414717884187,
          -1.9082807636805286,
          0.20519240993648347,
          0.5830341861711636,
          0.06267896143655838,
          -2.202683825879842,
          -1.0614936236398618,
          -1.013092636573165,
          -0.7470592116179434,
          -1.0199280229765049,
          0.9875061756283474,
          -2.1080306341987796,
          0.8070667330078221,
          0.9094431465761287,
          -1.7629120134717562,
          -0.15994707522962706,
          0.41276947219161814,
          0.8381114480287192,
          -1.3365096723779204,
          -1.6329883056871755,
          0.10627979251486216,
          0.02004657791238379,
          -1.3229626726102046,
          1.2801780728052166,
          0.8345055826164722,
          0.9721200944205621,
          0.37734462188478013,
          -0.3223044195608128,
          0.7967565028396203,
          -0.6224089678483244,
          0.5828942342989621,
          0.03016169618375698,
          -1.696574544826665,
          0.09590877733994138,
          -0.5127741879834149,
          0.4383379018298321,
          1.0826621642886225,
          1.0592007327193345,
          -0.5232893508862395,
          1.2627601225631901,
          0.6589175272897498,
          1.022280331965757,
          -1.8153529724872977,
          -1.0861166191335576,
          0.017399232226795285,
          -1.9794890106589242,
          -0.2894486848694927,
          0.4794857286596619,
          0.13405219599547738,
          -0.9641648355507442
         ],
         "xaxis": "x4",
         "y": [
          -0.3828792050443604,
          -0.8470899644257714,
          0.010194864370989333,
          0.7301852076151661,
          2.0209176306324363,
          -1.5003016962844402,
          1.3118946476906856,
          -0.19669756499513247,
          -0.9076690966885811,
          -0.3237404643459652,
          0.637713854283272,
          -0.03454556326127818,
          0.7796925569817367,
          -1.4423716042022108,
          -2.5845985787359163,
          0.6619539111661311,
          -0.687009387052393,
          -0.07904947689258264,
          0.05497583547432276,
          -0.1251154272973603,
          1.4799840842985588,
          0.4823254913863216,
          -2.280333653758334,
          -0.7687965123125058,
          -1.9305826565370234,
          1.2028531218309138,
          0.11759314103585028,
          0.8219103216225514,
          -1.0600425527288615,
          -0.7924098829680032,
          0.591057506448477,
          0.010539468688751144,
          0.587916797008021,
          0.5345565463711455,
          0.23953843637909966,
          -1.3486453781610805,
          1.4539031141605863,
          -0.7434505578041772,
          -0.06974790232731734,
          -1.3438280814154056,
          0.15028835356929468,
          -0.10287723292446797,
          0.5337958367766493,
          -1.7910145450870145,
          -0.3528093066466839,
          0.28483534146724776,
          -0.2376793634250966,
          -1.1439375104416412,
          -1.6773681066280623,
          1.8838782542672348,
          1.0028758404607157,
          1.019052841097029,
          0.30651768295595916,
          0.4025551526198797,
          -0.8905919688553369,
          -1.382874757587919,
          -0.6816436627196745,
          0.03878334506085071,
          -1.3612397104403606,
          0.3197604660731154,
          -2.538319364008003,
          -1.2091878447993685,
          -0.5249346013368914,
          0.6692146290182188,
          -0.11840123236465151,
          0.8525194553867952,
          -0.6035975956715631,
          0.4283480479109968,
          0.9101749092891146,
          -0.8864024726325933,
          0.7775503744458712,
          -0.3116906590586294,
          -0.0789741170722278,
          -0.46571660288813044,
          -0.7366408087817952,
          -0.34057771638209616,
          1.4270333479578556,
          -0.0685312876711088,
          -2.590989928710988,
          0.54533421224908,
          -0.9316184663461683,
          -0.3357877632399068,
          -1.1004430354999835,
          -1.5112832772747995,
          0.9233033997807208,
          0.9248042476413013,
          0.23712657682615962,
          -1.7926116956644673,
          0.8262882219580409,
          0.41308190167379377,
          0.20507635069705696,
          1.1372928682815537,
          0.19672852705318208,
          1.032022543036123,
          -0.8498915495743655,
          -0.38007228545542127,
          -1.9829304093355187,
          0.05455520904456543,
          0.45889417897813106,
          -0.14456383999886627
         ],
         "yaxis": "y4"
        },
        {
         "line": {
          "color": "rgba(128, 128, 128, 1.0)",
          "dash": "solid",
          "shape": "linear",
          "width": 1.3
         },
         "marker": {
          "size": 2,
          "symbol": "circle"
         },
         "mode": "markers",
         "name": "B",
         "text": "",
         "type": "scatter",
         "x": [
          -0.3828792050443604,
          -0.8470899644257714,
          0.010194864370989333,
          0.7301852076151661,
          2.0209176306324363,
          -1.5003016962844402,
          1.3118946476906856,
          -0.19669756499513247,
          -0.9076690966885811,
          -0.3237404643459652,
          0.637713854283272,
          -0.03454556326127818,
          0.7796925569817367,
          -1.4423716042022108,
          -2.5845985787359163,
          0.6619539111661311,
          -0.687009387052393,
          -0.07904947689258264,
          0.05497583547432276,
          -0.1251154272973603,
          1.4799840842985588,
          0.4823254913863216,
          -2.280333653758334,
          -0.7687965123125058,
          -1.9305826565370234,
          1.2028531218309138,
          0.11759314103585028,
          0.8219103216225514,
          -1.0600425527288615,
          -0.7924098829680032,
          0.591057506448477,
          0.010539468688751144,
          0.587916797008021,
          0.5345565463711455,
          0.23953843637909966,
          -1.3486453781610805,
          1.4539031141605863,
          -0.7434505578041772,
          -0.06974790232731734,
          -1.3438280814154056,
          0.15028835356929468,
          -0.10287723292446797,
          0.5337958367766493,
          -1.7910145450870145,
          -0.3528093066466839,
          0.28483534146724776,
          -0.2376793634250966,
          -1.1439375104416412,
          -1.6773681066280623,
          1.8838782542672348,
          1.0028758404607157,
          1.019052841097029,
          0.30651768295595916,
          0.4025551526198797,
          -0.8905919688553369,
          -1.382874757587919,
          -0.6816436627196745,
          0.03878334506085071,
          -1.3612397104403606,
          0.3197604660731154,
          -2.538319364008003,
          -1.2091878447993685,
          -0.5249346013368914,
          0.6692146290182188,
          -0.11840123236465151,
          0.8525194553867952,
          -0.6035975956715631,
          0.4283480479109968,
          0.9101749092891146,
          -0.8864024726325933,
          0.7775503744458712,
          -0.3116906590586294,
          -0.0789741170722278,
          -0.46571660288813044,
          -0.7366408087817952,
          -0.34057771638209616,
          1.4270333479578556,
          -0.0685312876711088,
          -2.590989928710988,
          0.54533421224908,
          -0.9316184663461683,
          -0.3357877632399068,
          -1.1004430354999835,
          -1.5112832772747995,
          0.9233033997807208,
          0.9248042476413013,
          0.23712657682615962,
          -1.7926116956644673,
          0.8262882219580409,
          0.41308190167379377,
          0.20507635069705696,
          1.1372928682815537,
          0.19672852705318208,
          1.032022543036123,
          -0.8498915495743655,
          -0.38007228545542127,
          -1.9829304093355187,
          0.05455520904456543,
          0.45889417897813106,
          -0.14456383999886627
         ],
         "xaxis": "x5",
         "y": [
          0.34335976624785236,
          -0.5400241296111232,
          0.39625879311483636,
          -1.712841088113455,
          -0.07509142065935204,
          -0.73806711582396,
          0.3883007262086318,
          -0.5719092755359968,
          -0.4088347497306631,
          0.2421573678163824,
          -0.6529781799711727,
          0.38854787692263476,
          0.06453030726300012,
          -0.6988816243862073,
          1.3129702162264079,
          1.1771113015017993,
          -0.9700610592238458,
          1.1808244820001328,
          -1.478327479994,
          -0.46108336232059793,
          0.24491015346100684,
          -0.7318916215779915,
          -1.7148688047324678,
          0.5518859965500226,
          -0.9191779247410646,
          1.1985025549693435,
          2.5581128801469877,
          -0.7762150887891556,
          -1.549934782178811,
          0.05201663776978928,
          1.5232217714596588,
          -0.44708035980241534,
          -0.9086628778502828,
          -0.27525104215952567,
          -0.3577790202540434,
          0.4811753508335344,
          -0.5887451051233683,
          -1.294270125275922,
          0.8523861547501889,
          0.7381047196318503,
          1.0644322360476512,
          1.5967001236435843,
          0.82247172376917,
          -1.645808080381747,
          0.6857054299863742,
          -0.9009862391622963,
          -1.257234685603805,
          0.563120200391336,
          -0.9621725292323109,
          -0.5933983360655105,
          0.1284819007413659,
          -0.4240882124272642,
          1.1118812763090071,
          -1.9227848733315895,
          -0.419556595005051,
          1.5272854460120502,
          0.9102671180274021,
          0.6786808331841732,
          -0.42366626781453104,
          -1.1247464588926015,
          0.5004369031549727,
          -1.422643181814059,
          -0.06352335456872109,
          -0.6140831914140193,
          0.5603086977341717,
          1.474751693797127,
          1.6512484343980032,
          -1.0210150242509708,
          -0.7432289383819919,
          1.3875297294630236,
          -0.6514939869833749,
          1.4721881339131935,
          1.518432510112827,
          0.03638510312744503,
          0.7270871221481457,
          1.0793079148027827,
          0.4072592314941338,
          0.5823303662801511,
          0.2779238844720935,
          1.3057489297021347,
          0.07351712777696348,
          -0.8794259892692825,
          0.29982770281056553,
          -0.3416568949263266,
          3.458170678509682,
          0.058799135304265615,
          -0.3884328992504171,
          0.545514744824541,
          0.24141281219690586,
          -1.212419426084278,
          1.441259323038795,
          0.8503394918604567,
          -0.8204208120323783,
          0.21563670697344076,
          2.8069650295546076,
          1.5238759774181017,
          -0.6621926922073339,
          -1.060870331126299,
          -1.2805044081418444,
          -1.2349226572849306
         ],
         "yaxis": "y5"
        },
        {
         "histfunc": "count",
         "histnorm": "",
         "marker": {
          "color": "rgba(55, 128, 191, 1.0)",
          "line": {
           "color": "#4D5663",
           "width": 1.3
          }
         },
         "name": "B",
         "nbinsx": 10,
         "opacity": 0.8,
         "orientation": "v",
         "type": "histogram",
         "x": [
          0.34335976624785236,
          -0.5400241296111232,
          0.39625879311483636,
          -1.712841088113455,
          -0.07509142065935204,
          -0.73806711582396,
          0.3883007262086318,
          -0.5719092755359968,
          -0.4088347497306631,
          0.2421573678163824,
          -0.6529781799711727,
          0.38854787692263476,
          0.06453030726300012,
          -0.6988816243862073,
          1.3129702162264079,
          1.1771113015017993,
          -0.9700610592238458,
          1.1808244820001328,
          -1.478327479994,
          -0.46108336232059793,
          0.24491015346100684,
          -0.7318916215779915,
          -1.7148688047324678,
          0.5518859965500226,
          -0.9191779247410646,
          1.1985025549693435,
          2.5581128801469877,
          -0.7762150887891556,
          -1.549934782178811,
          0.05201663776978928,
          1.5232217714596588,
          -0.44708035980241534,
          -0.9086628778502828,
          -0.27525104215952567,
          -0.3577790202540434,
          0.4811753508335344,
          -0.5887451051233683,
          -1.294270125275922,
          0.8523861547501889,
          0.7381047196318503,
          1.0644322360476512,
          1.5967001236435843,
          0.82247172376917,
          -1.645808080381747,
          0.6857054299863742,
          -0.9009862391622963,
          -1.257234685603805,
          0.563120200391336,
          -0.9621725292323109,
          -0.5933983360655105,
          0.1284819007413659,
          -0.4240882124272642,
          1.1118812763090071,
          -1.9227848733315895,
          -0.419556595005051,
          1.5272854460120502,
          0.9102671180274021,
          0.6786808331841732,
          -0.42366626781453104,
          -1.1247464588926015,
          0.5004369031549727,
          -1.422643181814059,
          -0.06352335456872109,
          -0.6140831914140193,
          0.5603086977341717,
          1.474751693797127,
          1.6512484343980032,
          -1.0210150242509708,
          -0.7432289383819919,
          1.3875297294630236,
          -0.6514939869833749,
          1.4721881339131935,
          1.518432510112827,
          0.03638510312744503,
          0.7270871221481457,
          1.0793079148027827,
          0.4072592314941338,
          0.5823303662801511,
          0.2779238844720935,
          1.3057489297021347,
          0.07351712777696348,
          -0.8794259892692825,
          0.29982770281056553,
          -0.3416568949263266,
          3.458170678509682,
          0.058799135304265615,
          -0.3884328992504171,
          0.545514744824541,
          0.24141281219690586,
          -1.212419426084278,
          1.441259323038795,
          0.8503394918604567,
          -0.8204208120323783,
          0.21563670697344076,
          2.8069650295546076,
          1.5238759774181017,
          -0.6621926922073339,
          -1.060870331126299,
          -1.2805044081418444,
          -1.2349226572849306
         ],
         "xaxis": "x6",
         "yaxis": "y6"
        },
        {
         "line": {
          "color": "rgba(128, 128, 128, 1.0)",
          "dash": "solid",
          "shape": "linear",
          "width": 1.3
         },
         "marker": {
          "size": 2,
          "symbol": "circle"
         },
         "mode": "markers",
         "name": "B",
         "text": "",
         "type": "scatter",
         "x": [
          0.2506092085793093,
          0.5210325936403227,
          1.239213358464694,
          -0.4466878782346689,
          -0.3822390633795185,
          -0.004193168373743429,
          0.31083507175692804,
          0.47014493079577385,
          -1.1556536917409108,
          -0.6757610308021511,
          -1.143836028015197,
          -0.8668866986037089,
          -3.1988150838934066,
          -0.7431034080655172,
          -0.40686358736988215,
          0.38817300614880124,
          -0.7249621219996307,
          1.1003757846228477,
          -0.3827825798596824,
          -1.9502233337660755,
          0.3165057808413265,
          0.6627391571225795,
          -0.3263229824933346,
          0.8285627583424173,
          0.9685477248448462,
          -2.9680823913015058,
          -1.4376379312345362,
          -1.7063194353908377,
          -0.27670004716137775,
          -0.5163377183768089,
          1.2437956186192953,
          0.35229549406432276,
          0.33258042113939507,
          -1.6057560516905556,
          0.44173661633579253,
          0.8191267704488735,
          0.05218990664378416,
          -0.18335279289604633,
          1.5162023789172292,
          -0.8833178708702997,
          1.3261569152294563,
          -0.11635473156903449,
          0.420635864279957,
          -0.9470924738177742,
          -0.43618797334177206,
          -0.42661623137309473,
          1.5416103231728577,
          -1.5596148002231116,
          0.01757030082496477,
          0.10140069671869259,
          1.5045891294248528,
          0.6902338347722542,
          1.4937463151241444,
          0.9002910845015439,
          0.5743890881715865,
          0.7562389480227537,
          -0.2001853168757039,
          -0.7157111539797419,
          -0.38765952959938493,
          -0.8572467787815908,
          0.2908470341192966,
          -0.9142824119313538,
          -0.3968746158328103,
          1.8688718784021316,
          -0.05217732449967453,
          1.4354670816758779,
          -1.0625152709489207,
          -0.5106587853056833,
          0.772057631583369,
          1.8018327650399475,
          -0.7958019648209217,
          2.006600168904022,
          -0.13292889152021703,
          0.32943355662723445,
          0.4108609828394416,
          2.0215940500491767,
          1.2016286063300015,
          1.3157545372633783,
          2.1135059883489045,
          2.19008158661078,
          -0.8143129683811934,
          0.23797298364722996,
          -1.6230732883970846,
          0.3084496100404266,
          0.4066710547761042,
          -0.4301381816226118,
          -1.491282679742187,
          -0.7552313272641786,
          -0.02249282109852578,
          0.020985550927711878,
          1.376036037255204,
          0.11425721932139542,
          -1.7920792205457143,
          -0.3136617620588843,
          0.9080291145166957,
          0.9552507049194106,
          -1.2999897780275405,
          -0.4293727950637242,
          0.21110400572437438,
          -0.23669025245583175
         ],
         "xaxis": "x7",
         "y": [
          0.34335976624785236,
          -0.5400241296111232,
          0.39625879311483636,
          -1.712841088113455,
          -0.07509142065935204,
          -0.73806711582396,
          0.3883007262086318,
          -0.5719092755359968,
          -0.4088347497306631,
          0.2421573678163824,
          -0.6529781799711727,
          0.38854787692263476,
          0.06453030726300012,
          -0.6988816243862073,
          1.3129702162264079,
          1.1771113015017993,
          -0.9700610592238458,
          1.1808244820001328,
          -1.478327479994,
          -0.46108336232059793,
          0.24491015346100684,
          -0.7318916215779915,
          -1.7148688047324678,
          0.5518859965500226,
          -0.9191779247410646,
          1.1985025549693435,
          2.5581128801469877,
          -0.7762150887891556,
          -1.549934782178811,
          0.05201663776978928,
          1.5232217714596588,
          -0.44708035980241534,
          -0.9086628778502828,
          -0.27525104215952567,
          -0.3577790202540434,
          0.4811753508335344,
          -0.5887451051233683,
          -1.294270125275922,
          0.8523861547501889,
          0.7381047196318503,
          1.0644322360476512,
          1.5967001236435843,
          0.82247172376917,
          -1.645808080381747,
          0.6857054299863742,
          -0.9009862391622963,
          -1.257234685603805,
          0.563120200391336,
          -0.9621725292323109,
          -0.5933983360655105,
          0.1284819007413659,
          -0.4240882124272642,
          1.1118812763090071,
          -1.9227848733315895,
          -0.419556595005051,
          1.5272854460120502,
          0.9102671180274021,
          0.6786808331841732,
          -0.42366626781453104,
          -1.1247464588926015,
          0.5004369031549727,
          -1.422643181814059,
          -0.06352335456872109,
          -0.6140831914140193,
          0.5603086977341717,
          1.474751693797127,
          1.6512484343980032,
          -1.0210150242509708,
          -0.7432289383819919,
          1.3875297294630236,
          -0.6514939869833749,
          1.4721881339131935,
          1.518432510112827,
          0.03638510312744503,
          0.7270871221481457,
          1.0793079148027827,
          0.4072592314941338,
          0.5823303662801511,
          0.2779238844720935,
          1.3057489297021347,
          0.07351712777696348,
          -0.8794259892692825,
          0.29982770281056553,
          -0.3416568949263266,
          3.458170678509682,
          0.058799135304265615,
          -0.3884328992504171,
          0.545514744824541,
          0.24141281219690586,
          -1.212419426084278,
          1.441259323038795,
          0.8503394918604567,
          -0.8204208120323783,
          0.21563670697344076,
          2.8069650295546076,
          1.5238759774181017,
          -0.6621926922073339,
          -1.060870331126299,
          -1.2805044081418444,
          -1.2349226572849306
         ],
         "yaxis": "y7"
        },
        {
         "line": {
          "color": "rgba(128, 128, 128, 1.0)",
          "dash": "solid",
          "shape": "linear",
          "width": 1.3
         },
         "marker": {
          "size": 2,
          "symbol": "circle"
         },
         "mode": "markers",
         "name": "B",
         "text": "",
         "type": "scatter",
         "x": [
          0.592132628370577,
          -1.1427568771274301,
          -0.6340122630191883,
          -0.7162128894182691,
          0.09739810390787935,
          0.09159611881467758,
          -0.9668463002828019,
          -0.6208334020410122,
          0.12874503109489555,
          -0.3596561372712881,
          0.39013837317684175,
          0.9707203746231453,
          -1.849471788872194,
          -1.670949123446992,
          1.3990752041954768,
          -0.433939139689318,
          -0.44752017505281094,
          -2.134491404043168,
          -0.8356207928281586,
          1.2669953059648416,
          -0.26364190278517186,
          -0.03972649984227558,
          0.4107706478872919,
          0.8034938604696944,
          0.1797430430969131,
          -0.6029878381334249,
          0.5453303115260123,
          -0.22849871488659848,
          0.19840671579042543,
          -0.20075469668443507,
          -0.23837820844984284,
          0.7077555147181938,
          0.10728535871855505,
          -0.5961065955304026,
          0.6295775324655841,
          -2.1430311045813575,
          0.6461484336873898,
          0.1217479112963839,
          1.6345095310518332,
          -0.9607835683541878,
          -1.0677335273474948,
          1.2161328243610878,
          -0.06674068289256456,
          0.8395283207223901,
          -1.0741861262618164,
          -0.34730099283237337,
          0.5659354167689368,
          0.9123036110964656,
          -0.4871189389482929,
          1.5582944789663065,
          -2.104414717884187,
          -1.9082807636805286,
          0.20519240993648347,
          0.5830341861711636,
          0.06267896143655838,
          -2.202683825879842,
          -1.0614936236398618,
          -1.013092636573165,
          -0.7470592116179434,
          -1.0199280229765049,
          0.9875061756283474,
          -2.1080306341987796,
          0.8070667330078221,
          0.9094431465761287,
          -1.7629120134717562,
          -0.15994707522962706,
          0.41276947219161814,
          0.8381114480287192,
          -1.3365096723779204,
          -1.6329883056871755,
          0.10627979251486216,
          0.02004657791238379,
          -1.3229626726102046,
          1.2801780728052166,
          0.8345055826164722,
          0.9721200944205621,
          0.37734462188478013,
          -0.3223044195608128,
          0.7967565028396203,
          -0.6224089678483244,
          0.5828942342989621,
          0.03016169618375698,
          -1.696574544826665,
          0.09590877733994138,
          -0.5127741879834149,
          0.4383379018298321,
          1.0826621642886225,
          1.0592007327193345,
          -0.5232893508862395,
          1.2627601225631901,
          0.6589175272897498,
          1.022280331965757,
          -1.8153529724872977,
          -1.0861166191335576,
          0.017399232226795285,
          -1.9794890106589242,
          -0.2894486848694927,
          0.4794857286596619,
          0.13405219599547738,
          -0.9641648355507442
         ],
         "xaxis": "x8",
         "y": [
          0.34335976624785236,
          -0.5400241296111232,
          0.39625879311483636,
          -1.712841088113455,
          -0.07509142065935204,
          -0.73806711582396,
          0.3883007262086318,
          -0.5719092755359968,
          -0.4088347497306631,
          0.2421573678163824,
          -0.6529781799711727,
          0.38854787692263476,
          0.06453030726300012,
          -0.6988816243862073,
          1.3129702162264079,
          1.1771113015017993,
          -0.9700610592238458,
          1.1808244820001328,
          -1.478327479994,
          -0.46108336232059793,
          0.24491015346100684,
          -0.7318916215779915,
          -1.7148688047324678,
          0.5518859965500226,
          -0.9191779247410646,
          1.1985025549693435,
          2.5581128801469877,
          -0.7762150887891556,
          -1.549934782178811,
          0.05201663776978928,
          1.5232217714596588,
          -0.44708035980241534,
          -0.9086628778502828,
          -0.27525104215952567,
          -0.3577790202540434,
          0.4811753508335344,
          -0.5887451051233683,
          -1.294270125275922,
          0.8523861547501889,
          0.7381047196318503,
          1.0644322360476512,
          1.5967001236435843,
          0.82247172376917,
          -1.645808080381747,
          0.6857054299863742,
          -0.9009862391622963,
          -1.257234685603805,
          0.563120200391336,
          -0.9621725292323109,
          -0.5933983360655105,
          0.1284819007413659,
          -0.4240882124272642,
          1.1118812763090071,
          -1.9227848733315895,
          -0.419556595005051,
          1.5272854460120502,
          0.9102671180274021,
          0.6786808331841732,
          -0.42366626781453104,
          -1.1247464588926015,
          0.5004369031549727,
          -1.422643181814059,
          -0.06352335456872109,
          -0.6140831914140193,
          0.5603086977341717,
          1.474751693797127,
          1.6512484343980032,
          -1.0210150242509708,
          -0.7432289383819919,
          1.3875297294630236,
          -0.6514939869833749,
          1.4721881339131935,
          1.518432510112827,
          0.03638510312744503,
          0.7270871221481457,
          1.0793079148027827,
          0.4072592314941338,
          0.5823303662801511,
          0.2779238844720935,
          1.3057489297021347,
          0.07351712777696348,
          -0.8794259892692825,
          0.29982770281056553,
          -0.3416568949263266,
          3.458170678509682,
          0.058799135304265615,
          -0.3884328992504171,
          0.545514744824541,
          0.24141281219690586,
          -1.212419426084278,
          1.441259323038795,
          0.8503394918604567,
          -0.8204208120323783,
          0.21563670697344076,
          2.8069650295546076,
          1.5238759774181017,
          -0.6621926922073339,
          -1.060870331126299,
          -1.2805044081418444,
          -1.2349226572849306
         ],
         "yaxis": "y8"
        },
        {
         "line": {
          "color": "rgba(128, 128, 128, 1.0)",
          "dash": "solid",
          "shape": "linear",
          "width": 1.3
         },
         "marker": {
          "size": 2,
          "symbol": "circle"
         },
         "mode": "markers",
         "name": "C",
         "text": "",
         "type": "scatter",
         "x": [
          -0.3828792050443604,
          -0.8470899644257714,
          0.010194864370989333,
          0.7301852076151661,
          2.0209176306324363,
          -1.5003016962844402,
          1.3118946476906856,
          -0.19669756499513247,
          -0.9076690966885811,
          -0.3237404643459652,
          0.637713854283272,
          -0.03454556326127818,
          0.7796925569817367,
          -1.4423716042022108,
          -2.5845985787359163,
          0.6619539111661311,
          -0.687009387052393,
          -0.07904947689258264,
          0.05497583547432276,
          -0.1251154272973603,
          1.4799840842985588,
          0.4823254913863216,
          -2.280333653758334,
          -0.7687965123125058,
          -1.9305826565370234,
          1.2028531218309138,
          0.11759314103585028,
          0.8219103216225514,
          -1.0600425527288615,
          -0.7924098829680032,
          0.591057506448477,
          0.010539468688751144,
          0.587916797008021,
          0.5345565463711455,
          0.23953843637909966,
          -1.3486453781610805,
          1.4539031141605863,
          -0.7434505578041772,
          -0.06974790232731734,
          -1.3438280814154056,
          0.15028835356929468,
          -0.10287723292446797,
          0.5337958367766493,
          -1.7910145450870145,
          -0.3528093066466839,
          0.28483534146724776,
          -0.2376793634250966,
          -1.1439375104416412,
          -1.6773681066280623,
          1.8838782542672348,
          1.0028758404607157,
          1.019052841097029,
          0.30651768295595916,
          0.4025551526198797,
          -0.8905919688553369,
          -1.382874757587919,
          -0.6816436627196745,
          0.03878334506085071,
          -1.3612397104403606,
          0.3197604660731154,
          -2.538319364008003,
          -1.2091878447993685,
          -0.5249346013368914,
          0.6692146290182188,
          -0.11840123236465151,
          0.8525194553867952,
          -0.6035975956715631,
          0.4283480479109968,
          0.9101749092891146,
          -0.8864024726325933,
          0.7775503744458712,
          -0.3116906590586294,
          -0.0789741170722278,
          -0.46571660288813044,
          -0.7366408087817952,
          -0.34057771638209616,
          1.4270333479578556,
          -0.0685312876711088,
          -2.590989928710988,
          0.54533421224908,
          -0.9316184663461683,
          -0.3357877632399068,
          -1.1004430354999835,
          -1.5112832772747995,
          0.9233033997807208,
          0.9248042476413013,
          0.23712657682615962,
          -1.7926116956644673,
          0.8262882219580409,
          0.41308190167379377,
          0.20507635069705696,
          1.1372928682815537,
          0.19672852705318208,
          1.032022543036123,
          -0.8498915495743655,
          -0.38007228545542127,
          -1.9829304093355187,
          0.05455520904456543,
          0.45889417897813106,
          -0.14456383999886627
         ],
         "xaxis": "x9",
         "y": [
          0.2506092085793093,
          0.5210325936403227,
          1.239213358464694,
          -0.4466878782346689,
          -0.3822390633795185,
          -0.004193168373743429,
          0.31083507175692804,
          0.47014493079577385,
          -1.1556536917409108,
          -0.6757610308021511,
          -1.143836028015197,
          -0.8668866986037089,
          -3.1988150838934066,
          -0.7431034080655172,
          -0.40686358736988215,
          0.38817300614880124,
          -0.7249621219996307,
          1.1003757846228477,
          -0.3827825798596824,
          -1.9502233337660755,
          0.3165057808413265,
          0.6627391571225795,
          -0.3263229824933346,
          0.8285627583424173,
          0.9685477248448462,
          -2.9680823913015058,
          -1.4376379312345362,
          -1.7063194353908377,
          -0.27670004716137775,
          -0.5163377183768089,
          1.2437956186192953,
          0.35229549406432276,
          0.33258042113939507,
          -1.6057560516905556,
          0.44173661633579253,
          0.8191267704488735,
          0.05218990664378416,
          -0.18335279289604633,
          1.5162023789172292,
          -0.8833178708702997,
          1.3261569152294563,
          -0.11635473156903449,
          0.420635864279957,
          -0.9470924738177742,
          -0.43618797334177206,
          -0.42661623137309473,
          1.5416103231728577,
          -1.5596148002231116,
          0.01757030082496477,
          0.10140069671869259,
          1.5045891294248528,
          0.6902338347722542,
          1.4937463151241444,
          0.9002910845015439,
          0.5743890881715865,
          0.7562389480227537,
          -0.2001853168757039,
          -0.7157111539797419,
          -0.38765952959938493,
          -0.8572467787815908,
          0.2908470341192966,
          -0.9142824119313538,
          -0.3968746158328103,
          1.8688718784021316,
          -0.05217732449967453,
          1.4354670816758779,
          -1.0625152709489207,
          -0.5106587853056833,
          0.772057631583369,
          1.8018327650399475,
          -0.7958019648209217,
          2.006600168904022,
          -0.13292889152021703,
          0.32943355662723445,
          0.4108609828394416,
          2.0215940500491767,
          1.2016286063300015,
          1.3157545372633783,
          2.1135059883489045,
          2.19008158661078,
          -0.8143129683811934,
          0.23797298364722996,
          -1.6230732883970846,
          0.3084496100404266,
          0.4066710547761042,
          -0.4301381816226118,
          -1.491282679742187,
          -0.7552313272641786,
          -0.02249282109852578,
          0.020985550927711878,
          1.376036037255204,
          0.11425721932139542,
          -1.7920792205457143,
          -0.3136617620588843,
          0.9080291145166957,
          0.9552507049194106,
          -1.2999897780275405,
          -0.4293727950637242,
          0.21110400572437438,
          -0.23669025245583175
         ],
         "yaxis": "y9"
        },
        {
         "line": {
          "color": "rgba(128, 128, 128, 1.0)",
          "dash": "solid",
          "shape": "linear",
          "width": 1.3
         },
         "marker": {
          "size": 2,
          "symbol": "circle"
         },
         "mode": "markers",
         "name": "C",
         "text": "",
         "type": "scatter",
         "x": [
          0.34335976624785236,
          -0.5400241296111232,
          0.39625879311483636,
          -1.712841088113455,
          -0.07509142065935204,
          -0.73806711582396,
          0.3883007262086318,
          -0.5719092755359968,
          -0.4088347497306631,
          0.2421573678163824,
          -0.6529781799711727,
          0.38854787692263476,
          0.06453030726300012,
          -0.6988816243862073,
          1.3129702162264079,
          1.1771113015017993,
          -0.9700610592238458,
          1.1808244820001328,
          -1.478327479994,
          -0.46108336232059793,
          0.24491015346100684,
          -0.7318916215779915,
          -1.7148688047324678,
          0.5518859965500226,
          -0.9191779247410646,
          1.1985025549693435,
          2.5581128801469877,
          -0.7762150887891556,
          -1.549934782178811,
          0.05201663776978928,
          1.5232217714596588,
          -0.44708035980241534,
          -0.9086628778502828,
          -0.27525104215952567,
          -0.3577790202540434,
          0.4811753508335344,
          -0.5887451051233683,
          -1.294270125275922,
          0.8523861547501889,
          0.7381047196318503,
          1.0644322360476512,
          1.5967001236435843,
          0.82247172376917,
          -1.645808080381747,
          0.6857054299863742,
          -0.9009862391622963,
          -1.257234685603805,
          0.563120200391336,
          -0.9621725292323109,
          -0.5933983360655105,
          0.1284819007413659,
          -0.4240882124272642,
          1.1118812763090071,
          -1.9227848733315895,
          -0.419556595005051,
          1.5272854460120502,
          0.9102671180274021,
          0.6786808331841732,
          -0.42366626781453104,
          -1.1247464588926015,
          0.5004369031549727,
          -1.422643181814059,
          -0.06352335456872109,
          -0.6140831914140193,
          0.5603086977341717,
          1.474751693797127,
          1.6512484343980032,
          -1.0210150242509708,
          -0.7432289383819919,
          1.3875297294630236,
          -0.6514939869833749,
          1.4721881339131935,
          1.518432510112827,
          0.03638510312744503,
          0.7270871221481457,
          1.0793079148027827,
          0.4072592314941338,
          0.5823303662801511,
          0.2779238844720935,
          1.3057489297021347,
          0.07351712777696348,
          -0.8794259892692825,
          0.29982770281056553,
          -0.3416568949263266,
          3.458170678509682,
          0.058799135304265615,
          -0.3884328992504171,
          0.545514744824541,
          0.24141281219690586,
          -1.212419426084278,
          1.441259323038795,
          0.8503394918604567,
          -0.8204208120323783,
          0.21563670697344076,
          2.8069650295546076,
          1.5238759774181017,
          -0.6621926922073339,
          -1.060870331126299,
          -1.2805044081418444,
          -1.2349226572849306
         ],
         "xaxis": "x10",
         "y": [
          0.2506092085793093,
          0.5210325936403227,
          1.239213358464694,
          -0.4466878782346689,
          -0.3822390633795185,
          -0.004193168373743429,
          0.31083507175692804,
          0.47014493079577385,
          -1.1556536917409108,
          -0.6757610308021511,
          -1.143836028015197,
          -0.8668866986037089,
          -3.1988150838934066,
          -0.7431034080655172,
          -0.40686358736988215,
          0.38817300614880124,
          -0.7249621219996307,
          1.1003757846228477,
          -0.3827825798596824,
          -1.9502233337660755,
          0.3165057808413265,
          0.6627391571225795,
          -0.3263229824933346,
          0.8285627583424173,
          0.9685477248448462,
          -2.9680823913015058,
          -1.4376379312345362,
          -1.7063194353908377,
          -0.27670004716137775,
          -0.5163377183768089,
          1.2437956186192953,
          0.35229549406432276,
          0.33258042113939507,
          -1.6057560516905556,
          0.44173661633579253,
          0.8191267704488735,
          0.05218990664378416,
          -0.18335279289604633,
          1.5162023789172292,
          -0.8833178708702997,
          1.3261569152294563,
          -0.11635473156903449,
          0.420635864279957,
          -0.9470924738177742,
          -0.43618797334177206,
          -0.42661623137309473,
          1.5416103231728577,
          -1.5596148002231116,
          0.01757030082496477,
          0.10140069671869259,
          1.5045891294248528,
          0.6902338347722542,
          1.4937463151241444,
          0.9002910845015439,
          0.5743890881715865,
          0.7562389480227537,
          -0.2001853168757039,
          -0.7157111539797419,
          -0.38765952959938493,
          -0.8572467787815908,
          0.2908470341192966,
          -0.9142824119313538,
          -0.3968746158328103,
          1.8688718784021316,
          -0.05217732449967453,
          1.4354670816758779,
          -1.0625152709489207,
          -0.5106587853056833,
          0.772057631583369,
          1.8018327650399475,
          -0.7958019648209217,
          2.006600168904022,
          -0.13292889152021703,
          0.32943355662723445,
          0.4108609828394416,
          2.0215940500491767,
          1.2016286063300015,
          1.3157545372633783,
          2.1135059883489045,
          2.19008158661078,
          -0.8143129683811934,
          0.23797298364722996,
          -1.6230732883970846,
          0.3084496100404266,
          0.4066710547761042,
          -0.4301381816226118,
          -1.491282679742187,
          -0.7552313272641786,
          -0.02249282109852578,
          0.020985550927711878,
          1.376036037255204,
          0.11425721932139542,
          -1.7920792205457143,
          -0.3136617620588843,
          0.9080291145166957,
          0.9552507049194106,
          -1.2999897780275405,
          -0.4293727950637242,
          0.21110400572437438,
          -0.23669025245583175
         ],
         "yaxis": "y10"
        },
        {
         "histfunc": "count",
         "histnorm": "",
         "marker": {
          "color": "rgba(50, 171, 96, 1.0)",
          "line": {
           "color": "#4D5663",
           "width": 1.3
          }
         },
         "name": "C",
         "nbinsx": 10,
         "opacity": 0.8,
         "orientation": "v",
         "type": "histogram",
         "x": [
          0.2506092085793093,
          0.5210325936403227,
          1.239213358464694,
          -0.4466878782346689,
          -0.3822390633795185,
          -0.004193168373743429,
          0.31083507175692804,
          0.47014493079577385,
          -1.1556536917409108,
          -0.6757610308021511,
          -1.143836028015197,
          -0.8668866986037089,
          -3.1988150838934066,
          -0.7431034080655172,
          -0.40686358736988215,
          0.38817300614880124,
          -0.7249621219996307,
          1.1003757846228477,
          -0.3827825798596824,
          -1.9502233337660755,
          0.3165057808413265,
          0.6627391571225795,
          -0.3263229824933346,
          0.8285627583424173,
          0.9685477248448462,
          -2.9680823913015058,
          -1.4376379312345362,
          -1.7063194353908377,
          -0.27670004716137775,
          -0.5163377183768089,
          1.2437956186192953,
          0.35229549406432276,
          0.33258042113939507,
          -1.6057560516905556,
          0.44173661633579253,
          0.8191267704488735,
          0.05218990664378416,
          -0.18335279289604633,
          1.5162023789172292,
          -0.8833178708702997,
          1.3261569152294563,
          -0.11635473156903449,
          0.420635864279957,
          -0.9470924738177742,
          -0.43618797334177206,
          -0.42661623137309473,
          1.5416103231728577,
          -1.5596148002231116,
          0.01757030082496477,
          0.10140069671869259,
          1.5045891294248528,
          0.6902338347722542,
          1.4937463151241444,
          0.9002910845015439,
          0.5743890881715865,
          0.7562389480227537,
          -0.2001853168757039,
          -0.7157111539797419,
          -0.38765952959938493,
          -0.8572467787815908,
          0.2908470341192966,
          -0.9142824119313538,
          -0.3968746158328103,
          1.8688718784021316,
          -0.05217732449967453,
          1.4354670816758779,
          -1.0625152709489207,
          -0.5106587853056833,
          0.772057631583369,
          1.8018327650399475,
          -0.7958019648209217,
          2.006600168904022,
          -0.13292889152021703,
          0.32943355662723445,
          0.4108609828394416,
          2.0215940500491767,
          1.2016286063300015,
          1.3157545372633783,
          2.1135059883489045,
          2.19008158661078,
          -0.8143129683811934,
          0.23797298364722996,
          -1.6230732883970846,
          0.3084496100404266,
          0.4066710547761042,
          -0.4301381816226118,
          -1.491282679742187,
          -0.7552313272641786,
          -0.02249282109852578,
          0.020985550927711878,
          1.376036037255204,
          0.11425721932139542,
          -1.7920792205457143,
          -0.3136617620588843,
          0.9080291145166957,
          0.9552507049194106,
          -1.2999897780275405,
          -0.4293727950637242,
          0.21110400572437438,
          -0.23669025245583175
         ],
         "xaxis": "x11",
         "yaxis": "y11"
        },
        {
         "line": {
          "color": "rgba(128, 128, 128, 1.0)",
          "dash": "solid",
          "shape": "linear",
          "width": 1.3
         },
         "marker": {
          "size": 2,
          "symbol": "circle"
         },
         "mode": "markers",
         "name": "C",
         "text": "",
         "type": "scatter",
         "x": [
          0.592132628370577,
          -1.1427568771274301,
          -0.6340122630191883,
          -0.7162128894182691,
          0.09739810390787935,
          0.09159611881467758,
          -0.9668463002828019,
          -0.6208334020410122,
          0.12874503109489555,
          -0.3596561372712881,
          0.39013837317684175,
          0.9707203746231453,
          -1.849471788872194,
          -1.670949123446992,
          1.3990752041954768,
          -0.433939139689318,
          -0.44752017505281094,
          -2.134491404043168,
          -0.8356207928281586,
          1.2669953059648416,
          -0.26364190278517186,
          -0.03972649984227558,
          0.4107706478872919,
          0.8034938604696944,
          0.1797430430969131,
          -0.6029878381334249,
          0.5453303115260123,
          -0.22849871488659848,
          0.19840671579042543,
          -0.20075469668443507,
          -0.23837820844984284,
          0.7077555147181938,
          0.10728535871855505,
          -0.5961065955304026,
          0.6295775324655841,
          -2.1430311045813575,
          0.6461484336873898,
          0.1217479112963839,
          1.6345095310518332,
          -0.9607835683541878,
          -1.0677335273474948,
          1.2161328243610878,
          -0.06674068289256456,
          0.8395283207223901,
          -1.0741861262618164,
          -0.34730099283237337,
          0.5659354167689368,
          0.9123036110964656,
          -0.4871189389482929,
          1.5582944789663065,
          -2.104414717884187,
          -1.9082807636805286,
          0.20519240993648347,
          0.5830341861711636,
          0.06267896143655838,
          -2.202683825879842,
          -1.0614936236398618,
          -1.013092636573165,
          -0.7470592116179434,
          -1.0199280229765049,
          0.9875061756283474,
          -2.1080306341987796,
          0.8070667330078221,
          0.9094431465761287,
          -1.7629120134717562,
          -0.15994707522962706,
          0.41276947219161814,
          0.8381114480287192,
          -1.3365096723779204,
          -1.6329883056871755,
          0.10627979251486216,
          0.02004657791238379,
          -1.3229626726102046,
          1.2801780728052166,
          0.8345055826164722,
          0.9721200944205621,
          0.37734462188478013,
          -0.3223044195608128,
          0.7967565028396203,
          -0.6224089678483244,
          0.5828942342989621,
          0.03016169618375698,
          -1.696574544826665,
          0.09590877733994138,
          -0.5127741879834149,
          0.4383379018298321,
          1.0826621642886225,
          1.0592007327193345,
          -0.5232893508862395,
          1.2627601225631901,
          0.6589175272897498,
          1.022280331965757,
          -1.8153529724872977,
          -1.0861166191335576,
          0.017399232226795285,
          -1.9794890106589242,
          -0.2894486848694927,
          0.4794857286596619,
          0.13405219599547738,
          -0.9641648355507442
         ],
         "xaxis": "x12",
         "y": [
          0.2506092085793093,
          0.5210325936403227,
          1.239213358464694,
          -0.4466878782346689,
          -0.3822390633795185,
          -0.004193168373743429,
          0.31083507175692804,
          0.47014493079577385,
          -1.1556536917409108,
          -0.6757610308021511,
          -1.143836028015197,
          -0.8668866986037089,
          -3.1988150838934066,
          -0.7431034080655172,
          -0.40686358736988215,
          0.38817300614880124,
          -0.7249621219996307,
          1.1003757846228477,
          -0.3827825798596824,
          -1.9502233337660755,
          0.3165057808413265,
          0.6627391571225795,
          -0.3263229824933346,
          0.8285627583424173,
          0.9685477248448462,
          -2.9680823913015058,
          -1.4376379312345362,
          -1.7063194353908377,
          -0.27670004716137775,
          -0.5163377183768089,
          1.2437956186192953,
          0.35229549406432276,
          0.33258042113939507,
          -1.6057560516905556,
          0.44173661633579253,
          0.8191267704488735,
          0.05218990664378416,
          -0.18335279289604633,
          1.5162023789172292,
          -0.8833178708702997,
          1.3261569152294563,
          -0.11635473156903449,
          0.420635864279957,
          -0.9470924738177742,
          -0.43618797334177206,
          -0.42661623137309473,
          1.5416103231728577,
          -1.5596148002231116,
          0.01757030082496477,
          0.10140069671869259,
          1.5045891294248528,
          0.6902338347722542,
          1.4937463151241444,
          0.9002910845015439,
          0.5743890881715865,
          0.7562389480227537,
          -0.2001853168757039,
          -0.7157111539797419,
          -0.38765952959938493,
          -0.8572467787815908,
          0.2908470341192966,
          -0.9142824119313538,
          -0.3968746158328103,
          1.8688718784021316,
          -0.05217732449967453,
          1.4354670816758779,
          -1.0625152709489207,
          -0.5106587853056833,
          0.772057631583369,
          1.8018327650399475,
          -0.7958019648209217,
          2.006600168904022,
          -0.13292889152021703,
          0.32943355662723445,
          0.4108609828394416,
          2.0215940500491767,
          1.2016286063300015,
          1.3157545372633783,
          2.1135059883489045,
          2.19008158661078,
          -0.8143129683811934,
          0.23797298364722996,
          -1.6230732883970846,
          0.3084496100404266,
          0.4066710547761042,
          -0.4301381816226118,
          -1.491282679742187,
          -0.7552313272641786,
          -0.02249282109852578,
          0.020985550927711878,
          1.376036037255204,
          0.11425721932139542,
          -1.7920792205457143,
          -0.3136617620588843,
          0.9080291145166957,
          0.9552507049194106,
          -1.2999897780275405,
          -0.4293727950637242,
          0.21110400572437438,
          -0.23669025245583175
         ],
         "yaxis": "y12"
        },
        {
         "line": {
          "color": "rgba(128, 128, 128, 1.0)",
          "dash": "solid",
          "shape": "linear",
          "width": 1.3
         },
         "marker": {
          "size": 2,
          "symbol": "circle"
         },
         "mode": "markers",
         "name": "D",
         "text": "",
         "type": "scatter",
         "x": [
          -0.3828792050443604,
          -0.8470899644257714,
          0.010194864370989333,
          0.7301852076151661,
          2.0209176306324363,
          -1.5003016962844402,
          1.3118946476906856,
          -0.19669756499513247,
          -0.9076690966885811,
          -0.3237404643459652,
          0.637713854283272,
          -0.03454556326127818,
          0.7796925569817367,
          -1.4423716042022108,
          -2.5845985787359163,
          0.6619539111661311,
          -0.687009387052393,
          -0.07904947689258264,
          0.05497583547432276,
          -0.1251154272973603,
          1.4799840842985588,
          0.4823254913863216,
          -2.280333653758334,
          -0.7687965123125058,
          -1.9305826565370234,
          1.2028531218309138,
          0.11759314103585028,
          0.8219103216225514,
          -1.0600425527288615,
          -0.7924098829680032,
          0.591057506448477,
          0.010539468688751144,
          0.587916797008021,
          0.5345565463711455,
          0.23953843637909966,
          -1.3486453781610805,
          1.4539031141605863,
          -0.7434505578041772,
          -0.06974790232731734,
          -1.3438280814154056,
          0.15028835356929468,
          -0.10287723292446797,
          0.5337958367766493,
          -1.7910145450870145,
          -0.3528093066466839,
          0.28483534146724776,
          -0.2376793634250966,
          -1.1439375104416412,
          -1.6773681066280623,
          1.8838782542672348,
          1.0028758404607157,
          1.019052841097029,
          0.30651768295595916,
          0.4025551526198797,
          -0.8905919688553369,
          -1.382874757587919,
          -0.6816436627196745,
          0.03878334506085071,
          -1.3612397104403606,
          0.3197604660731154,
          -2.538319364008003,
          -1.2091878447993685,
          -0.5249346013368914,
          0.6692146290182188,
          -0.11840123236465151,
          0.8525194553867952,
          -0.6035975956715631,
          0.4283480479109968,
          0.9101749092891146,
          -0.8864024726325933,
          0.7775503744458712,
          -0.3116906590586294,
          -0.0789741170722278,
          -0.46571660288813044,
          -0.7366408087817952,
          -0.34057771638209616,
          1.4270333479578556,
          -0.0685312876711088,
          -2.590989928710988,
          0.54533421224908,
          -0.9316184663461683,
          -0.3357877632399068,
          -1.1004430354999835,
          -1.5112832772747995,
          0.9233033997807208,
          0.9248042476413013,
          0.23712657682615962,
          -1.7926116956644673,
          0.8262882219580409,
          0.41308190167379377,
          0.20507635069705696,
          1.1372928682815537,
          0.19672852705318208,
          1.032022543036123,
          -0.8498915495743655,
          -0.38007228545542127,
          -1.9829304093355187,
          0.05455520904456543,
          0.45889417897813106,
          -0.14456383999886627
         ],
         "xaxis": "x13",
         "y": [
          0.592132628370577,
          -1.1427568771274301,
          -0.6340122630191883,
          -0.7162128894182691,
          0.09739810390787935,
          0.09159611881467758,
          -0.9668463002828019,
          -0.6208334020410122,
          0.12874503109489555,
          -0.3596561372712881,
          0.39013837317684175,
          0.9707203746231453,
          -1.849471788872194,
          -1.670949123446992,
          1.3990752041954768,
          -0.433939139689318,
          -0.44752017505281094,
          -2.134491404043168,
          -0.8356207928281586,
          1.2669953059648416,
          -0.26364190278517186,
          -0.03972649984227558,
          0.4107706478872919,
          0.8034938604696944,
          0.1797430430969131,
          -0.6029878381334249,
          0.5453303115260123,
          -0.22849871488659848,
          0.19840671579042543,
          -0.20075469668443507,
          -0.23837820844984284,
          0.7077555147181938,
          0.10728535871855505,
          -0.5961065955304026,
          0.6295775324655841,
          -2.1430311045813575,
          0.6461484336873898,
          0.1217479112963839,
          1.6345095310518332,
          -0.9607835683541878,
          -1.0677335273474948,
          1.2161328243610878,
          -0.06674068289256456,
          0.8395283207223901,
          -1.0741861262618164,
          -0.34730099283237337,
          0.5659354167689368,
          0.9123036110964656,
          -0.4871189389482929,
          1.5582944789663065,
          -2.104414717884187,
          -1.9082807636805286,
          0.20519240993648347,
          0.5830341861711636,
          0.06267896143655838,
          -2.202683825879842,
          -1.0614936236398618,
          -1.013092636573165,
          -0.7470592116179434,
          -1.0199280229765049,
          0.9875061756283474,
          -2.1080306341987796,
          0.8070667330078221,
          0.9094431465761287,
          -1.7629120134717562,
          -0.15994707522962706,
          0.41276947219161814,
          0.8381114480287192,
          -1.3365096723779204,
          -1.6329883056871755,
          0.10627979251486216,
          0.02004657791238379,
          -1.3229626726102046,
          1.2801780728052166,
          0.8345055826164722,
          0.9721200944205621,
          0.37734462188478013,
          -0.3223044195608128,
          0.7967565028396203,
          -0.6224089678483244,
          0.5828942342989621,
          0.03016169618375698,
          -1.696574544826665,
          0.09590877733994138,
          -0.5127741879834149,
          0.4383379018298321,
          1.0826621642886225,
          1.0592007327193345,
          -0.5232893508862395,
          1.2627601225631901,
          0.6589175272897498,
          1.022280331965757,
          -1.8153529724872977,
          -1.0861166191335576,
          0.017399232226795285,
          -1.9794890106589242,
          -0.2894486848694927,
          0.4794857286596619,
          0.13405219599547738,
          -0.9641648355507442
         ],
         "yaxis": "y13"
        },
        {
         "line": {
          "color": "rgba(128, 128, 128, 1.0)",
          "dash": "solid",
          "shape": "linear",
          "width": 1.3
         },
         "marker": {
          "size": 2,
          "symbol": "circle"
         },
         "mode": "markers",
         "name": "D",
         "text": "",
         "type": "scatter",
         "x": [
          0.34335976624785236,
          -0.5400241296111232,
          0.39625879311483636,
          -1.712841088113455,
          -0.07509142065935204,
          -0.73806711582396,
          0.3883007262086318,
          -0.5719092755359968,
          -0.4088347497306631,
          0.2421573678163824,
          -0.6529781799711727,
          0.38854787692263476,
          0.06453030726300012,
          -0.6988816243862073,
          1.3129702162264079,
          1.1771113015017993,
          -0.9700610592238458,
          1.1808244820001328,
          -1.478327479994,
          -0.46108336232059793,
          0.24491015346100684,
          -0.7318916215779915,
          -1.7148688047324678,
          0.5518859965500226,
          -0.9191779247410646,
          1.1985025549693435,
          2.5581128801469877,
          -0.7762150887891556,
          -1.549934782178811,
          0.05201663776978928,
          1.5232217714596588,
          -0.44708035980241534,
          -0.9086628778502828,
          -0.27525104215952567,
          -0.3577790202540434,
          0.4811753508335344,
          -0.5887451051233683,
          -1.294270125275922,
          0.8523861547501889,
          0.7381047196318503,
          1.0644322360476512,
          1.5967001236435843,
          0.82247172376917,
          -1.645808080381747,
          0.6857054299863742,
          -0.9009862391622963,
          -1.257234685603805,
          0.563120200391336,
          -0.9621725292323109,
          -0.5933983360655105,
          0.1284819007413659,
          -0.4240882124272642,
          1.1118812763090071,
          -1.9227848733315895,
          -0.419556595005051,
          1.5272854460120502,
          0.9102671180274021,
          0.6786808331841732,
          -0.42366626781453104,
          -1.1247464588926015,
          0.5004369031549727,
          -1.422643181814059,
          -0.06352335456872109,
          -0.6140831914140193,
          0.5603086977341717,
          1.474751693797127,
          1.6512484343980032,
          -1.0210150242509708,
          -0.7432289383819919,
          1.3875297294630236,
          -0.6514939869833749,
          1.4721881339131935,
          1.518432510112827,
          0.03638510312744503,
          0.7270871221481457,
          1.0793079148027827,
          0.4072592314941338,
          0.5823303662801511,
          0.2779238844720935,
          1.3057489297021347,
          0.07351712777696348,
          -0.8794259892692825,
          0.29982770281056553,
          -0.3416568949263266,
          3.458170678509682,
          0.058799135304265615,
          -0.3884328992504171,
          0.545514744824541,
          0.24141281219690586,
          -1.212419426084278,
          1.441259323038795,
          0.8503394918604567,
          -0.8204208120323783,
          0.21563670697344076,
          2.8069650295546076,
          1.5238759774181017,
          -0.6621926922073339,
          -1.060870331126299,
          -1.2805044081418444,
          -1.2349226572849306
         ],
         "xaxis": "x14",
         "y": [
          0.592132628370577,
          -1.1427568771274301,
          -0.6340122630191883,
          -0.7162128894182691,
          0.09739810390787935,
          0.09159611881467758,
          -0.9668463002828019,
          -0.6208334020410122,
          0.12874503109489555,
          -0.3596561372712881,
          0.39013837317684175,
          0.9707203746231453,
          -1.849471788872194,
          -1.670949123446992,
          1.3990752041954768,
          -0.433939139689318,
          -0.44752017505281094,
          -2.134491404043168,
          -0.8356207928281586,
          1.2669953059648416,
          -0.26364190278517186,
          -0.03972649984227558,
          0.4107706478872919,
          0.8034938604696944,
          0.1797430430969131,
          -0.6029878381334249,
          0.5453303115260123,
          -0.22849871488659848,
          0.19840671579042543,
          -0.20075469668443507,
          -0.23837820844984284,
          0.7077555147181938,
          0.10728535871855505,
          -0.5961065955304026,
          0.6295775324655841,
          -2.1430311045813575,
          0.6461484336873898,
          0.1217479112963839,
          1.6345095310518332,
          -0.9607835683541878,
          -1.0677335273474948,
          1.2161328243610878,
          -0.06674068289256456,
          0.8395283207223901,
          -1.0741861262618164,
          -0.34730099283237337,
          0.5659354167689368,
          0.9123036110964656,
          -0.4871189389482929,
          1.5582944789663065,
          -2.104414717884187,
          -1.9082807636805286,
          0.20519240993648347,
          0.5830341861711636,
          0.06267896143655838,
          -2.202683825879842,
          -1.0614936236398618,
          -1.013092636573165,
          -0.7470592116179434,
          -1.0199280229765049,
          0.9875061756283474,
          -2.1080306341987796,
          0.8070667330078221,
          0.9094431465761287,
          -1.7629120134717562,
          -0.15994707522962706,
          0.41276947219161814,
          0.8381114480287192,
          -1.3365096723779204,
          -1.6329883056871755,
          0.10627979251486216,
          0.02004657791238379,
          -1.3229626726102046,
          1.2801780728052166,
          0.8345055826164722,
          0.9721200944205621,
          0.37734462188478013,
          -0.3223044195608128,
          0.7967565028396203,
          -0.6224089678483244,
          0.5828942342989621,
          0.03016169618375698,
          -1.696574544826665,
          0.09590877733994138,
          -0.5127741879834149,
          0.4383379018298321,
          1.0826621642886225,
          1.0592007327193345,
          -0.5232893508862395,
          1.2627601225631901,
          0.6589175272897498,
          1.022280331965757,
          -1.8153529724872977,
          -1.0861166191335576,
          0.017399232226795285,
          -1.9794890106589242,
          -0.2894486848694927,
          0.4794857286596619,
          0.13405219599547738,
          -0.9641648355507442
         ],
         "yaxis": "y14"
        },
        {
         "line": {
          "color": "rgba(128, 128, 128, 1.0)",
          "dash": "solid",
          "shape": "linear",
          "width": 1.3
         },
         "marker": {
          "size": 2,
          "symbol": "circle"
         },
         "mode": "markers",
         "name": "D",
         "text": "",
         "type": "scatter",
         "x": [
          0.2506092085793093,
          0.5210325936403227,
          1.239213358464694,
          -0.4466878782346689,
          -0.3822390633795185,
          -0.004193168373743429,
          0.31083507175692804,
          0.47014493079577385,
          -1.1556536917409108,
          -0.6757610308021511,
          -1.143836028015197,
          -0.8668866986037089,
          -3.1988150838934066,
          -0.7431034080655172,
          -0.40686358736988215,
          0.38817300614880124,
          -0.7249621219996307,
          1.1003757846228477,
          -0.3827825798596824,
          -1.9502233337660755,
          0.3165057808413265,
          0.6627391571225795,
          -0.3263229824933346,
          0.8285627583424173,
          0.9685477248448462,
          -2.9680823913015058,
          -1.4376379312345362,
          -1.7063194353908377,
          -0.27670004716137775,
          -0.5163377183768089,
          1.2437956186192953,
          0.35229549406432276,
          0.33258042113939507,
          -1.6057560516905556,
          0.44173661633579253,
          0.8191267704488735,
          0.05218990664378416,
          -0.18335279289604633,
          1.5162023789172292,
          -0.8833178708702997,
          1.3261569152294563,
          -0.11635473156903449,
          0.420635864279957,
          -0.9470924738177742,
          -0.43618797334177206,
          -0.42661623137309473,
          1.5416103231728577,
          -1.5596148002231116,
          0.01757030082496477,
          0.10140069671869259,
          1.5045891294248528,
          0.6902338347722542,
          1.4937463151241444,
          0.9002910845015439,
          0.5743890881715865,
          0.7562389480227537,
          -0.2001853168757039,
          -0.7157111539797419,
          -0.38765952959938493,
          -0.8572467787815908,
          0.2908470341192966,
          -0.9142824119313538,
          -0.3968746158328103,
          1.8688718784021316,
          -0.05217732449967453,
          1.4354670816758779,
          -1.0625152709489207,
          -0.5106587853056833,
          0.772057631583369,
          1.8018327650399475,
          -0.7958019648209217,
          2.006600168904022,
          -0.13292889152021703,
          0.32943355662723445,
          0.4108609828394416,
          2.0215940500491767,
          1.2016286063300015,
          1.3157545372633783,
          2.1135059883489045,
          2.19008158661078,
          -0.8143129683811934,
          0.23797298364722996,
          -1.6230732883970846,
          0.3084496100404266,
          0.4066710547761042,
          -0.4301381816226118,
          -1.491282679742187,
          -0.7552313272641786,
          -0.02249282109852578,
          0.020985550927711878,
          1.376036037255204,
          0.11425721932139542,
          -1.7920792205457143,
          -0.3136617620588843,
          0.9080291145166957,
          0.9552507049194106,
          -1.2999897780275405,
          -0.4293727950637242,
          0.21110400572437438,
          -0.23669025245583175
         ],
         "xaxis": "x15",
         "y": [
          0.592132628370577,
          -1.1427568771274301,
          -0.6340122630191883,
          -0.7162128894182691,
          0.09739810390787935,
          0.09159611881467758,
          -0.9668463002828019,
          -0.6208334020410122,
          0.12874503109489555,
          -0.3596561372712881,
          0.39013837317684175,
          0.9707203746231453,
          -1.849471788872194,
          -1.670949123446992,
          1.3990752041954768,
          -0.433939139689318,
          -0.44752017505281094,
          -2.134491404043168,
          -0.8356207928281586,
          1.2669953059648416,
          -0.26364190278517186,
          -0.03972649984227558,
          0.4107706478872919,
          0.8034938604696944,
          0.1797430430969131,
          -0.6029878381334249,
          0.5453303115260123,
          -0.22849871488659848,
          0.19840671579042543,
          -0.20075469668443507,
          -0.23837820844984284,
          0.7077555147181938,
          0.10728535871855505,
          -0.5961065955304026,
          0.6295775324655841,
          -2.1430311045813575,
          0.6461484336873898,
          0.1217479112963839,
          1.6345095310518332,
          -0.9607835683541878,
          -1.0677335273474948,
          1.2161328243610878,
          -0.06674068289256456,
          0.8395283207223901,
          -1.0741861262618164,
          -0.34730099283237337,
          0.5659354167689368,
          0.9123036110964656,
          -0.4871189389482929,
          1.5582944789663065,
          -2.104414717884187,
          -1.9082807636805286,
          0.20519240993648347,
          0.5830341861711636,
          0.06267896143655838,
          -2.202683825879842,
          -1.0614936236398618,
          -1.013092636573165,
          -0.7470592116179434,
          -1.0199280229765049,
          0.9875061756283474,
          -2.1080306341987796,
          0.8070667330078221,
          0.9094431465761287,
          -1.7629120134717562,
          -0.15994707522962706,
          0.41276947219161814,
          0.8381114480287192,
          -1.3365096723779204,
          -1.6329883056871755,
          0.10627979251486216,
          0.02004657791238379,
          -1.3229626726102046,
          1.2801780728052166,
          0.8345055826164722,
          0.9721200944205621,
          0.37734462188478013,
          -0.3223044195608128,
          0.7967565028396203,
          -0.6224089678483244,
          0.5828942342989621,
          0.03016169618375698,
          -1.696574544826665,
          0.09590877733994138,
          -0.5127741879834149,
          0.4383379018298321,
          1.0826621642886225,
          1.0592007327193345,
          -0.5232893508862395,
          1.2627601225631901,
          0.6589175272897498,
          1.022280331965757,
          -1.8153529724872977,
          -1.0861166191335576,
          0.017399232226795285,
          -1.9794890106589242,
          -0.2894486848694927,
          0.4794857286596619,
          0.13405219599547738,
          -0.9641648355507442
         ],
         "yaxis": "y15"
        },
        {
         "histfunc": "count",
         "histnorm": "",
         "marker": {
          "color": "rgba(128, 0, 128, 1.0)",
          "line": {
           "color": "#4D5663",
           "width": 1.3
          }
         },
         "name": "D",
         "nbinsx": 10,
         "opacity": 0.8,
         "orientation": "v",
         "type": "histogram",
         "x": [
          0.592132628370577,
          -1.1427568771274301,
          -0.6340122630191883,
          -0.7162128894182691,
          0.09739810390787935,
          0.09159611881467758,
          -0.9668463002828019,
          -0.6208334020410122,
          0.12874503109489555,
          -0.3596561372712881,
          0.39013837317684175,
          0.9707203746231453,
          -1.849471788872194,
          -1.670949123446992,
          1.3990752041954768,
          -0.433939139689318,
          -0.44752017505281094,
          -2.134491404043168,
          -0.8356207928281586,
          1.2669953059648416,
          -0.26364190278517186,
          -0.03972649984227558,
          0.4107706478872919,
          0.8034938604696944,
          0.1797430430969131,
          -0.6029878381334249,
          0.5453303115260123,
          -0.22849871488659848,
          0.19840671579042543,
          -0.20075469668443507,
          -0.23837820844984284,
          0.7077555147181938,
          0.10728535871855505,
          -0.5961065955304026,
          0.6295775324655841,
          -2.1430311045813575,
          0.6461484336873898,
          0.1217479112963839,
          1.6345095310518332,
          -0.9607835683541878,
          -1.0677335273474948,
          1.2161328243610878,
          -0.06674068289256456,
          0.8395283207223901,
          -1.0741861262618164,
          -0.34730099283237337,
          0.5659354167689368,
          0.9123036110964656,
          -0.4871189389482929,
          1.5582944789663065,
          -2.104414717884187,
          -1.9082807636805286,
          0.20519240993648347,
          0.5830341861711636,
          0.06267896143655838,
          -2.202683825879842,
          -1.0614936236398618,
          -1.013092636573165,
          -0.7470592116179434,
          -1.0199280229765049,
          0.9875061756283474,
          -2.1080306341987796,
          0.8070667330078221,
          0.9094431465761287,
          -1.7629120134717562,
          -0.15994707522962706,
          0.41276947219161814,
          0.8381114480287192,
          -1.3365096723779204,
          -1.6329883056871755,
          0.10627979251486216,
          0.02004657791238379,
          -1.3229626726102046,
          1.2801780728052166,
          0.8345055826164722,
          0.9721200944205621,
          0.37734462188478013,
          -0.3223044195608128,
          0.7967565028396203,
          -0.6224089678483244,
          0.5828942342989621,
          0.03016169618375698,
          -1.696574544826665,
          0.09590877733994138,
          -0.5127741879834149,
          0.4383379018298321,
          1.0826621642886225,
          1.0592007327193345,
          -0.5232893508862395,
          1.2627601225631901,
          0.6589175272897498,
          1.022280331965757,
          -1.8153529724872977,
          -1.0861166191335576,
          0.017399232226795285,
          -1.9794890106589242,
          -0.2894486848694927,
          0.4794857286596619,
          0.13405219599547738,
          -0.9641648355507442
         ],
         "xaxis": "x16",
         "yaxis": "y16"
        }
       ],
       "layout": {
        "bargap": 0.02,
        "legend": {
         "bgcolor": "#F5F6F9",
         "font": {
          "color": "#4D5663"
         }
        },
        "paper_bgcolor": "#F5F6F9",
        "plot_bgcolor": "#F5F6F9",
        "showlegend": false,
        "template": {
         "data": {
          "bar": [
           {
            "error_x": {
             "color": "#2a3f5f"
            },
            "error_y": {
             "color": "#2a3f5f"
            },
            "marker": {
             "line": {
              "color": "#E5ECF6",
              "width": 0.5
             },
             "pattern": {
              "fillmode": "overlay",
              "size": 10,
              "solidity": 0.2
             }
            },
            "type": "bar"
           }
          ],
          "barpolar": [
           {
            "marker": {
             "line": {
              "color": "#E5ECF6",
              "width": 0.5
             },
             "pattern": {
              "fillmode": "overlay",
              "size": 10,
              "solidity": 0.2
             }
            },
            "type": "barpolar"
           }
          ],
          "carpet": [
           {
            "aaxis": {
             "endlinecolor": "#2a3f5f",
             "gridcolor": "white",
             "linecolor": "white",
             "minorgridcolor": "white",
             "startlinecolor": "#2a3f5f"
            },
            "baxis": {
             "endlinecolor": "#2a3f5f",
             "gridcolor": "white",
             "linecolor": "white",
             "minorgridcolor": "white",
             "startlinecolor": "#2a3f5f"
            },
            "type": "carpet"
           }
          ],
          "choropleth": [
           {
            "colorbar": {
             "outlinewidth": 0,
             "ticks": ""
            },
            "type": "choropleth"
           }
          ],
          "contour": [
           {
            "colorbar": {
             "outlinewidth": 0,
             "ticks": ""
            },
            "colorscale": [
             [
              0,
              "#0d0887"
             ],
             [
              0.1111111111111111,
              "#46039f"
             ],
             [
              0.2222222222222222,
              "#7201a8"
             ],
             [
              0.3333333333333333,
              "#9c179e"
             ],
             [
              0.4444444444444444,
              "#bd3786"
             ],
             [
              0.5555555555555556,
              "#d8576b"
             ],
             [
              0.6666666666666666,
              "#ed7953"
             ],
             [
              0.7777777777777778,
              "#fb9f3a"
             ],
             [
              0.8888888888888888,
              "#fdca26"
             ],
             [
              1,
              "#f0f921"
             ]
            ],
            "type": "contour"
           }
          ],
          "contourcarpet": [
           {
            "colorbar": {
             "outlinewidth": 0,
             "ticks": ""
            },
            "type": "contourcarpet"
           }
          ],
          "heatmap": [
           {
            "colorbar": {
             "outlinewidth": 0,
             "ticks": ""
            },
            "colorscale": [
             [
              0,
              "#0d0887"
             ],
             [
              0.1111111111111111,
              "#46039f"
             ],
             [
              0.2222222222222222,
              "#7201a8"
             ],
             [
              0.3333333333333333,
              "#9c179e"
             ],
             [
              0.4444444444444444,
              "#bd3786"
             ],
             [
              0.5555555555555556,
              "#d8576b"
             ],
             [
              0.6666666666666666,
              "#ed7953"
             ],
             [
              0.7777777777777778,
              "#fb9f3a"
             ],
             [
              0.8888888888888888,
              "#fdca26"
             ],
             [
              1,
              "#f0f921"
             ]
            ],
            "type": "heatmap"
           }
          ],
          "heatmapgl": [
           {
            "colorbar": {
             "outlinewidth": 0,
             "ticks": ""
            },
            "colorscale": [
             [
              0,
              "#0d0887"
             ],
             [
              0.1111111111111111,
              "#46039f"
             ],
             [
              0.2222222222222222,
              "#7201a8"
             ],
             [
              0.3333333333333333,
              "#9c179e"
             ],
             [
              0.4444444444444444,
              "#bd3786"
             ],
             [
              0.5555555555555556,
              "#d8576b"
             ],
             [
              0.6666666666666666,
              "#ed7953"
             ],
             [
              0.7777777777777778,
              "#fb9f3a"
             ],
             [
              0.8888888888888888,
              "#fdca26"
             ],
             [
              1,
              "#f0f921"
             ]
            ],
            "type": "heatmapgl"
           }
          ],
          "histogram": [
           {
            "marker": {
             "pattern": {
              "fillmode": "overlay",
              "size": 10,
              "solidity": 0.2
             }
            },
            "type": "histogram"
           }
          ],
          "histogram2d": [
           {
            "colorbar": {
             "outlinewidth": 0,
             "ticks": ""
            },
            "colorscale": [
             [
              0,
              "#0d0887"
             ],
             [
              0.1111111111111111,
              "#46039f"
             ],
             [
              0.2222222222222222,
              "#7201a8"
             ],
             [
              0.3333333333333333,
              "#9c179e"
             ],
             [
              0.4444444444444444,
              "#bd3786"
             ],
             [
              0.5555555555555556,
              "#d8576b"
             ],
             [
              0.6666666666666666,
              "#ed7953"
             ],
             [
              0.7777777777777778,
              "#fb9f3a"
             ],
             [
              0.8888888888888888,
              "#fdca26"
             ],
             [
              1,
              "#f0f921"
             ]
            ],
            "type": "histogram2d"
           }
          ],
          "histogram2dcontour": [
           {
            "colorbar": {
             "outlinewidth": 0,
             "ticks": ""
            },
            "colorscale": [
             [
              0,
              "#0d0887"
             ],
             [
              0.1111111111111111,
              "#46039f"
             ],
             [
              0.2222222222222222,
              "#7201a8"
             ],
             [
              0.3333333333333333,
              "#9c179e"
             ],
             [
              0.4444444444444444,
              "#bd3786"
             ],
             [
              0.5555555555555556,
              "#d8576b"
             ],
             [
              0.6666666666666666,
              "#ed7953"
             ],
             [
              0.7777777777777778,
              "#fb9f3a"
             ],
             [
              0.8888888888888888,
              "#fdca26"
             ],
             [
              1,
              "#f0f921"
             ]
            ],
            "type": "histogram2dcontour"
           }
          ],
          "mesh3d": [
           {
            "colorbar": {
             "outlinewidth": 0,
             "ticks": ""
            },
            "type": "mesh3d"
           }
          ],
          "parcoords": [
           {
            "line": {
             "colorbar": {
              "outlinewidth": 0,
              "ticks": ""
             }
            },
            "type": "parcoords"
           }
          ],
          "pie": [
           {
            "automargin": true,
            "type": "pie"
           }
          ],
          "scatter": [
           {
            "marker": {
             "colorbar": {
              "outlinewidth": 0,
              "ticks": ""
             }
            },
            "type": "scatter"
           }
          ],
          "scatter3d": [
           {
            "line": {
             "colorbar": {
              "outlinewidth": 0,
              "ticks": ""
             }
            },
            "marker": {
             "colorbar": {
              "outlinewidth": 0,
              "ticks": ""
             }
            },
            "type": "scatter3d"
           }
          ],
          "scattercarpet": [
           {
            "marker": {
             "colorbar": {
              "outlinewidth": 0,
              "ticks": ""
             }
            },
            "type": "scattercarpet"
           }
          ],
          "scattergeo": [
           {
            "marker": {
             "colorbar": {
              "outlinewidth": 0,
              "ticks": ""
             }
            },
            "type": "scattergeo"
           }
          ],
          "scattergl": [
           {
            "marker": {
             "colorbar": {
              "outlinewidth": 0,
              "ticks": ""
             }
            },
            "type": "scattergl"
           }
          ],
          "scattermapbox": [
           {
            "marker": {
             "colorbar": {
              "outlinewidth": 0,
              "ticks": ""
             }
            },
            "type": "scattermapbox"
           }
          ],
          "scatterpolar": [
           {
            "marker": {
             "colorbar": {
              "outlinewidth": 0,
              "ticks": ""
             }
            },
            "type": "scatterpolar"
           }
          ],
          "scatterpolargl": [
           {
            "marker": {
             "colorbar": {
              "outlinewidth": 0,
              "ticks": ""
             }
            },
            "type": "scatterpolargl"
           }
          ],
          "scatterternary": [
           {
            "marker": {
             "colorbar": {
              "outlinewidth": 0,
              "ticks": ""
             }
            },
            "type": "scatterternary"
           }
          ],
          "surface": [
           {
            "colorbar": {
             "outlinewidth": 0,
             "ticks": ""
            },
            "colorscale": [
             [
              0,
              "#0d0887"
             ],
             [
              0.1111111111111111,
              "#46039f"
             ],
             [
              0.2222222222222222,
              "#7201a8"
             ],
             [
              0.3333333333333333,
              "#9c179e"
             ],
             [
              0.4444444444444444,
              "#bd3786"
             ],
             [
              0.5555555555555556,
              "#d8576b"
             ],
             [
              0.6666666666666666,
              "#ed7953"
             ],
             [
              0.7777777777777778,
              "#fb9f3a"
             ],
             [
              0.8888888888888888,
              "#fdca26"
             ],
             [
              1,
              "#f0f921"
             ]
            ],
            "type": "surface"
           }
          ],
          "table": [
           {
            "cells": {
             "fill": {
              "color": "#EBF0F8"
             },
             "line": {
              "color": "white"
             }
            },
            "header": {
             "fill": {
              "color": "#C8D4E3"
             },
             "line": {
              "color": "white"
             }
            },
            "type": "table"
           }
          ]
         },
         "layout": {
          "annotationdefaults": {
           "arrowcolor": "#2a3f5f",
           "arrowhead": 0,
           "arrowwidth": 1
          },
          "autotypenumbers": "strict",
          "coloraxis": {
           "colorbar": {
            "outlinewidth": 0,
            "ticks": ""
           }
          },
          "colorscale": {
           "diverging": [
            [
             0,
             "#8e0152"
            ],
            [
             0.1,
             "#c51b7d"
            ],
            [
             0.2,
             "#de77ae"
            ],
            [
             0.3,
             "#f1b6da"
            ],
            [
             0.4,
             "#fde0ef"
            ],
            [
             0.5,
             "#f7f7f7"
            ],
            [
             0.6,
             "#e6f5d0"
            ],
            [
             0.7,
             "#b8e186"
            ],
            [
             0.8,
             "#7fbc41"
            ],
            [
             0.9,
             "#4d9221"
            ],
            [
             1,
             "#276419"
            ]
           ],
           "sequential": [
            [
             0,
             "#0d0887"
            ],
            [
             0.1111111111111111,
             "#46039f"
            ],
            [
             0.2222222222222222,
             "#7201a8"
            ],
            [
             0.3333333333333333,
             "#9c179e"
            ],
            [
             0.4444444444444444,
             "#bd3786"
            ],
            [
             0.5555555555555556,
             "#d8576b"
            ],
            [
             0.6666666666666666,
             "#ed7953"
            ],
            [
             0.7777777777777778,
             "#fb9f3a"
            ],
            [
             0.8888888888888888,
             "#fdca26"
            ],
            [
             1,
             "#f0f921"
            ]
           ],
           "sequentialminus": [
            [
             0,
             "#0d0887"
            ],
            [
             0.1111111111111111,
             "#46039f"
            ],
            [
             0.2222222222222222,
             "#7201a8"
            ],
            [
             0.3333333333333333,
             "#9c179e"
            ],
            [
             0.4444444444444444,
             "#bd3786"
            ],
            [
             0.5555555555555556,
             "#d8576b"
            ],
            [
             0.6666666666666666,
             "#ed7953"
            ],
            [
             0.7777777777777778,
             "#fb9f3a"
            ],
            [
             0.8888888888888888,
             "#fdca26"
            ],
            [
             1,
             "#f0f921"
            ]
           ]
          },
          "colorway": [
           "#636efa",
           "#EF553B",
           "#00cc96",
           "#ab63fa",
           "#FFA15A",
           "#19d3f3",
           "#FF6692",
           "#B6E880",
           "#FF97FF",
           "#FECB52"
          ],
          "font": {
           "color": "#2a3f5f"
          },
          "geo": {
           "bgcolor": "white",
           "lakecolor": "white",
           "landcolor": "#E5ECF6",
           "showlakes": true,
           "showland": true,
           "subunitcolor": "white"
          },
          "hoverlabel": {
           "align": "left"
          },
          "hovermode": "closest",
          "mapbox": {
           "style": "light"
          },
          "paper_bgcolor": "white",
          "plot_bgcolor": "#E5ECF6",
          "polar": {
           "angularaxis": {
            "gridcolor": "white",
            "linecolor": "white",
            "ticks": ""
           },
           "bgcolor": "#E5ECF6",
           "radialaxis": {
            "gridcolor": "white",
            "linecolor": "white",
            "ticks": ""
           }
          },
          "scene": {
           "xaxis": {
            "backgroundcolor": "#E5ECF6",
            "gridcolor": "white",
            "gridwidth": 2,
            "linecolor": "white",
            "showbackground": true,
            "ticks": "",
            "zerolinecolor": "white"
           },
           "yaxis": {
            "backgroundcolor": "#E5ECF6",
            "gridcolor": "white",
            "gridwidth": 2,
            "linecolor": "white",
            "showbackground": true,
            "ticks": "",
            "zerolinecolor": "white"
           },
           "zaxis": {
            "backgroundcolor": "#E5ECF6",
            "gridcolor": "white",
            "gridwidth": 2,
            "linecolor": "white",
            "showbackground": true,
            "ticks": "",
            "zerolinecolor": "white"
           }
          },
          "shapedefaults": {
           "line": {
            "color": "#2a3f5f"
           }
          },
          "ternary": {
           "aaxis": {
            "gridcolor": "white",
            "linecolor": "white",
            "ticks": ""
           },
           "baxis": {
            "gridcolor": "white",
            "linecolor": "white",
            "ticks": ""
           },
           "bgcolor": "#E5ECF6",
           "caxis": {
            "gridcolor": "white",
            "linecolor": "white",
            "ticks": ""
           }
          },
          "title": {
           "x": 0.05
          },
          "xaxis": {
           "automargin": true,
           "gridcolor": "white",
           "linecolor": "white",
           "ticks": "",
           "title": {
            "standoff": 15
           },
           "zerolinecolor": "white",
           "zerolinewidth": 2
          },
          "yaxis": {
           "automargin": true,
           "gridcolor": "white",
           "linecolor": "white",
           "ticks": "",
           "title": {
            "standoff": 15
           },
           "zerolinecolor": "white",
           "zerolinewidth": 2
          }
         }
        },
        "title": {
         "font": {
          "color": "#4D5663"
         }
        },
        "xaxis": {
         "anchor": "y",
         "domain": [
          0,
          0.2125
         ],
         "gridcolor": "#E1E5ED",
         "showgrid": false,
         "tickfont": {
          "color": "#4D5663"
         },
         "title": {
          "font": {
           "color": "#4D5663"
          },
          "text": ""
         },
         "zerolinecolor": "#E1E5ED"
        },
        "xaxis10": {
         "anchor": "y10",
         "domain": [
          0.2625,
          0.475
         ],
         "gridcolor": "#E1E5ED",
         "showgrid": false,
         "tickfont": {
          "color": "#4D5663"
         },
         "title": {
          "font": {
           "color": "#4D5663"
          },
          "text": ""
         },
         "zerolinecolor": "#E1E5ED"
        },
        "xaxis11": {
         "anchor": "y11",
         "domain": [
          0.525,
          0.7375
         ],
         "gridcolor": "#E1E5ED",
         "showgrid": false,
         "tickfont": {
          "color": "#4D5663"
         },
         "title": {
          "font": {
           "color": "#4D5663"
          },
          "text": ""
         },
         "zerolinecolor": "#E1E5ED"
        },
        "xaxis12": {
         "anchor": "y12",
         "domain": [
          0.7875,
          1
         ],
         "gridcolor": "#E1E5ED",
         "showgrid": false,
         "tickfont": {
          "color": "#4D5663"
         },
         "title": {
          "font": {
           "color": "#4D5663"
          },
          "text": ""
         },
         "zerolinecolor": "#E1E5ED"
        },
        "xaxis13": {
         "anchor": "y13",
         "domain": [
          0,
          0.2125
         ],
         "gridcolor": "#E1E5ED",
         "showgrid": false,
         "tickfont": {
          "color": "#4D5663"
         },
         "title": {
          "font": {
           "color": "#4D5663"
          },
          "text": ""
         },
         "zerolinecolor": "#E1E5ED"
        },
        "xaxis14": {
         "anchor": "y14",
         "domain": [
          0.2625,
          0.475
         ],
         "gridcolor": "#E1E5ED",
         "showgrid": false,
         "tickfont": {
          "color": "#4D5663"
         },
         "title": {
          "font": {
           "color": "#4D5663"
          },
          "text": ""
         },
         "zerolinecolor": "#E1E5ED"
        },
        "xaxis15": {
         "anchor": "y15",
         "domain": [
          0.525,
          0.7375
         ],
         "gridcolor": "#E1E5ED",
         "showgrid": false,
         "tickfont": {
          "color": "#4D5663"
         },
         "title": {
          "font": {
           "color": "#4D5663"
          },
          "text": ""
         },
         "zerolinecolor": "#E1E5ED"
        },
        "xaxis16": {
         "anchor": "y16",
         "domain": [
          0.7875,
          1
         ],
         "gridcolor": "#E1E5ED",
         "showgrid": false,
         "tickfont": {
          "color": "#4D5663"
         },
         "title": {
          "font": {
           "color": "#4D5663"
          },
          "text": ""
         },
         "zerolinecolor": "#E1E5ED"
        },
        "xaxis2": {
         "anchor": "y2",
         "domain": [
          0.2625,
          0.475
         ],
         "gridcolor": "#E1E5ED",
         "showgrid": false,
         "tickfont": {
          "color": "#4D5663"
         },
         "title": {
          "font": {
           "color": "#4D5663"
          },
          "text": ""
         },
         "zerolinecolor": "#E1E5ED"
        },
        "xaxis3": {
         "anchor": "y3",
         "domain": [
          0.525,
          0.7375
         ],
         "gridcolor": "#E1E5ED",
         "showgrid": false,
         "tickfont": {
          "color": "#4D5663"
         },
         "title": {
          "font": {
           "color": "#4D5663"
          },
          "text": ""
         },
         "zerolinecolor": "#E1E5ED"
        },
        "xaxis4": {
         "anchor": "y4",
         "domain": [
          0.7875,
          1
         ],
         "gridcolor": "#E1E5ED",
         "showgrid": false,
         "tickfont": {
          "color": "#4D5663"
         },
         "title": {
          "font": {
           "color": "#4D5663"
          },
          "text": ""
         },
         "zerolinecolor": "#E1E5ED"
        },
        "xaxis5": {
         "anchor": "y5",
         "domain": [
          0,
          0.2125
         ],
         "gridcolor": "#E1E5ED",
         "showgrid": false,
         "tickfont": {
          "color": "#4D5663"
         },
         "title": {
          "font": {
           "color": "#4D5663"
          },
          "text": ""
         },
         "zerolinecolor": "#E1E5ED"
        },
        "xaxis6": {
         "anchor": "y6",
         "domain": [
          0.2625,
          0.475
         ],
         "gridcolor": "#E1E5ED",
         "showgrid": false,
         "tickfont": {
          "color": "#4D5663"
         },
         "title": {
          "font": {
           "color": "#4D5663"
          },
          "text": ""
         },
         "zerolinecolor": "#E1E5ED"
        },
        "xaxis7": {
         "anchor": "y7",
         "domain": [
          0.525,
          0.7375
         ],
         "gridcolor": "#E1E5ED",
         "showgrid": false,
         "tickfont": {
          "color": "#4D5663"
         },
         "title": {
          "font": {
           "color": "#4D5663"
          },
          "text": ""
         },
         "zerolinecolor": "#E1E5ED"
        },
        "xaxis8": {
         "anchor": "y8",
         "domain": [
          0.7875,
          1
         ],
         "gridcolor": "#E1E5ED",
         "showgrid": false,
         "tickfont": {
          "color": "#4D5663"
         },
         "title": {
          "font": {
           "color": "#4D5663"
          },
          "text": ""
         },
         "zerolinecolor": "#E1E5ED"
        },
        "xaxis9": {
         "anchor": "y9",
         "domain": [
          0,
          0.2125
         ],
         "gridcolor": "#E1E5ED",
         "showgrid": false,
         "tickfont": {
          "color": "#4D5663"
         },
         "title": {
          "font": {
           "color": "#4D5663"
          },
          "text": ""
         },
         "zerolinecolor": "#E1E5ED"
        },
        "yaxis": {
         "anchor": "x",
         "domain": [
          0.8025,
          1
         ],
         "gridcolor": "#E1E5ED",
         "showgrid": false,
         "tickfont": {
          "color": "#4D5663"
         },
         "title": {
          "font": {
           "color": "#4D5663"
          },
          "text": ""
         },
         "zerolinecolor": "#E1E5ED"
        },
        "yaxis10": {
         "anchor": "x10",
         "domain": [
          0.2675,
          0.465
         ],
         "gridcolor": "#E1E5ED",
         "showgrid": false,
         "tickfont": {
          "color": "#4D5663"
         },
         "title": {
          "font": {
           "color": "#4D5663"
          },
          "text": ""
         },
         "zerolinecolor": "#E1E5ED"
        },
        "yaxis11": {
         "anchor": "x11",
         "domain": [
          0.2675,
          0.465
         ],
         "gridcolor": "#E1E5ED",
         "showgrid": false,
         "tickfont": {
          "color": "#4D5663"
         },
         "title": {
          "font": {
           "color": "#4D5663"
          },
          "text": ""
         },
         "zerolinecolor": "#E1E5ED"
        },
        "yaxis12": {
         "anchor": "x12",
         "domain": [
          0.2675,
          0.465
         ],
         "gridcolor": "#E1E5ED",
         "showgrid": false,
         "tickfont": {
          "color": "#4D5663"
         },
         "title": {
          "font": {
           "color": "#4D5663"
          },
          "text": ""
         },
         "zerolinecolor": "#E1E5ED"
        },
        "yaxis13": {
         "anchor": "x13",
         "domain": [
          0,
          0.1975
         ],
         "gridcolor": "#E1E5ED",
         "showgrid": false,
         "tickfont": {
          "color": "#4D5663"
         },
         "title": {
          "font": {
           "color": "#4D5663"
          },
          "text": ""
         },
         "zerolinecolor": "#E1E5ED"
        },
        "yaxis14": {
         "anchor": "x14",
         "domain": [
          0,
          0.1975
         ],
         "gridcolor": "#E1E5ED",
         "showgrid": false,
         "tickfont": {
          "color": "#4D5663"
         },
         "title": {
          "font": {
           "color": "#4D5663"
          },
          "text": ""
         },
         "zerolinecolor": "#E1E5ED"
        },
        "yaxis15": {
         "anchor": "x15",
         "domain": [
          0,
          0.1975
         ],
         "gridcolor": "#E1E5ED",
         "showgrid": false,
         "tickfont": {
          "color": "#4D5663"
         },
         "title": {
          "font": {
           "color": "#4D5663"
          },
          "text": ""
         },
         "zerolinecolor": "#E1E5ED"
        },
        "yaxis16": {
         "anchor": "x16",
         "domain": [
          0,
          0.1975
         ],
         "gridcolor": "#E1E5ED",
         "showgrid": false,
         "tickfont": {
          "color": "#4D5663"
         },
         "title": {
          "font": {
           "color": "#4D5663"
          },
          "text": ""
         },
         "zerolinecolor": "#E1E5ED"
        },
        "yaxis2": {
         "anchor": "x2",
         "domain": [
          0.8025,
          1
         ],
         "gridcolor": "#E1E5ED",
         "showgrid": false,
         "tickfont": {
          "color": "#4D5663"
         },
         "title": {
          "font": {
           "color": "#4D5663"
          },
          "text": ""
         },
         "zerolinecolor": "#E1E5ED"
        },
        "yaxis3": {
         "anchor": "x3",
         "domain": [
          0.8025,
          1
         ],
         "gridcolor": "#E1E5ED",
         "showgrid": false,
         "tickfont": {
          "color": "#4D5663"
         },
         "title": {
          "font": {
           "color": "#4D5663"
          },
          "text": ""
         },
         "zerolinecolor": "#E1E5ED"
        },
        "yaxis4": {
         "anchor": "x4",
         "domain": [
          0.8025,
          1
         ],
         "gridcolor": "#E1E5ED",
         "showgrid": false,
         "tickfont": {
          "color": "#4D5663"
         },
         "title": {
          "font": {
           "color": "#4D5663"
          },
          "text": ""
         },
         "zerolinecolor": "#E1E5ED"
        },
        "yaxis5": {
         "anchor": "x5",
         "domain": [
          0.535,
          0.7325
         ],
         "gridcolor": "#E1E5ED",
         "showgrid": false,
         "tickfont": {
          "color": "#4D5663"
         },
         "title": {
          "font": {
           "color": "#4D5663"
          },
          "text": ""
         },
         "zerolinecolor": "#E1E5ED"
        },
        "yaxis6": {
         "anchor": "x6",
         "domain": [
          0.535,
          0.7325
         ],
         "gridcolor": "#E1E5ED",
         "showgrid": false,
         "tickfont": {
          "color": "#4D5663"
         },
         "title": {
          "font": {
           "color": "#4D5663"
          },
          "text": ""
         },
         "zerolinecolor": "#E1E5ED"
        },
        "yaxis7": {
         "anchor": "x7",
         "domain": [
          0.535,
          0.7325
         ],
         "gridcolor": "#E1E5ED",
         "showgrid": false,
         "tickfont": {
          "color": "#4D5663"
         },
         "title": {
          "font": {
           "color": "#4D5663"
          },
          "text": ""
         },
         "zerolinecolor": "#E1E5ED"
        },
        "yaxis8": {
         "anchor": "x8",
         "domain": [
          0.535,
          0.7325
         ],
         "gridcolor": "#E1E5ED",
         "showgrid": false,
         "tickfont": {
          "color": "#4D5663"
         },
         "title": {
          "font": {
           "color": "#4D5663"
          },
          "text": ""
         },
         "zerolinecolor": "#E1E5ED"
        },
        "yaxis9": {
         "anchor": "x9",
         "domain": [
          0.2675,
          0.465
         ],
         "gridcolor": "#E1E5ED",
         "showgrid": false,
         "tickfont": {
          "color": "#4D5663"
         },
         "title": {
          "font": {
           "color": "#4D5663"
          },
          "text": ""
         },
         "zerolinecolor": "#E1E5ED"
        }
       }
      },
      "text/html": [
       "<div>                            <div id=\"e78dc9d8-6d1c-4867-bbfe-55b206317339\" class=\"plotly-graph-div\" style=\"height:525px; width:100%;\"></div>            <script type=\"text/javascript\">                require([\"plotly\"], function(Plotly) {                    window.PLOTLYENV=window.PLOTLYENV || {};\n",
       "                    window.PLOTLYENV.BASE_URL='https://plot.ly';                                    if (document.getElementById(\"e78dc9d8-6d1c-4867-bbfe-55b206317339\")) {                    Plotly.newPlot(                        \"e78dc9d8-6d1c-4867-bbfe-55b206317339\",                        [{\"histfunc\":\"count\",\"histnorm\":\"\",\"marker\":{\"color\":\"rgba(255, 153, 51, 1.0)\",\"line\":{\"color\":\"#4D5663\",\"width\":1.3}},\"name\":\"A\",\"nbinsx\":10,\"opacity\":0.8,\"orientation\":\"v\",\"x\":[-0.3828792050443604,-0.8470899644257714,0.010194864370989333,0.7301852076151661,2.0209176306324363,-1.5003016962844402,1.3118946476906856,-0.19669756499513247,-0.9076690966885811,-0.3237404643459652,0.637713854283272,-0.03454556326127818,0.7796925569817367,-1.4423716042022108,-2.5845985787359163,0.6619539111661311,-0.687009387052393,-0.07904947689258264,0.05497583547432276,-0.1251154272973603,1.4799840842985588,0.4823254913863216,-2.280333653758334,-0.7687965123125058,-1.9305826565370234,1.2028531218309138,0.11759314103585028,0.8219103216225514,-1.0600425527288615,-0.7924098829680032,0.591057506448477,0.010539468688751144,0.587916797008021,0.5345565463711455,0.23953843637909966,-1.3486453781610805,1.4539031141605863,-0.7434505578041772,-0.06974790232731734,-1.3438280814154056,0.15028835356929468,-0.10287723292446797,0.5337958367766493,-1.7910145450870145,-0.3528093066466839,0.28483534146724776,-0.2376793634250966,-1.1439375104416412,-1.6773681066280623,1.8838782542672348,1.0028758404607157,1.019052841097029,0.30651768295595916,0.4025551526198797,-0.8905919688553369,-1.382874757587919,-0.6816436627196745,0.03878334506085071,-1.3612397104403606,0.3197604660731154,-2.538319364008003,-1.2091878447993685,-0.5249346013368914,0.6692146290182188,-0.11840123236465151,0.8525194553867952,-0.6035975956715631,0.4283480479109968,0.9101749092891146,-0.8864024726325933,0.7775503744458712,-0.3116906590586294,-0.0789741170722278,-0.46571660288813044,-0.7366408087817952,-0.34057771638209616,1.4270333479578556,-0.0685312876711088,-2.590989928710988,0.54533421224908,-0.9316184663461683,-0.3357877632399068,-1.1004430354999835,-1.5112832772747995,0.9233033997807208,0.9248042476413013,0.23712657682615962,-1.7926116956644673,0.8262882219580409,0.41308190167379377,0.20507635069705696,1.1372928682815537,0.19672852705318208,1.032022543036123,-0.8498915495743655,-0.38007228545542127,-1.9829304093355187,0.05455520904456543,0.45889417897813106,-0.14456383999886627],\"xaxis\":\"x\",\"yaxis\":\"y\",\"type\":\"histogram\"},{\"line\":{\"color\":\"rgba(128, 128, 128, 1.0)\",\"dash\":\"solid\",\"shape\":\"linear\",\"width\":1.3},\"marker\":{\"size\":2,\"symbol\":\"circle\"},\"mode\":\"markers\",\"name\":\"A\",\"text\":\"\",\"x\":[0.34335976624785236,-0.5400241296111232,0.39625879311483636,-1.712841088113455,-0.07509142065935204,-0.73806711582396,0.3883007262086318,-0.5719092755359968,-0.4088347497306631,0.2421573678163824,-0.6529781799711727,0.38854787692263476,0.06453030726300012,-0.6988816243862073,1.3129702162264079,1.1771113015017993,-0.9700610592238458,1.1808244820001328,-1.478327479994,-0.46108336232059793,0.24491015346100684,-0.7318916215779915,-1.7148688047324678,0.5518859965500226,-0.9191779247410646,1.1985025549693435,2.5581128801469877,-0.7762150887891556,-1.549934782178811,0.05201663776978928,1.5232217714596588,-0.44708035980241534,-0.9086628778502828,-0.27525104215952567,-0.3577790202540434,0.4811753508335344,-0.5887451051233683,-1.294270125275922,0.8523861547501889,0.7381047196318503,1.0644322360476512,1.5967001236435843,0.82247172376917,-1.645808080381747,0.6857054299863742,-0.9009862391622963,-1.257234685603805,0.563120200391336,-0.9621725292323109,-0.5933983360655105,0.1284819007413659,-0.4240882124272642,1.1118812763090071,-1.9227848733315895,-0.419556595005051,1.5272854460120502,0.9102671180274021,0.6786808331841732,-0.42366626781453104,-1.1247464588926015,0.5004369031549727,-1.422643181814059,-0.06352335456872109,-0.6140831914140193,0.5603086977341717,1.474751693797127,1.6512484343980032,-1.0210150242509708,-0.7432289383819919,1.3875297294630236,-0.6514939869833749,1.4721881339131935,1.518432510112827,0.03638510312744503,0.7270871221481457,1.0793079148027827,0.4072592314941338,0.5823303662801511,0.2779238844720935,1.3057489297021347,0.07351712777696348,-0.8794259892692825,0.29982770281056553,-0.3416568949263266,3.458170678509682,0.058799135304265615,-0.3884328992504171,0.545514744824541,0.24141281219690586,-1.212419426084278,1.441259323038795,0.8503394918604567,-0.8204208120323783,0.21563670697344076,2.8069650295546076,1.5238759774181017,-0.6621926922073339,-1.060870331126299,-1.2805044081418444,-1.2349226572849306],\"xaxis\":\"x2\",\"y\":[-0.3828792050443604,-0.8470899644257714,0.010194864370989333,0.7301852076151661,2.0209176306324363,-1.5003016962844402,1.3118946476906856,-0.19669756499513247,-0.9076690966885811,-0.3237404643459652,0.637713854283272,-0.03454556326127818,0.7796925569817367,-1.4423716042022108,-2.5845985787359163,0.6619539111661311,-0.687009387052393,-0.07904947689258264,0.05497583547432276,-0.1251154272973603,1.4799840842985588,0.4823254913863216,-2.280333653758334,-0.7687965123125058,-1.9305826565370234,1.2028531218309138,0.11759314103585028,0.8219103216225514,-1.0600425527288615,-0.7924098829680032,0.591057506448477,0.010539468688751144,0.587916797008021,0.5345565463711455,0.23953843637909966,-1.3486453781610805,1.4539031141605863,-0.7434505578041772,-0.06974790232731734,-1.3438280814154056,0.15028835356929468,-0.10287723292446797,0.5337958367766493,-1.7910145450870145,-0.3528093066466839,0.28483534146724776,-0.2376793634250966,-1.1439375104416412,-1.6773681066280623,1.8838782542672348,1.0028758404607157,1.019052841097029,0.30651768295595916,0.4025551526198797,-0.8905919688553369,-1.382874757587919,-0.6816436627196745,0.03878334506085071,-1.3612397104403606,0.3197604660731154,-2.538319364008003,-1.2091878447993685,-0.5249346013368914,0.6692146290182188,-0.11840123236465151,0.8525194553867952,-0.6035975956715631,0.4283480479109968,0.9101749092891146,-0.8864024726325933,0.7775503744458712,-0.3116906590586294,-0.0789741170722278,-0.46571660288813044,-0.7366408087817952,-0.34057771638209616,1.4270333479578556,-0.0685312876711088,-2.590989928710988,0.54533421224908,-0.9316184663461683,-0.3357877632399068,-1.1004430354999835,-1.5112832772747995,0.9233033997807208,0.9248042476413013,0.23712657682615962,-1.7926116956644673,0.8262882219580409,0.41308190167379377,0.20507635069705696,1.1372928682815537,0.19672852705318208,1.032022543036123,-0.8498915495743655,-0.38007228545542127,-1.9829304093355187,0.05455520904456543,0.45889417897813106,-0.14456383999886627],\"yaxis\":\"y2\",\"type\":\"scatter\"},{\"line\":{\"color\":\"rgba(128, 128, 128, 1.0)\",\"dash\":\"solid\",\"shape\":\"linear\",\"width\":1.3},\"marker\":{\"size\":2,\"symbol\":\"circle\"},\"mode\":\"markers\",\"name\":\"A\",\"text\":\"\",\"x\":[0.2506092085793093,0.5210325936403227,1.239213358464694,-0.4466878782346689,-0.3822390633795185,-0.004193168373743429,0.31083507175692804,0.47014493079577385,-1.1556536917409108,-0.6757610308021511,-1.143836028015197,-0.8668866986037089,-3.1988150838934066,-0.7431034080655172,-0.40686358736988215,0.38817300614880124,-0.7249621219996307,1.1003757846228477,-0.3827825798596824,-1.9502233337660755,0.3165057808413265,0.6627391571225795,-0.3263229824933346,0.8285627583424173,0.9685477248448462,-2.9680823913015058,-1.4376379312345362,-1.7063194353908377,-0.27670004716137775,-0.5163377183768089,1.2437956186192953,0.35229549406432276,0.33258042113939507,-1.6057560516905556,0.44173661633579253,0.8191267704488735,0.05218990664378416,-0.18335279289604633,1.5162023789172292,-0.8833178708702997,1.3261569152294563,-0.11635473156903449,0.420635864279957,-0.9470924738177742,-0.43618797334177206,-0.42661623137309473,1.5416103231728577,-1.5596148002231116,0.01757030082496477,0.10140069671869259,1.5045891294248528,0.6902338347722542,1.4937463151241444,0.9002910845015439,0.5743890881715865,0.7562389480227537,-0.2001853168757039,-0.7157111539797419,-0.38765952959938493,-0.8572467787815908,0.2908470341192966,-0.9142824119313538,-0.3968746158328103,1.8688718784021316,-0.05217732449967453,1.4354670816758779,-1.0625152709489207,-0.5106587853056833,0.772057631583369,1.8018327650399475,-0.7958019648209217,2.006600168904022,-0.13292889152021703,0.32943355662723445,0.4108609828394416,2.0215940500491767,1.2016286063300015,1.3157545372633783,2.1135059883489045,2.19008158661078,-0.8143129683811934,0.23797298364722996,-1.6230732883970846,0.3084496100404266,0.4066710547761042,-0.4301381816226118,-1.491282679742187,-0.7552313272641786,-0.02249282109852578,0.020985550927711878,1.376036037255204,0.11425721932139542,-1.7920792205457143,-0.3136617620588843,0.9080291145166957,0.9552507049194106,-1.2999897780275405,-0.4293727950637242,0.21110400572437438,-0.23669025245583175],\"xaxis\":\"x3\",\"y\":[-0.3828792050443604,-0.8470899644257714,0.010194864370989333,0.7301852076151661,2.0209176306324363,-1.5003016962844402,1.3118946476906856,-0.19669756499513247,-0.9076690966885811,-0.3237404643459652,0.637713854283272,-0.03454556326127818,0.7796925569817367,-1.4423716042022108,-2.5845985787359163,0.6619539111661311,-0.687009387052393,-0.07904947689258264,0.05497583547432276,-0.1251154272973603,1.4799840842985588,0.4823254913863216,-2.280333653758334,-0.7687965123125058,-1.9305826565370234,1.2028531218309138,0.11759314103585028,0.8219103216225514,-1.0600425527288615,-0.7924098829680032,0.591057506448477,0.010539468688751144,0.587916797008021,0.5345565463711455,0.23953843637909966,-1.3486453781610805,1.4539031141605863,-0.7434505578041772,-0.06974790232731734,-1.3438280814154056,0.15028835356929468,-0.10287723292446797,0.5337958367766493,-1.7910145450870145,-0.3528093066466839,0.28483534146724776,-0.2376793634250966,-1.1439375104416412,-1.6773681066280623,1.8838782542672348,1.0028758404607157,1.019052841097029,0.30651768295595916,0.4025551526198797,-0.8905919688553369,-1.382874757587919,-0.6816436627196745,0.03878334506085071,-1.3612397104403606,0.3197604660731154,-2.538319364008003,-1.2091878447993685,-0.5249346013368914,0.6692146290182188,-0.11840123236465151,0.8525194553867952,-0.6035975956715631,0.4283480479109968,0.9101749092891146,-0.8864024726325933,0.7775503744458712,-0.3116906590586294,-0.0789741170722278,-0.46571660288813044,-0.7366408087817952,-0.34057771638209616,1.4270333479578556,-0.0685312876711088,-2.590989928710988,0.54533421224908,-0.9316184663461683,-0.3357877632399068,-1.1004430354999835,-1.5112832772747995,0.9233033997807208,0.9248042476413013,0.23712657682615962,-1.7926116956644673,0.8262882219580409,0.41308190167379377,0.20507635069705696,1.1372928682815537,0.19672852705318208,1.032022543036123,-0.8498915495743655,-0.38007228545542127,-1.9829304093355187,0.05455520904456543,0.45889417897813106,-0.14456383999886627],\"yaxis\":\"y3\",\"type\":\"scatter\"},{\"line\":{\"color\":\"rgba(128, 128, 128, 1.0)\",\"dash\":\"solid\",\"shape\":\"linear\",\"width\":1.3},\"marker\":{\"size\":2,\"symbol\":\"circle\"},\"mode\":\"markers\",\"name\":\"A\",\"text\":\"\",\"x\":[0.592132628370577,-1.1427568771274301,-0.6340122630191883,-0.7162128894182691,0.09739810390787935,0.09159611881467758,-0.9668463002828019,-0.6208334020410122,0.12874503109489555,-0.3596561372712881,0.39013837317684175,0.9707203746231453,-1.849471788872194,-1.670949123446992,1.3990752041954768,-0.433939139689318,-0.44752017505281094,-2.134491404043168,-0.8356207928281586,1.2669953059648416,-0.26364190278517186,-0.03972649984227558,0.4107706478872919,0.8034938604696944,0.1797430430969131,-0.6029878381334249,0.5453303115260123,-0.22849871488659848,0.19840671579042543,-0.20075469668443507,-0.23837820844984284,0.7077555147181938,0.10728535871855505,-0.5961065955304026,0.6295775324655841,-2.1430311045813575,0.6461484336873898,0.1217479112963839,1.6345095310518332,-0.9607835683541878,-1.0677335273474948,1.2161328243610878,-0.06674068289256456,0.8395283207223901,-1.0741861262618164,-0.34730099283237337,0.5659354167689368,0.9123036110964656,-0.4871189389482929,1.5582944789663065,-2.104414717884187,-1.9082807636805286,0.20519240993648347,0.5830341861711636,0.06267896143655838,-2.202683825879842,-1.0614936236398618,-1.013092636573165,-0.7470592116179434,-1.0199280229765049,0.9875061756283474,-2.1080306341987796,0.8070667330078221,0.9094431465761287,-1.7629120134717562,-0.15994707522962706,0.41276947219161814,0.8381114480287192,-1.3365096723779204,-1.6329883056871755,0.10627979251486216,0.02004657791238379,-1.3229626726102046,1.2801780728052166,0.8345055826164722,0.9721200944205621,0.37734462188478013,-0.3223044195608128,0.7967565028396203,-0.6224089678483244,0.5828942342989621,0.03016169618375698,-1.696574544826665,0.09590877733994138,-0.5127741879834149,0.4383379018298321,1.0826621642886225,1.0592007327193345,-0.5232893508862395,1.2627601225631901,0.6589175272897498,1.022280331965757,-1.8153529724872977,-1.0861166191335576,0.017399232226795285,-1.9794890106589242,-0.2894486848694927,0.4794857286596619,0.13405219599547738,-0.9641648355507442],\"xaxis\":\"x4\",\"y\":[-0.3828792050443604,-0.8470899644257714,0.010194864370989333,0.7301852076151661,2.0209176306324363,-1.5003016962844402,1.3118946476906856,-0.19669756499513247,-0.9076690966885811,-0.3237404643459652,0.637713854283272,-0.03454556326127818,0.7796925569817367,-1.4423716042022108,-2.5845985787359163,0.6619539111661311,-0.687009387052393,-0.07904947689258264,0.05497583547432276,-0.1251154272973603,1.4799840842985588,0.4823254913863216,-2.280333653758334,-0.7687965123125058,-1.9305826565370234,1.2028531218309138,0.11759314103585028,0.8219103216225514,-1.0600425527288615,-0.7924098829680032,0.591057506448477,0.010539468688751144,0.587916797008021,0.5345565463711455,0.23953843637909966,-1.3486453781610805,1.4539031141605863,-0.7434505578041772,-0.06974790232731734,-1.3438280814154056,0.15028835356929468,-0.10287723292446797,0.5337958367766493,-1.7910145450870145,-0.3528093066466839,0.28483534146724776,-0.2376793634250966,-1.1439375104416412,-1.6773681066280623,1.8838782542672348,1.0028758404607157,1.019052841097029,0.30651768295595916,0.4025551526198797,-0.8905919688553369,-1.382874757587919,-0.6816436627196745,0.03878334506085071,-1.3612397104403606,0.3197604660731154,-2.538319364008003,-1.2091878447993685,-0.5249346013368914,0.6692146290182188,-0.11840123236465151,0.8525194553867952,-0.6035975956715631,0.4283480479109968,0.9101749092891146,-0.8864024726325933,0.7775503744458712,-0.3116906590586294,-0.0789741170722278,-0.46571660288813044,-0.7366408087817952,-0.34057771638209616,1.4270333479578556,-0.0685312876711088,-2.590989928710988,0.54533421224908,-0.9316184663461683,-0.3357877632399068,-1.1004430354999835,-1.5112832772747995,0.9233033997807208,0.9248042476413013,0.23712657682615962,-1.7926116956644673,0.8262882219580409,0.41308190167379377,0.20507635069705696,1.1372928682815537,0.19672852705318208,1.032022543036123,-0.8498915495743655,-0.38007228545542127,-1.9829304093355187,0.05455520904456543,0.45889417897813106,-0.14456383999886627],\"yaxis\":\"y4\",\"type\":\"scatter\"},{\"line\":{\"color\":\"rgba(128, 128, 128, 1.0)\",\"dash\":\"solid\",\"shape\":\"linear\",\"width\":1.3},\"marker\":{\"size\":2,\"symbol\":\"circle\"},\"mode\":\"markers\",\"name\":\"B\",\"text\":\"\",\"x\":[-0.3828792050443604,-0.8470899644257714,0.010194864370989333,0.7301852076151661,2.0209176306324363,-1.5003016962844402,1.3118946476906856,-0.19669756499513247,-0.9076690966885811,-0.3237404643459652,0.637713854283272,-0.03454556326127818,0.7796925569817367,-1.4423716042022108,-2.5845985787359163,0.6619539111661311,-0.687009387052393,-0.07904947689258264,0.05497583547432276,-0.1251154272973603,1.4799840842985588,0.4823254913863216,-2.280333653758334,-0.7687965123125058,-1.9305826565370234,1.2028531218309138,0.11759314103585028,0.8219103216225514,-1.0600425527288615,-0.7924098829680032,0.591057506448477,0.010539468688751144,0.587916797008021,0.5345565463711455,0.23953843637909966,-1.3486453781610805,1.4539031141605863,-0.7434505578041772,-0.06974790232731734,-1.3438280814154056,0.15028835356929468,-0.10287723292446797,0.5337958367766493,-1.7910145450870145,-0.3528093066466839,0.28483534146724776,-0.2376793634250966,-1.1439375104416412,-1.6773681066280623,1.8838782542672348,1.0028758404607157,1.019052841097029,0.30651768295595916,0.4025551526198797,-0.8905919688553369,-1.382874757587919,-0.6816436627196745,0.03878334506085071,-1.3612397104403606,0.3197604660731154,-2.538319364008003,-1.2091878447993685,-0.5249346013368914,0.6692146290182188,-0.11840123236465151,0.8525194553867952,-0.6035975956715631,0.4283480479109968,0.9101749092891146,-0.8864024726325933,0.7775503744458712,-0.3116906590586294,-0.0789741170722278,-0.46571660288813044,-0.7366408087817952,-0.34057771638209616,1.4270333479578556,-0.0685312876711088,-2.590989928710988,0.54533421224908,-0.9316184663461683,-0.3357877632399068,-1.1004430354999835,-1.5112832772747995,0.9233033997807208,0.9248042476413013,0.23712657682615962,-1.7926116956644673,0.8262882219580409,0.41308190167379377,0.20507635069705696,1.1372928682815537,0.19672852705318208,1.032022543036123,-0.8498915495743655,-0.38007228545542127,-1.9829304093355187,0.05455520904456543,0.45889417897813106,-0.14456383999886627],\"xaxis\":\"x5\",\"y\":[0.34335976624785236,-0.5400241296111232,0.39625879311483636,-1.712841088113455,-0.07509142065935204,-0.73806711582396,0.3883007262086318,-0.5719092755359968,-0.4088347497306631,0.2421573678163824,-0.6529781799711727,0.38854787692263476,0.06453030726300012,-0.6988816243862073,1.3129702162264079,1.1771113015017993,-0.9700610592238458,1.1808244820001328,-1.478327479994,-0.46108336232059793,0.24491015346100684,-0.7318916215779915,-1.7148688047324678,0.5518859965500226,-0.9191779247410646,1.1985025549693435,2.5581128801469877,-0.7762150887891556,-1.549934782178811,0.05201663776978928,1.5232217714596588,-0.44708035980241534,-0.9086628778502828,-0.27525104215952567,-0.3577790202540434,0.4811753508335344,-0.5887451051233683,-1.294270125275922,0.8523861547501889,0.7381047196318503,1.0644322360476512,1.5967001236435843,0.82247172376917,-1.645808080381747,0.6857054299863742,-0.9009862391622963,-1.257234685603805,0.563120200391336,-0.9621725292323109,-0.5933983360655105,0.1284819007413659,-0.4240882124272642,1.1118812763090071,-1.9227848733315895,-0.419556595005051,1.5272854460120502,0.9102671180274021,0.6786808331841732,-0.42366626781453104,-1.1247464588926015,0.5004369031549727,-1.422643181814059,-0.06352335456872109,-0.6140831914140193,0.5603086977341717,1.474751693797127,1.6512484343980032,-1.0210150242509708,-0.7432289383819919,1.3875297294630236,-0.6514939869833749,1.4721881339131935,1.518432510112827,0.03638510312744503,0.7270871221481457,1.0793079148027827,0.4072592314941338,0.5823303662801511,0.2779238844720935,1.3057489297021347,0.07351712777696348,-0.8794259892692825,0.29982770281056553,-0.3416568949263266,3.458170678509682,0.058799135304265615,-0.3884328992504171,0.545514744824541,0.24141281219690586,-1.212419426084278,1.441259323038795,0.8503394918604567,-0.8204208120323783,0.21563670697344076,2.8069650295546076,1.5238759774181017,-0.6621926922073339,-1.060870331126299,-1.2805044081418444,-1.2349226572849306],\"yaxis\":\"y5\",\"type\":\"scatter\"},{\"histfunc\":\"count\",\"histnorm\":\"\",\"marker\":{\"color\":\"rgba(55, 128, 191, 1.0)\",\"line\":{\"color\":\"#4D5663\",\"width\":1.3}},\"name\":\"B\",\"nbinsx\":10,\"opacity\":0.8,\"orientation\":\"v\",\"x\":[0.34335976624785236,-0.5400241296111232,0.39625879311483636,-1.712841088113455,-0.07509142065935204,-0.73806711582396,0.3883007262086318,-0.5719092755359968,-0.4088347497306631,0.2421573678163824,-0.6529781799711727,0.38854787692263476,0.06453030726300012,-0.6988816243862073,1.3129702162264079,1.1771113015017993,-0.9700610592238458,1.1808244820001328,-1.478327479994,-0.46108336232059793,0.24491015346100684,-0.7318916215779915,-1.7148688047324678,0.5518859965500226,-0.9191779247410646,1.1985025549693435,2.5581128801469877,-0.7762150887891556,-1.549934782178811,0.05201663776978928,1.5232217714596588,-0.44708035980241534,-0.9086628778502828,-0.27525104215952567,-0.3577790202540434,0.4811753508335344,-0.5887451051233683,-1.294270125275922,0.8523861547501889,0.7381047196318503,1.0644322360476512,1.5967001236435843,0.82247172376917,-1.645808080381747,0.6857054299863742,-0.9009862391622963,-1.257234685603805,0.563120200391336,-0.9621725292323109,-0.5933983360655105,0.1284819007413659,-0.4240882124272642,1.1118812763090071,-1.9227848733315895,-0.419556595005051,1.5272854460120502,0.9102671180274021,0.6786808331841732,-0.42366626781453104,-1.1247464588926015,0.5004369031549727,-1.422643181814059,-0.06352335456872109,-0.6140831914140193,0.5603086977341717,1.474751693797127,1.6512484343980032,-1.0210150242509708,-0.7432289383819919,1.3875297294630236,-0.6514939869833749,1.4721881339131935,1.518432510112827,0.03638510312744503,0.7270871221481457,1.0793079148027827,0.4072592314941338,0.5823303662801511,0.2779238844720935,1.3057489297021347,0.07351712777696348,-0.8794259892692825,0.29982770281056553,-0.3416568949263266,3.458170678509682,0.058799135304265615,-0.3884328992504171,0.545514744824541,0.24141281219690586,-1.212419426084278,1.441259323038795,0.8503394918604567,-0.8204208120323783,0.21563670697344076,2.8069650295546076,1.5238759774181017,-0.6621926922073339,-1.060870331126299,-1.2805044081418444,-1.2349226572849306],\"xaxis\":\"x6\",\"yaxis\":\"y6\",\"type\":\"histogram\"},{\"line\":{\"color\":\"rgba(128, 128, 128, 1.0)\",\"dash\":\"solid\",\"shape\":\"linear\",\"width\":1.3},\"marker\":{\"size\":2,\"symbol\":\"circle\"},\"mode\":\"markers\",\"name\":\"B\",\"text\":\"\",\"x\":[0.2506092085793093,0.5210325936403227,1.239213358464694,-0.4466878782346689,-0.3822390633795185,-0.004193168373743429,0.31083507175692804,0.47014493079577385,-1.1556536917409108,-0.6757610308021511,-1.143836028015197,-0.8668866986037089,-3.1988150838934066,-0.7431034080655172,-0.40686358736988215,0.38817300614880124,-0.7249621219996307,1.1003757846228477,-0.3827825798596824,-1.9502233337660755,0.3165057808413265,0.6627391571225795,-0.3263229824933346,0.8285627583424173,0.9685477248448462,-2.9680823913015058,-1.4376379312345362,-1.7063194353908377,-0.27670004716137775,-0.5163377183768089,1.2437956186192953,0.35229549406432276,0.33258042113939507,-1.6057560516905556,0.44173661633579253,0.8191267704488735,0.05218990664378416,-0.18335279289604633,1.5162023789172292,-0.8833178708702997,1.3261569152294563,-0.11635473156903449,0.420635864279957,-0.9470924738177742,-0.43618797334177206,-0.42661623137309473,1.5416103231728577,-1.5596148002231116,0.01757030082496477,0.10140069671869259,1.5045891294248528,0.6902338347722542,1.4937463151241444,0.9002910845015439,0.5743890881715865,0.7562389480227537,-0.2001853168757039,-0.7157111539797419,-0.38765952959938493,-0.8572467787815908,0.2908470341192966,-0.9142824119313538,-0.3968746158328103,1.8688718784021316,-0.05217732449967453,1.4354670816758779,-1.0625152709489207,-0.5106587853056833,0.772057631583369,1.8018327650399475,-0.7958019648209217,2.006600168904022,-0.13292889152021703,0.32943355662723445,0.4108609828394416,2.0215940500491767,1.2016286063300015,1.3157545372633783,2.1135059883489045,2.19008158661078,-0.8143129683811934,0.23797298364722996,-1.6230732883970846,0.3084496100404266,0.4066710547761042,-0.4301381816226118,-1.491282679742187,-0.7552313272641786,-0.02249282109852578,0.020985550927711878,1.376036037255204,0.11425721932139542,-1.7920792205457143,-0.3136617620588843,0.9080291145166957,0.9552507049194106,-1.2999897780275405,-0.4293727950637242,0.21110400572437438,-0.23669025245583175],\"xaxis\":\"x7\",\"y\":[0.34335976624785236,-0.5400241296111232,0.39625879311483636,-1.712841088113455,-0.07509142065935204,-0.73806711582396,0.3883007262086318,-0.5719092755359968,-0.4088347497306631,0.2421573678163824,-0.6529781799711727,0.38854787692263476,0.06453030726300012,-0.6988816243862073,1.3129702162264079,1.1771113015017993,-0.9700610592238458,1.1808244820001328,-1.478327479994,-0.46108336232059793,0.24491015346100684,-0.7318916215779915,-1.7148688047324678,0.5518859965500226,-0.9191779247410646,1.1985025549693435,2.5581128801469877,-0.7762150887891556,-1.549934782178811,0.05201663776978928,1.5232217714596588,-0.44708035980241534,-0.9086628778502828,-0.27525104215952567,-0.3577790202540434,0.4811753508335344,-0.5887451051233683,-1.294270125275922,0.8523861547501889,0.7381047196318503,1.0644322360476512,1.5967001236435843,0.82247172376917,-1.645808080381747,0.6857054299863742,-0.9009862391622963,-1.257234685603805,0.563120200391336,-0.9621725292323109,-0.5933983360655105,0.1284819007413659,-0.4240882124272642,1.1118812763090071,-1.9227848733315895,-0.419556595005051,1.5272854460120502,0.9102671180274021,0.6786808331841732,-0.42366626781453104,-1.1247464588926015,0.5004369031549727,-1.422643181814059,-0.06352335456872109,-0.6140831914140193,0.5603086977341717,1.474751693797127,1.6512484343980032,-1.0210150242509708,-0.7432289383819919,1.3875297294630236,-0.6514939869833749,1.4721881339131935,1.518432510112827,0.03638510312744503,0.7270871221481457,1.0793079148027827,0.4072592314941338,0.5823303662801511,0.2779238844720935,1.3057489297021347,0.07351712777696348,-0.8794259892692825,0.29982770281056553,-0.3416568949263266,3.458170678509682,0.058799135304265615,-0.3884328992504171,0.545514744824541,0.24141281219690586,-1.212419426084278,1.441259323038795,0.8503394918604567,-0.8204208120323783,0.21563670697344076,2.8069650295546076,1.5238759774181017,-0.6621926922073339,-1.060870331126299,-1.2805044081418444,-1.2349226572849306],\"yaxis\":\"y7\",\"type\":\"scatter\"},{\"line\":{\"color\":\"rgba(128, 128, 128, 1.0)\",\"dash\":\"solid\",\"shape\":\"linear\",\"width\":1.3},\"marker\":{\"size\":2,\"symbol\":\"circle\"},\"mode\":\"markers\",\"name\":\"B\",\"text\":\"\",\"x\":[0.592132628370577,-1.1427568771274301,-0.6340122630191883,-0.7162128894182691,0.09739810390787935,0.09159611881467758,-0.9668463002828019,-0.6208334020410122,0.12874503109489555,-0.3596561372712881,0.39013837317684175,0.9707203746231453,-1.849471788872194,-1.670949123446992,1.3990752041954768,-0.433939139689318,-0.44752017505281094,-2.134491404043168,-0.8356207928281586,1.2669953059648416,-0.26364190278517186,-0.03972649984227558,0.4107706478872919,0.8034938604696944,0.1797430430969131,-0.6029878381334249,0.5453303115260123,-0.22849871488659848,0.19840671579042543,-0.20075469668443507,-0.23837820844984284,0.7077555147181938,0.10728535871855505,-0.5961065955304026,0.6295775324655841,-2.1430311045813575,0.6461484336873898,0.1217479112963839,1.6345095310518332,-0.9607835683541878,-1.0677335273474948,1.2161328243610878,-0.06674068289256456,0.8395283207223901,-1.0741861262618164,-0.34730099283237337,0.5659354167689368,0.9123036110964656,-0.4871189389482929,1.5582944789663065,-2.104414717884187,-1.9082807636805286,0.20519240993648347,0.5830341861711636,0.06267896143655838,-2.202683825879842,-1.0614936236398618,-1.013092636573165,-0.7470592116179434,-1.0199280229765049,0.9875061756283474,-2.1080306341987796,0.8070667330078221,0.9094431465761287,-1.7629120134717562,-0.15994707522962706,0.41276947219161814,0.8381114480287192,-1.3365096723779204,-1.6329883056871755,0.10627979251486216,0.02004657791238379,-1.3229626726102046,1.2801780728052166,0.8345055826164722,0.9721200944205621,0.37734462188478013,-0.3223044195608128,0.7967565028396203,-0.6224089678483244,0.5828942342989621,0.03016169618375698,-1.696574544826665,0.09590877733994138,-0.5127741879834149,0.4383379018298321,1.0826621642886225,1.0592007327193345,-0.5232893508862395,1.2627601225631901,0.6589175272897498,1.022280331965757,-1.8153529724872977,-1.0861166191335576,0.017399232226795285,-1.9794890106589242,-0.2894486848694927,0.4794857286596619,0.13405219599547738,-0.9641648355507442],\"xaxis\":\"x8\",\"y\":[0.34335976624785236,-0.5400241296111232,0.39625879311483636,-1.712841088113455,-0.07509142065935204,-0.73806711582396,0.3883007262086318,-0.5719092755359968,-0.4088347497306631,0.2421573678163824,-0.6529781799711727,0.38854787692263476,0.06453030726300012,-0.6988816243862073,1.3129702162264079,1.1771113015017993,-0.9700610592238458,1.1808244820001328,-1.478327479994,-0.46108336232059793,0.24491015346100684,-0.7318916215779915,-1.7148688047324678,0.5518859965500226,-0.9191779247410646,1.1985025549693435,2.5581128801469877,-0.7762150887891556,-1.549934782178811,0.05201663776978928,1.5232217714596588,-0.44708035980241534,-0.9086628778502828,-0.27525104215952567,-0.3577790202540434,0.4811753508335344,-0.5887451051233683,-1.294270125275922,0.8523861547501889,0.7381047196318503,1.0644322360476512,1.5967001236435843,0.82247172376917,-1.645808080381747,0.6857054299863742,-0.9009862391622963,-1.257234685603805,0.563120200391336,-0.9621725292323109,-0.5933983360655105,0.1284819007413659,-0.4240882124272642,1.1118812763090071,-1.9227848733315895,-0.419556595005051,1.5272854460120502,0.9102671180274021,0.6786808331841732,-0.42366626781453104,-1.1247464588926015,0.5004369031549727,-1.422643181814059,-0.06352335456872109,-0.6140831914140193,0.5603086977341717,1.474751693797127,1.6512484343980032,-1.0210150242509708,-0.7432289383819919,1.3875297294630236,-0.6514939869833749,1.4721881339131935,1.518432510112827,0.03638510312744503,0.7270871221481457,1.0793079148027827,0.4072592314941338,0.5823303662801511,0.2779238844720935,1.3057489297021347,0.07351712777696348,-0.8794259892692825,0.29982770281056553,-0.3416568949263266,3.458170678509682,0.058799135304265615,-0.3884328992504171,0.545514744824541,0.24141281219690586,-1.212419426084278,1.441259323038795,0.8503394918604567,-0.8204208120323783,0.21563670697344076,2.8069650295546076,1.5238759774181017,-0.6621926922073339,-1.060870331126299,-1.2805044081418444,-1.2349226572849306],\"yaxis\":\"y8\",\"type\":\"scatter\"},{\"line\":{\"color\":\"rgba(128, 128, 128, 1.0)\",\"dash\":\"solid\",\"shape\":\"linear\",\"width\":1.3},\"marker\":{\"size\":2,\"symbol\":\"circle\"},\"mode\":\"markers\",\"name\":\"C\",\"text\":\"\",\"x\":[-0.3828792050443604,-0.8470899644257714,0.010194864370989333,0.7301852076151661,2.0209176306324363,-1.5003016962844402,1.3118946476906856,-0.19669756499513247,-0.9076690966885811,-0.3237404643459652,0.637713854283272,-0.03454556326127818,0.7796925569817367,-1.4423716042022108,-2.5845985787359163,0.6619539111661311,-0.687009387052393,-0.07904947689258264,0.05497583547432276,-0.1251154272973603,1.4799840842985588,0.4823254913863216,-2.280333653758334,-0.7687965123125058,-1.9305826565370234,1.2028531218309138,0.11759314103585028,0.8219103216225514,-1.0600425527288615,-0.7924098829680032,0.591057506448477,0.010539468688751144,0.587916797008021,0.5345565463711455,0.23953843637909966,-1.3486453781610805,1.4539031141605863,-0.7434505578041772,-0.06974790232731734,-1.3438280814154056,0.15028835356929468,-0.10287723292446797,0.5337958367766493,-1.7910145450870145,-0.3528093066466839,0.28483534146724776,-0.2376793634250966,-1.1439375104416412,-1.6773681066280623,1.8838782542672348,1.0028758404607157,1.019052841097029,0.30651768295595916,0.4025551526198797,-0.8905919688553369,-1.382874757587919,-0.6816436627196745,0.03878334506085071,-1.3612397104403606,0.3197604660731154,-2.538319364008003,-1.2091878447993685,-0.5249346013368914,0.6692146290182188,-0.11840123236465151,0.8525194553867952,-0.6035975956715631,0.4283480479109968,0.9101749092891146,-0.8864024726325933,0.7775503744458712,-0.3116906590586294,-0.0789741170722278,-0.46571660288813044,-0.7366408087817952,-0.34057771638209616,1.4270333479578556,-0.0685312876711088,-2.590989928710988,0.54533421224908,-0.9316184663461683,-0.3357877632399068,-1.1004430354999835,-1.5112832772747995,0.9233033997807208,0.9248042476413013,0.23712657682615962,-1.7926116956644673,0.8262882219580409,0.41308190167379377,0.20507635069705696,1.1372928682815537,0.19672852705318208,1.032022543036123,-0.8498915495743655,-0.38007228545542127,-1.9829304093355187,0.05455520904456543,0.45889417897813106,-0.14456383999886627],\"xaxis\":\"x9\",\"y\":[0.2506092085793093,0.5210325936403227,1.239213358464694,-0.4466878782346689,-0.3822390633795185,-0.004193168373743429,0.31083507175692804,0.47014493079577385,-1.1556536917409108,-0.6757610308021511,-1.143836028015197,-0.8668866986037089,-3.1988150838934066,-0.7431034080655172,-0.40686358736988215,0.38817300614880124,-0.7249621219996307,1.1003757846228477,-0.3827825798596824,-1.9502233337660755,0.3165057808413265,0.6627391571225795,-0.3263229824933346,0.8285627583424173,0.9685477248448462,-2.9680823913015058,-1.4376379312345362,-1.7063194353908377,-0.27670004716137775,-0.5163377183768089,1.2437956186192953,0.35229549406432276,0.33258042113939507,-1.6057560516905556,0.44173661633579253,0.8191267704488735,0.05218990664378416,-0.18335279289604633,1.5162023789172292,-0.8833178708702997,1.3261569152294563,-0.11635473156903449,0.420635864279957,-0.9470924738177742,-0.43618797334177206,-0.42661623137309473,1.5416103231728577,-1.5596148002231116,0.01757030082496477,0.10140069671869259,1.5045891294248528,0.6902338347722542,1.4937463151241444,0.9002910845015439,0.5743890881715865,0.7562389480227537,-0.2001853168757039,-0.7157111539797419,-0.38765952959938493,-0.8572467787815908,0.2908470341192966,-0.9142824119313538,-0.3968746158328103,1.8688718784021316,-0.05217732449967453,1.4354670816758779,-1.0625152709489207,-0.5106587853056833,0.772057631583369,1.8018327650399475,-0.7958019648209217,2.006600168904022,-0.13292889152021703,0.32943355662723445,0.4108609828394416,2.0215940500491767,1.2016286063300015,1.3157545372633783,2.1135059883489045,2.19008158661078,-0.8143129683811934,0.23797298364722996,-1.6230732883970846,0.3084496100404266,0.4066710547761042,-0.4301381816226118,-1.491282679742187,-0.7552313272641786,-0.02249282109852578,0.020985550927711878,1.376036037255204,0.11425721932139542,-1.7920792205457143,-0.3136617620588843,0.9080291145166957,0.9552507049194106,-1.2999897780275405,-0.4293727950637242,0.21110400572437438,-0.23669025245583175],\"yaxis\":\"y9\",\"type\":\"scatter\"},{\"line\":{\"color\":\"rgba(128, 128, 128, 1.0)\",\"dash\":\"solid\",\"shape\":\"linear\",\"width\":1.3},\"marker\":{\"size\":2,\"symbol\":\"circle\"},\"mode\":\"markers\",\"name\":\"C\",\"text\":\"\",\"x\":[0.34335976624785236,-0.5400241296111232,0.39625879311483636,-1.712841088113455,-0.07509142065935204,-0.73806711582396,0.3883007262086318,-0.5719092755359968,-0.4088347497306631,0.2421573678163824,-0.6529781799711727,0.38854787692263476,0.06453030726300012,-0.6988816243862073,1.3129702162264079,1.1771113015017993,-0.9700610592238458,1.1808244820001328,-1.478327479994,-0.46108336232059793,0.24491015346100684,-0.7318916215779915,-1.7148688047324678,0.5518859965500226,-0.9191779247410646,1.1985025549693435,2.5581128801469877,-0.7762150887891556,-1.549934782178811,0.05201663776978928,1.5232217714596588,-0.44708035980241534,-0.9086628778502828,-0.27525104215952567,-0.3577790202540434,0.4811753508335344,-0.5887451051233683,-1.294270125275922,0.8523861547501889,0.7381047196318503,1.0644322360476512,1.5967001236435843,0.82247172376917,-1.645808080381747,0.6857054299863742,-0.9009862391622963,-1.257234685603805,0.563120200391336,-0.9621725292323109,-0.5933983360655105,0.1284819007413659,-0.4240882124272642,1.1118812763090071,-1.9227848733315895,-0.419556595005051,1.5272854460120502,0.9102671180274021,0.6786808331841732,-0.42366626781453104,-1.1247464588926015,0.5004369031549727,-1.422643181814059,-0.06352335456872109,-0.6140831914140193,0.5603086977341717,1.474751693797127,1.6512484343980032,-1.0210150242509708,-0.7432289383819919,1.3875297294630236,-0.6514939869833749,1.4721881339131935,1.518432510112827,0.03638510312744503,0.7270871221481457,1.0793079148027827,0.4072592314941338,0.5823303662801511,0.2779238844720935,1.3057489297021347,0.07351712777696348,-0.8794259892692825,0.29982770281056553,-0.3416568949263266,3.458170678509682,0.058799135304265615,-0.3884328992504171,0.545514744824541,0.24141281219690586,-1.212419426084278,1.441259323038795,0.8503394918604567,-0.8204208120323783,0.21563670697344076,2.8069650295546076,1.5238759774181017,-0.6621926922073339,-1.060870331126299,-1.2805044081418444,-1.2349226572849306],\"xaxis\":\"x10\",\"y\":[0.2506092085793093,0.5210325936403227,1.239213358464694,-0.4466878782346689,-0.3822390633795185,-0.004193168373743429,0.31083507175692804,0.47014493079577385,-1.1556536917409108,-0.6757610308021511,-1.143836028015197,-0.8668866986037089,-3.1988150838934066,-0.7431034080655172,-0.40686358736988215,0.38817300614880124,-0.7249621219996307,1.1003757846228477,-0.3827825798596824,-1.9502233337660755,0.3165057808413265,0.6627391571225795,-0.3263229824933346,0.8285627583424173,0.9685477248448462,-2.9680823913015058,-1.4376379312345362,-1.7063194353908377,-0.27670004716137775,-0.5163377183768089,1.2437956186192953,0.35229549406432276,0.33258042113939507,-1.6057560516905556,0.44173661633579253,0.8191267704488735,0.05218990664378416,-0.18335279289604633,1.5162023789172292,-0.8833178708702997,1.3261569152294563,-0.11635473156903449,0.420635864279957,-0.9470924738177742,-0.43618797334177206,-0.42661623137309473,1.5416103231728577,-1.5596148002231116,0.01757030082496477,0.10140069671869259,1.5045891294248528,0.6902338347722542,1.4937463151241444,0.9002910845015439,0.5743890881715865,0.7562389480227537,-0.2001853168757039,-0.7157111539797419,-0.38765952959938493,-0.8572467787815908,0.2908470341192966,-0.9142824119313538,-0.3968746158328103,1.8688718784021316,-0.05217732449967453,1.4354670816758779,-1.0625152709489207,-0.5106587853056833,0.772057631583369,1.8018327650399475,-0.7958019648209217,2.006600168904022,-0.13292889152021703,0.32943355662723445,0.4108609828394416,2.0215940500491767,1.2016286063300015,1.3157545372633783,2.1135059883489045,2.19008158661078,-0.8143129683811934,0.23797298364722996,-1.6230732883970846,0.3084496100404266,0.4066710547761042,-0.4301381816226118,-1.491282679742187,-0.7552313272641786,-0.02249282109852578,0.020985550927711878,1.376036037255204,0.11425721932139542,-1.7920792205457143,-0.3136617620588843,0.9080291145166957,0.9552507049194106,-1.2999897780275405,-0.4293727950637242,0.21110400572437438,-0.23669025245583175],\"yaxis\":\"y10\",\"type\":\"scatter\"},{\"histfunc\":\"count\",\"histnorm\":\"\",\"marker\":{\"color\":\"rgba(50, 171, 96, 1.0)\",\"line\":{\"color\":\"#4D5663\",\"width\":1.3}},\"name\":\"C\",\"nbinsx\":10,\"opacity\":0.8,\"orientation\":\"v\",\"x\":[0.2506092085793093,0.5210325936403227,1.239213358464694,-0.4466878782346689,-0.3822390633795185,-0.004193168373743429,0.31083507175692804,0.47014493079577385,-1.1556536917409108,-0.6757610308021511,-1.143836028015197,-0.8668866986037089,-3.1988150838934066,-0.7431034080655172,-0.40686358736988215,0.38817300614880124,-0.7249621219996307,1.1003757846228477,-0.3827825798596824,-1.9502233337660755,0.3165057808413265,0.6627391571225795,-0.3263229824933346,0.8285627583424173,0.9685477248448462,-2.9680823913015058,-1.4376379312345362,-1.7063194353908377,-0.27670004716137775,-0.5163377183768089,1.2437956186192953,0.35229549406432276,0.33258042113939507,-1.6057560516905556,0.44173661633579253,0.8191267704488735,0.05218990664378416,-0.18335279289604633,1.5162023789172292,-0.8833178708702997,1.3261569152294563,-0.11635473156903449,0.420635864279957,-0.9470924738177742,-0.43618797334177206,-0.42661623137309473,1.5416103231728577,-1.5596148002231116,0.01757030082496477,0.10140069671869259,1.5045891294248528,0.6902338347722542,1.4937463151241444,0.9002910845015439,0.5743890881715865,0.7562389480227537,-0.2001853168757039,-0.7157111539797419,-0.38765952959938493,-0.8572467787815908,0.2908470341192966,-0.9142824119313538,-0.3968746158328103,1.8688718784021316,-0.05217732449967453,1.4354670816758779,-1.0625152709489207,-0.5106587853056833,0.772057631583369,1.8018327650399475,-0.7958019648209217,2.006600168904022,-0.13292889152021703,0.32943355662723445,0.4108609828394416,2.0215940500491767,1.2016286063300015,1.3157545372633783,2.1135059883489045,2.19008158661078,-0.8143129683811934,0.23797298364722996,-1.6230732883970846,0.3084496100404266,0.4066710547761042,-0.4301381816226118,-1.491282679742187,-0.7552313272641786,-0.02249282109852578,0.020985550927711878,1.376036037255204,0.11425721932139542,-1.7920792205457143,-0.3136617620588843,0.9080291145166957,0.9552507049194106,-1.2999897780275405,-0.4293727950637242,0.21110400572437438,-0.23669025245583175],\"xaxis\":\"x11\",\"yaxis\":\"y11\",\"type\":\"histogram\"},{\"line\":{\"color\":\"rgba(128, 128, 128, 1.0)\",\"dash\":\"solid\",\"shape\":\"linear\",\"width\":1.3},\"marker\":{\"size\":2,\"symbol\":\"circle\"},\"mode\":\"markers\",\"name\":\"C\",\"text\":\"\",\"x\":[0.592132628370577,-1.1427568771274301,-0.6340122630191883,-0.7162128894182691,0.09739810390787935,0.09159611881467758,-0.9668463002828019,-0.6208334020410122,0.12874503109489555,-0.3596561372712881,0.39013837317684175,0.9707203746231453,-1.849471788872194,-1.670949123446992,1.3990752041954768,-0.433939139689318,-0.44752017505281094,-2.134491404043168,-0.8356207928281586,1.2669953059648416,-0.26364190278517186,-0.03972649984227558,0.4107706478872919,0.8034938604696944,0.1797430430969131,-0.6029878381334249,0.5453303115260123,-0.22849871488659848,0.19840671579042543,-0.20075469668443507,-0.23837820844984284,0.7077555147181938,0.10728535871855505,-0.5961065955304026,0.6295775324655841,-2.1430311045813575,0.6461484336873898,0.1217479112963839,1.6345095310518332,-0.9607835683541878,-1.0677335273474948,1.2161328243610878,-0.06674068289256456,0.8395283207223901,-1.0741861262618164,-0.34730099283237337,0.5659354167689368,0.9123036110964656,-0.4871189389482929,1.5582944789663065,-2.104414717884187,-1.9082807636805286,0.20519240993648347,0.5830341861711636,0.06267896143655838,-2.202683825879842,-1.0614936236398618,-1.013092636573165,-0.7470592116179434,-1.0199280229765049,0.9875061756283474,-2.1080306341987796,0.8070667330078221,0.9094431465761287,-1.7629120134717562,-0.15994707522962706,0.41276947219161814,0.8381114480287192,-1.3365096723779204,-1.6329883056871755,0.10627979251486216,0.02004657791238379,-1.3229626726102046,1.2801780728052166,0.8345055826164722,0.9721200944205621,0.37734462188478013,-0.3223044195608128,0.7967565028396203,-0.6224089678483244,0.5828942342989621,0.03016169618375698,-1.696574544826665,0.09590877733994138,-0.5127741879834149,0.4383379018298321,1.0826621642886225,1.0592007327193345,-0.5232893508862395,1.2627601225631901,0.6589175272897498,1.022280331965757,-1.8153529724872977,-1.0861166191335576,0.017399232226795285,-1.9794890106589242,-0.2894486848694927,0.4794857286596619,0.13405219599547738,-0.9641648355507442],\"xaxis\":\"x12\",\"y\":[0.2506092085793093,0.5210325936403227,1.239213358464694,-0.4466878782346689,-0.3822390633795185,-0.004193168373743429,0.31083507175692804,0.47014493079577385,-1.1556536917409108,-0.6757610308021511,-1.143836028015197,-0.8668866986037089,-3.1988150838934066,-0.7431034080655172,-0.40686358736988215,0.38817300614880124,-0.7249621219996307,1.1003757846228477,-0.3827825798596824,-1.9502233337660755,0.3165057808413265,0.6627391571225795,-0.3263229824933346,0.8285627583424173,0.9685477248448462,-2.9680823913015058,-1.4376379312345362,-1.7063194353908377,-0.27670004716137775,-0.5163377183768089,1.2437956186192953,0.35229549406432276,0.33258042113939507,-1.6057560516905556,0.44173661633579253,0.8191267704488735,0.05218990664378416,-0.18335279289604633,1.5162023789172292,-0.8833178708702997,1.3261569152294563,-0.11635473156903449,0.420635864279957,-0.9470924738177742,-0.43618797334177206,-0.42661623137309473,1.5416103231728577,-1.5596148002231116,0.01757030082496477,0.10140069671869259,1.5045891294248528,0.6902338347722542,1.4937463151241444,0.9002910845015439,0.5743890881715865,0.7562389480227537,-0.2001853168757039,-0.7157111539797419,-0.38765952959938493,-0.8572467787815908,0.2908470341192966,-0.9142824119313538,-0.3968746158328103,1.8688718784021316,-0.05217732449967453,1.4354670816758779,-1.0625152709489207,-0.5106587853056833,0.772057631583369,1.8018327650399475,-0.7958019648209217,2.006600168904022,-0.13292889152021703,0.32943355662723445,0.4108609828394416,2.0215940500491767,1.2016286063300015,1.3157545372633783,2.1135059883489045,2.19008158661078,-0.8143129683811934,0.23797298364722996,-1.6230732883970846,0.3084496100404266,0.4066710547761042,-0.4301381816226118,-1.491282679742187,-0.7552313272641786,-0.02249282109852578,0.020985550927711878,1.376036037255204,0.11425721932139542,-1.7920792205457143,-0.3136617620588843,0.9080291145166957,0.9552507049194106,-1.2999897780275405,-0.4293727950637242,0.21110400572437438,-0.23669025245583175],\"yaxis\":\"y12\",\"type\":\"scatter\"},{\"line\":{\"color\":\"rgba(128, 128, 128, 1.0)\",\"dash\":\"solid\",\"shape\":\"linear\",\"width\":1.3},\"marker\":{\"size\":2,\"symbol\":\"circle\"},\"mode\":\"markers\",\"name\":\"D\",\"text\":\"\",\"x\":[-0.3828792050443604,-0.8470899644257714,0.010194864370989333,0.7301852076151661,2.0209176306324363,-1.5003016962844402,1.3118946476906856,-0.19669756499513247,-0.9076690966885811,-0.3237404643459652,0.637713854283272,-0.03454556326127818,0.7796925569817367,-1.4423716042022108,-2.5845985787359163,0.6619539111661311,-0.687009387052393,-0.07904947689258264,0.05497583547432276,-0.1251154272973603,1.4799840842985588,0.4823254913863216,-2.280333653758334,-0.7687965123125058,-1.9305826565370234,1.2028531218309138,0.11759314103585028,0.8219103216225514,-1.0600425527288615,-0.7924098829680032,0.591057506448477,0.010539468688751144,0.587916797008021,0.5345565463711455,0.23953843637909966,-1.3486453781610805,1.4539031141605863,-0.7434505578041772,-0.06974790232731734,-1.3438280814154056,0.15028835356929468,-0.10287723292446797,0.5337958367766493,-1.7910145450870145,-0.3528093066466839,0.28483534146724776,-0.2376793634250966,-1.1439375104416412,-1.6773681066280623,1.8838782542672348,1.0028758404607157,1.019052841097029,0.30651768295595916,0.4025551526198797,-0.8905919688553369,-1.382874757587919,-0.6816436627196745,0.03878334506085071,-1.3612397104403606,0.3197604660731154,-2.538319364008003,-1.2091878447993685,-0.5249346013368914,0.6692146290182188,-0.11840123236465151,0.8525194553867952,-0.6035975956715631,0.4283480479109968,0.9101749092891146,-0.8864024726325933,0.7775503744458712,-0.3116906590586294,-0.0789741170722278,-0.46571660288813044,-0.7366408087817952,-0.34057771638209616,1.4270333479578556,-0.0685312876711088,-2.590989928710988,0.54533421224908,-0.9316184663461683,-0.3357877632399068,-1.1004430354999835,-1.5112832772747995,0.9233033997807208,0.9248042476413013,0.23712657682615962,-1.7926116956644673,0.8262882219580409,0.41308190167379377,0.20507635069705696,1.1372928682815537,0.19672852705318208,1.032022543036123,-0.8498915495743655,-0.38007228545542127,-1.9829304093355187,0.05455520904456543,0.45889417897813106,-0.14456383999886627],\"xaxis\":\"x13\",\"y\":[0.592132628370577,-1.1427568771274301,-0.6340122630191883,-0.7162128894182691,0.09739810390787935,0.09159611881467758,-0.9668463002828019,-0.6208334020410122,0.12874503109489555,-0.3596561372712881,0.39013837317684175,0.9707203746231453,-1.849471788872194,-1.670949123446992,1.3990752041954768,-0.433939139689318,-0.44752017505281094,-2.134491404043168,-0.8356207928281586,1.2669953059648416,-0.26364190278517186,-0.03972649984227558,0.4107706478872919,0.8034938604696944,0.1797430430969131,-0.6029878381334249,0.5453303115260123,-0.22849871488659848,0.19840671579042543,-0.20075469668443507,-0.23837820844984284,0.7077555147181938,0.10728535871855505,-0.5961065955304026,0.6295775324655841,-2.1430311045813575,0.6461484336873898,0.1217479112963839,1.6345095310518332,-0.9607835683541878,-1.0677335273474948,1.2161328243610878,-0.06674068289256456,0.8395283207223901,-1.0741861262618164,-0.34730099283237337,0.5659354167689368,0.9123036110964656,-0.4871189389482929,1.5582944789663065,-2.104414717884187,-1.9082807636805286,0.20519240993648347,0.5830341861711636,0.06267896143655838,-2.202683825879842,-1.0614936236398618,-1.013092636573165,-0.7470592116179434,-1.0199280229765049,0.9875061756283474,-2.1080306341987796,0.8070667330078221,0.9094431465761287,-1.7629120134717562,-0.15994707522962706,0.41276947219161814,0.8381114480287192,-1.3365096723779204,-1.6329883056871755,0.10627979251486216,0.02004657791238379,-1.3229626726102046,1.2801780728052166,0.8345055826164722,0.9721200944205621,0.37734462188478013,-0.3223044195608128,0.7967565028396203,-0.6224089678483244,0.5828942342989621,0.03016169618375698,-1.696574544826665,0.09590877733994138,-0.5127741879834149,0.4383379018298321,1.0826621642886225,1.0592007327193345,-0.5232893508862395,1.2627601225631901,0.6589175272897498,1.022280331965757,-1.8153529724872977,-1.0861166191335576,0.017399232226795285,-1.9794890106589242,-0.2894486848694927,0.4794857286596619,0.13405219599547738,-0.9641648355507442],\"yaxis\":\"y13\",\"type\":\"scatter\"},{\"line\":{\"color\":\"rgba(128, 128, 128, 1.0)\",\"dash\":\"solid\",\"shape\":\"linear\",\"width\":1.3},\"marker\":{\"size\":2,\"symbol\":\"circle\"},\"mode\":\"markers\",\"name\":\"D\",\"text\":\"\",\"x\":[0.34335976624785236,-0.5400241296111232,0.39625879311483636,-1.712841088113455,-0.07509142065935204,-0.73806711582396,0.3883007262086318,-0.5719092755359968,-0.4088347497306631,0.2421573678163824,-0.6529781799711727,0.38854787692263476,0.06453030726300012,-0.6988816243862073,1.3129702162264079,1.1771113015017993,-0.9700610592238458,1.1808244820001328,-1.478327479994,-0.46108336232059793,0.24491015346100684,-0.7318916215779915,-1.7148688047324678,0.5518859965500226,-0.9191779247410646,1.1985025549693435,2.5581128801469877,-0.7762150887891556,-1.549934782178811,0.05201663776978928,1.5232217714596588,-0.44708035980241534,-0.9086628778502828,-0.27525104215952567,-0.3577790202540434,0.4811753508335344,-0.5887451051233683,-1.294270125275922,0.8523861547501889,0.7381047196318503,1.0644322360476512,1.5967001236435843,0.82247172376917,-1.645808080381747,0.6857054299863742,-0.9009862391622963,-1.257234685603805,0.563120200391336,-0.9621725292323109,-0.5933983360655105,0.1284819007413659,-0.4240882124272642,1.1118812763090071,-1.9227848733315895,-0.419556595005051,1.5272854460120502,0.9102671180274021,0.6786808331841732,-0.42366626781453104,-1.1247464588926015,0.5004369031549727,-1.422643181814059,-0.06352335456872109,-0.6140831914140193,0.5603086977341717,1.474751693797127,1.6512484343980032,-1.0210150242509708,-0.7432289383819919,1.3875297294630236,-0.6514939869833749,1.4721881339131935,1.518432510112827,0.03638510312744503,0.7270871221481457,1.0793079148027827,0.4072592314941338,0.5823303662801511,0.2779238844720935,1.3057489297021347,0.07351712777696348,-0.8794259892692825,0.29982770281056553,-0.3416568949263266,3.458170678509682,0.058799135304265615,-0.3884328992504171,0.545514744824541,0.24141281219690586,-1.212419426084278,1.441259323038795,0.8503394918604567,-0.8204208120323783,0.21563670697344076,2.8069650295546076,1.5238759774181017,-0.6621926922073339,-1.060870331126299,-1.2805044081418444,-1.2349226572849306],\"xaxis\":\"x14\",\"y\":[0.592132628370577,-1.1427568771274301,-0.6340122630191883,-0.7162128894182691,0.09739810390787935,0.09159611881467758,-0.9668463002828019,-0.6208334020410122,0.12874503109489555,-0.3596561372712881,0.39013837317684175,0.9707203746231453,-1.849471788872194,-1.670949123446992,1.3990752041954768,-0.433939139689318,-0.44752017505281094,-2.134491404043168,-0.8356207928281586,1.2669953059648416,-0.26364190278517186,-0.03972649984227558,0.4107706478872919,0.8034938604696944,0.1797430430969131,-0.6029878381334249,0.5453303115260123,-0.22849871488659848,0.19840671579042543,-0.20075469668443507,-0.23837820844984284,0.7077555147181938,0.10728535871855505,-0.5961065955304026,0.6295775324655841,-2.1430311045813575,0.6461484336873898,0.1217479112963839,1.6345095310518332,-0.9607835683541878,-1.0677335273474948,1.2161328243610878,-0.06674068289256456,0.8395283207223901,-1.0741861262618164,-0.34730099283237337,0.5659354167689368,0.9123036110964656,-0.4871189389482929,1.5582944789663065,-2.104414717884187,-1.9082807636805286,0.20519240993648347,0.5830341861711636,0.06267896143655838,-2.202683825879842,-1.0614936236398618,-1.013092636573165,-0.7470592116179434,-1.0199280229765049,0.9875061756283474,-2.1080306341987796,0.8070667330078221,0.9094431465761287,-1.7629120134717562,-0.15994707522962706,0.41276947219161814,0.8381114480287192,-1.3365096723779204,-1.6329883056871755,0.10627979251486216,0.02004657791238379,-1.3229626726102046,1.2801780728052166,0.8345055826164722,0.9721200944205621,0.37734462188478013,-0.3223044195608128,0.7967565028396203,-0.6224089678483244,0.5828942342989621,0.03016169618375698,-1.696574544826665,0.09590877733994138,-0.5127741879834149,0.4383379018298321,1.0826621642886225,1.0592007327193345,-0.5232893508862395,1.2627601225631901,0.6589175272897498,1.022280331965757,-1.8153529724872977,-1.0861166191335576,0.017399232226795285,-1.9794890106589242,-0.2894486848694927,0.4794857286596619,0.13405219599547738,-0.9641648355507442],\"yaxis\":\"y14\",\"type\":\"scatter\"},{\"line\":{\"color\":\"rgba(128, 128, 128, 1.0)\",\"dash\":\"solid\",\"shape\":\"linear\",\"width\":1.3},\"marker\":{\"size\":2,\"symbol\":\"circle\"},\"mode\":\"markers\",\"name\":\"D\",\"text\":\"\",\"x\":[0.2506092085793093,0.5210325936403227,1.239213358464694,-0.4466878782346689,-0.3822390633795185,-0.004193168373743429,0.31083507175692804,0.47014493079577385,-1.1556536917409108,-0.6757610308021511,-1.143836028015197,-0.8668866986037089,-3.1988150838934066,-0.7431034080655172,-0.40686358736988215,0.38817300614880124,-0.7249621219996307,1.1003757846228477,-0.3827825798596824,-1.9502233337660755,0.3165057808413265,0.6627391571225795,-0.3263229824933346,0.8285627583424173,0.9685477248448462,-2.9680823913015058,-1.4376379312345362,-1.7063194353908377,-0.27670004716137775,-0.5163377183768089,1.2437956186192953,0.35229549406432276,0.33258042113939507,-1.6057560516905556,0.44173661633579253,0.8191267704488735,0.05218990664378416,-0.18335279289604633,1.5162023789172292,-0.8833178708702997,1.3261569152294563,-0.11635473156903449,0.420635864279957,-0.9470924738177742,-0.43618797334177206,-0.42661623137309473,1.5416103231728577,-1.5596148002231116,0.01757030082496477,0.10140069671869259,1.5045891294248528,0.6902338347722542,1.4937463151241444,0.9002910845015439,0.5743890881715865,0.7562389480227537,-0.2001853168757039,-0.7157111539797419,-0.38765952959938493,-0.8572467787815908,0.2908470341192966,-0.9142824119313538,-0.3968746158328103,1.8688718784021316,-0.05217732449967453,1.4354670816758779,-1.0625152709489207,-0.5106587853056833,0.772057631583369,1.8018327650399475,-0.7958019648209217,2.006600168904022,-0.13292889152021703,0.32943355662723445,0.4108609828394416,2.0215940500491767,1.2016286063300015,1.3157545372633783,2.1135059883489045,2.19008158661078,-0.8143129683811934,0.23797298364722996,-1.6230732883970846,0.3084496100404266,0.4066710547761042,-0.4301381816226118,-1.491282679742187,-0.7552313272641786,-0.02249282109852578,0.020985550927711878,1.376036037255204,0.11425721932139542,-1.7920792205457143,-0.3136617620588843,0.9080291145166957,0.9552507049194106,-1.2999897780275405,-0.4293727950637242,0.21110400572437438,-0.23669025245583175],\"xaxis\":\"x15\",\"y\":[0.592132628370577,-1.1427568771274301,-0.6340122630191883,-0.7162128894182691,0.09739810390787935,0.09159611881467758,-0.9668463002828019,-0.6208334020410122,0.12874503109489555,-0.3596561372712881,0.39013837317684175,0.9707203746231453,-1.849471788872194,-1.670949123446992,1.3990752041954768,-0.433939139689318,-0.44752017505281094,-2.134491404043168,-0.8356207928281586,1.2669953059648416,-0.26364190278517186,-0.03972649984227558,0.4107706478872919,0.8034938604696944,0.1797430430969131,-0.6029878381334249,0.5453303115260123,-0.22849871488659848,0.19840671579042543,-0.20075469668443507,-0.23837820844984284,0.7077555147181938,0.10728535871855505,-0.5961065955304026,0.6295775324655841,-2.1430311045813575,0.6461484336873898,0.1217479112963839,1.6345095310518332,-0.9607835683541878,-1.0677335273474948,1.2161328243610878,-0.06674068289256456,0.8395283207223901,-1.0741861262618164,-0.34730099283237337,0.5659354167689368,0.9123036110964656,-0.4871189389482929,1.5582944789663065,-2.104414717884187,-1.9082807636805286,0.20519240993648347,0.5830341861711636,0.06267896143655838,-2.202683825879842,-1.0614936236398618,-1.013092636573165,-0.7470592116179434,-1.0199280229765049,0.9875061756283474,-2.1080306341987796,0.8070667330078221,0.9094431465761287,-1.7629120134717562,-0.15994707522962706,0.41276947219161814,0.8381114480287192,-1.3365096723779204,-1.6329883056871755,0.10627979251486216,0.02004657791238379,-1.3229626726102046,1.2801780728052166,0.8345055826164722,0.9721200944205621,0.37734462188478013,-0.3223044195608128,0.7967565028396203,-0.6224089678483244,0.5828942342989621,0.03016169618375698,-1.696574544826665,0.09590877733994138,-0.5127741879834149,0.4383379018298321,1.0826621642886225,1.0592007327193345,-0.5232893508862395,1.2627601225631901,0.6589175272897498,1.022280331965757,-1.8153529724872977,-1.0861166191335576,0.017399232226795285,-1.9794890106589242,-0.2894486848694927,0.4794857286596619,0.13405219599547738,-0.9641648355507442],\"yaxis\":\"y15\",\"type\":\"scatter\"},{\"histfunc\":\"count\",\"histnorm\":\"\",\"marker\":{\"color\":\"rgba(128, 0, 128, 1.0)\",\"line\":{\"color\":\"#4D5663\",\"width\":1.3}},\"name\":\"D\",\"nbinsx\":10,\"opacity\":0.8,\"orientation\":\"v\",\"x\":[0.592132628370577,-1.1427568771274301,-0.6340122630191883,-0.7162128894182691,0.09739810390787935,0.09159611881467758,-0.9668463002828019,-0.6208334020410122,0.12874503109489555,-0.3596561372712881,0.39013837317684175,0.9707203746231453,-1.849471788872194,-1.670949123446992,1.3990752041954768,-0.433939139689318,-0.44752017505281094,-2.134491404043168,-0.8356207928281586,1.2669953059648416,-0.26364190278517186,-0.03972649984227558,0.4107706478872919,0.8034938604696944,0.1797430430969131,-0.6029878381334249,0.5453303115260123,-0.22849871488659848,0.19840671579042543,-0.20075469668443507,-0.23837820844984284,0.7077555147181938,0.10728535871855505,-0.5961065955304026,0.6295775324655841,-2.1430311045813575,0.6461484336873898,0.1217479112963839,1.6345095310518332,-0.9607835683541878,-1.0677335273474948,1.2161328243610878,-0.06674068289256456,0.8395283207223901,-1.0741861262618164,-0.34730099283237337,0.5659354167689368,0.9123036110964656,-0.4871189389482929,1.5582944789663065,-2.104414717884187,-1.9082807636805286,0.20519240993648347,0.5830341861711636,0.06267896143655838,-2.202683825879842,-1.0614936236398618,-1.013092636573165,-0.7470592116179434,-1.0199280229765049,0.9875061756283474,-2.1080306341987796,0.8070667330078221,0.9094431465761287,-1.7629120134717562,-0.15994707522962706,0.41276947219161814,0.8381114480287192,-1.3365096723779204,-1.6329883056871755,0.10627979251486216,0.02004657791238379,-1.3229626726102046,1.2801780728052166,0.8345055826164722,0.9721200944205621,0.37734462188478013,-0.3223044195608128,0.7967565028396203,-0.6224089678483244,0.5828942342989621,0.03016169618375698,-1.696574544826665,0.09590877733994138,-0.5127741879834149,0.4383379018298321,1.0826621642886225,1.0592007327193345,-0.5232893508862395,1.2627601225631901,0.6589175272897498,1.022280331965757,-1.8153529724872977,-1.0861166191335576,0.017399232226795285,-1.9794890106589242,-0.2894486848694927,0.4794857286596619,0.13405219599547738,-0.9641648355507442],\"xaxis\":\"x16\",\"yaxis\":\"y16\",\"type\":\"histogram\"}],                        {\"bargap\":0.02,\"legend\":{\"bgcolor\":\"#F5F6F9\",\"font\":{\"color\":\"#4D5663\"}},\"paper_bgcolor\":\"#F5F6F9\",\"plot_bgcolor\":\"#F5F6F9\",\"showlegend\":false,\"template\":{\"data\":{\"barpolar\":[{\"marker\":{\"line\":{\"color\":\"#E5ECF6\",\"width\":0.5},\"pattern\":{\"fillmode\":\"overlay\",\"size\":10,\"solidity\":0.2}},\"type\":\"barpolar\"}],\"bar\":[{\"error_x\":{\"color\":\"#2a3f5f\"},\"error_y\":{\"color\":\"#2a3f5f\"},\"marker\":{\"line\":{\"color\":\"#E5ECF6\",\"width\":0.5},\"pattern\":{\"fillmode\":\"overlay\",\"size\":10,\"solidity\":0.2}},\"type\":\"bar\"}],\"carpet\":[{\"aaxis\":{\"endlinecolor\":\"#2a3f5f\",\"gridcolor\":\"white\",\"linecolor\":\"white\",\"minorgridcolor\":\"white\",\"startlinecolor\":\"#2a3f5f\"},\"baxis\":{\"endlinecolor\":\"#2a3f5f\",\"gridcolor\":\"white\",\"linecolor\":\"white\",\"minorgridcolor\":\"white\",\"startlinecolor\":\"#2a3f5f\"},\"type\":\"carpet\"}],\"choropleth\":[{\"colorbar\":{\"outlinewidth\":0,\"ticks\":\"\"},\"type\":\"choropleth\"}],\"contourcarpet\":[{\"colorbar\":{\"outlinewidth\":0,\"ticks\":\"\"},\"type\":\"contourcarpet\"}],\"contour\":[{\"colorbar\":{\"outlinewidth\":0,\"ticks\":\"\"},\"colorscale\":[[0.0,\"#0d0887\"],[0.1111111111111111,\"#46039f\"],[0.2222222222222222,\"#7201a8\"],[0.3333333333333333,\"#9c179e\"],[0.4444444444444444,\"#bd3786\"],[0.5555555555555556,\"#d8576b\"],[0.6666666666666666,\"#ed7953\"],[0.7777777777777778,\"#fb9f3a\"],[0.8888888888888888,\"#fdca26\"],[1.0,\"#f0f921\"]],\"type\":\"contour\"}],\"heatmapgl\":[{\"colorbar\":{\"outlinewidth\":0,\"ticks\":\"\"},\"colorscale\":[[0.0,\"#0d0887\"],[0.1111111111111111,\"#46039f\"],[0.2222222222222222,\"#7201a8\"],[0.3333333333333333,\"#9c179e\"],[0.4444444444444444,\"#bd3786\"],[0.5555555555555556,\"#d8576b\"],[0.6666666666666666,\"#ed7953\"],[0.7777777777777778,\"#fb9f3a\"],[0.8888888888888888,\"#fdca26\"],[1.0,\"#f0f921\"]],\"type\":\"heatmapgl\"}],\"heatmap\":[{\"colorbar\":{\"outlinewidth\":0,\"ticks\":\"\"},\"colorscale\":[[0.0,\"#0d0887\"],[0.1111111111111111,\"#46039f\"],[0.2222222222222222,\"#7201a8\"],[0.3333333333333333,\"#9c179e\"],[0.4444444444444444,\"#bd3786\"],[0.5555555555555556,\"#d8576b\"],[0.6666666666666666,\"#ed7953\"],[0.7777777777777778,\"#fb9f3a\"],[0.8888888888888888,\"#fdca26\"],[1.0,\"#f0f921\"]],\"type\":\"heatmap\"}],\"histogram2dcontour\":[{\"colorbar\":{\"outlinewidth\":0,\"ticks\":\"\"},\"colorscale\":[[0.0,\"#0d0887\"],[0.1111111111111111,\"#46039f\"],[0.2222222222222222,\"#7201a8\"],[0.3333333333333333,\"#9c179e\"],[0.4444444444444444,\"#bd3786\"],[0.5555555555555556,\"#d8576b\"],[0.6666666666666666,\"#ed7953\"],[0.7777777777777778,\"#fb9f3a\"],[0.8888888888888888,\"#fdca26\"],[1.0,\"#f0f921\"]],\"type\":\"histogram2dcontour\"}],\"histogram2d\":[{\"colorbar\":{\"outlinewidth\":0,\"ticks\":\"\"},\"colorscale\":[[0.0,\"#0d0887\"],[0.1111111111111111,\"#46039f\"],[0.2222222222222222,\"#7201a8\"],[0.3333333333333333,\"#9c179e\"],[0.4444444444444444,\"#bd3786\"],[0.5555555555555556,\"#d8576b\"],[0.6666666666666666,\"#ed7953\"],[0.7777777777777778,\"#fb9f3a\"],[0.8888888888888888,\"#fdca26\"],[1.0,\"#f0f921\"]],\"type\":\"histogram2d\"}],\"histogram\":[{\"marker\":{\"pattern\":{\"fillmode\":\"overlay\",\"size\":10,\"solidity\":0.2}},\"type\":\"histogram\"}],\"mesh3d\":[{\"colorbar\":{\"outlinewidth\":0,\"ticks\":\"\"},\"type\":\"mesh3d\"}],\"parcoords\":[{\"line\":{\"colorbar\":{\"outlinewidth\":0,\"ticks\":\"\"}},\"type\":\"parcoords\"}],\"pie\":[{\"automargin\":true,\"type\":\"pie\"}],\"scatter3d\":[{\"line\":{\"colorbar\":{\"outlinewidth\":0,\"ticks\":\"\"}},\"marker\":{\"colorbar\":{\"outlinewidth\":0,\"ticks\":\"\"}},\"type\":\"scatter3d\"}],\"scattercarpet\":[{\"marker\":{\"colorbar\":{\"outlinewidth\":0,\"ticks\":\"\"}},\"type\":\"scattercarpet\"}],\"scattergeo\":[{\"marker\":{\"colorbar\":{\"outlinewidth\":0,\"ticks\":\"\"}},\"type\":\"scattergeo\"}],\"scattergl\":[{\"marker\":{\"colorbar\":{\"outlinewidth\":0,\"ticks\":\"\"}},\"type\":\"scattergl\"}],\"scattermapbox\":[{\"marker\":{\"colorbar\":{\"outlinewidth\":0,\"ticks\":\"\"}},\"type\":\"scattermapbox\"}],\"scatterpolargl\":[{\"marker\":{\"colorbar\":{\"outlinewidth\":0,\"ticks\":\"\"}},\"type\":\"scatterpolargl\"}],\"scatterpolar\":[{\"marker\":{\"colorbar\":{\"outlinewidth\":0,\"ticks\":\"\"}},\"type\":\"scatterpolar\"}],\"scatter\":[{\"marker\":{\"colorbar\":{\"outlinewidth\":0,\"ticks\":\"\"}},\"type\":\"scatter\"}],\"scatterternary\":[{\"marker\":{\"colorbar\":{\"outlinewidth\":0,\"ticks\":\"\"}},\"type\":\"scatterternary\"}],\"surface\":[{\"colorbar\":{\"outlinewidth\":0,\"ticks\":\"\"},\"colorscale\":[[0.0,\"#0d0887\"],[0.1111111111111111,\"#46039f\"],[0.2222222222222222,\"#7201a8\"],[0.3333333333333333,\"#9c179e\"],[0.4444444444444444,\"#bd3786\"],[0.5555555555555556,\"#d8576b\"],[0.6666666666666666,\"#ed7953\"],[0.7777777777777778,\"#fb9f3a\"],[0.8888888888888888,\"#fdca26\"],[1.0,\"#f0f921\"]],\"type\":\"surface\"}],\"table\":[{\"cells\":{\"fill\":{\"color\":\"#EBF0F8\"},\"line\":{\"color\":\"white\"}},\"header\":{\"fill\":{\"color\":\"#C8D4E3\"},\"line\":{\"color\":\"white\"}},\"type\":\"table\"}]},\"layout\":{\"annotationdefaults\":{\"arrowcolor\":\"#2a3f5f\",\"arrowhead\":0,\"arrowwidth\":1},\"autotypenumbers\":\"strict\",\"coloraxis\":{\"colorbar\":{\"outlinewidth\":0,\"ticks\":\"\"}},\"colorscale\":{\"diverging\":[[0,\"#8e0152\"],[0.1,\"#c51b7d\"],[0.2,\"#de77ae\"],[0.3,\"#f1b6da\"],[0.4,\"#fde0ef\"],[0.5,\"#f7f7f7\"],[0.6,\"#e6f5d0\"],[0.7,\"#b8e186\"],[0.8,\"#7fbc41\"],[0.9,\"#4d9221\"],[1,\"#276419\"]],\"sequential\":[[0.0,\"#0d0887\"],[0.1111111111111111,\"#46039f\"],[0.2222222222222222,\"#7201a8\"],[0.3333333333333333,\"#9c179e\"],[0.4444444444444444,\"#bd3786\"],[0.5555555555555556,\"#d8576b\"],[0.6666666666666666,\"#ed7953\"],[0.7777777777777778,\"#fb9f3a\"],[0.8888888888888888,\"#fdca26\"],[1.0,\"#f0f921\"]],\"sequentialminus\":[[0.0,\"#0d0887\"],[0.1111111111111111,\"#46039f\"],[0.2222222222222222,\"#7201a8\"],[0.3333333333333333,\"#9c179e\"],[0.4444444444444444,\"#bd3786\"],[0.5555555555555556,\"#d8576b\"],[0.6666666666666666,\"#ed7953\"],[0.7777777777777778,\"#fb9f3a\"],[0.8888888888888888,\"#fdca26\"],[1.0,\"#f0f921\"]]},\"colorway\":[\"#636efa\",\"#EF553B\",\"#00cc96\",\"#ab63fa\",\"#FFA15A\",\"#19d3f3\",\"#FF6692\",\"#B6E880\",\"#FF97FF\",\"#FECB52\"],\"font\":{\"color\":\"#2a3f5f\"},\"geo\":{\"bgcolor\":\"white\",\"lakecolor\":\"white\",\"landcolor\":\"#E5ECF6\",\"showlakes\":true,\"showland\":true,\"subunitcolor\":\"white\"},\"hoverlabel\":{\"align\":\"left\"},\"hovermode\":\"closest\",\"mapbox\":{\"style\":\"light\"},\"paper_bgcolor\":\"white\",\"plot_bgcolor\":\"#E5ECF6\",\"polar\":{\"angularaxis\":{\"gridcolor\":\"white\",\"linecolor\":\"white\",\"ticks\":\"\"},\"bgcolor\":\"#E5ECF6\",\"radialaxis\":{\"gridcolor\":\"white\",\"linecolor\":\"white\",\"ticks\":\"\"}},\"scene\":{\"xaxis\":{\"backgroundcolor\":\"#E5ECF6\",\"gridcolor\":\"white\",\"gridwidth\":2,\"linecolor\":\"white\",\"showbackground\":true,\"ticks\":\"\",\"zerolinecolor\":\"white\"},\"yaxis\":{\"backgroundcolor\":\"#E5ECF6\",\"gridcolor\":\"white\",\"gridwidth\":2,\"linecolor\":\"white\",\"showbackground\":true,\"ticks\":\"\",\"zerolinecolor\":\"white\"},\"zaxis\":{\"backgroundcolor\":\"#E5ECF6\",\"gridcolor\":\"white\",\"gridwidth\":2,\"linecolor\":\"white\",\"showbackground\":true,\"ticks\":\"\",\"zerolinecolor\":\"white\"}},\"shapedefaults\":{\"line\":{\"color\":\"#2a3f5f\"}},\"ternary\":{\"aaxis\":{\"gridcolor\":\"white\",\"linecolor\":\"white\",\"ticks\":\"\"},\"baxis\":{\"gridcolor\":\"white\",\"linecolor\":\"white\",\"ticks\":\"\"},\"bgcolor\":\"#E5ECF6\",\"caxis\":{\"gridcolor\":\"white\",\"linecolor\":\"white\",\"ticks\":\"\"}},\"title\":{\"x\":0.05},\"xaxis\":{\"automargin\":true,\"gridcolor\":\"white\",\"linecolor\":\"white\",\"ticks\":\"\",\"title\":{\"standoff\":15},\"zerolinecolor\":\"white\",\"zerolinewidth\":2},\"yaxis\":{\"automargin\":true,\"gridcolor\":\"white\",\"linecolor\":\"white\",\"ticks\":\"\",\"title\":{\"standoff\":15},\"zerolinecolor\":\"white\",\"zerolinewidth\":2}}},\"title\":{\"font\":{\"color\":\"#4D5663\"}},\"xaxis\":{\"anchor\":\"y\",\"domain\":[0.0,0.2125],\"gridcolor\":\"#E1E5ED\",\"showgrid\":false,\"tickfont\":{\"color\":\"#4D5663\"},\"title\":{\"font\":{\"color\":\"#4D5663\"},\"text\":\"\"},\"zerolinecolor\":\"#E1E5ED\"},\"yaxis\":{\"anchor\":\"x\",\"domain\":[0.8025,1.0],\"gridcolor\":\"#E1E5ED\",\"showgrid\":false,\"tickfont\":{\"color\":\"#4D5663\"},\"title\":{\"font\":{\"color\":\"#4D5663\"},\"text\":\"\"},\"zerolinecolor\":\"#E1E5ED\"},\"xaxis2\":{\"anchor\":\"y2\",\"domain\":[0.2625,0.475],\"gridcolor\":\"#E1E5ED\",\"showgrid\":false,\"tickfont\":{\"color\":\"#4D5663\"},\"title\":{\"font\":{\"color\":\"#4D5663\"},\"text\":\"\"},\"zerolinecolor\":\"#E1E5ED\"},\"yaxis2\":{\"anchor\":\"x2\",\"domain\":[0.8025,1.0],\"gridcolor\":\"#E1E5ED\",\"showgrid\":false,\"tickfont\":{\"color\":\"#4D5663\"},\"title\":{\"font\":{\"color\":\"#4D5663\"},\"text\":\"\"},\"zerolinecolor\":\"#E1E5ED\"},\"xaxis3\":{\"anchor\":\"y3\",\"domain\":[0.525,0.7375],\"gridcolor\":\"#E1E5ED\",\"showgrid\":false,\"tickfont\":{\"color\":\"#4D5663\"},\"title\":{\"font\":{\"color\":\"#4D5663\"},\"text\":\"\"},\"zerolinecolor\":\"#E1E5ED\"},\"yaxis3\":{\"anchor\":\"x3\",\"domain\":[0.8025,1.0],\"gridcolor\":\"#E1E5ED\",\"showgrid\":false,\"tickfont\":{\"color\":\"#4D5663\"},\"title\":{\"font\":{\"color\":\"#4D5663\"},\"text\":\"\"},\"zerolinecolor\":\"#E1E5ED\"},\"xaxis4\":{\"anchor\":\"y4\",\"domain\":[0.7875,1.0],\"gridcolor\":\"#E1E5ED\",\"showgrid\":false,\"tickfont\":{\"color\":\"#4D5663\"},\"title\":{\"font\":{\"color\":\"#4D5663\"},\"text\":\"\"},\"zerolinecolor\":\"#E1E5ED\"},\"yaxis4\":{\"anchor\":\"x4\",\"domain\":[0.8025,1.0],\"gridcolor\":\"#E1E5ED\",\"showgrid\":false,\"tickfont\":{\"color\":\"#4D5663\"},\"title\":{\"font\":{\"color\":\"#4D5663\"},\"text\":\"\"},\"zerolinecolor\":\"#E1E5ED\"},\"xaxis5\":{\"anchor\":\"y5\",\"domain\":[0.0,0.2125],\"gridcolor\":\"#E1E5ED\",\"showgrid\":false,\"tickfont\":{\"color\":\"#4D5663\"},\"title\":{\"font\":{\"color\":\"#4D5663\"},\"text\":\"\"},\"zerolinecolor\":\"#E1E5ED\"},\"yaxis5\":{\"anchor\":\"x5\",\"domain\":[0.535,0.7325],\"gridcolor\":\"#E1E5ED\",\"showgrid\":false,\"tickfont\":{\"color\":\"#4D5663\"},\"title\":{\"font\":{\"color\":\"#4D5663\"},\"text\":\"\"},\"zerolinecolor\":\"#E1E5ED\"},\"xaxis6\":{\"anchor\":\"y6\",\"domain\":[0.2625,0.475],\"gridcolor\":\"#E1E5ED\",\"showgrid\":false,\"tickfont\":{\"color\":\"#4D5663\"},\"title\":{\"font\":{\"color\":\"#4D5663\"},\"text\":\"\"},\"zerolinecolor\":\"#E1E5ED\"},\"yaxis6\":{\"anchor\":\"x6\",\"domain\":[0.535,0.7325],\"gridcolor\":\"#E1E5ED\",\"showgrid\":false,\"tickfont\":{\"color\":\"#4D5663\"},\"title\":{\"font\":{\"color\":\"#4D5663\"},\"text\":\"\"},\"zerolinecolor\":\"#E1E5ED\"},\"xaxis7\":{\"anchor\":\"y7\",\"domain\":[0.525,0.7375],\"gridcolor\":\"#E1E5ED\",\"showgrid\":false,\"tickfont\":{\"color\":\"#4D5663\"},\"title\":{\"font\":{\"color\":\"#4D5663\"},\"text\":\"\"},\"zerolinecolor\":\"#E1E5ED\"},\"yaxis7\":{\"anchor\":\"x7\",\"domain\":[0.535,0.7325],\"gridcolor\":\"#E1E5ED\",\"showgrid\":false,\"tickfont\":{\"color\":\"#4D5663\"},\"title\":{\"font\":{\"color\":\"#4D5663\"},\"text\":\"\"},\"zerolinecolor\":\"#E1E5ED\"},\"xaxis8\":{\"anchor\":\"y8\",\"domain\":[0.7875,1.0],\"gridcolor\":\"#E1E5ED\",\"showgrid\":false,\"tickfont\":{\"color\":\"#4D5663\"},\"title\":{\"font\":{\"color\":\"#4D5663\"},\"text\":\"\"},\"zerolinecolor\":\"#E1E5ED\"},\"yaxis8\":{\"anchor\":\"x8\",\"domain\":[0.535,0.7325],\"gridcolor\":\"#E1E5ED\",\"showgrid\":false,\"tickfont\":{\"color\":\"#4D5663\"},\"title\":{\"font\":{\"color\":\"#4D5663\"},\"text\":\"\"},\"zerolinecolor\":\"#E1E5ED\"},\"xaxis9\":{\"anchor\":\"y9\",\"domain\":[0.0,0.2125],\"gridcolor\":\"#E1E5ED\",\"showgrid\":false,\"tickfont\":{\"color\":\"#4D5663\"},\"title\":{\"font\":{\"color\":\"#4D5663\"},\"text\":\"\"},\"zerolinecolor\":\"#E1E5ED\"},\"yaxis9\":{\"anchor\":\"x9\",\"domain\":[0.2675,0.465],\"gridcolor\":\"#E1E5ED\",\"showgrid\":false,\"tickfont\":{\"color\":\"#4D5663\"},\"title\":{\"font\":{\"color\":\"#4D5663\"},\"text\":\"\"},\"zerolinecolor\":\"#E1E5ED\"},\"xaxis10\":{\"anchor\":\"y10\",\"domain\":[0.2625,0.475],\"gridcolor\":\"#E1E5ED\",\"showgrid\":false,\"tickfont\":{\"color\":\"#4D5663\"},\"title\":{\"font\":{\"color\":\"#4D5663\"},\"text\":\"\"},\"zerolinecolor\":\"#E1E5ED\"},\"yaxis10\":{\"anchor\":\"x10\",\"domain\":[0.2675,0.465],\"gridcolor\":\"#E1E5ED\",\"showgrid\":false,\"tickfont\":{\"color\":\"#4D5663\"},\"title\":{\"font\":{\"color\":\"#4D5663\"},\"text\":\"\"},\"zerolinecolor\":\"#E1E5ED\"},\"xaxis11\":{\"anchor\":\"y11\",\"domain\":[0.525,0.7375],\"gridcolor\":\"#E1E5ED\",\"showgrid\":false,\"tickfont\":{\"color\":\"#4D5663\"},\"title\":{\"font\":{\"color\":\"#4D5663\"},\"text\":\"\"},\"zerolinecolor\":\"#E1E5ED\"},\"yaxis11\":{\"anchor\":\"x11\",\"domain\":[0.2675,0.465],\"gridcolor\":\"#E1E5ED\",\"showgrid\":false,\"tickfont\":{\"color\":\"#4D5663\"},\"title\":{\"font\":{\"color\":\"#4D5663\"},\"text\":\"\"},\"zerolinecolor\":\"#E1E5ED\"},\"xaxis12\":{\"anchor\":\"y12\",\"domain\":[0.7875,1.0],\"gridcolor\":\"#E1E5ED\",\"showgrid\":false,\"tickfont\":{\"color\":\"#4D5663\"},\"title\":{\"font\":{\"color\":\"#4D5663\"},\"text\":\"\"},\"zerolinecolor\":\"#E1E5ED\"},\"yaxis12\":{\"anchor\":\"x12\",\"domain\":[0.2675,0.465],\"gridcolor\":\"#E1E5ED\",\"showgrid\":false,\"tickfont\":{\"color\":\"#4D5663\"},\"title\":{\"font\":{\"color\":\"#4D5663\"},\"text\":\"\"},\"zerolinecolor\":\"#E1E5ED\"},\"xaxis13\":{\"anchor\":\"y13\",\"domain\":[0.0,0.2125],\"gridcolor\":\"#E1E5ED\",\"showgrid\":false,\"tickfont\":{\"color\":\"#4D5663\"},\"title\":{\"font\":{\"color\":\"#4D5663\"},\"text\":\"\"},\"zerolinecolor\":\"#E1E5ED\"},\"yaxis13\":{\"anchor\":\"x13\",\"domain\":[0.0,0.1975],\"gridcolor\":\"#E1E5ED\",\"showgrid\":false,\"tickfont\":{\"color\":\"#4D5663\"},\"title\":{\"font\":{\"color\":\"#4D5663\"},\"text\":\"\"},\"zerolinecolor\":\"#E1E5ED\"},\"xaxis14\":{\"anchor\":\"y14\",\"domain\":[0.2625,0.475],\"gridcolor\":\"#E1E5ED\",\"showgrid\":false,\"tickfont\":{\"color\":\"#4D5663\"},\"title\":{\"font\":{\"color\":\"#4D5663\"},\"text\":\"\"},\"zerolinecolor\":\"#E1E5ED\"},\"yaxis14\":{\"anchor\":\"x14\",\"domain\":[0.0,0.1975],\"gridcolor\":\"#E1E5ED\",\"showgrid\":false,\"tickfont\":{\"color\":\"#4D5663\"},\"title\":{\"font\":{\"color\":\"#4D5663\"},\"text\":\"\"},\"zerolinecolor\":\"#E1E5ED\"},\"xaxis15\":{\"anchor\":\"y15\",\"domain\":[0.525,0.7375],\"gridcolor\":\"#E1E5ED\",\"showgrid\":false,\"tickfont\":{\"color\":\"#4D5663\"},\"title\":{\"font\":{\"color\":\"#4D5663\"},\"text\":\"\"},\"zerolinecolor\":\"#E1E5ED\"},\"yaxis15\":{\"anchor\":\"x15\",\"domain\":[0.0,0.1975],\"gridcolor\":\"#E1E5ED\",\"showgrid\":false,\"tickfont\":{\"color\":\"#4D5663\"},\"title\":{\"font\":{\"color\":\"#4D5663\"},\"text\":\"\"},\"zerolinecolor\":\"#E1E5ED\"},\"xaxis16\":{\"anchor\":\"y16\",\"domain\":[0.7875,1.0],\"gridcolor\":\"#E1E5ED\",\"showgrid\":false,\"tickfont\":{\"color\":\"#4D5663\"},\"title\":{\"font\":{\"color\":\"#4D5663\"},\"text\":\"\"},\"zerolinecolor\":\"#E1E5ED\"},\"yaxis16\":{\"anchor\":\"x16\",\"domain\":[0.0,0.1975],\"gridcolor\":\"#E1E5ED\",\"showgrid\":false,\"tickfont\":{\"color\":\"#4D5663\"},\"title\":{\"font\":{\"color\":\"#4D5663\"},\"text\":\"\"},\"zerolinecolor\":\"#E1E5ED\"}},                        {\"showLink\": true, \"linkText\": \"Export to plot.ly\", \"plotlyServerURL\": \"https://plot.ly\", \"responsive\": true}                    ).then(function(){\n",
       "                            \n",
       "var gd = document.getElementById('e78dc9d8-6d1c-4867-bbfe-55b206317339');\n",
       "var x = new MutationObserver(function (mutations, observer) {{\n",
       "        var display = window.getComputedStyle(gd).display;\n",
       "        if (!display || display === 'none') {{\n",
       "            console.log([gd, 'removed!']);\n",
       "            Plotly.purge(gd);\n",
       "            observer.disconnect();\n",
       "        }}\n",
       "}});\n",
       "\n",
       "// Listen for the removal of the full notebook cells\n",
       "var notebookContainer = gd.closest('#notebook-container');\n",
       "if (notebookContainer) {{\n",
       "    x.observe(notebookContainer, {childList: true});\n",
       "}}\n",
       "\n",
       "// Listen for the clearing of the current output cell\n",
       "var outputEl = gd.closest('.output');\n",
       "if (outputEl) {{\n",
       "    x.observe(outputEl, {childList: true});\n",
       "}}\n",
       "\n",
       "                        })                };                });            </script>        </div>"
      ]
     },
     "metadata": {},
     "output_type": "display_data"
    }
   ],
   "source": [
    "df1.scatter_matrix()"
   ]
  }
 ],
 "metadata": {
  "kernelspec": {
   "display_name": "Python 3 (ipykernel)",
   "language": "python",
   "name": "python3"
  },
  "language_info": {
   "codemirror_mode": {
    "name": "ipython",
    "version": 3
   },
   "file_extension": ".py",
   "mimetype": "text/x-python",
   "name": "python",
   "nbconvert_exporter": "python",
   "pygments_lexer": "ipython3",
   "version": "3.9.12"
  }
 },
 "nbformat": 4,
 "nbformat_minor": 5
}
